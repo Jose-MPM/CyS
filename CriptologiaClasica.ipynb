{
  "nbformat": 4,
  "nbformat_minor": 0,
  "metadata": {
    "colab": {
      "provenance": []
    },
    "kernelspec": {
      "name": "python3",
      "display_name": "Python 3"
    },
    "language_info": {
      "name": "python"
    }
  },
  "cells": [
    {
      "cell_type": "markdown",
      "source": [
        "#  CRIPTOLOGÍA CLASICA\n",
        "\n",
        "---\n",
        "\n"
      ],
      "metadata": {
        "id": "PJhoBlzXRkWo"
      }
    },
    {
      "cell_type": "code",
      "execution_count": null,
      "metadata": {
        "id": "g-Ak1r7_j74u",
        "colab": {
          "base_uri": "https://localhost:8080/"
        },
        "outputId": "437a2eaf-aae8-4df2-91b4-c591697a253d"
      },
      "outputs": [
        {
          "output_type": "stream",
          "name": "stdout",
          "text": [
            "Kary : ['6', '13', '1', '9']\n",
            "Raul : ['7', '2', '11']\n",
            "Diego : ['4', '10', '8']\n",
            "José : ['3', '5', '12']\n"
          ]
        }
      ],
      "source": [
        "import random\n",
        "\n",
        "ejercicios = ['1',\n",
        "              '2',\n",
        "              '3',\n",
        "              '4',\n",
        "              '5',\n",
        "              '6',\n",
        "              '7',\n",
        "              '8',\n",
        "              '9',\n",
        "              '10',\n",
        "              '11',\n",
        "              '12',\n",
        "              '13']\n",
        "personas = ['Kary', 'Raul', 'Diego', 'José']\n",
        "\n",
        "random.shuffle(ejercicios)  # mezcla aleatoriamente la lista de tareas\n",
        "\n",
        "# asigna ejercicios a personas\n",
        "asignaciones = {}\n",
        "for i, tarea in enumerate(ejercicios):\n",
        "    persona = personas[i % len(personas)]  # cicla a través de la lista de personas\n",
        "    if persona not in asignaciones:\n",
        "        asignaciones[persona] = []\n",
        "    asignaciones[persona].append(tarea)\n",
        "\n",
        "# imprime las asignaciones\n",
        "for persona, ejercicios in asignaciones.items():\n",
        "    print(persona, ':', ejercicios)"
      ]
    },
    {
      "cell_type": "markdown",
      "source": [
        "### Primer resultado\n",
        "\n",
        "\n",
        "Kary : ['6', '13', '1', '9']\n",
        "\n",
        "Raul : ['7', '2', '11']\n",
        "\n",
        "Diego : ['4', '10', '8']\n",
        "\n",
        "José : ['3', '5', '12']\n"
      ],
      "metadata": {
        "id": "7Zc9KMsnKZd5"
      }
    },
    {
      "cell_type": "markdown",
      "source": [
        "## Integrantes del DREAM TEAM:\n",
        "\n",
        "- [**Azpeitia García Karyme**](https://github.com/Kary-AG) - 317340385\n",
        "- [**Martínez Damaso Raúl Eduardo**](https://github.com/RaulMartinez04) - 316155063\n",
        "- [**Pedro Méndez José Manuel**](https://github.com/Jose-MPM) - 315073120\n",
        "- [**Zamora Cruz Diego Arturo**](https://github.com/diegodgl10) - 316249560"
      ],
      "metadata": {
        "id": "MMAhJ17uRA3V"
      }
    },
    {
      "cell_type": "code",
      "execution_count": null,
      "metadata": {
        "colab": {
          "base_uri": "https://localhost:8080/"
        },
        "id": "2nppTIKjO12i",
        "outputId": "c3b191c9-187a-4337-d844-355a981119b4"
      },
      "outputs": [
        {
          "output_type": "stream",
          "name": "stdout",
          "text": [
            "Llave del cifrado:  DF CH\n",
            "Por cifrar:  MI SUPERPODER COMO ESTUDIANTE ES DORMIR TRES HORAS Y ESTAR LECHUGA COMO FRESCO\n"
          ]
        }
      ],
      "source": [
        "import math\n",
        "import numpy as np\n",
        "from sympy import Matrix\n",
        "\n",
        "# Definir el alfabeto\n",
        "\n",
        "alfabeto = 'ABCDEFGHIJKLMNOPQRSTUVWXYZ'\n",
        "\n",
        "# Definir la matriz clave\n",
        "clave = np.array([[3, 5], [2, 7]])\n",
        "\n",
        "llave = alfabeto[clave[0][0]] + alfabeto[clave[0][1]] + \" \" + alfabeto[clave[1][0]] + alfabeto[clave[1][1]]\n",
        "\n",
        "# Llave del cifrado\n",
        "print(\"Llave del cifrado: \", llave)\n",
        "\n",
        "# Frase a cifrar\n",
        "frase = \"MI SUPERPODER COMO ESTUDIANTE ES DORMIR TRES HORAS Y ESTAR LECHUGA COMO FRESCO\"\n",
        "print(\"Por cifrar: \",frase)"
      ]
    },
    {
      "cell_type": "markdown",
      "source": [
        "### Dividir los bloques numéricos en grupos de 2, para poder aplicar la matriz clave. Si es necesario, agregar un bloque adicional de 0 para que el total de bloques sea par:"
      ],
      "metadata": {
        "id": "qZDpJc3HR_cU"
      }
    },
    {
      "cell_type": "code",
      "source": [
        "# Convertir el mensaje en una matriz de bloques numéricos\n",
        "def bloques(mensaje):\n",
        "    bloques = []\n",
        "    for letra in mensaje:\n",
        "        if letra.isalpha():\n",
        "            bloque = ord(letra.lower()) - 97 # Convertir a un número entre 0 y 25\n",
        "            bloques.append(bloque)\n",
        "    if len(bloques) % 2 != 0: # Agregar un bloque adicional si el número de bloques es impar\n",
        "        bloques.append(23) # Letra 'x' para el bloque adicional\n",
        "    bloques = np.array(bloques).reshape(-1, 2) # Convertir a matriz de bloques numéricos\n",
        "    # print(bloques)\n",
        "    return bloques\n",
        "\n",
        "bloques(frase)"
      ],
      "metadata": {
        "colab": {
          "base_uri": "https://localhost:8080/"
        },
        "id": "NvSWwNhrSKiT",
        "outputId": "ac00b84b-4dce-47b3-a7de-e4b63b721408"
      },
      "execution_count": null,
      "outputs": [
        {
          "output_type": "execute_result",
          "data": {
            "text/plain": [
              "array([[12,  8],\n",
              "       [18, 20],\n",
              "       [15,  4],\n",
              "       [17, 15],\n",
              "       [14,  3],\n",
              "       [ 4, 17],\n",
              "       [ 2, 14],\n",
              "       [12, 14],\n",
              "       [ 4, 18],\n",
              "       [19, 20],\n",
              "       [ 3,  8],\n",
              "       [ 0, 13],\n",
              "       [19,  4],\n",
              "       [ 4, 18],\n",
              "       [ 3, 14],\n",
              "       [17, 12],\n",
              "       [ 8, 17],\n",
              "       [19, 17],\n",
              "       [ 4, 18],\n",
              "       [ 7, 14],\n",
              "       [17,  0],\n",
              "       [18, 24],\n",
              "       [ 4, 18],\n",
              "       [19,  0],\n",
              "       [17, 11],\n",
              "       [ 4,  2],\n",
              "       [ 7, 20],\n",
              "       [ 6,  0],\n",
              "       [ 2, 14],\n",
              "       [12, 14],\n",
              "       [ 5, 17],\n",
              "       [ 4, 18],\n",
              "       [ 2, 14]])"
            ]
          },
          "metadata": {},
          "execution_count": 9
        }
      ]
    },
    {
      "cell_type": "markdown",
      "source": [
        "### Cifrar cada par de bloques numéricos con la matriz clave\n",
        "\n",
        "Recordemos que nuestra matriz esta dada por: $$\\begin{bmatrix}\n",
        "3 & 5 \\\\\n",
        "2 & 7\n",
        "\\end{bmatrix}$$ por lo qué $\\alpha=3,β=5, \\gamma=2$ y $\\delta=7$."
      ],
      "metadata": {
        "id": "l8UbBZp6Ths8"
      }
    },
    {
      "cell_type": "code",
      "source": [
        "bl = bloques(frase)\n",
        "def cifrado(bloques, clave):\n",
        "\n",
        "    mensaje_cifrado = \"Mensaje cifrado: \"\n",
        "    resultado = []\n",
        "    for pareja in bloques:\n",
        "        auxA = pareja[0]*clave[0][0] + pareja[1]*clave[0][1]\n",
        "        auxB = pareja[0]*clave[1][0] + pareja[1]*clave[1][1]\n",
        "        pareja = [auxA % 26, auxB % 26]\n",
        "        mensaje_cifrado += alfabeto[auxA % 26] + alfabeto[auxB % 26] + \" \"\n",
        "        resultado.append(pareja)\n",
        "    print(mensaje_cifrado)\n",
        "    return resultado\n",
        "\n",
        "\n",
        "cifrado(bl, clave)"
      ],
      "metadata": {
        "id": "uxNnuPQRpB3z",
        "colab": {
          "base_uri": "https://localhost:8080/"
        },
        "outputId": "db29b20a-0d57-4bf5-fce8-5f3847587fd6"
      },
      "execution_count": null,
      "outputs": [
        {
          "output_type": "stream",
          "name": "stdout",
          "text": [
            "Mensaje cifrado: YC YU NG WJ FX TX YY CS YE BW XK NN ZO YE BA HO FF MB YE NI ZI SW YE FM CH WW RY SM YY CS WZ YE YY \n"
          ]
        },
        {
          "output_type": "execute_result",
          "data": {
            "text/plain": [
              "[[24, 2],\n",
              " [24, 20],\n",
              " [13, 6],\n",
              " [22, 9],\n",
              " [5, 23],\n",
              " [19, 23],\n",
              " [24, 24],\n",
              " [2, 18],\n",
              " [24, 4],\n",
              " [1, 22],\n",
              " [23, 10],\n",
              " [13, 13],\n",
              " [25, 14],\n",
              " [24, 4],\n",
              " [1, 0],\n",
              " [7, 14],\n",
              " [5, 5],\n",
              " [12, 1],\n",
              " [24, 4],\n",
              " [13, 8],\n",
              " [25, 8],\n",
              " [18, 22],\n",
              " [24, 4],\n",
              " [5, 12],\n",
              " [2, 7],\n",
              " [22, 22],\n",
              " [17, 24],\n",
              " [18, 12],\n",
              " [24, 24],\n",
              " [2, 18],\n",
              " [22, 25],\n",
              " [24, 4],\n",
              " [24, 24]]"
            ]
          },
          "metadata": {},
          "execution_count": 10
        }
      ]
    },
    {
      "cell_type": "markdown",
      "source": [
        "## 3."
      ],
      "metadata": {
        "id": "wEAjDWng4U4y"
      }
    },
    {
      "cell_type": "code",
      "source": [
        "!pip3 install unidecode # only use the first time\n",
        "from unidecode import unidecode\n",
        "\n",
        "input = \"ES IMPOSIBLE TENER TODO BAJO CONTROL, TENEMOS QUE DARNOS CUENTA QUE PENSAR DEMASIADO EN EL FUTURO PUEDE LLEVAR A IMAGINARNOS SITUACIONES Y PROBLEMAS QUE PUEDEN NO EXISTIR, TODO ESTO CONDUCE A LA ANSIEDAD, EL QUE SUFRE ANTES DE QUE SEA NECESARIO, SUFRE MÁS DE LO NECESARIO. PERO SI QUIERES REALIZAR ALGO NO HAY MÁS QUE CONFÍAR EN TU VERSIÓN DE TI QUE DA LO MEJOR DE SÍ PARA OBTENER ESO QUE QUIRES, TUS METAS Y TUS SUEÑOS, PERO TAMBIEN ES IMPORTARTE PERDONARTE, EN ESTA VIDA VIENES A CAGARLA, en el en el momento que vienes a cagarla y te perdonas todo fluye tan facil, mirate al espejo y dite que estas guapo, si no te lo dices tu, nadie te la va a creer, recuerda que la confianza no es mágica, no es innata y no es inalcanzable, es una habilidad, lo que significa que se puede aprender sin embargo, la confianza es una habilidad dentro de las habilidades por lo que la confianza viene cuando aprendes a confiar en ti mismo, crece cuando aprendes a gestionar tus emociones, cuando te conviertes en un mejor comunicador, cuando desarrollas una mentalidad implacable y para ello debemos aprender a manejar tus emociones, porque si no lo haces siempre serás víctima de las circunstancias de la vida, las bolas curvas desagradables que te envían a ti y a la gente que te rodea. También aprende a comunicarte. Así es como consigues que la gente confíe en ti y se deje influir por ti. Y busca una mentalidad implacable, se trata de confiar en que tienes la capacidad de ver las cosas a través de, ya que no se trata de negociar contigo y justificar todas las cosas que haces mal, porque somos maquinitas de narrativas, para cualquier cosa, nos creamos una historia que justifique lo que hacemos, pero, realmente no hacemos lo que queremos hacer ya que somos productos del contexto y este es tetrico, así que mejor en esta vida busca tu proposito y recuerda que este no esta en las redes sociales, ni en alguna herramienta del sistema que te brinde satisfacción instantantanea, cuida de los tuyos y toma el control de tu vida, herramientas muy beneficiosas en el ahora es es meditar y dormir bien ya que es lo que debemos hacer segun la naturaleza, esta quiere que durmamos ocho horas aunque vivamos en un mundo que busca la privación del sueño y recuerda que lo mas importante es hacer y trabajar con toda tu energía enfocada y no solo pensar porque no vivimos en un mundo idealista, no permitas que el fuego de tu alma se apagué y conoce el valor de tu ser para que te des el respeto que te mereces y no pretendas que las cosas cambien actuando siempre igual ya que tu definición de éxito solo se alcanza trabajando en tí, lo demás viene, tu debes estar en el pedestal de tu vida y como nadie va a venir a regalarnos todo lo que queremos por lo que debemos de ser conscientes del peso de todas nuestras acciones ya que en esta vida todo suma pero también todo resta y del camino que quieres seguir principalmente porque somos lo que hacemos día a día y la excelencia no es fin, sino un camino y teniendo en cuenta las reglas de este juego porque el chiste es jugarlo de la mejor manera que podamos, buscando llegar sin verguenza al fin de este gran viaje que conocemos como vida. Así que concéntrate cada minuto como un romano, como un hombre, en hacer lo que está frente a ti con seriedad precisa y genuina, con ternura, con voluntad, con justicia y en liberarte de todas las demás distraccione, y si haces todo como si fuera lo último que harías en tu vida y dejas de caminar sin rumbo, dejas de dejar que tus emociones anulen lo que te dice tu mente, dejas de ser hipócrita, egocéntrico e irritable.\"\n",
        "\n",
        "def clean_text(input_text):\n",
        "  return  unidecode(input_text).upper().replace(\",\",\"\").replace(\".\", \"\").replace(\"Ñ\", \"N\").replace(\" \", \"\")\n",
        "\n",
        "print(f\"Longitud: {len(input)}Input text:\\n\", input)\n",
        "clean_input = clean_text(input)\n",
        "print(f\"Longitud: {len(clean_input)}Clean text:\\n\", clean_input)"
      ],
      "metadata": {
        "colab": {
          "base_uri": "https://localhost:8080/"
        },
        "id": "Gzf3kCekYis-",
        "outputId": "0e4371dc-70db-448b-c60d-5f1f300d3412"
      },
      "execution_count": null,
      "outputs": [
        {
          "output_type": "stream",
          "name": "stdout",
          "text": [
            "Looking in indexes: https://pypi.org/simple, https://us-python.pkg.dev/colab-wheels/public/simple/\n",
            "Collecting unidecode\n",
            "  Downloading Unidecode-1.3.6-py3-none-any.whl (235 kB)\n",
            "\u001b[2K     \u001b[90m━━━━━━━━━━━━━━━━━━━━━━━━━━━━━━━━━━━━━━━\u001b[0m \u001b[32m235.9/235.9 kB\u001b[0m \u001b[31m5.8 MB/s\u001b[0m eta \u001b[36m0:00:00\u001b[0m\n",
            "\u001b[?25hInstalling collected packages: unidecode\n",
            "Successfully installed unidecode-1.3.6\n",
            "Longitud: 3597Input text:\n",
            " ES IMPOSIBLE TENER TODO BAJO CONTROL, TENEMOS QUE DARNOS CUENTA QUE PENSAR DEMASIADO EN EL FUTURO PUEDE LLEVAR A IMAGINARNOS SITUACIONES Y PROBLEMAS QUE PUEDEN NO EXISTIR, TODO ESTO CONDUCE A LA ANSIEDAD, EL QUE SUFRE ANTES DE QUE SEA NECESARIO, SUFRE MÁS DE LO NECESARIO. PERO SI QUIERES REALIZAR ALGO NO HAY MÁS QUE CONFÍAR EN TU VERSIÓN DE TI QUE DA LO MEJOR DE SÍ PARA OBTENER ESO QUE QUIRES, TUS METAS Y TUS SUEÑOS, PERO TAMBIEN ES IMPORTARTE PERDONARTE, EN ESTA VIDA VIENES A CAGARLA, en el en el momento que vienes a cagarla y te perdonas todo fluye tan facil, mirate al espejo y dite que estas guapo, si no te lo dices tu, nadie te la va a creer, recuerda que la confianza no es mágica, no es innata y no es inalcanzable, es una habilidad, lo que significa que se puede aprender sin embargo, la confianza es una habilidad dentro de las habilidades por lo que la confianza viene cuando aprendes a confiar en ti mismo, crece cuando aprendes a gestionar tus emociones, cuando te conviertes en un mejor comunicador, cuando desarrollas una mentalidad implacable y para ello debemos aprender a manejar tus emociones, porque si no lo haces siempre serás víctima de las circunstancias de la vida, las bolas curvas desagradables que te envían a ti y a la gente que te rodea. También aprende a comunicarte. Así es como consigues que la gente confíe en ti y se deje influir por ti. Y busca una mentalidad implacable, se trata de confiar en que tienes la capacidad de ver las cosas a través de, ya que no se trata de negociar contigo y justificar todas las cosas que haces mal, porque somos maquinitas de narrativas, para cualquier cosa, nos creamos una historia que justifique lo que hacemos, pero, realmente no hacemos lo que queremos hacer ya que somos productos del contexto y este es tetrico, así que mejor en esta vida busca tu proposito y recuerda que este no esta en las redes sociales, ni en alguna herramienta del sistema que te brinde satisfacción instantantanea, cuida de los tuyos y toma el control de tu vida, herramientas muy beneficiosas en el ahora es es meditar y dormir bien ya que es lo que debemos hacer segun la naturaleza, esta quiere que durmamos ocho horas aunque vivamos en un mundo que busca la privación del sueño y recuerda que lo mas importante es hacer y trabajar con toda tu energía enfocada y no solo pensar porque no vivimos en un mundo idealista, no permitas que el fuego de tu alma se apagué y conoce el valor de tu ser para que te des el respeto que te mereces y no pretendas que las cosas cambien actuando siempre igual ya que tu definición de éxito solo se alcanza trabajando en tí, lo demás viene, tu debes estar en el pedestal de tu vida y como nadie va a venir a regalarnos todo lo que queremos por lo que debemos de ser conscientes del peso de todas nuestras acciones ya que en esta vida todo suma pero también todo resta y del camino que quieres seguir principalmente porque somos lo que hacemos día a día y la excelencia no es fin, sino un camino y teniendo en cuenta las reglas de este juego porque el chiste es jugarlo de la mejor manera que podamos, buscando llegar sin verguenza al fin de este gran viaje que conocemos como vida. Así que concéntrate cada minuto como un romano, como un hombre, en hacer lo que está frente a ti con seriedad precisa y genuina, con ternura, con voluntad, con justicia y en liberarte de todas las demás distraccione, y si haces todo como si fuera lo último que harías en tu vida y dejas de caminar sin rumbo, dejas de dejar que tus emociones anulen lo que te dice tu mente, dejas de ser hipócrita, egocéntrico e irritable.\n",
            "Longitud: 2885Clean text:\n",
            " ESIMPOSIBLETENERTODOBAJOCONTROLTENEMOSQUEDARNOSCUENTAQUEPENSARDEMASIADOENELFUTUROPUEDELLEVARAIMAGINARNOSSITUACIONESYPROBLEMASQUEPUEDENNOEXISTIRTODOESTOCONDUCEALAANSIEDADELQUESUFREANTESDEQUESEANECESARIOSUFREMASDELONECESARIOPEROSIQUIERESREALIZARALGONOHAYMASQUECONFIARENTUVERSIONDETIQUEDALOMEJORDESIPARAOBTENERESOQUEQUIRESTUSMETASYTUSSUENOSPEROTAMBIENESIMPORTARTEPERDONARTEENESTAVIDAVIENESACAGARLAENELENELMOMENTOQUEVIENESACAGARLAYTEPERDONASTODOFLUYETANFACILMIRATEALESPEJOYDITEQUEESTASGUAPOSINOTELODICESTUNADIETELAVAACREERRECUERDAQUELACONFIANZANOESMAGICANOESINNATAYNOESINALCANZABLEESUNAHABILIDADLOQUESIGNIFICAQUESEPUEDEAPRENDERSINEMBARGOLACONFIANZAESUNAHABILIDADDENTRODELASHABILIDADESPORLOQUELACONFIANZAVIENECUANDOAPRENDESACONFIARENTIMISMOCRECECUANDOAPRENDESAGESTIONARTUSEMOCIONESCUANDOTECONVIERTESENUNMEJORCOMUNICADORCUANDODESARROLLASUNAMENTALIDADIMPLACABLEYPARAELLODEBEMOSAPRENDERAMANEJARTUSEMOCIONESPORQUESINOLOHACESSIEMPRESERASVICTIMADELASCIRCUNSTANCIASDELAVIDALASBOLASCURVASDESAGRADABLESQUETEENVIANATIYALAGENTEQUETERODEATAMBIENAPRENDEACOMUNICARTEASIESCOMOCONSIGUESQUELAGENTECONFIEENTIYSEDEJEINFLUIRPORTIYBUSCAUNAMENTALIDADIMPLACABLESETRATADECONFIARENQUETIENESLACAPACIDADDEVERLASCOSASATRAVESDEYAQUENOSETRATADENEGOCIARCONTIGOYJUSTIFICARTODASLASCOSASQUEHACESMALPORQUESOMOSMAQUINITASDENARRATIVASPARACUALQUIERCOSANOSCREAMOSUNAHISTORIAQUEJUSTIFIQUELOQUEHACEMOSPEROREALMENTENOHACEMOSLOQUEQUEREMOSHACERYAQUESOMOSPRODUCTOSDELCONTEXTOYESTEESTETRICOASIQUEMEJORENESTAVIDABUSCATUPROPOSITOYRECUERDAQUEESTENOESTAENLASREDESSOCIALESNIENALGUNAHERRAMIENTADELSISTEMAQUETEBRINDESATISFACCIONINSTANTANTANEACUIDADELOSTUYOSYTOMAELCONTROLDETUVIDAHERRAMIENTASMUYBENEFICIOSASENELAHORAESESMEDITARYDORMIRBIENYAQUEESLOQUEDEBEMOSHACERSEGUNLANATURALEZAESTAQUIEREQUEDURMAMOSOCHOHORASAUNQUEVIVAMOSENUNMUNDOQUEBUSCALAPRIVACIONDELSUENOYRECUERDAQUELOMASIMPORTANTEESHACERYTRABAJARCONTODATUENERGIAENFOCADAYNOSOLOPENSARPORQUENOVIVIMOSENUNMUNDOIDEALISTANOPERMITASQUEELFUEGODETUALMASEAPAGUEYCONOCEELVALORDETUSERPARAQUETEDESELRESPETOQUETEMERECESYNOPRETENDASQUELASCOSASCAMBIENACTUANDOSIEMPREIGUALYAQUETUDEFINICIONDEEXITOSOLOSEALCANZATRABAJANDOENTILODEMASVIENETUDEBESESTARENELPEDESTALDETUVIDAYCOMONADIEVAAVENIRAREGALARNOSTODOLOQUEQUEREMOSPORLOQUEDEBEMOSDESERCONSCIENTESDELPESODETODASNUESTRASACCIONESYAQUEENESTAVIDATODOSUMAPEROTAMBIENTODORESTAYDELCAMINOQUEQUIERESSEGUIRPRINCIPALMENTEPORQUESOMOSLOQUEHACEMOSDIAADIAYLAEXCELENCIANOESFINSINOUNCAMINOYTENIENDOENCUENTALASREGLASDEESTEJUEGOPORQUEELCHISTEESJUGARLODELAMEJORMANERAQUEPODAMOSBUSCANDOLLEGARSINVERGUENZAALFINDEESTEGRANVIAJEQUECONOCEMOSCOMOVIDAASIQUECONCENTRATECADAMINUTOCOMOUNROMANOCOMOUNHOMBREENHACERLOQUEESTAFRENTEATICONSERIEDADPRECISAYGENUINACONTERNURACONVOLUNTADCONJUSTICIAYENLIBERARTEDETODASLASDEMASDISTRACCIONEYSIHACESTODOCOMOSIFUERALOULTIMOQUEHARIASENTUVIDAYDEJASDECAMINARSINRUMBODEJASDEDEJARQUETUSEMOCIONESANULENLOQUETEDICETUMENTEDEJASDESERHIPOCRITAEGOCENTRICOEIRRITABLE\n"
          ]
        }
      ]
    },
    {
      "cell_type": "code",
      "source": [],
      "metadata": {
        "id": "pzCRJcME7vOy"
      },
      "execution_count": null,
      "outputs": []
    },
    {
      "cell_type": "code",
      "source": [
        "import string\n",
        "\n",
        "def vigenere_encrypt(plain_text, key):\n",
        "    alphabet = string.ascii_lowercase\n",
        "    table = [alphabet[(i + j) % 26] for i in range(26) for j in range(26)]\n",
        "    plain_text = clean_text(plain_text).lower()\n",
        "    key = key.lower()\n",
        "    key = key * (len(plain_text) // len(key) + 1)\n",
        "    cipher_text = \"\"\n",
        "    for i, c in enumerate(plain_text):\n",
        "        index = alphabet.index(c)\n",
        "        shift = alphabet.index(key[i])\n",
        "        cipher_text += table[index * 26 + shift]\n",
        "    return cipher_text.upper()\n",
        "\n",
        "key = \"mitologia\"\n",
        "texto_cifrado_vigenere = vigenere_encrypt(clean_input, key)\n",
        "print(len(texto_cifrado_vigenere), texto_cifrado_vigenere,\"\\n\")"
      ],
      "metadata": {
        "colab": {
          "base_uri": "https://localhost:8080/"
        },
        "id": "F4PLt2-ka241",
        "outputId": "72841c31-6208-48ad-eb6f-dee975888ecb"
      },
      "execution_count": null,
      "outputs": [
        {
          "output_type": "stream",
          "name": "stdout",
          "text": [
            "2885 QABAACYQBXMMSYSXBOPWUOUCIWNFZHZESTMMAAJIPRGZNAAVIPBZIQGMISYGGZDQUTGTOJWEZMETFHAZOBCXRPZRMVMZTWXOMQNMZGCDGOBUMKBCYSYGPDWUZPAGAQGMIIPRKVNAMQWDHOZTALHSDHUKOZLNQPORIAZABSOOJMLCCXGFTXMAZBXGOSWCEEMTBPQKAADQHGFTXMMMAWSWCTMCQATFTCVMRAABEFWKZEEZXOWWFIRMTZCYCNIYYILEFSIWNRQTFPBZCVQZLWZBJMTUYNSOORWMQRHFOSYQPMZTCMHKVEDMLCBIKYUUZXGEIYUEFILMEIYAUQVHGASXWTMUUWPBKAIYXHFEOXBEBMKRZBGZTQMGSDHGDIPIOWPBKAAOIZOCZGMNQTXBPZSWMQVMCBIKDIQVXGLQGOADTTMESVMRPWGODHULORTNMPHGVFMKBZXWXITQIESDDKROKLBHPEAMEEBTGRIGXOEQGCESRWDUKXGEITIDUMMSWOBIAOZXSCFKKUQZWOBIKTAOWGTTOTHAZWXGXOMQCMVHSDWTVAFIRBZSYQNMTVOYNGJLQMLIYONIBUTBRLRRWQGMLWRBONIOIJIPGKXUQLXOAFKVDQZLWYSSJADOHZLQUVFUIGNLSYCNMPTPTZOLAPLXBEFULEXILVLPOTIPIWSDDUZLAYNSWOIWNRQTBKOBQEZMVILBJWABZXBOSYICAVYWLFKVTUUBGXCIZEOMVILBJWABZXBOSYIGQAMWZBGZTGAXAZQOWNQAVILBJWTQKHBGWKZTQAXBFBSMJAZVCXITQCMLHFNIGVDALXGLFXWLXILIYOSMNFIEWOOJQMBTTQLPRMYBIKOPZRWDQJXAZGGXRQVWSCOSINQRTFEIYMMAKBCYSYXODYNSDWTWLAPTQPGYQEYXKSDSXISHQVHTAGLEXILQTFICNEBTBNWGADQTTJTRGTAEJHZLGICRHILRPGGORMLTPWSYYUQBXSYJOINMBBMLZGOEZBXEFSZMRALXOEOSJIQVTDCSTLEMKHAFBOKADBXODWKACAUHQZBYQGGMLEFSRIGQVMSNCTNIQMGHTMYMDQRXWYTRCIDXHFEWEJUEKTIYOSMNFIEWOOJQMBTTQLPRMSQBKOEOJMCAVYWLFKVQGMMWPBKALMKTDLQOLAPLXJPFRISOWLODOZZAHMLRPMGYUQVHGPHXITMLXBPUUKIMZVCYHOOOKRNGEWLQCMZMCOOYTAEKHGLGWCETIVSDAGTPAZJIPGUUOEUTEFWTQTMAWSYOXZAFQOODDGZAOCTZBIOMROWLOYCYKRQIFCDITIHUAMCCWGYUQRNGEWLQQGMECBIKPAOMFCDDKZODMTZXSTBEZWAONSSWSXWJIPEAMRQUHGSOIMRKIJIPGUUOEXKCOIIBOELXZNCTBEJBHMPGZMEEBXHCWIWAEQJIPAKRODMGSDHGDIPIUIDQGBUBZHDZGOBOKZXQFSXLACCXSDHKVOQAMOPBRISDMWSDGUKIMTXGYWKVAXONBLVKZRMUBSYHGLEXABGESSIQGMMSMFOVDQATHTGLICOQHBTBYBAZBTBEOTMAOCBRLRKTOEBNMZGEBOYIXZNCTBRATWSEIBQDMPXFCOSQEZBTGXIEJEZMYWNWUAAEMGSWONWRMMLSDAKLIFIKMOCXUIDJBSYMGYUQMLZZEAMDQJXAZGNICQZLSRITTAZIMICORMZMMLHLEAQEDMJIPRAZMMUHGZQNWHAZTGLITYUQDBJLAUAEZCGAFBJWQGMUIDQGTABZBJLQOWNPMEGFSTWYDMVIPFJIQGMECXOYQMBWKHLBZMEEPTQPFEBRMJTXLFIWNFWWOEIKVEDOBOPBLWCMLTMYCYWLAXXBDOXXODYNSYCBQVUUHGPBAVMGVWCTRKILUAMOYCVMRYQMODEAMEXNNSRCJMTGIEALGKIPMONSJQUVOOMXZGORWRPMMIDSXXADIJIPHKLEEMEFPGVMTAYNSESSMRQKXGJBUXRQBXBOOYYUQTTGNCYISOIFPTSTICFCTBOCYQEYXKSTUAILKIJIPHALERQGWNWUVDQMQWECYWLAAXOWQGVZMBKOMOPINPWXBEWRWDQUTGGWKVEFCWSMSYMSFIKSYSRXEPMLHLZJMTGDBRLMIWMAVTRTSBIAHMGWCOXMGMTTFYCYBOPWECBIKYUQZXAZGVWRXWJIPRKJEYWLRPGKZCAVLQTSTBEELXZASYWDQBHRLGTCEEBKODOIKIAVXGJOWCEQVXGEOBQDMBHRZGAUABMKCEOSJIQVMCOCXMSFIRRPZIIMUVHEFSWCIQZXGDSMCIDXKWYQOXAXUXBESVWRCCXGZAUALAYNSSOIMMAAWWLOJQAKTTSIQKTEZKBOYCKAFUVLWYCAVCMUBBZMZMNUMGRZSTKUQVMOWOYZESTTGOSKATQRNSRCVWRCCXSWQNQSFMXGUIMIRXWWSWOSMJAZFOYSXIQGMICOOSWSNCLQLBJWLXMZOCGOVVQZZIPBFIAXNBBOSKATQOKOYJOIJQYNSNCTWCQUHGNCSWVULTODWWCEOWGQPBZZAFMVOOOSQNGBHQZAUCNDWFOYCIWMACGVZAHZEQVAONSXTOCCXSDHGNRQVMSLHOKOZAXFTSJIDBZXQTGGGGQVNWYOIWNFMKBFFGKOZDHZFBZIDOWGXFGZQCUIRSYZOJEDIKHPRKBOPILZLGJMMMAWWDHXICOQHBPMYQHMKXGECJWCAUHGTTAMRMTHIWHOUOCCXVLFOISQVMIGWJIYPMCODRKKAYQGOCGOVRGUUCOSPISPMWSUOXYUQBNGPAUKIAVXGLBATEZTHEFSZMDUKXHFAKVTQLXXLGJMSQZAWACIZIFIXUZQKVTDQVCPWXZIFIUZP \n",
            "\n"
          ]
        }
      ]
    },
    {
      "cell_type": "code",
      "source": [
        "# Encontrar todas las subcadenas de longitud size y sus posiciones en el texto\n",
        "def subsecuencias(texto_cifrado: str,size: int):\n",
        "    subcadenas = {}\n",
        "    for i in range(len(texto_cifrado) - 2):\n",
        "        subcadena = texto_cifrado[i:i+size]\n",
        "        if subcadena in subcadenas:\n",
        "            subcadenas[subcadena].append(i)\n",
        "        else:\n",
        "            subcadenas[subcadena] = [i]\n",
        "    return subcadenas\n",
        "size = 9\n",
        "subs =  subsecuencias(texto_cifrado_vigenere,size)\n",
        "ordenado = sorted(subs.items(), key=lambda x: len(x[1]), reverse=True)\n",
        "\n",
        "print(\"\\n Subcadenas encontradas con su respectiva posición:\",subs, \"\\n Ordenadas:\", ordenado ,\"\\n\",type(subs))\n",
        "x = 605\n",
        "texto_cifrado_vigenere[x:x+size]"
      ],
      "metadata": {
        "colab": {
          "base_uri": "https://localhost:8080/",
          "height": 124
        },
        "id": "EPNMCRD-JSvB",
        "outputId": "8a71572c-b33d-42e6-a2b8-37efff8033d0"
      },
      "execution_count": null,
      "outputs": [
        {
          "output_type": "stream",
          "name": "stdout",
          "text": [
            "\n",
            " Subcadenas encontradas con su respectiva posición: {'QABAACYQB': [0], 'ABAACYQBX': [1], 'BAACYQBXM': [2], 'AACYQBXMM': [3], 'ACYQBXMMS': [4], 'CYQBXMMSY': [5], 'YQBXMMSYS': [6], 'QBXMMSYSX': [7], 'BXMMSYSXB': [8], 'XMMSYSXBO': [9], 'MMSYSXBOP': [10], 'MSYSXBOPW': [11], 'SYSXBOPWU': [12], 'YSXBOPWUO': [13], 'SXBOPWUOU': [14], 'XBOPWUOUC': [15], 'BOPWUOUCI': [16], 'OPWUOUCIW': [17], 'PWUOUCIWN': [18], 'WUOUCIWNF': [19], 'UOUCIWNFZ': [20], 'OUCIWNFZH': [21], 'UCIWNFZHZ': [22], 'CIWNFZHZE': [23], 'IWNFZHZES': [24], 'WNFZHZEST': [25], 'NFZHZESTM': [26], 'FZHZESTMM': [27], 'ZHZESTMMA': [28], 'HZESTMMAA': [29], 'ZESTMMAAJ': [30], 'ESTMMAAJI': [31], 'STMMAAJIP': [32], 'TMMAAJIPR': [33], 'MMAAJIPRG': [34], 'MAAJIPRGZ': [35], 'AAJIPRGZN': [36], 'AJIPRGZNA': [37], 'JIPRGZNAA': [38], 'IPRGZNAAV': [39], 'PRGZNAAVI': [40], 'RGZNAAVIP': [41], 'GZNAAVIPB': [42], 'ZNAAVIPBZ': [43], 'NAAVIPBZI': [44], 'AAVIPBZIQ': [45], 'AVIPBZIQG': [46], 'VIPBZIQGM': [47], 'IPBZIQGMI': [48], 'PBZIQGMIS': [49], 'BZIQGMISY': [50], 'ZIQGMISYG': [51], 'IQGMISYGG': [52], 'QGMISYGGZ': [53], 'GMISYGGZD': [54], 'MISYGGZDQ': [55], 'ISYGGZDQU': [56], 'SYGGZDQUT': [57], 'YGGZDQUTG': [58], 'GGZDQUTGT': [59], 'GZDQUTGTO': [60], 'ZDQUTGTOJ': [61], 'DQUTGTOJW': [62], 'QUTGTOJWE': [63], 'UTGTOJWEZ': [64], 'TGTOJWEZM': [65], 'GTOJWEZME': [66], 'TOJWEZMET': [67], 'OJWEZMETF': [68], 'JWEZMETFH': [69], 'WEZMETFHA': [70], 'EZMETFHAZ': [71], 'ZMETFHAZO': [72], 'METFHAZOB': [73], 'ETFHAZOBC': [74], 'TFHAZOBCX': [75], 'FHAZOBCXR': [76], 'HAZOBCXRP': [77], 'AZOBCXRPZ': [78], 'ZOBCXRPZR': [79], 'OBCXRPZRM': [80], 'BCXRPZRMV': [81], 'CXRPZRMVM': [82], 'XRPZRMVMZ': [83], 'RPZRMVMZT': [84], 'PZRMVMZTW': [85], 'ZRMVMZTWX': [86], 'RMVMZTWXO': [87], 'MVMZTWXOM': [88], 'VMZTWXOMQ': [89], 'MZTWXOMQN': [90], 'ZTWXOMQNM': [91], 'TWXOMQNMZ': [92], 'WXOMQNMZG': [93], 'XOMQNMZGC': [94], 'OMQNMZGCD': [95], 'MQNMZGCDG': [96], 'QNMZGCDGO': [97], 'NMZGCDGOB': [98], 'MZGCDGOBU': [99], 'ZGCDGOBUM': [100], 'GCDGOBUMK': [101], 'CDGOBUMKB': [102], 'DGOBUMKBC': [103], 'GOBUMKBCY': [104], 'OBUMKBCYS': [105], 'BUMKBCYSY': [106], 'UMKBCYSYG': [107], 'MKBCYSYGP': [108], 'KBCYSYGPD': [109], 'BCYSYGPDW': [110], 'CYSYGPDWU': [111], 'YSYGPDWUZ': [112], 'SYGPDWUZP': [113], 'YGPDWUZPA': [114], 'GPDWUZPAG': [115], 'PDWUZPAGA': [116], 'DWUZPAGAQ': [117], 'WUZPAGAQG': [118], 'UZPAGAQGM': [119], 'ZPAGAQGMI': [120], 'PAGAQGMII': [121], 'AGAQGMIIP': [122], 'GAQGMIIPR': [123], 'AQGMIIPRK': [124], 'QGMIIPRKV': [125], 'GMIIPRKVN': [126], 'MIIPRKVNA': [127], 'IIPRKVNAM': [128], 'IPRKVNAMQ': [129], 'PRKVNAMQW': [130], 'RKVNAMQWD': [131], 'KVNAMQWDH': [132], 'VNAMQWDHO': [133], 'NAMQWDHOZ': [134], 'AMQWDHOZT': [135], 'MQWDHOZTA': [136], 'QWDHOZTAL': [137], 'WDHOZTALH': [138], 'DHOZTALHS': [139], 'HOZTALHSD': [140], 'OZTALHSDH': [141], 'ZTALHSDHU': [142], 'TALHSDHUK': [143], 'ALHSDHUKO': [144], 'LHSDHUKOZ': [145], 'HSDHUKOZL': [146], 'SDHUKOZLN': [147], 'DHUKOZLNQ': [148], 'HUKOZLNQP': [149], 'UKOZLNQPO': [150], 'KOZLNQPOR': [151], 'OZLNQPORI': [152], 'ZLNQPORIA': [153], 'LNQPORIAZ': [154], 'NQPORIAZA': [155], 'QPORIAZAB': [156], 'PORIAZABS': [157], 'ORIAZABSO': [158], 'RIAZABSOO': [159], 'IAZABSOOJ': [160], 'AZABSOOJM': [161], 'ZABSOOJML': [162], 'ABSOOJMLC': [163], 'BSOOJMLCC': [164], 'SOOJMLCCX': [165], 'OOJMLCCXG': [166], 'OJMLCCXGF': [167], 'JMLCCXGFT': [168], 'MLCCXGFTX': [169], 'LCCXGFTXM': [170], 'CCXGFTXMA': [171], 'CXGFTXMAZ': [172], 'XGFTXMAZB': [173], 'GFTXMAZBX': [174], 'FTXMAZBXG': [175], 'TXMAZBXGO': [176], 'XMAZBXGOS': [177], 'MAZBXGOSW': [178], 'AZBXGOSWC': [179], 'ZBXGOSWCE': [180], 'BXGOSWCEE': [181], 'XGOSWCEEM': [182], 'GOSWCEEMT': [183], 'OSWCEEMTB': [184], 'SWCEEMTBP': [185], 'WCEEMTBPQ': [186], 'CEEMTBPQK': [187], 'EEMTBPQKA': [188], 'EMTBPQKAA': [189], 'MTBPQKAAD': [190], 'TBPQKAADQ': [191], 'BPQKAADQH': [192], 'PQKAADQHG': [193], 'QKAADQHGF': [194], 'KAADQHGFT': [195], 'AADQHGFTX': [196], 'ADQHGFTXM': [197], 'DQHGFTXMM': [198], 'QHGFTXMMM': [199], 'HGFTXMMMA': [200], 'GFTXMMMAW': [201], 'FTXMMMAWS': [202], 'TXMMMAWSW': [203], 'XMMMAWSWC': [204], 'MMMAWSWCT': [205], 'MMAWSWCTM': [206], 'MAWSWCTMC': [207], 'AWSWCTMCQ': [208], 'WSWCTMCQA': [209], 'SWCTMCQAT': [210], 'WCTMCQATF': [211], 'CTMCQATFT': [212], 'TMCQATFTC': [213], 'MCQATFTCV': [214], 'CQATFTCVM': [215], 'QATFTCVMR': [216], 'ATFTCVMRA': [217], 'TFTCVMRAA': [218], 'FTCVMRAAB': [219], 'TCVMRAABE': [220], 'CVMRAABEF': [221], 'VMRAABEFW': [222], 'MRAABEFWK': [223], 'RAABEFWKZ': [224], 'AABEFWKZE': [225], 'ABEFWKZEE': [226], 'BEFWKZEEZ': [227], 'EFWKZEEZX': [228], 'FWKZEEZXO': [229], 'WKZEEZXOW': [230], 'KZEEZXOWW': [231], 'ZEEZXOWWF': [232], 'EEZXOWWFI': [233], 'EZXOWWFIR': [234], 'ZXOWWFIRM': [235], 'XOWWFIRMT': [236], 'OWWFIRMTZ': [237], 'WWFIRMTZC': [238], 'WFIRMTZCY': [239], 'FIRMTZCYC': [240], 'IRMTZCYCN': [241], 'RMTZCYCNI': [242], 'MTZCYCNIY': [243], 'TZCYCNIYY': [244], 'ZCYCNIYYI': [245], 'CYCNIYYIL': [246], 'YCNIYYILE': [247], 'CNIYYILEF': [248], 'NIYYILEFS': [249], 'IYYILEFSI': [250], 'YYILEFSIW': [251], 'YILEFSIWN': [252], 'ILEFSIWNR': [253], 'LEFSIWNRQ': [254], 'EFSIWNRQT': [255], 'FSIWNRQTF': [256], 'SIWNRQTFP': [257], 'IWNRQTFPB': [258], 'WNRQTFPBZ': [259], 'NRQTFPBZC': [260], 'RQTFPBZCV': [261], 'QTFPBZCVQ': [262], 'TFPBZCVQZ': [263], 'FPBZCVQZL': [264], 'PBZCVQZLW': [265], 'BZCVQZLWZ': [266], 'ZCVQZLWZB': [267], 'CVQZLWZBJ': [268], 'VQZLWZBJM': [269], 'QZLWZBJMT': [270], 'ZLWZBJMTU': [271], 'LWZBJMTUY': [272], 'WZBJMTUYN': [273], 'ZBJMTUYNS': [274], 'BJMTUYNSO': [275], 'JMTUYNSOO': [276], 'MTUYNSOOR': [277], 'TUYNSOORW': [278], 'UYNSOORWM': [279], 'YNSOORWMQ': [280], 'NSOORWMQR': [281], 'SOORWMQRH': [282], 'OORWMQRHF': [283], 'ORWMQRHFO': [284], 'RWMQRHFOS': [285], 'WMQRHFOSY': [286], 'MQRHFOSYQ': [287], 'QRHFOSYQP': [288], 'RHFOSYQPM': [289], 'HFOSYQPMZ': [290], 'FOSYQPMZT': [291], 'OSYQPMZTC': [292], 'SYQPMZTCM': [293], 'YQPMZTCMH': [294], 'QPMZTCMHK': [295], 'PMZTCMHKV': [296], 'MZTCMHKVE': [297], 'ZTCMHKVED': [298], 'TCMHKVEDM': [299], 'CMHKVEDML': [300], 'MHKVEDMLC': [301], 'HKVEDMLCB': [302], 'KVEDMLCBI': [303], 'VEDMLCBIK': [304], 'EDMLCBIKY': [305], 'DMLCBIKYU': [306], 'MLCBIKYUU': [307], 'LCBIKYUUZ': [308], 'CBIKYUUZX': [309], 'BIKYUUZXG': [310], 'IKYUUZXGE': [311], 'KYUUZXGEI': [312], 'YUUZXGEIY': [313], 'UUZXGEIYU': [314], 'UZXGEIYUE': [315], 'ZXGEIYUEF': [316], 'XGEIYUEFI': [317], 'GEIYUEFIL': [318], 'EIYUEFILM': [319], 'IYUEFILME': [320], 'YUEFILMEI': [321], 'UEFILMEIY': [322], 'EFILMEIYA': [323], 'FILMEIYAU': [324], 'ILMEIYAUQ': [325], 'LMEIYAUQV': [326], 'MEIYAUQVH': [327], 'EIYAUQVHG': [328], 'IYAUQVHGA': [329], 'YAUQVHGAS': [330], 'AUQVHGASX': [331], 'UQVHGASXW': [332], 'QVHGASXWT': [333], 'VHGASXWTM': [334], 'HGASXWTMU': [335], 'GASXWTMUU': [336], 'ASXWTMUUW': [337], 'SXWTMUUWP': [338], 'XWTMUUWPB': [339], 'WTMUUWPBK': [340], 'TMUUWPBKA': [341], 'MUUWPBKAI': [342], 'UUWPBKAIY': [343], 'UWPBKAIYX': [344], 'WPBKAIYXH': [345], 'PBKAIYXHF': [346], 'BKAIYXHFE': [347], 'KAIYXHFEO': [348], 'AIYXHFEOX': [349], 'IYXHFEOXB': [350], 'YXHFEOXBE': [351], 'XHFEOXBEB': [352], 'HFEOXBEBM': [353], 'FEOXBEBMK': [354], 'EOXBEBMKR': [355], 'OXBEBMKRZ': [356], 'XBEBMKRZB': [357], 'BEBMKRZBG': [358], 'EBMKRZBGZ': [359], 'BMKRZBGZT': [360], 'MKRZBGZTQ': [361], 'KRZBGZTQM': [362], 'RZBGZTQMG': [363], 'ZBGZTQMGS': [364], 'BGZTQMGSD': [365], 'GZTQMGSDH': [366], 'ZTQMGSDHG': [367], 'TQMGSDHGD': [368], 'QMGSDHGDI': [369], 'MGSDHGDIP': [370, 1450], 'GSDHGDIPI': [371, 1451], 'SDHGDIPIO': [372], 'DHGDIPIOW': [373], 'HGDIPIOWP': [374], 'GDIPIOWPB': [375], 'DIPIOWPBK': [376], 'IPIOWPBKA': [377], 'PIOWPBKAA': [378], 'IOWPBKAAO': [379], 'OWPBKAAOI': [380], 'WPBKAAOIZ': [381], 'PBKAAOIZO': [382], 'BKAAOIZOC': [383], 'KAAOIZOCZ': [384], 'AAOIZOCZG': [385], 'AOIZOCZGM': [386], 'OIZOCZGMN': [387], 'IZOCZGMNQ': [388], 'ZOCZGMNQT': [389], 'OCZGMNQTX': [390], 'CZGMNQTXB': [391], 'ZGMNQTXBP': [392], 'GMNQTXBPZ': [393], 'MNQTXBPZS': [394], 'NQTXBPZSW': [395], 'QTXBPZSWM': [396], 'TXBPZSWMQ': [397], 'XBPZSWMQV': [398], 'BPZSWMQVM': [399], 'PZSWMQVMC': [400], 'ZSWMQVMCB': [401], 'SWMQVMCBI': [402], 'WMQVMCBIK': [403], 'MQVMCBIKD': [404], 'QVMCBIKDI': [405], 'VMCBIKDIQ': [406], 'MCBIKDIQV': [407], 'CBIKDIQVX': [408], 'BIKDIQVXG': [409], 'IKDIQVXGL': [410], 'KDIQVXGLQ': [411], 'DIQVXGLQG': [412], 'IQVXGLQGO': [413], 'QVXGLQGOA': [414], 'VXGLQGOAD': [415], 'XGLQGOADT': [416], 'GLQGOADTT': [417], 'LQGOADTTM': [418], 'QGOADTTME': [419], 'GOADTTMES': [420], 'OADTTMESV': [421], 'ADTTMESVM': [422], 'DTTMESVMR': [423], 'TTMESVMRP': [424], 'TMESVMRPW': [425], 'MESVMRPWG': [426], 'ESVMRPWGO': [427], 'SVMRPWGOD': [428], 'VMRPWGODH': [429], 'MRPWGODHU': [430], 'RPWGODHUL': [431], 'PWGODHULO': [432], 'WGODHULOR': [433], 'GODHULORT': [434], 'ODHULORTN': [435], 'DHULORTNM': [436], 'HULORTNMP': [437], 'ULORTNMPH': [438], 'LORTNMPHG': [439], 'ORTNMPHGV': [440], 'RTNMPHGVF': [441], 'TNMPHGVFM': [442], 'NMPHGVFMK': [443], 'MPHGVFMKB': [444], 'PHGVFMKBZ': [445], 'HGVFMKBZX': [446], 'GVFMKBZXW': [447], 'VFMKBZXWX': [448], 'FMKBZXWXI': [449], 'MKBZXWXIT': [450], 'KBZXWXITQ': [451], 'BZXWXITQI': [452], 'ZXWXITQIE': [453], 'XWXITQIES': [454], 'WXITQIESD': [455], 'XITQIESDD': [456], 'ITQIESDDK': [457], 'TQIESDDKR': [458], 'QIESDDKRO': [459], 'IESDDKROK': [460], 'ESDDKROKL': [461], 'SDDKROKLB': [462], 'DDKROKLBH': [463], 'DKROKLBHP': [464], 'KROKLBHPE': [465], 'ROKLBHPEA': [466], 'OKLBHPEAM': [467], 'KLBHPEAME': [468], 'LBHPEAMEE': [469], 'BHPEAMEEB': [470], 'HPEAMEEBT': [471], 'PEAMEEBTG': [472], 'EAMEEBTGR': [473], 'AMEEBTGRI': [474], 'MEEBTGRIG': [475], 'EEBTGRIGX': [476], 'EBTGRIGXO': [477], 'BTGRIGXOE': [478], 'TGRIGXOEQ': [479], 'GRIGXOEQG': [480], 'RIGXOEQGC': [481], 'IGXOEQGCE': [482], 'GXOEQGCES': [483], 'XOEQGCESR': [484], 'OEQGCESRW': [485], 'EQGCESRWD': [486], 'QGCESRWDU': [487], 'GCESRWDUK': [488], 'CESRWDUKX': [489], 'ESRWDUKXG': [490], 'SRWDUKXGE': [491], 'RWDUKXGEI': [492], 'WDUKXGEIT': [493], 'DUKXGEITI': [494], 'UKXGEITID': [495], 'KXGEITIDU': [496], 'XGEITIDUM': [497], 'GEITIDUMM': [498], 'EITIDUMMS': [499], 'ITIDUMMSW': [500], 'TIDUMMSWO': [501], 'IDUMMSWOB': [502], 'DUMMSWOBI': [503], 'UMMSWOBIA': [504], 'MMSWOBIAO': [505], 'MSWOBIAOZ': [506], 'SWOBIAOZX': [507], 'WOBIAOZXS': [508], 'OBIAOZXSC': [509], 'BIAOZXSCF': [510], 'IAOZXSCFK': [511], 'AOZXSCFKK': [512], 'OZXSCFKKU': [513], 'ZXSCFKKUQ': [514], 'XSCFKKUQZ': [515], 'SCFKKUQZW': [516], 'CFKKUQZWO': [517], 'FKKUQZWOB': [518], 'KKUQZWOBI': [519], 'KUQZWOBIK': [520], 'UQZWOBIKT': [521], 'QZWOBIKTA': [522], 'ZWOBIKTAO': [523], 'WOBIKTAOW': [524], 'OBIKTAOWG': [525], 'BIKTAOWGT': [526], 'IKTAOWGTT': [527], 'KTAOWGTTO': [528], 'TAOWGTTOT': [529], 'AOWGTTOTH': [530], 'OWGTTOTHA': [531], 'WGTTOTHAZ': [532], 'GTTOTHAZW': [533], 'TTOTHAZWX': [534], 'TOTHAZWXG': [535], 'OTHAZWXGX': [536], 'THAZWXGXO': [537], 'HAZWXGXOM': [538], 'AZWXGXOMQ': [539], 'ZWXGXOMQC': [540], 'WXGXOMQCM': [541], 'XGXOMQCMV': [542], 'GXOMQCMVH': [543], 'XOMQCMVHS': [544], 'OMQCMVHSD': [545], 'MQCMVHSDW': [546], 'QCMVHSDWT': [547], 'CMVHSDWTV': [548], 'MVHSDWTVA': [549], 'VHSDWTVAF': [550], 'HSDWTVAFI': [551], 'SDWTVAFIR': [552], 'DWTVAFIRB': [553], 'WTVAFIRBZ': [554], 'TVAFIRBZS': [555], 'VAFIRBZSY': [556], 'AFIRBZSYQ': [557], 'FIRBZSYQN': [558], 'IRBZSYQNM': [559], 'RBZSYQNMT': [560], 'BZSYQNMTV': [561], 'ZSYQNMTVO': [562], 'SYQNMTVOY': [563], 'YQNMTVOYN': [564], 'QNMTVOYNG': [565], 'NMTVOYNGJ': [566], 'MTVOYNGJL': [567], 'TVOYNGJLQ': [568], 'VOYNGJLQM': [569], 'OYNGJLQML': [570], 'YNGJLQMLI': [571], 'NGJLQMLIY': [572], 'GJLQMLIYO': [573], 'JLQMLIYON': [574], 'LQMLIYONI': [575], 'QMLIYONIB': [576], 'MLIYONIBU': [577], 'LIYONIBUT': [578], 'IYONIBUTB': [579], 'YONIBUTBR': [580], 'ONIBUTBRL': [581], 'NIBUTBRLR': [582], 'IBUTBRLRR': [583], 'BUTBRLRRW': [584], 'UTBRLRRWQ': [585], 'TBRLRRWQG': [586], 'BRLRRWQGM': [587], 'RLRRWQGML': [588], 'LRRWQGMLW': [589], 'RRWQGMLWR': [590], 'RWQGMLWRB': [591], 'WQGMLWRBO': [592], 'QGMLWRBON': [593], 'GMLWRBONI': [594], 'MLWRBONIO': [595], 'LWRBONIOI': [596], 'WRBONIOIJ': [597], 'RBONIOIJI': [598], 'BONIOIJIP': [599], 'ONIOIJIPG': [600], 'NIOIJIPGK': [601], 'IOIJIPGKX': [602], 'OIJIPGKXU': [603], 'IJIPGKXUQ': [604], 'JIPGKXUQL': [605], 'IPGKXUQLX': [606], 'PGKXUQLXO': [607], 'GKXUQLXOA': [608], 'KXUQLXOAF': [609], 'XUQLXOAFK': [610], 'UQLXOAFKV': [611], 'QLXOAFKVD': [612], 'LXOAFKVDQ': [613], 'XOAFKVDQZ': [614], 'OAFKVDQZL': [615], 'AFKVDQZLW': [616], 'FKVDQZLWY': [617], 'KVDQZLWYS': [618], 'VDQZLWYSS': [619], 'DQZLWYSSJ': [620], 'QZLWYSSJA': [621], 'ZLWYSSJAD': [622], 'LWYSSJADO': [623], 'WYSSJADOH': [624], 'YSSJADOHZ': [625], 'SSJADOHZL': [626], 'SJADOHZLQ': [627], 'JADOHZLQU': [628], 'ADOHZLQUV': [629], 'DOHZLQUVF': [630], 'OHZLQUVFU': [631], 'HZLQUVFUI': [632], 'ZLQUVFUIG': [633], 'LQUVFUIGN': [634], 'QUVFUIGNL': [635], 'UVFUIGNLS': [636], 'VFUIGNLSY': [637], 'FUIGNLSYC': [638], 'UIGNLSYCN': [639], 'IGNLSYCNM': [640], 'GNLSYCNMP': [641], 'NLSYCNMPT': [642], 'LSYCNMPTP': [643], 'SYCNMPTPT': [644], 'YCNMPTPTZ': [645], 'CNMPTPTZO': [646], 'NMPTPTZOL': [647], 'MPTPTZOLA': [648], 'PTPTZOLAP': [649], 'TPTZOLAPL': [650], 'PTZOLAPLX': [651], 'TZOLAPLXB': [652], 'ZOLAPLXBE': [653], 'OLAPLXBEF': [654], 'LAPLXBEFU': [655], 'APLXBEFUL': [656], 'PLXBEFULE': [657], 'LXBEFULEX': [658], 'XBEFULEXI': [659], 'BEFULEXIL': [660], 'EFULEXILV': [661], 'FULEXILVL': [662], 'ULEXILVLP': [663], 'LEXILVLPO': [664], 'EXILVLPOT': [665], 'XILVLPOTI': [666], 'ILVLPOTIP': [667], 'LVLPOTIPI': [668], 'VLPOTIPIW': [669], 'LPOTIPIWS': [670], 'POTIPIWSD': [671], 'OTIPIWSDD': [672], 'TIPIWSDDU': [673], 'IPIWSDDUZ': [674], 'PIWSDDUZL': [675], 'IWSDDUZLA': [676], 'WSDDUZLAY': [677], 'SDDUZLAYN': [678], 'DDUZLAYNS': [679], 'DUZLAYNSW': [680], 'UZLAYNSWO': [681], 'ZLAYNSWOI': [682], 'LAYNSWOIW': [683], 'AYNSWOIWN': [684], 'YNSWOIWNR': [685], 'NSWOIWNRQ': [686], 'SWOIWNRQT': [687], 'WOIWNRQTB': [688], 'OIWNRQTBK': [689], 'IWNRQTBKO': [690], 'WNRQTBKOB': [691], 'NRQTBKOBQ': [692], 'RQTBKOBQE': [693], 'QTBKOBQEZ': [694], 'TBKOBQEZM': [695], 'BKOBQEZMV': [696], 'KOBQEZMVI': [697], 'OBQEZMVIL': [698], 'BQEZMVILB': [699], 'QEZMVILBJ': [700], 'EZMVILBJW': [701], 'ZMVILBJWA': [702], 'MVILBJWAB': [703, 739], 'VILBJWABZ': [704, 740], 'ILBJWABZX': [705, 741], 'LBJWABZXB': [706, 742], 'BJWABZXBO': [707, 743], 'JWABZXBOS': [708, 744], 'WABZXBOSY': [709, 745], 'ABZXBOSYI': [710, 746], 'BZXBOSYIC': [711], 'ZXBOSYICA': [712], 'XBOSYICAV': [713], 'BOSYICAVY': [714], 'OSYICAVYW': [715], 'SYICAVYWL': [716], 'YICAVYWLF': [717], 'ICAVYWLFK': [718], 'CAVYWLFKV': [719, 1142], 'AVYWLFKVT': [720], 'VYWLFKVTU': [721], 'YWLFKVTUU': [722], 'WLFKVTUUB': [723], 'LFKVTUUBG': [724], 'FKVTUUBGX': [725], 'KVTUUBGXC': [726], 'VTUUBGXCI': [727], 'TUUBGXCIZ': [728], 'UUBGXCIZE': [729], 'UBGXCIZEO': [730], 'BGXCIZEOM': [731], 'GXCIZEOMV': [732], 'XCIZEOMVI': [733], 'CIZEOMVIL': [734], 'IZEOMVILB': [735], 'ZEOMVILBJ': [736], 'EOMVILBJW': [737], 'OMVILBJWA': [738], 'BZXBOSYIG': [747], 'ZXBOSYIGQ': [748], 'XBOSYIGQA': [749], 'BOSYIGQAM': [750], 'OSYIGQAMW': [751], 'SYIGQAMWZ': [752], 'YIGQAMWZB': [753], 'IGQAMWZBG': [754], 'GQAMWZBGZ': [755], 'QAMWZBGZT': [756], 'AMWZBGZTG': [757], 'MWZBGZTGA': [758], 'WZBGZTGAX': [759], 'ZBGZTGAXA': [760], 'BGZTGAXAZ': [761], 'GZTGAXAZQ': [762], 'ZTGAXAZQO': [763], 'TGAXAZQOW': [764], 'GAXAZQOWN': [765], 'AXAZQOWNQ': [766], 'XAZQOWNQA': [767], 'AZQOWNQAV': [768], 'ZQOWNQAVI': [769], 'QOWNQAVIL': [770], 'OWNQAVILB': [771], 'WNQAVILBJ': [772], 'NQAVILBJW': [773], 'QAVILBJWT': [774], 'AVILBJWTQ': [775], 'VILBJWTQK': [776], 'ILBJWTQKH': [777], 'LBJWTQKHB': [778], 'BJWTQKHBG': [779], 'JWTQKHBGW': [780], 'WTQKHBGWK': [781], 'TQKHBGWKZ': [782], 'QKHBGWKZT': [783], 'KHBGWKZTQ': [784], 'HBGWKZTQA': [785], 'BGWKZTQAX': [786], 'GWKZTQAXB': [787], 'WKZTQAXBF': [788], 'KZTQAXBFB': [789], 'ZTQAXBFBS': [790], 'TQAXBFBSM': [791], 'QAXBFBSMJ': [792], 'AXBFBSMJA': [793], 'XBFBSMJAZ': [794], 'BFBSMJAZV': [795], 'FBSMJAZVC': [796], 'BSMJAZVCX': [797], 'SMJAZVCXI': [798], 'MJAZVCXIT': [799], 'JAZVCXITQ': [800], 'AZVCXITQC': [801], 'ZVCXITQCM': [802], 'VCXITQCML': [803], 'CXITQCMLH': [804], 'XITQCMLHF': [805], 'ITQCMLHFN': [806], 'TQCMLHFNI': [807], 'QCMLHFNIG': [808], 'CMLHFNIGV': [809], 'MLHFNIGVD': [810], 'LHFNIGVDA': [811], 'HFNIGVDAL': [812], 'FNIGVDALX': [813], 'NIGVDALXG': [814], 'IGVDALXGL': [815], 'GVDALXGLF': [816], 'VDALXGLFX': [817], 'DALXGLFXW': [818], 'ALXGLFXWL': [819], 'LXGLFXWLX': [820], 'XGLFXWLXI': [821], 'GLFXWLXIL': [822], 'LFXWLXILI': [823], 'FXWLXILIY': [824], 'XWLXILIYO': [825], 'WLXILIYOS': [826], 'LXILIYOSM': [827], 'XILIYOSMN': [828], 'ILIYOSMNF': [829], 'LIYOSMNFI': [830], 'IYOSMNFIE': [831, 1110], 'YOSMNFIEW': [832, 1111], 'OSMNFIEWO': [833, 1112], 'SMNFIEWOO': [834, 1113], 'MNFIEWOOJ': [835, 1114], 'NFIEWOOJQ': [836, 1115], 'FIEWOOJQM': [837, 1116], 'IEWOOJQMB': [838, 1117], 'EWOOJQMBT': [839, 1118], 'WOOJQMBTT': [840, 1119], 'OOJQMBTTQ': [841, 1120], 'OJQMBTTQL': [842, 1121], 'JQMBTTQLP': [843, 1122], 'QMBTTQLPR': [844, 1123], 'MBTTQLPRM': [845, 1124], 'BTTQLPRMY': [846], 'TTQLPRMYB': [847], 'TQLPRMYBI': [848], 'QLPRMYBIK': [849], 'LPRMYBIKO': [850], 'PRMYBIKOP': [851], 'RMYBIKOPZ': [852], 'MYBIKOPZR': [853], 'YBIKOPZRW': [854], 'BIKOPZRWD': [855], 'IKOPZRWDQ': [856], 'KOPZRWDQJ': [857], 'OPZRWDQJX': [858], 'PZRWDQJXA': [859], 'ZRWDQJXAZ': [860], 'RWDQJXAZG': [861], 'WDQJXAZGG': [862], 'DQJXAZGGX': [863], 'QJXAZGGXR': [864], 'JXAZGGXRQ': [865], 'XAZGGXRQV': [866], 'AZGGXRQVW': [867], 'ZGGXRQVWS': [868], 'GGXRQVWSC': [869], 'GXRQVWSCO': [870], 'XRQVWSCOS': [871], 'RQVWSCOSI': [872], 'QVWSCOSIN': [873], 'VWSCOSINQ': [874], 'WSCOSINQR': [875], 'SCOSINQRT': [876], 'COSINQRTF': [877], 'OSINQRTFE': [878], 'SINQRTFEI': [879], 'INQRTFEIY': [880], 'NQRTFEIYM': [881], 'QRTFEIYMM': [882], 'RTFEIYMMA': [883], 'TFEIYMMAK': [884], 'FEIYMMAKB': [885], 'EIYMMAKBC': [886], 'IYMMAKBCY': [887], 'YMMAKBCYS': [888], 'MMAKBCYSY': [889], 'MAKBCYSYX': [890], 'AKBCYSYXO': [891], 'KBCYSYXOD': [892], 'BCYSYXODY': [893], 'CYSYXODYN': [894], 'YSYXODYNS': [895], 'SYXODYNSD': [896], 'YXODYNSDW': [897], 'XODYNSDWT': [898], 'ODYNSDWTW': [899], 'DYNSDWTWL': [900], 'YNSDWTWLA': [901], 'NSDWTWLAP': [902], 'SDWTWLAPT': [903], 'DWTWLAPTQ': [904], 'WTWLAPTQP': [905], 'TWLAPTQPG': [906], 'WLAPTQPGY': [907], 'LAPTQPGYQ': [908], 'APTQPGYQE': [909], 'PTQPGYQEY': [910], 'TQPGYQEYX': [911], 'QPGYQEYXK': [912], 'PGYQEYXKS': [913], 'GYQEYXKSD': [914], 'YQEYXKSDS': [915], 'QEYXKSDSX': [916], 'EYXKSDSXI': [917], 'YXKSDSXIS': [918], 'XKSDSXISH': [919], 'KSDSXISHQ': [920], 'SDSXISHQV': [921], 'DSXISHQVH': [922], 'SXISHQVHT': [923], 'XISHQVHTA': [924], 'ISHQVHTAG': [925], 'SHQVHTAGL': [926], 'HQVHTAGLE': [927], 'QVHTAGLEX': [928], 'VHTAGLEXI': [929], 'HTAGLEXIL': [930], 'TAGLEXILQ': [931], 'AGLEXILQT': [932], 'GLEXILQTF': [933], 'LEXILQTFI': [934], 'EXILQTFIC': [935], 'XILQTFICN': [936], 'ILQTFICNE': [937], 'LQTFICNEB': [938], 'QTFICNEBT': [939], 'TFICNEBTB': [940], 'FICNEBTBN': [941], 'ICNEBTBNW': [942], 'CNEBTBNWG': [943], 'NEBTBNWGA': [944], 'EBTBNWGAD': [945], 'BTBNWGADQ': [946], 'TBNWGADQT': [947], 'BNWGADQTT': [948], 'NWGADQTTJ': [949], 'WGADQTTJT': [950], 'GADQTTJTR': [951], 'ADQTTJTRG': [952], 'DQTTJTRGT': [953], 'QTTJTRGTA': [954], 'TTJTRGTAE': [955], 'TJTRGTAEJ': [956], 'JTRGTAEJH': [957], 'TRGTAEJHZ': [958], 'RGTAEJHZL': [959], 'GTAEJHZLG': [960], 'TAEJHZLGI': [961], 'AEJHZLGIC': [962], 'EJHZLGICR': [963], 'JHZLGICRH': [964], 'HZLGICRHI': [965], 'ZLGICRHIL': [966], 'LGICRHILR': [967], 'GICRHILRP': [968], 'ICRHILRPG': [969], 'CRHILRPGG': [970], 'RHILRPGGO': [971], 'HILRPGGOR': [972], 'ILRPGGORM': [973], 'LRPGGORML': [974], 'RPGGORMLT': [975], 'PGGORMLTP': [976], 'GGORMLTPW': [977], 'GORMLTPWS': [978], 'ORMLTPWSY': [979], 'RMLTPWSYY': [980], 'MLTPWSYYU': [981], 'LTPWSYYUQ': [982], 'TPWSYYUQB': [983], 'PWSYYUQBX': [984], 'WSYYUQBXS': [985], 'SYYUQBXSY': [986], 'YYUQBXSYJ': [987], 'YUQBXSYJO': [988], 'UQBXSYJOI': [989], 'QBXSYJOIN': [990], 'BXSYJOINM': [991], 'XSYJOINMB': [992], 'SYJOINMBB': [993], 'YJOINMBBM': [994], 'JOINMBBML': [995], 'OINMBBMLZ': [996], 'INMBBMLZG': [997], 'NMBBMLZGO': [998], 'MBBMLZGOE': [999], 'BBMLZGOEZ': [1000], 'BMLZGOEZB': [1001], 'MLZGOEZBX': [1002], 'LZGOEZBXE': [1003], 'ZGOEZBXEF': [1004], 'GOEZBXEFS': [1005], 'OEZBXEFSZ': [1006], 'EZBXEFSZM': [1007], 'ZBXEFSZMR': [1008], 'BXEFSZMRA': [1009], 'XEFSZMRAL': [1010], 'EFSZMRALX': [1011], 'FSZMRALXO': [1012], 'SZMRALXOE': [1013], 'ZMRALXOEO': [1014], 'MRALXOEOS': [1015], 'RALXOEOSJ': [1016], 'ALXOEOSJI': [1017], 'LXOEOSJIQ': [1018], 'XOEOSJIQV': [1019], 'OEOSJIQVT': [1020], 'EOSJIQVTD': [1021], 'OSJIQVTDC': [1022], 'SJIQVTDCS': [1023], 'JIQVTDCST': [1024], 'IQVTDCSTL': [1025], 'QVTDCSTLE': [1026], 'VTDCSTLEM': [1027], 'TDCSTLEMK': [1028], 'DCSTLEMKH': [1029], 'CSTLEMKHA': [1030], 'STLEMKHAF': [1031], 'TLEMKHAFB': [1032], 'LEMKHAFBO': [1033], 'EMKHAFBOK': [1034], 'MKHAFBOKA': [1035], 'KHAFBOKAD': [1036], 'HAFBOKADB': [1037], 'AFBOKADBX': [1038], 'FBOKADBXO': [1039], 'BOKADBXOD': [1040], 'OKADBXODW': [1041], 'KADBXODWK': [1042], 'ADBXODWKA': [1043], 'DBXODWKAC': [1044], 'BXODWKACA': [1045], 'XODWKACAU': [1046], 'ODWKACAUH': [1047], 'DWKACAUHQ': [1048], 'WKACAUHQZ': [1049], 'KACAUHQZB': [1050], 'ACAUHQZBY': [1051], 'CAUHQZBYQ': [1052], 'AUHQZBYQG': [1053], 'UHQZBYQGG': [1054], 'HQZBYQGGM': [1055], 'QZBYQGGML': [1056], 'ZBYQGGMLE': [1057], 'BYQGGMLEF': [1058], 'YQGGMLEFS': [1059], 'QGGMLEFSR': [1060], 'GGMLEFSRI': [1061], 'GMLEFSRIG': [1062], 'MLEFSRIGQ': [1063], 'LEFSRIGQV': [1064], 'EFSRIGQVM': [1065], 'FSRIGQVMS': [1066], 'SRIGQVMSN': [1067], 'RIGQVMSNC': [1068], 'IGQVMSNCT': [1069], 'GQVMSNCTN': [1070], 'QVMSNCTNI': [1071], 'VMSNCTNIQ': [1072], 'MSNCTNIQM': [1073], 'SNCTNIQMG': [1074], 'NCTNIQMGH': [1075], 'CTNIQMGHT': [1076], 'TNIQMGHTM': [1077], 'NIQMGHTMY': [1078], 'IQMGHTMYM': [1079], 'QMGHTMYMD': [1080], 'MGHTMYMDQ': [1081], 'GHTMYMDQR': [1082], 'HTMYMDQRX': [1083], 'TMYMDQRXW': [1084], 'MYMDQRXWY': [1085], 'YMDQRXWYT': [1086], 'MDQRXWYTR': [1087], 'DQRXWYTRC': [1088], 'QRXWYTRCI': [1089], 'RXWYTRCID': [1090], 'XWYTRCIDX': [1091], 'WYTRCIDXH': [1092], 'YTRCIDXHF': [1093], 'TRCIDXHFE': [1094], 'RCIDXHFEW': [1095], 'CIDXHFEWE': [1096], 'IDXHFEWEJ': [1097], 'DXHFEWEJU': [1098], 'XHFEWEJUE': [1099], 'HFEWEJUEK': [1100], 'FEWEJUEKT': [1101], 'EWEJUEKTI': [1102], 'WEJUEKTIY': [1103], 'EJUEKTIYO': [1104], 'JUEKTIYOS': [1105], 'UEKTIYOSM': [1106], 'EKTIYOSMN': [1107], 'KTIYOSMNF': [1108], 'TIYOSMNFI': [1109], 'BTTQLPRMS': [1125], 'TTQLPRMSQ': [1126], 'TQLPRMSQB': [1127], 'QLPRMSQBK': [1128], 'LPRMSQBKO': [1129], 'PRMSQBKOE': [1130], 'RMSQBKOEO': [1131], 'MSQBKOEOJ': [1132], 'SQBKOEOJM': [1133], 'QBKOEOJMC': [1134], 'BKOEOJMCA': [1135], 'KOEOJMCAV': [1136], 'OEOJMCAVY': [1137], 'EOJMCAVYW': [1138], 'OJMCAVYWL': [1139], 'JMCAVYWLF': [1140], 'MCAVYWLFK': [1141], 'AVYWLFKVQ': [1143], 'VYWLFKVQG': [1144], 'YWLFKVQGM': [1145], 'WLFKVQGMM': [1146], 'LFKVQGMMW': [1147], 'FKVQGMMWP': [1148], 'KVQGMMWPB': [1149], 'VQGMMWPBK': [1150], 'QGMMWPBKA': [1151], 'GMMWPBKAL': [1152], 'MMWPBKALM': [1153], 'MWPBKALMK': [1154], 'WPBKALMKT': [1155], 'PBKALMKTD': [1156], 'BKALMKTDL': [1157], 'KALMKTDLQ': [1158], 'ALMKTDLQO': [1159], 'LMKTDLQOL': [1160], 'MKTDLQOLA': [1161], 'KTDLQOLAP': [1162], 'TDLQOLAPL': [1163], 'DLQOLAPLX': [1164], 'LQOLAPLXJ': [1165], 'QOLAPLXJP': [1166], 'OLAPLXJPF': [1167], 'LAPLXJPFR': [1168], 'APLXJPFRI': [1169], 'PLXJPFRIS': [1170], 'LXJPFRISO': [1171], 'XJPFRISOW': [1172], 'JPFRISOWL': [1173], 'PFRISOWLO': [1174], 'FRISOWLOD': [1175], 'RISOWLODO': [1176], 'ISOWLODOZ': [1177], 'SOWLODOZZ': [1178], 'OWLODOZZA': [1179], 'WLODOZZAH': [1180], 'LODOZZAHM': [1181], 'ODOZZAHML': [1182], 'DOZZAHMLR': [1183], 'OZZAHMLRP': [1184], 'ZZAHMLRPM': [1185], 'ZAHMLRPMG': [1186], 'AHMLRPMGY': [1187], 'HMLRPMGYU': [1188], 'MLRPMGYUQ': [1189], 'LRPMGYUQV': [1190], 'RPMGYUQVH': [1191], 'PMGYUQVHG': [1192], 'MGYUQVHGP': [1193], 'GYUQVHGPH': [1194], 'YUQVHGPHX': [1195], 'UQVHGPHXI': [1196], 'QVHGPHXIT': [1197], 'VHGPHXITM': [1198], 'HGPHXITML': [1199], 'GPHXITMLX': [1200], 'PHXITMLXB': [1201], 'HXITMLXBP': [1202], 'XITMLXBPU': [1203], 'ITMLXBPUU': [1204], 'TMLXBPUUK': [1205], 'MLXBPUUKI': [1206], 'LXBPUUKIM': [1207], 'XBPUUKIMZ': [1208], 'BPUUKIMZV': [1209], 'PUUKIMZVC': [1210], 'UUKIMZVCY': [1211], 'UKIMZVCYH': [1212], 'KIMZVCYHO': [1213], 'IMZVCYHOO': [1214], 'MZVCYHOOO': [1215], 'ZVCYHOOOK': [1216], 'VCYHOOOKR': [1217], 'CYHOOOKRN': [1218], 'YHOOOKRNG': [1219], 'HOOOKRNGE': [1220], 'OOOKRNGEW': [1221], 'OOKRNGEWL': [1222], 'OKRNGEWLQ': [1223], 'KRNGEWLQC': [1224], 'RNGEWLQCM': [1225], 'NGEWLQCMZ': [1226], 'GEWLQCMZM': [1227], 'EWLQCMZMC': [1228], 'WLQCMZMCO': [1229], 'LQCMZMCOO': [1230], 'QCMZMCOOY': [1231], 'CMZMCOOYT': [1232], 'MZMCOOYTA': [1233], 'ZMCOOYTAE': [1234], 'MCOOYTAEK': [1235], 'COOYTAEKH': [1236], 'OOYTAEKHG': [1237], 'OYTAEKHGL': [1238], 'YTAEKHGLG': [1239], 'TAEKHGLGW': [1240], 'AEKHGLGWC': [1241], 'EKHGLGWCE': [1242], 'KHGLGWCET': [1243], 'HGLGWCETI': [1244], 'GLGWCETIV': [1245], 'LGWCETIVS': [1246], 'GWCETIVSD': [1247], 'WCETIVSDA': [1248], 'CETIVSDAG': [1249], 'ETIVSDAGT': [1250], 'TIVSDAGTP': [1251], 'IVSDAGTPA': [1252], 'VSDAGTPAZ': [1253], 'SDAGTPAZJ': [1254], 'DAGTPAZJI': [1255], 'AGTPAZJIP': [1256], 'GTPAZJIPG': [1257], 'TPAZJIPGU': [1258], 'PAZJIPGUU': [1259], 'AZJIPGUUO': [1260], 'ZJIPGUUOE': [1261], 'JIPGUUOEU': [1262], 'IPGUUOEUT': [1263], 'PGUUOEUTE': [1264], 'GUUOEUTEF': [1265], 'UUOEUTEFW': [1266], 'UOEUTEFWT': [1267], 'OEUTEFWTQ': [1268], 'EUTEFWTQT': [1269], 'UTEFWTQTM': [1270], 'TEFWTQTMA': [1271], 'EFWTQTMAW': [1272], 'FWTQTMAWS': [1273], 'WTQTMAWSY': [1274], 'TQTMAWSYO': [1275], 'QTMAWSYOX': [1276], 'TMAWSYOXZ': [1277], 'MAWSYOXZA': [1278], 'AWSYOXZAF': [1279], 'WSYOXZAFQ': [1280], 'SYOXZAFQO': [1281], 'YOXZAFQOO': [1282], 'OXZAFQOOD': [1283], 'XZAFQOODD': [1284], 'ZAFQOODDG': [1285], 'AFQOODDGZ': [1286], 'FQOODDGZA': [1287], 'QOODDGZAO': [1288], 'OODDGZAOC': [1289], 'ODDGZAOCT': [1290], 'DDGZAOCTZ': [1291], 'DGZAOCTZB': [1292], 'GZAOCTZBI': [1293], 'ZAOCTZBIO': [1294], 'AOCTZBIOM': [1295], 'OCTZBIOMR': [1296], 'CTZBIOMRO': [1297], 'TZBIOMROW': [1298], 'ZBIOMROWL': [1299], 'BIOMROWLO': [1300], 'IOMROWLOY': [1301], 'OMROWLOYC': [1302], 'MROWLOYCY': [1303], 'ROWLOYCYK': [1304], 'OWLOYCYKR': [1305], 'WLOYCYKRQ': [1306], 'LOYCYKRQI': [1307], 'OYCYKRQIF': [1308], 'YCYKRQIFC': [1309], 'CYKRQIFCD': [1310], 'YKRQIFCDI': [1311], 'KRQIFCDIT': [1312], 'RQIFCDITI': [1313], 'QIFCDITIH': [1314], 'IFCDITIHU': [1315], 'FCDITIHUA': [1316], 'CDITIHUAM': [1317], 'DITIHUAMC': [1318], 'ITIHUAMCC': [1319], 'TIHUAMCCW': [1320], 'IHUAMCCWG': [1321], 'HUAMCCWGY': [1322], 'UAMCCWGYU': [1323], 'AMCCWGYUQ': [1324], 'MCCWGYUQR': [1325], 'CCWGYUQRN': [1326], 'CWGYUQRNG': [1327], 'WGYUQRNGE': [1328], 'GYUQRNGEW': [1329], 'YUQRNGEWL': [1330], 'UQRNGEWLQ': [1331], 'QRNGEWLQQ': [1332], 'RNGEWLQQG': [1333], 'NGEWLQQGM': [1334], 'GEWLQQGME': [1335], 'EWLQQGMEC': [1336], 'WLQQGMECB': [1337], 'LQQGMECBI': [1338], 'QQGMECBIK': [1339], 'QGMECBIKP': [1340], 'GMECBIKPA': [1341], 'MECBIKPAO': [1342], 'ECBIKPAOM': [1343], 'CBIKPAOMF': [1344], 'BIKPAOMFC': [1345], 'IKPAOMFCD': [1346], 'KPAOMFCDD': [1347], 'PAOMFCDDK': [1348], 'AOMFCDDKZ': [1349], 'OMFCDDKZO': [1350], 'MFCDDKZOD': [1351], 'FCDDKZODM': [1352], 'CDDKZODMT': [1353], 'DDKZODMTZ': [1354], 'DKZODMTZX': [1355], 'KZODMTZXS': [1356], 'ZODMTZXST': [1357], 'ODMTZXSTB': [1358], 'DMTZXSTBE': [1359], 'MTZXSTBEZ': [1360], 'TZXSTBEZW': [1361], 'ZXSTBEZWA': [1362], 'XSTBEZWAO': [1363], 'STBEZWAON': [1364], 'TBEZWAONS': [1365], 'BEZWAONSS': [1366], 'EZWAONSSW': [1367], 'ZWAONSSWS': [1368], 'WAONSSWSX': [1369], 'AONSSWSXW': [1370], 'ONSSWSXWJ': [1371], 'NSSWSXWJI': [1372], 'SSWSXWJIP': [1373], 'SWSXWJIPE': [1374], 'WSXWJIPEA': [1375], 'SXWJIPEAM': [1376], 'XWJIPEAMR': [1377], 'WJIPEAMRQ': [1378], 'JIPEAMRQU': [1379], 'IPEAMRQUH': [1380], 'PEAMRQUHG': [1381], 'EAMRQUHGS': [1382], 'AMRQUHGSO': [1383], 'MRQUHGSOI': [1384], 'RQUHGSOIM': [1385], 'QUHGSOIMR': [1386], 'UHGSOIMRK': [1387], 'HGSOIMRKI': [1388], 'GSOIMRKIJ': [1389], 'SOIMRKIJI': [1390], 'OIMRKIJIP': [1391], 'IMRKIJIPG': [1392], 'MRKIJIPGU': [1393], 'RKIJIPGUU': [1394], 'KIJIPGUUO': [1395], 'IJIPGUUOE': [1396], 'JIPGUUOEX': [1397], 'IPGUUOEXK': [1398], 'PGUUOEXKC': [1399], 'GUUOEXKCO': [1400], 'UUOEXKCOI': [1401], 'UOEXKCOII': [1402], 'OEXKCOIIB': [1403], 'EXKCOIIBO': [1404], 'XKCOIIBOE': [1405], 'KCOIIBOEL': [1406], 'COIIBOELX': [1407], 'OIIBOELXZ': [1408], 'IIBOELXZN': [1409], 'IBOELXZNC': [1410], 'BOELXZNCT': [1411], 'OELXZNCTB': [1412], 'ELXZNCTBE': [1413], 'LXZNCTBEJ': [1414], 'XZNCTBEJB': [1415], 'ZNCTBEJBH': [1416], 'NCTBEJBHM': [1417], 'CTBEJBHMP': [1418], 'TBEJBHMPG': [1419], 'BEJBHMPGZ': [1420], 'EJBHMPGZM': [1421], 'JBHMPGZME': [1422], 'BHMPGZMEE': [1423], 'HMPGZMEEB': [1424], 'MPGZMEEBX': [1425], 'PGZMEEBXH': [1426], 'GZMEEBXHC': [1427], 'ZMEEBXHCW': [1428], 'MEEBXHCWI': [1429], 'EEBXHCWIW': [1430], 'EBXHCWIWA': [1431], 'BXHCWIWAE': [1432], 'XHCWIWAEQ': [1433], 'HCWIWAEQJ': [1434], 'CWIWAEQJI': [1435], 'WIWAEQJIP': [1436], 'IWAEQJIPA': [1437], 'WAEQJIPAK': [1438], 'AEQJIPAKR': [1439], 'EQJIPAKRO': [1440], 'QJIPAKROD': [1441], 'JIPAKRODM': [1442], 'IPAKRODMG': [1443], 'PAKRODMGS': [1444], 'AKRODMGSD': [1445], 'KRODMGSDH': [1446], 'RODMGSDHG': [1447], 'ODMGSDHGD': [1448], 'DMGSDHGDI': [1449], 'SDHGDIPIU': [1452], 'DHGDIPIUI': [1453], 'HGDIPIUID': [1454], 'GDIPIUIDQ': [1455], 'DIPIUIDQG': [1456], 'IPIUIDQGB': [1457], 'PIUIDQGBU': [1458], 'IUIDQGBUB': [1459], 'UIDQGBUBZ': [1460], 'IDQGBUBZH': [1461], 'DQGBUBZHD': [1462], 'QGBUBZHDZ': [1463], 'GBUBZHDZG': [1464], 'BUBZHDZGO': [1465], 'UBZHDZGOB': [1466], 'BZHDZGOBO': [1467], 'ZHDZGOBOK': [1468], 'HDZGOBOKZ': [1469], 'DZGOBOKZX': [1470], 'ZGOBOKZXQ': [1471], 'GOBOKZXQF': [1472], 'OBOKZXQFS': [1473], 'BOKZXQFSX': [1474], 'OKZXQFSXL': [1475], 'KZXQFSXLA': [1476], 'ZXQFSXLAC': [1477], 'XQFSXLACC': [1478], 'QFSXLACCX': [1479], 'FSXLACCXS': [1480], 'SXLACCXSD': [1481], 'XLACCXSDH': [1482], 'LACCXSDHK': [1483], 'ACCXSDHKV': [1484], 'CCXSDHKVO': [1485], 'CXSDHKVOQ': [1486], 'XSDHKVOQA': [1487], 'SDHKVOQAM': [1488], 'DHKVOQAMO': [1489], 'HKVOQAMOP': [1490], 'KVOQAMOPB': [1491], 'VOQAMOPBR': [1492], 'OQAMOPBRI': [1493], 'QAMOPBRIS': [1494], 'AMOPBRISD': [1495], 'MOPBRISDM': [1496], 'OPBRISDMW': [1497], 'PBRISDMWS': [1498], 'BRISDMWSD': [1499], 'RISDMWSDG': [1500], 'ISDMWSDGU': [1501], 'SDMWSDGUK': [1502], 'DMWSDGUKI': [1503], 'MWSDGUKIM': [1504], 'WSDGUKIMT': [1505], 'SDGUKIMTX': [1506], 'DGUKIMTXG': [1507], 'GUKIMTXGY': [1508], 'UKIMTXGYW': [1509], 'KIMTXGYWK': [1510], 'IMTXGYWKV': [1511], 'MTXGYWKVA': [1512], 'TXGYWKVAX': [1513], 'XGYWKVAXO': [1514], 'GYWKVAXON': [1515], 'YWKVAXONB': [1516], 'WKVAXONBL': [1517], 'KVAXONBLV': [1518], 'VAXONBLVK': [1519], 'AXONBLVKZ': [1520], 'XONBLVKZR': [1521], 'ONBLVKZRM': [1522], 'NBLVKZRMU': [1523], 'BLVKZRMUB': [1524], 'LVKZRMUBS': [1525], 'VKZRMUBSY': [1526], 'KZRMUBSYH': [1527], 'ZRMUBSYHG': [1528], 'RMUBSYHGL': [1529], 'MUBSYHGLE': [1530], 'UBSYHGLEX': [1531], 'BSYHGLEXA': [1532], 'SYHGLEXAB': [1533], 'YHGLEXABG': [1534], 'HGLEXABGE': [1535], 'GLEXABGES': [1536], 'LEXABGESS': [1537], 'EXABGESSI': [1538], 'XABGESSIQ': [1539], 'ABGESSIQG': [1540], 'BGESSIQGM': [1541], 'GESSIQGMM': [1542], 'ESSIQGMMS': [1543], 'SSIQGMMSM': [1544], 'SIQGMMSMF': [1545], 'IQGMMSMFO': [1546], 'QGMMSMFOV': [1547], 'GMMSMFOVD': [1548], 'MMSMFOVDQ': [1549], 'MSMFOVDQA': [1550], 'SMFOVDQAT': [1551], 'MFOVDQATH': [1552], 'FOVDQATHT': [1553], 'OVDQATHTG': [1554], 'VDQATHTGL': [1555], 'DQATHTGLI': [1556], 'QATHTGLIC': [1557], 'ATHTGLICO': [1558], 'THTGLICOQ': [1559], 'HTGLICOQH': [1560], 'TGLICOQHB': [1561], 'GLICOQHBT': [1562], 'LICOQHBTB': [1563], 'ICOQHBTBY': [1564], 'COQHBTBYB': [1565], 'OQHBTBYBA': [1566], 'QHBTBYBAZ': [1567], 'HBTBYBAZB': [1568], 'BTBYBAZBT': [1569], 'TBYBAZBTB': [1570], 'BYBAZBTBE': [1571], 'YBAZBTBEO': [1572], 'BAZBTBEOT': [1573], 'AZBTBEOTM': [1574], 'ZBTBEOTMA': [1575], 'BTBEOTMAO': [1576], 'TBEOTMAOC': [1577], 'BEOTMAOCB': [1578], 'EOTMAOCBR': [1579], 'OTMAOCBRL': [1580], 'TMAOCBRLR': [1581], 'MAOCBRLRK': [1582], 'AOCBRLRKT': [1583], 'OCBRLRKTO': [1584], 'CBRLRKTOE': [1585], 'BRLRKTOEB': [1586], 'RLRKTOEBN': [1587], 'LRKTOEBNM': [1588], 'RKTOEBNMZ': [1589], 'KTOEBNMZG': [1590], 'TOEBNMZGE': [1591], 'OEBNMZGEB': [1592], 'EBNMZGEBO': [1593], 'BNMZGEBOY': [1594], 'NMZGEBOYI': [1595], 'MZGEBOYIX': [1596], 'ZGEBOYIXZ': [1597], 'GEBOYIXZN': [1598], 'EBOYIXZNC': [1599], 'BOYIXZNCT': [1600], 'OYIXZNCTB': [1601], 'YIXZNCTBR': [1602], 'IXZNCTBRA': [1603], 'XZNCTBRAT': [1604], 'ZNCTBRATW': [1605], 'NCTBRATWS': [1606], 'CTBRATWSE': [1607], 'TBRATWSEI': [1608], 'BRATWSEIB': [1609], 'RATWSEIBQ': [1610], 'ATWSEIBQD': [1611], 'TWSEIBQDM': [1612], 'WSEIBQDMP': [1613], 'SEIBQDMPX': [1614], 'EIBQDMPXF': [1615], 'IBQDMPXFC': [1616], 'BQDMPXFCO': [1617], 'QDMPXFCOS': [1618], 'DMPXFCOSQ': [1619], 'MPXFCOSQE': [1620], 'PXFCOSQEZ': [1621], 'XFCOSQEZB': [1622], 'FCOSQEZBT': [1623], 'COSQEZBTG': [1624], 'OSQEZBTGX': [1625], 'SQEZBTGXI': [1626], 'QEZBTGXIE': [1627], 'EZBTGXIEJ': [1628], 'ZBTGXIEJE': [1629], 'BTGXIEJEZ': [1630], 'TGXIEJEZM': [1631], 'GXIEJEZMY': [1632], 'XIEJEZMYW': [1633], 'IEJEZMYWN': [1634], 'EJEZMYWNW': [1635], 'JEZMYWNWU': [1636], 'EZMYWNWUA': [1637], 'ZMYWNWUAA': [1638], 'MYWNWUAAE': [1639], 'YWNWUAAEM': [1640], 'WNWUAAEMG': [1641], 'NWUAAEMGS': [1642], 'WUAAEMGSW': [1643], 'UAAEMGSWO': [1644], 'AAEMGSWON': [1645], 'AEMGSWONW': [1646], 'EMGSWONWR': [1647], 'MGSWONWRM': [1648], 'GSWONWRMM': [1649], 'SWONWRMML': [1650], 'WONWRMMLS': [1651], 'ONWRMMLSD': [1652], 'NWRMMLSDA': [1653], 'WRMMLSDAK': [1654], 'RMMLSDAKL': [1655], 'MMLSDAKLI': [1656], 'MLSDAKLIF': [1657], 'LSDAKLIFI': [1658], 'SDAKLIFIK': [1659], 'DAKLIFIKM': [1660], 'AKLIFIKMO': [1661], 'KLIFIKMOC': [1662], 'LIFIKMOCX': [1663], 'IFIKMOCXU': [1664], 'FIKMOCXUI': [1665], 'IKMOCXUID': [1666], 'KMOCXUIDJ': [1667], 'MOCXUIDJB': [1668], 'OCXUIDJBS': [1669], 'CXUIDJBSY': [1670], 'XUIDJBSYM': [1671], 'UIDJBSYMG': [1672], 'IDJBSYMGY': [1673], 'DJBSYMGYU': [1674], 'JBSYMGYUQ': [1675], 'BSYMGYUQM': [1676], 'SYMGYUQML': [1677], 'YMGYUQMLZ': [1678], 'MGYUQMLZZ': [1679], 'GYUQMLZZE': [1680], 'YUQMLZZEA': [1681], 'UQMLZZEAM': [1682], 'QMLZZEAMD': [1683], 'MLZZEAMDQ': [1684], 'LZZEAMDQJ': [1685], 'ZZEAMDQJX': [1686], 'ZEAMDQJXA': [1687], 'EAMDQJXAZ': [1688], 'AMDQJXAZG': [1689], 'MDQJXAZGN': [1690], 'DQJXAZGNI': [1691], 'QJXAZGNIC': [1692], 'JXAZGNICQ': [1693], 'XAZGNICQZ': [1694], 'AZGNICQZL': [1695], 'ZGNICQZLS': [1696], 'GNICQZLSR': [1697], 'NICQZLSRI': [1698], 'ICQZLSRIT': [1699], 'CQZLSRITT': [1700], 'QZLSRITTA': [1701], 'ZLSRITTAZ': [1702], 'LSRITTAZI': [1703], 'SRITTAZIM': [1704], 'RITTAZIMI': [1705], 'ITTAZIMIC': [1706], 'TTAZIMICO': [1707], 'TAZIMICOR': [1708], 'AZIMICORM': [1709], 'ZIMICORMZ': [1710], 'IMICORMZM': [1711], 'MICORMZMM': [1712], 'ICORMZMML': [1713], 'CORMZMMLH': [1714], 'ORMZMMLHL': [1715], 'RMZMMLHLE': [1716], 'MZMMLHLEA': [1717], 'ZMMLHLEAQ': [1718], 'MMLHLEAQE': [1719], 'MLHLEAQED': [1720], 'LHLEAQEDM': [1721], 'HLEAQEDMJ': [1722], 'LEAQEDMJI': [1723], 'EAQEDMJIP': [1724], 'AQEDMJIPR': [1725], 'QEDMJIPRA': [1726], 'EDMJIPRAZ': [1727], 'DMJIPRAZM': [1728], 'MJIPRAZMM': [1729], 'JIPRAZMMU': [1730], 'IPRAZMMUH': [1731], 'PRAZMMUHG': [1732], 'RAZMMUHGZ': [1733], 'AZMMUHGZQ': [1734], 'ZMMUHGZQN': [1735], 'MMUHGZQNW': [1736], 'MUHGZQNWH': [1737], 'UHGZQNWHA': [1738], 'HGZQNWHAZ': [1739], 'GZQNWHAZT': [1740], 'ZQNWHAZTG': [1741], 'QNWHAZTGL': [1742], 'NWHAZTGLI': [1743], 'WHAZTGLIT': [1744], 'HAZTGLITY': [1745], 'AZTGLITYU': [1746], 'ZTGLITYUQ': [1747], 'TGLITYUQD': [1748], 'GLITYUQDB': [1749], 'LITYUQDBJ': [1750], 'ITYUQDBJL': [1751], 'TYUQDBJLA': [1752], 'YUQDBJLAU': [1753], 'UQDBJLAUA': [1754], 'QDBJLAUAE': [1755], 'DBJLAUAEZ': [1756], 'BJLAUAEZC': [1757], 'JLAUAEZCG': [1758], 'LAUAEZCGA': [1759], 'AUAEZCGAF': [1760], 'UAEZCGAFB': [1761], 'AEZCGAFBJ': [1762], 'EZCGAFBJW': [1763], 'ZCGAFBJWQ': [1764], 'CGAFBJWQG': [1765], 'GAFBJWQGM': [1766], 'AFBJWQGMU': [1767], 'FBJWQGMUI': [1768], 'BJWQGMUID': [1769], 'JWQGMUIDQ': [1770], 'WQGMUIDQG': [1771], 'QGMUIDQGT': [1772], 'GMUIDQGTA': [1773], 'MUIDQGTAB': [1774], 'UIDQGTABZ': [1775], 'IDQGTABZB': [1776], 'DQGTABZBJ': [1777], 'QGTABZBJL': [1778], 'GTABZBJLQ': [1779], 'TABZBJLQO': [1780], 'ABZBJLQOW': [1781], 'BZBJLQOWN': [1782], 'ZBJLQOWNP': [1783], 'BJLQOWNPM': [1784], 'JLQOWNPME': [1785], 'LQOWNPMEG': [1786], 'QOWNPMEGF': [1787], 'OWNPMEGFS': [1788], 'WNPMEGFST': [1789], 'NPMEGFSTW': [1790], 'PMEGFSTWY': [1791], 'MEGFSTWYD': [1792], 'EGFSTWYDM': [1793], 'GFSTWYDMV': [1794], 'FSTWYDMVI': [1795], 'STWYDMVIP': [1796], 'TWYDMVIPF': [1797], 'WYDMVIPFJ': [1798], 'YDMVIPFJI': [1799], 'DMVIPFJIQ': [1800], 'MVIPFJIQG': [1801], 'VIPFJIQGM': [1802], 'IPFJIQGME': [1803], 'PFJIQGMEC': [1804], 'FJIQGMECX': [1805], 'JIQGMECXO': [1806], 'IQGMECXOY': [1807], 'QGMECXOYQ': [1808], 'GMECXOYQM': [1809], 'MECXOYQMB': [1810], 'ECXOYQMBW': [1811], 'CXOYQMBWK': [1812], 'XOYQMBWKH': [1813], 'OYQMBWKHL': [1814], 'YQMBWKHLB': [1815], 'QMBWKHLBZ': [1816], 'MBWKHLBZM': [1817], 'BWKHLBZME': [1818], 'WKHLBZMEE': [1819], 'KHLBZMEEP': [1820], 'HLBZMEEPT': [1821], 'LBZMEEPTQ': [1822], 'BZMEEPTQP': [1823], 'ZMEEPTQPF': [1824], 'MEEPTQPFE': [1825], 'EEPTQPFEB': [1826], 'EPTQPFEBR': [1827], 'PTQPFEBRM': [1828], 'TQPFEBRMJ': [1829], 'QPFEBRMJT': [1830], 'PFEBRMJTX': [1831], 'FEBRMJTXL': [1832], 'EBRMJTXLF': [1833], 'BRMJTXLFI': [1834], 'RMJTXLFIW': [1835], 'MJTXLFIWN': [1836], 'JTXLFIWNF': [1837], 'TXLFIWNFW': [1838], 'XLFIWNFWW': [1839], 'LFIWNFWWO': [1840], 'FIWNFWWOE': [1841], 'IWNFWWOEI': [1842], 'WNFWWOEIK': [1843], 'NFWWOEIKV': [1844], 'FWWOEIKVE': [1845], 'WWOEIKVED': [1846], 'WOEIKVEDO': [1847], 'OEIKVEDOB': [1848], 'EIKVEDOBO': [1849], 'IKVEDOBOP': [1850], 'KVEDOBOPB': [1851], 'VEDOBOPBL': [1852], 'EDOBOPBLW': [1853], 'DOBOPBLWC': [1854], 'OBOPBLWCM': [1855], 'BOPBLWCML': [1856], 'OPBLWCMLT': [1857], 'PBLWCMLTM': [1858], 'BLWCMLTMY': [1859], 'LWCMLTMYC': [1860], 'WCMLTMYCY': [1861], 'CMLTMYCYW': [1862], 'MLTMYCYWL': [1863], 'LTMYCYWLA': [1864], 'TMYCYWLAX': [1865], 'MYCYWLAXX': [1866], 'YCYWLAXXB': [1867], 'CYWLAXXBD': [1868], 'YWLAXXBDO': [1869], 'WLAXXBDOX': [1870], 'LAXXBDOXX': [1871], 'AXXBDOXXO': [1872], 'XXBDOXXOD': [1873], 'XBDOXXODY': [1874], 'BDOXXODYN': [1875], 'DOXXODYNS': [1876], 'OXXODYNSY': [1877], 'XXODYNSYC': [1878], 'XODYNSYCB': [1879], 'ODYNSYCBQ': [1880], 'DYNSYCBQV': [1881], 'YNSYCBQVU': [1882], 'NSYCBQVUU': [1883], 'SYCBQVUUH': [1884], 'YCBQVUUHG': [1885], 'CBQVUUHGP': [1886], 'BQVUUHGPB': [1887], 'QVUUHGPBA': [1888], 'VUUHGPBAV': [1889], 'UUHGPBAVM': [1890], 'UHGPBAVMG': [1891], 'HGPBAVMGV': [1892], 'GPBAVMGVW': [1893], 'PBAVMGVWC': [1894], 'BAVMGVWCT': [1895], 'AVMGVWCTR': [1896], 'VMGVWCTRK': [1897], 'MGVWCTRKI': [1898], 'GVWCTRKIL': [1899], 'VWCTRKILU': [1900], 'WCTRKILUA': [1901], 'CTRKILUAM': [1902], 'TRKILUAMO': [1903], 'RKILUAMOY': [1904], 'KILUAMOYC': [1905], 'ILUAMOYCV': [1906], 'LUAMOYCVM': [1907], 'UAMOYCVMR': [1908], 'AMOYCVMRY': [1909], 'MOYCVMRYQ': [1910], 'OYCVMRYQM': [1911], 'YCVMRYQMO': [1912], 'CVMRYQMOD': [1913], 'VMRYQMODE': [1914], 'MRYQMODEA': [1915], 'RYQMODEAM': [1916], 'YQMODEAME': [1917], 'QMODEAMEX': [1918], 'MODEAMEXN': [1919], 'ODEAMEXNN': [1920], 'DEAMEXNNS': [1921], 'EAMEXNNSR': [1922], 'AMEXNNSRC': [1923], 'MEXNNSRCJ': [1924], 'EXNNSRCJM': [1925], 'XNNSRCJMT': [1926], 'NNSRCJMTG': [1927], 'NSRCJMTGI': [1928], 'SRCJMTGIE': [1929], 'RCJMTGIEA': [1930], 'CJMTGIEAL': [1931], 'JMTGIEALG': [1932], 'MTGIEALGK': [1933], 'TGIEALGKI': [1934], 'GIEALGKIP': [1935], 'IEALGKIPM': [1936], 'EALGKIPMO': [1937], 'ALGKIPMON': [1938], 'LGKIPMONS': [1939], 'GKIPMONSJ': [1940], 'KIPMONSJQ': [1941], 'IPMONSJQU': [1942], 'PMONSJQUV': [1943], 'MONSJQUVO': [1944], 'ONSJQUVOO': [1945], 'NSJQUVOOM': [1946], 'SJQUVOOMX': [1947], 'JQUVOOMXZ': [1948], 'QUVOOMXZG': [1949], 'UVOOMXZGO': [1950], 'VOOMXZGOR': [1951], 'OOMXZGORW': [1952], 'OMXZGORWR': [1953], 'MXZGORWRP': [1954], 'XZGORWRPM': [1955], 'ZGORWRPMM': [1956], 'GORWRPMMI': [1957], 'ORWRPMMID': [1958], 'RWRPMMIDS': [1959], 'WRPMMIDSX': [1960], 'RPMMIDSXX': [1961], 'PMMIDSXXA': [1962], 'MMIDSXXAD': [1963], 'MIDSXXADI': [1964], 'IDSXXADIJ': [1965], 'DSXXADIJI': [1966], 'SXXADIJIP': [1967], 'XXADIJIPH': [1968], 'XADIJIPHK': [1969], 'ADIJIPHKL': [1970], 'DIJIPHKLE': [1971], 'IJIPHKLEE': [1972], 'JIPHKLEEM': [1973], 'IPHKLEEME': [1974], 'PHKLEEMEF': [1975], 'HKLEEMEFP': [1976], 'KLEEMEFPG': [1977], 'LEEMEFPGV': [1978], 'EEMEFPGVM': [1979], 'EMEFPGVMT': [1980], 'MEFPGVMTA': [1981], 'EFPGVMTAY': [1982], 'FPGVMTAYN': [1983], 'PGVMTAYNS': [1984], 'GVMTAYNSE': [1985], 'VMTAYNSES': [1986], 'MTAYNSESS': [1987], 'TAYNSESSM': [1988], 'AYNSESSMR': [1989], 'YNSESSMRQ': [1990], 'NSESSMRQK': [1991], 'SESSMRQKX': [1992], 'ESSMRQKXG': [1993], 'SSMRQKXGJ': [1994], 'SMRQKXGJB': [1995], 'MRQKXGJBU': [1996], 'RQKXGJBUX': [1997], 'QKXGJBUXR': [1998], 'KXGJBUXRQ': [1999], 'XGJBUXRQB': [2000], 'GJBUXRQBX': [2001], 'JBUXRQBXB': [2002], 'BUXRQBXBO': [2003], 'UXRQBXBOO': [2004], 'XRQBXBOOY': [2005], 'RQBXBOOYY': [2006], 'QBXBOOYYU': [2007], 'BXBOOYYUQ': [2008], 'XBOOYYUQT': [2009], 'BOOYYUQTT': [2010], 'OOYYUQTTG': [2011], 'OYYUQTTGN': [2012], 'YYUQTTGNC': [2013], 'YUQTTGNCY': [2014], 'UQTTGNCYI': [2015], 'QTTGNCYIS': [2016], 'TTGNCYISO': [2017], 'TGNCYISOI': [2018], 'GNCYISOIF': [2019], 'NCYISOIFP': [2020], 'CYISOIFPT': [2021], 'YISOIFPTS': [2022], 'ISOIFPTST': [2023], 'SOIFPTSTI': [2024], 'OIFPTSTIC': [2025], 'IFPTSTICF': [2026], 'FPTSTICFC': [2027], 'PTSTICFCT': [2028], 'TSTICFCTB': [2029], 'STICFCTBO': [2030], 'TICFCTBOC': [2031], 'ICFCTBOCY': [2032], 'CFCTBOCYQ': [2033], 'FCTBOCYQE': [2034], 'CTBOCYQEY': [2035], 'TBOCYQEYX': [2036], 'BOCYQEYXK': [2037], 'OCYQEYXKS': [2038], 'CYQEYXKST': [2039], 'YQEYXKSTU': [2040], 'QEYXKSTUA': [2041], 'EYXKSTUAI': [2042], 'YXKSTUAIL': [2043], 'XKSTUAILK': [2044], 'KSTUAILKI': [2045], 'STUAILKIJ': [2046], 'TUAILKIJI': [2047], 'UAILKIJIP': [2048], 'AILKIJIPH': [2049], 'ILKIJIPHA': [2050], 'LKIJIPHAL': [2051], 'KIJIPHALE': [2052], 'IJIPHALER': [2053], 'JIPHALERQ': [2054], 'IPHALERQG': [2055], 'PHALERQGW': [2056], 'HALERQGWN': [2057], 'ALERQGWNW': [2058], 'LERQGWNWU': [2059], 'ERQGWNWUV': [2060], 'RQGWNWUVD': [2061], 'QGWNWUVDQ': [2062], 'GWNWUVDQM': [2063], 'WNWUVDQMQ': [2064], 'NWUVDQMQW': [2065], 'WUVDQMQWE': [2066], 'UVDQMQWEC': [2067], 'VDQMQWECY': [2068], 'DQMQWECYW': [2069], 'QMQWECYWL': [2070], 'MQWECYWLA': [2071], 'QWECYWLAA': [2072], 'WECYWLAAX': [2073], 'ECYWLAAXO': [2074], 'CYWLAAXOW': [2075], 'YWLAAXOWQ': [2076], 'WLAAXOWQG': [2077], 'LAAXOWQGV': [2078], 'AAXOWQGVZ': [2079], 'AXOWQGVZM': [2080], 'XOWQGVZMB': [2081], 'OWQGVZMBK': [2082], 'WQGVZMBKO': [2083], 'QGVZMBKOM': [2084], 'GVZMBKOMO': [2085], 'VZMBKOMOP': [2086], 'ZMBKOMOPI': [2087], 'MBKOMOPIN': [2088], 'BKOMOPINP': [2089], 'KOMOPINPW': [2090], 'OMOPINPWX': [2091], 'MOPINPWXB': [2092], 'OPINPWXBE': [2093], 'PINPWXBEW': [2094], 'INPWXBEWR': [2095], 'NPWXBEWRW': [2096], 'PWXBEWRWD': [2097], 'WXBEWRWDQ': [2098], 'XBEWRWDQU': [2099], 'BEWRWDQUT': [2100], 'EWRWDQUTG': [2101], 'WRWDQUTGG': [2102], 'RWDQUTGGW': [2103], 'WDQUTGGWK': [2104], 'DQUTGGWKV': [2105], 'QUTGGWKVE': [2106], 'UTGGWKVEF': [2107], 'TGGWKVEFC': [2108], 'GGWKVEFCW': [2109], 'GWKVEFCWS': [2110], 'WKVEFCWSM': [2111], 'KVEFCWSMS': [2112], 'VEFCWSMSY': [2113], 'EFCWSMSYM': [2114], 'FCWSMSYMS': [2115], 'CWSMSYMSF': [2116], 'WSMSYMSFI': [2117], 'SMSYMSFIK': [2118], 'MSYMSFIKS': [2119], 'SYMSFIKSY': [2120], 'YMSFIKSYS': [2121], 'MSFIKSYSR': [2122], 'SFIKSYSRX': [2123], 'FIKSYSRXE': [2124], 'IKSYSRXEP': [2125], 'KSYSRXEPM': [2126], 'SYSRXEPML': [2127], 'YSRXEPMLH': [2128], 'SRXEPMLHL': [2129], 'RXEPMLHLZ': [2130], 'XEPMLHLZJ': [2131], 'EPMLHLZJM': [2132], 'PMLHLZJMT': [2133], 'MLHLZJMTG': [2134], 'LHLZJMTGD': [2135], 'HLZJMTGDB': [2136], 'LZJMTGDBR': [2137], 'ZJMTGDBRL': [2138], 'JMTGDBRLM': [2139], 'MTGDBRLMI': [2140], 'TGDBRLMIW': [2141], 'GDBRLMIWM': [2142], 'DBRLMIWMA': [2143], 'BRLMIWMAV': [2144], 'RLMIWMAVT': [2145], 'LMIWMAVTR': [2146], 'MIWMAVTRT': [2147], 'IWMAVTRTS': [2148], 'WMAVTRTSB': [2149], 'MAVTRTSBI': [2150], 'AVTRTSBIA': [2151], 'VTRTSBIAH': [2152], 'TRTSBIAHM': [2153], 'RTSBIAHMG': [2154], 'TSBIAHMGW': [2155], 'SBIAHMGWC': [2156], 'BIAHMGWCO': [2157], 'IAHMGWCOX': [2158], 'AHMGWCOXM': [2159], 'HMGWCOXMG': [2160], 'MGWCOXMGM': [2161], 'GWCOXMGMT': [2162], 'WCOXMGMTT': [2163], 'COXMGMTTF': [2164], 'OXMGMTTFY': [2165], 'XMGMTTFYC': [2166], 'MGMTTFYCY': [2167], 'GMTTFYCYB': [2168], 'MTTFYCYBO': [2169], 'TTFYCYBOP': [2170], 'TFYCYBOPW': [2171], 'FYCYBOPWE': [2172], 'YCYBOPWEC': [2173], 'CYBOPWECB': [2174], 'YBOPWECBI': [2175], 'BOPWECBIK': [2176], 'OPWECBIKY': [2177], 'PWECBIKYU': [2178], 'WECBIKYUQ': [2179], 'ECBIKYUQZ': [2180], 'CBIKYUQZX': [2181], 'BIKYUQZXA': [2182], 'IKYUQZXAZ': [2183], 'KYUQZXAZG': [2184], 'YUQZXAZGV': [2185], 'UQZXAZGVW': [2186], 'QZXAZGVWR': [2187], 'ZXAZGVWRX': [2188], 'XAZGVWRXW': [2189], 'AZGVWRXWJ': [2190], 'ZGVWRXWJI': [2191], 'GVWRXWJIP': [2192], 'VWRXWJIPR': [2193], 'WRXWJIPRK': [2194], 'RXWJIPRKJ': [2195], 'XWJIPRKJE': [2196], 'WJIPRKJEY': [2197], 'JIPRKJEYW': [2198], 'IPRKJEYWL': [2199], 'PRKJEYWLR': [2200], 'RKJEYWLRP': [2201], 'KJEYWLRPG': [2202], 'JEYWLRPGK': [2203], 'EYWLRPGKZ': [2204], 'YWLRPGKZC': [2205], 'WLRPGKZCA': [2206], 'LRPGKZCAV': [2207], 'RPGKZCAVL': [2208], 'PGKZCAVLQ': [2209], 'GKZCAVLQT': [2210], 'KZCAVLQTS': [2211], 'ZCAVLQTST': [2212], 'CAVLQTSTB': [2213], 'AVLQTSTBE': [2214], 'VLQTSTBEE': [2215], 'LQTSTBEEL': [2216], 'QTSTBEELX': [2217], 'TSTBEELXZ': [2218], 'STBEELXZA': [2219], 'TBEELXZAS': [2220], 'BEELXZASY': [2221], 'EELXZASYW': [2222], 'ELXZASYWD': [2223], 'LXZASYWDQ': [2224], 'XZASYWDQB': [2225], 'ZASYWDQBH': [2226], 'ASYWDQBHR': [2227], 'SYWDQBHRL': [2228], 'YWDQBHRLG': [2229], 'WDQBHRLGT': [2230], 'DQBHRLGTC': [2231], 'QBHRLGTCE': [2232], 'BHRLGTCEE': [2233], 'HRLGTCEEB': [2234], 'RLGTCEEBK': [2235], 'LGTCEEBKO': [2236], 'GTCEEBKOD': [2237], 'TCEEBKODO': [2238], 'CEEBKODOI': [2239], 'EEBKODOIK': [2240], 'EBKODOIKI': [2241], 'BKODOIKIA': [2242], 'KODOIKIAV': [2243], 'ODOIKIAVX': [2244], 'DOIKIAVXG': [2245], 'OIKIAVXGJ': [2246], 'IKIAVXGJO': [2247], 'KIAVXGJOW': [2248], 'IAVXGJOWC': [2249], 'AVXGJOWCE': [2250], 'VXGJOWCEQ': [2251], 'XGJOWCEQV': [2252], 'GJOWCEQVX': [2253], 'JOWCEQVXG': [2254], 'OWCEQVXGE': [2255], 'WCEQVXGEO': [2256], 'CEQVXGEOB': [2257], 'EQVXGEOBQ': [2258], 'QVXGEOBQD': [2259], 'VXGEOBQDM': [2260], 'XGEOBQDMB': [2261], 'GEOBQDMBH': [2262], 'EOBQDMBHR': [2263], 'OBQDMBHRZ': [2264], 'BQDMBHRZG': [2265], 'QDMBHRZGA': [2266], 'DMBHRZGAU': [2267], 'MBHRZGAUA': [2268], 'BHRZGAUAB': [2269], 'HRZGAUABM': [2270], 'RZGAUABMK': [2271], 'ZGAUABMKC': [2272], 'GAUABMKCE': [2273], 'AUABMKCEO': [2274], 'UABMKCEOS': [2275], 'ABMKCEOSJ': [2276], 'BMKCEOSJI': [2277], 'MKCEOSJIQ': [2278], 'KCEOSJIQV': [2279], 'CEOSJIQVM': [2280], 'EOSJIQVMC': [2281], 'OSJIQVMCO': [2282], 'SJIQVMCOC': [2283], 'JIQVMCOCX': [2284], 'IQVMCOCXM': [2285], 'QVMCOCXMS': [2286], 'VMCOCXMSF': [2287], 'MCOCXMSFI': [2288], 'COCXMSFIR': [2289], 'OCXMSFIRR': [2290], 'CXMSFIRRP': [2291], 'XMSFIRRPZ': [2292], 'MSFIRRPZI': [2293], 'SFIRRPZII': [2294], 'FIRRPZIIM': [2295], 'IRRPZIIMU': [2296], 'RRPZIIMUV': [2297], 'RPZIIMUVH': [2298], 'PZIIMUVHE': [2299], 'ZIIMUVHEF': [2300], 'IIMUVHEFS': [2301], 'IMUVHEFSW': [2302], 'MUVHEFSWC': [2303], 'UVHEFSWCI': [2304], 'VHEFSWCIQ': [2305], 'HEFSWCIQZ': [2306], 'EFSWCIQZX': [2307], 'FSWCIQZXG': [2308], 'SWCIQZXGD': [2309], 'WCIQZXGDS': [2310], 'CIQZXGDSM': [2311], 'IQZXGDSMC': [2312], 'QZXGDSMCI': [2313], 'ZXGDSMCID': [2314], 'XGDSMCIDX': [2315], 'GDSMCIDXK': [2316], 'DSMCIDXKW': [2317], 'SMCIDXKWY': [2318], 'MCIDXKWYQ': [2319], 'CIDXKWYQO': [2320], 'IDXKWYQOX': [2321], 'DXKWYQOXA': [2322], 'XKWYQOXAX': [2323], 'KWYQOXAXU': [2324], 'WYQOXAXUX': [2325], 'YQOXAXUXB': [2326], 'QOXAXUXBE': [2327], 'OXAXUXBES': [2328], 'XAXUXBESV': [2329], 'AXUXBESVW': [2330], 'XUXBESVWR': [2331], 'UXBESVWRC': [2332], 'XBESVWRCC': [2333], 'BESVWRCCX': [2334], 'ESVWRCCXG': [2335], 'SVWRCCXGZ': [2336], 'VWRCCXGZA': [2337], 'WRCCXGZAU': [2338], 'RCCXGZAUA': [2339], 'CCXGZAUAL': [2340], 'CXGZAUALA': [2341], 'XGZAUALAY': [2342], 'GZAUALAYN': [2343], 'ZAUALAYNS': [2344], 'AUALAYNSS': [2345], 'UALAYNSSO': [2346], 'ALAYNSSOI': [2347], 'LAYNSSOIM': [2348], 'AYNSSOIMM': [2349], 'YNSSOIMMA': [2350], 'NSSOIMMAA': [2351], 'SSOIMMAAW': [2352], 'SOIMMAAWW': [2353], 'OIMMAAWWL': [2354], 'IMMAAWWLO': [2355], 'MMAAWWLOJ': [2356], 'MAAWWLOJQ': [2357], 'AAWWLOJQA': [2358], 'AWWLOJQAK': [2359], 'WWLOJQAKT': [2360], 'WLOJQAKTT': [2361], 'LOJQAKTTS': [2362], 'OJQAKTTSI': [2363], 'JQAKTTSIQ': [2364], 'QAKTTSIQK': [2365], 'AKTTSIQKT': [2366], 'KTTSIQKTE': [2367], 'TTSIQKTEZ': [2368], 'TSIQKTEZK': [2369], 'SIQKTEZKB': [2370], 'IQKTEZKBO': [2371], 'QKTEZKBOY': [2372], 'KTEZKBOYC': [2373], 'TEZKBOYCK': [2374], 'EZKBOYCKA': [2375], 'ZKBOYCKAF': [2376], 'KBOYCKAFU': [2377], 'BOYCKAFUV': [2378], 'OYCKAFUVL': [2379], 'YCKAFUVLW': [2380], 'CKAFUVLWY': [2381], 'KAFUVLWYC': [2382], 'AFUVLWYCA': [2383], 'FUVLWYCAV': [2384], 'UVLWYCAVC': [2385], 'VLWYCAVCM': [2386], 'LWYCAVCMU': [2387], 'WYCAVCMUB': [2388], 'YCAVCMUBB': [2389], 'CAVCMUBBZ': [2390], 'AVCMUBBZM': [2391], 'VCMUBBZMZ': [2392], 'CMUBBZMZM': [2393], 'MUBBZMZMN': [2394], 'UBBZMZMNU': [2395], 'BBZMZMNUM': [2396], 'BZMZMNUMG': [2397], 'ZMZMNUMGR': [2398], 'MZMNUMGRZ': [2399], 'ZMNUMGRZS': [2400], 'MNUMGRZST': [2401], 'NUMGRZSTK': [2402], 'UMGRZSTKU': [2403], 'MGRZSTKUQ': [2404], 'GRZSTKUQV': [2405], 'RZSTKUQVM': [2406], 'ZSTKUQVMO': [2407], 'STKUQVMOW': [2408], 'TKUQVMOWO': [2409], 'KUQVMOWOY': [2410], 'UQVMOWOYZ': [2411], 'QVMOWOYZE': [2412], 'VMOWOYZES': [2413], 'MOWOYZEST': [2414], 'OWOYZESTT': [2415], 'WOYZESTTG': [2416], 'OYZESTTGO': [2417], 'YZESTTGOS': [2418], 'ZESTTGOSK': [2419], 'ESTTGOSKA': [2420], 'STTGOSKAT': [2421], 'TTGOSKATQ': [2422], 'TGOSKATQR': [2423], 'GOSKATQRN': [2424], 'OSKATQRNS': [2425], 'SKATQRNSR': [2426], 'KATQRNSRC': [2427], 'ATQRNSRCV': [2428], 'TQRNSRCVW': [2429], 'QRNSRCVWR': [2430], 'RNSRCVWRC': [2431], 'NSRCVWRCC': [2432], 'SRCVWRCCX': [2433], 'RCVWRCCXS': [2434], 'CVWRCCXSW': [2435], 'VWRCCXSWQ': [2436], 'WRCCXSWQN': [2437], 'RCCXSWQNQ': [2438], 'CCXSWQNQS': [2439], 'CXSWQNQSF': [2440], 'XSWQNQSFM': [2441], 'SWQNQSFMX': [2442], 'WQNQSFMXG': [2443], 'QNQSFMXGU': [2444], 'NQSFMXGUI': [2445], 'QSFMXGUIM': [2446], 'SFMXGUIMI': [2447], 'FMXGUIMIR': [2448], 'MXGUIMIRX': [2449], 'XGUIMIRXW': [2450], 'GUIMIRXWW': [2451], 'UIMIRXWWS': [2452], 'IMIRXWWSW': [2453], 'MIRXWWSWO': [2454], 'IRXWWSWOS': [2455], 'RXWWSWOSM': [2456], 'XWWSWOSMJ': [2457], 'WWSWOSMJA': [2458], 'WSWOSMJAZ': [2459], 'SWOSMJAZF': [2460], 'WOSMJAZFO': [2461], 'OSMJAZFOY': [2462], 'SMJAZFOYS': [2463], 'MJAZFOYSX': [2464], 'JAZFOYSXI': [2465], 'AZFOYSXIQ': [2466], 'ZFOYSXIQG': [2467], 'FOYSXIQGM': [2468], 'OYSXIQGMI': [2469], 'YSXIQGMIC': [2470], 'SXIQGMICO': [2471], 'XIQGMICOO': [2472], 'IQGMICOOS': [2473], 'QGMICOOSW': [2474], 'GMICOOSWS': [2475], 'MICOOSWSN': [2476], 'ICOOSWSNC': [2477], 'COOSWSNCL': [2478], 'OOSWSNCLQ': [2479], 'OSWSNCLQL': [2480], 'SWSNCLQLB': [2481], 'WSNCLQLBJ': [2482], 'SNCLQLBJW': [2483], 'NCLQLBJWL': [2484], 'CLQLBJWLX': [2485], 'LQLBJWLXM': [2486], 'QLBJWLXMZ': [2487], 'LBJWLXMZO': [2488], 'BJWLXMZOC': [2489], 'JWLXMZOCG': [2490], 'WLXMZOCGO': [2491], 'LXMZOCGOV': [2492], 'XMZOCGOVV': [2493], 'MZOCGOVVQ': [2494], 'ZOCGOVVQZ': [2495], 'OCGOVVQZZ': [2496], 'CGOVVQZZI': [2497], 'GOVVQZZIP': [2498], 'OVVQZZIPB': [2499], 'VVQZZIPBF': [2500], 'VQZZIPBFI': [2501], 'QZZIPBFIA': [2502], 'ZZIPBFIAX': [2503], 'ZIPBFIAXN': [2504], 'IPBFIAXNB': [2505], 'PBFIAXNBB': [2506], 'BFIAXNBBO': [2507], 'FIAXNBBOS': [2508], 'IAXNBBOSK': [2509], 'AXNBBOSKA': [2510], 'XNBBOSKAT': [2511], 'NBBOSKATQ': [2512], 'BBOSKATQO': [2513], 'BOSKATQOK': [2514], 'OSKATQOKO': [2515], 'SKATQOKOY': [2516], 'KATQOKOYJ': [2517], 'ATQOKOYJO': [2518], 'TQOKOYJOI': [2519], 'QOKOYJOIJ': [2520], 'OKOYJOIJQ': [2521], 'KOYJOIJQY': [2522], 'OYJOIJQYN': [2523], 'YJOIJQYNS': [2524], 'JOIJQYNSN': [2525], 'OIJQYNSNC': [2526], 'IJQYNSNCT': [2527], 'JQYNSNCTW': [2528], 'QYNSNCTWC': [2529], 'YNSNCTWCQ': [2530], 'NSNCTWCQU': [2531], 'SNCTWCQUH': [2532], 'NCTWCQUHG': [2533], 'CTWCQUHGN': [2534], 'TWCQUHGNC': [2535], 'WCQUHGNCS': [2536], 'CQUHGNCSW': [2537], 'QUHGNCSWV': [2538], 'UHGNCSWVU': [2539], 'HGNCSWVUL': [2540], 'GNCSWVULT': [2541], 'NCSWVULTO': [2542], 'CSWVULTOD': [2543], 'SWVULTODW': [2544], 'WVULTODWW': [2545], 'VULTODWWC': [2546], 'ULTODWWCE': [2547], 'LTODWWCEO': [2548], 'TODWWCEOW': [2549], 'ODWWCEOWG': [2550], 'DWWCEOWGQ': [2551], 'WWCEOWGQP': [2552], 'WCEOWGQPB': [2553], 'CEOWGQPBZ': [2554], 'EOWGQPBZZ': [2555], 'OWGQPBZZA': [2556], 'WGQPBZZAF': [2557], 'GQPBZZAFM': [2558], 'QPBZZAFMV': [2559], 'PBZZAFMVO': [2560], 'BZZAFMVOO': [2561], 'ZZAFMVOOO': [2562], 'ZAFMVOOOS': [2563], 'AFMVOOOSQ': [2564], 'FMVOOOSQN': [2565], 'MVOOOSQNG': [2566], 'VOOOSQNGB': [2567], 'OOOSQNGBH': [2568], 'OOSQNGBHQ': [2569], 'OSQNGBHQZ': [2570], 'SQNGBHQZA': [2571], 'QNGBHQZAU': [2572], 'NGBHQZAUC': [2573], 'GBHQZAUCN': [2574], 'BHQZAUCND': [2575], 'HQZAUCNDW': [2576], 'QZAUCNDWF': [2577], 'ZAUCNDWFO': [2578], 'AUCNDWFOY': [2579], 'UCNDWFOYC': [2580], 'CNDWFOYCI': [2581], 'NDWFOYCIW': [2582], 'DWFOYCIWM': [2583], 'WFOYCIWMA': [2584], 'FOYCIWMAC': [2585], 'OYCIWMACG': [2586], 'YCIWMACGV': [2587], 'CIWMACGVZ': [2588], 'IWMACGVZA': [2589], 'WMACGVZAH': [2590], 'MACGVZAHZ': [2591], 'ACGVZAHZE': [2592], 'CGVZAHZEQ': [2593], 'GVZAHZEQV': [2594], 'VZAHZEQVA': [2595], 'ZAHZEQVAO': [2596], 'AHZEQVAON': [2597], 'HZEQVAONS': [2598], 'ZEQVAONSX': [2599], 'EQVAONSXT': [2600], 'QVAONSXTO': [2601], 'VAONSXTOC': [2602], 'AONSXTOCC': [2603], 'ONSXTOCCX': [2604], 'NSXTOCCXS': [2605], 'SXTOCCXSD': [2606], 'XTOCCXSDH': [2607], 'TOCCXSDHG': [2608], 'OCCXSDHGN': [2609], 'CCXSDHGNR': [2610], 'CXSDHGNRQ': [2611], 'XSDHGNRQV': [2612], 'SDHGNRQVM': [2613], 'DHGNRQVMS': [2614], 'HGNRQVMSL': [2615], 'GNRQVMSLH': [2616], 'NRQVMSLHO': [2617], 'RQVMSLHOK': [2618], 'QVMSLHOKO': [2619], 'VMSLHOKOZ': [2620], 'MSLHOKOZA': [2621], 'SLHOKOZAX': [2622], 'LHOKOZAXF': [2623], 'HOKOZAXFT': [2624], 'OKOZAXFTS': [2625], 'KOZAXFTSJ': [2626], 'OZAXFTSJI': [2627], 'ZAXFTSJID': [2628], 'AXFTSJIDB': [2629], 'XFTSJIDBZ': [2630], 'FTSJIDBZX': [2631], 'TSJIDBZXQ': [2632], 'SJIDBZXQT': [2633], 'JIDBZXQTG': [2634], 'IDBZXQTGG': [2635], 'DBZXQTGGG': [2636], 'BZXQTGGGG': [2637], 'ZXQTGGGGQ': [2638], 'XQTGGGGQV': [2639], 'QTGGGGQVN': [2640], 'TGGGGQVNW': [2641], 'GGGGQVNWY': [2642], 'GGGQVNWYO': [2643], 'GGQVNWYOI': [2644], 'GQVNWYOIW': [2645], 'QVNWYOIWN': [2646], 'VNWYOIWNF': [2647], 'NWYOIWNFM': [2648], 'WYOIWNFMK': [2649], 'YOIWNFMKB': [2650], 'OIWNFMKBF': [2651], 'IWNFMKBFF': [2652], 'WNFMKBFFG': [2653], 'NFMKBFFGK': [2654], 'FMKBFFGKO': [2655], 'MKBFFGKOZ': [2656], 'KBFFGKOZD': [2657], 'BFFGKOZDH': [2658], 'FFGKOZDHZ': [2659], 'FGKOZDHZF': [2660], 'GKOZDHZFB': [2661], 'KOZDHZFBZ': [2662], 'OZDHZFBZI': [2663], 'ZDHZFBZID': [2664], 'DHZFBZIDO': [2665], 'HZFBZIDOW': [2666], 'ZFBZIDOWG': [2667], 'FBZIDOWGX': [2668], 'BZIDOWGXF': [2669], 'ZIDOWGXFG': [2670], 'IDOWGXFGZ': [2671], 'DOWGXFGZQ': [2672], 'OWGXFGZQC': [2673], 'WGXFGZQCU': [2674], 'GXFGZQCUI': [2675], 'XFGZQCUIR': [2676], 'FGZQCUIRS': [2677], 'GZQCUIRSY': [2678], 'ZQCUIRSYZ': [2679], 'QCUIRSYZO': [2680], 'CUIRSYZOJ': [2681], 'UIRSYZOJE': [2682], 'IRSYZOJED': [2683], 'RSYZOJEDI': [2684], 'SYZOJEDIK': [2685], 'YZOJEDIKH': [2686], 'ZOJEDIKHP': [2687], 'OJEDIKHPR': [2688], 'JEDIKHPRK': [2689], 'EDIKHPRKB': [2690], 'DIKHPRKBO': [2691], 'IKHPRKBOP': [2692], 'KHPRKBOPI': [2693], 'HPRKBOPIL': [2694], 'PRKBOPILZ': [2695], 'RKBOPILZL': [2696], 'KBOPILZLG': [2697], 'BOPILZLGJ': [2698], 'OPILZLGJM': [2699], 'PILZLGJMM': [2700], 'ILZLGJMMM': [2701], 'LZLGJMMMA': [2702], 'ZLGJMMMAW': [2703], 'LGJMMMAWW': [2704], 'GJMMMAWWD': [2705], 'JMMMAWWDH': [2706], 'MMMAWWDHX': [2707], 'MMAWWDHXI': [2708], 'MAWWDHXIC': [2709], 'AWWDHXICO': [2710], 'WWDHXICOQ': [2711], 'WDHXICOQH': [2712], 'DHXICOQHB': [2713], 'HXICOQHBP': [2714], 'XICOQHBPM': [2715], 'ICOQHBPMY': [2716], 'COQHBPMYQ': [2717], 'OQHBPMYQH': [2718], 'QHBPMYQHM': [2719], 'HBPMYQHMK': [2720], 'BPMYQHMKX': [2721], 'PMYQHMKXG': [2722], 'MYQHMKXGE': [2723], 'YQHMKXGEC': [2724], 'QHMKXGECJ': [2725], 'HMKXGECJW': [2726], 'MKXGECJWC': [2727], 'KXGECJWCA': [2728], 'XGECJWCAU': [2729], 'GECJWCAUH': [2730], 'ECJWCAUHG': [2731], 'CJWCAUHGT': [2732], 'JWCAUHGTT': [2733], 'WCAUHGTTA': [2734], 'CAUHGTTAM': [2735], 'AUHGTTAMR': [2736], 'UHGTTAMRM': [2737], 'HGTTAMRMT': [2738], 'GTTAMRMTH': [2739], 'TTAMRMTHI': [2740], 'TAMRMTHIW': [2741], 'AMRMTHIWH': [2742], 'MRMTHIWHO': [2743], 'RMTHIWHOU': [2744], 'MTHIWHOUO': [2745], 'THIWHOUOC': [2746], 'HIWHOUOCC': [2747], 'IWHOUOCCX': [2748], 'WHOUOCCXV': [2749], 'HOUOCCXVL': [2750], 'OUOCCXVLF': [2751], 'UOCCXVLFO': [2752], 'OCCXVLFOI': [2753], 'CCXVLFOIS': [2754], 'CXVLFOISQ': [2755], 'XVLFOISQV': [2756], 'VLFOISQVM': [2757], 'LFOISQVMI': [2758], 'FOISQVMIG': [2759], 'OISQVMIGW': [2760], 'ISQVMIGWJ': [2761], 'SQVMIGWJI': [2762], 'QVMIGWJIY': [2763], 'VMIGWJIYP': [2764], 'MIGWJIYPM': [2765], 'IGWJIYPMC': [2766], 'GWJIYPMCO': [2767], 'WJIYPMCOD': [2768], 'JIYPMCODR': [2769], 'IYPMCODRK': [2770], 'YPMCODRKK': [2771], 'PMCODRKKA': [2772], 'MCODRKKAY': [2773], 'CODRKKAYQ': [2774], 'ODRKKAYQG': [2775], 'DRKKAYQGO': [2776], 'RKKAYQGOC': [2777], 'KKAYQGOCG': [2778], 'KAYQGOCGO': [2779], 'AYQGOCGOV': [2780], 'YQGOCGOVR': [2781], 'QGOCGOVRG': [2782], 'GOCGOVRGU': [2783], 'OCGOVRGUU': [2784], 'CGOVRGUUC': [2785], 'GOVRGUUCO': [2786], 'OVRGUUCOS': [2787], 'VRGUUCOSP': [2788], 'RGUUCOSPI': [2789], 'GUUCOSPIS': [2790], 'UUCOSPISP': [2791], 'UCOSPISPM': [2792], 'COSPISPMW': [2793], 'OSPISPMWS': [2794], 'SPISPMWSU': [2795], 'PISPMWSUO': [2796], 'ISPMWSUOX': [2797], 'SPMWSUOXY': [2798], 'PMWSUOXYU': [2799], 'MWSUOXYUQ': [2800], 'WSUOXYUQB': [2801], 'SUOXYUQBN': [2802], 'UOXYUQBNG': [2803], 'OXYUQBNGP': [2804], 'XYUQBNGPA': [2805], 'YUQBNGPAU': [2806], 'UQBNGPAUK': [2807], 'QBNGPAUKI': [2808], 'BNGPAUKIA': [2809], 'NGPAUKIAV': [2810], 'GPAUKIAVX': [2811], 'PAUKIAVXG': [2812], 'AUKIAVXGL': [2813], 'UKIAVXGLB': [2814], 'KIAVXGLBA': [2815], 'IAVXGLBAT': [2816], 'AVXGLBATE': [2817], 'VXGLBATEZ': [2818], 'XGLBATEZT': [2819], 'GLBATEZTH': [2820], 'LBATEZTHE': [2821], 'BATEZTHEF': [2822], 'ATEZTHEFS': [2823], 'TEZTHEFSZ': [2824], 'EZTHEFSZM': [2825], 'ZTHEFSZMD': [2826], 'THEFSZMDU': [2827], 'HEFSZMDUK': [2828], 'EFSZMDUKX': [2829], 'FSZMDUKXH': [2830], 'SZMDUKXHF': [2831], 'ZMDUKXHFA': [2832], 'MDUKXHFAK': [2833], 'DUKXHFAKV': [2834], 'UKXHFAKVT': [2835], 'KXHFAKVTQ': [2836], 'XHFAKVTQL': [2837], 'HFAKVTQLX': [2838], 'FAKVTQLXX': [2839], 'AKVTQLXXL': [2840], 'KVTQLXXLG': [2841], 'VTQLXXLGJ': [2842], 'TQLXXLGJM': [2843], 'QLXXLGJMS': [2844], 'LXXLGJMSQ': [2845], 'XXLGJMSQZ': [2846], 'XLGJMSQZA': [2847], 'LGJMSQZAW': [2848], 'GJMSQZAWA': [2849], 'JMSQZAWAC': [2850], 'MSQZAWACI': [2851], 'SQZAWACIZ': [2852], 'QZAWACIZI': [2853], 'ZAWACIZIF': [2854], 'AWACIZIFI': [2855], 'WACIZIFIX': [2856], 'ACIZIFIXU': [2857], 'CIZIFIXUZ': [2858], 'IZIFIXUZQ': [2859], 'ZIFIXUZQK': [2860], 'IFIXUZQKV': [2861], 'FIXUZQKVT': [2862], 'IXUZQKVTD': [2863], 'XUZQKVTDQ': [2864], 'UZQKVTDQV': [2865], 'ZQKVTDQVC': [2866], 'QKVTDQVCP': [2867], 'KVTDQVCPW': [2868], 'VTDQVCPWX': [2869], 'TDQVCPWXZ': [2870], 'DQVCPWXZI': [2871], 'QVCPWXZIF': [2872], 'VCPWXZIFI': [2873], 'CPWXZIFIU': [2874], 'PWXZIFIUZ': [2875], 'WXZIFIUZP': [2876], 'XZIFIUZP': [2877], 'ZIFIUZP': [2878], 'IFIUZP': [2879], 'FIUZP': [2880], 'IUZP': [2881], 'UZP': [2882]} \n",
            " Ordenadas: [('MGSDHGDIP', [370, 1450]), ('GSDHGDIPI', [371, 1451]), ('MVILBJWAB', [703, 739]), ('VILBJWABZ', [704, 740]), ('ILBJWABZX', [705, 741]), ('LBJWABZXB', [706, 742]), ('BJWABZXBO', [707, 743]), ('JWABZXBOS', [708, 744]), ('WABZXBOSY', [709, 745]), ('ABZXBOSYI', [710, 746]), ('CAVYWLFKV', [719, 1142]), ('IYOSMNFIE', [831, 1110]), ('YOSMNFIEW', [832, 1111]), ('OSMNFIEWO', [833, 1112]), ('SMNFIEWOO', [834, 1113]), ('MNFIEWOOJ', [835, 1114]), ('NFIEWOOJQ', [836, 1115]), ('FIEWOOJQM', [837, 1116]), ('IEWOOJQMB', [838, 1117]), ('EWOOJQMBT', [839, 1118]), ('WOOJQMBTT', [840, 1119]), ('OOJQMBTTQ', [841, 1120]), ('OJQMBTTQL', [842, 1121]), ('JQMBTTQLP', [843, 1122]), ('QMBTTQLPR', [844, 1123]), ('MBTTQLPRM', [845, 1124]), ('QABAACYQB', [0]), ('ABAACYQBX', [1]), ('BAACYQBXM', [2]), ('AACYQBXMM', [3]), ('ACYQBXMMS', [4]), ('CYQBXMMSY', [5]), ('YQBXMMSYS', [6]), ('QBXMMSYSX', [7]), ('BXMMSYSXB', [8]), ('XMMSYSXBO', [9]), ('MMSYSXBOP', [10]), ('MSYSXBOPW', [11]), ('SYSXBOPWU', [12]), ('YSXBOPWUO', [13]), ('SXBOPWUOU', [14]), ('XBOPWUOUC', [15]), ('BOPWUOUCI', [16]), ('OPWUOUCIW', [17]), ('PWUOUCIWN', [18]), ('WUOUCIWNF', [19]), ('UOUCIWNFZ', [20]), ('OUCIWNFZH', [21]), ('UCIWNFZHZ', [22]), ('CIWNFZHZE', [23]), ('IWNFZHZES', [24]), ('WNFZHZEST', [25]), ('NFZHZESTM', [26]), ('FZHZESTMM', [27]), ('ZHZESTMMA', [28]), ('HZESTMMAA', [29]), ('ZESTMMAAJ', [30]), ('ESTMMAAJI', [31]), ('STMMAAJIP', [32]), ('TMMAAJIPR', [33]), ('MMAAJIPRG', [34]), ('MAAJIPRGZ', [35]), ('AAJIPRGZN', [36]), ('AJIPRGZNA', [37]), ('JIPRGZNAA', [38]), ('IPRGZNAAV', [39]), ('PRGZNAAVI', [40]), ('RGZNAAVIP', [41]), ('GZNAAVIPB', [42]), ('ZNAAVIPBZ', [43]), ('NAAVIPBZI', [44]), ('AAVIPBZIQ', [45]), ('AVIPBZIQG', [46]), ('VIPBZIQGM', [47]), ('IPBZIQGMI', [48]), ('PBZIQGMIS', [49]), ('BZIQGMISY', [50]), ('ZIQGMISYG', [51]), ('IQGMISYGG', [52]), ('QGMISYGGZ', [53]), ('GMISYGGZD', [54]), ('MISYGGZDQ', [55]), ('ISYGGZDQU', [56]), ('SYGGZDQUT', [57]), ('YGGZDQUTG', [58]), ('GGZDQUTGT', [59]), ('GZDQUTGTO', [60]), ('ZDQUTGTOJ', [61]), ('DQUTGTOJW', [62]), ('QUTGTOJWE', [63]), ('UTGTOJWEZ', [64]), ('TGTOJWEZM', [65]), ('GTOJWEZME', [66]), ('TOJWEZMET', [67]), ('OJWEZMETF', [68]), ('JWEZMETFH', [69]), ('WEZMETFHA', [70]), ('EZMETFHAZ', [71]), ('ZMETFHAZO', [72]), ('METFHAZOB', [73]), ('ETFHAZOBC', [74]), ('TFHAZOBCX', [75]), ('FHAZOBCXR', [76]), ('HAZOBCXRP', [77]), ('AZOBCXRPZ', [78]), ('ZOBCXRPZR', [79]), ('OBCXRPZRM', [80]), ('BCXRPZRMV', [81]), ('CXRPZRMVM', [82]), ('XRPZRMVMZ', [83]), ('RPZRMVMZT', [84]), ('PZRMVMZTW', [85]), ('ZRMVMZTWX', [86]), ('RMVMZTWXO', [87]), ('MVMZTWXOM', [88]), ('VMZTWXOMQ', [89]), ('MZTWXOMQN', [90]), ('ZTWXOMQNM', [91]), ('TWXOMQNMZ', [92]), ('WXOMQNMZG', [93]), ('XOMQNMZGC', [94]), ('OMQNMZGCD', [95]), ('MQNMZGCDG', [96]), ('QNMZGCDGO', [97]), ('NMZGCDGOB', [98]), ('MZGCDGOBU', [99]), ('ZGCDGOBUM', [100]), ('GCDGOBUMK', [101]), ('CDGOBUMKB', [102]), ('DGOBUMKBC', [103]), ('GOBUMKBCY', [104]), ('OBUMKBCYS', [105]), ('BUMKBCYSY', [106]), ('UMKBCYSYG', [107]), ('MKBCYSYGP', [108]), ('KBCYSYGPD', [109]), ('BCYSYGPDW', [110]), ('CYSYGPDWU', [111]), ('YSYGPDWUZ', [112]), ('SYGPDWUZP', [113]), ('YGPDWUZPA', [114]), ('GPDWUZPAG', [115]), ('PDWUZPAGA', [116]), ('DWUZPAGAQ', [117]), ('WUZPAGAQG', [118]), ('UZPAGAQGM', [119]), ('ZPAGAQGMI', [120]), ('PAGAQGMII', [121]), ('AGAQGMIIP', [122]), ('GAQGMIIPR', [123]), ('AQGMIIPRK', [124]), ('QGMIIPRKV', [125]), ('GMIIPRKVN', [126]), ('MIIPRKVNA', [127]), ('IIPRKVNAM', [128]), ('IPRKVNAMQ', [129]), ('PRKVNAMQW', [130]), ('RKVNAMQWD', [131]), ('KVNAMQWDH', [132]), ('VNAMQWDHO', [133]), ('NAMQWDHOZ', [134]), ('AMQWDHOZT', [135]), ('MQWDHOZTA', [136]), ('QWDHOZTAL', [137]), ('WDHOZTALH', [138]), ('DHOZTALHS', [139]), ('HOZTALHSD', [140]), ('OZTALHSDH', [141]), ('ZTALHSDHU', [142]), ('TALHSDHUK', [143]), ('ALHSDHUKO', [144]), ('LHSDHUKOZ', [145]), ('HSDHUKOZL', [146]), ('SDHUKOZLN', [147]), ('DHUKOZLNQ', [148]), ('HUKOZLNQP', [149]), ('UKOZLNQPO', [150]), ('KOZLNQPOR', [151]), ('OZLNQPORI', [152]), ('ZLNQPORIA', [153]), ('LNQPORIAZ', [154]), ('NQPORIAZA', [155]), ('QPORIAZAB', [156]), ('PORIAZABS', [157]), ('ORIAZABSO', [158]), ('RIAZABSOO', [159]), ('IAZABSOOJ', [160]), ('AZABSOOJM', [161]), ('ZABSOOJML', [162]), ('ABSOOJMLC', [163]), ('BSOOJMLCC', [164]), ('SOOJMLCCX', [165]), ('OOJMLCCXG', [166]), ('OJMLCCXGF', [167]), ('JMLCCXGFT', [168]), ('MLCCXGFTX', [169]), ('LCCXGFTXM', [170]), ('CCXGFTXMA', [171]), ('CXGFTXMAZ', [172]), ('XGFTXMAZB', [173]), ('GFTXMAZBX', [174]), ('FTXMAZBXG', [175]), ('TXMAZBXGO', [176]), ('XMAZBXGOS', [177]), ('MAZBXGOSW', [178]), ('AZBXGOSWC', [179]), ('ZBXGOSWCE', [180]), ('BXGOSWCEE', [181]), ('XGOSWCEEM', [182]), ('GOSWCEEMT', [183]), ('OSWCEEMTB', [184]), ('SWCEEMTBP', [185]), ('WCEEMTBPQ', [186]), ('CEEMTBPQK', [187]), ('EEMTBPQKA', [188]), ('EMTBPQKAA', [189]), ('MTBPQKAAD', [190]), ('TBPQKAADQ', [191]), ('BPQKAADQH', [192]), ('PQKAADQHG', [193]), ('QKAADQHGF', [194]), ('KAADQHGFT', [195]), ('AADQHGFTX', [196]), ('ADQHGFTXM', [197]), ('DQHGFTXMM', [198]), ('QHGFTXMMM', [199]), ('HGFTXMMMA', [200]), ('GFTXMMMAW', [201]), ('FTXMMMAWS', [202]), ('TXMMMAWSW', [203]), ('XMMMAWSWC', [204]), ('MMMAWSWCT', [205]), ('MMAWSWCTM', [206]), ('MAWSWCTMC', [207]), ('AWSWCTMCQ', [208]), ('WSWCTMCQA', [209]), ('SWCTMCQAT', [210]), ('WCTMCQATF', [211]), ('CTMCQATFT', [212]), ('TMCQATFTC', [213]), ('MCQATFTCV', [214]), ('CQATFTCVM', [215]), ('QATFTCVMR', [216]), ('ATFTCVMRA', [217]), ('TFTCVMRAA', [218]), ('FTCVMRAAB', [219]), ('TCVMRAABE', [220]), ('CVMRAABEF', [221]), ('VMRAABEFW', [222]), ('MRAABEFWK', [223]), ('RAABEFWKZ', [224]), ('AABEFWKZE', [225]), ('ABEFWKZEE', [226]), ('BEFWKZEEZ', [227]), ('EFWKZEEZX', [228]), ('FWKZEEZXO', [229]), ('WKZEEZXOW', [230]), ('KZEEZXOWW', [231]), ('ZEEZXOWWF', [232]), ('EEZXOWWFI', [233]), ('EZXOWWFIR', [234]), ('ZXOWWFIRM', [235]), ('XOWWFIRMT', [236]), ('OWWFIRMTZ', [237]), ('WWFIRMTZC', [238]), ('WFIRMTZCY', [239]), ('FIRMTZCYC', [240]), ('IRMTZCYCN', [241]), ('RMTZCYCNI', [242]), ('MTZCYCNIY', [243]), ('TZCYCNIYY', [244]), ('ZCYCNIYYI', [245]), ('CYCNIYYIL', [246]), ('YCNIYYILE', [247]), ('CNIYYILEF', [248]), ('NIYYILEFS', [249]), ('IYYILEFSI', [250]), ('YYILEFSIW', [251]), ('YILEFSIWN', [252]), ('ILEFSIWNR', [253]), ('LEFSIWNRQ', [254]), ('EFSIWNRQT', [255]), ('FSIWNRQTF', [256]), ('SIWNRQTFP', [257]), ('IWNRQTFPB', [258]), ('WNRQTFPBZ', [259]), ('NRQTFPBZC', [260]), ('RQTFPBZCV', [261]), ('QTFPBZCVQ', [262]), ('TFPBZCVQZ', [263]), ('FPBZCVQZL', [264]), ('PBZCVQZLW', [265]), ('BZCVQZLWZ', [266]), ('ZCVQZLWZB', [267]), ('CVQZLWZBJ', [268]), ('VQZLWZBJM', [269]), ('QZLWZBJMT', [270]), ('ZLWZBJMTU', [271]), ('LWZBJMTUY', [272]), ('WZBJMTUYN', [273]), ('ZBJMTUYNS', [274]), ('BJMTUYNSO', [275]), ('JMTUYNSOO', [276]), ('MTUYNSOOR', [277]), ('TUYNSOORW', [278]), ('UYNSOORWM', [279]), ('YNSOORWMQ', [280]), ('NSOORWMQR', [281]), ('SOORWMQRH', [282]), ('OORWMQRHF', [283]), ('ORWMQRHFO', [284]), ('RWMQRHFOS', [285]), ('WMQRHFOSY', [286]), ('MQRHFOSYQ', [287]), ('QRHFOSYQP', [288]), ('RHFOSYQPM', [289]), ('HFOSYQPMZ', [290]), ('FOSYQPMZT', [291]), ('OSYQPMZTC', [292]), ('SYQPMZTCM', [293]), ('YQPMZTCMH', [294]), ('QPMZTCMHK', [295]), ('PMZTCMHKV', [296]), ('MZTCMHKVE', [297]), ('ZTCMHKVED', [298]), ('TCMHKVEDM', [299]), ('CMHKVEDML', [300]), ('MHKVEDMLC', [301]), ('HKVEDMLCB', [302]), ('KVEDMLCBI', [303]), ('VEDMLCBIK', [304]), ('EDMLCBIKY', [305]), ('DMLCBIKYU', [306]), ('MLCBIKYUU', [307]), ('LCBIKYUUZ', [308]), ('CBIKYUUZX', [309]), ('BIKYUUZXG', [310]), ('IKYUUZXGE', [311]), ('KYUUZXGEI', [312]), ('YUUZXGEIY', [313]), ('UUZXGEIYU', [314]), ('UZXGEIYUE', [315]), ('ZXGEIYUEF', [316]), ('XGEIYUEFI', [317]), ('GEIYUEFIL', [318]), ('EIYUEFILM', [319]), ('IYUEFILME', [320]), ('YUEFILMEI', [321]), ('UEFILMEIY', [322]), ('EFILMEIYA', [323]), ('FILMEIYAU', [324]), ('ILMEIYAUQ', [325]), ('LMEIYAUQV', [326]), ('MEIYAUQVH', [327]), ('EIYAUQVHG', [328]), ('IYAUQVHGA', [329]), ('YAUQVHGAS', [330]), ('AUQVHGASX', [331]), ('UQVHGASXW', [332]), ('QVHGASXWT', [333]), ('VHGASXWTM', [334]), ('HGASXWTMU', [335]), ('GASXWTMUU', [336]), ('ASXWTMUUW', [337]), ('SXWTMUUWP', [338]), ('XWTMUUWPB', [339]), ('WTMUUWPBK', [340]), ('TMUUWPBKA', [341]), ('MUUWPBKAI', [342]), ('UUWPBKAIY', [343]), ('UWPBKAIYX', [344]), ('WPBKAIYXH', [345]), ('PBKAIYXHF', [346]), ('BKAIYXHFE', [347]), ('KAIYXHFEO', [348]), ('AIYXHFEOX', [349]), ('IYXHFEOXB', [350]), ('YXHFEOXBE', [351]), ('XHFEOXBEB', [352]), ('HFEOXBEBM', [353]), ('FEOXBEBMK', [354]), ('EOXBEBMKR', [355]), ('OXBEBMKRZ', [356]), ('XBEBMKRZB', [357]), ('BEBMKRZBG', [358]), ('EBMKRZBGZ', [359]), ('BMKRZBGZT', [360]), ('MKRZBGZTQ', [361]), ('KRZBGZTQM', [362]), ('RZBGZTQMG', [363]), ('ZBGZTQMGS', [364]), ('BGZTQMGSD', [365]), ('GZTQMGSDH', [366]), ('ZTQMGSDHG', [367]), ('TQMGSDHGD', [368]), ('QMGSDHGDI', [369]), ('SDHGDIPIO', [372]), ('DHGDIPIOW', [373]), ('HGDIPIOWP', [374]), ('GDIPIOWPB', [375]), ('DIPIOWPBK', [376]), ('IPIOWPBKA', [377]), ('PIOWPBKAA', [378]), ('IOWPBKAAO', [379]), ('OWPBKAAOI', [380]), ('WPBKAAOIZ', [381]), ('PBKAAOIZO', [382]), ('BKAAOIZOC', [383]), ('KAAOIZOCZ', [384]), ('AAOIZOCZG', [385]), ('AOIZOCZGM', [386]), ('OIZOCZGMN', [387]), ('IZOCZGMNQ', [388]), ('ZOCZGMNQT', [389]), ('OCZGMNQTX', [390]), ('CZGMNQTXB', [391]), ('ZGMNQTXBP', [392]), ('GMNQTXBPZ', [393]), ('MNQTXBPZS', [394]), ('NQTXBPZSW', [395]), ('QTXBPZSWM', [396]), ('TXBPZSWMQ', [397]), ('XBPZSWMQV', [398]), ('BPZSWMQVM', [399]), ('PZSWMQVMC', [400]), ('ZSWMQVMCB', [401]), ('SWMQVMCBI', [402]), ('WMQVMCBIK', [403]), ('MQVMCBIKD', [404]), ('QVMCBIKDI', [405]), ('VMCBIKDIQ', [406]), ('MCBIKDIQV', [407]), ('CBIKDIQVX', [408]), ('BIKDIQVXG', [409]), ('IKDIQVXGL', [410]), ('KDIQVXGLQ', [411]), ('DIQVXGLQG', [412]), ('IQVXGLQGO', [413]), ('QVXGLQGOA', [414]), ('VXGLQGOAD', [415]), ('XGLQGOADT', [416]), ('GLQGOADTT', [417]), ('LQGOADTTM', [418]), ('QGOADTTME', [419]), ('GOADTTMES', [420]), ('OADTTMESV', [421]), ('ADTTMESVM', [422]), ('DTTMESVMR', [423]), ('TTMESVMRP', [424]), ('TMESVMRPW', [425]), ('MESVMRPWG', [426]), ('ESVMRPWGO', [427]), ('SVMRPWGOD', [428]), ('VMRPWGODH', [429]), ('MRPWGODHU', [430]), ('RPWGODHUL', [431]), ('PWGODHULO', [432]), ('WGODHULOR', [433]), ('GODHULORT', [434]), ('ODHULORTN', [435]), ('DHULORTNM', [436]), ('HULORTNMP', [437]), ('ULORTNMPH', [438]), ('LORTNMPHG', [439]), ('ORTNMPHGV', [440]), ('RTNMPHGVF', [441]), ('TNMPHGVFM', [442]), ('NMPHGVFMK', [443]), ('MPHGVFMKB', [444]), ('PHGVFMKBZ', [445]), ('HGVFMKBZX', [446]), ('GVFMKBZXW', [447]), ('VFMKBZXWX', [448]), ('FMKBZXWXI', [449]), ('MKBZXWXIT', [450]), ('KBZXWXITQ', [451]), ('BZXWXITQI', [452]), ('ZXWXITQIE', [453]), ('XWXITQIES', [454]), ('WXITQIESD', [455]), ('XITQIESDD', [456]), ('ITQIESDDK', [457]), ('TQIESDDKR', [458]), ('QIESDDKRO', [459]), ('IESDDKROK', [460]), ('ESDDKROKL', [461]), ('SDDKROKLB', [462]), ('DDKROKLBH', [463]), ('DKROKLBHP', [464]), ('KROKLBHPE', [465]), ('ROKLBHPEA', [466]), ('OKLBHPEAM', [467]), ('KLBHPEAME', [468]), ('LBHPEAMEE', [469]), ('BHPEAMEEB', [470]), ('HPEAMEEBT', [471]), ('PEAMEEBTG', [472]), ('EAMEEBTGR', [473]), ('AMEEBTGRI', [474]), ('MEEBTGRIG', [475]), ('EEBTGRIGX', [476]), ('EBTGRIGXO', [477]), ('BTGRIGXOE', [478]), ('TGRIGXOEQ', [479]), ('GRIGXOEQG', [480]), ('RIGXOEQGC', [481]), ('IGXOEQGCE', [482]), ('GXOEQGCES', [483]), ('XOEQGCESR', [484]), ('OEQGCESRW', [485]), ('EQGCESRWD', [486]), ('QGCESRWDU', [487]), ('GCESRWDUK', [488]), ('CESRWDUKX', [489]), ('ESRWDUKXG', [490]), ('SRWDUKXGE', [491]), ('RWDUKXGEI', [492]), ('WDUKXGEIT', [493]), ('DUKXGEITI', [494]), ('UKXGEITID', [495]), ('KXGEITIDU', [496]), ('XGEITIDUM', [497]), ('GEITIDUMM', [498]), ('EITIDUMMS', [499]), ('ITIDUMMSW', [500]), ('TIDUMMSWO', [501]), ('IDUMMSWOB', [502]), ('DUMMSWOBI', [503]), ('UMMSWOBIA', [504]), ('MMSWOBIAO', [505]), ('MSWOBIAOZ', [506]), ('SWOBIAOZX', [507]), ('WOBIAOZXS', [508]), ('OBIAOZXSC', [509]), ('BIAOZXSCF', [510]), ('IAOZXSCFK', [511]), ('AOZXSCFKK', [512]), ('OZXSCFKKU', [513]), ('ZXSCFKKUQ', [514]), ('XSCFKKUQZ', [515]), ('SCFKKUQZW', [516]), ('CFKKUQZWO', [517]), ('FKKUQZWOB', [518]), ('KKUQZWOBI', [519]), ('KUQZWOBIK', [520]), ('UQZWOBIKT', [521]), ('QZWOBIKTA', [522]), ('ZWOBIKTAO', [523]), ('WOBIKTAOW', [524]), ('OBIKTAOWG', [525]), ('BIKTAOWGT', [526]), ('IKTAOWGTT', [527]), ('KTAOWGTTO', [528]), ('TAOWGTTOT', [529]), ('AOWGTTOTH', [530]), ('OWGTTOTHA', [531]), ('WGTTOTHAZ', [532]), ('GTTOTHAZW', [533]), ('TTOTHAZWX', [534]), ('TOTHAZWXG', [535]), ('OTHAZWXGX', [536]), ('THAZWXGXO', [537]), ('HAZWXGXOM', [538]), ('AZWXGXOMQ', [539]), ('ZWXGXOMQC', [540]), ('WXGXOMQCM', [541]), ('XGXOMQCMV', [542]), ('GXOMQCMVH', [543]), ('XOMQCMVHS', [544]), ('OMQCMVHSD', [545]), ('MQCMVHSDW', [546]), ('QCMVHSDWT', [547]), ('CMVHSDWTV', [548]), ('MVHSDWTVA', [549]), ('VHSDWTVAF', [550]), ('HSDWTVAFI', [551]), ('SDWTVAFIR', [552]), ('DWTVAFIRB', [553]), ('WTVAFIRBZ', [554]), ('TVAFIRBZS', [555]), ('VAFIRBZSY', [556]), ('AFIRBZSYQ', [557]), ('FIRBZSYQN', [558]), ('IRBZSYQNM', [559]), ('RBZSYQNMT', [560]), ('BZSYQNMTV', [561]), ('ZSYQNMTVO', [562]), ('SYQNMTVOY', [563]), ('YQNMTVOYN', [564]), ('QNMTVOYNG', [565]), ('NMTVOYNGJ', [566]), ('MTVOYNGJL', [567]), ('TVOYNGJLQ', [568]), ('VOYNGJLQM', [569]), ('OYNGJLQML', [570]), ('YNGJLQMLI', [571]), ('NGJLQMLIY', [572]), ('GJLQMLIYO', [573]), ('JLQMLIYON', [574]), ('LQMLIYONI', [575]), ('QMLIYONIB', [576]), ('MLIYONIBU', [577]), ('LIYONIBUT', [578]), ('IYONIBUTB', [579]), ('YONIBUTBR', [580]), ('ONIBUTBRL', [581]), ('NIBUTBRLR', [582]), ('IBUTBRLRR', [583]), ('BUTBRLRRW', [584]), ('UTBRLRRWQ', [585]), ('TBRLRRWQG', [586]), ('BRLRRWQGM', [587]), ('RLRRWQGML', [588]), ('LRRWQGMLW', [589]), ('RRWQGMLWR', [590]), ('RWQGMLWRB', [591]), ('WQGMLWRBO', [592]), ('QGMLWRBON', [593]), ('GMLWRBONI', [594]), ('MLWRBONIO', [595]), ('LWRBONIOI', [596]), ('WRBONIOIJ', [597]), ('RBONIOIJI', [598]), ('BONIOIJIP', [599]), ('ONIOIJIPG', [600]), ('NIOIJIPGK', [601]), ('IOIJIPGKX', [602]), ('OIJIPGKXU', [603]), ('IJIPGKXUQ', [604]), ('JIPGKXUQL', [605]), ('IPGKXUQLX', [606]), ('PGKXUQLXO', [607]), ('GKXUQLXOA', [608]), ('KXUQLXOAF', [609]), ('XUQLXOAFK', [610]), ('UQLXOAFKV', [611]), ('QLXOAFKVD', [612]), ('LXOAFKVDQ', [613]), ('XOAFKVDQZ', [614]), ('OAFKVDQZL', [615]), ('AFKVDQZLW', [616]), ('FKVDQZLWY', [617]), ('KVDQZLWYS', [618]), ('VDQZLWYSS', [619]), ('DQZLWYSSJ', [620]), ('QZLWYSSJA', [621]), ('ZLWYSSJAD', [622]), ('LWYSSJADO', [623]), ('WYSSJADOH', [624]), ('YSSJADOHZ', [625]), ('SSJADOHZL', [626]), ('SJADOHZLQ', [627]), ('JADOHZLQU', [628]), ('ADOHZLQUV', [629]), ('DOHZLQUVF', [630]), ('OHZLQUVFU', [631]), ('HZLQUVFUI', [632]), ('ZLQUVFUIG', [633]), ('LQUVFUIGN', [634]), ('QUVFUIGNL', [635]), ('UVFUIGNLS', [636]), ('VFUIGNLSY', [637]), ('FUIGNLSYC', [638]), ('UIGNLSYCN', [639]), ('IGNLSYCNM', [640]), ('GNLSYCNMP', [641]), ('NLSYCNMPT', [642]), ('LSYCNMPTP', [643]), ('SYCNMPTPT', [644]), ('YCNMPTPTZ', [645]), ('CNMPTPTZO', [646]), ('NMPTPTZOL', [647]), ('MPTPTZOLA', [648]), ('PTPTZOLAP', [649]), ('TPTZOLAPL', [650]), ('PTZOLAPLX', [651]), ('TZOLAPLXB', [652]), ('ZOLAPLXBE', [653]), ('OLAPLXBEF', [654]), ('LAPLXBEFU', [655]), ('APLXBEFUL', [656]), ('PLXBEFULE', [657]), ('LXBEFULEX', [658]), ('XBEFULEXI', [659]), ('BEFULEXIL', [660]), ('EFULEXILV', [661]), ('FULEXILVL', [662]), ('ULEXILVLP', [663]), ('LEXILVLPO', [664]), ('EXILVLPOT', [665]), ('XILVLPOTI', [666]), ('ILVLPOTIP', [667]), ('LVLPOTIPI', [668]), ('VLPOTIPIW', [669]), ('LPOTIPIWS', [670]), ('POTIPIWSD', [671]), ('OTIPIWSDD', [672]), ('TIPIWSDDU', [673]), ('IPIWSDDUZ', [674]), ('PIWSDDUZL', [675]), ('IWSDDUZLA', [676]), ('WSDDUZLAY', [677]), ('SDDUZLAYN', [678]), ('DDUZLAYNS', [679]), ('DUZLAYNSW', [680]), ('UZLAYNSWO', [681]), ('ZLAYNSWOI', [682]), ('LAYNSWOIW', [683]), ('AYNSWOIWN', [684]), ('YNSWOIWNR', [685]), ('NSWOIWNRQ', [686]), ('SWOIWNRQT', [687]), ('WOIWNRQTB', [688]), ('OIWNRQTBK', [689]), ('IWNRQTBKO', [690]), ('WNRQTBKOB', [691]), ('NRQTBKOBQ', [692]), ('RQTBKOBQE', [693]), ('QTBKOBQEZ', [694]), ('TBKOBQEZM', [695]), ('BKOBQEZMV', [696]), ('KOBQEZMVI', [697]), ('OBQEZMVIL', [698]), ('BQEZMVILB', [699]), ('QEZMVILBJ', [700]), ('EZMVILBJW', [701]), ('ZMVILBJWA', [702]), ('BZXBOSYIC', [711]), ('ZXBOSYICA', [712]), ('XBOSYICAV', [713]), ('BOSYICAVY', [714]), ('OSYICAVYW', [715]), ('SYICAVYWL', [716]), ('YICAVYWLF', [717]), ('ICAVYWLFK', [718]), ('AVYWLFKVT', [720]), ('VYWLFKVTU', [721]), ('YWLFKVTUU', [722]), ('WLFKVTUUB', [723]), ('LFKVTUUBG', [724]), ('FKVTUUBGX', [725]), ('KVTUUBGXC', [726]), ('VTUUBGXCI', [727]), ('TUUBGXCIZ', [728]), ('UUBGXCIZE', [729]), ('UBGXCIZEO', [730]), ('BGXCIZEOM', [731]), ('GXCIZEOMV', [732]), ('XCIZEOMVI', [733]), ('CIZEOMVIL', [734]), ('IZEOMVILB', [735]), ('ZEOMVILBJ', [736]), ('EOMVILBJW', [737]), ('OMVILBJWA', [738]), ('BZXBOSYIG', [747]), ('ZXBOSYIGQ', [748]), ('XBOSYIGQA', [749]), ('BOSYIGQAM', [750]), ('OSYIGQAMW', [751]), ('SYIGQAMWZ', [752]), ('YIGQAMWZB', [753]), ('IGQAMWZBG', [754]), ('GQAMWZBGZ', [755]), ('QAMWZBGZT', [756]), ('AMWZBGZTG', [757]), ('MWZBGZTGA', [758]), ('WZBGZTGAX', [759]), ('ZBGZTGAXA', [760]), ('BGZTGAXAZ', [761]), ('GZTGAXAZQ', [762]), ('ZTGAXAZQO', [763]), ('TGAXAZQOW', [764]), ('GAXAZQOWN', [765]), ('AXAZQOWNQ', [766]), ('XAZQOWNQA', [767]), ('AZQOWNQAV', [768]), ('ZQOWNQAVI', [769]), ('QOWNQAVIL', [770]), ('OWNQAVILB', [771]), ('WNQAVILBJ', [772]), ('NQAVILBJW', [773]), ('QAVILBJWT', [774]), ('AVILBJWTQ', [775]), ('VILBJWTQK', [776]), ('ILBJWTQKH', [777]), ('LBJWTQKHB', [778]), ('BJWTQKHBG', [779]), ('JWTQKHBGW', [780]), ('WTQKHBGWK', [781]), ('TQKHBGWKZ', [782]), ('QKHBGWKZT', [783]), ('KHBGWKZTQ', [784]), ('HBGWKZTQA', [785]), ('BGWKZTQAX', [786]), ('GWKZTQAXB', [787]), ('WKZTQAXBF', [788]), ('KZTQAXBFB', [789]), ('ZTQAXBFBS', [790]), ('TQAXBFBSM', [791]), ('QAXBFBSMJ', [792]), ('AXBFBSMJA', [793]), ('XBFBSMJAZ', [794]), ('BFBSMJAZV', [795]), ('FBSMJAZVC', [796]), ('BSMJAZVCX', [797]), ('SMJAZVCXI', [798]), ('MJAZVCXIT', [799]), ('JAZVCXITQ', [800]), ('AZVCXITQC', [801]), ('ZVCXITQCM', [802]), ('VCXITQCML', [803]), ('CXITQCMLH', [804]), ('XITQCMLHF', [805]), ('ITQCMLHFN', [806]), ('TQCMLHFNI', [807]), ('QCMLHFNIG', [808]), ('CMLHFNIGV', [809]), ('MLHFNIGVD', [810]), ('LHFNIGVDA', [811]), ('HFNIGVDAL', [812]), ('FNIGVDALX', [813]), ('NIGVDALXG', [814]), ('IGVDALXGL', [815]), ('GVDALXGLF', [816]), ('VDALXGLFX', [817]), ('DALXGLFXW', [818]), ('ALXGLFXWL', [819]), ('LXGLFXWLX', [820]), ('XGLFXWLXI', [821]), ('GLFXWLXIL', [822]), ('LFXWLXILI', [823]), ('FXWLXILIY', [824]), ('XWLXILIYO', [825]), ('WLXILIYOS', [826]), ('LXILIYOSM', [827]), ('XILIYOSMN', [828]), ('ILIYOSMNF', [829]), ('LIYOSMNFI', [830]), ('BTTQLPRMY', [846]), ('TTQLPRMYB', [847]), ('TQLPRMYBI', [848]), ('QLPRMYBIK', [849]), ('LPRMYBIKO', [850]), ('PRMYBIKOP', [851]), ('RMYBIKOPZ', [852]), ('MYBIKOPZR', [853]), ('YBIKOPZRW', [854]), ('BIKOPZRWD', [855]), ('IKOPZRWDQ', [856]), ('KOPZRWDQJ', [857]), ('OPZRWDQJX', [858]), ('PZRWDQJXA', [859]), ('ZRWDQJXAZ', [860]), ('RWDQJXAZG', [861]), ('WDQJXAZGG', [862]), ('DQJXAZGGX', [863]), ('QJXAZGGXR', [864]), ('JXAZGGXRQ', [865]), ('XAZGGXRQV', [866]), ('AZGGXRQVW', [867]), ('ZGGXRQVWS', [868]), ('GGXRQVWSC', [869]), ('GXRQVWSCO', [870]), ('XRQVWSCOS', [871]), ('RQVWSCOSI', [872]), ('QVWSCOSIN', [873]), ('VWSCOSINQ', [874]), ('WSCOSINQR', [875]), ('SCOSINQRT', [876]), ('COSINQRTF', [877]), ('OSINQRTFE', [878]), ('SINQRTFEI', [879]), ('INQRTFEIY', [880]), ('NQRTFEIYM', [881]), ('QRTFEIYMM', [882]), ('RTFEIYMMA', [883]), ('TFEIYMMAK', [884]), ('FEIYMMAKB', [885]), ('EIYMMAKBC', [886]), ('IYMMAKBCY', [887]), ('YMMAKBCYS', [888]), ('MMAKBCYSY', [889]), ('MAKBCYSYX', [890]), ('AKBCYSYXO', [891]), ('KBCYSYXOD', [892]), ('BCYSYXODY', [893]), ('CYSYXODYN', [894]), ('YSYXODYNS', [895]), ('SYXODYNSD', [896]), ('YXODYNSDW', [897]), ('XODYNSDWT', [898]), ('ODYNSDWTW', [899]), ('DYNSDWTWL', [900]), ('YNSDWTWLA', [901]), ('NSDWTWLAP', [902]), ('SDWTWLAPT', [903]), ('DWTWLAPTQ', [904]), ('WTWLAPTQP', [905]), ('TWLAPTQPG', [906]), ('WLAPTQPGY', [907]), ('LAPTQPGYQ', [908]), ('APTQPGYQE', [909]), ('PTQPGYQEY', [910]), ('TQPGYQEYX', [911]), ('QPGYQEYXK', [912]), ('PGYQEYXKS', [913]), ('GYQEYXKSD', [914]), ('YQEYXKSDS', [915]), ('QEYXKSDSX', [916]), ('EYXKSDSXI', [917]), ('YXKSDSXIS', [918]), ('XKSDSXISH', [919]), ('KSDSXISHQ', [920]), ('SDSXISHQV', [921]), ('DSXISHQVH', [922]), ('SXISHQVHT', [923]), ('XISHQVHTA', [924]), ('ISHQVHTAG', [925]), ('SHQVHTAGL', [926]), ('HQVHTAGLE', [927]), ('QVHTAGLEX', [928]), ('VHTAGLEXI', [929]), ('HTAGLEXIL', [930]), ('TAGLEXILQ', [931]), ('AGLEXILQT', [932]), ('GLEXILQTF', [933]), ('LEXILQTFI', [934]), ('EXILQTFIC', [935]), ('XILQTFICN', [936]), ('ILQTFICNE', [937]), ('LQTFICNEB', [938]), ('QTFICNEBT', [939]), ('TFICNEBTB', [940]), ('FICNEBTBN', [941]), ('ICNEBTBNW', [942]), ('CNEBTBNWG', [943]), ('NEBTBNWGA', [944]), ('EBTBNWGAD', [945]), ('BTBNWGADQ', [946]), ('TBNWGADQT', [947]), ('BNWGADQTT', [948]), ('NWGADQTTJ', [949]), ('WGADQTTJT', [950]), ('GADQTTJTR', [951]), ('ADQTTJTRG', [952]), ('DQTTJTRGT', [953]), ('QTTJTRGTA', [954]), ('TTJTRGTAE', [955]), ('TJTRGTAEJ', [956]), ('JTRGTAEJH', [957]), ('TRGTAEJHZ', [958]), ('RGTAEJHZL', [959]), ('GTAEJHZLG', [960]), ('TAEJHZLGI', [961]), ('AEJHZLGIC', [962]), ('EJHZLGICR', [963]), ('JHZLGICRH', [964]), ('HZLGICRHI', [965]), ('ZLGICRHIL', [966]), ('LGICRHILR', [967]), ('GICRHILRP', [968]), ('ICRHILRPG', [969]), ('CRHILRPGG', [970]), ('RHILRPGGO', [971]), ('HILRPGGOR', [972]), ('ILRPGGORM', [973]), ('LRPGGORML', [974]), ('RPGGORMLT', [975]), ('PGGORMLTP', [976]), ('GGORMLTPW', [977]), ('GORMLTPWS', [978]), ('ORMLTPWSY', [979]), ('RMLTPWSYY', [980]), ('MLTPWSYYU', [981]), ('LTPWSYYUQ', [982]), ('TPWSYYUQB', [983]), ('PWSYYUQBX', [984]), ('WSYYUQBXS', [985]), ('SYYUQBXSY', [986]), ('YYUQBXSYJ', [987]), ('YUQBXSYJO', [988]), ('UQBXSYJOI', [989]), ('QBXSYJOIN', [990]), ('BXSYJOINM', [991]), ('XSYJOINMB', [992]), ('SYJOINMBB', [993]), ('YJOINMBBM', [994]), ('JOINMBBML', [995]), ('OINMBBMLZ', [996]), ('INMBBMLZG', [997]), ('NMBBMLZGO', [998]), ('MBBMLZGOE', [999]), ('BBMLZGOEZ', [1000]), ('BMLZGOEZB', [1001]), ('MLZGOEZBX', [1002]), ('LZGOEZBXE', [1003]), ('ZGOEZBXEF', [1004]), ('GOEZBXEFS', [1005]), ('OEZBXEFSZ', [1006]), ('EZBXEFSZM', [1007]), ('ZBXEFSZMR', [1008]), ('BXEFSZMRA', [1009]), ('XEFSZMRAL', [1010]), ('EFSZMRALX', [1011]), ('FSZMRALXO', [1012]), ('SZMRALXOE', [1013]), ('ZMRALXOEO', [1014]), ('MRALXOEOS', [1015]), ('RALXOEOSJ', [1016]), ('ALXOEOSJI', [1017]), ('LXOEOSJIQ', [1018]), ('XOEOSJIQV', [1019]), ('OEOSJIQVT', [1020]), ('EOSJIQVTD', [1021]), ('OSJIQVTDC', [1022]), ('SJIQVTDCS', [1023]), ('JIQVTDCST', [1024]), ('IQVTDCSTL', [1025]), ('QVTDCSTLE', [1026]), ('VTDCSTLEM', [1027]), ('TDCSTLEMK', [1028]), ('DCSTLEMKH', [1029]), ('CSTLEMKHA', [1030]), ('STLEMKHAF', [1031]), ('TLEMKHAFB', [1032]), ('LEMKHAFBO', [1033]), ('EMKHAFBOK', [1034]), ('MKHAFBOKA', [1035]), ('KHAFBOKAD', [1036]), ('HAFBOKADB', [1037]), ('AFBOKADBX', [1038]), ('FBOKADBXO', [1039]), ('BOKADBXOD', [1040]), ('OKADBXODW', [1041]), ('KADBXODWK', [1042]), ('ADBXODWKA', [1043]), ('DBXODWKAC', [1044]), ('BXODWKACA', [1045]), ('XODWKACAU', [1046]), ('ODWKACAUH', [1047]), ('DWKACAUHQ', [1048]), ('WKACAUHQZ', [1049]), ('KACAUHQZB', [1050]), ('ACAUHQZBY', [1051]), ('CAUHQZBYQ', [1052]), ('AUHQZBYQG', [1053]), ('UHQZBYQGG', [1054]), ('HQZBYQGGM', [1055]), ('QZBYQGGML', [1056]), ('ZBYQGGMLE', [1057]), ('BYQGGMLEF', [1058]), ('YQGGMLEFS', [1059]), ('QGGMLEFSR', [1060]), ('GGMLEFSRI', [1061]), ('GMLEFSRIG', [1062]), ('MLEFSRIGQ', [1063]), ('LEFSRIGQV', [1064]), ('EFSRIGQVM', [1065]), ('FSRIGQVMS', [1066]), ('SRIGQVMSN', [1067]), ('RIGQVMSNC', [1068]), ('IGQVMSNCT', [1069]), ('GQVMSNCTN', [1070]), ('QVMSNCTNI', [1071]), ('VMSNCTNIQ', [1072]), ('MSNCTNIQM', [1073]), ('SNCTNIQMG', [1074]), ('NCTNIQMGH', [1075]), ('CTNIQMGHT', [1076]), ('TNIQMGHTM', [1077]), ('NIQMGHTMY', [1078]), ('IQMGHTMYM', [1079]), ('QMGHTMYMD', [1080]), ('MGHTMYMDQ', [1081]), ('GHTMYMDQR', [1082]), ('HTMYMDQRX', [1083]), ('TMYMDQRXW', [1084]), ('MYMDQRXWY', [1085]), ('YMDQRXWYT', [1086]), ('MDQRXWYTR', [1087]), ('DQRXWYTRC', [1088]), ('QRXWYTRCI', [1089]), ('RXWYTRCID', [1090]), ('XWYTRCIDX', [1091]), ('WYTRCIDXH', [1092]), ('YTRCIDXHF', [1093]), ('TRCIDXHFE', [1094]), ('RCIDXHFEW', [1095]), ('CIDXHFEWE', [1096]), ('IDXHFEWEJ', [1097]), ('DXHFEWEJU', [1098]), ('XHFEWEJUE', [1099]), ('HFEWEJUEK', [1100]), ('FEWEJUEKT', [1101]), ('EWEJUEKTI', [1102]), ('WEJUEKTIY', [1103]), ('EJUEKTIYO', [1104]), ('JUEKTIYOS', [1105]), ('UEKTIYOSM', [1106]), ('EKTIYOSMN', [1107]), ('KTIYOSMNF', [1108]), ('TIYOSMNFI', [1109]), ('BTTQLPRMS', [1125]), ('TTQLPRMSQ', [1126]), ('TQLPRMSQB', [1127]), ('QLPRMSQBK', [1128]), ('LPRMSQBKO', [1129]), ('PRMSQBKOE', [1130]), ('RMSQBKOEO', [1131]), ('MSQBKOEOJ', [1132]), ('SQBKOEOJM', [1133]), ('QBKOEOJMC', [1134]), ('BKOEOJMCA', [1135]), ('KOEOJMCAV', [1136]), ('OEOJMCAVY', [1137]), ('EOJMCAVYW', [1138]), ('OJMCAVYWL', [1139]), ('JMCAVYWLF', [1140]), ('MCAVYWLFK', [1141]), ('AVYWLFKVQ', [1143]), ('VYWLFKVQG', [1144]), ('YWLFKVQGM', [1145]), ('WLFKVQGMM', [1146]), ('LFKVQGMMW', [1147]), ('FKVQGMMWP', [1148]), ('KVQGMMWPB', [1149]), ('VQGMMWPBK', [1150]), ('QGMMWPBKA', [1151]), ('GMMWPBKAL', [1152]), ('MMWPBKALM', [1153]), ('MWPBKALMK', [1154]), ('WPBKALMKT', [1155]), ('PBKALMKTD', [1156]), ('BKALMKTDL', [1157]), ('KALMKTDLQ', [1158]), ('ALMKTDLQO', [1159]), ('LMKTDLQOL', [1160]), ('MKTDLQOLA', [1161]), ('KTDLQOLAP', [1162]), ('TDLQOLAPL', [1163]), ('DLQOLAPLX', [1164]), ('LQOLAPLXJ', [1165]), ('QOLAPLXJP', [1166]), ('OLAPLXJPF', [1167]), ('LAPLXJPFR', [1168]), ('APLXJPFRI', [1169]), ('PLXJPFRIS', [1170]), ('LXJPFRISO', [1171]), ('XJPFRISOW', [1172]), ('JPFRISOWL', [1173]), ('PFRISOWLO', [1174]), ('FRISOWLOD', [1175]), ('RISOWLODO', [1176]), ('ISOWLODOZ', [1177]), ('SOWLODOZZ', [1178]), ('OWLODOZZA', [1179]), ('WLODOZZAH', [1180]), ('LODOZZAHM', [1181]), ('ODOZZAHML', [1182]), ('DOZZAHMLR', [1183]), ('OZZAHMLRP', [1184]), ('ZZAHMLRPM', [1185]), ('ZAHMLRPMG', [1186]), ('AHMLRPMGY', [1187]), ('HMLRPMGYU', [1188]), ('MLRPMGYUQ', [1189]), ('LRPMGYUQV', [1190]), ('RPMGYUQVH', [1191]), ('PMGYUQVHG', [1192]), ('MGYUQVHGP', [1193]), ('GYUQVHGPH', [1194]), ('YUQVHGPHX', [1195]), ('UQVHGPHXI', [1196]), ('QVHGPHXIT', [1197]), ('VHGPHXITM', [1198]), ('HGPHXITML', [1199]), ('GPHXITMLX', [1200]), ('PHXITMLXB', [1201]), ('HXITMLXBP', [1202]), ('XITMLXBPU', [1203]), ('ITMLXBPUU', [1204]), ('TMLXBPUUK', [1205]), ('MLXBPUUKI', [1206]), ('LXBPUUKIM', [1207]), ('XBPUUKIMZ', [1208]), ('BPUUKIMZV', [1209]), ('PUUKIMZVC', [1210]), ('UUKIMZVCY', [1211]), ('UKIMZVCYH', [1212]), ('KIMZVCYHO', [1213]), ('IMZVCYHOO', [1214]), ('MZVCYHOOO', [1215]), ('ZVCYHOOOK', [1216]), ('VCYHOOOKR', [1217]), ('CYHOOOKRN', [1218]), ('YHOOOKRNG', [1219]), ('HOOOKRNGE', [1220]), ('OOOKRNGEW', [1221]), ('OOKRNGEWL', [1222]), ('OKRNGEWLQ', [1223]), ('KRNGEWLQC', [1224]), ('RNGEWLQCM', [1225]), ('NGEWLQCMZ', [1226]), ('GEWLQCMZM', [1227]), ('EWLQCMZMC', [1228]), ('WLQCMZMCO', [1229]), ('LQCMZMCOO', [1230]), ('QCMZMCOOY', [1231]), ('CMZMCOOYT', [1232]), ('MZMCOOYTA', [1233]), ('ZMCOOYTAE', [1234]), ('MCOOYTAEK', [1235]), ('COOYTAEKH', [1236]), ('OOYTAEKHG', [1237]), ('OYTAEKHGL', [1238]), ('YTAEKHGLG', [1239]), ('TAEKHGLGW', [1240]), ('AEKHGLGWC', [1241]), ('EKHGLGWCE', [1242]), ('KHGLGWCET', [1243]), ('HGLGWCETI', [1244]), ('GLGWCETIV', [1245]), ('LGWCETIVS', [1246]), ('GWCETIVSD', [1247]), ('WCETIVSDA', [1248]), ('CETIVSDAG', [1249]), ('ETIVSDAGT', [1250]), ('TIVSDAGTP', [1251]), ('IVSDAGTPA', [1252]), ('VSDAGTPAZ', [1253]), ('SDAGTPAZJ', [1254]), ('DAGTPAZJI', [1255]), ('AGTPAZJIP', [1256]), ('GTPAZJIPG', [1257]), ('TPAZJIPGU', [1258]), ('PAZJIPGUU', [1259]), ('AZJIPGUUO', [1260]), ('ZJIPGUUOE', [1261]), ('JIPGUUOEU', [1262]), ('IPGUUOEUT', [1263]), ('PGUUOEUTE', [1264]), ('GUUOEUTEF', [1265]), ('UUOEUTEFW', [1266]), ('UOEUTEFWT', [1267]), ('OEUTEFWTQ', [1268]), ('EUTEFWTQT', [1269]), ('UTEFWTQTM', [1270]), ('TEFWTQTMA', [1271]), ('EFWTQTMAW', [1272]), ('FWTQTMAWS', [1273]), ('WTQTMAWSY', [1274]), ('TQTMAWSYO', [1275]), ('QTMAWSYOX', [1276]), ('TMAWSYOXZ', [1277]), ('MAWSYOXZA', [1278]), ('AWSYOXZAF', [1279]), ('WSYOXZAFQ', [1280]), ('SYOXZAFQO', [1281]), ('YOXZAFQOO', [1282]), ('OXZAFQOOD', [1283]), ('XZAFQOODD', [1284]), ('ZAFQOODDG', [1285]), ('AFQOODDGZ', [1286]), ('FQOODDGZA', [1287]), ('QOODDGZAO', [1288]), ('OODDGZAOC', [1289]), ('ODDGZAOCT', [1290]), ('DDGZAOCTZ', [1291]), ('DGZAOCTZB', [1292]), ('GZAOCTZBI', [1293]), ('ZAOCTZBIO', [1294]), ('AOCTZBIOM', [1295]), ('OCTZBIOMR', [1296]), ('CTZBIOMRO', [1297]), ('TZBIOMROW', [1298]), ('ZBIOMROWL', [1299]), ('BIOMROWLO', [1300]), ('IOMROWLOY', [1301]), ('OMROWLOYC', [1302]), ('MROWLOYCY', [1303]), ('ROWLOYCYK', [1304]), ('OWLOYCYKR', [1305]), ('WLOYCYKRQ', [1306]), ('LOYCYKRQI', [1307]), ('OYCYKRQIF', [1308]), ('YCYKRQIFC', [1309]), ('CYKRQIFCD', [1310]), ('YKRQIFCDI', [1311]), ('KRQIFCDIT', [1312]), ('RQIFCDITI', [1313]), ('QIFCDITIH', [1314]), ('IFCDITIHU', [1315]), ('FCDITIHUA', [1316]), ('CDITIHUAM', [1317]), ('DITIHUAMC', [1318]), ('ITIHUAMCC', [1319]), ('TIHUAMCCW', [1320]), ('IHUAMCCWG', [1321]), ('HUAMCCWGY', [1322]), ('UAMCCWGYU', [1323]), ('AMCCWGYUQ', [1324]), ('MCCWGYUQR', [1325]), ('CCWGYUQRN', [1326]), ('CWGYUQRNG', [1327]), ('WGYUQRNGE', [1328]), ('GYUQRNGEW', [1329]), ('YUQRNGEWL', [1330]), ('UQRNGEWLQ', [1331]), ('QRNGEWLQQ', [1332]), ('RNGEWLQQG', [1333]), ('NGEWLQQGM', [1334]), ('GEWLQQGME', [1335]), ('EWLQQGMEC', [1336]), ('WLQQGMECB', [1337]), ('LQQGMECBI', [1338]), ('QQGMECBIK', [1339]), ('QGMECBIKP', [1340]), ('GMECBIKPA', [1341]), ('MECBIKPAO', [1342]), ('ECBIKPAOM', [1343]), ('CBIKPAOMF', [1344]), ('BIKPAOMFC', [1345]), ('IKPAOMFCD', [1346]), ('KPAOMFCDD', [1347]), ('PAOMFCDDK', [1348]), ('AOMFCDDKZ', [1349]), ('OMFCDDKZO', [1350]), ('MFCDDKZOD', [1351]), ('FCDDKZODM', [1352]), ('CDDKZODMT', [1353]), ('DDKZODMTZ', [1354]), ('DKZODMTZX', [1355]), ('KZODMTZXS', [1356]), ('ZODMTZXST', [1357]), ('ODMTZXSTB', [1358]), ('DMTZXSTBE', [1359]), ('MTZXSTBEZ', [1360]), ('TZXSTBEZW', [1361]), ('ZXSTBEZWA', [1362]), ('XSTBEZWAO', [1363]), ('STBEZWAON', [1364]), ('TBEZWAONS', [1365]), ('BEZWAONSS', [1366]), ('EZWAONSSW', [1367]), ('ZWAONSSWS', [1368]), ('WAONSSWSX', [1369]), ('AONSSWSXW', [1370]), ('ONSSWSXWJ', [1371]), ('NSSWSXWJI', [1372]), ('SSWSXWJIP', [1373]), ('SWSXWJIPE', [1374]), ('WSXWJIPEA', [1375]), ('SXWJIPEAM', [1376]), ('XWJIPEAMR', [1377]), ('WJIPEAMRQ', [1378]), ('JIPEAMRQU', [1379]), ('IPEAMRQUH', [1380]), ('PEAMRQUHG', [1381]), ('EAMRQUHGS', [1382]), ('AMRQUHGSO', [1383]), ('MRQUHGSOI', [1384]), ('RQUHGSOIM', [1385]), ('QUHGSOIMR', [1386]), ('UHGSOIMRK', [1387]), ('HGSOIMRKI', [1388]), ('GSOIMRKIJ', [1389]), ('SOIMRKIJI', [1390]), ('OIMRKIJIP', [1391]), ('IMRKIJIPG', [1392]), ('MRKIJIPGU', [1393]), ('RKIJIPGUU', [1394]), ('KIJIPGUUO', [1395]), ('IJIPGUUOE', [1396]), ('JIPGUUOEX', [1397]), ('IPGUUOEXK', [1398]), ('PGUUOEXKC', [1399]), ('GUUOEXKCO', [1400]), ('UUOEXKCOI', [1401]), ('UOEXKCOII', [1402]), ('OEXKCOIIB', [1403]), ('EXKCOIIBO', [1404]), ('XKCOIIBOE', [1405]), ('KCOIIBOEL', [1406]), ('COIIBOELX', [1407]), ('OIIBOELXZ', [1408]), ('IIBOELXZN', [1409]), ('IBOELXZNC', [1410]), ('BOELXZNCT', [1411]), ('OELXZNCTB', [1412]), ('ELXZNCTBE', [1413]), ('LXZNCTBEJ', [1414]), ('XZNCTBEJB', [1415]), ('ZNCTBEJBH', [1416]), ('NCTBEJBHM', [1417]), ('CTBEJBHMP', [1418]), ('TBEJBHMPG', [1419]), ('BEJBHMPGZ', [1420]), ('EJBHMPGZM', [1421]), ('JBHMPGZME', [1422]), ('BHMPGZMEE', [1423]), ('HMPGZMEEB', [1424]), ('MPGZMEEBX', [1425]), ('PGZMEEBXH', [1426]), ('GZMEEBXHC', [1427]), ('ZMEEBXHCW', [1428]), ('MEEBXHCWI', [1429]), ('EEBXHCWIW', [1430]), ('EBXHCWIWA', [1431]), ('BXHCWIWAE', [1432]), ('XHCWIWAEQ', [1433]), ('HCWIWAEQJ', [1434]), ('CWIWAEQJI', [1435]), ('WIWAEQJIP', [1436]), ('IWAEQJIPA', [1437]), ('WAEQJIPAK', [1438]), ('AEQJIPAKR', [1439]), ('EQJIPAKRO', [1440]), ('QJIPAKROD', [1441]), ('JIPAKRODM', [1442]), ('IPAKRODMG', [1443]), ('PAKRODMGS', [1444]), ('AKRODMGSD', [1445]), ('KRODMGSDH', [1446]), ('RODMGSDHG', [1447]), ('ODMGSDHGD', [1448]), ('DMGSDHGDI', [1449]), ('SDHGDIPIU', [1452]), ('DHGDIPIUI', [1453]), ('HGDIPIUID', [1454]), ('GDIPIUIDQ', [1455]), ('DIPIUIDQG', [1456]), ('IPIUIDQGB', [1457]), ('PIUIDQGBU', [1458]), ('IUIDQGBUB', [1459]), ('UIDQGBUBZ', [1460]), ('IDQGBUBZH', [1461]), ('DQGBUBZHD', [1462]), ('QGBUBZHDZ', [1463]), ('GBUBZHDZG', [1464]), ('BUBZHDZGO', [1465]), ('UBZHDZGOB', [1466]), ('BZHDZGOBO', [1467]), ('ZHDZGOBOK', [1468]), ('HDZGOBOKZ', [1469]), ('DZGOBOKZX', [1470]), ('ZGOBOKZXQ', [1471]), ('GOBOKZXQF', [1472]), ('OBOKZXQFS', [1473]), ('BOKZXQFSX', [1474]), ('OKZXQFSXL', [1475]), ('KZXQFSXLA', [1476]), ('ZXQFSXLAC', [1477]), ('XQFSXLACC', [1478]), ('QFSXLACCX', [1479]), ('FSXLACCXS', [1480]), ('SXLACCXSD', [1481]), ('XLACCXSDH', [1482]), ('LACCXSDHK', [1483]), ('ACCXSDHKV', [1484]), ('CCXSDHKVO', [1485]), ('CXSDHKVOQ', [1486]), ('XSDHKVOQA', [1487]), ('SDHKVOQAM', [1488]), ('DHKVOQAMO', [1489]), ('HKVOQAMOP', [1490]), ('KVOQAMOPB', [1491]), ('VOQAMOPBR', [1492]), ('OQAMOPBRI', [1493]), ('QAMOPBRIS', [1494]), ('AMOPBRISD', [1495]), ('MOPBRISDM', [1496]), ('OPBRISDMW', [1497]), ('PBRISDMWS', [1498]), ('BRISDMWSD', [1499]), ('RISDMWSDG', [1500]), ('ISDMWSDGU', [1501]), ('SDMWSDGUK', [1502]), ('DMWSDGUKI', [1503]), ('MWSDGUKIM', [1504]), ('WSDGUKIMT', [1505]), ('SDGUKIMTX', [1506]), ('DGUKIMTXG', [1507]), ('GUKIMTXGY', [1508]), ('UKIMTXGYW', [1509]), ('KIMTXGYWK', [1510]), ('IMTXGYWKV', [1511]), ('MTXGYWKVA', [1512]), ('TXGYWKVAX', [1513]), ('XGYWKVAXO', [1514]), ('GYWKVAXON', [1515]), ('YWKVAXONB', [1516]), ('WKVAXONBL', [1517]), ('KVAXONBLV', [1518]), ('VAXONBLVK', [1519]), ('AXONBLVKZ', [1520]), ('XONBLVKZR', [1521]), ('ONBLVKZRM', [1522]), ('NBLVKZRMU', [1523]), ('BLVKZRMUB', [1524]), ('LVKZRMUBS', [1525]), ('VKZRMUBSY', [1526]), ('KZRMUBSYH', [1527]), ('ZRMUBSYHG', [1528]), ('RMUBSYHGL', [1529]), ('MUBSYHGLE', [1530]), ('UBSYHGLEX', [1531]), ('BSYHGLEXA', [1532]), ('SYHGLEXAB', [1533]), ('YHGLEXABG', [1534]), ('HGLEXABGE', [1535]), ('GLEXABGES', [1536]), ('LEXABGESS', [1537]), ('EXABGESSI', [1538]), ('XABGESSIQ', [1539]), ('ABGESSIQG', [1540]), ('BGESSIQGM', [1541]), ('GESSIQGMM', [1542]), ('ESSIQGMMS', [1543]), ('SSIQGMMSM', [1544]), ('SIQGMMSMF', [1545]), ('IQGMMSMFO', [1546]), ('QGMMSMFOV', [1547]), ('GMMSMFOVD', [1548]), ('MMSMFOVDQ', [1549]), ('MSMFOVDQA', [1550]), ('SMFOVDQAT', [1551]), ('MFOVDQATH', [1552]), ('FOVDQATHT', [1553]), ('OVDQATHTG', [1554]), ('VDQATHTGL', [1555]), ('DQATHTGLI', [1556]), ('QATHTGLIC', [1557]), ('ATHTGLICO', [1558]), ('THTGLICOQ', [1559]), ('HTGLICOQH', [1560]), ('TGLICOQHB', [1561]), ('GLICOQHBT', [1562]), ('LICOQHBTB', [1563]), ('ICOQHBTBY', [1564]), ('COQHBTBYB', [1565]), ('OQHBTBYBA', [1566]), ('QHBTBYBAZ', [1567]), ('HBTBYBAZB', [1568]), ('BTBYBAZBT', [1569]), ('TBYBAZBTB', [1570]), ('BYBAZBTBE', [1571]), ('YBAZBTBEO', [1572]), ('BAZBTBEOT', [1573]), ('AZBTBEOTM', [1574]), ('ZBTBEOTMA', [1575]), ('BTBEOTMAO', [1576]), ('TBEOTMAOC', [1577]), ('BEOTMAOCB', [1578]), ('EOTMAOCBR', [1579]), ('OTMAOCBRL', [1580]), ('TMAOCBRLR', [1581]), ('MAOCBRLRK', [1582]), ('AOCBRLRKT', [1583]), ('OCBRLRKTO', [1584]), ('CBRLRKTOE', [1585]), ('BRLRKTOEB', [1586]), ('RLRKTOEBN', [1587]), ('LRKTOEBNM', [1588]), ('RKTOEBNMZ', [1589]), ('KTOEBNMZG', [1590]), ('TOEBNMZGE', [1591]), ('OEBNMZGEB', [1592]), ('EBNMZGEBO', [1593]), ('BNMZGEBOY', [1594]), ('NMZGEBOYI', [1595]), ('MZGEBOYIX', [1596]), ('ZGEBOYIXZ', [1597]), ('GEBOYIXZN', [1598]), ('EBOYIXZNC', [1599]), ('BOYIXZNCT', [1600]), ('OYIXZNCTB', [1601]), ('YIXZNCTBR', [1602]), ('IXZNCTBRA', [1603]), ('XZNCTBRAT', [1604]), ('ZNCTBRATW', [1605]), ('NCTBRATWS', [1606]), ('CTBRATWSE', [1607]), ('TBRATWSEI', [1608]), ('BRATWSEIB', [1609]), ('RATWSEIBQ', [1610]), ('ATWSEIBQD', [1611]), ('TWSEIBQDM', [1612]), ('WSEIBQDMP', [1613]), ('SEIBQDMPX', [1614]), ('EIBQDMPXF', [1615]), ('IBQDMPXFC', [1616]), ('BQDMPXFCO', [1617]), ('QDMPXFCOS', [1618]), ('DMPXFCOSQ', [1619]), ('MPXFCOSQE', [1620]), ('PXFCOSQEZ', [1621]), ('XFCOSQEZB', [1622]), ('FCOSQEZBT', [1623]), ('COSQEZBTG', [1624]), ('OSQEZBTGX', [1625]), ('SQEZBTGXI', [1626]), ('QEZBTGXIE', [1627]), ('EZBTGXIEJ', [1628]), ('ZBTGXIEJE', [1629]), ('BTGXIEJEZ', [1630]), ('TGXIEJEZM', [1631]), ('GXIEJEZMY', [1632]), ('XIEJEZMYW', [1633]), ('IEJEZMYWN', [1634]), ('EJEZMYWNW', [1635]), ('JEZMYWNWU', [1636]), ('EZMYWNWUA', [1637]), ('ZMYWNWUAA', [1638]), ('MYWNWUAAE', [1639]), ('YWNWUAAEM', [1640]), ('WNWUAAEMG', [1641]), ('NWUAAEMGS', [1642]), ('WUAAEMGSW', [1643]), ('UAAEMGSWO', [1644]), ('AAEMGSWON', [1645]), ('AEMGSWONW', [1646]), ('EMGSWONWR', [1647]), ('MGSWONWRM', [1648]), ('GSWONWRMM', [1649]), ('SWONWRMML', [1650]), ('WONWRMMLS', [1651]), ('ONWRMMLSD', [1652]), ('NWRMMLSDA', [1653]), ('WRMMLSDAK', [1654]), ('RMMLSDAKL', [1655]), ('MMLSDAKLI', [1656]), ('MLSDAKLIF', [1657]), ('LSDAKLIFI', [1658]), ('SDAKLIFIK', [1659]), ('DAKLIFIKM', [1660]), ('AKLIFIKMO', [1661]), ('KLIFIKMOC', [1662]), ('LIFIKMOCX', [1663]), ('IFIKMOCXU', [1664]), ('FIKMOCXUI', [1665]), ('IKMOCXUID', [1666]), ('KMOCXUIDJ', [1667]), ('MOCXUIDJB', [1668]), ('OCXUIDJBS', [1669]), ('CXUIDJBSY', [1670]), ('XUIDJBSYM', [1671]), ('UIDJBSYMG', [1672]), ('IDJBSYMGY', [1673]), ('DJBSYMGYU', [1674]), ('JBSYMGYUQ', [1675]), ('BSYMGYUQM', [1676]), ('SYMGYUQML', [1677]), ('YMGYUQMLZ', [1678]), ('MGYUQMLZZ', [1679]), ('GYUQMLZZE', [1680]), ('YUQMLZZEA', [1681]), ('UQMLZZEAM', [1682]), ('QMLZZEAMD', [1683]), ('MLZZEAMDQ', [1684]), ('LZZEAMDQJ', [1685]), ('ZZEAMDQJX', [1686]), ('ZEAMDQJXA', [1687]), ('EAMDQJXAZ', [1688]), ('AMDQJXAZG', [1689]), ('MDQJXAZGN', [1690]), ('DQJXAZGNI', [1691]), ('QJXAZGNIC', [1692]), ('JXAZGNICQ', [1693]), ('XAZGNICQZ', [1694]), ('AZGNICQZL', [1695]), ('ZGNICQZLS', [1696]), ('GNICQZLSR', [1697]), ('NICQZLSRI', [1698]), ('ICQZLSRIT', [1699]), ('CQZLSRITT', [1700]), ('QZLSRITTA', [1701]), ('ZLSRITTAZ', [1702]), ('LSRITTAZI', [1703]), ('SRITTAZIM', [1704]), ('RITTAZIMI', [1705]), ('ITTAZIMIC', [1706]), ('TTAZIMICO', [1707]), ('TAZIMICOR', [1708]), ('AZIMICORM', [1709]), ('ZIMICORMZ', [1710]), ('IMICORMZM', [1711]), ('MICORMZMM', [1712]), ('ICORMZMML', [1713]), ('CORMZMMLH', [1714]), ('ORMZMMLHL', [1715]), ('RMZMMLHLE', [1716]), ('MZMMLHLEA', [1717]), ('ZMMLHLEAQ', [1718]), ('MMLHLEAQE', [1719]), ('MLHLEAQED', [1720]), ('LHLEAQEDM', [1721]), ('HLEAQEDMJ', [1722]), ('LEAQEDMJI', [1723]), ('EAQEDMJIP', [1724]), ('AQEDMJIPR', [1725]), ('QEDMJIPRA', [1726]), ('EDMJIPRAZ', [1727]), ('DMJIPRAZM', [1728]), ('MJIPRAZMM', [1729]), ('JIPRAZMMU', [1730]), ('IPRAZMMUH', [1731]), ('PRAZMMUHG', [1732]), ('RAZMMUHGZ', [1733]), ('AZMMUHGZQ', [1734]), ('ZMMUHGZQN', [1735]), ('MMUHGZQNW', [1736]), ('MUHGZQNWH', [1737]), ('UHGZQNWHA', [1738]), ('HGZQNWHAZ', [1739]), ('GZQNWHAZT', [1740]), ('ZQNWHAZTG', [1741]), ('QNWHAZTGL', [1742]), ('NWHAZTGLI', [1743]), ('WHAZTGLIT', [1744]), ('HAZTGLITY', [1745]), ('AZTGLITYU', [1746]), ('ZTGLITYUQ', [1747]), ('TGLITYUQD', [1748]), ('GLITYUQDB', [1749]), ('LITYUQDBJ', [1750]), ('ITYUQDBJL', [1751]), ('TYUQDBJLA', [1752]), ('YUQDBJLAU', [1753]), ('UQDBJLAUA', [1754]), ('QDBJLAUAE', [1755]), ('DBJLAUAEZ', [1756]), ('BJLAUAEZC', [1757]), ('JLAUAEZCG', [1758]), ('LAUAEZCGA', [1759]), ('AUAEZCGAF', [1760]), ('UAEZCGAFB', [1761]), ('AEZCGAFBJ', [1762]), ('EZCGAFBJW', [1763]), ('ZCGAFBJWQ', [1764]), ('CGAFBJWQG', [1765]), ('GAFBJWQGM', [1766]), ('AFBJWQGMU', [1767]), ('FBJWQGMUI', [1768]), ('BJWQGMUID', [1769]), ('JWQGMUIDQ', [1770]), ('WQGMUIDQG', [1771]), ('QGMUIDQGT', [1772]), ('GMUIDQGTA', [1773]), ('MUIDQGTAB', [1774]), ('UIDQGTABZ', [1775]), ('IDQGTABZB', [1776]), ('DQGTABZBJ', [1777]), ('QGTABZBJL', [1778]), ('GTABZBJLQ', [1779]), ('TABZBJLQO', [1780]), ('ABZBJLQOW', [1781]), ('BZBJLQOWN', [1782]), ('ZBJLQOWNP', [1783]), ('BJLQOWNPM', [1784]), ('JLQOWNPME', [1785]), ('LQOWNPMEG', [1786]), ('QOWNPMEGF', [1787]), ('OWNPMEGFS', [1788]), ('WNPMEGFST', [1789]), ('NPMEGFSTW', [1790]), ('PMEGFSTWY', [1791]), ('MEGFSTWYD', [1792]), ('EGFSTWYDM', [1793]), ('GFSTWYDMV', [1794]), ('FSTWYDMVI', [1795]), ('STWYDMVIP', [1796]), ('TWYDMVIPF', [1797]), ('WYDMVIPFJ', [1798]), ('YDMVIPFJI', [1799]), ('DMVIPFJIQ', [1800]), ('MVIPFJIQG', [1801]), ('VIPFJIQGM', [1802]), ('IPFJIQGME', [1803]), ('PFJIQGMEC', [1804]), ('FJIQGMECX', [1805]), ('JIQGMECXO', [1806]), ('IQGMECXOY', [1807]), ('QGMECXOYQ', [1808]), ('GMECXOYQM', [1809]), ('MECXOYQMB', [1810]), ('ECXOYQMBW', [1811]), ('CXOYQMBWK', [1812]), ('XOYQMBWKH', [1813]), ('OYQMBWKHL', [1814]), ('YQMBWKHLB', [1815]), ('QMBWKHLBZ', [1816]), ('MBWKHLBZM', [1817]), ('BWKHLBZME', [1818]), ('WKHLBZMEE', [1819]), ('KHLBZMEEP', [1820]), ('HLBZMEEPT', [1821]), ('LBZMEEPTQ', [1822]), ('BZMEEPTQP', [1823]), ('ZMEEPTQPF', [1824]), ('MEEPTQPFE', [1825]), ('EEPTQPFEB', [1826]), ('EPTQPFEBR', [1827]), ('PTQPFEBRM', [1828]), ('TQPFEBRMJ', [1829]), ('QPFEBRMJT', [1830]), ('PFEBRMJTX', [1831]), ('FEBRMJTXL', [1832]), ('EBRMJTXLF', [1833]), ('BRMJTXLFI', [1834]), ('RMJTXLFIW', [1835]), ('MJTXLFIWN', [1836]), ('JTXLFIWNF', [1837]), ('TXLFIWNFW', [1838]), ('XLFIWNFWW', [1839]), ('LFIWNFWWO', [1840]), ('FIWNFWWOE', [1841]), ('IWNFWWOEI', [1842]), ('WNFWWOEIK', [1843]), ('NFWWOEIKV', [1844]), ('FWWOEIKVE', [1845]), ('WWOEIKVED', [1846]), ('WOEIKVEDO', [1847]), ('OEIKVEDOB', [1848]), ('EIKVEDOBO', [1849]), ('IKVEDOBOP', [1850]), ('KVEDOBOPB', [1851]), ('VEDOBOPBL', [1852]), ('EDOBOPBLW', [1853]), ('DOBOPBLWC', [1854]), ('OBOPBLWCM', [1855]), ('BOPBLWCML', [1856]), ('OPBLWCMLT', [1857]), ('PBLWCMLTM', [1858]), ('BLWCMLTMY', [1859]), ('LWCMLTMYC', [1860]), ('WCMLTMYCY', [1861]), ('CMLTMYCYW', [1862]), ('MLTMYCYWL', [1863]), ('LTMYCYWLA', [1864]), ('TMYCYWLAX', [1865]), ('MYCYWLAXX', [1866]), ('YCYWLAXXB', [1867]), ('CYWLAXXBD', [1868]), ('YWLAXXBDO', [1869]), ('WLAXXBDOX', [1870]), ('LAXXBDOXX', [1871]), ('AXXBDOXXO', [1872]), ('XXBDOXXOD', [1873]), ('XBDOXXODY', [1874]), ('BDOXXODYN', [1875]), ('DOXXODYNS', [1876]), ('OXXODYNSY', [1877]), ('XXODYNSYC', [1878]), ('XODYNSYCB', [1879]), ('ODYNSYCBQ', [1880]), ('DYNSYCBQV', [1881]), ('YNSYCBQVU', [1882]), ('NSYCBQVUU', [1883]), ('SYCBQVUUH', [1884]), ('YCBQVUUHG', [1885]), ('CBQVUUHGP', [1886]), ('BQVUUHGPB', [1887]), ('QVUUHGPBA', [1888]), ('VUUHGPBAV', [1889]), ('UUHGPBAVM', [1890]), ('UHGPBAVMG', [1891]), ('HGPBAVMGV', [1892]), ('GPBAVMGVW', [1893]), ('PBAVMGVWC', [1894]), ('BAVMGVWCT', [1895]), ('AVMGVWCTR', [1896]), ('VMGVWCTRK', [1897]), ('MGVWCTRKI', [1898]), ('GVWCTRKIL', [1899]), ('VWCTRKILU', [1900]), ('WCTRKILUA', [1901]), ('CTRKILUAM', [1902]), ('TRKILUAMO', [1903]), ('RKILUAMOY', [1904]), ('KILUAMOYC', [1905]), ('ILUAMOYCV', [1906]), ('LUAMOYCVM', [1907]), ('UAMOYCVMR', [1908]), ('AMOYCVMRY', [1909]), ('MOYCVMRYQ', [1910]), ('OYCVMRYQM', [1911]), ('YCVMRYQMO', [1912]), ('CVMRYQMOD', [1913]), ('VMRYQMODE', [1914]), ('MRYQMODEA', [1915]), ('RYQMODEAM', [1916]), ('YQMODEAME', [1917]), ('QMODEAMEX', [1918]), ('MODEAMEXN', [1919]), ('ODEAMEXNN', [1920]), ('DEAMEXNNS', [1921]), ('EAMEXNNSR', [1922]), ('AMEXNNSRC', [1923]), ('MEXNNSRCJ', [1924]), ('EXNNSRCJM', [1925]), ('XNNSRCJMT', [1926]), ('NNSRCJMTG', [1927]), ('NSRCJMTGI', [1928]), ('SRCJMTGIE', [1929]), ('RCJMTGIEA', [1930]), ('CJMTGIEAL', [1931]), ('JMTGIEALG', [1932]), ('MTGIEALGK', [1933]), ('TGIEALGKI', [1934]), ('GIEALGKIP', [1935]), ('IEALGKIPM', [1936]), ('EALGKIPMO', [1937]), ('ALGKIPMON', [1938]), ('LGKIPMONS', [1939]), ('GKIPMONSJ', [1940]), ('KIPMONSJQ', [1941]), ('IPMONSJQU', [1942]), ('PMONSJQUV', [1943]), ('MONSJQUVO', [1944]), ('ONSJQUVOO', [1945]), ('NSJQUVOOM', [1946]), ('SJQUVOOMX', [1947]), ('JQUVOOMXZ', [1948]), ('QUVOOMXZG', [1949]), ('UVOOMXZGO', [1950]), ('VOOMXZGOR', [1951]), ('OOMXZGORW', [1952]), ('OMXZGORWR', [1953]), ('MXZGORWRP', [1954]), ('XZGORWRPM', [1955]), ('ZGORWRPMM', [1956]), ('GORWRPMMI', [1957]), ('ORWRPMMID', [1958]), ('RWRPMMIDS', [1959]), ('WRPMMIDSX', [1960]), ('RPMMIDSXX', [1961]), ('PMMIDSXXA', [1962]), ('MMIDSXXAD', [1963]), ('MIDSXXADI', [1964]), ('IDSXXADIJ', [1965]), ('DSXXADIJI', [1966]), ('SXXADIJIP', [1967]), ('XXADIJIPH', [1968]), ('XADIJIPHK', [1969]), ('ADIJIPHKL', [1970]), ('DIJIPHKLE', [1971]), ('IJIPHKLEE', [1972]), ('JIPHKLEEM', [1973]), ('IPHKLEEME', [1974]), ('PHKLEEMEF', [1975]), ('HKLEEMEFP', [1976]), ('KLEEMEFPG', [1977]), ('LEEMEFPGV', [1978]), ('EEMEFPGVM', [1979]), ('EMEFPGVMT', [1980]), ('MEFPGVMTA', [1981]), ('EFPGVMTAY', [1982]), ('FPGVMTAYN', [1983]), ('PGVMTAYNS', [1984]), ('GVMTAYNSE', [1985]), ('VMTAYNSES', [1986]), ('MTAYNSESS', [1987]), ('TAYNSESSM', [1988]), ('AYNSESSMR', [1989]), ('YNSESSMRQ', [1990]), ('NSESSMRQK', [1991]), ('SESSMRQKX', [1992]), ('ESSMRQKXG', [1993]), ('SSMRQKXGJ', [1994]), ('SMRQKXGJB', [1995]), ('MRQKXGJBU', [1996]), ('RQKXGJBUX', [1997]), ('QKXGJBUXR', [1998]), ('KXGJBUXRQ', [1999]), ('XGJBUXRQB', [2000]), ('GJBUXRQBX', [2001]), ('JBUXRQBXB', [2002]), ('BUXRQBXBO', [2003]), ('UXRQBXBOO', [2004]), ('XRQBXBOOY', [2005]), ('RQBXBOOYY', [2006]), ('QBXBOOYYU', [2007]), ('BXBOOYYUQ', [2008]), ('XBOOYYUQT', [2009]), ('BOOYYUQTT', [2010]), ('OOYYUQTTG', [2011]), ('OYYUQTTGN', [2012]), ('YYUQTTGNC', [2013]), ('YUQTTGNCY', [2014]), ('UQTTGNCYI', [2015]), ('QTTGNCYIS', [2016]), ('TTGNCYISO', [2017]), ('TGNCYISOI', [2018]), ('GNCYISOIF', [2019]), ('NCYISOIFP', [2020]), ('CYISOIFPT', [2021]), ('YISOIFPTS', [2022]), ('ISOIFPTST', [2023]), ('SOIFPTSTI', [2024]), ('OIFPTSTIC', [2025]), ('IFPTSTICF', [2026]), ('FPTSTICFC', [2027]), ('PTSTICFCT', [2028]), ('TSTICFCTB', [2029]), ('STICFCTBO', [2030]), ('TICFCTBOC', [2031]), ('ICFCTBOCY', [2032]), ('CFCTBOCYQ', [2033]), ('FCTBOCYQE', [2034]), ('CTBOCYQEY', [2035]), ('TBOCYQEYX', [2036]), ('BOCYQEYXK', [2037]), ('OCYQEYXKS', [2038]), ('CYQEYXKST', [2039]), ('YQEYXKSTU', [2040]), ('QEYXKSTUA', [2041]), ('EYXKSTUAI', [2042]), ('YXKSTUAIL', [2043]), ('XKSTUAILK', [2044]), ('KSTUAILKI', [2045]), ('STUAILKIJ', [2046]), ('TUAILKIJI', [2047]), ('UAILKIJIP', [2048]), ('AILKIJIPH', [2049]), ('ILKIJIPHA', [2050]), ('LKIJIPHAL', [2051]), ('KIJIPHALE', [2052]), ('IJIPHALER', [2053]), ('JIPHALERQ', [2054]), ('IPHALERQG', [2055]), ('PHALERQGW', [2056]), ('HALERQGWN', [2057]), ('ALERQGWNW', [2058]), ('LERQGWNWU', [2059]), ('ERQGWNWUV', [2060]), ('RQGWNWUVD', [2061]), ('QGWNWUVDQ', [2062]), ('GWNWUVDQM', [2063]), ('WNWUVDQMQ', [2064]), ('NWUVDQMQW', [2065]), ('WUVDQMQWE', [2066]), ('UVDQMQWEC', [2067]), ('VDQMQWECY', [2068]), ('DQMQWECYW', [2069]), ('QMQWECYWL', [2070]), ('MQWECYWLA', [2071]), ('QWECYWLAA', [2072]), ('WECYWLAAX', [2073]), ('ECYWLAAXO', [2074]), ('CYWLAAXOW', [2075]), ('YWLAAXOWQ', [2076]), ('WLAAXOWQG', [2077]), ('LAAXOWQGV', [2078]), ('AAXOWQGVZ', [2079]), ('AXOWQGVZM', [2080]), ('XOWQGVZMB', [2081]), ('OWQGVZMBK', [2082]), ('WQGVZMBKO', [2083]), ('QGVZMBKOM', [2084]), ('GVZMBKOMO', [2085]), ('VZMBKOMOP', [2086]), ('ZMBKOMOPI', [2087]), ('MBKOMOPIN', [2088]), ('BKOMOPINP', [2089]), ('KOMOPINPW', [2090]), ('OMOPINPWX', [2091]), ('MOPINPWXB', [2092]), ('OPINPWXBE', [2093]), ('PINPWXBEW', [2094]), ('INPWXBEWR', [2095]), ('NPWXBEWRW', [2096]), ('PWXBEWRWD', [2097]), ('WXBEWRWDQ', [2098]), ('XBEWRWDQU', [2099]), ('BEWRWDQUT', [2100]), ('EWRWDQUTG', [2101]), ('WRWDQUTGG', [2102]), ('RWDQUTGGW', [2103]), ('WDQUTGGWK', [2104]), ('DQUTGGWKV', [2105]), ('QUTGGWKVE', [2106]), ('UTGGWKVEF', [2107]), ('TGGWKVEFC', [2108]), ('GGWKVEFCW', [2109]), ('GWKVEFCWS', [2110]), ('WKVEFCWSM', [2111]), ('KVEFCWSMS', [2112]), ('VEFCWSMSY', [2113]), ('EFCWSMSYM', [2114]), ('FCWSMSYMS', [2115]), ('CWSMSYMSF', [2116]), ('WSMSYMSFI', [2117]), ('SMSYMSFIK', [2118]), ('MSYMSFIKS', [2119]), ('SYMSFIKSY', [2120]), ('YMSFIKSYS', [2121]), ('MSFIKSYSR', [2122]), ('SFIKSYSRX', [2123]), ('FIKSYSRXE', [2124]), ('IKSYSRXEP', [2125]), ('KSYSRXEPM', [2126]), ('SYSRXEPML', [2127]), ('YSRXEPMLH', [2128]), ('SRXEPMLHL', [2129]), ('RXEPMLHLZ', [2130]), ('XEPMLHLZJ', [2131]), ('EPMLHLZJM', [2132]), ('PMLHLZJMT', [2133]), ('MLHLZJMTG', [2134]), ('LHLZJMTGD', [2135]), ('HLZJMTGDB', [2136]), ('LZJMTGDBR', [2137]), ('ZJMTGDBRL', [2138]), ('JMTGDBRLM', [2139]), ('MTGDBRLMI', [2140]), ('TGDBRLMIW', [2141]), ('GDBRLMIWM', [2142]), ('DBRLMIWMA', [2143]), ('BRLMIWMAV', [2144]), ('RLMIWMAVT', [2145]), ('LMIWMAVTR', [2146]), ('MIWMAVTRT', [2147]), ('IWMAVTRTS', [2148]), ('WMAVTRTSB', [2149]), ('MAVTRTSBI', [2150]), ('AVTRTSBIA', [2151]), ('VTRTSBIAH', [2152]), ('TRTSBIAHM', [2153]), ('RTSBIAHMG', [2154]), ('TSBIAHMGW', [2155]), ('SBIAHMGWC', [2156]), ('BIAHMGWCO', [2157]), ('IAHMGWCOX', [2158]), ('AHMGWCOXM', [2159]), ('HMGWCOXMG', [2160]), ('MGWCOXMGM', [2161]), ('GWCOXMGMT', [2162]), ('WCOXMGMTT', [2163]), ('COXMGMTTF', [2164]), ('OXMGMTTFY', [2165]), ('XMGMTTFYC', [2166]), ('MGMTTFYCY', [2167]), ('GMTTFYCYB', [2168]), ('MTTFYCYBO', [2169]), ('TTFYCYBOP', [2170]), ('TFYCYBOPW', [2171]), ('FYCYBOPWE', [2172]), ('YCYBOPWEC', [2173]), ('CYBOPWECB', [2174]), ('YBOPWECBI', [2175]), ('BOPWECBIK', [2176]), ('OPWECBIKY', [2177]), ('PWECBIKYU', [2178]), ('WECBIKYUQ', [2179]), ('ECBIKYUQZ', [2180]), ('CBIKYUQZX', [2181]), ('BIKYUQZXA', [2182]), ('IKYUQZXAZ', [2183]), ('KYUQZXAZG', [2184]), ('YUQZXAZGV', [2185]), ('UQZXAZGVW', [2186]), ('QZXAZGVWR', [2187]), ('ZXAZGVWRX', [2188]), ('XAZGVWRXW', [2189]), ('AZGVWRXWJ', [2190]), ('ZGVWRXWJI', [2191]), ('GVWRXWJIP', [2192]), ('VWRXWJIPR', [2193]), ('WRXWJIPRK', [2194]), ('RXWJIPRKJ', [2195]), ('XWJIPRKJE', [2196]), ('WJIPRKJEY', [2197]), ('JIPRKJEYW', [2198]), ('IPRKJEYWL', [2199]), ('PRKJEYWLR', [2200]), ('RKJEYWLRP', [2201]), ('KJEYWLRPG', [2202]), ('JEYWLRPGK', [2203]), ('EYWLRPGKZ', [2204]), ('YWLRPGKZC', [2205]), ('WLRPGKZCA', [2206]), ('LRPGKZCAV', [2207]), ('RPGKZCAVL', [2208]), ('PGKZCAVLQ', [2209]), ('GKZCAVLQT', [2210]), ('KZCAVLQTS', [2211]), ('ZCAVLQTST', [2212]), ('CAVLQTSTB', [2213]), ('AVLQTSTBE', [2214]), ('VLQTSTBEE', [2215]), ('LQTSTBEEL', [2216]), ('QTSTBEELX', [2217]), ('TSTBEELXZ', [2218]), ('STBEELXZA', [2219]), ('TBEELXZAS', [2220]), ('BEELXZASY', [2221]), ('EELXZASYW', [2222]), ('ELXZASYWD', [2223]), ('LXZASYWDQ', [2224]), ('XZASYWDQB', [2225]), ('ZASYWDQBH', [2226]), ('ASYWDQBHR', [2227]), ('SYWDQBHRL', [2228]), ('YWDQBHRLG', [2229]), ('WDQBHRLGT', [2230]), ('DQBHRLGTC', [2231]), ('QBHRLGTCE', [2232]), ('BHRLGTCEE', [2233]), ('HRLGTCEEB', [2234]), ('RLGTCEEBK', [2235]), ('LGTCEEBKO', [2236]), ('GTCEEBKOD', [2237]), ('TCEEBKODO', [2238]), ('CEEBKODOI', [2239]), ('EEBKODOIK', [2240]), ('EBKODOIKI', [2241]), ('BKODOIKIA', [2242]), ('KODOIKIAV', [2243]), ('ODOIKIAVX', [2244]), ('DOIKIAVXG', [2245]), ('OIKIAVXGJ', [2246]), ('IKIAVXGJO', [2247]), ('KIAVXGJOW', [2248]), ('IAVXGJOWC', [2249]), ('AVXGJOWCE', [2250]), ('VXGJOWCEQ', [2251]), ('XGJOWCEQV', [2252]), ('GJOWCEQVX', [2253]), ('JOWCEQVXG', [2254]), ('OWCEQVXGE', [2255]), ('WCEQVXGEO', [2256]), ('CEQVXGEOB', [2257]), ('EQVXGEOBQ', [2258]), ('QVXGEOBQD', [2259]), ('VXGEOBQDM', [2260]), ('XGEOBQDMB', [2261]), ('GEOBQDMBH', [2262]), ('EOBQDMBHR', [2263]), ('OBQDMBHRZ', [2264]), ('BQDMBHRZG', [2265]), ('QDMBHRZGA', [2266]), ('DMBHRZGAU', [2267]), ('MBHRZGAUA', [2268]), ('BHRZGAUAB', [2269]), ('HRZGAUABM', [2270]), ('RZGAUABMK', [2271]), ('ZGAUABMKC', [2272]), ('GAUABMKCE', [2273]), ('AUABMKCEO', [2274]), ('UABMKCEOS', [2275]), ('ABMKCEOSJ', [2276]), ('BMKCEOSJI', [2277]), ('MKCEOSJIQ', [2278]), ('KCEOSJIQV', [2279]), ('CEOSJIQVM', [2280]), ('EOSJIQVMC', [2281]), ('OSJIQVMCO', [2282]), ('SJIQVMCOC', [2283]), ('JIQVMCOCX', [2284]), ('IQVMCOCXM', [2285]), ('QVMCOCXMS', [2286]), ('VMCOCXMSF', [2287]), ('MCOCXMSFI', [2288]), ('COCXMSFIR', [2289]), ('OCXMSFIRR', [2290]), ('CXMSFIRRP', [2291]), ('XMSFIRRPZ', [2292]), ('MSFIRRPZI', [2293]), ('SFIRRPZII', [2294]), ('FIRRPZIIM', [2295]), ('IRRPZIIMU', [2296]), ('RRPZIIMUV', [2297]), ('RPZIIMUVH', [2298]), ('PZIIMUVHE', [2299]), ('ZIIMUVHEF', [2300]), ('IIMUVHEFS', [2301]), ('IMUVHEFSW', [2302]), ('MUVHEFSWC', [2303]), ('UVHEFSWCI', [2304]), ('VHEFSWCIQ', [2305]), ('HEFSWCIQZ', [2306]), ('EFSWCIQZX', [2307]), ('FSWCIQZXG', [2308]), ('SWCIQZXGD', [2309]), ('WCIQZXGDS', [2310]), ('CIQZXGDSM', [2311]), ('IQZXGDSMC', [2312]), ('QZXGDSMCI', [2313]), ('ZXGDSMCID', [2314]), ('XGDSMCIDX', [2315]), ('GDSMCIDXK', [2316]), ('DSMCIDXKW', [2317]), ('SMCIDXKWY', [2318]), ('MCIDXKWYQ', [2319]), ('CIDXKWYQO', [2320]), ('IDXKWYQOX', [2321]), ('DXKWYQOXA', [2322]), ('XKWYQOXAX', [2323]), ('KWYQOXAXU', [2324]), ('WYQOXAXUX', [2325]), ('YQOXAXUXB', [2326]), ('QOXAXUXBE', [2327]), ('OXAXUXBES', [2328]), ('XAXUXBESV', [2329]), ('AXUXBESVW', [2330]), ('XUXBESVWR', [2331]), ('UXBESVWRC', [2332]), ('XBESVWRCC', [2333]), ('BESVWRCCX', [2334]), ('ESVWRCCXG', [2335]), ('SVWRCCXGZ', [2336]), ('VWRCCXGZA', [2337]), ('WRCCXGZAU', [2338]), ('RCCXGZAUA', [2339]), ('CCXGZAUAL', [2340]), ('CXGZAUALA', [2341]), ('XGZAUALAY', [2342]), ('GZAUALAYN', [2343]), ('ZAUALAYNS', [2344]), ('AUALAYNSS', [2345]), ('UALAYNSSO', [2346]), ('ALAYNSSOI', [2347]), ('LAYNSSOIM', [2348]), ('AYNSSOIMM', [2349]), ('YNSSOIMMA', [2350]), ('NSSOIMMAA', [2351]), ('SSOIMMAAW', [2352]), ('SOIMMAAWW', [2353]), ('OIMMAAWWL', [2354]), ('IMMAAWWLO', [2355]), ('MMAAWWLOJ', [2356]), ('MAAWWLOJQ', [2357]), ('AAWWLOJQA', [2358]), ('AWWLOJQAK', [2359]), ('WWLOJQAKT', [2360]), ('WLOJQAKTT', [2361]), ('LOJQAKTTS', [2362]), ('OJQAKTTSI', [2363]), ('JQAKTTSIQ', [2364]), ('QAKTTSIQK', [2365]), ('AKTTSIQKT', [2366]), ('KTTSIQKTE', [2367]), ('TTSIQKTEZ', [2368]), ('TSIQKTEZK', [2369]), ('SIQKTEZKB', [2370]), ('IQKTEZKBO', [2371]), ('QKTEZKBOY', [2372]), ('KTEZKBOYC', [2373]), ('TEZKBOYCK', [2374]), ('EZKBOYCKA', [2375]), ('ZKBOYCKAF', [2376]), ('KBOYCKAFU', [2377]), ('BOYCKAFUV', [2378]), ('OYCKAFUVL', [2379]), ('YCKAFUVLW', [2380]), ('CKAFUVLWY', [2381]), ('KAFUVLWYC', [2382]), ('AFUVLWYCA', [2383]), ('FUVLWYCAV', [2384]), ('UVLWYCAVC', [2385]), ('VLWYCAVCM', [2386]), ('LWYCAVCMU', [2387]), ('WYCAVCMUB', [2388]), ('YCAVCMUBB', [2389]), ('CAVCMUBBZ', [2390]), ('AVCMUBBZM', [2391]), ('VCMUBBZMZ', [2392]), ('CMUBBZMZM', [2393]), ('MUBBZMZMN', [2394]), ('UBBZMZMNU', [2395]), ('BBZMZMNUM', [2396]), ('BZMZMNUMG', [2397]), ('ZMZMNUMGR', [2398]), ('MZMNUMGRZ', [2399]), ('ZMNUMGRZS', [2400]), ('MNUMGRZST', [2401]), ('NUMGRZSTK', [2402]), ('UMGRZSTKU', [2403]), ('MGRZSTKUQ', [2404]), ('GRZSTKUQV', [2405]), ('RZSTKUQVM', [2406]), ('ZSTKUQVMO', [2407]), ('STKUQVMOW', [2408]), ('TKUQVMOWO', [2409]), ('KUQVMOWOY', [2410]), ('UQVMOWOYZ', [2411]), ('QVMOWOYZE', [2412]), ('VMOWOYZES', [2413]), ('MOWOYZEST', [2414]), ('OWOYZESTT', [2415]), ('WOYZESTTG', [2416]), ('OYZESTTGO', [2417]), ('YZESTTGOS', [2418]), ('ZESTTGOSK', [2419]), ('ESTTGOSKA', [2420]), ('STTGOSKAT', [2421]), ('TTGOSKATQ', [2422]), ('TGOSKATQR', [2423]), ('GOSKATQRN', [2424]), ('OSKATQRNS', [2425]), ('SKATQRNSR', [2426]), ('KATQRNSRC', [2427]), ('ATQRNSRCV', [2428]), ('TQRNSRCVW', [2429]), ('QRNSRCVWR', [2430]), ('RNSRCVWRC', [2431]), ('NSRCVWRCC', [2432]), ('SRCVWRCCX', [2433]), ('RCVWRCCXS', [2434]), ('CVWRCCXSW', [2435]), ('VWRCCXSWQ', [2436]), ('WRCCXSWQN', [2437]), ('RCCXSWQNQ', [2438]), ('CCXSWQNQS', [2439]), ('CXSWQNQSF', [2440]), ('XSWQNQSFM', [2441]), ('SWQNQSFMX', [2442]), ('WQNQSFMXG', [2443]), ('QNQSFMXGU', [2444]), ('NQSFMXGUI', [2445]), ('QSFMXGUIM', [2446]), ('SFMXGUIMI', [2447]), ('FMXGUIMIR', [2448]), ('MXGUIMIRX', [2449]), ('XGUIMIRXW', [2450]), ('GUIMIRXWW', [2451]), ('UIMIRXWWS', [2452]), ('IMIRXWWSW', [2453]), ('MIRXWWSWO', [2454]), ('IRXWWSWOS', [2455]), ('RXWWSWOSM', [2456]), ('XWWSWOSMJ', [2457]), ('WWSWOSMJA', [2458]), ('WSWOSMJAZ', [2459]), ('SWOSMJAZF', [2460]), ('WOSMJAZFO', [2461]), ('OSMJAZFOY', [2462]), ('SMJAZFOYS', [2463]), ('MJAZFOYSX', [2464]), ('JAZFOYSXI', [2465]), ('AZFOYSXIQ', [2466]), ('ZFOYSXIQG', [2467]), ('FOYSXIQGM', [2468]), ('OYSXIQGMI', [2469]), ('YSXIQGMIC', [2470]), ('SXIQGMICO', [2471]), ('XIQGMICOO', [2472]), ('IQGMICOOS', [2473]), ('QGMICOOSW', [2474]), ('GMICOOSWS', [2475]), ('MICOOSWSN', [2476]), ('ICOOSWSNC', [2477]), ('COOSWSNCL', [2478]), ('OOSWSNCLQ', [2479]), ('OSWSNCLQL', [2480]), ('SWSNCLQLB', [2481]), ('WSNCLQLBJ', [2482]), ('SNCLQLBJW', [2483]), ('NCLQLBJWL', [2484]), ('CLQLBJWLX', [2485]), ('LQLBJWLXM', [2486]), ('QLBJWLXMZ', [2487]), ('LBJWLXMZO', [2488]), ('BJWLXMZOC', [2489]), ('JWLXMZOCG', [2490]), ('WLXMZOCGO', [2491]), ('LXMZOCGOV', [2492]), ('XMZOCGOVV', [2493]), ('MZOCGOVVQ', [2494]), ('ZOCGOVVQZ', [2495]), ('OCGOVVQZZ', [2496]), ('CGOVVQZZI', [2497]), ('GOVVQZZIP', [2498]), ('OVVQZZIPB', [2499]), ('VVQZZIPBF', [2500]), ('VQZZIPBFI', [2501]), ('QZZIPBFIA', [2502]), ('ZZIPBFIAX', [2503]), ('ZIPBFIAXN', [2504]), ('IPBFIAXNB', [2505]), ('PBFIAXNBB', [2506]), ('BFIAXNBBO', [2507]), ('FIAXNBBOS', [2508]), ('IAXNBBOSK', [2509]), ('AXNBBOSKA', [2510]), ('XNBBOSKAT', [2511]), ('NBBOSKATQ', [2512]), ('BBOSKATQO', [2513]), ('BOSKATQOK', [2514]), ('OSKATQOKO', [2515]), ('SKATQOKOY', [2516]), ('KATQOKOYJ', [2517]), ('ATQOKOYJO', [2518]), ('TQOKOYJOI', [2519]), ('QOKOYJOIJ', [2520]), ('OKOYJOIJQ', [2521]), ('KOYJOIJQY', [2522]), ('OYJOIJQYN', [2523]), ('YJOIJQYNS', [2524]), ('JOIJQYNSN', [2525]), ('OIJQYNSNC', [2526]), ('IJQYNSNCT', [2527]), ('JQYNSNCTW', [2528]), ('QYNSNCTWC', [2529]), ('YNSNCTWCQ', [2530]), ('NSNCTWCQU', [2531]), ('SNCTWCQUH', [2532]), ('NCTWCQUHG', [2533]), ('CTWCQUHGN', [2534]), ('TWCQUHGNC', [2535]), ('WCQUHGNCS', [2536]), ('CQUHGNCSW', [2537]), ('QUHGNCSWV', [2538]), ('UHGNCSWVU', [2539]), ('HGNCSWVUL', [2540]), ('GNCSWVULT', [2541]), ('NCSWVULTO', [2542]), ('CSWVULTOD', [2543]), ('SWVULTODW', [2544]), ('WVULTODWW', [2545]), ('VULTODWWC', [2546]), ('ULTODWWCE', [2547]), ('LTODWWCEO', [2548]), ('TODWWCEOW', [2549]), ('ODWWCEOWG', [2550]), ('DWWCEOWGQ', [2551]), ('WWCEOWGQP', [2552]), ('WCEOWGQPB', [2553]), ('CEOWGQPBZ', [2554]), ('EOWGQPBZZ', [2555]), ('OWGQPBZZA', [2556]), ('WGQPBZZAF', [2557]), ('GQPBZZAFM', [2558]), ('QPBZZAFMV', [2559]), ('PBZZAFMVO', [2560]), ('BZZAFMVOO', [2561]), ('ZZAFMVOOO', [2562]), ('ZAFMVOOOS', [2563]), ('AFMVOOOSQ', [2564]), ('FMVOOOSQN', [2565]), ('MVOOOSQNG', [2566]), ('VOOOSQNGB', [2567]), ('OOOSQNGBH', [2568]), ('OOSQNGBHQ', [2569]), ('OSQNGBHQZ', [2570]), ('SQNGBHQZA', [2571]), ('QNGBHQZAU', [2572]), ('NGBHQZAUC', [2573]), ('GBHQZAUCN', [2574]), ('BHQZAUCND', [2575]), ('HQZAUCNDW', [2576]), ('QZAUCNDWF', [2577]), ('ZAUCNDWFO', [2578]), ('AUCNDWFOY', [2579]), ('UCNDWFOYC', [2580]), ('CNDWFOYCI', [2581]), ('NDWFOYCIW', [2582]), ('DWFOYCIWM', [2583]), ('WFOYCIWMA', [2584]), ('FOYCIWMAC', [2585]), ('OYCIWMACG', [2586]), ('YCIWMACGV', [2587]), ('CIWMACGVZ', [2588]), ('IWMACGVZA', [2589]), ('WMACGVZAH', [2590]), ('MACGVZAHZ', [2591]), ('ACGVZAHZE', [2592]), ('CGVZAHZEQ', [2593]), ('GVZAHZEQV', [2594]), ('VZAHZEQVA', [2595]), ('ZAHZEQVAO', [2596]), ('AHZEQVAON', [2597]), ('HZEQVAONS', [2598]), ('ZEQVAONSX', [2599]), ('EQVAONSXT', [2600]), ('QVAONSXTO', [2601]), ('VAONSXTOC', [2602]), ('AONSXTOCC', [2603]), ('ONSXTOCCX', [2604]), ('NSXTOCCXS', [2605]), ('SXTOCCXSD', [2606]), ('XTOCCXSDH', [2607]), ('TOCCXSDHG', [2608]), ('OCCXSDHGN', [2609]), ('CCXSDHGNR', [2610]), ('CXSDHGNRQ', [2611]), ('XSDHGNRQV', [2612]), ('SDHGNRQVM', [2613]), ('DHGNRQVMS', [2614]), ('HGNRQVMSL', [2615]), ('GNRQVMSLH', [2616]), ('NRQVMSLHO', [2617]), ('RQVMSLHOK', [2618]), ('QVMSLHOKO', [2619]), ('VMSLHOKOZ', [2620]), ('MSLHOKOZA', [2621]), ('SLHOKOZAX', [2622]), ('LHOKOZAXF', [2623]), ('HOKOZAXFT', [2624]), ('OKOZAXFTS', [2625]), ('KOZAXFTSJ', [2626]), ('OZAXFTSJI', [2627]), ('ZAXFTSJID', [2628]), ('AXFTSJIDB', [2629]), ('XFTSJIDBZ', [2630]), ('FTSJIDBZX', [2631]), ('TSJIDBZXQ', [2632]), ('SJIDBZXQT', [2633]), ('JIDBZXQTG', [2634]), ('IDBZXQTGG', [2635]), ('DBZXQTGGG', [2636]), ('BZXQTGGGG', [2637]), ('ZXQTGGGGQ', [2638]), ('XQTGGGGQV', [2639]), ('QTGGGGQVN', [2640]), ('TGGGGQVNW', [2641]), ('GGGGQVNWY', [2642]), ('GGGQVNWYO', [2643]), ('GGQVNWYOI', [2644]), ('GQVNWYOIW', [2645]), ('QVNWYOIWN', [2646]), ('VNWYOIWNF', [2647]), ('NWYOIWNFM', [2648]), ('WYOIWNFMK', [2649]), ('YOIWNFMKB', [2650]), ('OIWNFMKBF', [2651]), ('IWNFMKBFF', [2652]), ('WNFMKBFFG', [2653]), ('NFMKBFFGK', [2654]), ('FMKBFFGKO', [2655]), ('MKBFFGKOZ', [2656]), ('KBFFGKOZD', [2657]), ('BFFGKOZDH', [2658]), ('FFGKOZDHZ', [2659]), ('FGKOZDHZF', [2660]), ('GKOZDHZFB', [2661]), ('KOZDHZFBZ', [2662]), ('OZDHZFBZI', [2663]), ('ZDHZFBZID', [2664]), ('DHZFBZIDO', [2665]), ('HZFBZIDOW', [2666]), ('ZFBZIDOWG', [2667]), ('FBZIDOWGX', [2668]), ('BZIDOWGXF', [2669]), ('ZIDOWGXFG', [2670]), ('IDOWGXFGZ', [2671]), ('DOWGXFGZQ', [2672]), ('OWGXFGZQC', [2673]), ('WGXFGZQCU', [2674]), ('GXFGZQCUI', [2675]), ('XFGZQCUIR', [2676]), ('FGZQCUIRS', [2677]), ('GZQCUIRSY', [2678]), ('ZQCUIRSYZ', [2679]), ('QCUIRSYZO', [2680]), ('CUIRSYZOJ', [2681]), ('UIRSYZOJE', [2682]), ('IRSYZOJED', [2683]), ('RSYZOJEDI', [2684]), ('SYZOJEDIK', [2685]), ('YZOJEDIKH', [2686]), ('ZOJEDIKHP', [2687]), ('OJEDIKHPR', [2688]), ('JEDIKHPRK', [2689]), ('EDIKHPRKB', [2690]), ('DIKHPRKBO', [2691]), ('IKHPRKBOP', [2692]), ('KHPRKBOPI', [2693]), ('HPRKBOPIL', [2694]), ('PRKBOPILZ', [2695]), ('RKBOPILZL', [2696]), ('KBOPILZLG', [2697]), ('BOPILZLGJ', [2698]), ('OPILZLGJM', [2699]), ('PILZLGJMM', [2700]), ('ILZLGJMMM', [2701]), ('LZLGJMMMA', [2702]), ('ZLGJMMMAW', [2703]), ('LGJMMMAWW', [2704]), ('GJMMMAWWD', [2705]), ('JMMMAWWDH', [2706]), ('MMMAWWDHX', [2707]), ('MMAWWDHXI', [2708]), ('MAWWDHXIC', [2709]), ('AWWDHXICO', [2710]), ('WWDHXICOQ', [2711]), ('WDHXICOQH', [2712]), ('DHXICOQHB', [2713]), ('HXICOQHBP', [2714]), ('XICOQHBPM', [2715]), ('ICOQHBPMY', [2716]), ('COQHBPMYQ', [2717]), ('OQHBPMYQH', [2718]), ('QHBPMYQHM', [2719]), ('HBPMYQHMK', [2720]), ('BPMYQHMKX', [2721]), ('PMYQHMKXG', [2722]), ('MYQHMKXGE', [2723]), ('YQHMKXGEC', [2724]), ('QHMKXGECJ', [2725]), ('HMKXGECJW', [2726]), ('MKXGECJWC', [2727]), ('KXGECJWCA', [2728]), ('XGECJWCAU', [2729]), ('GECJWCAUH', [2730]), ('ECJWCAUHG', [2731]), ('CJWCAUHGT', [2732]), ('JWCAUHGTT', [2733]), ('WCAUHGTTA', [2734]), ('CAUHGTTAM', [2735]), ('AUHGTTAMR', [2736]), ('UHGTTAMRM', [2737]), ('HGTTAMRMT', [2738]), ('GTTAMRMTH', [2739]), ('TTAMRMTHI', [2740]), ('TAMRMTHIW', [2741]), ('AMRMTHIWH', [2742]), ('MRMTHIWHO', [2743]), ('RMTHIWHOU', [2744]), ('MTHIWHOUO', [2745]), ('THIWHOUOC', [2746]), ('HIWHOUOCC', [2747]), ('IWHOUOCCX', [2748]), ('WHOUOCCXV', [2749]), ('HOUOCCXVL', [2750]), ('OUOCCXVLF', [2751]), ('UOCCXVLFO', [2752]), ('OCCXVLFOI', [2753]), ('CCXVLFOIS', [2754]), ('CXVLFOISQ', [2755]), ('XVLFOISQV', [2756]), ('VLFOISQVM', [2757]), ('LFOISQVMI', [2758]), ('FOISQVMIG', [2759]), ('OISQVMIGW', [2760]), ('ISQVMIGWJ', [2761]), ('SQVMIGWJI', [2762]), ('QVMIGWJIY', [2763]), ('VMIGWJIYP', [2764]), ('MIGWJIYPM', [2765]), ('IGWJIYPMC', [2766]), ('GWJIYPMCO', [2767]), ('WJIYPMCOD', [2768]), ('JIYPMCODR', [2769]), ('IYPMCODRK', [2770]), ('YPMCODRKK', [2771]), ('PMCODRKKA', [2772]), ('MCODRKKAY', [2773]), ('CODRKKAYQ', [2774]), ('ODRKKAYQG', [2775]), ('DRKKAYQGO', [2776]), ('RKKAYQGOC', [2777]), ('KKAYQGOCG', [2778]), ('KAYQGOCGO', [2779]), ('AYQGOCGOV', [2780]), ('YQGOCGOVR', [2781]), ('QGOCGOVRG', [2782]), ('GOCGOVRGU', [2783]), ('OCGOVRGUU', [2784]), ('CGOVRGUUC', [2785]), ('GOVRGUUCO', [2786]), ('OVRGUUCOS', [2787]), ('VRGUUCOSP', [2788]), ('RGUUCOSPI', [2789]), ('GUUCOSPIS', [2790]), ('UUCOSPISP', [2791]), ('UCOSPISPM', [2792]), ('COSPISPMW', [2793]), ('OSPISPMWS', [2794]), ('SPISPMWSU', [2795]), ('PISPMWSUO', [2796]), ('ISPMWSUOX', [2797]), ('SPMWSUOXY', [2798]), ('PMWSUOXYU', [2799]), ('MWSUOXYUQ', [2800]), ('WSUOXYUQB', [2801]), ('SUOXYUQBN', [2802]), ('UOXYUQBNG', [2803]), ('OXYUQBNGP', [2804]), ('XYUQBNGPA', [2805]), ('YUQBNGPAU', [2806]), ('UQBNGPAUK', [2807]), ('QBNGPAUKI', [2808]), ('BNGPAUKIA', [2809]), ('NGPAUKIAV', [2810]), ('GPAUKIAVX', [2811]), ('PAUKIAVXG', [2812]), ('AUKIAVXGL', [2813]), ('UKIAVXGLB', [2814]), ('KIAVXGLBA', [2815]), ('IAVXGLBAT', [2816]), ('AVXGLBATE', [2817]), ('VXGLBATEZ', [2818]), ('XGLBATEZT', [2819]), ('GLBATEZTH', [2820]), ('LBATEZTHE', [2821]), ('BATEZTHEF', [2822]), ('ATEZTHEFS', [2823]), ('TEZTHEFSZ', [2824]), ('EZTHEFSZM', [2825]), ('ZTHEFSZMD', [2826]), ('THEFSZMDU', [2827]), ('HEFSZMDUK', [2828]), ('EFSZMDUKX', [2829]), ('FSZMDUKXH', [2830]), ('SZMDUKXHF', [2831]), ('ZMDUKXHFA', [2832]), ('MDUKXHFAK', [2833]), ('DUKXHFAKV', [2834]), ('UKXHFAKVT', [2835]), ('KXHFAKVTQ', [2836]), ('XHFAKVTQL', [2837]), ('HFAKVTQLX', [2838]), ('FAKVTQLXX', [2839]), ('AKVTQLXXL', [2840]), ('KVTQLXXLG', [2841]), ('VTQLXXLGJ', [2842]), ('TQLXXLGJM', [2843]), ('QLXXLGJMS', [2844]), ('LXXLGJMSQ', [2845]), ('XXLGJMSQZ', [2846]), ('XLGJMSQZA', [2847]), ('LGJMSQZAW', [2848]), ('GJMSQZAWA', [2849]), ('JMSQZAWAC', [2850]), ('MSQZAWACI', [2851]), ('SQZAWACIZ', [2852]), ('QZAWACIZI', [2853]), ('ZAWACIZIF', [2854]), ('AWACIZIFI', [2855]), ('WACIZIFIX', [2856]), ('ACIZIFIXU', [2857]), ('CIZIFIXUZ', [2858]), ('IZIFIXUZQ', [2859]), ('ZIFIXUZQK', [2860]), ('IFIXUZQKV', [2861]), ('FIXUZQKVT', [2862]), ('IXUZQKVTD', [2863]), ('XUZQKVTDQ', [2864]), ('UZQKVTDQV', [2865]), ('ZQKVTDQVC', [2866]), ('QKVTDQVCP', [2867]), ('KVTDQVCPW', [2868]), ('VTDQVCPWX', [2869]), ('TDQVCPWXZ', [2870]), ('DQVCPWXZI', [2871]), ('QVCPWXZIF', [2872]), ('VCPWXZIFI', [2873]), ('CPWXZIFIU', [2874]), ('PWXZIFIUZ', [2875]), ('WXZIFIUZP', [2876]), ('XZIFIUZP', [2877]), ('ZIFIUZP', [2878]), ('IFIUZP', [2879]), ('FIUZP', [2880]), ('IUZP', [2881]), ('UZP', [2882])] \n",
            " <class 'dict'>\n"
          ]
        },
        {
          "output_type": "execute_result",
          "data": {
            "text/plain": [
              "'JIPGKXUQL'"
            ],
            "application/vnd.google.colaboratory.intrinsic+json": {
              "type": "string"
            }
          },
          "metadata": {},
          "execution_count": 3
        }
      ]
    },
    {
      "cell_type": "code",
      "source": [
        "def distancias(subcadenas):\n",
        "    # Encontrar las distancias entre las ocurrencias de cada subcadena\n",
        "    distancias = {}\n",
        "    for subcadena, posiciones in subcadenas.items():\n",
        "        distancias[subcadena] = []\n",
        "        for i in range(len(posiciones) - 1):\n",
        "            distancia = posiciones[i+1] - posiciones[i]\n",
        "            distancias[subcadena].append(distancia)\n",
        "    return distancias\n",
        "\n",
        "dis=distancias(subs)\n",
        "dis_ordenado = sorted(dis.items(), key=lambda x: len(x[1]), reverse=True)\n",
        "print(\"Subcadenas encontradas con su respectiva distancia entre sus subcandenas:\\n\",type(dis)\n",
        ",dis, \"\\n Ordenadas por número de apariciones:\\n\", dis_ordenado,\"\\n\",type(dis_ordenado))\n",
        "\n",
        "#print(dis.items())"
      ],
      "metadata": {
        "colab": {
          "base_uri": "https://localhost:8080/"
        },
        "id": "2HIXRl60MGwo",
        "outputId": "cd022c7c-fc97-4493-f2b5-f8c3254e4378"
      },
      "execution_count": null,
      "outputs": [
        {
          "output_type": "stream",
          "name": "stdout",
          "text": [
            "Subcadenas encontradas con su respectiva distancia entre sus subcandenas:\n",
            " <class 'dict'> {'QABAACYQB': [], 'ABAACYQBX': [], 'BAACYQBXM': [], 'AACYQBXMM': [], 'ACYQBXMMS': [], 'CYQBXMMSY': [], 'YQBXMMSYS': [], 'QBXMMSYSX': [], 'BXMMSYSXB': [], 'XMMSYSXBO': [], 'MMSYSXBOP': [], 'MSYSXBOPW': [], 'SYSXBOPWU': [], 'YSXBOPWUO': [], 'SXBOPWUOU': [], 'XBOPWUOUC': [], 'BOPWUOUCI': [], 'OPWUOUCIW': [], 'PWUOUCIWN': [], 'WUOUCIWNF': [], 'UOUCIWNFZ': [], 'OUCIWNFZH': [], 'UCIWNFZHZ': [], 'CIWNFZHZE': [], 'IWNFZHZES': [], 'WNFZHZEST': [], 'NFZHZESTM': [], 'FZHZESTMM': [], 'ZHZESTMMA': [], 'HZESTMMAA': [], 'ZESTMMAAJ': [], 'ESTMMAAJI': [], 'STMMAAJIP': [], 'TMMAAJIPR': [], 'MMAAJIPRG': [], 'MAAJIPRGZ': [], 'AAJIPRGZN': [], 'AJIPRGZNA': [], 'JIPRGZNAA': [], 'IPRGZNAAV': [], 'PRGZNAAVI': [], 'RGZNAAVIP': [], 'GZNAAVIPB': [], 'ZNAAVIPBZ': [], 'NAAVIPBZI': [], 'AAVIPBZIQ': [], 'AVIPBZIQG': [], 'VIPBZIQGM': [], 'IPBZIQGMI': [], 'PBZIQGMIS': [], 'BZIQGMISY': [], 'ZIQGMISYG': [], 'IQGMISYGG': [], 'QGMISYGGZ': [], 'GMISYGGZD': [], 'MISYGGZDQ': [], 'ISYGGZDQU': [], 'SYGGZDQUT': [], 'YGGZDQUTG': [], 'GGZDQUTGT': [], 'GZDQUTGTO': [], 'ZDQUTGTOJ': [], 'DQUTGTOJW': [], 'QUTGTOJWE': [], 'UTGTOJWEZ': [], 'TGTOJWEZM': [], 'GTOJWEZME': [], 'TOJWEZMET': [], 'OJWEZMETF': [], 'JWEZMETFH': [], 'WEZMETFHA': [], 'EZMETFHAZ': [], 'ZMETFHAZO': [], 'METFHAZOB': [], 'ETFHAZOBC': [], 'TFHAZOBCX': [], 'FHAZOBCXR': [], 'HAZOBCXRP': [], 'AZOBCXRPZ': [], 'ZOBCXRPZR': [], 'OBCXRPZRM': [], 'BCXRPZRMV': [], 'CXRPZRMVM': [], 'XRPZRMVMZ': [], 'RPZRMVMZT': [], 'PZRMVMZTW': [], 'ZRMVMZTWX': [], 'RMVMZTWXO': [], 'MVMZTWXOM': [], 'VMZTWXOMQ': [], 'MZTWXOMQN': [], 'ZTWXOMQNM': [], 'TWXOMQNMZ': [], 'WXOMQNMZG': [], 'XOMQNMZGC': [], 'OMQNMZGCD': [], 'MQNMZGCDG': [], 'QNMZGCDGO': [], 'NMZGCDGOB': [], 'MZGCDGOBU': [], 'ZGCDGOBUM': [], 'GCDGOBUMK': [], 'CDGOBUMKB': [], 'DGOBUMKBC': [], 'GOBUMKBCY': [], 'OBUMKBCYS': [], 'BUMKBCYSY': [], 'UMKBCYSYG': [], 'MKBCYSYGP': [], 'KBCYSYGPD': [], 'BCYSYGPDW': [], 'CYSYGPDWU': [], 'YSYGPDWUZ': [], 'SYGPDWUZP': [], 'YGPDWUZPA': [], 'GPDWUZPAG': [], 'PDWUZPAGA': [], 'DWUZPAGAQ': [], 'WUZPAGAQG': [], 'UZPAGAQGM': [], 'ZPAGAQGMI': [], 'PAGAQGMII': [], 'AGAQGMIIP': [], 'GAQGMIIPR': [], 'AQGMIIPRK': [], 'QGMIIPRKV': [], 'GMIIPRKVN': [], 'MIIPRKVNA': [], 'IIPRKVNAM': [], 'IPRKVNAMQ': [], 'PRKVNAMQW': [], 'RKVNAMQWD': [], 'KVNAMQWDH': [], 'VNAMQWDHO': [], 'NAMQWDHOZ': [], 'AMQWDHOZT': [], 'MQWDHOZTA': [], 'QWDHOZTAL': [], 'WDHOZTALH': [], 'DHOZTALHS': [], 'HOZTALHSD': [], 'OZTALHSDH': [], 'ZTALHSDHU': [], 'TALHSDHUK': [], 'ALHSDHUKO': [], 'LHSDHUKOZ': [], 'HSDHUKOZL': [], 'SDHUKOZLN': [], 'DHUKOZLNQ': [], 'HUKOZLNQP': [], 'UKOZLNQPO': [], 'KOZLNQPOR': [], 'OZLNQPORI': [], 'ZLNQPORIA': [], 'LNQPORIAZ': [], 'NQPORIAZA': [], 'QPORIAZAB': [], 'PORIAZABS': [], 'ORIAZABSO': [], 'RIAZABSOO': [], 'IAZABSOOJ': [], 'AZABSOOJM': [], 'ZABSOOJML': [], 'ABSOOJMLC': [], 'BSOOJMLCC': [], 'SOOJMLCCX': [], 'OOJMLCCXG': [], 'OJMLCCXGF': [], 'JMLCCXGFT': [], 'MLCCXGFTX': [], 'LCCXGFTXM': [], 'CCXGFTXMA': [], 'CXGFTXMAZ': [], 'XGFTXMAZB': [], 'GFTXMAZBX': [], 'FTXMAZBXG': [], 'TXMAZBXGO': [], 'XMAZBXGOS': [], 'MAZBXGOSW': [], 'AZBXGOSWC': [], 'ZBXGOSWCE': [], 'BXGOSWCEE': [], 'XGOSWCEEM': [], 'GOSWCEEMT': [], 'OSWCEEMTB': [], 'SWCEEMTBP': [], 'WCEEMTBPQ': [], 'CEEMTBPQK': [], 'EEMTBPQKA': [], 'EMTBPQKAA': [], 'MTBPQKAAD': [], 'TBPQKAADQ': [], 'BPQKAADQH': [], 'PQKAADQHG': [], 'QKAADQHGF': [], 'KAADQHGFT': [], 'AADQHGFTX': [], 'ADQHGFTXM': [], 'DQHGFTXMM': [], 'QHGFTXMMM': [], 'HGFTXMMMA': [], 'GFTXMMMAW': [], 'FTXMMMAWS': [], 'TXMMMAWSW': [], 'XMMMAWSWC': [], 'MMMAWSWCT': [], 'MMAWSWCTM': [], 'MAWSWCTMC': [], 'AWSWCTMCQ': [], 'WSWCTMCQA': [], 'SWCTMCQAT': [], 'WCTMCQATF': [], 'CTMCQATFT': [], 'TMCQATFTC': [], 'MCQATFTCV': [], 'CQATFTCVM': [], 'QATFTCVMR': [], 'ATFTCVMRA': [], 'TFTCVMRAA': [], 'FTCVMRAAB': [], 'TCVMRAABE': [], 'CVMRAABEF': [], 'VMRAABEFW': [], 'MRAABEFWK': [], 'RAABEFWKZ': [], 'AABEFWKZE': [], 'ABEFWKZEE': [], 'BEFWKZEEZ': [], 'EFWKZEEZX': [], 'FWKZEEZXO': [], 'WKZEEZXOW': [], 'KZEEZXOWW': [], 'ZEEZXOWWF': [], 'EEZXOWWFI': [], 'EZXOWWFIR': [], 'ZXOWWFIRM': [], 'XOWWFIRMT': [], 'OWWFIRMTZ': [], 'WWFIRMTZC': [], 'WFIRMTZCY': [], 'FIRMTZCYC': [], 'IRMTZCYCN': [], 'RMTZCYCNI': [], 'MTZCYCNIY': [], 'TZCYCNIYY': [], 'ZCYCNIYYI': [], 'CYCNIYYIL': [], 'YCNIYYILE': [], 'CNIYYILEF': [], 'NIYYILEFS': [], 'IYYILEFSI': [], 'YYILEFSIW': [], 'YILEFSIWN': [], 'ILEFSIWNR': [], 'LEFSIWNRQ': [], 'EFSIWNRQT': [], 'FSIWNRQTF': [], 'SIWNRQTFP': [], 'IWNRQTFPB': [], 'WNRQTFPBZ': [], 'NRQTFPBZC': [], 'RQTFPBZCV': [], 'QTFPBZCVQ': [], 'TFPBZCVQZ': [], 'FPBZCVQZL': [], 'PBZCVQZLW': [], 'BZCVQZLWZ': [], 'ZCVQZLWZB': [], 'CVQZLWZBJ': [], 'VQZLWZBJM': [], 'QZLWZBJMT': [], 'ZLWZBJMTU': [], 'LWZBJMTUY': [], 'WZBJMTUYN': [], 'ZBJMTUYNS': [], 'BJMTUYNSO': [], 'JMTUYNSOO': [], 'MTUYNSOOR': [], 'TUYNSOORW': [], 'UYNSOORWM': [], 'YNSOORWMQ': [], 'NSOORWMQR': [], 'SOORWMQRH': [], 'OORWMQRHF': [], 'ORWMQRHFO': [], 'RWMQRHFOS': [], 'WMQRHFOSY': [], 'MQRHFOSYQ': [], 'QRHFOSYQP': [], 'RHFOSYQPM': [], 'HFOSYQPMZ': [], 'FOSYQPMZT': [], 'OSYQPMZTC': [], 'SYQPMZTCM': [], 'YQPMZTCMH': [], 'QPMZTCMHK': [], 'PMZTCMHKV': [], 'MZTCMHKVE': [], 'ZTCMHKVED': [], 'TCMHKVEDM': [], 'CMHKVEDML': [], 'MHKVEDMLC': [], 'HKVEDMLCB': [], 'KVEDMLCBI': [], 'VEDMLCBIK': [], 'EDMLCBIKY': [], 'DMLCBIKYU': [], 'MLCBIKYUU': [], 'LCBIKYUUZ': [], 'CBIKYUUZX': [], 'BIKYUUZXG': [], 'IKYUUZXGE': [], 'KYUUZXGEI': [], 'YUUZXGEIY': [], 'UUZXGEIYU': [], 'UZXGEIYUE': [], 'ZXGEIYUEF': [], 'XGEIYUEFI': [], 'GEIYUEFIL': [], 'EIYUEFILM': [], 'IYUEFILME': [], 'YUEFILMEI': [], 'UEFILMEIY': [], 'EFILMEIYA': [], 'FILMEIYAU': [], 'ILMEIYAUQ': [], 'LMEIYAUQV': [], 'MEIYAUQVH': [], 'EIYAUQVHG': [], 'IYAUQVHGA': [], 'YAUQVHGAS': [], 'AUQVHGASX': [], 'UQVHGASXW': [], 'QVHGASXWT': [], 'VHGASXWTM': [], 'HGASXWTMU': [], 'GASXWTMUU': [], 'ASXWTMUUW': [], 'SXWTMUUWP': [], 'XWTMUUWPB': [], 'WTMUUWPBK': [], 'TMUUWPBKA': [], 'MUUWPBKAI': [], 'UUWPBKAIY': [], 'UWPBKAIYX': [], 'WPBKAIYXH': [], 'PBKAIYXHF': [], 'BKAIYXHFE': [], 'KAIYXHFEO': [], 'AIYXHFEOX': [], 'IYXHFEOXB': [], 'YXHFEOXBE': [], 'XHFEOXBEB': [], 'HFEOXBEBM': [], 'FEOXBEBMK': [], 'EOXBEBMKR': [], 'OXBEBMKRZ': [], 'XBEBMKRZB': [], 'BEBMKRZBG': [], 'EBMKRZBGZ': [], 'BMKRZBGZT': [], 'MKRZBGZTQ': [], 'KRZBGZTQM': [], 'RZBGZTQMG': [], 'ZBGZTQMGS': [], 'BGZTQMGSD': [], 'GZTQMGSDH': [], 'ZTQMGSDHG': [], 'TQMGSDHGD': [], 'QMGSDHGDI': [], 'MGSDHGDIP': [1080], 'GSDHGDIPI': [1080], 'SDHGDIPIO': [], 'DHGDIPIOW': [], 'HGDIPIOWP': [], 'GDIPIOWPB': [], 'DIPIOWPBK': [], 'IPIOWPBKA': [], 'PIOWPBKAA': [], 'IOWPBKAAO': [], 'OWPBKAAOI': [], 'WPBKAAOIZ': [], 'PBKAAOIZO': [], 'BKAAOIZOC': [], 'KAAOIZOCZ': [], 'AAOIZOCZG': [], 'AOIZOCZGM': [], 'OIZOCZGMN': [], 'IZOCZGMNQ': [], 'ZOCZGMNQT': [], 'OCZGMNQTX': [], 'CZGMNQTXB': [], 'ZGMNQTXBP': [], 'GMNQTXBPZ': [], 'MNQTXBPZS': [], 'NQTXBPZSW': [], 'QTXBPZSWM': [], 'TXBPZSWMQ': [], 'XBPZSWMQV': [], 'BPZSWMQVM': [], 'PZSWMQVMC': [], 'ZSWMQVMCB': [], 'SWMQVMCBI': [], 'WMQVMCBIK': [], 'MQVMCBIKD': [], 'QVMCBIKDI': [], 'VMCBIKDIQ': [], 'MCBIKDIQV': [], 'CBIKDIQVX': [], 'BIKDIQVXG': [], 'IKDIQVXGL': [], 'KDIQVXGLQ': [], 'DIQVXGLQG': [], 'IQVXGLQGO': [], 'QVXGLQGOA': [], 'VXGLQGOAD': [], 'XGLQGOADT': [], 'GLQGOADTT': [], 'LQGOADTTM': [], 'QGOADTTME': [], 'GOADTTMES': [], 'OADTTMESV': [], 'ADTTMESVM': [], 'DTTMESVMR': [], 'TTMESVMRP': [], 'TMESVMRPW': [], 'MESVMRPWG': [], 'ESVMRPWGO': [], 'SVMRPWGOD': [], 'VMRPWGODH': [], 'MRPWGODHU': [], 'RPWGODHUL': [], 'PWGODHULO': [], 'WGODHULOR': [], 'GODHULORT': [], 'ODHULORTN': [], 'DHULORTNM': [], 'HULORTNMP': [], 'ULORTNMPH': [], 'LORTNMPHG': [], 'ORTNMPHGV': [], 'RTNMPHGVF': [], 'TNMPHGVFM': [], 'NMPHGVFMK': [], 'MPHGVFMKB': [], 'PHGVFMKBZ': [], 'HGVFMKBZX': [], 'GVFMKBZXW': [], 'VFMKBZXWX': [], 'FMKBZXWXI': [], 'MKBZXWXIT': [], 'KBZXWXITQ': [], 'BZXWXITQI': [], 'ZXWXITQIE': [], 'XWXITQIES': [], 'WXITQIESD': [], 'XITQIESDD': [], 'ITQIESDDK': [], 'TQIESDDKR': [], 'QIESDDKRO': [], 'IESDDKROK': [], 'ESDDKROKL': [], 'SDDKROKLB': [], 'DDKROKLBH': [], 'DKROKLBHP': [], 'KROKLBHPE': [], 'ROKLBHPEA': [], 'OKLBHPEAM': [], 'KLBHPEAME': [], 'LBHPEAMEE': [], 'BHPEAMEEB': [], 'HPEAMEEBT': [], 'PEAMEEBTG': [], 'EAMEEBTGR': [], 'AMEEBTGRI': [], 'MEEBTGRIG': [], 'EEBTGRIGX': [], 'EBTGRIGXO': [], 'BTGRIGXOE': [], 'TGRIGXOEQ': [], 'GRIGXOEQG': [], 'RIGXOEQGC': [], 'IGXOEQGCE': [], 'GXOEQGCES': [], 'XOEQGCESR': [], 'OEQGCESRW': [], 'EQGCESRWD': [], 'QGCESRWDU': [], 'GCESRWDUK': [], 'CESRWDUKX': [], 'ESRWDUKXG': [], 'SRWDUKXGE': [], 'RWDUKXGEI': [], 'WDUKXGEIT': [], 'DUKXGEITI': [], 'UKXGEITID': [], 'KXGEITIDU': [], 'XGEITIDUM': [], 'GEITIDUMM': [], 'EITIDUMMS': [], 'ITIDUMMSW': [], 'TIDUMMSWO': [], 'IDUMMSWOB': [], 'DUMMSWOBI': [], 'UMMSWOBIA': [], 'MMSWOBIAO': [], 'MSWOBIAOZ': [], 'SWOBIAOZX': [], 'WOBIAOZXS': [], 'OBIAOZXSC': [], 'BIAOZXSCF': [], 'IAOZXSCFK': [], 'AOZXSCFKK': [], 'OZXSCFKKU': [], 'ZXSCFKKUQ': [], 'XSCFKKUQZ': [], 'SCFKKUQZW': [], 'CFKKUQZWO': [], 'FKKUQZWOB': [], 'KKUQZWOBI': [], 'KUQZWOBIK': [], 'UQZWOBIKT': [], 'QZWOBIKTA': [], 'ZWOBIKTAO': [], 'WOBIKTAOW': [], 'OBIKTAOWG': [], 'BIKTAOWGT': [], 'IKTAOWGTT': [], 'KTAOWGTTO': [], 'TAOWGTTOT': [], 'AOWGTTOTH': [], 'OWGTTOTHA': [], 'WGTTOTHAZ': [], 'GTTOTHAZW': [], 'TTOTHAZWX': [], 'TOTHAZWXG': [], 'OTHAZWXGX': [], 'THAZWXGXO': [], 'HAZWXGXOM': [], 'AZWXGXOMQ': [], 'ZWXGXOMQC': [], 'WXGXOMQCM': [], 'XGXOMQCMV': [], 'GXOMQCMVH': [], 'XOMQCMVHS': [], 'OMQCMVHSD': [], 'MQCMVHSDW': [], 'QCMVHSDWT': [], 'CMVHSDWTV': [], 'MVHSDWTVA': [], 'VHSDWTVAF': [], 'HSDWTVAFI': [], 'SDWTVAFIR': [], 'DWTVAFIRB': [], 'WTVAFIRBZ': [], 'TVAFIRBZS': [], 'VAFIRBZSY': [], 'AFIRBZSYQ': [], 'FIRBZSYQN': [], 'IRBZSYQNM': [], 'RBZSYQNMT': [], 'BZSYQNMTV': [], 'ZSYQNMTVO': [], 'SYQNMTVOY': [], 'YQNMTVOYN': [], 'QNMTVOYNG': [], 'NMTVOYNGJ': [], 'MTVOYNGJL': [], 'TVOYNGJLQ': [], 'VOYNGJLQM': [], 'OYNGJLQML': [], 'YNGJLQMLI': [], 'NGJLQMLIY': [], 'GJLQMLIYO': [], 'JLQMLIYON': [], 'LQMLIYONI': [], 'QMLIYONIB': [], 'MLIYONIBU': [], 'LIYONIBUT': [], 'IYONIBUTB': [], 'YONIBUTBR': [], 'ONIBUTBRL': [], 'NIBUTBRLR': [], 'IBUTBRLRR': [], 'BUTBRLRRW': [], 'UTBRLRRWQ': [], 'TBRLRRWQG': [], 'BRLRRWQGM': [], 'RLRRWQGML': [], 'LRRWQGMLW': [], 'RRWQGMLWR': [], 'RWQGMLWRB': [], 'WQGMLWRBO': [], 'QGMLWRBON': [], 'GMLWRBONI': [], 'MLWRBONIO': [], 'LWRBONIOI': [], 'WRBONIOIJ': [], 'RBONIOIJI': [], 'BONIOIJIP': [], 'ONIOIJIPG': [], 'NIOIJIPGK': [], 'IOIJIPGKX': [], 'OIJIPGKXU': [], 'IJIPGKXUQ': [], 'JIPGKXUQL': [], 'IPGKXUQLX': [], 'PGKXUQLXO': [], 'GKXUQLXOA': [], 'KXUQLXOAF': [], 'XUQLXOAFK': [], 'UQLXOAFKV': [], 'QLXOAFKVD': [], 'LXOAFKVDQ': [], 'XOAFKVDQZ': [], 'OAFKVDQZL': [], 'AFKVDQZLW': [], 'FKVDQZLWY': [], 'KVDQZLWYS': [], 'VDQZLWYSS': [], 'DQZLWYSSJ': [], 'QZLWYSSJA': [], 'ZLWYSSJAD': [], 'LWYSSJADO': [], 'WYSSJADOH': [], 'YSSJADOHZ': [], 'SSJADOHZL': [], 'SJADOHZLQ': [], 'JADOHZLQU': [], 'ADOHZLQUV': [], 'DOHZLQUVF': [], 'OHZLQUVFU': [], 'HZLQUVFUI': [], 'ZLQUVFUIG': [], 'LQUVFUIGN': [], 'QUVFUIGNL': [], 'UVFUIGNLS': [], 'VFUIGNLSY': [], 'FUIGNLSYC': [], 'UIGNLSYCN': [], 'IGNLSYCNM': [], 'GNLSYCNMP': [], 'NLSYCNMPT': [], 'LSYCNMPTP': [], 'SYCNMPTPT': [], 'YCNMPTPTZ': [], 'CNMPTPTZO': [], 'NMPTPTZOL': [], 'MPTPTZOLA': [], 'PTPTZOLAP': [], 'TPTZOLAPL': [], 'PTZOLAPLX': [], 'TZOLAPLXB': [], 'ZOLAPLXBE': [], 'OLAPLXBEF': [], 'LAPLXBEFU': [], 'APLXBEFUL': [], 'PLXBEFULE': [], 'LXBEFULEX': [], 'XBEFULEXI': [], 'BEFULEXIL': [], 'EFULEXILV': [], 'FULEXILVL': [], 'ULEXILVLP': [], 'LEXILVLPO': [], 'EXILVLPOT': [], 'XILVLPOTI': [], 'ILVLPOTIP': [], 'LVLPOTIPI': [], 'VLPOTIPIW': [], 'LPOTIPIWS': [], 'POTIPIWSD': [], 'OTIPIWSDD': [], 'TIPIWSDDU': [], 'IPIWSDDUZ': [], 'PIWSDDUZL': [], 'IWSDDUZLA': [], 'WSDDUZLAY': [], 'SDDUZLAYN': [], 'DDUZLAYNS': [], 'DUZLAYNSW': [], 'UZLAYNSWO': [], 'ZLAYNSWOI': [], 'LAYNSWOIW': [], 'AYNSWOIWN': [], 'YNSWOIWNR': [], 'NSWOIWNRQ': [], 'SWOIWNRQT': [], 'WOIWNRQTB': [], 'OIWNRQTBK': [], 'IWNRQTBKO': [], 'WNRQTBKOB': [], 'NRQTBKOBQ': [], 'RQTBKOBQE': [], 'QTBKOBQEZ': [], 'TBKOBQEZM': [], 'BKOBQEZMV': [], 'KOBQEZMVI': [], 'OBQEZMVIL': [], 'BQEZMVILB': [], 'QEZMVILBJ': [], 'EZMVILBJW': [], 'ZMVILBJWA': [], 'MVILBJWAB': [36], 'VILBJWABZ': [36], 'ILBJWABZX': [36], 'LBJWABZXB': [36], 'BJWABZXBO': [36], 'JWABZXBOS': [36], 'WABZXBOSY': [36], 'ABZXBOSYI': [36], 'BZXBOSYIC': [], 'ZXBOSYICA': [], 'XBOSYICAV': [], 'BOSYICAVY': [], 'OSYICAVYW': [], 'SYICAVYWL': [], 'YICAVYWLF': [], 'ICAVYWLFK': [], 'CAVYWLFKV': [423], 'AVYWLFKVT': [], 'VYWLFKVTU': [], 'YWLFKVTUU': [], 'WLFKVTUUB': [], 'LFKVTUUBG': [], 'FKVTUUBGX': [], 'KVTUUBGXC': [], 'VTUUBGXCI': [], 'TUUBGXCIZ': [], 'UUBGXCIZE': [], 'UBGXCIZEO': [], 'BGXCIZEOM': [], 'GXCIZEOMV': [], 'XCIZEOMVI': [], 'CIZEOMVIL': [], 'IZEOMVILB': [], 'ZEOMVILBJ': [], 'EOMVILBJW': [], 'OMVILBJWA': [], 'BZXBOSYIG': [], 'ZXBOSYIGQ': [], 'XBOSYIGQA': [], 'BOSYIGQAM': [], 'OSYIGQAMW': [], 'SYIGQAMWZ': [], 'YIGQAMWZB': [], 'IGQAMWZBG': [], 'GQAMWZBGZ': [], 'QAMWZBGZT': [], 'AMWZBGZTG': [], 'MWZBGZTGA': [], 'WZBGZTGAX': [], 'ZBGZTGAXA': [], 'BGZTGAXAZ': [], 'GZTGAXAZQ': [], 'ZTGAXAZQO': [], 'TGAXAZQOW': [], 'GAXAZQOWN': [], 'AXAZQOWNQ': [], 'XAZQOWNQA': [], 'AZQOWNQAV': [], 'ZQOWNQAVI': [], 'QOWNQAVIL': [], 'OWNQAVILB': [], 'WNQAVILBJ': [], 'NQAVILBJW': [], 'QAVILBJWT': [], 'AVILBJWTQ': [], 'VILBJWTQK': [], 'ILBJWTQKH': [], 'LBJWTQKHB': [], 'BJWTQKHBG': [], 'JWTQKHBGW': [], 'WTQKHBGWK': [], 'TQKHBGWKZ': [], 'QKHBGWKZT': [], 'KHBGWKZTQ': [], 'HBGWKZTQA': [], 'BGWKZTQAX': [], 'GWKZTQAXB': [], 'WKZTQAXBF': [], 'KZTQAXBFB': [], 'ZTQAXBFBS': [], 'TQAXBFBSM': [], 'QAXBFBSMJ': [], 'AXBFBSMJA': [], 'XBFBSMJAZ': [], 'BFBSMJAZV': [], 'FBSMJAZVC': [], 'BSMJAZVCX': [], 'SMJAZVCXI': [], 'MJAZVCXIT': [], 'JAZVCXITQ': [], 'AZVCXITQC': [], 'ZVCXITQCM': [], 'VCXITQCML': [], 'CXITQCMLH': [], 'XITQCMLHF': [], 'ITQCMLHFN': [], 'TQCMLHFNI': [], 'QCMLHFNIG': [], 'CMLHFNIGV': [], 'MLHFNIGVD': [], 'LHFNIGVDA': [], 'HFNIGVDAL': [], 'FNIGVDALX': [], 'NIGVDALXG': [], 'IGVDALXGL': [], 'GVDALXGLF': [], 'VDALXGLFX': [], 'DALXGLFXW': [], 'ALXGLFXWL': [], 'LXGLFXWLX': [], 'XGLFXWLXI': [], 'GLFXWLXIL': [], 'LFXWLXILI': [], 'FXWLXILIY': [], 'XWLXILIYO': [], 'WLXILIYOS': [], 'LXILIYOSM': [], 'XILIYOSMN': [], 'ILIYOSMNF': [], 'LIYOSMNFI': [], 'IYOSMNFIE': [279], 'YOSMNFIEW': [279], 'OSMNFIEWO': [279], 'SMNFIEWOO': [279], 'MNFIEWOOJ': [279], 'NFIEWOOJQ': [279], 'FIEWOOJQM': [279], 'IEWOOJQMB': [279], 'EWOOJQMBT': [279], 'WOOJQMBTT': [279], 'OOJQMBTTQ': [279], 'OJQMBTTQL': [279], 'JQMBTTQLP': [279], 'QMBTTQLPR': [279], 'MBTTQLPRM': [279], 'BTTQLPRMY': [], 'TTQLPRMYB': [], 'TQLPRMYBI': [], 'QLPRMYBIK': [], 'LPRMYBIKO': [], 'PRMYBIKOP': [], 'RMYBIKOPZ': [], 'MYBIKOPZR': [], 'YBIKOPZRW': [], 'BIKOPZRWD': [], 'IKOPZRWDQ': [], 'KOPZRWDQJ': [], 'OPZRWDQJX': [], 'PZRWDQJXA': [], 'ZRWDQJXAZ': [], 'RWDQJXAZG': [], 'WDQJXAZGG': [], 'DQJXAZGGX': [], 'QJXAZGGXR': [], 'JXAZGGXRQ': [], 'XAZGGXRQV': [], 'AZGGXRQVW': [], 'ZGGXRQVWS': [], 'GGXRQVWSC': [], 'GXRQVWSCO': [], 'XRQVWSCOS': [], 'RQVWSCOSI': [], 'QVWSCOSIN': [], 'VWSCOSINQ': [], 'WSCOSINQR': [], 'SCOSINQRT': [], 'COSINQRTF': [], 'OSINQRTFE': [], 'SINQRTFEI': [], 'INQRTFEIY': [], 'NQRTFEIYM': [], 'QRTFEIYMM': [], 'RTFEIYMMA': [], 'TFEIYMMAK': [], 'FEIYMMAKB': [], 'EIYMMAKBC': [], 'IYMMAKBCY': [], 'YMMAKBCYS': [], 'MMAKBCYSY': [], 'MAKBCYSYX': [], 'AKBCYSYXO': [], 'KBCYSYXOD': [], 'BCYSYXODY': [], 'CYSYXODYN': [], 'YSYXODYNS': [], 'SYXODYNSD': [], 'YXODYNSDW': [], 'XODYNSDWT': [], 'ODYNSDWTW': [], 'DYNSDWTWL': [], 'YNSDWTWLA': [], 'NSDWTWLAP': [], 'SDWTWLAPT': [], 'DWTWLAPTQ': [], 'WTWLAPTQP': [], 'TWLAPTQPG': [], 'WLAPTQPGY': [], 'LAPTQPGYQ': [], 'APTQPGYQE': [], 'PTQPGYQEY': [], 'TQPGYQEYX': [], 'QPGYQEYXK': [], 'PGYQEYXKS': [], 'GYQEYXKSD': [], 'YQEYXKSDS': [], 'QEYXKSDSX': [], 'EYXKSDSXI': [], 'YXKSDSXIS': [], 'XKSDSXISH': [], 'KSDSXISHQ': [], 'SDSXISHQV': [], 'DSXISHQVH': [], 'SXISHQVHT': [], 'XISHQVHTA': [], 'ISHQVHTAG': [], 'SHQVHTAGL': [], 'HQVHTAGLE': [], 'QVHTAGLEX': [], 'VHTAGLEXI': [], 'HTAGLEXIL': [], 'TAGLEXILQ': [], 'AGLEXILQT': [], 'GLEXILQTF': [], 'LEXILQTFI': [], 'EXILQTFIC': [], 'XILQTFICN': [], 'ILQTFICNE': [], 'LQTFICNEB': [], 'QTFICNEBT': [], 'TFICNEBTB': [], 'FICNEBTBN': [], 'ICNEBTBNW': [], 'CNEBTBNWG': [], 'NEBTBNWGA': [], 'EBTBNWGAD': [], 'BTBNWGADQ': [], 'TBNWGADQT': [], 'BNWGADQTT': [], 'NWGADQTTJ': [], 'WGADQTTJT': [], 'GADQTTJTR': [], 'ADQTTJTRG': [], 'DQTTJTRGT': [], 'QTTJTRGTA': [], 'TTJTRGTAE': [], 'TJTRGTAEJ': [], 'JTRGTAEJH': [], 'TRGTAEJHZ': [], 'RGTAEJHZL': [], 'GTAEJHZLG': [], 'TAEJHZLGI': [], 'AEJHZLGIC': [], 'EJHZLGICR': [], 'JHZLGICRH': [], 'HZLGICRHI': [], 'ZLGICRHIL': [], 'LGICRHILR': [], 'GICRHILRP': [], 'ICRHILRPG': [], 'CRHILRPGG': [], 'RHILRPGGO': [], 'HILRPGGOR': [], 'ILRPGGORM': [], 'LRPGGORML': [], 'RPGGORMLT': [], 'PGGORMLTP': [], 'GGORMLTPW': [], 'GORMLTPWS': [], 'ORMLTPWSY': [], 'RMLTPWSYY': [], 'MLTPWSYYU': [], 'LTPWSYYUQ': [], 'TPWSYYUQB': [], 'PWSYYUQBX': [], 'WSYYUQBXS': [], 'SYYUQBXSY': [], 'YYUQBXSYJ': [], 'YUQBXSYJO': [], 'UQBXSYJOI': [], 'QBXSYJOIN': [], 'BXSYJOINM': [], 'XSYJOINMB': [], 'SYJOINMBB': [], 'YJOINMBBM': [], 'JOINMBBML': [], 'OINMBBMLZ': [], 'INMBBMLZG': [], 'NMBBMLZGO': [], 'MBBMLZGOE': [], 'BBMLZGOEZ': [], 'BMLZGOEZB': [], 'MLZGOEZBX': [], 'LZGOEZBXE': [], 'ZGOEZBXEF': [], 'GOEZBXEFS': [], 'OEZBXEFSZ': [], 'EZBXEFSZM': [], 'ZBXEFSZMR': [], 'BXEFSZMRA': [], 'XEFSZMRAL': [], 'EFSZMRALX': [], 'FSZMRALXO': [], 'SZMRALXOE': [], 'ZMRALXOEO': [], 'MRALXOEOS': [], 'RALXOEOSJ': [], 'ALXOEOSJI': [], 'LXOEOSJIQ': [], 'XOEOSJIQV': [], 'OEOSJIQVT': [], 'EOSJIQVTD': [], 'OSJIQVTDC': [], 'SJIQVTDCS': [], 'JIQVTDCST': [], 'IQVTDCSTL': [], 'QVTDCSTLE': [], 'VTDCSTLEM': [], 'TDCSTLEMK': [], 'DCSTLEMKH': [], 'CSTLEMKHA': [], 'STLEMKHAF': [], 'TLEMKHAFB': [], 'LEMKHAFBO': [], 'EMKHAFBOK': [], 'MKHAFBOKA': [], 'KHAFBOKAD': [], 'HAFBOKADB': [], 'AFBOKADBX': [], 'FBOKADBXO': [], 'BOKADBXOD': [], 'OKADBXODW': [], 'KADBXODWK': [], 'ADBXODWKA': [], 'DBXODWKAC': [], 'BXODWKACA': [], 'XODWKACAU': [], 'ODWKACAUH': [], 'DWKACAUHQ': [], 'WKACAUHQZ': [], 'KACAUHQZB': [], 'ACAUHQZBY': [], 'CAUHQZBYQ': [], 'AUHQZBYQG': [], 'UHQZBYQGG': [], 'HQZBYQGGM': [], 'QZBYQGGML': [], 'ZBYQGGMLE': [], 'BYQGGMLEF': [], 'YQGGMLEFS': [], 'QGGMLEFSR': [], 'GGMLEFSRI': [], 'GMLEFSRIG': [], 'MLEFSRIGQ': [], 'LEFSRIGQV': [], 'EFSRIGQVM': [], 'FSRIGQVMS': [], 'SRIGQVMSN': [], 'RIGQVMSNC': [], 'IGQVMSNCT': [], 'GQVMSNCTN': [], 'QVMSNCTNI': [], 'VMSNCTNIQ': [], 'MSNCTNIQM': [], 'SNCTNIQMG': [], 'NCTNIQMGH': [], 'CTNIQMGHT': [], 'TNIQMGHTM': [], 'NIQMGHTMY': [], 'IQMGHTMYM': [], 'QMGHTMYMD': [], 'MGHTMYMDQ': [], 'GHTMYMDQR': [], 'HTMYMDQRX': [], 'TMYMDQRXW': [], 'MYMDQRXWY': [], 'YMDQRXWYT': [], 'MDQRXWYTR': [], 'DQRXWYTRC': [], 'QRXWYTRCI': [], 'RXWYTRCID': [], 'XWYTRCIDX': [], 'WYTRCIDXH': [], 'YTRCIDXHF': [], 'TRCIDXHFE': [], 'RCIDXHFEW': [], 'CIDXHFEWE': [], 'IDXHFEWEJ': [], 'DXHFEWEJU': [], 'XHFEWEJUE': [], 'HFEWEJUEK': [], 'FEWEJUEKT': [], 'EWEJUEKTI': [], 'WEJUEKTIY': [], 'EJUEKTIYO': [], 'JUEKTIYOS': [], 'UEKTIYOSM': [], 'EKTIYOSMN': [], 'KTIYOSMNF': [], 'TIYOSMNFI': [], 'BTTQLPRMS': [], 'TTQLPRMSQ': [], 'TQLPRMSQB': [], 'QLPRMSQBK': [], 'LPRMSQBKO': [], 'PRMSQBKOE': [], 'RMSQBKOEO': [], 'MSQBKOEOJ': [], 'SQBKOEOJM': [], 'QBKOEOJMC': [], 'BKOEOJMCA': [], 'KOEOJMCAV': [], 'OEOJMCAVY': [], 'EOJMCAVYW': [], 'OJMCAVYWL': [], 'JMCAVYWLF': [], 'MCAVYWLFK': [], 'AVYWLFKVQ': [], 'VYWLFKVQG': [], 'YWLFKVQGM': [], 'WLFKVQGMM': [], 'LFKVQGMMW': [], 'FKVQGMMWP': [], 'KVQGMMWPB': [], 'VQGMMWPBK': [], 'QGMMWPBKA': [], 'GMMWPBKAL': [], 'MMWPBKALM': [], 'MWPBKALMK': [], 'WPBKALMKT': [], 'PBKALMKTD': [], 'BKALMKTDL': [], 'KALMKTDLQ': [], 'ALMKTDLQO': [], 'LMKTDLQOL': [], 'MKTDLQOLA': [], 'KTDLQOLAP': [], 'TDLQOLAPL': [], 'DLQOLAPLX': [], 'LQOLAPLXJ': [], 'QOLAPLXJP': [], 'OLAPLXJPF': [], 'LAPLXJPFR': [], 'APLXJPFRI': [], 'PLXJPFRIS': [], 'LXJPFRISO': [], 'XJPFRISOW': [], 'JPFRISOWL': [], 'PFRISOWLO': [], 'FRISOWLOD': [], 'RISOWLODO': [], 'ISOWLODOZ': [], 'SOWLODOZZ': [], 'OWLODOZZA': [], 'WLODOZZAH': [], 'LODOZZAHM': [], 'ODOZZAHML': [], 'DOZZAHMLR': [], 'OZZAHMLRP': [], 'ZZAHMLRPM': [], 'ZAHMLRPMG': [], 'AHMLRPMGY': [], 'HMLRPMGYU': [], 'MLRPMGYUQ': [], 'LRPMGYUQV': [], 'RPMGYUQVH': [], 'PMGYUQVHG': [], 'MGYUQVHGP': [], 'GYUQVHGPH': [], 'YUQVHGPHX': [], 'UQVHGPHXI': [], 'QVHGPHXIT': [], 'VHGPHXITM': [], 'HGPHXITML': [], 'GPHXITMLX': [], 'PHXITMLXB': [], 'HXITMLXBP': [], 'XITMLXBPU': [], 'ITMLXBPUU': [], 'TMLXBPUUK': [], 'MLXBPUUKI': [], 'LXBPUUKIM': [], 'XBPUUKIMZ': [], 'BPUUKIMZV': [], 'PUUKIMZVC': [], 'UUKIMZVCY': [], 'UKIMZVCYH': [], 'KIMZVCYHO': [], 'IMZVCYHOO': [], 'MZVCYHOOO': [], 'ZVCYHOOOK': [], 'VCYHOOOKR': [], 'CYHOOOKRN': [], 'YHOOOKRNG': [], 'HOOOKRNGE': [], 'OOOKRNGEW': [], 'OOKRNGEWL': [], 'OKRNGEWLQ': [], 'KRNGEWLQC': [], 'RNGEWLQCM': [], 'NGEWLQCMZ': [], 'GEWLQCMZM': [], 'EWLQCMZMC': [], 'WLQCMZMCO': [], 'LQCMZMCOO': [], 'QCMZMCOOY': [], 'CMZMCOOYT': [], 'MZMCOOYTA': [], 'ZMCOOYTAE': [], 'MCOOYTAEK': [], 'COOYTAEKH': [], 'OOYTAEKHG': [], 'OYTAEKHGL': [], 'YTAEKHGLG': [], 'TAEKHGLGW': [], 'AEKHGLGWC': [], 'EKHGLGWCE': [], 'KHGLGWCET': [], 'HGLGWCETI': [], 'GLGWCETIV': [], 'LGWCETIVS': [], 'GWCETIVSD': [], 'WCETIVSDA': [], 'CETIVSDAG': [], 'ETIVSDAGT': [], 'TIVSDAGTP': [], 'IVSDAGTPA': [], 'VSDAGTPAZ': [], 'SDAGTPAZJ': [], 'DAGTPAZJI': [], 'AGTPAZJIP': [], 'GTPAZJIPG': [], 'TPAZJIPGU': [], 'PAZJIPGUU': [], 'AZJIPGUUO': [], 'ZJIPGUUOE': [], 'JIPGUUOEU': [], 'IPGUUOEUT': [], 'PGUUOEUTE': [], 'GUUOEUTEF': [], 'UUOEUTEFW': [], 'UOEUTEFWT': [], 'OEUTEFWTQ': [], 'EUTEFWTQT': [], 'UTEFWTQTM': [], 'TEFWTQTMA': [], 'EFWTQTMAW': [], 'FWTQTMAWS': [], 'WTQTMAWSY': [], 'TQTMAWSYO': [], 'QTMAWSYOX': [], 'TMAWSYOXZ': [], 'MAWSYOXZA': [], 'AWSYOXZAF': [], 'WSYOXZAFQ': [], 'SYOXZAFQO': [], 'YOXZAFQOO': [], 'OXZAFQOOD': [], 'XZAFQOODD': [], 'ZAFQOODDG': [], 'AFQOODDGZ': [], 'FQOODDGZA': [], 'QOODDGZAO': [], 'OODDGZAOC': [], 'ODDGZAOCT': [], 'DDGZAOCTZ': [], 'DGZAOCTZB': [], 'GZAOCTZBI': [], 'ZAOCTZBIO': [], 'AOCTZBIOM': [], 'OCTZBIOMR': [], 'CTZBIOMRO': [], 'TZBIOMROW': [], 'ZBIOMROWL': [], 'BIOMROWLO': [], 'IOMROWLOY': [], 'OMROWLOYC': [], 'MROWLOYCY': [], 'ROWLOYCYK': [], 'OWLOYCYKR': [], 'WLOYCYKRQ': [], 'LOYCYKRQI': [], 'OYCYKRQIF': [], 'YCYKRQIFC': [], 'CYKRQIFCD': [], 'YKRQIFCDI': [], 'KRQIFCDIT': [], 'RQIFCDITI': [], 'QIFCDITIH': [], 'IFCDITIHU': [], 'FCDITIHUA': [], 'CDITIHUAM': [], 'DITIHUAMC': [], 'ITIHUAMCC': [], 'TIHUAMCCW': [], 'IHUAMCCWG': [], 'HUAMCCWGY': [], 'UAMCCWGYU': [], 'AMCCWGYUQ': [], 'MCCWGYUQR': [], 'CCWGYUQRN': [], 'CWGYUQRNG': [], 'WGYUQRNGE': [], 'GYUQRNGEW': [], 'YUQRNGEWL': [], 'UQRNGEWLQ': [], 'QRNGEWLQQ': [], 'RNGEWLQQG': [], 'NGEWLQQGM': [], 'GEWLQQGME': [], 'EWLQQGMEC': [], 'WLQQGMECB': [], 'LQQGMECBI': [], 'QQGMECBIK': [], 'QGMECBIKP': [], 'GMECBIKPA': [], 'MECBIKPAO': [], 'ECBIKPAOM': [], 'CBIKPAOMF': [], 'BIKPAOMFC': [], 'IKPAOMFCD': [], 'KPAOMFCDD': [], 'PAOMFCDDK': [], 'AOMFCDDKZ': [], 'OMFCDDKZO': [], 'MFCDDKZOD': [], 'FCDDKZODM': [], 'CDDKZODMT': [], 'DDKZODMTZ': [], 'DKZODMTZX': [], 'KZODMTZXS': [], 'ZODMTZXST': [], 'ODMTZXSTB': [], 'DMTZXSTBE': [], 'MTZXSTBEZ': [], 'TZXSTBEZW': [], 'ZXSTBEZWA': [], 'XSTBEZWAO': [], 'STBEZWAON': [], 'TBEZWAONS': [], 'BEZWAONSS': [], 'EZWAONSSW': [], 'ZWAONSSWS': [], 'WAONSSWSX': [], 'AONSSWSXW': [], 'ONSSWSXWJ': [], 'NSSWSXWJI': [], 'SSWSXWJIP': [], 'SWSXWJIPE': [], 'WSXWJIPEA': [], 'SXWJIPEAM': [], 'XWJIPEAMR': [], 'WJIPEAMRQ': [], 'JIPEAMRQU': [], 'IPEAMRQUH': [], 'PEAMRQUHG': [], 'EAMRQUHGS': [], 'AMRQUHGSO': [], 'MRQUHGSOI': [], 'RQUHGSOIM': [], 'QUHGSOIMR': [], 'UHGSOIMRK': [], 'HGSOIMRKI': [], 'GSOIMRKIJ': [], 'SOIMRKIJI': [], 'OIMRKIJIP': [], 'IMRKIJIPG': [], 'MRKIJIPGU': [], 'RKIJIPGUU': [], 'KIJIPGUUO': [], 'IJIPGUUOE': [], 'JIPGUUOEX': [], 'IPGUUOEXK': [], 'PGUUOEXKC': [], 'GUUOEXKCO': [], 'UUOEXKCOI': [], 'UOEXKCOII': [], 'OEXKCOIIB': [], 'EXKCOIIBO': [], 'XKCOIIBOE': [], 'KCOIIBOEL': [], 'COIIBOELX': [], 'OIIBOELXZ': [], 'IIBOELXZN': [], 'IBOELXZNC': [], 'BOELXZNCT': [], 'OELXZNCTB': [], 'ELXZNCTBE': [], 'LXZNCTBEJ': [], 'XZNCTBEJB': [], 'ZNCTBEJBH': [], 'NCTBEJBHM': [], 'CTBEJBHMP': [], 'TBEJBHMPG': [], 'BEJBHMPGZ': [], 'EJBHMPGZM': [], 'JBHMPGZME': [], 'BHMPGZMEE': [], 'HMPGZMEEB': [], 'MPGZMEEBX': [], 'PGZMEEBXH': [], 'GZMEEBXHC': [], 'ZMEEBXHCW': [], 'MEEBXHCWI': [], 'EEBXHCWIW': [], 'EBXHCWIWA': [], 'BXHCWIWAE': [], 'XHCWIWAEQ': [], 'HCWIWAEQJ': [], 'CWIWAEQJI': [], 'WIWAEQJIP': [], 'IWAEQJIPA': [], 'WAEQJIPAK': [], 'AEQJIPAKR': [], 'EQJIPAKRO': [], 'QJIPAKROD': [], 'JIPAKRODM': [], 'IPAKRODMG': [], 'PAKRODMGS': [], 'AKRODMGSD': [], 'KRODMGSDH': [], 'RODMGSDHG': [], 'ODMGSDHGD': [], 'DMGSDHGDI': [], 'SDHGDIPIU': [], 'DHGDIPIUI': [], 'HGDIPIUID': [], 'GDIPIUIDQ': [], 'DIPIUIDQG': [], 'IPIUIDQGB': [], 'PIUIDQGBU': [], 'IUIDQGBUB': [], 'UIDQGBUBZ': [], 'IDQGBUBZH': [], 'DQGBUBZHD': [], 'QGBUBZHDZ': [], 'GBUBZHDZG': [], 'BUBZHDZGO': [], 'UBZHDZGOB': [], 'BZHDZGOBO': [], 'ZHDZGOBOK': [], 'HDZGOBOKZ': [], 'DZGOBOKZX': [], 'ZGOBOKZXQ': [], 'GOBOKZXQF': [], 'OBOKZXQFS': [], 'BOKZXQFSX': [], 'OKZXQFSXL': [], 'KZXQFSXLA': [], 'ZXQFSXLAC': [], 'XQFSXLACC': [], 'QFSXLACCX': [], 'FSXLACCXS': [], 'SXLACCXSD': [], 'XLACCXSDH': [], 'LACCXSDHK': [], 'ACCXSDHKV': [], 'CCXSDHKVO': [], 'CXSDHKVOQ': [], 'XSDHKVOQA': [], 'SDHKVOQAM': [], 'DHKVOQAMO': [], 'HKVOQAMOP': [], 'KVOQAMOPB': [], 'VOQAMOPBR': [], 'OQAMOPBRI': [], 'QAMOPBRIS': [], 'AMOPBRISD': [], 'MOPBRISDM': [], 'OPBRISDMW': [], 'PBRISDMWS': [], 'BRISDMWSD': [], 'RISDMWSDG': [], 'ISDMWSDGU': [], 'SDMWSDGUK': [], 'DMWSDGUKI': [], 'MWSDGUKIM': [], 'WSDGUKIMT': [], 'SDGUKIMTX': [], 'DGUKIMTXG': [], 'GUKIMTXGY': [], 'UKIMTXGYW': [], 'KIMTXGYWK': [], 'IMTXGYWKV': [], 'MTXGYWKVA': [], 'TXGYWKVAX': [], 'XGYWKVAXO': [], 'GYWKVAXON': [], 'YWKVAXONB': [], 'WKVAXONBL': [], 'KVAXONBLV': [], 'VAXONBLVK': [], 'AXONBLVKZ': [], 'XONBLVKZR': [], 'ONBLVKZRM': [], 'NBLVKZRMU': [], 'BLVKZRMUB': [], 'LVKZRMUBS': [], 'VKZRMUBSY': [], 'KZRMUBSYH': [], 'ZRMUBSYHG': [], 'RMUBSYHGL': [], 'MUBSYHGLE': [], 'UBSYHGLEX': [], 'BSYHGLEXA': [], 'SYHGLEXAB': [], 'YHGLEXABG': [], 'HGLEXABGE': [], 'GLEXABGES': [], 'LEXABGESS': [], 'EXABGESSI': [], 'XABGESSIQ': [], 'ABGESSIQG': [], 'BGESSIQGM': [], 'GESSIQGMM': [], 'ESSIQGMMS': [], 'SSIQGMMSM': [], 'SIQGMMSMF': [], 'IQGMMSMFO': [], 'QGMMSMFOV': [], 'GMMSMFOVD': [], 'MMSMFOVDQ': [], 'MSMFOVDQA': [], 'SMFOVDQAT': [], 'MFOVDQATH': [], 'FOVDQATHT': [], 'OVDQATHTG': [], 'VDQATHTGL': [], 'DQATHTGLI': [], 'QATHTGLIC': [], 'ATHTGLICO': [], 'THTGLICOQ': [], 'HTGLICOQH': [], 'TGLICOQHB': [], 'GLICOQHBT': [], 'LICOQHBTB': [], 'ICOQHBTBY': [], 'COQHBTBYB': [], 'OQHBTBYBA': [], 'QHBTBYBAZ': [], 'HBTBYBAZB': [], 'BTBYBAZBT': [], 'TBYBAZBTB': [], 'BYBAZBTBE': [], 'YBAZBTBEO': [], 'BAZBTBEOT': [], 'AZBTBEOTM': [], 'ZBTBEOTMA': [], 'BTBEOTMAO': [], 'TBEOTMAOC': [], 'BEOTMAOCB': [], 'EOTMAOCBR': [], 'OTMAOCBRL': [], 'TMAOCBRLR': [], 'MAOCBRLRK': [], 'AOCBRLRKT': [], 'OCBRLRKTO': [], 'CBRLRKTOE': [], 'BRLRKTOEB': [], 'RLRKTOEBN': [], 'LRKTOEBNM': [], 'RKTOEBNMZ': [], 'KTOEBNMZG': [], 'TOEBNMZGE': [], 'OEBNMZGEB': [], 'EBNMZGEBO': [], 'BNMZGEBOY': [], 'NMZGEBOYI': [], 'MZGEBOYIX': [], 'ZGEBOYIXZ': [], 'GEBOYIXZN': [], 'EBOYIXZNC': [], 'BOYIXZNCT': [], 'OYIXZNCTB': [], 'YIXZNCTBR': [], 'IXZNCTBRA': [], 'XZNCTBRAT': [], 'ZNCTBRATW': [], 'NCTBRATWS': [], 'CTBRATWSE': [], 'TBRATWSEI': [], 'BRATWSEIB': [], 'RATWSEIBQ': [], 'ATWSEIBQD': [], 'TWSEIBQDM': [], 'WSEIBQDMP': [], 'SEIBQDMPX': [], 'EIBQDMPXF': [], 'IBQDMPXFC': [], 'BQDMPXFCO': [], 'QDMPXFCOS': [], 'DMPXFCOSQ': [], 'MPXFCOSQE': [], 'PXFCOSQEZ': [], 'XFCOSQEZB': [], 'FCOSQEZBT': [], 'COSQEZBTG': [], 'OSQEZBTGX': [], 'SQEZBTGXI': [], 'QEZBTGXIE': [], 'EZBTGXIEJ': [], 'ZBTGXIEJE': [], 'BTGXIEJEZ': [], 'TGXIEJEZM': [], 'GXIEJEZMY': [], 'XIEJEZMYW': [], 'IEJEZMYWN': [], 'EJEZMYWNW': [], 'JEZMYWNWU': [], 'EZMYWNWUA': [], 'ZMYWNWUAA': [], 'MYWNWUAAE': [], 'YWNWUAAEM': [], 'WNWUAAEMG': [], 'NWUAAEMGS': [], 'WUAAEMGSW': [], 'UAAEMGSWO': [], 'AAEMGSWON': [], 'AEMGSWONW': [], 'EMGSWONWR': [], 'MGSWONWRM': [], 'GSWONWRMM': [], 'SWONWRMML': [], 'WONWRMMLS': [], 'ONWRMMLSD': [], 'NWRMMLSDA': [], 'WRMMLSDAK': [], 'RMMLSDAKL': [], 'MMLSDAKLI': [], 'MLSDAKLIF': [], 'LSDAKLIFI': [], 'SDAKLIFIK': [], 'DAKLIFIKM': [], 'AKLIFIKMO': [], 'KLIFIKMOC': [], 'LIFIKMOCX': [], 'IFIKMOCXU': [], 'FIKMOCXUI': [], 'IKMOCXUID': [], 'KMOCXUIDJ': [], 'MOCXUIDJB': [], 'OCXUIDJBS': [], 'CXUIDJBSY': [], 'XUIDJBSYM': [], 'UIDJBSYMG': [], 'IDJBSYMGY': [], 'DJBSYMGYU': [], 'JBSYMGYUQ': [], 'BSYMGYUQM': [], 'SYMGYUQML': [], 'YMGYUQMLZ': [], 'MGYUQMLZZ': [], 'GYUQMLZZE': [], 'YUQMLZZEA': [], 'UQMLZZEAM': [], 'QMLZZEAMD': [], 'MLZZEAMDQ': [], 'LZZEAMDQJ': [], 'ZZEAMDQJX': [], 'ZEAMDQJXA': [], 'EAMDQJXAZ': [], 'AMDQJXAZG': [], 'MDQJXAZGN': [], 'DQJXAZGNI': [], 'QJXAZGNIC': [], 'JXAZGNICQ': [], 'XAZGNICQZ': [], 'AZGNICQZL': [], 'ZGNICQZLS': [], 'GNICQZLSR': [], 'NICQZLSRI': [], 'ICQZLSRIT': [], 'CQZLSRITT': [], 'QZLSRITTA': [], 'ZLSRITTAZ': [], 'LSRITTAZI': [], 'SRITTAZIM': [], 'RITTAZIMI': [], 'ITTAZIMIC': [], 'TTAZIMICO': [], 'TAZIMICOR': [], 'AZIMICORM': [], 'ZIMICORMZ': [], 'IMICORMZM': [], 'MICORMZMM': [], 'ICORMZMML': [], 'CORMZMMLH': [], 'ORMZMMLHL': [], 'RMZMMLHLE': [], 'MZMMLHLEA': [], 'ZMMLHLEAQ': [], 'MMLHLEAQE': [], 'MLHLEAQED': [], 'LHLEAQEDM': [], 'HLEAQEDMJ': [], 'LEAQEDMJI': [], 'EAQEDMJIP': [], 'AQEDMJIPR': [], 'QEDMJIPRA': [], 'EDMJIPRAZ': [], 'DMJIPRAZM': [], 'MJIPRAZMM': [], 'JIPRAZMMU': [], 'IPRAZMMUH': [], 'PRAZMMUHG': [], 'RAZMMUHGZ': [], 'AZMMUHGZQ': [], 'ZMMUHGZQN': [], 'MMUHGZQNW': [], 'MUHGZQNWH': [], 'UHGZQNWHA': [], 'HGZQNWHAZ': [], 'GZQNWHAZT': [], 'ZQNWHAZTG': [], 'QNWHAZTGL': [], 'NWHAZTGLI': [], 'WHAZTGLIT': [], 'HAZTGLITY': [], 'AZTGLITYU': [], 'ZTGLITYUQ': [], 'TGLITYUQD': [], 'GLITYUQDB': [], 'LITYUQDBJ': [], 'ITYUQDBJL': [], 'TYUQDBJLA': [], 'YUQDBJLAU': [], 'UQDBJLAUA': [], 'QDBJLAUAE': [], 'DBJLAUAEZ': [], 'BJLAUAEZC': [], 'JLAUAEZCG': [], 'LAUAEZCGA': [], 'AUAEZCGAF': [], 'UAEZCGAFB': [], 'AEZCGAFBJ': [], 'EZCGAFBJW': [], 'ZCGAFBJWQ': [], 'CGAFBJWQG': [], 'GAFBJWQGM': [], 'AFBJWQGMU': [], 'FBJWQGMUI': [], 'BJWQGMUID': [], 'JWQGMUIDQ': [], 'WQGMUIDQG': [], 'QGMUIDQGT': [], 'GMUIDQGTA': [], 'MUIDQGTAB': [], 'UIDQGTABZ': [], 'IDQGTABZB': [], 'DQGTABZBJ': [], 'QGTABZBJL': [], 'GTABZBJLQ': [], 'TABZBJLQO': [], 'ABZBJLQOW': [], 'BZBJLQOWN': [], 'ZBJLQOWNP': [], 'BJLQOWNPM': [], 'JLQOWNPME': [], 'LQOWNPMEG': [], 'QOWNPMEGF': [], 'OWNPMEGFS': [], 'WNPMEGFST': [], 'NPMEGFSTW': [], 'PMEGFSTWY': [], 'MEGFSTWYD': [], 'EGFSTWYDM': [], 'GFSTWYDMV': [], 'FSTWYDMVI': [], 'STWYDMVIP': [], 'TWYDMVIPF': [], 'WYDMVIPFJ': [], 'YDMVIPFJI': [], 'DMVIPFJIQ': [], 'MVIPFJIQG': [], 'VIPFJIQGM': [], 'IPFJIQGME': [], 'PFJIQGMEC': [], 'FJIQGMECX': [], 'JIQGMECXO': [], 'IQGMECXOY': [], 'QGMECXOYQ': [], 'GMECXOYQM': [], 'MECXOYQMB': [], 'ECXOYQMBW': [], 'CXOYQMBWK': [], 'XOYQMBWKH': [], 'OYQMBWKHL': [], 'YQMBWKHLB': [], 'QMBWKHLBZ': [], 'MBWKHLBZM': [], 'BWKHLBZME': [], 'WKHLBZMEE': [], 'KHLBZMEEP': [], 'HLBZMEEPT': [], 'LBZMEEPTQ': [], 'BZMEEPTQP': [], 'ZMEEPTQPF': [], 'MEEPTQPFE': [], 'EEPTQPFEB': [], 'EPTQPFEBR': [], 'PTQPFEBRM': [], 'TQPFEBRMJ': [], 'QPFEBRMJT': [], 'PFEBRMJTX': [], 'FEBRMJTXL': [], 'EBRMJTXLF': [], 'BRMJTXLFI': [], 'RMJTXLFIW': [], 'MJTXLFIWN': [], 'JTXLFIWNF': [], 'TXLFIWNFW': [], 'XLFIWNFWW': [], 'LFIWNFWWO': [], 'FIWNFWWOE': [], 'IWNFWWOEI': [], 'WNFWWOEIK': [], 'NFWWOEIKV': [], 'FWWOEIKVE': [], 'WWOEIKVED': [], 'WOEIKVEDO': [], 'OEIKVEDOB': [], 'EIKVEDOBO': [], 'IKVEDOBOP': [], 'KVEDOBOPB': [], 'VEDOBOPBL': [], 'EDOBOPBLW': [], 'DOBOPBLWC': [], 'OBOPBLWCM': [], 'BOPBLWCML': [], 'OPBLWCMLT': [], 'PBLWCMLTM': [], 'BLWCMLTMY': [], 'LWCMLTMYC': [], 'WCMLTMYCY': [], 'CMLTMYCYW': [], 'MLTMYCYWL': [], 'LTMYCYWLA': [], 'TMYCYWLAX': [], 'MYCYWLAXX': [], 'YCYWLAXXB': [], 'CYWLAXXBD': [], 'YWLAXXBDO': [], 'WLAXXBDOX': [], 'LAXXBDOXX': [], 'AXXBDOXXO': [], 'XXBDOXXOD': [], 'XBDOXXODY': [], 'BDOXXODYN': [], 'DOXXODYNS': [], 'OXXODYNSY': [], 'XXODYNSYC': [], 'XODYNSYCB': [], 'ODYNSYCBQ': [], 'DYNSYCBQV': [], 'YNSYCBQVU': [], 'NSYCBQVUU': [], 'SYCBQVUUH': [], 'YCBQVUUHG': [], 'CBQVUUHGP': [], 'BQVUUHGPB': [], 'QVUUHGPBA': [], 'VUUHGPBAV': [], 'UUHGPBAVM': [], 'UHGPBAVMG': [], 'HGPBAVMGV': [], 'GPBAVMGVW': [], 'PBAVMGVWC': [], 'BAVMGVWCT': [], 'AVMGVWCTR': [], 'VMGVWCTRK': [], 'MGVWCTRKI': [], 'GVWCTRKIL': [], 'VWCTRKILU': [], 'WCTRKILUA': [], 'CTRKILUAM': [], 'TRKILUAMO': [], 'RKILUAMOY': [], 'KILUAMOYC': [], 'ILUAMOYCV': [], 'LUAMOYCVM': [], 'UAMOYCVMR': [], 'AMOYCVMRY': [], 'MOYCVMRYQ': [], 'OYCVMRYQM': [], 'YCVMRYQMO': [], 'CVMRYQMOD': [], 'VMRYQMODE': [], 'MRYQMODEA': [], 'RYQMODEAM': [], 'YQMODEAME': [], 'QMODEAMEX': [], 'MODEAMEXN': [], 'ODEAMEXNN': [], 'DEAMEXNNS': [], 'EAMEXNNSR': [], 'AMEXNNSRC': [], 'MEXNNSRCJ': [], 'EXNNSRCJM': [], 'XNNSRCJMT': [], 'NNSRCJMTG': [], 'NSRCJMTGI': [], 'SRCJMTGIE': [], 'RCJMTGIEA': [], 'CJMTGIEAL': [], 'JMTGIEALG': [], 'MTGIEALGK': [], 'TGIEALGKI': [], 'GIEALGKIP': [], 'IEALGKIPM': [], 'EALGKIPMO': [], 'ALGKIPMON': [], 'LGKIPMONS': [], 'GKIPMONSJ': [], 'KIPMONSJQ': [], 'IPMONSJQU': [], 'PMONSJQUV': [], 'MONSJQUVO': [], 'ONSJQUVOO': [], 'NSJQUVOOM': [], 'SJQUVOOMX': [], 'JQUVOOMXZ': [], 'QUVOOMXZG': [], 'UVOOMXZGO': [], 'VOOMXZGOR': [], 'OOMXZGORW': [], 'OMXZGORWR': [], 'MXZGORWRP': [], 'XZGORWRPM': [], 'ZGORWRPMM': [], 'GORWRPMMI': [], 'ORWRPMMID': [], 'RWRPMMIDS': [], 'WRPMMIDSX': [], 'RPMMIDSXX': [], 'PMMIDSXXA': [], 'MMIDSXXAD': [], 'MIDSXXADI': [], 'IDSXXADIJ': [], 'DSXXADIJI': [], 'SXXADIJIP': [], 'XXADIJIPH': [], 'XADIJIPHK': [], 'ADIJIPHKL': [], 'DIJIPHKLE': [], 'IJIPHKLEE': [], 'JIPHKLEEM': [], 'IPHKLEEME': [], 'PHKLEEMEF': [], 'HKLEEMEFP': [], 'KLEEMEFPG': [], 'LEEMEFPGV': [], 'EEMEFPGVM': [], 'EMEFPGVMT': [], 'MEFPGVMTA': [], 'EFPGVMTAY': [], 'FPGVMTAYN': [], 'PGVMTAYNS': [], 'GVMTAYNSE': [], 'VMTAYNSES': [], 'MTAYNSESS': [], 'TAYNSESSM': [], 'AYNSESSMR': [], 'YNSESSMRQ': [], 'NSESSMRQK': [], 'SESSMRQKX': [], 'ESSMRQKXG': [], 'SSMRQKXGJ': [], 'SMRQKXGJB': [], 'MRQKXGJBU': [], 'RQKXGJBUX': [], 'QKXGJBUXR': [], 'KXGJBUXRQ': [], 'XGJBUXRQB': [], 'GJBUXRQBX': [], 'JBUXRQBXB': [], 'BUXRQBXBO': [], 'UXRQBXBOO': [], 'XRQBXBOOY': [], 'RQBXBOOYY': [], 'QBXBOOYYU': [], 'BXBOOYYUQ': [], 'XBOOYYUQT': [], 'BOOYYUQTT': [], 'OOYYUQTTG': [], 'OYYUQTTGN': [], 'YYUQTTGNC': [], 'YUQTTGNCY': [], 'UQTTGNCYI': [], 'QTTGNCYIS': [], 'TTGNCYISO': [], 'TGNCYISOI': [], 'GNCYISOIF': [], 'NCYISOIFP': [], 'CYISOIFPT': [], 'YISOIFPTS': [], 'ISOIFPTST': [], 'SOIFPTSTI': [], 'OIFPTSTIC': [], 'IFPTSTICF': [], 'FPTSTICFC': [], 'PTSTICFCT': [], 'TSTICFCTB': [], 'STICFCTBO': [], 'TICFCTBOC': [], 'ICFCTBOCY': [], 'CFCTBOCYQ': [], 'FCTBOCYQE': [], 'CTBOCYQEY': [], 'TBOCYQEYX': [], 'BOCYQEYXK': [], 'OCYQEYXKS': [], 'CYQEYXKST': [], 'YQEYXKSTU': [], 'QEYXKSTUA': [], 'EYXKSTUAI': [], 'YXKSTUAIL': [], 'XKSTUAILK': [], 'KSTUAILKI': [], 'STUAILKIJ': [], 'TUAILKIJI': [], 'UAILKIJIP': [], 'AILKIJIPH': [], 'ILKIJIPHA': [], 'LKIJIPHAL': [], 'KIJIPHALE': [], 'IJIPHALER': [], 'JIPHALERQ': [], 'IPHALERQG': [], 'PHALERQGW': [], 'HALERQGWN': [], 'ALERQGWNW': [], 'LERQGWNWU': [], 'ERQGWNWUV': [], 'RQGWNWUVD': [], 'QGWNWUVDQ': [], 'GWNWUVDQM': [], 'WNWUVDQMQ': [], 'NWUVDQMQW': [], 'WUVDQMQWE': [], 'UVDQMQWEC': [], 'VDQMQWECY': [], 'DQMQWECYW': [], 'QMQWECYWL': [], 'MQWECYWLA': [], 'QWECYWLAA': [], 'WECYWLAAX': [], 'ECYWLAAXO': [], 'CYWLAAXOW': [], 'YWLAAXOWQ': [], 'WLAAXOWQG': [], 'LAAXOWQGV': [], 'AAXOWQGVZ': [], 'AXOWQGVZM': [], 'XOWQGVZMB': [], 'OWQGVZMBK': [], 'WQGVZMBKO': [], 'QGVZMBKOM': [], 'GVZMBKOMO': [], 'VZMBKOMOP': [], 'ZMBKOMOPI': [], 'MBKOMOPIN': [], 'BKOMOPINP': [], 'KOMOPINPW': [], 'OMOPINPWX': [], 'MOPINPWXB': [], 'OPINPWXBE': [], 'PINPWXBEW': [], 'INPWXBEWR': [], 'NPWXBEWRW': [], 'PWXBEWRWD': [], 'WXBEWRWDQ': [], 'XBEWRWDQU': [], 'BEWRWDQUT': [], 'EWRWDQUTG': [], 'WRWDQUTGG': [], 'RWDQUTGGW': [], 'WDQUTGGWK': [], 'DQUTGGWKV': [], 'QUTGGWKVE': [], 'UTGGWKVEF': [], 'TGGWKVEFC': [], 'GGWKVEFCW': [], 'GWKVEFCWS': [], 'WKVEFCWSM': [], 'KVEFCWSMS': [], 'VEFCWSMSY': [], 'EFCWSMSYM': [], 'FCWSMSYMS': [], 'CWSMSYMSF': [], 'WSMSYMSFI': [], 'SMSYMSFIK': [], 'MSYMSFIKS': [], 'SYMSFIKSY': [], 'YMSFIKSYS': [], 'MSFIKSYSR': [], 'SFIKSYSRX': [], 'FIKSYSRXE': [], 'IKSYSRXEP': [], 'KSYSRXEPM': [], 'SYSRXEPML': [], 'YSRXEPMLH': [], 'SRXEPMLHL': [], 'RXEPMLHLZ': [], 'XEPMLHLZJ': [], 'EPMLHLZJM': [], 'PMLHLZJMT': [], 'MLHLZJMTG': [], 'LHLZJMTGD': [], 'HLZJMTGDB': [], 'LZJMTGDBR': [], 'ZJMTGDBRL': [], 'JMTGDBRLM': [], 'MTGDBRLMI': [], 'TGDBRLMIW': [], 'GDBRLMIWM': [], 'DBRLMIWMA': [], 'BRLMIWMAV': [], 'RLMIWMAVT': [], 'LMIWMAVTR': [], 'MIWMAVTRT': [], 'IWMAVTRTS': [], 'WMAVTRTSB': [], 'MAVTRTSBI': [], 'AVTRTSBIA': [], 'VTRTSBIAH': [], 'TRTSBIAHM': [], 'RTSBIAHMG': [], 'TSBIAHMGW': [], 'SBIAHMGWC': [], 'BIAHMGWCO': [], 'IAHMGWCOX': [], 'AHMGWCOXM': [], 'HMGWCOXMG': [], 'MGWCOXMGM': [], 'GWCOXMGMT': [], 'WCOXMGMTT': [], 'COXMGMTTF': [], 'OXMGMTTFY': [], 'XMGMTTFYC': [], 'MGMTTFYCY': [], 'GMTTFYCYB': [], 'MTTFYCYBO': [], 'TTFYCYBOP': [], 'TFYCYBOPW': [], 'FYCYBOPWE': [], 'YCYBOPWEC': [], 'CYBOPWECB': [], 'YBOPWECBI': [], 'BOPWECBIK': [], 'OPWECBIKY': [], 'PWECBIKYU': [], 'WECBIKYUQ': [], 'ECBIKYUQZ': [], 'CBIKYUQZX': [], 'BIKYUQZXA': [], 'IKYUQZXAZ': [], 'KYUQZXAZG': [], 'YUQZXAZGV': [], 'UQZXAZGVW': [], 'QZXAZGVWR': [], 'ZXAZGVWRX': [], 'XAZGVWRXW': [], 'AZGVWRXWJ': [], 'ZGVWRXWJI': [], 'GVWRXWJIP': [], 'VWRXWJIPR': [], 'WRXWJIPRK': [], 'RXWJIPRKJ': [], 'XWJIPRKJE': [], 'WJIPRKJEY': [], 'JIPRKJEYW': [], 'IPRKJEYWL': [], 'PRKJEYWLR': [], 'RKJEYWLRP': [], 'KJEYWLRPG': [], 'JEYWLRPGK': [], 'EYWLRPGKZ': [], 'YWLRPGKZC': [], 'WLRPGKZCA': [], 'LRPGKZCAV': [], 'RPGKZCAVL': [], 'PGKZCAVLQ': [], 'GKZCAVLQT': [], 'KZCAVLQTS': [], 'ZCAVLQTST': [], 'CAVLQTSTB': [], 'AVLQTSTBE': [], 'VLQTSTBEE': [], 'LQTSTBEEL': [], 'QTSTBEELX': [], 'TSTBEELXZ': [], 'STBEELXZA': [], 'TBEELXZAS': [], 'BEELXZASY': [], 'EELXZASYW': [], 'ELXZASYWD': [], 'LXZASYWDQ': [], 'XZASYWDQB': [], 'ZASYWDQBH': [], 'ASYWDQBHR': [], 'SYWDQBHRL': [], 'YWDQBHRLG': [], 'WDQBHRLGT': [], 'DQBHRLGTC': [], 'QBHRLGTCE': [], 'BHRLGTCEE': [], 'HRLGTCEEB': [], 'RLGTCEEBK': [], 'LGTCEEBKO': [], 'GTCEEBKOD': [], 'TCEEBKODO': [], 'CEEBKODOI': [], 'EEBKODOIK': [], 'EBKODOIKI': [], 'BKODOIKIA': [], 'KODOIKIAV': [], 'ODOIKIAVX': [], 'DOIKIAVXG': [], 'OIKIAVXGJ': [], 'IKIAVXGJO': [], 'KIAVXGJOW': [], 'IAVXGJOWC': [], 'AVXGJOWCE': [], 'VXGJOWCEQ': [], 'XGJOWCEQV': [], 'GJOWCEQVX': [], 'JOWCEQVXG': [], 'OWCEQVXGE': [], 'WCEQVXGEO': [], 'CEQVXGEOB': [], 'EQVXGEOBQ': [], 'QVXGEOBQD': [], 'VXGEOBQDM': [], 'XGEOBQDMB': [], 'GEOBQDMBH': [], 'EOBQDMBHR': [], 'OBQDMBHRZ': [], 'BQDMBHRZG': [], 'QDMBHRZGA': [], 'DMBHRZGAU': [], 'MBHRZGAUA': [], 'BHRZGAUAB': [], 'HRZGAUABM': [], 'RZGAUABMK': [], 'ZGAUABMKC': [], 'GAUABMKCE': [], 'AUABMKCEO': [], 'UABMKCEOS': [], 'ABMKCEOSJ': [], 'BMKCEOSJI': [], 'MKCEOSJIQ': [], 'KCEOSJIQV': [], 'CEOSJIQVM': [], 'EOSJIQVMC': [], 'OSJIQVMCO': [], 'SJIQVMCOC': [], 'JIQVMCOCX': [], 'IQVMCOCXM': [], 'QVMCOCXMS': [], 'VMCOCXMSF': [], 'MCOCXMSFI': [], 'COCXMSFIR': [], 'OCXMSFIRR': [], 'CXMSFIRRP': [], 'XMSFIRRPZ': [], 'MSFIRRPZI': [], 'SFIRRPZII': [], 'FIRRPZIIM': [], 'IRRPZIIMU': [], 'RRPZIIMUV': [], 'RPZIIMUVH': [], 'PZIIMUVHE': [], 'ZIIMUVHEF': [], 'IIMUVHEFS': [], 'IMUVHEFSW': [], 'MUVHEFSWC': [], 'UVHEFSWCI': [], 'VHEFSWCIQ': [], 'HEFSWCIQZ': [], 'EFSWCIQZX': [], 'FSWCIQZXG': [], 'SWCIQZXGD': [], 'WCIQZXGDS': [], 'CIQZXGDSM': [], 'IQZXGDSMC': [], 'QZXGDSMCI': [], 'ZXGDSMCID': [], 'XGDSMCIDX': [], 'GDSMCIDXK': [], 'DSMCIDXKW': [], 'SMCIDXKWY': [], 'MCIDXKWYQ': [], 'CIDXKWYQO': [], 'IDXKWYQOX': [], 'DXKWYQOXA': [], 'XKWYQOXAX': [], 'KWYQOXAXU': [], 'WYQOXAXUX': [], 'YQOXAXUXB': [], 'QOXAXUXBE': [], 'OXAXUXBES': [], 'XAXUXBESV': [], 'AXUXBESVW': [], 'XUXBESVWR': [], 'UXBESVWRC': [], 'XBESVWRCC': [], 'BESVWRCCX': [], 'ESVWRCCXG': [], 'SVWRCCXGZ': [], 'VWRCCXGZA': [], 'WRCCXGZAU': [], 'RCCXGZAUA': [], 'CCXGZAUAL': [], 'CXGZAUALA': [], 'XGZAUALAY': [], 'GZAUALAYN': [], 'ZAUALAYNS': [], 'AUALAYNSS': [], 'UALAYNSSO': [], 'ALAYNSSOI': [], 'LAYNSSOIM': [], 'AYNSSOIMM': [], 'YNSSOIMMA': [], 'NSSOIMMAA': [], 'SSOIMMAAW': [], 'SOIMMAAWW': [], 'OIMMAAWWL': [], 'IMMAAWWLO': [], 'MMAAWWLOJ': [], 'MAAWWLOJQ': [], 'AAWWLOJQA': [], 'AWWLOJQAK': [], 'WWLOJQAKT': [], 'WLOJQAKTT': [], 'LOJQAKTTS': [], 'OJQAKTTSI': [], 'JQAKTTSIQ': [], 'QAKTTSIQK': [], 'AKTTSIQKT': [], 'KTTSIQKTE': [], 'TTSIQKTEZ': [], 'TSIQKTEZK': [], 'SIQKTEZKB': [], 'IQKTEZKBO': [], 'QKTEZKBOY': [], 'KTEZKBOYC': [], 'TEZKBOYCK': [], 'EZKBOYCKA': [], 'ZKBOYCKAF': [], 'KBOYCKAFU': [], 'BOYCKAFUV': [], 'OYCKAFUVL': [], 'YCKAFUVLW': [], 'CKAFUVLWY': [], 'KAFUVLWYC': [], 'AFUVLWYCA': [], 'FUVLWYCAV': [], 'UVLWYCAVC': [], 'VLWYCAVCM': [], 'LWYCAVCMU': [], 'WYCAVCMUB': [], 'YCAVCMUBB': [], 'CAVCMUBBZ': [], 'AVCMUBBZM': [], 'VCMUBBZMZ': [], 'CMUBBZMZM': [], 'MUBBZMZMN': [], 'UBBZMZMNU': [], 'BBZMZMNUM': [], 'BZMZMNUMG': [], 'ZMZMNUMGR': [], 'MZMNUMGRZ': [], 'ZMNUMGRZS': [], 'MNUMGRZST': [], 'NUMGRZSTK': [], 'UMGRZSTKU': [], 'MGRZSTKUQ': [], 'GRZSTKUQV': [], 'RZSTKUQVM': [], 'ZSTKUQVMO': [], 'STKUQVMOW': [], 'TKUQVMOWO': [], 'KUQVMOWOY': [], 'UQVMOWOYZ': [], 'QVMOWOYZE': [], 'VMOWOYZES': [], 'MOWOYZEST': [], 'OWOYZESTT': [], 'WOYZESTTG': [], 'OYZESTTGO': [], 'YZESTTGOS': [], 'ZESTTGOSK': [], 'ESTTGOSKA': [], 'STTGOSKAT': [], 'TTGOSKATQ': [], 'TGOSKATQR': [], 'GOSKATQRN': [], 'OSKATQRNS': [], 'SKATQRNSR': [], 'KATQRNSRC': [], 'ATQRNSRCV': [], 'TQRNSRCVW': [], 'QRNSRCVWR': [], 'RNSRCVWRC': [], 'NSRCVWRCC': [], 'SRCVWRCCX': [], 'RCVWRCCXS': [], 'CVWRCCXSW': [], 'VWRCCXSWQ': [], 'WRCCXSWQN': [], 'RCCXSWQNQ': [], 'CCXSWQNQS': [], 'CXSWQNQSF': [], 'XSWQNQSFM': [], 'SWQNQSFMX': [], 'WQNQSFMXG': [], 'QNQSFMXGU': [], 'NQSFMXGUI': [], 'QSFMXGUIM': [], 'SFMXGUIMI': [], 'FMXGUIMIR': [], 'MXGUIMIRX': [], 'XGUIMIRXW': [], 'GUIMIRXWW': [], 'UIMIRXWWS': [], 'IMIRXWWSW': [], 'MIRXWWSWO': [], 'IRXWWSWOS': [], 'RXWWSWOSM': [], 'XWWSWOSMJ': [], 'WWSWOSMJA': [], 'WSWOSMJAZ': [], 'SWOSMJAZF': [], 'WOSMJAZFO': [], 'OSMJAZFOY': [], 'SMJAZFOYS': [], 'MJAZFOYSX': [], 'JAZFOYSXI': [], 'AZFOYSXIQ': [], 'ZFOYSXIQG': [], 'FOYSXIQGM': [], 'OYSXIQGMI': [], 'YSXIQGMIC': [], 'SXIQGMICO': [], 'XIQGMICOO': [], 'IQGMICOOS': [], 'QGMICOOSW': [], 'GMICOOSWS': [], 'MICOOSWSN': [], 'ICOOSWSNC': [], 'COOSWSNCL': [], 'OOSWSNCLQ': [], 'OSWSNCLQL': [], 'SWSNCLQLB': [], 'WSNCLQLBJ': [], 'SNCLQLBJW': [], 'NCLQLBJWL': [], 'CLQLBJWLX': [], 'LQLBJWLXM': [], 'QLBJWLXMZ': [], 'LBJWLXMZO': [], 'BJWLXMZOC': [], 'JWLXMZOCG': [], 'WLXMZOCGO': [], 'LXMZOCGOV': [], 'XMZOCGOVV': [], 'MZOCGOVVQ': [], 'ZOCGOVVQZ': [], 'OCGOVVQZZ': [], 'CGOVVQZZI': [], 'GOVVQZZIP': [], 'OVVQZZIPB': [], 'VVQZZIPBF': [], 'VQZZIPBFI': [], 'QZZIPBFIA': [], 'ZZIPBFIAX': [], 'ZIPBFIAXN': [], 'IPBFIAXNB': [], 'PBFIAXNBB': [], 'BFIAXNBBO': [], 'FIAXNBBOS': [], 'IAXNBBOSK': [], 'AXNBBOSKA': [], 'XNBBOSKAT': [], 'NBBOSKATQ': [], 'BBOSKATQO': [], 'BOSKATQOK': [], 'OSKATQOKO': [], 'SKATQOKOY': [], 'KATQOKOYJ': [], 'ATQOKOYJO': [], 'TQOKOYJOI': [], 'QOKOYJOIJ': [], 'OKOYJOIJQ': [], 'KOYJOIJQY': [], 'OYJOIJQYN': [], 'YJOIJQYNS': [], 'JOIJQYNSN': [], 'OIJQYNSNC': [], 'IJQYNSNCT': [], 'JQYNSNCTW': [], 'QYNSNCTWC': [], 'YNSNCTWCQ': [], 'NSNCTWCQU': [], 'SNCTWCQUH': [], 'NCTWCQUHG': [], 'CTWCQUHGN': [], 'TWCQUHGNC': [], 'WCQUHGNCS': [], 'CQUHGNCSW': [], 'QUHGNCSWV': [], 'UHGNCSWVU': [], 'HGNCSWVUL': [], 'GNCSWVULT': [], 'NCSWVULTO': [], 'CSWVULTOD': [], 'SWVULTODW': [], 'WVULTODWW': [], 'VULTODWWC': [], 'ULTODWWCE': [], 'LTODWWCEO': [], 'TODWWCEOW': [], 'ODWWCEOWG': [], 'DWWCEOWGQ': [], 'WWCEOWGQP': [], 'WCEOWGQPB': [], 'CEOWGQPBZ': [], 'EOWGQPBZZ': [], 'OWGQPBZZA': [], 'WGQPBZZAF': [], 'GQPBZZAFM': [], 'QPBZZAFMV': [], 'PBZZAFMVO': [], 'BZZAFMVOO': [], 'ZZAFMVOOO': [], 'ZAFMVOOOS': [], 'AFMVOOOSQ': [], 'FMVOOOSQN': [], 'MVOOOSQNG': [], 'VOOOSQNGB': [], 'OOOSQNGBH': [], 'OOSQNGBHQ': [], 'OSQNGBHQZ': [], 'SQNGBHQZA': [], 'QNGBHQZAU': [], 'NGBHQZAUC': [], 'GBHQZAUCN': [], 'BHQZAUCND': [], 'HQZAUCNDW': [], 'QZAUCNDWF': [], 'ZAUCNDWFO': [], 'AUCNDWFOY': [], 'UCNDWFOYC': [], 'CNDWFOYCI': [], 'NDWFOYCIW': [], 'DWFOYCIWM': [], 'WFOYCIWMA': [], 'FOYCIWMAC': [], 'OYCIWMACG': [], 'YCIWMACGV': [], 'CIWMACGVZ': [], 'IWMACGVZA': [], 'WMACGVZAH': [], 'MACGVZAHZ': [], 'ACGVZAHZE': [], 'CGVZAHZEQ': [], 'GVZAHZEQV': [], 'VZAHZEQVA': [], 'ZAHZEQVAO': [], 'AHZEQVAON': [], 'HZEQVAONS': [], 'ZEQVAONSX': [], 'EQVAONSXT': [], 'QVAONSXTO': [], 'VAONSXTOC': [], 'AONSXTOCC': [], 'ONSXTOCCX': [], 'NSXTOCCXS': [], 'SXTOCCXSD': [], 'XTOCCXSDH': [], 'TOCCXSDHG': [], 'OCCXSDHGN': [], 'CCXSDHGNR': [], 'CXSDHGNRQ': [], 'XSDHGNRQV': [], 'SDHGNRQVM': [], 'DHGNRQVMS': [], 'HGNRQVMSL': [], 'GNRQVMSLH': [], 'NRQVMSLHO': [], 'RQVMSLHOK': [], 'QVMSLHOKO': [], 'VMSLHOKOZ': [], 'MSLHOKOZA': [], 'SLHOKOZAX': [], 'LHOKOZAXF': [], 'HOKOZAXFT': [], 'OKOZAXFTS': [], 'KOZAXFTSJ': [], 'OZAXFTSJI': [], 'ZAXFTSJID': [], 'AXFTSJIDB': [], 'XFTSJIDBZ': [], 'FTSJIDBZX': [], 'TSJIDBZXQ': [], 'SJIDBZXQT': [], 'JIDBZXQTG': [], 'IDBZXQTGG': [], 'DBZXQTGGG': [], 'BZXQTGGGG': [], 'ZXQTGGGGQ': [], 'XQTGGGGQV': [], 'QTGGGGQVN': [], 'TGGGGQVNW': [], 'GGGGQVNWY': [], 'GGGQVNWYO': [], 'GGQVNWYOI': [], 'GQVNWYOIW': [], 'QVNWYOIWN': [], 'VNWYOIWNF': [], 'NWYOIWNFM': [], 'WYOIWNFMK': [], 'YOIWNFMKB': [], 'OIWNFMKBF': [], 'IWNFMKBFF': [], 'WNFMKBFFG': [], 'NFMKBFFGK': [], 'FMKBFFGKO': [], 'MKBFFGKOZ': [], 'KBFFGKOZD': [], 'BFFGKOZDH': [], 'FFGKOZDHZ': [], 'FGKOZDHZF': [], 'GKOZDHZFB': [], 'KOZDHZFBZ': [], 'OZDHZFBZI': [], 'ZDHZFBZID': [], 'DHZFBZIDO': [], 'HZFBZIDOW': [], 'ZFBZIDOWG': [], 'FBZIDOWGX': [], 'BZIDOWGXF': [], 'ZIDOWGXFG': [], 'IDOWGXFGZ': [], 'DOWGXFGZQ': [], 'OWGXFGZQC': [], 'WGXFGZQCU': [], 'GXFGZQCUI': [], 'XFGZQCUIR': [], 'FGZQCUIRS': [], 'GZQCUIRSY': [], 'ZQCUIRSYZ': [], 'QCUIRSYZO': [], 'CUIRSYZOJ': [], 'UIRSYZOJE': [], 'IRSYZOJED': [], 'RSYZOJEDI': [], 'SYZOJEDIK': [], 'YZOJEDIKH': [], 'ZOJEDIKHP': [], 'OJEDIKHPR': [], 'JEDIKHPRK': [], 'EDIKHPRKB': [], 'DIKHPRKBO': [], 'IKHPRKBOP': [], 'KHPRKBOPI': [], 'HPRKBOPIL': [], 'PRKBOPILZ': [], 'RKBOPILZL': [], 'KBOPILZLG': [], 'BOPILZLGJ': [], 'OPILZLGJM': [], 'PILZLGJMM': [], 'ILZLGJMMM': [], 'LZLGJMMMA': [], 'ZLGJMMMAW': [], 'LGJMMMAWW': [], 'GJMMMAWWD': [], 'JMMMAWWDH': [], 'MMMAWWDHX': [], 'MMAWWDHXI': [], 'MAWWDHXIC': [], 'AWWDHXICO': [], 'WWDHXICOQ': [], 'WDHXICOQH': [], 'DHXICOQHB': [], 'HXICOQHBP': [], 'XICOQHBPM': [], 'ICOQHBPMY': [], 'COQHBPMYQ': [], 'OQHBPMYQH': [], 'QHBPMYQHM': [], 'HBPMYQHMK': [], 'BPMYQHMKX': [], 'PMYQHMKXG': [], 'MYQHMKXGE': [], 'YQHMKXGEC': [], 'QHMKXGECJ': [], 'HMKXGECJW': [], 'MKXGECJWC': [], 'KXGECJWCA': [], 'XGECJWCAU': [], 'GECJWCAUH': [], 'ECJWCAUHG': [], 'CJWCAUHGT': [], 'JWCAUHGTT': [], 'WCAUHGTTA': [], 'CAUHGTTAM': [], 'AUHGTTAMR': [], 'UHGTTAMRM': [], 'HGTTAMRMT': [], 'GTTAMRMTH': [], 'TTAMRMTHI': [], 'TAMRMTHIW': [], 'AMRMTHIWH': [], 'MRMTHIWHO': [], 'RMTHIWHOU': [], 'MTHIWHOUO': [], 'THIWHOUOC': [], 'HIWHOUOCC': [], 'IWHOUOCCX': [], 'WHOUOCCXV': [], 'HOUOCCXVL': [], 'OUOCCXVLF': [], 'UOCCXVLFO': [], 'OCCXVLFOI': [], 'CCXVLFOIS': [], 'CXVLFOISQ': [], 'XVLFOISQV': [], 'VLFOISQVM': [], 'LFOISQVMI': [], 'FOISQVMIG': [], 'OISQVMIGW': [], 'ISQVMIGWJ': [], 'SQVMIGWJI': [], 'QVMIGWJIY': [], 'VMIGWJIYP': [], 'MIGWJIYPM': [], 'IGWJIYPMC': [], 'GWJIYPMCO': [], 'WJIYPMCOD': [], 'JIYPMCODR': [], 'IYPMCODRK': [], 'YPMCODRKK': [], 'PMCODRKKA': [], 'MCODRKKAY': [], 'CODRKKAYQ': [], 'ODRKKAYQG': [], 'DRKKAYQGO': [], 'RKKAYQGOC': [], 'KKAYQGOCG': [], 'KAYQGOCGO': [], 'AYQGOCGOV': [], 'YQGOCGOVR': [], 'QGOCGOVRG': [], 'GOCGOVRGU': [], 'OCGOVRGUU': [], 'CGOVRGUUC': [], 'GOVRGUUCO': [], 'OVRGUUCOS': [], 'VRGUUCOSP': [], 'RGUUCOSPI': [], 'GUUCOSPIS': [], 'UUCOSPISP': [], 'UCOSPISPM': [], 'COSPISPMW': [], 'OSPISPMWS': [], 'SPISPMWSU': [], 'PISPMWSUO': [], 'ISPMWSUOX': [], 'SPMWSUOXY': [], 'PMWSUOXYU': [], 'MWSUOXYUQ': [], 'WSUOXYUQB': [], 'SUOXYUQBN': [], 'UOXYUQBNG': [], 'OXYUQBNGP': [], 'XYUQBNGPA': [], 'YUQBNGPAU': [], 'UQBNGPAUK': [], 'QBNGPAUKI': [], 'BNGPAUKIA': [], 'NGPAUKIAV': [], 'GPAUKIAVX': [], 'PAUKIAVXG': [], 'AUKIAVXGL': [], 'UKIAVXGLB': [], 'KIAVXGLBA': [], 'IAVXGLBAT': [], 'AVXGLBATE': [], 'VXGLBATEZ': [], 'XGLBATEZT': [], 'GLBATEZTH': [], 'LBATEZTHE': [], 'BATEZTHEF': [], 'ATEZTHEFS': [], 'TEZTHEFSZ': [], 'EZTHEFSZM': [], 'ZTHEFSZMD': [], 'THEFSZMDU': [], 'HEFSZMDUK': [], 'EFSZMDUKX': [], 'FSZMDUKXH': [], 'SZMDUKXHF': [], 'ZMDUKXHFA': [], 'MDUKXHFAK': [], 'DUKXHFAKV': [], 'UKXHFAKVT': [], 'KXHFAKVTQ': [], 'XHFAKVTQL': [], 'HFAKVTQLX': [], 'FAKVTQLXX': [], 'AKVTQLXXL': [], 'KVTQLXXLG': [], 'VTQLXXLGJ': [], 'TQLXXLGJM': [], 'QLXXLGJMS': [], 'LXXLGJMSQ': [], 'XXLGJMSQZ': [], 'XLGJMSQZA': [], 'LGJMSQZAW': [], 'GJMSQZAWA': [], 'JMSQZAWAC': [], 'MSQZAWACI': [], 'SQZAWACIZ': [], 'QZAWACIZI': [], 'ZAWACIZIF': [], 'AWACIZIFI': [], 'WACIZIFIX': [], 'ACIZIFIXU': [], 'CIZIFIXUZ': [], 'IZIFIXUZQ': [], 'ZIFIXUZQK': [], 'IFIXUZQKV': [], 'FIXUZQKVT': [], 'IXUZQKVTD': [], 'XUZQKVTDQ': [], 'UZQKVTDQV': [], 'ZQKVTDQVC': [], 'QKVTDQVCP': [], 'KVTDQVCPW': [], 'VTDQVCPWX': [], 'TDQVCPWXZ': [], 'DQVCPWXZI': [], 'QVCPWXZIF': [], 'VCPWXZIFI': [], 'CPWXZIFIU': [], 'PWXZIFIUZ': [], 'WXZIFIUZP': [], 'XZIFIUZP': [], 'ZIFIUZP': [], 'IFIUZP': [], 'FIUZP': [], 'IUZP': [], 'UZP': []} \n",
            " Ordenadas por número de apariciones:\n",
            " [('MGSDHGDIP', [1080]), ('GSDHGDIPI', [1080]), ('MVILBJWAB', [36]), ('VILBJWABZ', [36]), ('ILBJWABZX', [36]), ('LBJWABZXB', [36]), ('BJWABZXBO', [36]), ('JWABZXBOS', [36]), ('WABZXBOSY', [36]), ('ABZXBOSYI', [36]), ('CAVYWLFKV', [423]), ('IYOSMNFIE', [279]), ('YOSMNFIEW', [279]), ('OSMNFIEWO', [279]), ('SMNFIEWOO', [279]), ('MNFIEWOOJ', [279]), ('NFIEWOOJQ', [279]), ('FIEWOOJQM', [279]), ('IEWOOJQMB', [279]), ('EWOOJQMBT', [279]), ('WOOJQMBTT', [279]), ('OOJQMBTTQ', [279]), ('OJQMBTTQL', [279]), ('JQMBTTQLP', [279]), ('QMBTTQLPR', [279]), ('MBTTQLPRM', [279]), ('QABAACYQB', []), ('ABAACYQBX', []), ('BAACYQBXM', []), ('AACYQBXMM', []), ('ACYQBXMMS', []), ('CYQBXMMSY', []), ('YQBXMMSYS', []), ('QBXMMSYSX', []), ('BXMMSYSXB', []), ('XMMSYSXBO', []), ('MMSYSXBOP', []), ('MSYSXBOPW', []), ('SYSXBOPWU', []), ('YSXBOPWUO', []), ('SXBOPWUOU', []), ('XBOPWUOUC', []), ('BOPWUOUCI', []), ('OPWUOUCIW', []), ('PWUOUCIWN', []), ('WUOUCIWNF', []), ('UOUCIWNFZ', []), ('OUCIWNFZH', []), ('UCIWNFZHZ', []), ('CIWNFZHZE', []), ('IWNFZHZES', []), ('WNFZHZEST', []), ('NFZHZESTM', []), ('FZHZESTMM', []), ('ZHZESTMMA', []), ('HZESTMMAA', []), ('ZESTMMAAJ', []), ('ESTMMAAJI', []), ('STMMAAJIP', []), ('TMMAAJIPR', []), ('MMAAJIPRG', []), ('MAAJIPRGZ', []), ('AAJIPRGZN', []), ('AJIPRGZNA', []), ('JIPRGZNAA', []), ('IPRGZNAAV', []), ('PRGZNAAVI', []), ('RGZNAAVIP', []), ('GZNAAVIPB', []), ('ZNAAVIPBZ', []), ('NAAVIPBZI', []), ('AAVIPBZIQ', []), ('AVIPBZIQG', []), ('VIPBZIQGM', []), ('IPBZIQGMI', []), ('PBZIQGMIS', []), ('BZIQGMISY', []), ('ZIQGMISYG', []), ('IQGMISYGG', []), ('QGMISYGGZ', []), ('GMISYGGZD', []), ('MISYGGZDQ', []), ('ISYGGZDQU', []), ('SYGGZDQUT', []), ('YGGZDQUTG', []), ('GGZDQUTGT', []), ('GZDQUTGTO', []), ('ZDQUTGTOJ', []), ('DQUTGTOJW', []), ('QUTGTOJWE', []), ('UTGTOJWEZ', []), ('TGTOJWEZM', []), ('GTOJWEZME', []), ('TOJWEZMET', []), ('OJWEZMETF', []), ('JWEZMETFH', []), ('WEZMETFHA', []), ('EZMETFHAZ', []), ('ZMETFHAZO', []), ('METFHAZOB', []), ('ETFHAZOBC', []), ('TFHAZOBCX', []), ('FHAZOBCXR', []), ('HAZOBCXRP', []), ('AZOBCXRPZ', []), ('ZOBCXRPZR', []), ('OBCXRPZRM', []), ('BCXRPZRMV', []), ('CXRPZRMVM', []), ('XRPZRMVMZ', []), ('RPZRMVMZT', []), ('PZRMVMZTW', []), ('ZRMVMZTWX', []), ('RMVMZTWXO', []), ('MVMZTWXOM', []), ('VMZTWXOMQ', []), ('MZTWXOMQN', []), ('ZTWXOMQNM', []), ('TWXOMQNMZ', []), ('WXOMQNMZG', []), ('XOMQNMZGC', []), ('OMQNMZGCD', []), ('MQNMZGCDG', []), ('QNMZGCDGO', []), ('NMZGCDGOB', []), ('MZGCDGOBU', []), ('ZGCDGOBUM', []), ('GCDGOBUMK', []), ('CDGOBUMKB', []), ('DGOBUMKBC', []), ('GOBUMKBCY', []), ('OBUMKBCYS', []), ('BUMKBCYSY', []), ('UMKBCYSYG', []), ('MKBCYSYGP', []), ('KBCYSYGPD', []), ('BCYSYGPDW', []), ('CYSYGPDWU', []), ('YSYGPDWUZ', []), ('SYGPDWUZP', []), ('YGPDWUZPA', []), ('GPDWUZPAG', []), ('PDWUZPAGA', []), ('DWUZPAGAQ', []), ('WUZPAGAQG', []), ('UZPAGAQGM', []), ('ZPAGAQGMI', []), ('PAGAQGMII', []), ('AGAQGMIIP', []), ('GAQGMIIPR', []), ('AQGMIIPRK', []), ('QGMIIPRKV', []), ('GMIIPRKVN', []), ('MIIPRKVNA', []), ('IIPRKVNAM', []), ('IPRKVNAMQ', []), ('PRKVNAMQW', []), ('RKVNAMQWD', []), ('KVNAMQWDH', []), ('VNAMQWDHO', []), ('NAMQWDHOZ', []), ('AMQWDHOZT', []), ('MQWDHOZTA', []), ('QWDHOZTAL', []), ('WDHOZTALH', []), ('DHOZTALHS', []), ('HOZTALHSD', []), ('OZTALHSDH', []), ('ZTALHSDHU', []), ('TALHSDHUK', []), ('ALHSDHUKO', []), ('LHSDHUKOZ', []), ('HSDHUKOZL', []), ('SDHUKOZLN', []), ('DHUKOZLNQ', []), ('HUKOZLNQP', []), ('UKOZLNQPO', []), ('KOZLNQPOR', []), ('OZLNQPORI', []), ('ZLNQPORIA', []), ('LNQPORIAZ', []), ('NQPORIAZA', []), ('QPORIAZAB', []), ('PORIAZABS', []), ('ORIAZABSO', []), ('RIAZABSOO', []), ('IAZABSOOJ', []), ('AZABSOOJM', []), ('ZABSOOJML', []), ('ABSOOJMLC', []), ('BSOOJMLCC', []), ('SOOJMLCCX', []), ('OOJMLCCXG', []), ('OJMLCCXGF', []), ('JMLCCXGFT', []), ('MLCCXGFTX', []), ('LCCXGFTXM', []), ('CCXGFTXMA', []), ('CXGFTXMAZ', []), ('XGFTXMAZB', []), ('GFTXMAZBX', []), ('FTXMAZBXG', []), ('TXMAZBXGO', []), ('XMAZBXGOS', []), ('MAZBXGOSW', []), ('AZBXGOSWC', []), ('ZBXGOSWCE', []), ('BXGOSWCEE', []), ('XGOSWCEEM', []), ('GOSWCEEMT', []), ('OSWCEEMTB', []), ('SWCEEMTBP', []), ('WCEEMTBPQ', []), ('CEEMTBPQK', []), ('EEMTBPQKA', []), ('EMTBPQKAA', []), ('MTBPQKAAD', []), ('TBPQKAADQ', []), ('BPQKAADQH', []), ('PQKAADQHG', []), ('QKAADQHGF', []), ('KAADQHGFT', []), ('AADQHGFTX', []), ('ADQHGFTXM', []), ('DQHGFTXMM', []), ('QHGFTXMMM', []), ('HGFTXMMMA', []), ('GFTXMMMAW', []), ('FTXMMMAWS', []), ('TXMMMAWSW', []), ('XMMMAWSWC', []), ('MMMAWSWCT', []), ('MMAWSWCTM', []), ('MAWSWCTMC', []), ('AWSWCTMCQ', []), ('WSWCTMCQA', []), ('SWCTMCQAT', []), ('WCTMCQATF', []), ('CTMCQATFT', []), ('TMCQATFTC', []), ('MCQATFTCV', []), ('CQATFTCVM', []), ('QATFTCVMR', []), ('ATFTCVMRA', []), ('TFTCVMRAA', []), ('FTCVMRAAB', []), ('TCVMRAABE', []), ('CVMRAABEF', []), ('VMRAABEFW', []), ('MRAABEFWK', []), ('RAABEFWKZ', []), ('AABEFWKZE', []), ('ABEFWKZEE', []), ('BEFWKZEEZ', []), ('EFWKZEEZX', []), ('FWKZEEZXO', []), ('WKZEEZXOW', []), ('KZEEZXOWW', []), ('ZEEZXOWWF', []), ('EEZXOWWFI', []), ('EZXOWWFIR', []), ('ZXOWWFIRM', []), ('XOWWFIRMT', []), ('OWWFIRMTZ', []), ('WWFIRMTZC', []), ('WFIRMTZCY', []), ('FIRMTZCYC', []), ('IRMTZCYCN', []), ('RMTZCYCNI', []), ('MTZCYCNIY', []), ('TZCYCNIYY', []), ('ZCYCNIYYI', []), ('CYCNIYYIL', []), ('YCNIYYILE', []), ('CNIYYILEF', []), ('NIYYILEFS', []), ('IYYILEFSI', []), ('YYILEFSIW', []), ('YILEFSIWN', []), ('ILEFSIWNR', []), ('LEFSIWNRQ', []), ('EFSIWNRQT', []), ('FSIWNRQTF', []), ('SIWNRQTFP', []), ('IWNRQTFPB', []), ('WNRQTFPBZ', []), ('NRQTFPBZC', []), ('RQTFPBZCV', []), ('QTFPBZCVQ', []), ('TFPBZCVQZ', []), ('FPBZCVQZL', []), ('PBZCVQZLW', []), ('BZCVQZLWZ', []), ('ZCVQZLWZB', []), ('CVQZLWZBJ', []), ('VQZLWZBJM', []), ('QZLWZBJMT', []), ('ZLWZBJMTU', []), ('LWZBJMTUY', []), ('WZBJMTUYN', []), ('ZBJMTUYNS', []), ('BJMTUYNSO', []), ('JMTUYNSOO', []), ('MTUYNSOOR', []), ('TUYNSOORW', []), ('UYNSOORWM', []), ('YNSOORWMQ', []), ('NSOORWMQR', []), ('SOORWMQRH', []), ('OORWMQRHF', []), ('ORWMQRHFO', []), ('RWMQRHFOS', []), ('WMQRHFOSY', []), ('MQRHFOSYQ', []), ('QRHFOSYQP', []), ('RHFOSYQPM', []), ('HFOSYQPMZ', []), ('FOSYQPMZT', []), ('OSYQPMZTC', []), ('SYQPMZTCM', []), ('YQPMZTCMH', []), ('QPMZTCMHK', []), ('PMZTCMHKV', []), ('MZTCMHKVE', []), ('ZTCMHKVED', []), ('TCMHKVEDM', []), ('CMHKVEDML', []), ('MHKVEDMLC', []), ('HKVEDMLCB', []), ('KVEDMLCBI', []), ('VEDMLCBIK', []), ('EDMLCBIKY', []), ('DMLCBIKYU', []), ('MLCBIKYUU', []), ('LCBIKYUUZ', []), ('CBIKYUUZX', []), ('BIKYUUZXG', []), ('IKYUUZXGE', []), ('KYUUZXGEI', []), ('YUUZXGEIY', []), ('UUZXGEIYU', []), ('UZXGEIYUE', []), ('ZXGEIYUEF', []), ('XGEIYUEFI', []), ('GEIYUEFIL', []), ('EIYUEFILM', []), ('IYUEFILME', []), ('YUEFILMEI', []), ('UEFILMEIY', []), ('EFILMEIYA', []), ('FILMEIYAU', []), ('ILMEIYAUQ', []), ('LMEIYAUQV', []), ('MEIYAUQVH', []), ('EIYAUQVHG', []), ('IYAUQVHGA', []), ('YAUQVHGAS', []), ('AUQVHGASX', []), ('UQVHGASXW', []), ('QVHGASXWT', []), ('VHGASXWTM', []), ('HGASXWTMU', []), ('GASXWTMUU', []), ('ASXWTMUUW', []), ('SXWTMUUWP', []), ('XWTMUUWPB', []), ('WTMUUWPBK', []), ('TMUUWPBKA', []), ('MUUWPBKAI', []), ('UUWPBKAIY', []), ('UWPBKAIYX', []), ('WPBKAIYXH', []), ('PBKAIYXHF', []), ('BKAIYXHFE', []), ('KAIYXHFEO', []), ('AIYXHFEOX', []), ('IYXHFEOXB', []), ('YXHFEOXBE', []), ('XHFEOXBEB', []), ('HFEOXBEBM', []), ('FEOXBEBMK', []), ('EOXBEBMKR', []), ('OXBEBMKRZ', []), ('XBEBMKRZB', []), ('BEBMKRZBG', []), ('EBMKRZBGZ', []), ('BMKRZBGZT', []), ('MKRZBGZTQ', []), ('KRZBGZTQM', []), ('RZBGZTQMG', []), ('ZBGZTQMGS', []), ('BGZTQMGSD', []), ('GZTQMGSDH', []), ('ZTQMGSDHG', []), ('TQMGSDHGD', []), ('QMGSDHGDI', []), ('SDHGDIPIO', []), ('DHGDIPIOW', []), ('HGDIPIOWP', []), ('GDIPIOWPB', []), ('DIPIOWPBK', []), ('IPIOWPBKA', []), ('PIOWPBKAA', []), ('IOWPBKAAO', []), ('OWPBKAAOI', []), ('WPBKAAOIZ', []), ('PBKAAOIZO', []), ('BKAAOIZOC', []), ('KAAOIZOCZ', []), ('AAOIZOCZG', []), ('AOIZOCZGM', []), ('OIZOCZGMN', []), ('IZOCZGMNQ', []), ('ZOCZGMNQT', []), ('OCZGMNQTX', []), ('CZGMNQTXB', []), ('ZGMNQTXBP', []), ('GMNQTXBPZ', []), ('MNQTXBPZS', []), ('NQTXBPZSW', []), ('QTXBPZSWM', []), ('TXBPZSWMQ', []), ('XBPZSWMQV', []), ('BPZSWMQVM', []), ('PZSWMQVMC', []), ('ZSWMQVMCB', []), ('SWMQVMCBI', []), ('WMQVMCBIK', []), ('MQVMCBIKD', []), ('QVMCBIKDI', []), ('VMCBIKDIQ', []), ('MCBIKDIQV', []), ('CBIKDIQVX', []), ('BIKDIQVXG', []), ('IKDIQVXGL', []), ('KDIQVXGLQ', []), ('DIQVXGLQG', []), ('IQVXGLQGO', []), ('QVXGLQGOA', []), ('VXGLQGOAD', []), ('XGLQGOADT', []), ('GLQGOADTT', []), ('LQGOADTTM', []), ('QGOADTTME', []), ('GOADTTMES', []), ('OADTTMESV', []), ('ADTTMESVM', []), ('DTTMESVMR', []), ('TTMESVMRP', []), ('TMESVMRPW', []), ('MESVMRPWG', []), ('ESVMRPWGO', []), ('SVMRPWGOD', []), ('VMRPWGODH', []), ('MRPWGODHU', []), ('RPWGODHUL', []), ('PWGODHULO', []), ('WGODHULOR', []), ('GODHULORT', []), ('ODHULORTN', []), ('DHULORTNM', []), ('HULORTNMP', []), ('ULORTNMPH', []), ('LORTNMPHG', []), ('ORTNMPHGV', []), ('RTNMPHGVF', []), ('TNMPHGVFM', []), ('NMPHGVFMK', []), ('MPHGVFMKB', []), ('PHGVFMKBZ', []), ('HGVFMKBZX', []), ('GVFMKBZXW', []), ('VFMKBZXWX', []), ('FMKBZXWXI', []), ('MKBZXWXIT', []), ('KBZXWXITQ', []), ('BZXWXITQI', []), ('ZXWXITQIE', []), ('XWXITQIES', []), ('WXITQIESD', []), ('XITQIESDD', []), ('ITQIESDDK', []), ('TQIESDDKR', []), ('QIESDDKRO', []), ('IESDDKROK', []), ('ESDDKROKL', []), ('SDDKROKLB', []), ('DDKROKLBH', []), ('DKROKLBHP', []), ('KROKLBHPE', []), ('ROKLBHPEA', []), ('OKLBHPEAM', []), ('KLBHPEAME', []), ('LBHPEAMEE', []), ('BHPEAMEEB', []), ('HPEAMEEBT', []), ('PEAMEEBTG', []), ('EAMEEBTGR', []), ('AMEEBTGRI', []), ('MEEBTGRIG', []), ('EEBTGRIGX', []), ('EBTGRIGXO', []), ('BTGRIGXOE', []), ('TGRIGXOEQ', []), ('GRIGXOEQG', []), ('RIGXOEQGC', []), ('IGXOEQGCE', []), ('GXOEQGCES', []), ('XOEQGCESR', []), ('OEQGCESRW', []), ('EQGCESRWD', []), ('QGCESRWDU', []), ('GCESRWDUK', []), ('CESRWDUKX', []), ('ESRWDUKXG', []), ('SRWDUKXGE', []), ('RWDUKXGEI', []), ('WDUKXGEIT', []), ('DUKXGEITI', []), ('UKXGEITID', []), ('KXGEITIDU', []), ('XGEITIDUM', []), ('GEITIDUMM', []), ('EITIDUMMS', []), ('ITIDUMMSW', []), ('TIDUMMSWO', []), ('IDUMMSWOB', []), ('DUMMSWOBI', []), ('UMMSWOBIA', []), ('MMSWOBIAO', []), ('MSWOBIAOZ', []), ('SWOBIAOZX', []), ('WOBIAOZXS', []), ('OBIAOZXSC', []), ('BIAOZXSCF', []), ('IAOZXSCFK', []), ('AOZXSCFKK', []), ('OZXSCFKKU', []), ('ZXSCFKKUQ', []), ('XSCFKKUQZ', []), ('SCFKKUQZW', []), ('CFKKUQZWO', []), ('FKKUQZWOB', []), ('KKUQZWOBI', []), ('KUQZWOBIK', []), ('UQZWOBIKT', []), ('QZWOBIKTA', []), ('ZWOBIKTAO', []), ('WOBIKTAOW', []), ('OBIKTAOWG', []), ('BIKTAOWGT', []), ('IKTAOWGTT', []), ('KTAOWGTTO', []), ('TAOWGTTOT', []), ('AOWGTTOTH', []), ('OWGTTOTHA', []), ('WGTTOTHAZ', []), ('GTTOTHAZW', []), ('TTOTHAZWX', []), ('TOTHAZWXG', []), ('OTHAZWXGX', []), ('THAZWXGXO', []), ('HAZWXGXOM', []), ('AZWXGXOMQ', []), ('ZWXGXOMQC', []), ('WXGXOMQCM', []), ('XGXOMQCMV', []), ('GXOMQCMVH', []), ('XOMQCMVHS', []), ('OMQCMVHSD', []), ('MQCMVHSDW', []), ('QCMVHSDWT', []), ('CMVHSDWTV', []), ('MVHSDWTVA', []), ('VHSDWTVAF', []), ('HSDWTVAFI', []), ('SDWTVAFIR', []), ('DWTVAFIRB', []), ('WTVAFIRBZ', []), ('TVAFIRBZS', []), ('VAFIRBZSY', []), ('AFIRBZSYQ', []), ('FIRBZSYQN', []), ('IRBZSYQNM', []), ('RBZSYQNMT', []), ('BZSYQNMTV', []), ('ZSYQNMTVO', []), ('SYQNMTVOY', []), ('YQNMTVOYN', []), ('QNMTVOYNG', []), ('NMTVOYNGJ', []), ('MTVOYNGJL', []), ('TVOYNGJLQ', []), ('VOYNGJLQM', []), ('OYNGJLQML', []), ('YNGJLQMLI', []), ('NGJLQMLIY', []), ('GJLQMLIYO', []), ('JLQMLIYON', []), ('LQMLIYONI', []), ('QMLIYONIB', []), ('MLIYONIBU', []), ('LIYONIBUT', []), ('IYONIBUTB', []), ('YONIBUTBR', []), ('ONIBUTBRL', []), ('NIBUTBRLR', []), ('IBUTBRLRR', []), ('BUTBRLRRW', []), ('UTBRLRRWQ', []), ('TBRLRRWQG', []), ('BRLRRWQGM', []), ('RLRRWQGML', []), ('LRRWQGMLW', []), ('RRWQGMLWR', []), ('RWQGMLWRB', []), ('WQGMLWRBO', []), ('QGMLWRBON', []), ('GMLWRBONI', []), ('MLWRBONIO', []), ('LWRBONIOI', []), ('WRBONIOIJ', []), ('RBONIOIJI', []), ('BONIOIJIP', []), ('ONIOIJIPG', []), ('NIOIJIPGK', []), ('IOIJIPGKX', []), ('OIJIPGKXU', []), ('IJIPGKXUQ', []), ('JIPGKXUQL', []), ('IPGKXUQLX', []), ('PGKXUQLXO', []), ('GKXUQLXOA', []), ('KXUQLXOAF', []), ('XUQLXOAFK', []), ('UQLXOAFKV', []), ('QLXOAFKVD', []), ('LXOAFKVDQ', []), ('XOAFKVDQZ', []), ('OAFKVDQZL', []), ('AFKVDQZLW', []), ('FKVDQZLWY', []), ('KVDQZLWYS', []), ('VDQZLWYSS', []), ('DQZLWYSSJ', []), ('QZLWYSSJA', []), ('ZLWYSSJAD', []), ('LWYSSJADO', []), ('WYSSJADOH', []), ('YSSJADOHZ', []), ('SSJADOHZL', []), ('SJADOHZLQ', []), ('JADOHZLQU', []), ('ADOHZLQUV', []), ('DOHZLQUVF', []), ('OHZLQUVFU', []), ('HZLQUVFUI', []), ('ZLQUVFUIG', []), ('LQUVFUIGN', []), ('QUVFUIGNL', []), ('UVFUIGNLS', []), ('VFUIGNLSY', []), ('FUIGNLSYC', []), ('UIGNLSYCN', []), ('IGNLSYCNM', []), ('GNLSYCNMP', []), ('NLSYCNMPT', []), ('LSYCNMPTP', []), ('SYCNMPTPT', []), ('YCNMPTPTZ', []), ('CNMPTPTZO', []), ('NMPTPTZOL', []), ('MPTPTZOLA', []), ('PTPTZOLAP', []), ('TPTZOLAPL', []), ('PTZOLAPLX', []), ('TZOLAPLXB', []), ('ZOLAPLXBE', []), ('OLAPLXBEF', []), ('LAPLXBEFU', []), ('APLXBEFUL', []), ('PLXBEFULE', []), ('LXBEFULEX', []), ('XBEFULEXI', []), ('BEFULEXIL', []), ('EFULEXILV', []), ('FULEXILVL', []), ('ULEXILVLP', []), ('LEXILVLPO', []), ('EXILVLPOT', []), ('XILVLPOTI', []), ('ILVLPOTIP', []), ('LVLPOTIPI', []), ('VLPOTIPIW', []), ('LPOTIPIWS', []), ('POTIPIWSD', []), ('OTIPIWSDD', []), ('TIPIWSDDU', []), ('IPIWSDDUZ', []), ('PIWSDDUZL', []), ('IWSDDUZLA', []), ('WSDDUZLAY', []), ('SDDUZLAYN', []), ('DDUZLAYNS', []), ('DUZLAYNSW', []), ('UZLAYNSWO', []), ('ZLAYNSWOI', []), ('LAYNSWOIW', []), ('AYNSWOIWN', []), ('YNSWOIWNR', []), ('NSWOIWNRQ', []), ('SWOIWNRQT', []), ('WOIWNRQTB', []), ('OIWNRQTBK', []), ('IWNRQTBKO', []), ('WNRQTBKOB', []), ('NRQTBKOBQ', []), ('RQTBKOBQE', []), ('QTBKOBQEZ', []), ('TBKOBQEZM', []), ('BKOBQEZMV', []), ('KOBQEZMVI', []), ('OBQEZMVIL', []), ('BQEZMVILB', []), ('QEZMVILBJ', []), ('EZMVILBJW', []), ('ZMVILBJWA', []), ('BZXBOSYIC', []), ('ZXBOSYICA', []), ('XBOSYICAV', []), ('BOSYICAVY', []), ('OSYICAVYW', []), ('SYICAVYWL', []), ('YICAVYWLF', []), ('ICAVYWLFK', []), ('AVYWLFKVT', []), ('VYWLFKVTU', []), ('YWLFKVTUU', []), ('WLFKVTUUB', []), ('LFKVTUUBG', []), ('FKVTUUBGX', []), ('KVTUUBGXC', []), ('VTUUBGXCI', []), ('TUUBGXCIZ', []), ('UUBGXCIZE', []), ('UBGXCIZEO', []), ('BGXCIZEOM', []), ('GXCIZEOMV', []), ('XCIZEOMVI', []), ('CIZEOMVIL', []), ('IZEOMVILB', []), ('ZEOMVILBJ', []), ('EOMVILBJW', []), ('OMVILBJWA', []), ('BZXBOSYIG', []), ('ZXBOSYIGQ', []), ('XBOSYIGQA', []), ('BOSYIGQAM', []), ('OSYIGQAMW', []), ('SYIGQAMWZ', []), ('YIGQAMWZB', []), ('IGQAMWZBG', []), ('GQAMWZBGZ', []), ('QAMWZBGZT', []), ('AMWZBGZTG', []), ('MWZBGZTGA', []), ('WZBGZTGAX', []), ('ZBGZTGAXA', []), ('BGZTGAXAZ', []), ('GZTGAXAZQ', []), ('ZTGAXAZQO', []), ('TGAXAZQOW', []), ('GAXAZQOWN', []), ('AXAZQOWNQ', []), ('XAZQOWNQA', []), ('AZQOWNQAV', []), ('ZQOWNQAVI', []), ('QOWNQAVIL', []), ('OWNQAVILB', []), ('WNQAVILBJ', []), ('NQAVILBJW', []), ('QAVILBJWT', []), ('AVILBJWTQ', []), ('VILBJWTQK', []), ('ILBJWTQKH', []), ('LBJWTQKHB', []), ('BJWTQKHBG', []), ('JWTQKHBGW', []), ('WTQKHBGWK', []), ('TQKHBGWKZ', []), ('QKHBGWKZT', []), ('KHBGWKZTQ', []), ('HBGWKZTQA', []), ('BGWKZTQAX', []), ('GWKZTQAXB', []), ('WKZTQAXBF', []), ('KZTQAXBFB', []), ('ZTQAXBFBS', []), ('TQAXBFBSM', []), ('QAXBFBSMJ', []), ('AXBFBSMJA', []), ('XBFBSMJAZ', []), ('BFBSMJAZV', []), ('FBSMJAZVC', []), ('BSMJAZVCX', []), ('SMJAZVCXI', []), ('MJAZVCXIT', []), ('JAZVCXITQ', []), ('AZVCXITQC', []), ('ZVCXITQCM', []), ('VCXITQCML', []), ('CXITQCMLH', []), ('XITQCMLHF', []), ('ITQCMLHFN', []), ('TQCMLHFNI', []), ('QCMLHFNIG', []), ('CMLHFNIGV', []), ('MLHFNIGVD', []), ('LHFNIGVDA', []), ('HFNIGVDAL', []), ('FNIGVDALX', []), ('NIGVDALXG', []), ('IGVDALXGL', []), ('GVDALXGLF', []), ('VDALXGLFX', []), ('DALXGLFXW', []), ('ALXGLFXWL', []), ('LXGLFXWLX', []), ('XGLFXWLXI', []), ('GLFXWLXIL', []), ('LFXWLXILI', []), ('FXWLXILIY', []), ('XWLXILIYO', []), ('WLXILIYOS', []), ('LXILIYOSM', []), ('XILIYOSMN', []), ('ILIYOSMNF', []), ('LIYOSMNFI', []), ('BTTQLPRMY', []), ('TTQLPRMYB', []), ('TQLPRMYBI', []), ('QLPRMYBIK', []), ('LPRMYBIKO', []), ('PRMYBIKOP', []), ('RMYBIKOPZ', []), ('MYBIKOPZR', []), ('YBIKOPZRW', []), ('BIKOPZRWD', []), ('IKOPZRWDQ', []), ('KOPZRWDQJ', []), ('OPZRWDQJX', []), ('PZRWDQJXA', []), ('ZRWDQJXAZ', []), ('RWDQJXAZG', []), ('WDQJXAZGG', []), ('DQJXAZGGX', []), ('QJXAZGGXR', []), ('JXAZGGXRQ', []), ('XAZGGXRQV', []), ('AZGGXRQVW', []), ('ZGGXRQVWS', []), ('GGXRQVWSC', []), ('GXRQVWSCO', []), ('XRQVWSCOS', []), ('RQVWSCOSI', []), ('QVWSCOSIN', []), ('VWSCOSINQ', []), ('WSCOSINQR', []), ('SCOSINQRT', []), ('COSINQRTF', []), ('OSINQRTFE', []), ('SINQRTFEI', []), ('INQRTFEIY', []), ('NQRTFEIYM', []), ('QRTFEIYMM', []), ('RTFEIYMMA', []), ('TFEIYMMAK', []), ('FEIYMMAKB', []), ('EIYMMAKBC', []), ('IYMMAKBCY', []), ('YMMAKBCYS', []), ('MMAKBCYSY', []), ('MAKBCYSYX', []), ('AKBCYSYXO', []), ('KBCYSYXOD', []), ('BCYSYXODY', []), ('CYSYXODYN', []), ('YSYXODYNS', []), ('SYXODYNSD', []), ('YXODYNSDW', []), ('XODYNSDWT', []), ('ODYNSDWTW', []), ('DYNSDWTWL', []), ('YNSDWTWLA', []), ('NSDWTWLAP', []), ('SDWTWLAPT', []), ('DWTWLAPTQ', []), ('WTWLAPTQP', []), ('TWLAPTQPG', []), ('WLAPTQPGY', []), ('LAPTQPGYQ', []), ('APTQPGYQE', []), ('PTQPGYQEY', []), ('TQPGYQEYX', []), ('QPGYQEYXK', []), ('PGYQEYXKS', []), ('GYQEYXKSD', []), ('YQEYXKSDS', []), ('QEYXKSDSX', []), ('EYXKSDSXI', []), ('YXKSDSXIS', []), ('XKSDSXISH', []), ('KSDSXISHQ', []), ('SDSXISHQV', []), ('DSXISHQVH', []), ('SXISHQVHT', []), ('XISHQVHTA', []), ('ISHQVHTAG', []), ('SHQVHTAGL', []), ('HQVHTAGLE', []), ('QVHTAGLEX', []), ('VHTAGLEXI', []), ('HTAGLEXIL', []), ('TAGLEXILQ', []), ('AGLEXILQT', []), ('GLEXILQTF', []), ('LEXILQTFI', []), ('EXILQTFIC', []), ('XILQTFICN', []), ('ILQTFICNE', []), ('LQTFICNEB', []), ('QTFICNEBT', []), ('TFICNEBTB', []), ('FICNEBTBN', []), ('ICNEBTBNW', []), ('CNEBTBNWG', []), ('NEBTBNWGA', []), ('EBTBNWGAD', []), ('BTBNWGADQ', []), ('TBNWGADQT', []), ('BNWGADQTT', []), ('NWGADQTTJ', []), ('WGADQTTJT', []), ('GADQTTJTR', []), ('ADQTTJTRG', []), ('DQTTJTRGT', []), ('QTTJTRGTA', []), ('TTJTRGTAE', []), ('TJTRGTAEJ', []), ('JTRGTAEJH', []), ('TRGTAEJHZ', []), ('RGTAEJHZL', []), ('GTAEJHZLG', []), ('TAEJHZLGI', []), ('AEJHZLGIC', []), ('EJHZLGICR', []), ('JHZLGICRH', []), ('HZLGICRHI', []), ('ZLGICRHIL', []), ('LGICRHILR', []), ('GICRHILRP', []), ('ICRHILRPG', []), ('CRHILRPGG', []), ('RHILRPGGO', []), ('HILRPGGOR', []), ('ILRPGGORM', []), ('LRPGGORML', []), ('RPGGORMLT', []), ('PGGORMLTP', []), ('GGORMLTPW', []), ('GORMLTPWS', []), ('ORMLTPWSY', []), ('RMLTPWSYY', []), ('MLTPWSYYU', []), ('LTPWSYYUQ', []), ('TPWSYYUQB', []), ('PWSYYUQBX', []), ('WSYYUQBXS', []), ('SYYUQBXSY', []), ('YYUQBXSYJ', []), ('YUQBXSYJO', []), ('UQBXSYJOI', []), ('QBXSYJOIN', []), ('BXSYJOINM', []), ('XSYJOINMB', []), ('SYJOINMBB', []), ('YJOINMBBM', []), ('JOINMBBML', []), ('OINMBBMLZ', []), ('INMBBMLZG', []), ('NMBBMLZGO', []), ('MBBMLZGOE', []), ('BBMLZGOEZ', []), ('BMLZGOEZB', []), ('MLZGOEZBX', []), ('LZGOEZBXE', []), ('ZGOEZBXEF', []), ('GOEZBXEFS', []), ('OEZBXEFSZ', []), ('EZBXEFSZM', []), ('ZBXEFSZMR', []), ('BXEFSZMRA', []), ('XEFSZMRAL', []), ('EFSZMRALX', []), ('FSZMRALXO', []), ('SZMRALXOE', []), ('ZMRALXOEO', []), ('MRALXOEOS', []), ('RALXOEOSJ', []), ('ALXOEOSJI', []), ('LXOEOSJIQ', []), ('XOEOSJIQV', []), ('OEOSJIQVT', []), ('EOSJIQVTD', []), ('OSJIQVTDC', []), ('SJIQVTDCS', []), ('JIQVTDCST', []), ('IQVTDCSTL', []), ('QVTDCSTLE', []), ('VTDCSTLEM', []), ('TDCSTLEMK', []), ('DCSTLEMKH', []), ('CSTLEMKHA', []), ('STLEMKHAF', []), ('TLEMKHAFB', []), ('LEMKHAFBO', []), ('EMKHAFBOK', []), ('MKHAFBOKA', []), ('KHAFBOKAD', []), ('HAFBOKADB', []), ('AFBOKADBX', []), ('FBOKADBXO', []), ('BOKADBXOD', []), ('OKADBXODW', []), ('KADBXODWK', []), ('ADBXODWKA', []), ('DBXODWKAC', []), ('BXODWKACA', []), ('XODWKACAU', []), ('ODWKACAUH', []), ('DWKACAUHQ', []), ('WKACAUHQZ', []), ('KACAUHQZB', []), ('ACAUHQZBY', []), ('CAUHQZBYQ', []), ('AUHQZBYQG', []), ('UHQZBYQGG', []), ('HQZBYQGGM', []), ('QZBYQGGML', []), ('ZBYQGGMLE', []), ('BYQGGMLEF', []), ('YQGGMLEFS', []), ('QGGMLEFSR', []), ('GGMLEFSRI', []), ('GMLEFSRIG', []), ('MLEFSRIGQ', []), ('LEFSRIGQV', []), ('EFSRIGQVM', []), ('FSRIGQVMS', []), ('SRIGQVMSN', []), ('RIGQVMSNC', []), ('IGQVMSNCT', []), ('GQVMSNCTN', []), ('QVMSNCTNI', []), ('VMSNCTNIQ', []), ('MSNCTNIQM', []), ('SNCTNIQMG', []), ('NCTNIQMGH', []), ('CTNIQMGHT', []), ('TNIQMGHTM', []), ('NIQMGHTMY', []), ('IQMGHTMYM', []), ('QMGHTMYMD', []), ('MGHTMYMDQ', []), ('GHTMYMDQR', []), ('HTMYMDQRX', []), ('TMYMDQRXW', []), ('MYMDQRXWY', []), ('YMDQRXWYT', []), ('MDQRXWYTR', []), ('DQRXWYTRC', []), ('QRXWYTRCI', []), ('RXWYTRCID', []), ('XWYTRCIDX', []), ('WYTRCIDXH', []), ('YTRCIDXHF', []), ('TRCIDXHFE', []), ('RCIDXHFEW', []), ('CIDXHFEWE', []), ('IDXHFEWEJ', []), ('DXHFEWEJU', []), ('XHFEWEJUE', []), ('HFEWEJUEK', []), ('FEWEJUEKT', []), ('EWEJUEKTI', []), ('WEJUEKTIY', []), ('EJUEKTIYO', []), ('JUEKTIYOS', []), ('UEKTIYOSM', []), ('EKTIYOSMN', []), ('KTIYOSMNF', []), ('TIYOSMNFI', []), ('BTTQLPRMS', []), ('TTQLPRMSQ', []), ('TQLPRMSQB', []), ('QLPRMSQBK', []), ('LPRMSQBKO', []), ('PRMSQBKOE', []), ('RMSQBKOEO', []), ('MSQBKOEOJ', []), ('SQBKOEOJM', []), ('QBKOEOJMC', []), ('BKOEOJMCA', []), ('KOEOJMCAV', []), ('OEOJMCAVY', []), ('EOJMCAVYW', []), ('OJMCAVYWL', []), ('JMCAVYWLF', []), ('MCAVYWLFK', []), ('AVYWLFKVQ', []), ('VYWLFKVQG', []), ('YWLFKVQGM', []), ('WLFKVQGMM', []), ('LFKVQGMMW', []), ('FKVQGMMWP', []), ('KVQGMMWPB', []), ('VQGMMWPBK', []), ('QGMMWPBKA', []), ('GMMWPBKAL', []), ('MMWPBKALM', []), ('MWPBKALMK', []), ('WPBKALMKT', []), ('PBKALMKTD', []), ('BKALMKTDL', []), ('KALMKTDLQ', []), ('ALMKTDLQO', []), ('LMKTDLQOL', []), ('MKTDLQOLA', []), ('KTDLQOLAP', []), ('TDLQOLAPL', []), ('DLQOLAPLX', []), ('LQOLAPLXJ', []), ('QOLAPLXJP', []), ('OLAPLXJPF', []), ('LAPLXJPFR', []), ('APLXJPFRI', []), ('PLXJPFRIS', []), ('LXJPFRISO', []), ('XJPFRISOW', []), ('JPFRISOWL', []), ('PFRISOWLO', []), ('FRISOWLOD', []), ('RISOWLODO', []), ('ISOWLODOZ', []), ('SOWLODOZZ', []), ('OWLODOZZA', []), ('WLODOZZAH', []), ('LODOZZAHM', []), ('ODOZZAHML', []), ('DOZZAHMLR', []), ('OZZAHMLRP', []), ('ZZAHMLRPM', []), ('ZAHMLRPMG', []), ('AHMLRPMGY', []), ('HMLRPMGYU', []), ('MLRPMGYUQ', []), ('LRPMGYUQV', []), ('RPMGYUQVH', []), ('PMGYUQVHG', []), ('MGYUQVHGP', []), ('GYUQVHGPH', []), ('YUQVHGPHX', []), ('UQVHGPHXI', []), ('QVHGPHXIT', []), ('VHGPHXITM', []), ('HGPHXITML', []), ('GPHXITMLX', []), ('PHXITMLXB', []), ('HXITMLXBP', []), ('XITMLXBPU', []), ('ITMLXBPUU', []), ('TMLXBPUUK', []), ('MLXBPUUKI', []), ('LXBPUUKIM', []), ('XBPUUKIMZ', []), ('BPUUKIMZV', []), ('PUUKIMZVC', []), ('UUKIMZVCY', []), ('UKIMZVCYH', []), ('KIMZVCYHO', []), ('IMZVCYHOO', []), ('MZVCYHOOO', []), ('ZVCYHOOOK', []), ('VCYHOOOKR', []), ('CYHOOOKRN', []), ('YHOOOKRNG', []), ('HOOOKRNGE', []), ('OOOKRNGEW', []), ('OOKRNGEWL', []), ('OKRNGEWLQ', []), ('KRNGEWLQC', []), ('RNGEWLQCM', []), ('NGEWLQCMZ', []), ('GEWLQCMZM', []), ('EWLQCMZMC', []), ('WLQCMZMCO', []), ('LQCMZMCOO', []), ('QCMZMCOOY', []), ('CMZMCOOYT', []), ('MZMCOOYTA', []), ('ZMCOOYTAE', []), ('MCOOYTAEK', []), ('COOYTAEKH', []), ('OOYTAEKHG', []), ('OYTAEKHGL', []), ('YTAEKHGLG', []), ('TAEKHGLGW', []), ('AEKHGLGWC', []), ('EKHGLGWCE', []), ('KHGLGWCET', []), ('HGLGWCETI', []), ('GLGWCETIV', []), ('LGWCETIVS', []), ('GWCETIVSD', []), ('WCETIVSDA', []), ('CETIVSDAG', []), ('ETIVSDAGT', []), ('TIVSDAGTP', []), ('IVSDAGTPA', []), ('VSDAGTPAZ', []), ('SDAGTPAZJ', []), ('DAGTPAZJI', []), ('AGTPAZJIP', []), ('GTPAZJIPG', []), ('TPAZJIPGU', []), ('PAZJIPGUU', []), ('AZJIPGUUO', []), ('ZJIPGUUOE', []), ('JIPGUUOEU', []), ('IPGUUOEUT', []), ('PGUUOEUTE', []), ('GUUOEUTEF', []), ('UUOEUTEFW', []), ('UOEUTEFWT', []), ('OEUTEFWTQ', []), ('EUTEFWTQT', []), ('UTEFWTQTM', []), ('TEFWTQTMA', []), ('EFWTQTMAW', []), ('FWTQTMAWS', []), ('WTQTMAWSY', []), ('TQTMAWSYO', []), ('QTMAWSYOX', []), ('TMAWSYOXZ', []), ('MAWSYOXZA', []), ('AWSYOXZAF', []), ('WSYOXZAFQ', []), ('SYOXZAFQO', []), ('YOXZAFQOO', []), ('OXZAFQOOD', []), ('XZAFQOODD', []), ('ZAFQOODDG', []), ('AFQOODDGZ', []), ('FQOODDGZA', []), ('QOODDGZAO', []), ('OODDGZAOC', []), ('ODDGZAOCT', []), ('DDGZAOCTZ', []), ('DGZAOCTZB', []), ('GZAOCTZBI', []), ('ZAOCTZBIO', []), ('AOCTZBIOM', []), ('OCTZBIOMR', []), ('CTZBIOMRO', []), ('TZBIOMROW', []), ('ZBIOMROWL', []), ('BIOMROWLO', []), ('IOMROWLOY', []), ('OMROWLOYC', []), ('MROWLOYCY', []), ('ROWLOYCYK', []), ('OWLOYCYKR', []), ('WLOYCYKRQ', []), ('LOYCYKRQI', []), ('OYCYKRQIF', []), ('YCYKRQIFC', []), ('CYKRQIFCD', []), ('YKRQIFCDI', []), ('KRQIFCDIT', []), ('RQIFCDITI', []), ('QIFCDITIH', []), ('IFCDITIHU', []), ('FCDITIHUA', []), ('CDITIHUAM', []), ('DITIHUAMC', []), ('ITIHUAMCC', []), ('TIHUAMCCW', []), ('IHUAMCCWG', []), ('HUAMCCWGY', []), ('UAMCCWGYU', []), ('AMCCWGYUQ', []), ('MCCWGYUQR', []), ('CCWGYUQRN', []), ('CWGYUQRNG', []), ('WGYUQRNGE', []), ('GYUQRNGEW', []), ('YUQRNGEWL', []), ('UQRNGEWLQ', []), ('QRNGEWLQQ', []), ('RNGEWLQQG', []), ('NGEWLQQGM', []), ('GEWLQQGME', []), ('EWLQQGMEC', []), ('WLQQGMECB', []), ('LQQGMECBI', []), ('QQGMECBIK', []), ('QGMECBIKP', []), ('GMECBIKPA', []), ('MECBIKPAO', []), ('ECBIKPAOM', []), ('CBIKPAOMF', []), ('BIKPAOMFC', []), ('IKPAOMFCD', []), ('KPAOMFCDD', []), ('PAOMFCDDK', []), ('AOMFCDDKZ', []), ('OMFCDDKZO', []), ('MFCDDKZOD', []), ('FCDDKZODM', []), ('CDDKZODMT', []), ('DDKZODMTZ', []), ('DKZODMTZX', []), ('KZODMTZXS', []), ('ZODMTZXST', []), ('ODMTZXSTB', []), ('DMTZXSTBE', []), ('MTZXSTBEZ', []), ('TZXSTBEZW', []), ('ZXSTBEZWA', []), ('XSTBEZWAO', []), ('STBEZWAON', []), ('TBEZWAONS', []), ('BEZWAONSS', []), ('EZWAONSSW', []), ('ZWAONSSWS', []), ('WAONSSWSX', []), ('AONSSWSXW', []), ('ONSSWSXWJ', []), ('NSSWSXWJI', []), ('SSWSXWJIP', []), ('SWSXWJIPE', []), ('WSXWJIPEA', []), ('SXWJIPEAM', []), ('XWJIPEAMR', []), ('WJIPEAMRQ', []), ('JIPEAMRQU', []), ('IPEAMRQUH', []), ('PEAMRQUHG', []), ('EAMRQUHGS', []), ('AMRQUHGSO', []), ('MRQUHGSOI', []), ('RQUHGSOIM', []), ('QUHGSOIMR', []), ('UHGSOIMRK', []), ('HGSOIMRKI', []), ('GSOIMRKIJ', []), ('SOIMRKIJI', []), ('OIMRKIJIP', []), ('IMRKIJIPG', []), ('MRKIJIPGU', []), ('RKIJIPGUU', []), ('KIJIPGUUO', []), ('IJIPGUUOE', []), ('JIPGUUOEX', []), ('IPGUUOEXK', []), ('PGUUOEXKC', []), ('GUUOEXKCO', []), ('UUOEXKCOI', []), ('UOEXKCOII', []), ('OEXKCOIIB', []), ('EXKCOIIBO', []), ('XKCOIIBOE', []), ('KCOIIBOEL', []), ('COIIBOELX', []), ('OIIBOELXZ', []), ('IIBOELXZN', []), ('IBOELXZNC', []), ('BOELXZNCT', []), ('OELXZNCTB', []), ('ELXZNCTBE', []), ('LXZNCTBEJ', []), ('XZNCTBEJB', []), ('ZNCTBEJBH', []), ('NCTBEJBHM', []), ('CTBEJBHMP', []), ('TBEJBHMPG', []), ('BEJBHMPGZ', []), ('EJBHMPGZM', []), ('JBHMPGZME', []), ('BHMPGZMEE', []), ('HMPGZMEEB', []), ('MPGZMEEBX', []), ('PGZMEEBXH', []), ('GZMEEBXHC', []), ('ZMEEBXHCW', []), ('MEEBXHCWI', []), ('EEBXHCWIW', []), ('EBXHCWIWA', []), ('BXHCWIWAE', []), ('XHCWIWAEQ', []), ('HCWIWAEQJ', []), ('CWIWAEQJI', []), ('WIWAEQJIP', []), ('IWAEQJIPA', []), ('WAEQJIPAK', []), ('AEQJIPAKR', []), ('EQJIPAKRO', []), ('QJIPAKROD', []), ('JIPAKRODM', []), ('IPAKRODMG', []), ('PAKRODMGS', []), ('AKRODMGSD', []), ('KRODMGSDH', []), ('RODMGSDHG', []), ('ODMGSDHGD', []), ('DMGSDHGDI', []), ('SDHGDIPIU', []), ('DHGDIPIUI', []), ('HGDIPIUID', []), ('GDIPIUIDQ', []), ('DIPIUIDQG', []), ('IPIUIDQGB', []), ('PIUIDQGBU', []), ('IUIDQGBUB', []), ('UIDQGBUBZ', []), ('IDQGBUBZH', []), ('DQGBUBZHD', []), ('QGBUBZHDZ', []), ('GBUBZHDZG', []), ('BUBZHDZGO', []), ('UBZHDZGOB', []), ('BZHDZGOBO', []), ('ZHDZGOBOK', []), ('HDZGOBOKZ', []), ('DZGOBOKZX', []), ('ZGOBOKZXQ', []), ('GOBOKZXQF', []), ('OBOKZXQFS', []), ('BOKZXQFSX', []), ('OKZXQFSXL', []), ('KZXQFSXLA', []), ('ZXQFSXLAC', []), ('XQFSXLACC', []), ('QFSXLACCX', []), ('FSXLACCXS', []), ('SXLACCXSD', []), ('XLACCXSDH', []), ('LACCXSDHK', []), ('ACCXSDHKV', []), ('CCXSDHKVO', []), ('CXSDHKVOQ', []), ('XSDHKVOQA', []), ('SDHKVOQAM', []), ('DHKVOQAMO', []), ('HKVOQAMOP', []), ('KVOQAMOPB', []), ('VOQAMOPBR', []), ('OQAMOPBRI', []), ('QAMOPBRIS', []), ('AMOPBRISD', []), ('MOPBRISDM', []), ('OPBRISDMW', []), ('PBRISDMWS', []), ('BRISDMWSD', []), ('RISDMWSDG', []), ('ISDMWSDGU', []), ('SDMWSDGUK', []), ('DMWSDGUKI', []), ('MWSDGUKIM', []), ('WSDGUKIMT', []), ('SDGUKIMTX', []), ('DGUKIMTXG', []), ('GUKIMTXGY', []), ('UKIMTXGYW', []), ('KIMTXGYWK', []), ('IMTXGYWKV', []), ('MTXGYWKVA', []), ('TXGYWKVAX', []), ('XGYWKVAXO', []), ('GYWKVAXON', []), ('YWKVAXONB', []), ('WKVAXONBL', []), ('KVAXONBLV', []), ('VAXONBLVK', []), ('AXONBLVKZ', []), ('XONBLVKZR', []), ('ONBLVKZRM', []), ('NBLVKZRMU', []), ('BLVKZRMUB', []), ('LVKZRMUBS', []), ('VKZRMUBSY', []), ('KZRMUBSYH', []), ('ZRMUBSYHG', []), ('RMUBSYHGL', []), ('MUBSYHGLE', []), ('UBSYHGLEX', []), ('BSYHGLEXA', []), ('SYHGLEXAB', []), ('YHGLEXABG', []), ('HGLEXABGE', []), ('GLEXABGES', []), ('LEXABGESS', []), ('EXABGESSI', []), ('XABGESSIQ', []), ('ABGESSIQG', []), ('BGESSIQGM', []), ('GESSIQGMM', []), ('ESSIQGMMS', []), ('SSIQGMMSM', []), ('SIQGMMSMF', []), ('IQGMMSMFO', []), ('QGMMSMFOV', []), ('GMMSMFOVD', []), ('MMSMFOVDQ', []), ('MSMFOVDQA', []), ('SMFOVDQAT', []), ('MFOVDQATH', []), ('FOVDQATHT', []), ('OVDQATHTG', []), ('VDQATHTGL', []), ('DQATHTGLI', []), ('QATHTGLIC', []), ('ATHTGLICO', []), ('THTGLICOQ', []), ('HTGLICOQH', []), ('TGLICOQHB', []), ('GLICOQHBT', []), ('LICOQHBTB', []), ('ICOQHBTBY', []), ('COQHBTBYB', []), ('OQHBTBYBA', []), ('QHBTBYBAZ', []), ('HBTBYBAZB', []), ('BTBYBAZBT', []), ('TBYBAZBTB', []), ('BYBAZBTBE', []), ('YBAZBTBEO', []), ('BAZBTBEOT', []), ('AZBTBEOTM', []), ('ZBTBEOTMA', []), ('BTBEOTMAO', []), ('TBEOTMAOC', []), ('BEOTMAOCB', []), ('EOTMAOCBR', []), ('OTMAOCBRL', []), ('TMAOCBRLR', []), ('MAOCBRLRK', []), ('AOCBRLRKT', []), ('OCBRLRKTO', []), ('CBRLRKTOE', []), ('BRLRKTOEB', []), ('RLRKTOEBN', []), ('LRKTOEBNM', []), ('RKTOEBNMZ', []), ('KTOEBNMZG', []), ('TOEBNMZGE', []), ('OEBNMZGEB', []), ('EBNMZGEBO', []), ('BNMZGEBOY', []), ('NMZGEBOYI', []), ('MZGEBOYIX', []), ('ZGEBOYIXZ', []), ('GEBOYIXZN', []), ('EBOYIXZNC', []), ('BOYIXZNCT', []), ('OYIXZNCTB', []), ('YIXZNCTBR', []), ('IXZNCTBRA', []), ('XZNCTBRAT', []), ('ZNCTBRATW', []), ('NCTBRATWS', []), ('CTBRATWSE', []), ('TBRATWSEI', []), ('BRATWSEIB', []), ('RATWSEIBQ', []), ('ATWSEIBQD', []), ('TWSEIBQDM', []), ('WSEIBQDMP', []), ('SEIBQDMPX', []), ('EIBQDMPXF', []), ('IBQDMPXFC', []), ('BQDMPXFCO', []), ('QDMPXFCOS', []), ('DMPXFCOSQ', []), ('MPXFCOSQE', []), ('PXFCOSQEZ', []), ('XFCOSQEZB', []), ('FCOSQEZBT', []), ('COSQEZBTG', []), ('OSQEZBTGX', []), ('SQEZBTGXI', []), ('QEZBTGXIE', []), ('EZBTGXIEJ', []), ('ZBTGXIEJE', []), ('BTGXIEJEZ', []), ('TGXIEJEZM', []), ('GXIEJEZMY', []), ('XIEJEZMYW', []), ('IEJEZMYWN', []), ('EJEZMYWNW', []), ('JEZMYWNWU', []), ('EZMYWNWUA', []), ('ZMYWNWUAA', []), ('MYWNWUAAE', []), ('YWNWUAAEM', []), ('WNWUAAEMG', []), ('NWUAAEMGS', []), ('WUAAEMGSW', []), ('UAAEMGSWO', []), ('AAEMGSWON', []), ('AEMGSWONW', []), ('EMGSWONWR', []), ('MGSWONWRM', []), ('GSWONWRMM', []), ('SWONWRMML', []), ('WONWRMMLS', []), ('ONWRMMLSD', []), ('NWRMMLSDA', []), ('WRMMLSDAK', []), ('RMMLSDAKL', []), ('MMLSDAKLI', []), ('MLSDAKLIF', []), ('LSDAKLIFI', []), ('SDAKLIFIK', []), ('DAKLIFIKM', []), ('AKLIFIKMO', []), ('KLIFIKMOC', []), ('LIFIKMOCX', []), ('IFIKMOCXU', []), ('FIKMOCXUI', []), ('IKMOCXUID', []), ('KMOCXUIDJ', []), ('MOCXUIDJB', []), ('OCXUIDJBS', []), ('CXUIDJBSY', []), ('XUIDJBSYM', []), ('UIDJBSYMG', []), ('IDJBSYMGY', []), ('DJBSYMGYU', []), ('JBSYMGYUQ', []), ('BSYMGYUQM', []), ('SYMGYUQML', []), ('YMGYUQMLZ', []), ('MGYUQMLZZ', []), ('GYUQMLZZE', []), ('YUQMLZZEA', []), ('UQMLZZEAM', []), ('QMLZZEAMD', []), ('MLZZEAMDQ', []), ('LZZEAMDQJ', []), ('ZZEAMDQJX', []), ('ZEAMDQJXA', []), ('EAMDQJXAZ', []), ('AMDQJXAZG', []), ('MDQJXAZGN', []), ('DQJXAZGNI', []), ('QJXAZGNIC', []), ('JXAZGNICQ', []), ('XAZGNICQZ', []), ('AZGNICQZL', []), ('ZGNICQZLS', []), ('GNICQZLSR', []), ('NICQZLSRI', []), ('ICQZLSRIT', []), ('CQZLSRITT', []), ('QZLSRITTA', []), ('ZLSRITTAZ', []), ('LSRITTAZI', []), ('SRITTAZIM', []), ('RITTAZIMI', []), ('ITTAZIMIC', []), ('TTAZIMICO', []), ('TAZIMICOR', []), ('AZIMICORM', []), ('ZIMICORMZ', []), ('IMICORMZM', []), ('MICORMZMM', []), ('ICORMZMML', []), ('CORMZMMLH', []), ('ORMZMMLHL', []), ('RMZMMLHLE', []), ('MZMMLHLEA', []), ('ZMMLHLEAQ', []), ('MMLHLEAQE', []), ('MLHLEAQED', []), ('LHLEAQEDM', []), ('HLEAQEDMJ', []), ('LEAQEDMJI', []), ('EAQEDMJIP', []), ('AQEDMJIPR', []), ('QEDMJIPRA', []), ('EDMJIPRAZ', []), ('DMJIPRAZM', []), ('MJIPRAZMM', []), ('JIPRAZMMU', []), ('IPRAZMMUH', []), ('PRAZMMUHG', []), ('RAZMMUHGZ', []), ('AZMMUHGZQ', []), ('ZMMUHGZQN', []), ('MMUHGZQNW', []), ('MUHGZQNWH', []), ('UHGZQNWHA', []), ('HGZQNWHAZ', []), ('GZQNWHAZT', []), ('ZQNWHAZTG', []), ('QNWHAZTGL', []), ('NWHAZTGLI', []), ('WHAZTGLIT', []), ('HAZTGLITY', []), ('AZTGLITYU', []), ('ZTGLITYUQ', []), ('TGLITYUQD', []), ('GLITYUQDB', []), ('LITYUQDBJ', []), ('ITYUQDBJL', []), ('TYUQDBJLA', []), ('YUQDBJLAU', []), ('UQDBJLAUA', []), ('QDBJLAUAE', []), ('DBJLAUAEZ', []), ('BJLAUAEZC', []), ('JLAUAEZCG', []), ('LAUAEZCGA', []), ('AUAEZCGAF', []), ('UAEZCGAFB', []), ('AEZCGAFBJ', []), ('EZCGAFBJW', []), ('ZCGAFBJWQ', []), ('CGAFBJWQG', []), ('GAFBJWQGM', []), ('AFBJWQGMU', []), ('FBJWQGMUI', []), ('BJWQGMUID', []), ('JWQGMUIDQ', []), ('WQGMUIDQG', []), ('QGMUIDQGT', []), ('GMUIDQGTA', []), ('MUIDQGTAB', []), ('UIDQGTABZ', []), ('IDQGTABZB', []), ('DQGTABZBJ', []), ('QGTABZBJL', []), ('GTABZBJLQ', []), ('TABZBJLQO', []), ('ABZBJLQOW', []), ('BZBJLQOWN', []), ('ZBJLQOWNP', []), ('BJLQOWNPM', []), ('JLQOWNPME', []), ('LQOWNPMEG', []), ('QOWNPMEGF', []), ('OWNPMEGFS', []), ('WNPMEGFST', []), ('NPMEGFSTW', []), ('PMEGFSTWY', []), ('MEGFSTWYD', []), ('EGFSTWYDM', []), ('GFSTWYDMV', []), ('FSTWYDMVI', []), ('STWYDMVIP', []), ('TWYDMVIPF', []), ('WYDMVIPFJ', []), ('YDMVIPFJI', []), ('DMVIPFJIQ', []), ('MVIPFJIQG', []), ('VIPFJIQGM', []), ('IPFJIQGME', []), ('PFJIQGMEC', []), ('FJIQGMECX', []), ('JIQGMECXO', []), ('IQGMECXOY', []), ('QGMECXOYQ', []), ('GMECXOYQM', []), ('MECXOYQMB', []), ('ECXOYQMBW', []), ('CXOYQMBWK', []), ('XOYQMBWKH', []), ('OYQMBWKHL', []), ('YQMBWKHLB', []), ('QMBWKHLBZ', []), ('MBWKHLBZM', []), ('BWKHLBZME', []), ('WKHLBZMEE', []), ('KHLBZMEEP', []), ('HLBZMEEPT', []), ('LBZMEEPTQ', []), ('BZMEEPTQP', []), ('ZMEEPTQPF', []), ('MEEPTQPFE', []), ('EEPTQPFEB', []), ('EPTQPFEBR', []), ('PTQPFEBRM', []), ('TQPFEBRMJ', []), ('QPFEBRMJT', []), ('PFEBRMJTX', []), ('FEBRMJTXL', []), ('EBRMJTXLF', []), ('BRMJTXLFI', []), ('RMJTXLFIW', []), ('MJTXLFIWN', []), ('JTXLFIWNF', []), ('TXLFIWNFW', []), ('XLFIWNFWW', []), ('LFIWNFWWO', []), ('FIWNFWWOE', []), ('IWNFWWOEI', []), ('WNFWWOEIK', []), ('NFWWOEIKV', []), ('FWWOEIKVE', []), ('WWOEIKVED', []), ('WOEIKVEDO', []), ('OEIKVEDOB', []), ('EIKVEDOBO', []), ('IKVEDOBOP', []), ('KVEDOBOPB', []), ('VEDOBOPBL', []), ('EDOBOPBLW', []), ('DOBOPBLWC', []), ('OBOPBLWCM', []), ('BOPBLWCML', []), ('OPBLWCMLT', []), ('PBLWCMLTM', []), ('BLWCMLTMY', []), ('LWCMLTMYC', []), ('WCMLTMYCY', []), ('CMLTMYCYW', []), ('MLTMYCYWL', []), ('LTMYCYWLA', []), ('TMYCYWLAX', []), ('MYCYWLAXX', []), ('YCYWLAXXB', []), ('CYWLAXXBD', []), ('YWLAXXBDO', []), ('WLAXXBDOX', []), ('LAXXBDOXX', []), ('AXXBDOXXO', []), ('XXBDOXXOD', []), ('XBDOXXODY', []), ('BDOXXODYN', []), ('DOXXODYNS', []), ('OXXODYNSY', []), ('XXODYNSYC', []), ('XODYNSYCB', []), ('ODYNSYCBQ', []), ('DYNSYCBQV', []), ('YNSYCBQVU', []), ('NSYCBQVUU', []), ('SYCBQVUUH', []), ('YCBQVUUHG', []), ('CBQVUUHGP', []), ('BQVUUHGPB', []), ('QVUUHGPBA', []), ('VUUHGPBAV', []), ('UUHGPBAVM', []), ('UHGPBAVMG', []), ('HGPBAVMGV', []), ('GPBAVMGVW', []), ('PBAVMGVWC', []), ('BAVMGVWCT', []), ('AVMGVWCTR', []), ('VMGVWCTRK', []), ('MGVWCTRKI', []), ('GVWCTRKIL', []), ('VWCTRKILU', []), ('WCTRKILUA', []), ('CTRKILUAM', []), ('TRKILUAMO', []), ('RKILUAMOY', []), ('KILUAMOYC', []), ('ILUAMOYCV', []), ('LUAMOYCVM', []), ('UAMOYCVMR', []), ('AMOYCVMRY', []), ('MOYCVMRYQ', []), ('OYCVMRYQM', []), ('YCVMRYQMO', []), ('CVMRYQMOD', []), ('VMRYQMODE', []), ('MRYQMODEA', []), ('RYQMODEAM', []), ('YQMODEAME', []), ('QMODEAMEX', []), ('MODEAMEXN', []), ('ODEAMEXNN', []), ('DEAMEXNNS', []), ('EAMEXNNSR', []), ('AMEXNNSRC', []), ('MEXNNSRCJ', []), ('EXNNSRCJM', []), ('XNNSRCJMT', []), ('NNSRCJMTG', []), ('NSRCJMTGI', []), ('SRCJMTGIE', []), ('RCJMTGIEA', []), ('CJMTGIEAL', []), ('JMTGIEALG', []), ('MTGIEALGK', []), ('TGIEALGKI', []), ('GIEALGKIP', []), ('IEALGKIPM', []), ('EALGKIPMO', []), ('ALGKIPMON', []), ('LGKIPMONS', []), ('GKIPMONSJ', []), ('KIPMONSJQ', []), ('IPMONSJQU', []), ('PMONSJQUV', []), ('MONSJQUVO', []), ('ONSJQUVOO', []), ('NSJQUVOOM', []), ('SJQUVOOMX', []), ('JQUVOOMXZ', []), ('QUVOOMXZG', []), ('UVOOMXZGO', []), ('VOOMXZGOR', []), ('OOMXZGORW', []), ('OMXZGORWR', []), ('MXZGORWRP', []), ('XZGORWRPM', []), ('ZGORWRPMM', []), ('GORWRPMMI', []), ('ORWRPMMID', []), ('RWRPMMIDS', []), ('WRPMMIDSX', []), ('RPMMIDSXX', []), ('PMMIDSXXA', []), ('MMIDSXXAD', []), ('MIDSXXADI', []), ('IDSXXADIJ', []), ('DSXXADIJI', []), ('SXXADIJIP', []), ('XXADIJIPH', []), ('XADIJIPHK', []), ('ADIJIPHKL', []), ('DIJIPHKLE', []), ('IJIPHKLEE', []), ('JIPHKLEEM', []), ('IPHKLEEME', []), ('PHKLEEMEF', []), ('HKLEEMEFP', []), ('KLEEMEFPG', []), ('LEEMEFPGV', []), ('EEMEFPGVM', []), ('EMEFPGVMT', []), ('MEFPGVMTA', []), ('EFPGVMTAY', []), ('FPGVMTAYN', []), ('PGVMTAYNS', []), ('GVMTAYNSE', []), ('VMTAYNSES', []), ('MTAYNSESS', []), ('TAYNSESSM', []), ('AYNSESSMR', []), ('YNSESSMRQ', []), ('NSESSMRQK', []), ('SESSMRQKX', []), ('ESSMRQKXG', []), ('SSMRQKXGJ', []), ('SMRQKXGJB', []), ('MRQKXGJBU', []), ('RQKXGJBUX', []), ('QKXGJBUXR', []), ('KXGJBUXRQ', []), ('XGJBUXRQB', []), ('GJBUXRQBX', []), ('JBUXRQBXB', []), ('BUXRQBXBO', []), ('UXRQBXBOO', []), ('XRQBXBOOY', []), ('RQBXBOOYY', []), ('QBXBOOYYU', []), ('BXBOOYYUQ', []), ('XBOOYYUQT', []), ('BOOYYUQTT', []), ('OOYYUQTTG', []), ('OYYUQTTGN', []), ('YYUQTTGNC', []), ('YUQTTGNCY', []), ('UQTTGNCYI', []), ('QTTGNCYIS', []), ('TTGNCYISO', []), ('TGNCYISOI', []), ('GNCYISOIF', []), ('NCYISOIFP', []), ('CYISOIFPT', []), ('YISOIFPTS', []), ('ISOIFPTST', []), ('SOIFPTSTI', []), ('OIFPTSTIC', []), ('IFPTSTICF', []), ('FPTSTICFC', []), ('PTSTICFCT', []), ('TSTICFCTB', []), ('STICFCTBO', []), ('TICFCTBOC', []), ('ICFCTBOCY', []), ('CFCTBOCYQ', []), ('FCTBOCYQE', []), ('CTBOCYQEY', []), ('TBOCYQEYX', []), ('BOCYQEYXK', []), ('OCYQEYXKS', []), ('CYQEYXKST', []), ('YQEYXKSTU', []), ('QEYXKSTUA', []), ('EYXKSTUAI', []), ('YXKSTUAIL', []), ('XKSTUAILK', []), ('KSTUAILKI', []), ('STUAILKIJ', []), ('TUAILKIJI', []), ('UAILKIJIP', []), ('AILKIJIPH', []), ('ILKIJIPHA', []), ('LKIJIPHAL', []), ('KIJIPHALE', []), ('IJIPHALER', []), ('JIPHALERQ', []), ('IPHALERQG', []), ('PHALERQGW', []), ('HALERQGWN', []), ('ALERQGWNW', []), ('LERQGWNWU', []), ('ERQGWNWUV', []), ('RQGWNWUVD', []), ('QGWNWUVDQ', []), ('GWNWUVDQM', []), ('WNWUVDQMQ', []), ('NWUVDQMQW', []), ('WUVDQMQWE', []), ('UVDQMQWEC', []), ('VDQMQWECY', []), ('DQMQWECYW', []), ('QMQWECYWL', []), ('MQWECYWLA', []), ('QWECYWLAA', []), ('WECYWLAAX', []), ('ECYWLAAXO', []), ('CYWLAAXOW', []), ('YWLAAXOWQ', []), ('WLAAXOWQG', []), ('LAAXOWQGV', []), ('AAXOWQGVZ', []), ('AXOWQGVZM', []), ('XOWQGVZMB', []), ('OWQGVZMBK', []), ('WQGVZMBKO', []), ('QGVZMBKOM', []), ('GVZMBKOMO', []), ('VZMBKOMOP', []), ('ZMBKOMOPI', []), ('MBKOMOPIN', []), ('BKOMOPINP', []), ('KOMOPINPW', []), ('OMOPINPWX', []), ('MOPINPWXB', []), ('OPINPWXBE', []), ('PINPWXBEW', []), ('INPWXBEWR', []), ('NPWXBEWRW', []), ('PWXBEWRWD', []), ('WXBEWRWDQ', []), ('XBEWRWDQU', []), ('BEWRWDQUT', []), ('EWRWDQUTG', []), ('WRWDQUTGG', []), ('RWDQUTGGW', []), ('WDQUTGGWK', []), ('DQUTGGWKV', []), ('QUTGGWKVE', []), ('UTGGWKVEF', []), ('TGGWKVEFC', []), ('GGWKVEFCW', []), ('GWKVEFCWS', []), ('WKVEFCWSM', []), ('KVEFCWSMS', []), ('VEFCWSMSY', []), ('EFCWSMSYM', []), ('FCWSMSYMS', []), ('CWSMSYMSF', []), ('WSMSYMSFI', []), ('SMSYMSFIK', []), ('MSYMSFIKS', []), ('SYMSFIKSY', []), ('YMSFIKSYS', []), ('MSFIKSYSR', []), ('SFIKSYSRX', []), ('FIKSYSRXE', []), ('IKSYSRXEP', []), ('KSYSRXEPM', []), ('SYSRXEPML', []), ('YSRXEPMLH', []), ('SRXEPMLHL', []), ('RXEPMLHLZ', []), ('XEPMLHLZJ', []), ('EPMLHLZJM', []), ('PMLHLZJMT', []), ('MLHLZJMTG', []), ('LHLZJMTGD', []), ('HLZJMTGDB', []), ('LZJMTGDBR', []), ('ZJMTGDBRL', []), ('JMTGDBRLM', []), ('MTGDBRLMI', []), ('TGDBRLMIW', []), ('GDBRLMIWM', []), ('DBRLMIWMA', []), ('BRLMIWMAV', []), ('RLMIWMAVT', []), ('LMIWMAVTR', []), ('MIWMAVTRT', []), ('IWMAVTRTS', []), ('WMAVTRTSB', []), ('MAVTRTSBI', []), ('AVTRTSBIA', []), ('VTRTSBIAH', []), ('TRTSBIAHM', []), ('RTSBIAHMG', []), ('TSBIAHMGW', []), ('SBIAHMGWC', []), ('BIAHMGWCO', []), ('IAHMGWCOX', []), ('AHMGWCOXM', []), ('HMGWCOXMG', []), ('MGWCOXMGM', []), ('GWCOXMGMT', []), ('WCOXMGMTT', []), ('COXMGMTTF', []), ('OXMGMTTFY', []), ('XMGMTTFYC', []), ('MGMTTFYCY', []), ('GMTTFYCYB', []), ('MTTFYCYBO', []), ('TTFYCYBOP', []), ('TFYCYBOPW', []), ('FYCYBOPWE', []), ('YCYBOPWEC', []), ('CYBOPWECB', []), ('YBOPWECBI', []), ('BOPWECBIK', []), ('OPWECBIKY', []), ('PWECBIKYU', []), ('WECBIKYUQ', []), ('ECBIKYUQZ', []), ('CBIKYUQZX', []), ('BIKYUQZXA', []), ('IKYUQZXAZ', []), ('KYUQZXAZG', []), ('YUQZXAZGV', []), ('UQZXAZGVW', []), ('QZXAZGVWR', []), ('ZXAZGVWRX', []), ('XAZGVWRXW', []), ('AZGVWRXWJ', []), ('ZGVWRXWJI', []), ('GVWRXWJIP', []), ('VWRXWJIPR', []), ('WRXWJIPRK', []), ('RXWJIPRKJ', []), ('XWJIPRKJE', []), ('WJIPRKJEY', []), ('JIPRKJEYW', []), ('IPRKJEYWL', []), ('PRKJEYWLR', []), ('RKJEYWLRP', []), ('KJEYWLRPG', []), ('JEYWLRPGK', []), ('EYWLRPGKZ', []), ('YWLRPGKZC', []), ('WLRPGKZCA', []), ('LRPGKZCAV', []), ('RPGKZCAVL', []), ('PGKZCAVLQ', []), ('GKZCAVLQT', []), ('KZCAVLQTS', []), ('ZCAVLQTST', []), ('CAVLQTSTB', []), ('AVLQTSTBE', []), ('VLQTSTBEE', []), ('LQTSTBEEL', []), ('QTSTBEELX', []), ('TSTBEELXZ', []), ('STBEELXZA', []), ('TBEELXZAS', []), ('BEELXZASY', []), ('EELXZASYW', []), ('ELXZASYWD', []), ('LXZASYWDQ', []), ('XZASYWDQB', []), ('ZASYWDQBH', []), ('ASYWDQBHR', []), ('SYWDQBHRL', []), ('YWDQBHRLG', []), ('WDQBHRLGT', []), ('DQBHRLGTC', []), ('QBHRLGTCE', []), ('BHRLGTCEE', []), ('HRLGTCEEB', []), ('RLGTCEEBK', []), ('LGTCEEBKO', []), ('GTCEEBKOD', []), ('TCEEBKODO', []), ('CEEBKODOI', []), ('EEBKODOIK', []), ('EBKODOIKI', []), ('BKODOIKIA', []), ('KODOIKIAV', []), ('ODOIKIAVX', []), ('DOIKIAVXG', []), ('OIKIAVXGJ', []), ('IKIAVXGJO', []), ('KIAVXGJOW', []), ('IAVXGJOWC', []), ('AVXGJOWCE', []), ('VXGJOWCEQ', []), ('XGJOWCEQV', []), ('GJOWCEQVX', []), ('JOWCEQVXG', []), ('OWCEQVXGE', []), ('WCEQVXGEO', []), ('CEQVXGEOB', []), ('EQVXGEOBQ', []), ('QVXGEOBQD', []), ('VXGEOBQDM', []), ('XGEOBQDMB', []), ('GEOBQDMBH', []), ('EOBQDMBHR', []), ('OBQDMBHRZ', []), ('BQDMBHRZG', []), ('QDMBHRZGA', []), ('DMBHRZGAU', []), ('MBHRZGAUA', []), ('BHRZGAUAB', []), ('HRZGAUABM', []), ('RZGAUABMK', []), ('ZGAUABMKC', []), ('GAUABMKCE', []), ('AUABMKCEO', []), ('UABMKCEOS', []), ('ABMKCEOSJ', []), ('BMKCEOSJI', []), ('MKCEOSJIQ', []), ('KCEOSJIQV', []), ('CEOSJIQVM', []), ('EOSJIQVMC', []), ('OSJIQVMCO', []), ('SJIQVMCOC', []), ('JIQVMCOCX', []), ('IQVMCOCXM', []), ('QVMCOCXMS', []), ('VMCOCXMSF', []), ('MCOCXMSFI', []), ('COCXMSFIR', []), ('OCXMSFIRR', []), ('CXMSFIRRP', []), ('XMSFIRRPZ', []), ('MSFIRRPZI', []), ('SFIRRPZII', []), ('FIRRPZIIM', []), ('IRRPZIIMU', []), ('RRPZIIMUV', []), ('RPZIIMUVH', []), ('PZIIMUVHE', []), ('ZIIMUVHEF', []), ('IIMUVHEFS', []), ('IMUVHEFSW', []), ('MUVHEFSWC', []), ('UVHEFSWCI', []), ('VHEFSWCIQ', []), ('HEFSWCIQZ', []), ('EFSWCIQZX', []), ('FSWCIQZXG', []), ('SWCIQZXGD', []), ('WCIQZXGDS', []), ('CIQZXGDSM', []), ('IQZXGDSMC', []), ('QZXGDSMCI', []), ('ZXGDSMCID', []), ('XGDSMCIDX', []), ('GDSMCIDXK', []), ('DSMCIDXKW', []), ('SMCIDXKWY', []), ('MCIDXKWYQ', []), ('CIDXKWYQO', []), ('IDXKWYQOX', []), ('DXKWYQOXA', []), ('XKWYQOXAX', []), ('KWYQOXAXU', []), ('WYQOXAXUX', []), ('YQOXAXUXB', []), ('QOXAXUXBE', []), ('OXAXUXBES', []), ('XAXUXBESV', []), ('AXUXBESVW', []), ('XUXBESVWR', []), ('UXBESVWRC', []), ('XBESVWRCC', []), ('BESVWRCCX', []), ('ESVWRCCXG', []), ('SVWRCCXGZ', []), ('VWRCCXGZA', []), ('WRCCXGZAU', []), ('RCCXGZAUA', []), ('CCXGZAUAL', []), ('CXGZAUALA', []), ('XGZAUALAY', []), ('GZAUALAYN', []), ('ZAUALAYNS', []), ('AUALAYNSS', []), ('UALAYNSSO', []), ('ALAYNSSOI', []), ('LAYNSSOIM', []), ('AYNSSOIMM', []), ('YNSSOIMMA', []), ('NSSOIMMAA', []), ('SSOIMMAAW', []), ('SOIMMAAWW', []), ('OIMMAAWWL', []), ('IMMAAWWLO', []), ('MMAAWWLOJ', []), ('MAAWWLOJQ', []), ('AAWWLOJQA', []), ('AWWLOJQAK', []), ('WWLOJQAKT', []), ('WLOJQAKTT', []), ('LOJQAKTTS', []), ('OJQAKTTSI', []), ('JQAKTTSIQ', []), ('QAKTTSIQK', []), ('AKTTSIQKT', []), ('KTTSIQKTE', []), ('TTSIQKTEZ', []), ('TSIQKTEZK', []), ('SIQKTEZKB', []), ('IQKTEZKBO', []), ('QKTEZKBOY', []), ('KTEZKBOYC', []), ('TEZKBOYCK', []), ('EZKBOYCKA', []), ('ZKBOYCKAF', []), ('KBOYCKAFU', []), ('BOYCKAFUV', []), ('OYCKAFUVL', []), ('YCKAFUVLW', []), ('CKAFUVLWY', []), ('KAFUVLWYC', []), ('AFUVLWYCA', []), ('FUVLWYCAV', []), ('UVLWYCAVC', []), ('VLWYCAVCM', []), ('LWYCAVCMU', []), ('WYCAVCMUB', []), ('YCAVCMUBB', []), ('CAVCMUBBZ', []), ('AVCMUBBZM', []), ('VCMUBBZMZ', []), ('CMUBBZMZM', []), ('MUBBZMZMN', []), ('UBBZMZMNU', []), ('BBZMZMNUM', []), ('BZMZMNUMG', []), ('ZMZMNUMGR', []), ('MZMNUMGRZ', []), ('ZMNUMGRZS', []), ('MNUMGRZST', []), ('NUMGRZSTK', []), ('UMGRZSTKU', []), ('MGRZSTKUQ', []), ('GRZSTKUQV', []), ('RZSTKUQVM', []), ('ZSTKUQVMO', []), ('STKUQVMOW', []), ('TKUQVMOWO', []), ('KUQVMOWOY', []), ('UQVMOWOYZ', []), ('QVMOWOYZE', []), ('VMOWOYZES', []), ('MOWOYZEST', []), ('OWOYZESTT', []), ('WOYZESTTG', []), ('OYZESTTGO', []), ('YZESTTGOS', []), ('ZESTTGOSK', []), ('ESTTGOSKA', []), ('STTGOSKAT', []), ('TTGOSKATQ', []), ('TGOSKATQR', []), ('GOSKATQRN', []), ('OSKATQRNS', []), ('SKATQRNSR', []), ('KATQRNSRC', []), ('ATQRNSRCV', []), ('TQRNSRCVW', []), ('QRNSRCVWR', []), ('RNSRCVWRC', []), ('NSRCVWRCC', []), ('SRCVWRCCX', []), ('RCVWRCCXS', []), ('CVWRCCXSW', []), ('VWRCCXSWQ', []), ('WRCCXSWQN', []), ('RCCXSWQNQ', []), ('CCXSWQNQS', []), ('CXSWQNQSF', []), ('XSWQNQSFM', []), ('SWQNQSFMX', []), ('WQNQSFMXG', []), ('QNQSFMXGU', []), ('NQSFMXGUI', []), ('QSFMXGUIM', []), ('SFMXGUIMI', []), ('FMXGUIMIR', []), ('MXGUIMIRX', []), ('XGUIMIRXW', []), ('GUIMIRXWW', []), ('UIMIRXWWS', []), ('IMIRXWWSW', []), ('MIRXWWSWO', []), ('IRXWWSWOS', []), ('RXWWSWOSM', []), ('XWWSWOSMJ', []), ('WWSWOSMJA', []), ('WSWOSMJAZ', []), ('SWOSMJAZF', []), ('WOSMJAZFO', []), ('OSMJAZFOY', []), ('SMJAZFOYS', []), ('MJAZFOYSX', []), ('JAZFOYSXI', []), ('AZFOYSXIQ', []), ('ZFOYSXIQG', []), ('FOYSXIQGM', []), ('OYSXIQGMI', []), ('YSXIQGMIC', []), ('SXIQGMICO', []), ('XIQGMICOO', []), ('IQGMICOOS', []), ('QGMICOOSW', []), ('GMICOOSWS', []), ('MICOOSWSN', []), ('ICOOSWSNC', []), ('COOSWSNCL', []), ('OOSWSNCLQ', []), ('OSWSNCLQL', []), ('SWSNCLQLB', []), ('WSNCLQLBJ', []), ('SNCLQLBJW', []), ('NCLQLBJWL', []), ('CLQLBJWLX', []), ('LQLBJWLXM', []), ('QLBJWLXMZ', []), ('LBJWLXMZO', []), ('BJWLXMZOC', []), ('JWLXMZOCG', []), ('WLXMZOCGO', []), ('LXMZOCGOV', []), ('XMZOCGOVV', []), ('MZOCGOVVQ', []), ('ZOCGOVVQZ', []), ('OCGOVVQZZ', []), ('CGOVVQZZI', []), ('GOVVQZZIP', []), ('OVVQZZIPB', []), ('VVQZZIPBF', []), ('VQZZIPBFI', []), ('QZZIPBFIA', []), ('ZZIPBFIAX', []), ('ZIPBFIAXN', []), ('IPBFIAXNB', []), ('PBFIAXNBB', []), ('BFIAXNBBO', []), ('FIAXNBBOS', []), ('IAXNBBOSK', []), ('AXNBBOSKA', []), ('XNBBOSKAT', []), ('NBBOSKATQ', []), ('BBOSKATQO', []), ('BOSKATQOK', []), ('OSKATQOKO', []), ('SKATQOKOY', []), ('KATQOKOYJ', []), ('ATQOKOYJO', []), ('TQOKOYJOI', []), ('QOKOYJOIJ', []), ('OKOYJOIJQ', []), ('KOYJOIJQY', []), ('OYJOIJQYN', []), ('YJOIJQYNS', []), ('JOIJQYNSN', []), ('OIJQYNSNC', []), ('IJQYNSNCT', []), ('JQYNSNCTW', []), ('QYNSNCTWC', []), ('YNSNCTWCQ', []), ('NSNCTWCQU', []), ('SNCTWCQUH', []), ('NCTWCQUHG', []), ('CTWCQUHGN', []), ('TWCQUHGNC', []), ('WCQUHGNCS', []), ('CQUHGNCSW', []), ('QUHGNCSWV', []), ('UHGNCSWVU', []), ('HGNCSWVUL', []), ('GNCSWVULT', []), ('NCSWVULTO', []), ('CSWVULTOD', []), ('SWVULTODW', []), ('WVULTODWW', []), ('VULTODWWC', []), ('ULTODWWCE', []), ('LTODWWCEO', []), ('TODWWCEOW', []), ('ODWWCEOWG', []), ('DWWCEOWGQ', []), ('WWCEOWGQP', []), ('WCEOWGQPB', []), ('CEOWGQPBZ', []), ('EOWGQPBZZ', []), ('OWGQPBZZA', []), ('WGQPBZZAF', []), ('GQPBZZAFM', []), ('QPBZZAFMV', []), ('PBZZAFMVO', []), ('BZZAFMVOO', []), ('ZZAFMVOOO', []), ('ZAFMVOOOS', []), ('AFMVOOOSQ', []), ('FMVOOOSQN', []), ('MVOOOSQNG', []), ('VOOOSQNGB', []), ('OOOSQNGBH', []), ('OOSQNGBHQ', []), ('OSQNGBHQZ', []), ('SQNGBHQZA', []), ('QNGBHQZAU', []), ('NGBHQZAUC', []), ('GBHQZAUCN', []), ('BHQZAUCND', []), ('HQZAUCNDW', []), ('QZAUCNDWF', []), ('ZAUCNDWFO', []), ('AUCNDWFOY', []), ('UCNDWFOYC', []), ('CNDWFOYCI', []), ('NDWFOYCIW', []), ('DWFOYCIWM', []), ('WFOYCIWMA', []), ('FOYCIWMAC', []), ('OYCIWMACG', []), ('YCIWMACGV', []), ('CIWMACGVZ', []), ('IWMACGVZA', []), ('WMACGVZAH', []), ('MACGVZAHZ', []), ('ACGVZAHZE', []), ('CGVZAHZEQ', []), ('GVZAHZEQV', []), ('VZAHZEQVA', []), ('ZAHZEQVAO', []), ('AHZEQVAON', []), ('HZEQVAONS', []), ('ZEQVAONSX', []), ('EQVAONSXT', []), ('QVAONSXTO', []), ('VAONSXTOC', []), ('AONSXTOCC', []), ('ONSXTOCCX', []), ('NSXTOCCXS', []), ('SXTOCCXSD', []), ('XTOCCXSDH', []), ('TOCCXSDHG', []), ('OCCXSDHGN', []), ('CCXSDHGNR', []), ('CXSDHGNRQ', []), ('XSDHGNRQV', []), ('SDHGNRQVM', []), ('DHGNRQVMS', []), ('HGNRQVMSL', []), ('GNRQVMSLH', []), ('NRQVMSLHO', []), ('RQVMSLHOK', []), ('QVMSLHOKO', []), ('VMSLHOKOZ', []), ('MSLHOKOZA', []), ('SLHOKOZAX', []), ('LHOKOZAXF', []), ('HOKOZAXFT', []), ('OKOZAXFTS', []), ('KOZAXFTSJ', []), ('OZAXFTSJI', []), ('ZAXFTSJID', []), ('AXFTSJIDB', []), ('XFTSJIDBZ', []), ('FTSJIDBZX', []), ('TSJIDBZXQ', []), ('SJIDBZXQT', []), ('JIDBZXQTG', []), ('IDBZXQTGG', []), ('DBZXQTGGG', []), ('BZXQTGGGG', []), ('ZXQTGGGGQ', []), ('XQTGGGGQV', []), ('QTGGGGQVN', []), ('TGGGGQVNW', []), ('GGGGQVNWY', []), ('GGGQVNWYO', []), ('GGQVNWYOI', []), ('GQVNWYOIW', []), ('QVNWYOIWN', []), ('VNWYOIWNF', []), ('NWYOIWNFM', []), ('WYOIWNFMK', []), ('YOIWNFMKB', []), ('OIWNFMKBF', []), ('IWNFMKBFF', []), ('WNFMKBFFG', []), ('NFMKBFFGK', []), ('FMKBFFGKO', []), ('MKBFFGKOZ', []), ('KBFFGKOZD', []), ('BFFGKOZDH', []), ('FFGKOZDHZ', []), ('FGKOZDHZF', []), ('GKOZDHZFB', []), ('KOZDHZFBZ', []), ('OZDHZFBZI', []), ('ZDHZFBZID', []), ('DHZFBZIDO', []), ('HZFBZIDOW', []), ('ZFBZIDOWG', []), ('FBZIDOWGX', []), ('BZIDOWGXF', []), ('ZIDOWGXFG', []), ('IDOWGXFGZ', []), ('DOWGXFGZQ', []), ('OWGXFGZQC', []), ('WGXFGZQCU', []), ('GXFGZQCUI', []), ('XFGZQCUIR', []), ('FGZQCUIRS', []), ('GZQCUIRSY', []), ('ZQCUIRSYZ', []), ('QCUIRSYZO', []), ('CUIRSYZOJ', []), ('UIRSYZOJE', []), ('IRSYZOJED', []), ('RSYZOJEDI', []), ('SYZOJEDIK', []), ('YZOJEDIKH', []), ('ZOJEDIKHP', []), ('OJEDIKHPR', []), ('JEDIKHPRK', []), ('EDIKHPRKB', []), ('DIKHPRKBO', []), ('IKHPRKBOP', []), ('KHPRKBOPI', []), ('HPRKBOPIL', []), ('PRKBOPILZ', []), ('RKBOPILZL', []), ('KBOPILZLG', []), ('BOPILZLGJ', []), ('OPILZLGJM', []), ('PILZLGJMM', []), ('ILZLGJMMM', []), ('LZLGJMMMA', []), ('ZLGJMMMAW', []), ('LGJMMMAWW', []), ('GJMMMAWWD', []), ('JMMMAWWDH', []), ('MMMAWWDHX', []), ('MMAWWDHXI', []), ('MAWWDHXIC', []), ('AWWDHXICO', []), ('WWDHXICOQ', []), ('WDHXICOQH', []), ('DHXICOQHB', []), ('HXICOQHBP', []), ('XICOQHBPM', []), ('ICOQHBPMY', []), ('COQHBPMYQ', []), ('OQHBPMYQH', []), ('QHBPMYQHM', []), ('HBPMYQHMK', []), ('BPMYQHMKX', []), ('PMYQHMKXG', []), ('MYQHMKXGE', []), ('YQHMKXGEC', []), ('QHMKXGECJ', []), ('HMKXGECJW', []), ('MKXGECJWC', []), ('KXGECJWCA', []), ('XGECJWCAU', []), ('GECJWCAUH', []), ('ECJWCAUHG', []), ('CJWCAUHGT', []), ('JWCAUHGTT', []), ('WCAUHGTTA', []), ('CAUHGTTAM', []), ('AUHGTTAMR', []), ('UHGTTAMRM', []), ('HGTTAMRMT', []), ('GTTAMRMTH', []), ('TTAMRMTHI', []), ('TAMRMTHIW', []), ('AMRMTHIWH', []), ('MRMTHIWHO', []), ('RMTHIWHOU', []), ('MTHIWHOUO', []), ('THIWHOUOC', []), ('HIWHOUOCC', []), ('IWHOUOCCX', []), ('WHOUOCCXV', []), ('HOUOCCXVL', []), ('OUOCCXVLF', []), ('UOCCXVLFO', []), ('OCCXVLFOI', []), ('CCXVLFOIS', []), ('CXVLFOISQ', []), ('XVLFOISQV', []), ('VLFOISQVM', []), ('LFOISQVMI', []), ('FOISQVMIG', []), ('OISQVMIGW', []), ('ISQVMIGWJ', []), ('SQVMIGWJI', []), ('QVMIGWJIY', []), ('VMIGWJIYP', []), ('MIGWJIYPM', []), ('IGWJIYPMC', []), ('GWJIYPMCO', []), ('WJIYPMCOD', []), ('JIYPMCODR', []), ('IYPMCODRK', []), ('YPMCODRKK', []), ('PMCODRKKA', []), ('MCODRKKAY', []), ('CODRKKAYQ', []), ('ODRKKAYQG', []), ('DRKKAYQGO', []), ('RKKAYQGOC', []), ('KKAYQGOCG', []), ('KAYQGOCGO', []), ('AYQGOCGOV', []), ('YQGOCGOVR', []), ('QGOCGOVRG', []), ('GOCGOVRGU', []), ('OCGOVRGUU', []), ('CGOVRGUUC', []), ('GOVRGUUCO', []), ('OVRGUUCOS', []), ('VRGUUCOSP', []), ('RGUUCOSPI', []), ('GUUCOSPIS', []), ('UUCOSPISP', []), ('UCOSPISPM', []), ('COSPISPMW', []), ('OSPISPMWS', []), ('SPISPMWSU', []), ('PISPMWSUO', []), ('ISPMWSUOX', []), ('SPMWSUOXY', []), ('PMWSUOXYU', []), ('MWSUOXYUQ', []), ('WSUOXYUQB', []), ('SUOXYUQBN', []), ('UOXYUQBNG', []), ('OXYUQBNGP', []), ('XYUQBNGPA', []), ('YUQBNGPAU', []), ('UQBNGPAUK', []), ('QBNGPAUKI', []), ('BNGPAUKIA', []), ('NGPAUKIAV', []), ('GPAUKIAVX', []), ('PAUKIAVXG', []), ('AUKIAVXGL', []), ('UKIAVXGLB', []), ('KIAVXGLBA', []), ('IAVXGLBAT', []), ('AVXGLBATE', []), ('VXGLBATEZ', []), ('XGLBATEZT', []), ('GLBATEZTH', []), ('LBATEZTHE', []), ('BATEZTHEF', []), ('ATEZTHEFS', []), ('TEZTHEFSZ', []), ('EZTHEFSZM', []), ('ZTHEFSZMD', []), ('THEFSZMDU', []), ('HEFSZMDUK', []), ('EFSZMDUKX', []), ('FSZMDUKXH', []), ('SZMDUKXHF', []), ('ZMDUKXHFA', []), ('MDUKXHFAK', []), ('DUKXHFAKV', []), ('UKXHFAKVT', []), ('KXHFAKVTQ', []), ('XHFAKVTQL', []), ('HFAKVTQLX', []), ('FAKVTQLXX', []), ('AKVTQLXXL', []), ('KVTQLXXLG', []), ('VTQLXXLGJ', []), ('TQLXXLGJM', []), ('QLXXLGJMS', []), ('LXXLGJMSQ', []), ('XXLGJMSQZ', []), ('XLGJMSQZA', []), ('LGJMSQZAW', []), ('GJMSQZAWA', []), ('JMSQZAWAC', []), ('MSQZAWACI', []), ('SQZAWACIZ', []), ('QZAWACIZI', []), ('ZAWACIZIF', []), ('AWACIZIFI', []), ('WACIZIFIX', []), ('ACIZIFIXU', []), ('CIZIFIXUZ', []), ('IZIFIXUZQ', []), ('ZIFIXUZQK', []), ('IFIXUZQKV', []), ('FIXUZQKVT', []), ('IXUZQKVTD', []), ('XUZQKVTDQ', []), ('UZQKVTDQV', []), ('ZQKVTDQVC', []), ('QKVTDQVCP', []), ('KVTDQVCPW', []), ('VTDQVCPWX', []), ('TDQVCPWXZ', []), ('DQVCPWXZI', []), ('QVCPWXZIF', []), ('VCPWXZIFI', []), ('CPWXZIFIU', []), ('PWXZIFIUZ', []), ('WXZIFIUZP', []), ('XZIFIUZP', []), ('ZIFIUZP', []), ('IFIUZP', []), ('FIUZP', []), ('IUZP', []), ('UZP', [])] \n",
            " <class 'list'>\n"
          ]
        }
      ]
    },
    {
      "cell_type": "markdown",
      "source": [
        "#### Distancias entre cada subcadena encontrada."
      ],
      "metadata": {
        "id": "_bFdc6zsa8AF"
      }
    },
    {
      "cell_type": "code",
      "source": [
        "# Función para factorizar un número sin exponentes como lo hizo la profesora:\n",
        "def factorizar(num:int):\n",
        "    factores = []\n",
        "    i = 2\n",
        "    while num > 1:\n",
        "        if num % i == 0:\n",
        "            num //= i\n",
        "            factores.append(i)\n",
        "        else:\n",
        "            i += 1\n",
        "    return factores\n",
        "\n",
        "factorizar(77)"
      ],
      "metadata": {
        "colab": {
          "base_uri": "https://localhost:8080/"
        },
        "id": "n1XSu-c4XDdv",
        "outputId": "9a195744-36e6-4095-d563-6955690bad2a"
      },
      "execution_count": null,
      "outputs": [
        {
          "output_type": "execute_result",
          "data": {
            "text/plain": [
              "[7, 11]"
            ]
          },
          "metadata": {},
          "execution_count": 5
        }
      ]
    },
    {
      "cell_type": "code",
      "source": [
        "def factorizar_distancias(dis:list):\n",
        "  # Diccionario para almacenar los resultados\n",
        "  resultados = {}\n",
        "\n",
        "  # Iteramos sobre cada subcadena y sus distancias\n",
        "  for subcadena, distancias in dis: #tupla\n",
        "      # Lista para almacenar los factores de cada distancia\n",
        "      factores_por_distancia = {}\n",
        "      for d in distancias:\n",
        "          factores_por_distancia[d]=factorizar(d)\n",
        "      resultados[subcadena] = factores_por_distancia\n",
        "  return resultados\n",
        "\n",
        "ola = factorizar_distancias(dis_ordenado)\n",
        "print(ola, \"\\n\" , type(ola))\n",
        "ola_ord = sorted(ola.items(), key=lambda x: len(x[1]), reverse=True)\n",
        "print(ola_ord, \"\\n\" , type(ola_ord))"
      ],
      "metadata": {
        "colab": {
          "base_uri": "https://localhost:8080/"
        },
        "id": "PUUNj6GYXfI8",
        "outputId": "5d35424a-33e9-4d2f-e68d-b9fe0c626e71"
      },
      "execution_count": null,
      "outputs": [
        {
          "output_type": "stream",
          "name": "stdout",
          "text": [
            "{'MGSDHGDIP': {1080: [2, 2, 2, 3, 3, 3, 5]}, 'GSDHGDIPI': {1080: [2, 2, 2, 3, 3, 3, 5]}, 'MVILBJWAB': {36: [2, 2, 3, 3]}, 'VILBJWABZ': {36: [2, 2, 3, 3]}, 'ILBJWABZX': {36: [2, 2, 3, 3]}, 'LBJWABZXB': {36: [2, 2, 3, 3]}, 'BJWABZXBO': {36: [2, 2, 3, 3]}, 'JWABZXBOS': {36: [2, 2, 3, 3]}, 'WABZXBOSY': {36: [2, 2, 3, 3]}, 'ABZXBOSYI': {36: [2, 2, 3, 3]}, 'CAVYWLFKV': {423: [3, 3, 47]}, 'IYOSMNFIE': {279: [3, 3, 31]}, 'YOSMNFIEW': {279: [3, 3, 31]}, 'OSMNFIEWO': {279: [3, 3, 31]}, 'SMNFIEWOO': {279: [3, 3, 31]}, 'MNFIEWOOJ': {279: [3, 3, 31]}, 'NFIEWOOJQ': {279: [3, 3, 31]}, 'FIEWOOJQM': {279: [3, 3, 31]}, 'IEWOOJQMB': {279: [3, 3, 31]}, 'EWOOJQMBT': {279: [3, 3, 31]}, 'WOOJQMBTT': {279: [3, 3, 31]}, 'OOJQMBTTQ': {279: [3, 3, 31]}, 'OJQMBTTQL': {279: [3, 3, 31]}, 'JQMBTTQLP': {279: [3, 3, 31]}, 'QMBTTQLPR': {279: [3, 3, 31]}, 'MBTTQLPRM': {279: [3, 3, 31]}, 'QABAACYQB': {}, 'ABAACYQBX': {}, 'BAACYQBXM': {}, 'AACYQBXMM': {}, 'ACYQBXMMS': {}, 'CYQBXMMSY': {}, 'YQBXMMSYS': {}, 'QBXMMSYSX': {}, 'BXMMSYSXB': {}, 'XMMSYSXBO': {}, 'MMSYSXBOP': {}, 'MSYSXBOPW': {}, 'SYSXBOPWU': {}, 'YSXBOPWUO': {}, 'SXBOPWUOU': {}, 'XBOPWUOUC': {}, 'BOPWUOUCI': {}, 'OPWUOUCIW': {}, 'PWUOUCIWN': {}, 'WUOUCIWNF': {}, 'UOUCIWNFZ': {}, 'OUCIWNFZH': {}, 'UCIWNFZHZ': {}, 'CIWNFZHZE': {}, 'IWNFZHZES': {}, 'WNFZHZEST': {}, 'NFZHZESTM': {}, 'FZHZESTMM': {}, 'ZHZESTMMA': {}, 'HZESTMMAA': {}, 'ZESTMMAAJ': {}, 'ESTMMAAJI': {}, 'STMMAAJIP': {}, 'TMMAAJIPR': {}, 'MMAAJIPRG': {}, 'MAAJIPRGZ': {}, 'AAJIPRGZN': {}, 'AJIPRGZNA': {}, 'JIPRGZNAA': {}, 'IPRGZNAAV': {}, 'PRGZNAAVI': {}, 'RGZNAAVIP': {}, 'GZNAAVIPB': {}, 'ZNAAVIPBZ': {}, 'NAAVIPBZI': {}, 'AAVIPBZIQ': {}, 'AVIPBZIQG': {}, 'VIPBZIQGM': {}, 'IPBZIQGMI': {}, 'PBZIQGMIS': {}, 'BZIQGMISY': {}, 'ZIQGMISYG': {}, 'IQGMISYGG': {}, 'QGMISYGGZ': {}, 'GMISYGGZD': {}, 'MISYGGZDQ': {}, 'ISYGGZDQU': {}, 'SYGGZDQUT': {}, 'YGGZDQUTG': {}, 'GGZDQUTGT': {}, 'GZDQUTGTO': {}, 'ZDQUTGTOJ': {}, 'DQUTGTOJW': {}, 'QUTGTOJWE': {}, 'UTGTOJWEZ': {}, 'TGTOJWEZM': {}, 'GTOJWEZME': {}, 'TOJWEZMET': {}, 'OJWEZMETF': {}, 'JWEZMETFH': {}, 'WEZMETFHA': {}, 'EZMETFHAZ': {}, 'ZMETFHAZO': {}, 'METFHAZOB': {}, 'ETFHAZOBC': {}, 'TFHAZOBCX': {}, 'FHAZOBCXR': {}, 'HAZOBCXRP': {}, 'AZOBCXRPZ': {}, 'ZOBCXRPZR': {}, 'OBCXRPZRM': {}, 'BCXRPZRMV': {}, 'CXRPZRMVM': {}, 'XRPZRMVMZ': {}, 'RPZRMVMZT': {}, 'PZRMVMZTW': {}, 'ZRMVMZTWX': {}, 'RMVMZTWXO': {}, 'MVMZTWXOM': {}, 'VMZTWXOMQ': {}, 'MZTWXOMQN': {}, 'ZTWXOMQNM': {}, 'TWXOMQNMZ': {}, 'WXOMQNMZG': {}, 'XOMQNMZGC': {}, 'OMQNMZGCD': {}, 'MQNMZGCDG': {}, 'QNMZGCDGO': {}, 'NMZGCDGOB': {}, 'MZGCDGOBU': {}, 'ZGCDGOBUM': {}, 'GCDGOBUMK': {}, 'CDGOBUMKB': {}, 'DGOBUMKBC': {}, 'GOBUMKBCY': {}, 'OBUMKBCYS': {}, 'BUMKBCYSY': {}, 'UMKBCYSYG': {}, 'MKBCYSYGP': {}, 'KBCYSYGPD': {}, 'BCYSYGPDW': {}, 'CYSYGPDWU': {}, 'YSYGPDWUZ': {}, 'SYGPDWUZP': {}, 'YGPDWUZPA': {}, 'GPDWUZPAG': {}, 'PDWUZPAGA': {}, 'DWUZPAGAQ': {}, 'WUZPAGAQG': {}, 'UZPAGAQGM': {}, 'ZPAGAQGMI': {}, 'PAGAQGMII': {}, 'AGAQGMIIP': {}, 'GAQGMIIPR': {}, 'AQGMIIPRK': {}, 'QGMIIPRKV': {}, 'GMIIPRKVN': {}, 'MIIPRKVNA': {}, 'IIPRKVNAM': {}, 'IPRKVNAMQ': {}, 'PRKVNAMQW': {}, 'RKVNAMQWD': {}, 'KVNAMQWDH': {}, 'VNAMQWDHO': {}, 'NAMQWDHOZ': {}, 'AMQWDHOZT': {}, 'MQWDHOZTA': {}, 'QWDHOZTAL': {}, 'WDHOZTALH': {}, 'DHOZTALHS': {}, 'HOZTALHSD': {}, 'OZTALHSDH': {}, 'ZTALHSDHU': {}, 'TALHSDHUK': {}, 'ALHSDHUKO': {}, 'LHSDHUKOZ': {}, 'HSDHUKOZL': {}, 'SDHUKOZLN': {}, 'DHUKOZLNQ': {}, 'HUKOZLNQP': {}, 'UKOZLNQPO': {}, 'KOZLNQPOR': {}, 'OZLNQPORI': {}, 'ZLNQPORIA': {}, 'LNQPORIAZ': {}, 'NQPORIAZA': {}, 'QPORIAZAB': {}, 'PORIAZABS': {}, 'ORIAZABSO': {}, 'RIAZABSOO': {}, 'IAZABSOOJ': {}, 'AZABSOOJM': {}, 'ZABSOOJML': {}, 'ABSOOJMLC': {}, 'BSOOJMLCC': {}, 'SOOJMLCCX': {}, 'OOJMLCCXG': {}, 'OJMLCCXGF': {}, 'JMLCCXGFT': {}, 'MLCCXGFTX': {}, 'LCCXGFTXM': {}, 'CCXGFTXMA': {}, 'CXGFTXMAZ': {}, 'XGFTXMAZB': {}, 'GFTXMAZBX': {}, 'FTXMAZBXG': {}, 'TXMAZBXGO': {}, 'XMAZBXGOS': {}, 'MAZBXGOSW': {}, 'AZBXGOSWC': {}, 'ZBXGOSWCE': {}, 'BXGOSWCEE': {}, 'XGOSWCEEM': {}, 'GOSWCEEMT': {}, 'OSWCEEMTB': {}, 'SWCEEMTBP': {}, 'WCEEMTBPQ': {}, 'CEEMTBPQK': {}, 'EEMTBPQKA': {}, 'EMTBPQKAA': {}, 'MTBPQKAAD': {}, 'TBPQKAADQ': {}, 'BPQKAADQH': {}, 'PQKAADQHG': {}, 'QKAADQHGF': {}, 'KAADQHGFT': {}, 'AADQHGFTX': {}, 'ADQHGFTXM': {}, 'DQHGFTXMM': {}, 'QHGFTXMMM': {}, 'HGFTXMMMA': {}, 'GFTXMMMAW': {}, 'FTXMMMAWS': {}, 'TXMMMAWSW': {}, 'XMMMAWSWC': {}, 'MMMAWSWCT': {}, 'MMAWSWCTM': {}, 'MAWSWCTMC': {}, 'AWSWCTMCQ': {}, 'WSWCTMCQA': {}, 'SWCTMCQAT': {}, 'WCTMCQATF': {}, 'CTMCQATFT': {}, 'TMCQATFTC': {}, 'MCQATFTCV': {}, 'CQATFTCVM': {}, 'QATFTCVMR': {}, 'ATFTCVMRA': {}, 'TFTCVMRAA': {}, 'FTCVMRAAB': {}, 'TCVMRAABE': {}, 'CVMRAABEF': {}, 'VMRAABEFW': {}, 'MRAABEFWK': {}, 'RAABEFWKZ': {}, 'AABEFWKZE': {}, 'ABEFWKZEE': {}, 'BEFWKZEEZ': {}, 'EFWKZEEZX': {}, 'FWKZEEZXO': {}, 'WKZEEZXOW': {}, 'KZEEZXOWW': {}, 'ZEEZXOWWF': {}, 'EEZXOWWFI': {}, 'EZXOWWFIR': {}, 'ZXOWWFIRM': {}, 'XOWWFIRMT': {}, 'OWWFIRMTZ': {}, 'WWFIRMTZC': {}, 'WFIRMTZCY': {}, 'FIRMTZCYC': {}, 'IRMTZCYCN': {}, 'RMTZCYCNI': {}, 'MTZCYCNIY': {}, 'TZCYCNIYY': {}, 'ZCYCNIYYI': {}, 'CYCNIYYIL': {}, 'YCNIYYILE': {}, 'CNIYYILEF': {}, 'NIYYILEFS': {}, 'IYYILEFSI': {}, 'YYILEFSIW': {}, 'YILEFSIWN': {}, 'ILEFSIWNR': {}, 'LEFSIWNRQ': {}, 'EFSIWNRQT': {}, 'FSIWNRQTF': {}, 'SIWNRQTFP': {}, 'IWNRQTFPB': {}, 'WNRQTFPBZ': {}, 'NRQTFPBZC': {}, 'RQTFPBZCV': {}, 'QTFPBZCVQ': {}, 'TFPBZCVQZ': {}, 'FPBZCVQZL': {}, 'PBZCVQZLW': {}, 'BZCVQZLWZ': {}, 'ZCVQZLWZB': {}, 'CVQZLWZBJ': {}, 'VQZLWZBJM': {}, 'QZLWZBJMT': {}, 'ZLWZBJMTU': {}, 'LWZBJMTUY': {}, 'WZBJMTUYN': {}, 'ZBJMTUYNS': {}, 'BJMTUYNSO': {}, 'JMTUYNSOO': {}, 'MTUYNSOOR': {}, 'TUYNSOORW': {}, 'UYNSOORWM': {}, 'YNSOORWMQ': {}, 'NSOORWMQR': {}, 'SOORWMQRH': {}, 'OORWMQRHF': {}, 'ORWMQRHFO': {}, 'RWMQRHFOS': {}, 'WMQRHFOSY': {}, 'MQRHFOSYQ': {}, 'QRHFOSYQP': {}, 'RHFOSYQPM': {}, 'HFOSYQPMZ': {}, 'FOSYQPMZT': {}, 'OSYQPMZTC': {}, 'SYQPMZTCM': {}, 'YQPMZTCMH': {}, 'QPMZTCMHK': {}, 'PMZTCMHKV': {}, 'MZTCMHKVE': {}, 'ZTCMHKVED': {}, 'TCMHKVEDM': {}, 'CMHKVEDML': {}, 'MHKVEDMLC': {}, 'HKVEDMLCB': {}, 'KVEDMLCBI': {}, 'VEDMLCBIK': {}, 'EDMLCBIKY': {}, 'DMLCBIKYU': {}, 'MLCBIKYUU': {}, 'LCBIKYUUZ': {}, 'CBIKYUUZX': {}, 'BIKYUUZXG': {}, 'IKYUUZXGE': {}, 'KYUUZXGEI': {}, 'YUUZXGEIY': {}, 'UUZXGEIYU': {}, 'UZXGEIYUE': {}, 'ZXGEIYUEF': {}, 'XGEIYUEFI': {}, 'GEIYUEFIL': {}, 'EIYUEFILM': {}, 'IYUEFILME': {}, 'YUEFILMEI': {}, 'UEFILMEIY': {}, 'EFILMEIYA': {}, 'FILMEIYAU': {}, 'ILMEIYAUQ': {}, 'LMEIYAUQV': {}, 'MEIYAUQVH': {}, 'EIYAUQVHG': {}, 'IYAUQVHGA': {}, 'YAUQVHGAS': {}, 'AUQVHGASX': {}, 'UQVHGASXW': {}, 'QVHGASXWT': {}, 'VHGASXWTM': {}, 'HGASXWTMU': {}, 'GASXWTMUU': {}, 'ASXWTMUUW': {}, 'SXWTMUUWP': {}, 'XWTMUUWPB': {}, 'WTMUUWPBK': {}, 'TMUUWPBKA': {}, 'MUUWPBKAI': {}, 'UUWPBKAIY': {}, 'UWPBKAIYX': {}, 'WPBKAIYXH': {}, 'PBKAIYXHF': {}, 'BKAIYXHFE': {}, 'KAIYXHFEO': {}, 'AIYXHFEOX': {}, 'IYXHFEOXB': {}, 'YXHFEOXBE': {}, 'XHFEOXBEB': {}, 'HFEOXBEBM': {}, 'FEOXBEBMK': {}, 'EOXBEBMKR': {}, 'OXBEBMKRZ': {}, 'XBEBMKRZB': {}, 'BEBMKRZBG': {}, 'EBMKRZBGZ': {}, 'BMKRZBGZT': {}, 'MKRZBGZTQ': {}, 'KRZBGZTQM': {}, 'RZBGZTQMG': {}, 'ZBGZTQMGS': {}, 'BGZTQMGSD': {}, 'GZTQMGSDH': {}, 'ZTQMGSDHG': {}, 'TQMGSDHGD': {}, 'QMGSDHGDI': {}, 'SDHGDIPIO': {}, 'DHGDIPIOW': {}, 'HGDIPIOWP': {}, 'GDIPIOWPB': {}, 'DIPIOWPBK': {}, 'IPIOWPBKA': {}, 'PIOWPBKAA': {}, 'IOWPBKAAO': {}, 'OWPBKAAOI': {}, 'WPBKAAOIZ': {}, 'PBKAAOIZO': {}, 'BKAAOIZOC': {}, 'KAAOIZOCZ': {}, 'AAOIZOCZG': {}, 'AOIZOCZGM': {}, 'OIZOCZGMN': {}, 'IZOCZGMNQ': {}, 'ZOCZGMNQT': {}, 'OCZGMNQTX': {}, 'CZGMNQTXB': {}, 'ZGMNQTXBP': {}, 'GMNQTXBPZ': {}, 'MNQTXBPZS': {}, 'NQTXBPZSW': {}, 'QTXBPZSWM': {}, 'TXBPZSWMQ': {}, 'XBPZSWMQV': {}, 'BPZSWMQVM': {}, 'PZSWMQVMC': {}, 'ZSWMQVMCB': {}, 'SWMQVMCBI': {}, 'WMQVMCBIK': {}, 'MQVMCBIKD': {}, 'QVMCBIKDI': {}, 'VMCBIKDIQ': {}, 'MCBIKDIQV': {}, 'CBIKDIQVX': {}, 'BIKDIQVXG': {}, 'IKDIQVXGL': {}, 'KDIQVXGLQ': {}, 'DIQVXGLQG': {}, 'IQVXGLQGO': {}, 'QVXGLQGOA': {}, 'VXGLQGOAD': {}, 'XGLQGOADT': {}, 'GLQGOADTT': {}, 'LQGOADTTM': {}, 'QGOADTTME': {}, 'GOADTTMES': {}, 'OADTTMESV': {}, 'ADTTMESVM': {}, 'DTTMESVMR': {}, 'TTMESVMRP': {}, 'TMESVMRPW': {}, 'MESVMRPWG': {}, 'ESVMRPWGO': {}, 'SVMRPWGOD': {}, 'VMRPWGODH': {}, 'MRPWGODHU': {}, 'RPWGODHUL': {}, 'PWGODHULO': {}, 'WGODHULOR': {}, 'GODHULORT': {}, 'ODHULORTN': {}, 'DHULORTNM': {}, 'HULORTNMP': {}, 'ULORTNMPH': {}, 'LORTNMPHG': {}, 'ORTNMPHGV': {}, 'RTNMPHGVF': {}, 'TNMPHGVFM': {}, 'NMPHGVFMK': {}, 'MPHGVFMKB': {}, 'PHGVFMKBZ': {}, 'HGVFMKBZX': {}, 'GVFMKBZXW': {}, 'VFMKBZXWX': {}, 'FMKBZXWXI': {}, 'MKBZXWXIT': {}, 'KBZXWXITQ': {}, 'BZXWXITQI': {}, 'ZXWXITQIE': {}, 'XWXITQIES': {}, 'WXITQIESD': {}, 'XITQIESDD': {}, 'ITQIESDDK': {}, 'TQIESDDKR': {}, 'QIESDDKRO': {}, 'IESDDKROK': {}, 'ESDDKROKL': {}, 'SDDKROKLB': {}, 'DDKROKLBH': {}, 'DKROKLBHP': {}, 'KROKLBHPE': {}, 'ROKLBHPEA': {}, 'OKLBHPEAM': {}, 'KLBHPEAME': {}, 'LBHPEAMEE': {}, 'BHPEAMEEB': {}, 'HPEAMEEBT': {}, 'PEAMEEBTG': {}, 'EAMEEBTGR': {}, 'AMEEBTGRI': {}, 'MEEBTGRIG': {}, 'EEBTGRIGX': {}, 'EBTGRIGXO': {}, 'BTGRIGXOE': {}, 'TGRIGXOEQ': {}, 'GRIGXOEQG': {}, 'RIGXOEQGC': {}, 'IGXOEQGCE': {}, 'GXOEQGCES': {}, 'XOEQGCESR': {}, 'OEQGCESRW': {}, 'EQGCESRWD': {}, 'QGCESRWDU': {}, 'GCESRWDUK': {}, 'CESRWDUKX': {}, 'ESRWDUKXG': {}, 'SRWDUKXGE': {}, 'RWDUKXGEI': {}, 'WDUKXGEIT': {}, 'DUKXGEITI': {}, 'UKXGEITID': {}, 'KXGEITIDU': {}, 'XGEITIDUM': {}, 'GEITIDUMM': {}, 'EITIDUMMS': {}, 'ITIDUMMSW': {}, 'TIDUMMSWO': {}, 'IDUMMSWOB': {}, 'DUMMSWOBI': {}, 'UMMSWOBIA': {}, 'MMSWOBIAO': {}, 'MSWOBIAOZ': {}, 'SWOBIAOZX': {}, 'WOBIAOZXS': {}, 'OBIAOZXSC': {}, 'BIAOZXSCF': {}, 'IAOZXSCFK': {}, 'AOZXSCFKK': {}, 'OZXSCFKKU': {}, 'ZXSCFKKUQ': {}, 'XSCFKKUQZ': {}, 'SCFKKUQZW': {}, 'CFKKUQZWO': {}, 'FKKUQZWOB': {}, 'KKUQZWOBI': {}, 'KUQZWOBIK': {}, 'UQZWOBIKT': {}, 'QZWOBIKTA': {}, 'ZWOBIKTAO': {}, 'WOBIKTAOW': {}, 'OBIKTAOWG': {}, 'BIKTAOWGT': {}, 'IKTAOWGTT': {}, 'KTAOWGTTO': {}, 'TAOWGTTOT': {}, 'AOWGTTOTH': {}, 'OWGTTOTHA': {}, 'WGTTOTHAZ': {}, 'GTTOTHAZW': {}, 'TTOTHAZWX': {}, 'TOTHAZWXG': {}, 'OTHAZWXGX': {}, 'THAZWXGXO': {}, 'HAZWXGXOM': {}, 'AZWXGXOMQ': {}, 'ZWXGXOMQC': {}, 'WXGXOMQCM': {}, 'XGXOMQCMV': {}, 'GXOMQCMVH': {}, 'XOMQCMVHS': {}, 'OMQCMVHSD': {}, 'MQCMVHSDW': {}, 'QCMVHSDWT': {}, 'CMVHSDWTV': {}, 'MVHSDWTVA': {}, 'VHSDWTVAF': {}, 'HSDWTVAFI': {}, 'SDWTVAFIR': {}, 'DWTVAFIRB': {}, 'WTVAFIRBZ': {}, 'TVAFIRBZS': {}, 'VAFIRBZSY': {}, 'AFIRBZSYQ': {}, 'FIRBZSYQN': {}, 'IRBZSYQNM': {}, 'RBZSYQNMT': {}, 'BZSYQNMTV': {}, 'ZSYQNMTVO': {}, 'SYQNMTVOY': {}, 'YQNMTVOYN': {}, 'QNMTVOYNG': {}, 'NMTVOYNGJ': {}, 'MTVOYNGJL': {}, 'TVOYNGJLQ': {}, 'VOYNGJLQM': {}, 'OYNGJLQML': {}, 'YNGJLQMLI': {}, 'NGJLQMLIY': {}, 'GJLQMLIYO': {}, 'JLQMLIYON': {}, 'LQMLIYONI': {}, 'QMLIYONIB': {}, 'MLIYONIBU': {}, 'LIYONIBUT': {}, 'IYONIBUTB': {}, 'YONIBUTBR': {}, 'ONIBUTBRL': {}, 'NIBUTBRLR': {}, 'IBUTBRLRR': {}, 'BUTBRLRRW': {}, 'UTBRLRRWQ': {}, 'TBRLRRWQG': {}, 'BRLRRWQGM': {}, 'RLRRWQGML': {}, 'LRRWQGMLW': {}, 'RRWQGMLWR': {}, 'RWQGMLWRB': {}, 'WQGMLWRBO': {}, 'QGMLWRBON': {}, 'GMLWRBONI': {}, 'MLWRBONIO': {}, 'LWRBONIOI': {}, 'WRBONIOIJ': {}, 'RBONIOIJI': {}, 'BONIOIJIP': {}, 'ONIOIJIPG': {}, 'NIOIJIPGK': {}, 'IOIJIPGKX': {}, 'OIJIPGKXU': {}, 'IJIPGKXUQ': {}, 'JIPGKXUQL': {}, 'IPGKXUQLX': {}, 'PGKXUQLXO': {}, 'GKXUQLXOA': {}, 'KXUQLXOAF': {}, 'XUQLXOAFK': {}, 'UQLXOAFKV': {}, 'QLXOAFKVD': {}, 'LXOAFKVDQ': {}, 'XOAFKVDQZ': {}, 'OAFKVDQZL': {}, 'AFKVDQZLW': {}, 'FKVDQZLWY': {}, 'KVDQZLWYS': {}, 'VDQZLWYSS': {}, 'DQZLWYSSJ': {}, 'QZLWYSSJA': {}, 'ZLWYSSJAD': {}, 'LWYSSJADO': {}, 'WYSSJADOH': {}, 'YSSJADOHZ': {}, 'SSJADOHZL': {}, 'SJADOHZLQ': {}, 'JADOHZLQU': {}, 'ADOHZLQUV': {}, 'DOHZLQUVF': {}, 'OHZLQUVFU': {}, 'HZLQUVFUI': {}, 'ZLQUVFUIG': {}, 'LQUVFUIGN': {}, 'QUVFUIGNL': {}, 'UVFUIGNLS': {}, 'VFUIGNLSY': {}, 'FUIGNLSYC': {}, 'UIGNLSYCN': {}, 'IGNLSYCNM': {}, 'GNLSYCNMP': {}, 'NLSYCNMPT': {}, 'LSYCNMPTP': {}, 'SYCNMPTPT': {}, 'YCNMPTPTZ': {}, 'CNMPTPTZO': {}, 'NMPTPTZOL': {}, 'MPTPTZOLA': {}, 'PTPTZOLAP': {}, 'TPTZOLAPL': {}, 'PTZOLAPLX': {}, 'TZOLAPLXB': {}, 'ZOLAPLXBE': {}, 'OLAPLXBEF': {}, 'LAPLXBEFU': {}, 'APLXBEFUL': {}, 'PLXBEFULE': {}, 'LXBEFULEX': {}, 'XBEFULEXI': {}, 'BEFULEXIL': {}, 'EFULEXILV': {}, 'FULEXILVL': {}, 'ULEXILVLP': {}, 'LEXILVLPO': {}, 'EXILVLPOT': {}, 'XILVLPOTI': {}, 'ILVLPOTIP': {}, 'LVLPOTIPI': {}, 'VLPOTIPIW': {}, 'LPOTIPIWS': {}, 'POTIPIWSD': {}, 'OTIPIWSDD': {}, 'TIPIWSDDU': {}, 'IPIWSDDUZ': {}, 'PIWSDDUZL': {}, 'IWSDDUZLA': {}, 'WSDDUZLAY': {}, 'SDDUZLAYN': {}, 'DDUZLAYNS': {}, 'DUZLAYNSW': {}, 'UZLAYNSWO': {}, 'ZLAYNSWOI': {}, 'LAYNSWOIW': {}, 'AYNSWOIWN': {}, 'YNSWOIWNR': {}, 'NSWOIWNRQ': {}, 'SWOIWNRQT': {}, 'WOIWNRQTB': {}, 'OIWNRQTBK': {}, 'IWNRQTBKO': {}, 'WNRQTBKOB': {}, 'NRQTBKOBQ': {}, 'RQTBKOBQE': {}, 'QTBKOBQEZ': {}, 'TBKOBQEZM': {}, 'BKOBQEZMV': {}, 'KOBQEZMVI': {}, 'OBQEZMVIL': {}, 'BQEZMVILB': {}, 'QEZMVILBJ': {}, 'EZMVILBJW': {}, 'ZMVILBJWA': {}, 'BZXBOSYIC': {}, 'ZXBOSYICA': {}, 'XBOSYICAV': {}, 'BOSYICAVY': {}, 'OSYICAVYW': {}, 'SYICAVYWL': {}, 'YICAVYWLF': {}, 'ICAVYWLFK': {}, 'AVYWLFKVT': {}, 'VYWLFKVTU': {}, 'YWLFKVTUU': {}, 'WLFKVTUUB': {}, 'LFKVTUUBG': {}, 'FKVTUUBGX': {}, 'KVTUUBGXC': {}, 'VTUUBGXCI': {}, 'TUUBGXCIZ': {}, 'UUBGXCIZE': {}, 'UBGXCIZEO': {}, 'BGXCIZEOM': {}, 'GXCIZEOMV': {}, 'XCIZEOMVI': {}, 'CIZEOMVIL': {}, 'IZEOMVILB': {}, 'ZEOMVILBJ': {}, 'EOMVILBJW': {}, 'OMVILBJWA': {}, 'BZXBOSYIG': {}, 'ZXBOSYIGQ': {}, 'XBOSYIGQA': {}, 'BOSYIGQAM': {}, 'OSYIGQAMW': {}, 'SYIGQAMWZ': {}, 'YIGQAMWZB': {}, 'IGQAMWZBG': {}, 'GQAMWZBGZ': {}, 'QAMWZBGZT': {}, 'AMWZBGZTG': {}, 'MWZBGZTGA': {}, 'WZBGZTGAX': {}, 'ZBGZTGAXA': {}, 'BGZTGAXAZ': {}, 'GZTGAXAZQ': {}, 'ZTGAXAZQO': {}, 'TGAXAZQOW': {}, 'GAXAZQOWN': {}, 'AXAZQOWNQ': {}, 'XAZQOWNQA': {}, 'AZQOWNQAV': {}, 'ZQOWNQAVI': {}, 'QOWNQAVIL': {}, 'OWNQAVILB': {}, 'WNQAVILBJ': {}, 'NQAVILBJW': {}, 'QAVILBJWT': {}, 'AVILBJWTQ': {}, 'VILBJWTQK': {}, 'ILBJWTQKH': {}, 'LBJWTQKHB': {}, 'BJWTQKHBG': {}, 'JWTQKHBGW': {}, 'WTQKHBGWK': {}, 'TQKHBGWKZ': {}, 'QKHBGWKZT': {}, 'KHBGWKZTQ': {}, 'HBGWKZTQA': {}, 'BGWKZTQAX': {}, 'GWKZTQAXB': {}, 'WKZTQAXBF': {}, 'KZTQAXBFB': {}, 'ZTQAXBFBS': {}, 'TQAXBFBSM': {}, 'QAXBFBSMJ': {}, 'AXBFBSMJA': {}, 'XBFBSMJAZ': {}, 'BFBSMJAZV': {}, 'FBSMJAZVC': {}, 'BSMJAZVCX': {}, 'SMJAZVCXI': {}, 'MJAZVCXIT': {}, 'JAZVCXITQ': {}, 'AZVCXITQC': {}, 'ZVCXITQCM': {}, 'VCXITQCML': {}, 'CXITQCMLH': {}, 'XITQCMLHF': {}, 'ITQCMLHFN': {}, 'TQCMLHFNI': {}, 'QCMLHFNIG': {}, 'CMLHFNIGV': {}, 'MLHFNIGVD': {}, 'LHFNIGVDA': {}, 'HFNIGVDAL': {}, 'FNIGVDALX': {}, 'NIGVDALXG': {}, 'IGVDALXGL': {}, 'GVDALXGLF': {}, 'VDALXGLFX': {}, 'DALXGLFXW': {}, 'ALXGLFXWL': {}, 'LXGLFXWLX': {}, 'XGLFXWLXI': {}, 'GLFXWLXIL': {}, 'LFXWLXILI': {}, 'FXWLXILIY': {}, 'XWLXILIYO': {}, 'WLXILIYOS': {}, 'LXILIYOSM': {}, 'XILIYOSMN': {}, 'ILIYOSMNF': {}, 'LIYOSMNFI': {}, 'BTTQLPRMY': {}, 'TTQLPRMYB': {}, 'TQLPRMYBI': {}, 'QLPRMYBIK': {}, 'LPRMYBIKO': {}, 'PRMYBIKOP': {}, 'RMYBIKOPZ': {}, 'MYBIKOPZR': {}, 'YBIKOPZRW': {}, 'BIKOPZRWD': {}, 'IKOPZRWDQ': {}, 'KOPZRWDQJ': {}, 'OPZRWDQJX': {}, 'PZRWDQJXA': {}, 'ZRWDQJXAZ': {}, 'RWDQJXAZG': {}, 'WDQJXAZGG': {}, 'DQJXAZGGX': {}, 'QJXAZGGXR': {}, 'JXAZGGXRQ': {}, 'XAZGGXRQV': {}, 'AZGGXRQVW': {}, 'ZGGXRQVWS': {}, 'GGXRQVWSC': {}, 'GXRQVWSCO': {}, 'XRQVWSCOS': {}, 'RQVWSCOSI': {}, 'QVWSCOSIN': {}, 'VWSCOSINQ': {}, 'WSCOSINQR': {}, 'SCOSINQRT': {}, 'COSINQRTF': {}, 'OSINQRTFE': {}, 'SINQRTFEI': {}, 'INQRTFEIY': {}, 'NQRTFEIYM': {}, 'QRTFEIYMM': {}, 'RTFEIYMMA': {}, 'TFEIYMMAK': {}, 'FEIYMMAKB': {}, 'EIYMMAKBC': {}, 'IYMMAKBCY': {}, 'YMMAKBCYS': {}, 'MMAKBCYSY': {}, 'MAKBCYSYX': {}, 'AKBCYSYXO': {}, 'KBCYSYXOD': {}, 'BCYSYXODY': {}, 'CYSYXODYN': {}, 'YSYXODYNS': {}, 'SYXODYNSD': {}, 'YXODYNSDW': {}, 'XODYNSDWT': {}, 'ODYNSDWTW': {}, 'DYNSDWTWL': {}, 'YNSDWTWLA': {}, 'NSDWTWLAP': {}, 'SDWTWLAPT': {}, 'DWTWLAPTQ': {}, 'WTWLAPTQP': {}, 'TWLAPTQPG': {}, 'WLAPTQPGY': {}, 'LAPTQPGYQ': {}, 'APTQPGYQE': {}, 'PTQPGYQEY': {}, 'TQPGYQEYX': {}, 'QPGYQEYXK': {}, 'PGYQEYXKS': {}, 'GYQEYXKSD': {}, 'YQEYXKSDS': {}, 'QEYXKSDSX': {}, 'EYXKSDSXI': {}, 'YXKSDSXIS': {}, 'XKSDSXISH': {}, 'KSDSXISHQ': {}, 'SDSXISHQV': {}, 'DSXISHQVH': {}, 'SXISHQVHT': {}, 'XISHQVHTA': {}, 'ISHQVHTAG': {}, 'SHQVHTAGL': {}, 'HQVHTAGLE': {}, 'QVHTAGLEX': {}, 'VHTAGLEXI': {}, 'HTAGLEXIL': {}, 'TAGLEXILQ': {}, 'AGLEXILQT': {}, 'GLEXILQTF': {}, 'LEXILQTFI': {}, 'EXILQTFIC': {}, 'XILQTFICN': {}, 'ILQTFICNE': {}, 'LQTFICNEB': {}, 'QTFICNEBT': {}, 'TFICNEBTB': {}, 'FICNEBTBN': {}, 'ICNEBTBNW': {}, 'CNEBTBNWG': {}, 'NEBTBNWGA': {}, 'EBTBNWGAD': {}, 'BTBNWGADQ': {}, 'TBNWGADQT': {}, 'BNWGADQTT': {}, 'NWGADQTTJ': {}, 'WGADQTTJT': {}, 'GADQTTJTR': {}, 'ADQTTJTRG': {}, 'DQTTJTRGT': {}, 'QTTJTRGTA': {}, 'TTJTRGTAE': {}, 'TJTRGTAEJ': {}, 'JTRGTAEJH': {}, 'TRGTAEJHZ': {}, 'RGTAEJHZL': {}, 'GTAEJHZLG': {}, 'TAEJHZLGI': {}, 'AEJHZLGIC': {}, 'EJHZLGICR': {}, 'JHZLGICRH': {}, 'HZLGICRHI': {}, 'ZLGICRHIL': {}, 'LGICRHILR': {}, 'GICRHILRP': {}, 'ICRHILRPG': {}, 'CRHILRPGG': {}, 'RHILRPGGO': {}, 'HILRPGGOR': {}, 'ILRPGGORM': {}, 'LRPGGORML': {}, 'RPGGORMLT': {}, 'PGGORMLTP': {}, 'GGORMLTPW': {}, 'GORMLTPWS': {}, 'ORMLTPWSY': {}, 'RMLTPWSYY': {}, 'MLTPWSYYU': {}, 'LTPWSYYUQ': {}, 'TPWSYYUQB': {}, 'PWSYYUQBX': {}, 'WSYYUQBXS': {}, 'SYYUQBXSY': {}, 'YYUQBXSYJ': {}, 'YUQBXSYJO': {}, 'UQBXSYJOI': {}, 'QBXSYJOIN': {}, 'BXSYJOINM': {}, 'XSYJOINMB': {}, 'SYJOINMBB': {}, 'YJOINMBBM': {}, 'JOINMBBML': {}, 'OINMBBMLZ': {}, 'INMBBMLZG': {}, 'NMBBMLZGO': {}, 'MBBMLZGOE': {}, 'BBMLZGOEZ': {}, 'BMLZGOEZB': {}, 'MLZGOEZBX': {}, 'LZGOEZBXE': {}, 'ZGOEZBXEF': {}, 'GOEZBXEFS': {}, 'OEZBXEFSZ': {}, 'EZBXEFSZM': {}, 'ZBXEFSZMR': {}, 'BXEFSZMRA': {}, 'XEFSZMRAL': {}, 'EFSZMRALX': {}, 'FSZMRALXO': {}, 'SZMRALXOE': {}, 'ZMRALXOEO': {}, 'MRALXOEOS': {}, 'RALXOEOSJ': {}, 'ALXOEOSJI': {}, 'LXOEOSJIQ': {}, 'XOEOSJIQV': {}, 'OEOSJIQVT': {}, 'EOSJIQVTD': {}, 'OSJIQVTDC': {}, 'SJIQVTDCS': {}, 'JIQVTDCST': {}, 'IQVTDCSTL': {}, 'QVTDCSTLE': {}, 'VTDCSTLEM': {}, 'TDCSTLEMK': {}, 'DCSTLEMKH': {}, 'CSTLEMKHA': {}, 'STLEMKHAF': {}, 'TLEMKHAFB': {}, 'LEMKHAFBO': {}, 'EMKHAFBOK': {}, 'MKHAFBOKA': {}, 'KHAFBOKAD': {}, 'HAFBOKADB': {}, 'AFBOKADBX': {}, 'FBOKADBXO': {}, 'BOKADBXOD': {}, 'OKADBXODW': {}, 'KADBXODWK': {}, 'ADBXODWKA': {}, 'DBXODWKAC': {}, 'BXODWKACA': {}, 'XODWKACAU': {}, 'ODWKACAUH': {}, 'DWKACAUHQ': {}, 'WKACAUHQZ': {}, 'KACAUHQZB': {}, 'ACAUHQZBY': {}, 'CAUHQZBYQ': {}, 'AUHQZBYQG': {}, 'UHQZBYQGG': {}, 'HQZBYQGGM': {}, 'QZBYQGGML': {}, 'ZBYQGGMLE': {}, 'BYQGGMLEF': {}, 'YQGGMLEFS': {}, 'QGGMLEFSR': {}, 'GGMLEFSRI': {}, 'GMLEFSRIG': {}, 'MLEFSRIGQ': {}, 'LEFSRIGQV': {}, 'EFSRIGQVM': {}, 'FSRIGQVMS': {}, 'SRIGQVMSN': {}, 'RIGQVMSNC': {}, 'IGQVMSNCT': {}, 'GQVMSNCTN': {}, 'QVMSNCTNI': {}, 'VMSNCTNIQ': {}, 'MSNCTNIQM': {}, 'SNCTNIQMG': {}, 'NCTNIQMGH': {}, 'CTNIQMGHT': {}, 'TNIQMGHTM': {}, 'NIQMGHTMY': {}, 'IQMGHTMYM': {}, 'QMGHTMYMD': {}, 'MGHTMYMDQ': {}, 'GHTMYMDQR': {}, 'HTMYMDQRX': {}, 'TMYMDQRXW': {}, 'MYMDQRXWY': {}, 'YMDQRXWYT': {}, 'MDQRXWYTR': {}, 'DQRXWYTRC': {}, 'QRXWYTRCI': {}, 'RXWYTRCID': {}, 'XWYTRCIDX': {}, 'WYTRCIDXH': {}, 'YTRCIDXHF': {}, 'TRCIDXHFE': {}, 'RCIDXHFEW': {}, 'CIDXHFEWE': {}, 'IDXHFEWEJ': {}, 'DXHFEWEJU': {}, 'XHFEWEJUE': {}, 'HFEWEJUEK': {}, 'FEWEJUEKT': {}, 'EWEJUEKTI': {}, 'WEJUEKTIY': {}, 'EJUEKTIYO': {}, 'JUEKTIYOS': {}, 'UEKTIYOSM': {}, 'EKTIYOSMN': {}, 'KTIYOSMNF': {}, 'TIYOSMNFI': {}, 'BTTQLPRMS': {}, 'TTQLPRMSQ': {}, 'TQLPRMSQB': {}, 'QLPRMSQBK': {}, 'LPRMSQBKO': {}, 'PRMSQBKOE': {}, 'RMSQBKOEO': {}, 'MSQBKOEOJ': {}, 'SQBKOEOJM': {}, 'QBKOEOJMC': {}, 'BKOEOJMCA': {}, 'KOEOJMCAV': {}, 'OEOJMCAVY': {}, 'EOJMCAVYW': {}, 'OJMCAVYWL': {}, 'JMCAVYWLF': {}, 'MCAVYWLFK': {}, 'AVYWLFKVQ': {}, 'VYWLFKVQG': {}, 'YWLFKVQGM': {}, 'WLFKVQGMM': {}, 'LFKVQGMMW': {}, 'FKVQGMMWP': {}, 'KVQGMMWPB': {}, 'VQGMMWPBK': {}, 'QGMMWPBKA': {}, 'GMMWPBKAL': {}, 'MMWPBKALM': {}, 'MWPBKALMK': {}, 'WPBKALMKT': {}, 'PBKALMKTD': {}, 'BKALMKTDL': {}, 'KALMKTDLQ': {}, 'ALMKTDLQO': {}, 'LMKTDLQOL': {}, 'MKTDLQOLA': {}, 'KTDLQOLAP': {}, 'TDLQOLAPL': {}, 'DLQOLAPLX': {}, 'LQOLAPLXJ': {}, 'QOLAPLXJP': {}, 'OLAPLXJPF': {}, 'LAPLXJPFR': {}, 'APLXJPFRI': {}, 'PLXJPFRIS': {}, 'LXJPFRISO': {}, 'XJPFRISOW': {}, 'JPFRISOWL': {}, 'PFRISOWLO': {}, 'FRISOWLOD': {}, 'RISOWLODO': {}, 'ISOWLODOZ': {}, 'SOWLODOZZ': {}, 'OWLODOZZA': {}, 'WLODOZZAH': {}, 'LODOZZAHM': {}, 'ODOZZAHML': {}, 'DOZZAHMLR': {}, 'OZZAHMLRP': {}, 'ZZAHMLRPM': {}, 'ZAHMLRPMG': {}, 'AHMLRPMGY': {}, 'HMLRPMGYU': {}, 'MLRPMGYUQ': {}, 'LRPMGYUQV': {}, 'RPMGYUQVH': {}, 'PMGYUQVHG': {}, 'MGYUQVHGP': {}, 'GYUQVHGPH': {}, 'YUQVHGPHX': {}, 'UQVHGPHXI': {}, 'QVHGPHXIT': {}, 'VHGPHXITM': {}, 'HGPHXITML': {}, 'GPHXITMLX': {}, 'PHXITMLXB': {}, 'HXITMLXBP': {}, 'XITMLXBPU': {}, 'ITMLXBPUU': {}, 'TMLXBPUUK': {}, 'MLXBPUUKI': {}, 'LXBPUUKIM': {}, 'XBPUUKIMZ': {}, 'BPUUKIMZV': {}, 'PUUKIMZVC': {}, 'UUKIMZVCY': {}, 'UKIMZVCYH': {}, 'KIMZVCYHO': {}, 'IMZVCYHOO': {}, 'MZVCYHOOO': {}, 'ZVCYHOOOK': {}, 'VCYHOOOKR': {}, 'CYHOOOKRN': {}, 'YHOOOKRNG': {}, 'HOOOKRNGE': {}, 'OOOKRNGEW': {}, 'OOKRNGEWL': {}, 'OKRNGEWLQ': {}, 'KRNGEWLQC': {}, 'RNGEWLQCM': {}, 'NGEWLQCMZ': {}, 'GEWLQCMZM': {}, 'EWLQCMZMC': {}, 'WLQCMZMCO': {}, 'LQCMZMCOO': {}, 'QCMZMCOOY': {}, 'CMZMCOOYT': {}, 'MZMCOOYTA': {}, 'ZMCOOYTAE': {}, 'MCOOYTAEK': {}, 'COOYTAEKH': {}, 'OOYTAEKHG': {}, 'OYTAEKHGL': {}, 'YTAEKHGLG': {}, 'TAEKHGLGW': {}, 'AEKHGLGWC': {}, 'EKHGLGWCE': {}, 'KHGLGWCET': {}, 'HGLGWCETI': {}, 'GLGWCETIV': {}, 'LGWCETIVS': {}, 'GWCETIVSD': {}, 'WCETIVSDA': {}, 'CETIVSDAG': {}, 'ETIVSDAGT': {}, 'TIVSDAGTP': {}, 'IVSDAGTPA': {}, 'VSDAGTPAZ': {}, 'SDAGTPAZJ': {}, 'DAGTPAZJI': {}, 'AGTPAZJIP': {}, 'GTPAZJIPG': {}, 'TPAZJIPGU': {}, 'PAZJIPGUU': {}, 'AZJIPGUUO': {}, 'ZJIPGUUOE': {}, 'JIPGUUOEU': {}, 'IPGUUOEUT': {}, 'PGUUOEUTE': {}, 'GUUOEUTEF': {}, 'UUOEUTEFW': {}, 'UOEUTEFWT': {}, 'OEUTEFWTQ': {}, 'EUTEFWTQT': {}, 'UTEFWTQTM': {}, 'TEFWTQTMA': {}, 'EFWTQTMAW': {}, 'FWTQTMAWS': {}, 'WTQTMAWSY': {}, 'TQTMAWSYO': {}, 'QTMAWSYOX': {}, 'TMAWSYOXZ': {}, 'MAWSYOXZA': {}, 'AWSYOXZAF': {}, 'WSYOXZAFQ': {}, 'SYOXZAFQO': {}, 'YOXZAFQOO': {}, 'OXZAFQOOD': {}, 'XZAFQOODD': {}, 'ZAFQOODDG': {}, 'AFQOODDGZ': {}, 'FQOODDGZA': {}, 'QOODDGZAO': {}, 'OODDGZAOC': {}, 'ODDGZAOCT': {}, 'DDGZAOCTZ': {}, 'DGZAOCTZB': {}, 'GZAOCTZBI': {}, 'ZAOCTZBIO': {}, 'AOCTZBIOM': {}, 'OCTZBIOMR': {}, 'CTZBIOMRO': {}, 'TZBIOMROW': {}, 'ZBIOMROWL': {}, 'BIOMROWLO': {}, 'IOMROWLOY': {}, 'OMROWLOYC': {}, 'MROWLOYCY': {}, 'ROWLOYCYK': {}, 'OWLOYCYKR': {}, 'WLOYCYKRQ': {}, 'LOYCYKRQI': {}, 'OYCYKRQIF': {}, 'YCYKRQIFC': {}, 'CYKRQIFCD': {}, 'YKRQIFCDI': {}, 'KRQIFCDIT': {}, 'RQIFCDITI': {}, 'QIFCDITIH': {}, 'IFCDITIHU': {}, 'FCDITIHUA': {}, 'CDITIHUAM': {}, 'DITIHUAMC': {}, 'ITIHUAMCC': {}, 'TIHUAMCCW': {}, 'IHUAMCCWG': {}, 'HUAMCCWGY': {}, 'UAMCCWGYU': {}, 'AMCCWGYUQ': {}, 'MCCWGYUQR': {}, 'CCWGYUQRN': {}, 'CWGYUQRNG': {}, 'WGYUQRNGE': {}, 'GYUQRNGEW': {}, 'YUQRNGEWL': {}, 'UQRNGEWLQ': {}, 'QRNGEWLQQ': {}, 'RNGEWLQQG': {}, 'NGEWLQQGM': {}, 'GEWLQQGME': {}, 'EWLQQGMEC': {}, 'WLQQGMECB': {}, 'LQQGMECBI': {}, 'QQGMECBIK': {}, 'QGMECBIKP': {}, 'GMECBIKPA': {}, 'MECBIKPAO': {}, 'ECBIKPAOM': {}, 'CBIKPAOMF': {}, 'BIKPAOMFC': {}, 'IKPAOMFCD': {}, 'KPAOMFCDD': {}, 'PAOMFCDDK': {}, 'AOMFCDDKZ': {}, 'OMFCDDKZO': {}, 'MFCDDKZOD': {}, 'FCDDKZODM': {}, 'CDDKZODMT': {}, 'DDKZODMTZ': {}, 'DKZODMTZX': {}, 'KZODMTZXS': {}, 'ZODMTZXST': {}, 'ODMTZXSTB': {}, 'DMTZXSTBE': {}, 'MTZXSTBEZ': {}, 'TZXSTBEZW': {}, 'ZXSTBEZWA': {}, 'XSTBEZWAO': {}, 'STBEZWAON': {}, 'TBEZWAONS': {}, 'BEZWAONSS': {}, 'EZWAONSSW': {}, 'ZWAONSSWS': {}, 'WAONSSWSX': {}, 'AONSSWSXW': {}, 'ONSSWSXWJ': {}, 'NSSWSXWJI': {}, 'SSWSXWJIP': {}, 'SWSXWJIPE': {}, 'WSXWJIPEA': {}, 'SXWJIPEAM': {}, 'XWJIPEAMR': {}, 'WJIPEAMRQ': {}, 'JIPEAMRQU': {}, 'IPEAMRQUH': {}, 'PEAMRQUHG': {}, 'EAMRQUHGS': {}, 'AMRQUHGSO': {}, 'MRQUHGSOI': {}, 'RQUHGSOIM': {}, 'QUHGSOIMR': {}, 'UHGSOIMRK': {}, 'HGSOIMRKI': {}, 'GSOIMRKIJ': {}, 'SOIMRKIJI': {}, 'OIMRKIJIP': {}, 'IMRKIJIPG': {}, 'MRKIJIPGU': {}, 'RKIJIPGUU': {}, 'KIJIPGUUO': {}, 'IJIPGUUOE': {}, 'JIPGUUOEX': {}, 'IPGUUOEXK': {}, 'PGUUOEXKC': {}, 'GUUOEXKCO': {}, 'UUOEXKCOI': {}, 'UOEXKCOII': {}, 'OEXKCOIIB': {}, 'EXKCOIIBO': {}, 'XKCOIIBOE': {}, 'KCOIIBOEL': {}, 'COIIBOELX': {}, 'OIIBOELXZ': {}, 'IIBOELXZN': {}, 'IBOELXZNC': {}, 'BOELXZNCT': {}, 'OELXZNCTB': {}, 'ELXZNCTBE': {}, 'LXZNCTBEJ': {}, 'XZNCTBEJB': {}, 'ZNCTBEJBH': {}, 'NCTBEJBHM': {}, 'CTBEJBHMP': {}, 'TBEJBHMPG': {}, 'BEJBHMPGZ': {}, 'EJBHMPGZM': {}, 'JBHMPGZME': {}, 'BHMPGZMEE': {}, 'HMPGZMEEB': {}, 'MPGZMEEBX': {}, 'PGZMEEBXH': {}, 'GZMEEBXHC': {}, 'ZMEEBXHCW': {}, 'MEEBXHCWI': {}, 'EEBXHCWIW': {}, 'EBXHCWIWA': {}, 'BXHCWIWAE': {}, 'XHCWIWAEQ': {}, 'HCWIWAEQJ': {}, 'CWIWAEQJI': {}, 'WIWAEQJIP': {}, 'IWAEQJIPA': {}, 'WAEQJIPAK': {}, 'AEQJIPAKR': {}, 'EQJIPAKRO': {}, 'QJIPAKROD': {}, 'JIPAKRODM': {}, 'IPAKRODMG': {}, 'PAKRODMGS': {}, 'AKRODMGSD': {}, 'KRODMGSDH': {}, 'RODMGSDHG': {}, 'ODMGSDHGD': {}, 'DMGSDHGDI': {}, 'SDHGDIPIU': {}, 'DHGDIPIUI': {}, 'HGDIPIUID': {}, 'GDIPIUIDQ': {}, 'DIPIUIDQG': {}, 'IPIUIDQGB': {}, 'PIUIDQGBU': {}, 'IUIDQGBUB': {}, 'UIDQGBUBZ': {}, 'IDQGBUBZH': {}, 'DQGBUBZHD': {}, 'QGBUBZHDZ': {}, 'GBUBZHDZG': {}, 'BUBZHDZGO': {}, 'UBZHDZGOB': {}, 'BZHDZGOBO': {}, 'ZHDZGOBOK': {}, 'HDZGOBOKZ': {}, 'DZGOBOKZX': {}, 'ZGOBOKZXQ': {}, 'GOBOKZXQF': {}, 'OBOKZXQFS': {}, 'BOKZXQFSX': {}, 'OKZXQFSXL': {}, 'KZXQFSXLA': {}, 'ZXQFSXLAC': {}, 'XQFSXLACC': {}, 'QFSXLACCX': {}, 'FSXLACCXS': {}, 'SXLACCXSD': {}, 'XLACCXSDH': {}, 'LACCXSDHK': {}, 'ACCXSDHKV': {}, 'CCXSDHKVO': {}, 'CXSDHKVOQ': {}, 'XSDHKVOQA': {}, 'SDHKVOQAM': {}, 'DHKVOQAMO': {}, 'HKVOQAMOP': {}, 'KVOQAMOPB': {}, 'VOQAMOPBR': {}, 'OQAMOPBRI': {}, 'QAMOPBRIS': {}, 'AMOPBRISD': {}, 'MOPBRISDM': {}, 'OPBRISDMW': {}, 'PBRISDMWS': {}, 'BRISDMWSD': {}, 'RISDMWSDG': {}, 'ISDMWSDGU': {}, 'SDMWSDGUK': {}, 'DMWSDGUKI': {}, 'MWSDGUKIM': {}, 'WSDGUKIMT': {}, 'SDGUKIMTX': {}, 'DGUKIMTXG': {}, 'GUKIMTXGY': {}, 'UKIMTXGYW': {}, 'KIMTXGYWK': {}, 'IMTXGYWKV': {}, 'MTXGYWKVA': {}, 'TXGYWKVAX': {}, 'XGYWKVAXO': {}, 'GYWKVAXON': {}, 'YWKVAXONB': {}, 'WKVAXONBL': {}, 'KVAXONBLV': {}, 'VAXONBLVK': {}, 'AXONBLVKZ': {}, 'XONBLVKZR': {}, 'ONBLVKZRM': {}, 'NBLVKZRMU': {}, 'BLVKZRMUB': {}, 'LVKZRMUBS': {}, 'VKZRMUBSY': {}, 'KZRMUBSYH': {}, 'ZRMUBSYHG': {}, 'RMUBSYHGL': {}, 'MUBSYHGLE': {}, 'UBSYHGLEX': {}, 'BSYHGLEXA': {}, 'SYHGLEXAB': {}, 'YHGLEXABG': {}, 'HGLEXABGE': {}, 'GLEXABGES': {}, 'LEXABGESS': {}, 'EXABGESSI': {}, 'XABGESSIQ': {}, 'ABGESSIQG': {}, 'BGESSIQGM': {}, 'GESSIQGMM': {}, 'ESSIQGMMS': {}, 'SSIQGMMSM': {}, 'SIQGMMSMF': {}, 'IQGMMSMFO': {}, 'QGMMSMFOV': {}, 'GMMSMFOVD': {}, 'MMSMFOVDQ': {}, 'MSMFOVDQA': {}, 'SMFOVDQAT': {}, 'MFOVDQATH': {}, 'FOVDQATHT': {}, 'OVDQATHTG': {}, 'VDQATHTGL': {}, 'DQATHTGLI': {}, 'QATHTGLIC': {}, 'ATHTGLICO': {}, 'THTGLICOQ': {}, 'HTGLICOQH': {}, 'TGLICOQHB': {}, 'GLICOQHBT': {}, 'LICOQHBTB': {}, 'ICOQHBTBY': {}, 'COQHBTBYB': {}, 'OQHBTBYBA': {}, 'QHBTBYBAZ': {}, 'HBTBYBAZB': {}, 'BTBYBAZBT': {}, 'TBYBAZBTB': {}, 'BYBAZBTBE': {}, 'YBAZBTBEO': {}, 'BAZBTBEOT': {}, 'AZBTBEOTM': {}, 'ZBTBEOTMA': {}, 'BTBEOTMAO': {}, 'TBEOTMAOC': {}, 'BEOTMAOCB': {}, 'EOTMAOCBR': {}, 'OTMAOCBRL': {}, 'TMAOCBRLR': {}, 'MAOCBRLRK': {}, 'AOCBRLRKT': {}, 'OCBRLRKTO': {}, 'CBRLRKTOE': {}, 'BRLRKTOEB': {}, 'RLRKTOEBN': {}, 'LRKTOEBNM': {}, 'RKTOEBNMZ': {}, 'KTOEBNMZG': {}, 'TOEBNMZGE': {}, 'OEBNMZGEB': {}, 'EBNMZGEBO': {}, 'BNMZGEBOY': {}, 'NMZGEBOYI': {}, 'MZGEBOYIX': {}, 'ZGEBOYIXZ': {}, 'GEBOYIXZN': {}, 'EBOYIXZNC': {}, 'BOYIXZNCT': {}, 'OYIXZNCTB': {}, 'YIXZNCTBR': {}, 'IXZNCTBRA': {}, 'XZNCTBRAT': {}, 'ZNCTBRATW': {}, 'NCTBRATWS': {}, 'CTBRATWSE': {}, 'TBRATWSEI': {}, 'BRATWSEIB': {}, 'RATWSEIBQ': {}, 'ATWSEIBQD': {}, 'TWSEIBQDM': {}, 'WSEIBQDMP': {}, 'SEIBQDMPX': {}, 'EIBQDMPXF': {}, 'IBQDMPXFC': {}, 'BQDMPXFCO': {}, 'QDMPXFCOS': {}, 'DMPXFCOSQ': {}, 'MPXFCOSQE': {}, 'PXFCOSQEZ': {}, 'XFCOSQEZB': {}, 'FCOSQEZBT': {}, 'COSQEZBTG': {}, 'OSQEZBTGX': {}, 'SQEZBTGXI': {}, 'QEZBTGXIE': {}, 'EZBTGXIEJ': {}, 'ZBTGXIEJE': {}, 'BTGXIEJEZ': {}, 'TGXIEJEZM': {}, 'GXIEJEZMY': {}, 'XIEJEZMYW': {}, 'IEJEZMYWN': {}, 'EJEZMYWNW': {}, 'JEZMYWNWU': {}, 'EZMYWNWUA': {}, 'ZMYWNWUAA': {}, 'MYWNWUAAE': {}, 'YWNWUAAEM': {}, 'WNWUAAEMG': {}, 'NWUAAEMGS': {}, 'WUAAEMGSW': {}, 'UAAEMGSWO': {}, 'AAEMGSWON': {}, 'AEMGSWONW': {}, 'EMGSWONWR': {}, 'MGSWONWRM': {}, 'GSWONWRMM': {}, 'SWONWRMML': {}, 'WONWRMMLS': {}, 'ONWRMMLSD': {}, 'NWRMMLSDA': {}, 'WRMMLSDAK': {}, 'RMMLSDAKL': {}, 'MMLSDAKLI': {}, 'MLSDAKLIF': {}, 'LSDAKLIFI': {}, 'SDAKLIFIK': {}, 'DAKLIFIKM': {}, 'AKLIFIKMO': {}, 'KLIFIKMOC': {}, 'LIFIKMOCX': {}, 'IFIKMOCXU': {}, 'FIKMOCXUI': {}, 'IKMOCXUID': {}, 'KMOCXUIDJ': {}, 'MOCXUIDJB': {}, 'OCXUIDJBS': {}, 'CXUIDJBSY': {}, 'XUIDJBSYM': {}, 'UIDJBSYMG': {}, 'IDJBSYMGY': {}, 'DJBSYMGYU': {}, 'JBSYMGYUQ': {}, 'BSYMGYUQM': {}, 'SYMGYUQML': {}, 'YMGYUQMLZ': {}, 'MGYUQMLZZ': {}, 'GYUQMLZZE': {}, 'YUQMLZZEA': {}, 'UQMLZZEAM': {}, 'QMLZZEAMD': {}, 'MLZZEAMDQ': {}, 'LZZEAMDQJ': {}, 'ZZEAMDQJX': {}, 'ZEAMDQJXA': {}, 'EAMDQJXAZ': {}, 'AMDQJXAZG': {}, 'MDQJXAZGN': {}, 'DQJXAZGNI': {}, 'QJXAZGNIC': {}, 'JXAZGNICQ': {}, 'XAZGNICQZ': {}, 'AZGNICQZL': {}, 'ZGNICQZLS': {}, 'GNICQZLSR': {}, 'NICQZLSRI': {}, 'ICQZLSRIT': {}, 'CQZLSRITT': {}, 'QZLSRITTA': {}, 'ZLSRITTAZ': {}, 'LSRITTAZI': {}, 'SRITTAZIM': {}, 'RITTAZIMI': {}, 'ITTAZIMIC': {}, 'TTAZIMICO': {}, 'TAZIMICOR': {}, 'AZIMICORM': {}, 'ZIMICORMZ': {}, 'IMICORMZM': {}, 'MICORMZMM': {}, 'ICORMZMML': {}, 'CORMZMMLH': {}, 'ORMZMMLHL': {}, 'RMZMMLHLE': {}, 'MZMMLHLEA': {}, 'ZMMLHLEAQ': {}, 'MMLHLEAQE': {}, 'MLHLEAQED': {}, 'LHLEAQEDM': {}, 'HLEAQEDMJ': {}, 'LEAQEDMJI': {}, 'EAQEDMJIP': {}, 'AQEDMJIPR': {}, 'QEDMJIPRA': {}, 'EDMJIPRAZ': {}, 'DMJIPRAZM': {}, 'MJIPRAZMM': {}, 'JIPRAZMMU': {}, 'IPRAZMMUH': {}, 'PRAZMMUHG': {}, 'RAZMMUHGZ': {}, 'AZMMUHGZQ': {}, 'ZMMUHGZQN': {}, 'MMUHGZQNW': {}, 'MUHGZQNWH': {}, 'UHGZQNWHA': {}, 'HGZQNWHAZ': {}, 'GZQNWHAZT': {}, 'ZQNWHAZTG': {}, 'QNWHAZTGL': {}, 'NWHAZTGLI': {}, 'WHAZTGLIT': {}, 'HAZTGLITY': {}, 'AZTGLITYU': {}, 'ZTGLITYUQ': {}, 'TGLITYUQD': {}, 'GLITYUQDB': {}, 'LITYUQDBJ': {}, 'ITYUQDBJL': {}, 'TYUQDBJLA': {}, 'YUQDBJLAU': {}, 'UQDBJLAUA': {}, 'QDBJLAUAE': {}, 'DBJLAUAEZ': {}, 'BJLAUAEZC': {}, 'JLAUAEZCG': {}, 'LAUAEZCGA': {}, 'AUAEZCGAF': {}, 'UAEZCGAFB': {}, 'AEZCGAFBJ': {}, 'EZCGAFBJW': {}, 'ZCGAFBJWQ': {}, 'CGAFBJWQG': {}, 'GAFBJWQGM': {}, 'AFBJWQGMU': {}, 'FBJWQGMUI': {}, 'BJWQGMUID': {}, 'JWQGMUIDQ': {}, 'WQGMUIDQG': {}, 'QGMUIDQGT': {}, 'GMUIDQGTA': {}, 'MUIDQGTAB': {}, 'UIDQGTABZ': {}, 'IDQGTABZB': {}, 'DQGTABZBJ': {}, 'QGTABZBJL': {}, 'GTABZBJLQ': {}, 'TABZBJLQO': {}, 'ABZBJLQOW': {}, 'BZBJLQOWN': {}, 'ZBJLQOWNP': {}, 'BJLQOWNPM': {}, 'JLQOWNPME': {}, 'LQOWNPMEG': {}, 'QOWNPMEGF': {}, 'OWNPMEGFS': {}, 'WNPMEGFST': {}, 'NPMEGFSTW': {}, 'PMEGFSTWY': {}, 'MEGFSTWYD': {}, 'EGFSTWYDM': {}, 'GFSTWYDMV': {}, 'FSTWYDMVI': {}, 'STWYDMVIP': {}, 'TWYDMVIPF': {}, 'WYDMVIPFJ': {}, 'YDMVIPFJI': {}, 'DMVIPFJIQ': {}, 'MVIPFJIQG': {}, 'VIPFJIQGM': {}, 'IPFJIQGME': {}, 'PFJIQGMEC': {}, 'FJIQGMECX': {}, 'JIQGMECXO': {}, 'IQGMECXOY': {}, 'QGMECXOYQ': {}, 'GMECXOYQM': {}, 'MECXOYQMB': {}, 'ECXOYQMBW': {}, 'CXOYQMBWK': {}, 'XOYQMBWKH': {}, 'OYQMBWKHL': {}, 'YQMBWKHLB': {}, 'QMBWKHLBZ': {}, 'MBWKHLBZM': {}, 'BWKHLBZME': {}, 'WKHLBZMEE': {}, 'KHLBZMEEP': {}, 'HLBZMEEPT': {}, 'LBZMEEPTQ': {}, 'BZMEEPTQP': {}, 'ZMEEPTQPF': {}, 'MEEPTQPFE': {}, 'EEPTQPFEB': {}, 'EPTQPFEBR': {}, 'PTQPFEBRM': {}, 'TQPFEBRMJ': {}, 'QPFEBRMJT': {}, 'PFEBRMJTX': {}, 'FEBRMJTXL': {}, 'EBRMJTXLF': {}, 'BRMJTXLFI': {}, 'RMJTXLFIW': {}, 'MJTXLFIWN': {}, 'JTXLFIWNF': {}, 'TXLFIWNFW': {}, 'XLFIWNFWW': {}, 'LFIWNFWWO': {}, 'FIWNFWWOE': {}, 'IWNFWWOEI': {}, 'WNFWWOEIK': {}, 'NFWWOEIKV': {}, 'FWWOEIKVE': {}, 'WWOEIKVED': {}, 'WOEIKVEDO': {}, 'OEIKVEDOB': {}, 'EIKVEDOBO': {}, 'IKVEDOBOP': {}, 'KVEDOBOPB': {}, 'VEDOBOPBL': {}, 'EDOBOPBLW': {}, 'DOBOPBLWC': {}, 'OBOPBLWCM': {}, 'BOPBLWCML': {}, 'OPBLWCMLT': {}, 'PBLWCMLTM': {}, 'BLWCMLTMY': {}, 'LWCMLTMYC': {}, 'WCMLTMYCY': {}, 'CMLTMYCYW': {}, 'MLTMYCYWL': {}, 'LTMYCYWLA': {}, 'TMYCYWLAX': {}, 'MYCYWLAXX': {}, 'YCYWLAXXB': {}, 'CYWLAXXBD': {}, 'YWLAXXBDO': {}, 'WLAXXBDOX': {}, 'LAXXBDOXX': {}, 'AXXBDOXXO': {}, 'XXBDOXXOD': {}, 'XBDOXXODY': {}, 'BDOXXODYN': {}, 'DOXXODYNS': {}, 'OXXODYNSY': {}, 'XXODYNSYC': {}, 'XODYNSYCB': {}, 'ODYNSYCBQ': {}, 'DYNSYCBQV': {}, 'YNSYCBQVU': {}, 'NSYCBQVUU': {}, 'SYCBQVUUH': {}, 'YCBQVUUHG': {}, 'CBQVUUHGP': {}, 'BQVUUHGPB': {}, 'QVUUHGPBA': {}, 'VUUHGPBAV': {}, 'UUHGPBAVM': {}, 'UHGPBAVMG': {}, 'HGPBAVMGV': {}, 'GPBAVMGVW': {}, 'PBAVMGVWC': {}, 'BAVMGVWCT': {}, 'AVMGVWCTR': {}, 'VMGVWCTRK': {}, 'MGVWCTRKI': {}, 'GVWCTRKIL': {}, 'VWCTRKILU': {}, 'WCTRKILUA': {}, 'CTRKILUAM': {}, 'TRKILUAMO': {}, 'RKILUAMOY': {}, 'KILUAMOYC': {}, 'ILUAMOYCV': {}, 'LUAMOYCVM': {}, 'UAMOYCVMR': {}, 'AMOYCVMRY': {}, 'MOYCVMRYQ': {}, 'OYCVMRYQM': {}, 'YCVMRYQMO': {}, 'CVMRYQMOD': {}, 'VMRYQMODE': {}, 'MRYQMODEA': {}, 'RYQMODEAM': {}, 'YQMODEAME': {}, 'QMODEAMEX': {}, 'MODEAMEXN': {}, 'ODEAMEXNN': {}, 'DEAMEXNNS': {}, 'EAMEXNNSR': {}, 'AMEXNNSRC': {}, 'MEXNNSRCJ': {}, 'EXNNSRCJM': {}, 'XNNSRCJMT': {}, 'NNSRCJMTG': {}, 'NSRCJMTGI': {}, 'SRCJMTGIE': {}, 'RCJMTGIEA': {}, 'CJMTGIEAL': {}, 'JMTGIEALG': {}, 'MTGIEALGK': {}, 'TGIEALGKI': {}, 'GIEALGKIP': {}, 'IEALGKIPM': {}, 'EALGKIPMO': {}, 'ALGKIPMON': {}, 'LGKIPMONS': {}, 'GKIPMONSJ': {}, 'KIPMONSJQ': {}, 'IPMONSJQU': {}, 'PMONSJQUV': {}, 'MONSJQUVO': {}, 'ONSJQUVOO': {}, 'NSJQUVOOM': {}, 'SJQUVOOMX': {}, 'JQUVOOMXZ': {}, 'QUVOOMXZG': {}, 'UVOOMXZGO': {}, 'VOOMXZGOR': {}, 'OOMXZGORW': {}, 'OMXZGORWR': {}, 'MXZGORWRP': {}, 'XZGORWRPM': {}, 'ZGORWRPMM': {}, 'GORWRPMMI': {}, 'ORWRPMMID': {}, 'RWRPMMIDS': {}, 'WRPMMIDSX': {}, 'RPMMIDSXX': {}, 'PMMIDSXXA': {}, 'MMIDSXXAD': {}, 'MIDSXXADI': {}, 'IDSXXADIJ': {}, 'DSXXADIJI': {}, 'SXXADIJIP': {}, 'XXADIJIPH': {}, 'XADIJIPHK': {}, 'ADIJIPHKL': {}, 'DIJIPHKLE': {}, 'IJIPHKLEE': {}, 'JIPHKLEEM': {}, 'IPHKLEEME': {}, 'PHKLEEMEF': {}, 'HKLEEMEFP': {}, 'KLEEMEFPG': {}, 'LEEMEFPGV': {}, 'EEMEFPGVM': {}, 'EMEFPGVMT': {}, 'MEFPGVMTA': {}, 'EFPGVMTAY': {}, 'FPGVMTAYN': {}, 'PGVMTAYNS': {}, 'GVMTAYNSE': {}, 'VMTAYNSES': {}, 'MTAYNSESS': {}, 'TAYNSESSM': {}, 'AYNSESSMR': {}, 'YNSESSMRQ': {}, 'NSESSMRQK': {}, 'SESSMRQKX': {}, 'ESSMRQKXG': {}, 'SSMRQKXGJ': {}, 'SMRQKXGJB': {}, 'MRQKXGJBU': {}, 'RQKXGJBUX': {}, 'QKXGJBUXR': {}, 'KXGJBUXRQ': {}, 'XGJBUXRQB': {}, 'GJBUXRQBX': {}, 'JBUXRQBXB': {}, 'BUXRQBXBO': {}, 'UXRQBXBOO': {}, 'XRQBXBOOY': {}, 'RQBXBOOYY': {}, 'QBXBOOYYU': {}, 'BXBOOYYUQ': {}, 'XBOOYYUQT': {}, 'BOOYYUQTT': {}, 'OOYYUQTTG': {}, 'OYYUQTTGN': {}, 'YYUQTTGNC': {}, 'YUQTTGNCY': {}, 'UQTTGNCYI': {}, 'QTTGNCYIS': {}, 'TTGNCYISO': {}, 'TGNCYISOI': {}, 'GNCYISOIF': {}, 'NCYISOIFP': {}, 'CYISOIFPT': {}, 'YISOIFPTS': {}, 'ISOIFPTST': {}, 'SOIFPTSTI': {}, 'OIFPTSTIC': {}, 'IFPTSTICF': {}, 'FPTSTICFC': {}, 'PTSTICFCT': {}, 'TSTICFCTB': {}, 'STICFCTBO': {}, 'TICFCTBOC': {}, 'ICFCTBOCY': {}, 'CFCTBOCYQ': {}, 'FCTBOCYQE': {}, 'CTBOCYQEY': {}, 'TBOCYQEYX': {}, 'BOCYQEYXK': {}, 'OCYQEYXKS': {}, 'CYQEYXKST': {}, 'YQEYXKSTU': {}, 'QEYXKSTUA': {}, 'EYXKSTUAI': {}, 'YXKSTUAIL': {}, 'XKSTUAILK': {}, 'KSTUAILKI': {}, 'STUAILKIJ': {}, 'TUAILKIJI': {}, 'UAILKIJIP': {}, 'AILKIJIPH': {}, 'ILKIJIPHA': {}, 'LKIJIPHAL': {}, 'KIJIPHALE': {}, 'IJIPHALER': {}, 'JIPHALERQ': {}, 'IPHALERQG': {}, 'PHALERQGW': {}, 'HALERQGWN': {}, 'ALERQGWNW': {}, 'LERQGWNWU': {}, 'ERQGWNWUV': {}, 'RQGWNWUVD': {}, 'QGWNWUVDQ': {}, 'GWNWUVDQM': {}, 'WNWUVDQMQ': {}, 'NWUVDQMQW': {}, 'WUVDQMQWE': {}, 'UVDQMQWEC': {}, 'VDQMQWECY': {}, 'DQMQWECYW': {}, 'QMQWECYWL': {}, 'MQWECYWLA': {}, 'QWECYWLAA': {}, 'WECYWLAAX': {}, 'ECYWLAAXO': {}, 'CYWLAAXOW': {}, 'YWLAAXOWQ': {}, 'WLAAXOWQG': {}, 'LAAXOWQGV': {}, 'AAXOWQGVZ': {}, 'AXOWQGVZM': {}, 'XOWQGVZMB': {}, 'OWQGVZMBK': {}, 'WQGVZMBKO': {}, 'QGVZMBKOM': {}, 'GVZMBKOMO': {}, 'VZMBKOMOP': {}, 'ZMBKOMOPI': {}, 'MBKOMOPIN': {}, 'BKOMOPINP': {}, 'KOMOPINPW': {}, 'OMOPINPWX': {}, 'MOPINPWXB': {}, 'OPINPWXBE': {}, 'PINPWXBEW': {}, 'INPWXBEWR': {}, 'NPWXBEWRW': {}, 'PWXBEWRWD': {}, 'WXBEWRWDQ': {}, 'XBEWRWDQU': {}, 'BEWRWDQUT': {}, 'EWRWDQUTG': {}, 'WRWDQUTGG': {}, 'RWDQUTGGW': {}, 'WDQUTGGWK': {}, 'DQUTGGWKV': {}, 'QUTGGWKVE': {}, 'UTGGWKVEF': {}, 'TGGWKVEFC': {}, 'GGWKVEFCW': {}, 'GWKVEFCWS': {}, 'WKVEFCWSM': {}, 'KVEFCWSMS': {}, 'VEFCWSMSY': {}, 'EFCWSMSYM': {}, 'FCWSMSYMS': {}, 'CWSMSYMSF': {}, 'WSMSYMSFI': {}, 'SMSYMSFIK': {}, 'MSYMSFIKS': {}, 'SYMSFIKSY': {}, 'YMSFIKSYS': {}, 'MSFIKSYSR': {}, 'SFIKSYSRX': {}, 'FIKSYSRXE': {}, 'IKSYSRXEP': {}, 'KSYSRXEPM': {}, 'SYSRXEPML': {}, 'YSRXEPMLH': {}, 'SRXEPMLHL': {}, 'RXEPMLHLZ': {}, 'XEPMLHLZJ': {}, 'EPMLHLZJM': {}, 'PMLHLZJMT': {}, 'MLHLZJMTG': {}, 'LHLZJMTGD': {}, 'HLZJMTGDB': {}, 'LZJMTGDBR': {}, 'ZJMTGDBRL': {}, 'JMTGDBRLM': {}, 'MTGDBRLMI': {}, 'TGDBRLMIW': {}, 'GDBRLMIWM': {}, 'DBRLMIWMA': {}, 'BRLMIWMAV': {}, 'RLMIWMAVT': {}, 'LMIWMAVTR': {}, 'MIWMAVTRT': {}, 'IWMAVTRTS': {}, 'WMAVTRTSB': {}, 'MAVTRTSBI': {}, 'AVTRTSBIA': {}, 'VTRTSBIAH': {}, 'TRTSBIAHM': {}, 'RTSBIAHMG': {}, 'TSBIAHMGW': {}, 'SBIAHMGWC': {}, 'BIAHMGWCO': {}, 'IAHMGWCOX': {}, 'AHMGWCOXM': {}, 'HMGWCOXMG': {}, 'MGWCOXMGM': {}, 'GWCOXMGMT': {}, 'WCOXMGMTT': {}, 'COXMGMTTF': {}, 'OXMGMTTFY': {}, 'XMGMTTFYC': {}, 'MGMTTFYCY': {}, 'GMTTFYCYB': {}, 'MTTFYCYBO': {}, 'TTFYCYBOP': {}, 'TFYCYBOPW': {}, 'FYCYBOPWE': {}, 'YCYBOPWEC': {}, 'CYBOPWECB': {}, 'YBOPWECBI': {}, 'BOPWECBIK': {}, 'OPWECBIKY': {}, 'PWECBIKYU': {}, 'WECBIKYUQ': {}, 'ECBIKYUQZ': {}, 'CBIKYUQZX': {}, 'BIKYUQZXA': {}, 'IKYUQZXAZ': {}, 'KYUQZXAZG': {}, 'YUQZXAZGV': {}, 'UQZXAZGVW': {}, 'QZXAZGVWR': {}, 'ZXAZGVWRX': {}, 'XAZGVWRXW': {}, 'AZGVWRXWJ': {}, 'ZGVWRXWJI': {}, 'GVWRXWJIP': {}, 'VWRXWJIPR': {}, 'WRXWJIPRK': {}, 'RXWJIPRKJ': {}, 'XWJIPRKJE': {}, 'WJIPRKJEY': {}, 'JIPRKJEYW': {}, 'IPRKJEYWL': {}, 'PRKJEYWLR': {}, 'RKJEYWLRP': {}, 'KJEYWLRPG': {}, 'JEYWLRPGK': {}, 'EYWLRPGKZ': {}, 'YWLRPGKZC': {}, 'WLRPGKZCA': {}, 'LRPGKZCAV': {}, 'RPGKZCAVL': {}, 'PGKZCAVLQ': {}, 'GKZCAVLQT': {}, 'KZCAVLQTS': {}, 'ZCAVLQTST': {}, 'CAVLQTSTB': {}, 'AVLQTSTBE': {}, 'VLQTSTBEE': {}, 'LQTSTBEEL': {}, 'QTSTBEELX': {}, 'TSTBEELXZ': {}, 'STBEELXZA': {}, 'TBEELXZAS': {}, 'BEELXZASY': {}, 'EELXZASYW': {}, 'ELXZASYWD': {}, 'LXZASYWDQ': {}, 'XZASYWDQB': {}, 'ZASYWDQBH': {}, 'ASYWDQBHR': {}, 'SYWDQBHRL': {}, 'YWDQBHRLG': {}, 'WDQBHRLGT': {}, 'DQBHRLGTC': {}, 'QBHRLGTCE': {}, 'BHRLGTCEE': {}, 'HRLGTCEEB': {}, 'RLGTCEEBK': {}, 'LGTCEEBKO': {}, 'GTCEEBKOD': {}, 'TCEEBKODO': {}, 'CEEBKODOI': {}, 'EEBKODOIK': {}, 'EBKODOIKI': {}, 'BKODOIKIA': {}, 'KODOIKIAV': {}, 'ODOIKIAVX': {}, 'DOIKIAVXG': {}, 'OIKIAVXGJ': {}, 'IKIAVXGJO': {}, 'KIAVXGJOW': {}, 'IAVXGJOWC': {}, 'AVXGJOWCE': {}, 'VXGJOWCEQ': {}, 'XGJOWCEQV': {}, 'GJOWCEQVX': {}, 'JOWCEQVXG': {}, 'OWCEQVXGE': {}, 'WCEQVXGEO': {}, 'CEQVXGEOB': {}, 'EQVXGEOBQ': {}, 'QVXGEOBQD': {}, 'VXGEOBQDM': {}, 'XGEOBQDMB': {}, 'GEOBQDMBH': {}, 'EOBQDMBHR': {}, 'OBQDMBHRZ': {}, 'BQDMBHRZG': {}, 'QDMBHRZGA': {}, 'DMBHRZGAU': {}, 'MBHRZGAUA': {}, 'BHRZGAUAB': {}, 'HRZGAUABM': {}, 'RZGAUABMK': {}, 'ZGAUABMKC': {}, 'GAUABMKCE': {}, 'AUABMKCEO': {}, 'UABMKCEOS': {}, 'ABMKCEOSJ': {}, 'BMKCEOSJI': {}, 'MKCEOSJIQ': {}, 'KCEOSJIQV': {}, 'CEOSJIQVM': {}, 'EOSJIQVMC': {}, 'OSJIQVMCO': {}, 'SJIQVMCOC': {}, 'JIQVMCOCX': {}, 'IQVMCOCXM': {}, 'QVMCOCXMS': {}, 'VMCOCXMSF': {}, 'MCOCXMSFI': {}, 'COCXMSFIR': {}, 'OCXMSFIRR': {}, 'CXMSFIRRP': {}, 'XMSFIRRPZ': {}, 'MSFIRRPZI': {}, 'SFIRRPZII': {}, 'FIRRPZIIM': {}, 'IRRPZIIMU': {}, 'RRPZIIMUV': {}, 'RPZIIMUVH': {}, 'PZIIMUVHE': {}, 'ZIIMUVHEF': {}, 'IIMUVHEFS': {}, 'IMUVHEFSW': {}, 'MUVHEFSWC': {}, 'UVHEFSWCI': {}, 'VHEFSWCIQ': {}, 'HEFSWCIQZ': {}, 'EFSWCIQZX': {}, 'FSWCIQZXG': {}, 'SWCIQZXGD': {}, 'WCIQZXGDS': {}, 'CIQZXGDSM': {}, 'IQZXGDSMC': {}, 'QZXGDSMCI': {}, 'ZXGDSMCID': {}, 'XGDSMCIDX': {}, 'GDSMCIDXK': {}, 'DSMCIDXKW': {}, 'SMCIDXKWY': {}, 'MCIDXKWYQ': {}, 'CIDXKWYQO': {}, 'IDXKWYQOX': {}, 'DXKWYQOXA': {}, 'XKWYQOXAX': {}, 'KWYQOXAXU': {}, 'WYQOXAXUX': {}, 'YQOXAXUXB': {}, 'QOXAXUXBE': {}, 'OXAXUXBES': {}, 'XAXUXBESV': {}, 'AXUXBESVW': {}, 'XUXBESVWR': {}, 'UXBESVWRC': {}, 'XBESVWRCC': {}, 'BESVWRCCX': {}, 'ESVWRCCXG': {}, 'SVWRCCXGZ': {}, 'VWRCCXGZA': {}, 'WRCCXGZAU': {}, 'RCCXGZAUA': {}, 'CCXGZAUAL': {}, 'CXGZAUALA': {}, 'XGZAUALAY': {}, 'GZAUALAYN': {}, 'ZAUALAYNS': {}, 'AUALAYNSS': {}, 'UALAYNSSO': {}, 'ALAYNSSOI': {}, 'LAYNSSOIM': {}, 'AYNSSOIMM': {}, 'YNSSOIMMA': {}, 'NSSOIMMAA': {}, 'SSOIMMAAW': {}, 'SOIMMAAWW': {}, 'OIMMAAWWL': {}, 'IMMAAWWLO': {}, 'MMAAWWLOJ': {}, 'MAAWWLOJQ': {}, 'AAWWLOJQA': {}, 'AWWLOJQAK': {}, 'WWLOJQAKT': {}, 'WLOJQAKTT': {}, 'LOJQAKTTS': {}, 'OJQAKTTSI': {}, 'JQAKTTSIQ': {}, 'QAKTTSIQK': {}, 'AKTTSIQKT': {}, 'KTTSIQKTE': {}, 'TTSIQKTEZ': {}, 'TSIQKTEZK': {}, 'SIQKTEZKB': {}, 'IQKTEZKBO': {}, 'QKTEZKBOY': {}, 'KTEZKBOYC': {}, 'TEZKBOYCK': {}, 'EZKBOYCKA': {}, 'ZKBOYCKAF': {}, 'KBOYCKAFU': {}, 'BOYCKAFUV': {}, 'OYCKAFUVL': {}, 'YCKAFUVLW': {}, 'CKAFUVLWY': {}, 'KAFUVLWYC': {}, 'AFUVLWYCA': {}, 'FUVLWYCAV': {}, 'UVLWYCAVC': {}, 'VLWYCAVCM': {}, 'LWYCAVCMU': {}, 'WYCAVCMUB': {}, 'YCAVCMUBB': {}, 'CAVCMUBBZ': {}, 'AVCMUBBZM': {}, 'VCMUBBZMZ': {}, 'CMUBBZMZM': {}, 'MUBBZMZMN': {}, 'UBBZMZMNU': {}, 'BBZMZMNUM': {}, 'BZMZMNUMG': {}, 'ZMZMNUMGR': {}, 'MZMNUMGRZ': {}, 'ZMNUMGRZS': {}, 'MNUMGRZST': {}, 'NUMGRZSTK': {}, 'UMGRZSTKU': {}, 'MGRZSTKUQ': {}, 'GRZSTKUQV': {}, 'RZSTKUQVM': {}, 'ZSTKUQVMO': {}, 'STKUQVMOW': {}, 'TKUQVMOWO': {}, 'KUQVMOWOY': {}, 'UQVMOWOYZ': {}, 'QVMOWOYZE': {}, 'VMOWOYZES': {}, 'MOWOYZEST': {}, 'OWOYZESTT': {}, 'WOYZESTTG': {}, 'OYZESTTGO': {}, 'YZESTTGOS': {}, 'ZESTTGOSK': {}, 'ESTTGOSKA': {}, 'STTGOSKAT': {}, 'TTGOSKATQ': {}, 'TGOSKATQR': {}, 'GOSKATQRN': {}, 'OSKATQRNS': {}, 'SKATQRNSR': {}, 'KATQRNSRC': {}, 'ATQRNSRCV': {}, 'TQRNSRCVW': {}, 'QRNSRCVWR': {}, 'RNSRCVWRC': {}, 'NSRCVWRCC': {}, 'SRCVWRCCX': {}, 'RCVWRCCXS': {}, 'CVWRCCXSW': {}, 'VWRCCXSWQ': {}, 'WRCCXSWQN': {}, 'RCCXSWQNQ': {}, 'CCXSWQNQS': {}, 'CXSWQNQSF': {}, 'XSWQNQSFM': {}, 'SWQNQSFMX': {}, 'WQNQSFMXG': {}, 'QNQSFMXGU': {}, 'NQSFMXGUI': {}, 'QSFMXGUIM': {}, 'SFMXGUIMI': {}, 'FMXGUIMIR': {}, 'MXGUIMIRX': {}, 'XGUIMIRXW': {}, 'GUIMIRXWW': {}, 'UIMIRXWWS': {}, 'IMIRXWWSW': {}, 'MIRXWWSWO': {}, 'IRXWWSWOS': {}, 'RXWWSWOSM': {}, 'XWWSWOSMJ': {}, 'WWSWOSMJA': {}, 'WSWOSMJAZ': {}, 'SWOSMJAZF': {}, 'WOSMJAZFO': {}, 'OSMJAZFOY': {}, 'SMJAZFOYS': {}, 'MJAZFOYSX': {}, 'JAZFOYSXI': {}, 'AZFOYSXIQ': {}, 'ZFOYSXIQG': {}, 'FOYSXIQGM': {}, 'OYSXIQGMI': {}, 'YSXIQGMIC': {}, 'SXIQGMICO': {}, 'XIQGMICOO': {}, 'IQGMICOOS': {}, 'QGMICOOSW': {}, 'GMICOOSWS': {}, 'MICOOSWSN': {}, 'ICOOSWSNC': {}, 'COOSWSNCL': {}, 'OOSWSNCLQ': {}, 'OSWSNCLQL': {}, 'SWSNCLQLB': {}, 'WSNCLQLBJ': {}, 'SNCLQLBJW': {}, 'NCLQLBJWL': {}, 'CLQLBJWLX': {}, 'LQLBJWLXM': {}, 'QLBJWLXMZ': {}, 'LBJWLXMZO': {}, 'BJWLXMZOC': {}, 'JWLXMZOCG': {}, 'WLXMZOCGO': {}, 'LXMZOCGOV': {}, 'XMZOCGOVV': {}, 'MZOCGOVVQ': {}, 'ZOCGOVVQZ': {}, 'OCGOVVQZZ': {}, 'CGOVVQZZI': {}, 'GOVVQZZIP': {}, 'OVVQZZIPB': {}, 'VVQZZIPBF': {}, 'VQZZIPBFI': {}, 'QZZIPBFIA': {}, 'ZZIPBFIAX': {}, 'ZIPBFIAXN': {}, 'IPBFIAXNB': {}, 'PBFIAXNBB': {}, 'BFIAXNBBO': {}, 'FIAXNBBOS': {}, 'IAXNBBOSK': {}, 'AXNBBOSKA': {}, 'XNBBOSKAT': {}, 'NBBOSKATQ': {}, 'BBOSKATQO': {}, 'BOSKATQOK': {}, 'OSKATQOKO': {}, 'SKATQOKOY': {}, 'KATQOKOYJ': {}, 'ATQOKOYJO': {}, 'TQOKOYJOI': {}, 'QOKOYJOIJ': {}, 'OKOYJOIJQ': {}, 'KOYJOIJQY': {}, 'OYJOIJQYN': {}, 'YJOIJQYNS': {}, 'JOIJQYNSN': {}, 'OIJQYNSNC': {}, 'IJQYNSNCT': {}, 'JQYNSNCTW': {}, 'QYNSNCTWC': {}, 'YNSNCTWCQ': {}, 'NSNCTWCQU': {}, 'SNCTWCQUH': {}, 'NCTWCQUHG': {}, 'CTWCQUHGN': {}, 'TWCQUHGNC': {}, 'WCQUHGNCS': {}, 'CQUHGNCSW': {}, 'QUHGNCSWV': {}, 'UHGNCSWVU': {}, 'HGNCSWVUL': {}, 'GNCSWVULT': {}, 'NCSWVULTO': {}, 'CSWVULTOD': {}, 'SWVULTODW': {}, 'WVULTODWW': {}, 'VULTODWWC': {}, 'ULTODWWCE': {}, 'LTODWWCEO': {}, 'TODWWCEOW': {}, 'ODWWCEOWG': {}, 'DWWCEOWGQ': {}, 'WWCEOWGQP': {}, 'WCEOWGQPB': {}, 'CEOWGQPBZ': {}, 'EOWGQPBZZ': {}, 'OWGQPBZZA': {}, 'WGQPBZZAF': {}, 'GQPBZZAFM': {}, 'QPBZZAFMV': {}, 'PBZZAFMVO': {}, 'BZZAFMVOO': {}, 'ZZAFMVOOO': {}, 'ZAFMVOOOS': {}, 'AFMVOOOSQ': {}, 'FMVOOOSQN': {}, 'MVOOOSQNG': {}, 'VOOOSQNGB': {}, 'OOOSQNGBH': {}, 'OOSQNGBHQ': {}, 'OSQNGBHQZ': {}, 'SQNGBHQZA': {}, 'QNGBHQZAU': {}, 'NGBHQZAUC': {}, 'GBHQZAUCN': {}, 'BHQZAUCND': {}, 'HQZAUCNDW': {}, 'QZAUCNDWF': {}, 'ZAUCNDWFO': {}, 'AUCNDWFOY': {}, 'UCNDWFOYC': {}, 'CNDWFOYCI': {}, 'NDWFOYCIW': {}, 'DWFOYCIWM': {}, 'WFOYCIWMA': {}, 'FOYCIWMAC': {}, 'OYCIWMACG': {}, 'YCIWMACGV': {}, 'CIWMACGVZ': {}, 'IWMACGVZA': {}, 'WMACGVZAH': {}, 'MACGVZAHZ': {}, 'ACGVZAHZE': {}, 'CGVZAHZEQ': {}, 'GVZAHZEQV': {}, 'VZAHZEQVA': {}, 'ZAHZEQVAO': {}, 'AHZEQVAON': {}, 'HZEQVAONS': {}, 'ZEQVAONSX': {}, 'EQVAONSXT': {}, 'QVAONSXTO': {}, 'VAONSXTOC': {}, 'AONSXTOCC': {}, 'ONSXTOCCX': {}, 'NSXTOCCXS': {}, 'SXTOCCXSD': {}, 'XTOCCXSDH': {}, 'TOCCXSDHG': {}, 'OCCXSDHGN': {}, 'CCXSDHGNR': {}, 'CXSDHGNRQ': {}, 'XSDHGNRQV': {}, 'SDHGNRQVM': {}, 'DHGNRQVMS': {}, 'HGNRQVMSL': {}, 'GNRQVMSLH': {}, 'NRQVMSLHO': {}, 'RQVMSLHOK': {}, 'QVMSLHOKO': {}, 'VMSLHOKOZ': {}, 'MSLHOKOZA': {}, 'SLHOKOZAX': {}, 'LHOKOZAXF': {}, 'HOKOZAXFT': {}, 'OKOZAXFTS': {}, 'KOZAXFTSJ': {}, 'OZAXFTSJI': {}, 'ZAXFTSJID': {}, 'AXFTSJIDB': {}, 'XFTSJIDBZ': {}, 'FTSJIDBZX': {}, 'TSJIDBZXQ': {}, 'SJIDBZXQT': {}, 'JIDBZXQTG': {}, 'IDBZXQTGG': {}, 'DBZXQTGGG': {}, 'BZXQTGGGG': {}, 'ZXQTGGGGQ': {}, 'XQTGGGGQV': {}, 'QTGGGGQVN': {}, 'TGGGGQVNW': {}, 'GGGGQVNWY': {}, 'GGGQVNWYO': {}, 'GGQVNWYOI': {}, 'GQVNWYOIW': {}, 'QVNWYOIWN': {}, 'VNWYOIWNF': {}, 'NWYOIWNFM': {}, 'WYOIWNFMK': {}, 'YOIWNFMKB': {}, 'OIWNFMKBF': {}, 'IWNFMKBFF': {}, 'WNFMKBFFG': {}, 'NFMKBFFGK': {}, 'FMKBFFGKO': {}, 'MKBFFGKOZ': {}, 'KBFFGKOZD': {}, 'BFFGKOZDH': {}, 'FFGKOZDHZ': {}, 'FGKOZDHZF': {}, 'GKOZDHZFB': {}, 'KOZDHZFBZ': {}, 'OZDHZFBZI': {}, 'ZDHZFBZID': {}, 'DHZFBZIDO': {}, 'HZFBZIDOW': {}, 'ZFBZIDOWG': {}, 'FBZIDOWGX': {}, 'BZIDOWGXF': {}, 'ZIDOWGXFG': {}, 'IDOWGXFGZ': {}, 'DOWGXFGZQ': {}, 'OWGXFGZQC': {}, 'WGXFGZQCU': {}, 'GXFGZQCUI': {}, 'XFGZQCUIR': {}, 'FGZQCUIRS': {}, 'GZQCUIRSY': {}, 'ZQCUIRSYZ': {}, 'QCUIRSYZO': {}, 'CUIRSYZOJ': {}, 'UIRSYZOJE': {}, 'IRSYZOJED': {}, 'RSYZOJEDI': {}, 'SYZOJEDIK': {}, 'YZOJEDIKH': {}, 'ZOJEDIKHP': {}, 'OJEDIKHPR': {}, 'JEDIKHPRK': {}, 'EDIKHPRKB': {}, 'DIKHPRKBO': {}, 'IKHPRKBOP': {}, 'KHPRKBOPI': {}, 'HPRKBOPIL': {}, 'PRKBOPILZ': {}, 'RKBOPILZL': {}, 'KBOPILZLG': {}, 'BOPILZLGJ': {}, 'OPILZLGJM': {}, 'PILZLGJMM': {}, 'ILZLGJMMM': {}, 'LZLGJMMMA': {}, 'ZLGJMMMAW': {}, 'LGJMMMAWW': {}, 'GJMMMAWWD': {}, 'JMMMAWWDH': {}, 'MMMAWWDHX': {}, 'MMAWWDHXI': {}, 'MAWWDHXIC': {}, 'AWWDHXICO': {}, 'WWDHXICOQ': {}, 'WDHXICOQH': {}, 'DHXICOQHB': {}, 'HXICOQHBP': {}, 'XICOQHBPM': {}, 'ICOQHBPMY': {}, 'COQHBPMYQ': {}, 'OQHBPMYQH': {}, 'QHBPMYQHM': {}, 'HBPMYQHMK': {}, 'BPMYQHMKX': {}, 'PMYQHMKXG': {}, 'MYQHMKXGE': {}, 'YQHMKXGEC': {}, 'QHMKXGECJ': {}, 'HMKXGECJW': {}, 'MKXGECJWC': {}, 'KXGECJWCA': {}, 'XGECJWCAU': {}, 'GECJWCAUH': {}, 'ECJWCAUHG': {}, 'CJWCAUHGT': {}, 'JWCAUHGTT': {}, 'WCAUHGTTA': {}, 'CAUHGTTAM': {}, 'AUHGTTAMR': {}, 'UHGTTAMRM': {}, 'HGTTAMRMT': {}, 'GTTAMRMTH': {}, 'TTAMRMTHI': {}, 'TAMRMTHIW': {}, 'AMRMTHIWH': {}, 'MRMTHIWHO': {}, 'RMTHIWHOU': {}, 'MTHIWHOUO': {}, 'THIWHOUOC': {}, 'HIWHOUOCC': {}, 'IWHOUOCCX': {}, 'WHOUOCCXV': {}, 'HOUOCCXVL': {}, 'OUOCCXVLF': {}, 'UOCCXVLFO': {}, 'OCCXVLFOI': {}, 'CCXVLFOIS': {}, 'CXVLFOISQ': {}, 'XVLFOISQV': {}, 'VLFOISQVM': {}, 'LFOISQVMI': {}, 'FOISQVMIG': {}, 'OISQVMIGW': {}, 'ISQVMIGWJ': {}, 'SQVMIGWJI': {}, 'QVMIGWJIY': {}, 'VMIGWJIYP': {}, 'MIGWJIYPM': {}, 'IGWJIYPMC': {}, 'GWJIYPMCO': {}, 'WJIYPMCOD': {}, 'JIYPMCODR': {}, 'IYPMCODRK': {}, 'YPMCODRKK': {}, 'PMCODRKKA': {}, 'MCODRKKAY': {}, 'CODRKKAYQ': {}, 'ODRKKAYQG': {}, 'DRKKAYQGO': {}, 'RKKAYQGOC': {}, 'KKAYQGOCG': {}, 'KAYQGOCGO': {}, 'AYQGOCGOV': {}, 'YQGOCGOVR': {}, 'QGOCGOVRG': {}, 'GOCGOVRGU': {}, 'OCGOVRGUU': {}, 'CGOVRGUUC': {}, 'GOVRGUUCO': {}, 'OVRGUUCOS': {}, 'VRGUUCOSP': {}, 'RGUUCOSPI': {}, 'GUUCOSPIS': {}, 'UUCOSPISP': {}, 'UCOSPISPM': {}, 'COSPISPMW': {}, 'OSPISPMWS': {}, 'SPISPMWSU': {}, 'PISPMWSUO': {}, 'ISPMWSUOX': {}, 'SPMWSUOXY': {}, 'PMWSUOXYU': {}, 'MWSUOXYUQ': {}, 'WSUOXYUQB': {}, 'SUOXYUQBN': {}, 'UOXYUQBNG': {}, 'OXYUQBNGP': {}, 'XYUQBNGPA': {}, 'YUQBNGPAU': {}, 'UQBNGPAUK': {}, 'QBNGPAUKI': {}, 'BNGPAUKIA': {}, 'NGPAUKIAV': {}, 'GPAUKIAVX': {}, 'PAUKIAVXG': {}, 'AUKIAVXGL': {}, 'UKIAVXGLB': {}, 'KIAVXGLBA': {}, 'IAVXGLBAT': {}, 'AVXGLBATE': {}, 'VXGLBATEZ': {}, 'XGLBATEZT': {}, 'GLBATEZTH': {}, 'LBATEZTHE': {}, 'BATEZTHEF': {}, 'ATEZTHEFS': {}, 'TEZTHEFSZ': {}, 'EZTHEFSZM': {}, 'ZTHEFSZMD': {}, 'THEFSZMDU': {}, 'HEFSZMDUK': {}, 'EFSZMDUKX': {}, 'FSZMDUKXH': {}, 'SZMDUKXHF': {}, 'ZMDUKXHFA': {}, 'MDUKXHFAK': {}, 'DUKXHFAKV': {}, 'UKXHFAKVT': {}, 'KXHFAKVTQ': {}, 'XHFAKVTQL': {}, 'HFAKVTQLX': {}, 'FAKVTQLXX': {}, 'AKVTQLXXL': {}, 'KVTQLXXLG': {}, 'VTQLXXLGJ': {}, 'TQLXXLGJM': {}, 'QLXXLGJMS': {}, 'LXXLGJMSQ': {}, 'XXLGJMSQZ': {}, 'XLGJMSQZA': {}, 'LGJMSQZAW': {}, 'GJMSQZAWA': {}, 'JMSQZAWAC': {}, 'MSQZAWACI': {}, 'SQZAWACIZ': {}, 'QZAWACIZI': {}, 'ZAWACIZIF': {}, 'AWACIZIFI': {}, 'WACIZIFIX': {}, 'ACIZIFIXU': {}, 'CIZIFIXUZ': {}, 'IZIFIXUZQ': {}, 'ZIFIXUZQK': {}, 'IFIXUZQKV': {}, 'FIXUZQKVT': {}, 'IXUZQKVTD': {}, 'XUZQKVTDQ': {}, 'UZQKVTDQV': {}, 'ZQKVTDQVC': {}, 'QKVTDQVCP': {}, 'KVTDQVCPW': {}, 'VTDQVCPWX': {}, 'TDQVCPWXZ': {}, 'DQVCPWXZI': {}, 'QVCPWXZIF': {}, 'VCPWXZIFI': {}, 'CPWXZIFIU': {}, 'PWXZIFIUZ': {}, 'WXZIFIUZP': {}, 'XZIFIUZP': {}, 'ZIFIUZP': {}, 'IFIUZP': {}, 'FIUZP': {}, 'IUZP': {}, 'UZP': {}} \n",
            " <class 'dict'>\n",
            "[('MGSDHGDIP', {1080: [2, 2, 2, 3, 3, 3, 5]}), ('GSDHGDIPI', {1080: [2, 2, 2, 3, 3, 3, 5]}), ('MVILBJWAB', {36: [2, 2, 3, 3]}), ('VILBJWABZ', {36: [2, 2, 3, 3]}), ('ILBJWABZX', {36: [2, 2, 3, 3]}), ('LBJWABZXB', {36: [2, 2, 3, 3]}), ('BJWABZXBO', {36: [2, 2, 3, 3]}), ('JWABZXBOS', {36: [2, 2, 3, 3]}), ('WABZXBOSY', {36: [2, 2, 3, 3]}), ('ABZXBOSYI', {36: [2, 2, 3, 3]}), ('CAVYWLFKV', {423: [3, 3, 47]}), ('IYOSMNFIE', {279: [3, 3, 31]}), ('YOSMNFIEW', {279: [3, 3, 31]}), ('OSMNFIEWO', {279: [3, 3, 31]}), ('SMNFIEWOO', {279: [3, 3, 31]}), ('MNFIEWOOJ', {279: [3, 3, 31]}), ('NFIEWOOJQ', {279: [3, 3, 31]}), ('FIEWOOJQM', {279: [3, 3, 31]}), ('IEWOOJQMB', {279: [3, 3, 31]}), ('EWOOJQMBT', {279: [3, 3, 31]}), ('WOOJQMBTT', {279: [3, 3, 31]}), ('OOJQMBTTQ', {279: [3, 3, 31]}), ('OJQMBTTQL', {279: [3, 3, 31]}), ('JQMBTTQLP', {279: [3, 3, 31]}), ('QMBTTQLPR', {279: [3, 3, 31]}), ('MBTTQLPRM', {279: [3, 3, 31]}), ('QABAACYQB', {}), ('ABAACYQBX', {}), ('BAACYQBXM', {}), ('AACYQBXMM', {}), ('ACYQBXMMS', {}), ('CYQBXMMSY', {}), ('YQBXMMSYS', {}), ('QBXMMSYSX', {}), ('BXMMSYSXB', {}), ('XMMSYSXBO', {}), ('MMSYSXBOP', {}), ('MSYSXBOPW', {}), ('SYSXBOPWU', {}), ('YSXBOPWUO', {}), ('SXBOPWUOU', {}), ('XBOPWUOUC', {}), ('BOPWUOUCI', {}), ('OPWUOUCIW', {}), ('PWUOUCIWN', {}), ('WUOUCIWNF', {}), ('UOUCIWNFZ', {}), ('OUCIWNFZH', {}), ('UCIWNFZHZ', {}), ('CIWNFZHZE', {}), ('IWNFZHZES', {}), ('WNFZHZEST', {}), ('NFZHZESTM', {}), ('FZHZESTMM', {}), ('ZHZESTMMA', {}), ('HZESTMMAA', {}), ('ZESTMMAAJ', {}), ('ESTMMAAJI', {}), ('STMMAAJIP', {}), ('TMMAAJIPR', {}), ('MMAAJIPRG', {}), ('MAAJIPRGZ', {}), ('AAJIPRGZN', {}), ('AJIPRGZNA', {}), ('JIPRGZNAA', {}), ('IPRGZNAAV', {}), ('PRGZNAAVI', {}), ('RGZNAAVIP', {}), ('GZNAAVIPB', {}), ('ZNAAVIPBZ', {}), ('NAAVIPBZI', {}), ('AAVIPBZIQ', {}), ('AVIPBZIQG', {}), ('VIPBZIQGM', {}), ('IPBZIQGMI', {}), ('PBZIQGMIS', {}), ('BZIQGMISY', {}), ('ZIQGMISYG', {}), ('IQGMISYGG', {}), ('QGMISYGGZ', {}), ('GMISYGGZD', {}), ('MISYGGZDQ', {}), ('ISYGGZDQU', {}), ('SYGGZDQUT', {}), ('YGGZDQUTG', {}), ('GGZDQUTGT', {}), ('GZDQUTGTO', {}), ('ZDQUTGTOJ', {}), ('DQUTGTOJW', {}), ('QUTGTOJWE', {}), ('UTGTOJWEZ', {}), ('TGTOJWEZM', {}), ('GTOJWEZME', {}), ('TOJWEZMET', {}), ('OJWEZMETF', {}), ('JWEZMETFH', {}), ('WEZMETFHA', {}), ('EZMETFHAZ', {}), ('ZMETFHAZO', {}), ('METFHAZOB', {}), ('ETFHAZOBC', {}), ('TFHAZOBCX', {}), ('FHAZOBCXR', {}), ('HAZOBCXRP', {}), ('AZOBCXRPZ', {}), ('ZOBCXRPZR', {}), ('OBCXRPZRM', {}), ('BCXRPZRMV', {}), ('CXRPZRMVM', {}), ('XRPZRMVMZ', {}), ('RPZRMVMZT', {}), ('PZRMVMZTW', {}), ('ZRMVMZTWX', {}), ('RMVMZTWXO', {}), ('MVMZTWXOM', {}), ('VMZTWXOMQ', {}), ('MZTWXOMQN', {}), ('ZTWXOMQNM', {}), ('TWXOMQNMZ', {}), ('WXOMQNMZG', {}), ('XOMQNMZGC', {}), ('OMQNMZGCD', {}), ('MQNMZGCDG', {}), ('QNMZGCDGO', {}), ('NMZGCDGOB', {}), ('MZGCDGOBU', {}), ('ZGCDGOBUM', {}), ('GCDGOBUMK', {}), ('CDGOBUMKB', {}), ('DGOBUMKBC', {}), ('GOBUMKBCY', {}), ('OBUMKBCYS', {}), ('BUMKBCYSY', {}), ('UMKBCYSYG', {}), ('MKBCYSYGP', {}), ('KBCYSYGPD', {}), ('BCYSYGPDW', {}), ('CYSYGPDWU', {}), ('YSYGPDWUZ', {}), ('SYGPDWUZP', {}), ('YGPDWUZPA', {}), ('GPDWUZPAG', {}), ('PDWUZPAGA', {}), ('DWUZPAGAQ', {}), ('WUZPAGAQG', {}), ('UZPAGAQGM', {}), ('ZPAGAQGMI', {}), ('PAGAQGMII', {}), ('AGAQGMIIP', {}), ('GAQGMIIPR', {}), ('AQGMIIPRK', {}), ('QGMIIPRKV', {}), ('GMIIPRKVN', {}), ('MIIPRKVNA', {}), ('IIPRKVNAM', {}), ('IPRKVNAMQ', {}), ('PRKVNAMQW', {}), ('RKVNAMQWD', {}), ('KVNAMQWDH', {}), ('VNAMQWDHO', {}), ('NAMQWDHOZ', {}), ('AMQWDHOZT', {}), ('MQWDHOZTA', {}), ('QWDHOZTAL', {}), ('WDHOZTALH', {}), ('DHOZTALHS', {}), ('HOZTALHSD', {}), ('OZTALHSDH', {}), ('ZTALHSDHU', {}), ('TALHSDHUK', {}), ('ALHSDHUKO', {}), ('LHSDHUKOZ', {}), ('HSDHUKOZL', {}), ('SDHUKOZLN', {}), ('DHUKOZLNQ', {}), ('HUKOZLNQP', {}), ('UKOZLNQPO', {}), ('KOZLNQPOR', {}), ('OZLNQPORI', {}), ('ZLNQPORIA', {}), ('LNQPORIAZ', {}), ('NQPORIAZA', {}), ('QPORIAZAB', {}), ('PORIAZABS', {}), ('ORIAZABSO', {}), ('RIAZABSOO', {}), ('IAZABSOOJ', {}), ('AZABSOOJM', {}), ('ZABSOOJML', {}), ('ABSOOJMLC', {}), ('BSOOJMLCC', {}), ('SOOJMLCCX', {}), ('OOJMLCCXG', {}), ('OJMLCCXGF', {}), ('JMLCCXGFT', {}), ('MLCCXGFTX', {}), ('LCCXGFTXM', {}), ('CCXGFTXMA', {}), ('CXGFTXMAZ', {}), ('XGFTXMAZB', {}), ('GFTXMAZBX', {}), ('FTXMAZBXG', {}), ('TXMAZBXGO', {}), ('XMAZBXGOS', {}), ('MAZBXGOSW', {}), ('AZBXGOSWC', {}), ('ZBXGOSWCE', {}), ('BXGOSWCEE', {}), ('XGOSWCEEM', {}), ('GOSWCEEMT', {}), ('OSWCEEMTB', {}), ('SWCEEMTBP', {}), ('WCEEMTBPQ', {}), ('CEEMTBPQK', {}), ('EEMTBPQKA', {}), ('EMTBPQKAA', {}), ('MTBPQKAAD', {}), ('TBPQKAADQ', {}), ('BPQKAADQH', {}), ('PQKAADQHG', {}), ('QKAADQHGF', {}), ('KAADQHGFT', {}), ('AADQHGFTX', {}), ('ADQHGFTXM', {}), ('DQHGFTXMM', {}), ('QHGFTXMMM', {}), ('HGFTXMMMA', {}), ('GFTXMMMAW', {}), ('FTXMMMAWS', {}), ('TXMMMAWSW', {}), ('XMMMAWSWC', {}), ('MMMAWSWCT', {}), ('MMAWSWCTM', {}), ('MAWSWCTMC', {}), ('AWSWCTMCQ', {}), ('WSWCTMCQA', {}), ('SWCTMCQAT', {}), ('WCTMCQATF', {}), ('CTMCQATFT', {}), ('TMCQATFTC', {}), ('MCQATFTCV', {}), ('CQATFTCVM', {}), ('QATFTCVMR', {}), ('ATFTCVMRA', {}), ('TFTCVMRAA', {}), ('FTCVMRAAB', {}), ('TCVMRAABE', {}), ('CVMRAABEF', {}), ('VMRAABEFW', {}), ('MRAABEFWK', {}), ('RAABEFWKZ', {}), ('AABEFWKZE', {}), ('ABEFWKZEE', {}), ('BEFWKZEEZ', {}), ('EFWKZEEZX', {}), ('FWKZEEZXO', {}), ('WKZEEZXOW', {}), ('KZEEZXOWW', {}), ('ZEEZXOWWF', {}), ('EEZXOWWFI', {}), ('EZXOWWFIR', {}), ('ZXOWWFIRM', {}), ('XOWWFIRMT', {}), ('OWWFIRMTZ', {}), ('WWFIRMTZC', {}), ('WFIRMTZCY', {}), ('FIRMTZCYC', {}), ('IRMTZCYCN', {}), ('RMTZCYCNI', {}), ('MTZCYCNIY', {}), ('TZCYCNIYY', {}), ('ZCYCNIYYI', {}), ('CYCNIYYIL', {}), ('YCNIYYILE', {}), ('CNIYYILEF', {}), ('NIYYILEFS', {}), ('IYYILEFSI', {}), ('YYILEFSIW', {}), ('YILEFSIWN', {}), ('ILEFSIWNR', {}), ('LEFSIWNRQ', {}), ('EFSIWNRQT', {}), ('FSIWNRQTF', {}), ('SIWNRQTFP', {}), ('IWNRQTFPB', {}), ('WNRQTFPBZ', {}), ('NRQTFPBZC', {}), ('RQTFPBZCV', {}), ('QTFPBZCVQ', {}), ('TFPBZCVQZ', {}), ('FPBZCVQZL', {}), ('PBZCVQZLW', {}), ('BZCVQZLWZ', {}), ('ZCVQZLWZB', {}), ('CVQZLWZBJ', {}), ('VQZLWZBJM', {}), ('QZLWZBJMT', {}), ('ZLWZBJMTU', {}), ('LWZBJMTUY', {}), ('WZBJMTUYN', {}), ('ZBJMTUYNS', {}), ('BJMTUYNSO', {}), ('JMTUYNSOO', {}), ('MTUYNSOOR', {}), ('TUYNSOORW', {}), ('UYNSOORWM', {}), ('YNSOORWMQ', {}), ('NSOORWMQR', {}), ('SOORWMQRH', {}), ('OORWMQRHF', {}), ('ORWMQRHFO', {}), ('RWMQRHFOS', {}), ('WMQRHFOSY', {}), ('MQRHFOSYQ', {}), ('QRHFOSYQP', {}), ('RHFOSYQPM', {}), ('HFOSYQPMZ', {}), ('FOSYQPMZT', {}), ('OSYQPMZTC', {}), ('SYQPMZTCM', {}), ('YQPMZTCMH', {}), ('QPMZTCMHK', {}), ('PMZTCMHKV', {}), ('MZTCMHKVE', {}), ('ZTCMHKVED', {}), ('TCMHKVEDM', {}), ('CMHKVEDML', {}), ('MHKVEDMLC', {}), ('HKVEDMLCB', {}), ('KVEDMLCBI', {}), ('VEDMLCBIK', {}), ('EDMLCBIKY', {}), ('DMLCBIKYU', {}), ('MLCBIKYUU', {}), ('LCBIKYUUZ', {}), ('CBIKYUUZX', {}), ('BIKYUUZXG', {}), ('IKYUUZXGE', {}), ('KYUUZXGEI', {}), ('YUUZXGEIY', {}), ('UUZXGEIYU', {}), ('UZXGEIYUE', {}), ('ZXGEIYUEF', {}), ('XGEIYUEFI', {}), ('GEIYUEFIL', {}), ('EIYUEFILM', {}), ('IYUEFILME', {}), ('YUEFILMEI', {}), ('UEFILMEIY', {}), ('EFILMEIYA', {}), ('FILMEIYAU', {}), ('ILMEIYAUQ', {}), ('LMEIYAUQV', {}), ('MEIYAUQVH', {}), ('EIYAUQVHG', {}), ('IYAUQVHGA', {}), ('YAUQVHGAS', {}), ('AUQVHGASX', {}), ('UQVHGASXW', {}), ('QVHGASXWT', {}), ('VHGASXWTM', {}), ('HGASXWTMU', {}), ('GASXWTMUU', {}), ('ASXWTMUUW', {}), ('SXWTMUUWP', {}), ('XWTMUUWPB', {}), ('WTMUUWPBK', {}), ('TMUUWPBKA', {}), ('MUUWPBKAI', {}), ('UUWPBKAIY', {}), ('UWPBKAIYX', {}), ('WPBKAIYXH', {}), ('PBKAIYXHF', {}), ('BKAIYXHFE', {}), ('KAIYXHFEO', {}), ('AIYXHFEOX', {}), ('IYXHFEOXB', {}), ('YXHFEOXBE', {}), ('XHFEOXBEB', {}), ('HFEOXBEBM', {}), ('FEOXBEBMK', {}), ('EOXBEBMKR', {}), ('OXBEBMKRZ', {}), ('XBEBMKRZB', {}), ('BEBMKRZBG', {}), ('EBMKRZBGZ', {}), ('BMKRZBGZT', {}), ('MKRZBGZTQ', {}), ('KRZBGZTQM', {}), ('RZBGZTQMG', {}), ('ZBGZTQMGS', {}), ('BGZTQMGSD', {}), ('GZTQMGSDH', {}), ('ZTQMGSDHG', {}), ('TQMGSDHGD', {}), ('QMGSDHGDI', {}), ('SDHGDIPIO', {}), ('DHGDIPIOW', {}), ('HGDIPIOWP', {}), ('GDIPIOWPB', {}), ('DIPIOWPBK', {}), ('IPIOWPBKA', {}), ('PIOWPBKAA', {}), ('IOWPBKAAO', {}), ('OWPBKAAOI', {}), ('WPBKAAOIZ', {}), ('PBKAAOIZO', {}), ('BKAAOIZOC', {}), ('KAAOIZOCZ', {}), ('AAOIZOCZG', {}), ('AOIZOCZGM', {}), ('OIZOCZGMN', {}), ('IZOCZGMNQ', {}), ('ZOCZGMNQT', {}), ('OCZGMNQTX', {}), ('CZGMNQTXB', {}), ('ZGMNQTXBP', {}), ('GMNQTXBPZ', {}), ('MNQTXBPZS', {}), ('NQTXBPZSW', {}), ('QTXBPZSWM', {}), ('TXBPZSWMQ', {}), ('XBPZSWMQV', {}), ('BPZSWMQVM', {}), ('PZSWMQVMC', {}), ('ZSWMQVMCB', {}), ('SWMQVMCBI', {}), ('WMQVMCBIK', {}), ('MQVMCBIKD', {}), ('QVMCBIKDI', {}), ('VMCBIKDIQ', {}), ('MCBIKDIQV', {}), ('CBIKDIQVX', {}), ('BIKDIQVXG', {}), ('IKDIQVXGL', {}), ('KDIQVXGLQ', {}), ('DIQVXGLQG', {}), ('IQVXGLQGO', {}), ('QVXGLQGOA', {}), ('VXGLQGOAD', {}), ('XGLQGOADT', {}), ('GLQGOADTT', {}), ('LQGOADTTM', {}), ('QGOADTTME', {}), ('GOADTTMES', {}), ('OADTTMESV', {}), ('ADTTMESVM', {}), ('DTTMESVMR', {}), ('TTMESVMRP', {}), ('TMESVMRPW', {}), ('MESVMRPWG', {}), ('ESVMRPWGO', {}), ('SVMRPWGOD', {}), ('VMRPWGODH', {}), ('MRPWGODHU', {}), ('RPWGODHUL', {}), ('PWGODHULO', {}), ('WGODHULOR', {}), ('GODHULORT', {}), ('ODHULORTN', {}), ('DHULORTNM', {}), ('HULORTNMP', {}), ('ULORTNMPH', {}), ('LORTNMPHG', {}), ('ORTNMPHGV', {}), ('RTNMPHGVF', {}), ('TNMPHGVFM', {}), ('NMPHGVFMK', {}), ('MPHGVFMKB', {}), ('PHGVFMKBZ', {}), ('HGVFMKBZX', {}), ('GVFMKBZXW', {}), ('VFMKBZXWX', {}), ('FMKBZXWXI', {}), ('MKBZXWXIT', {}), ('KBZXWXITQ', {}), ('BZXWXITQI', {}), ('ZXWXITQIE', {}), ('XWXITQIES', {}), ('WXITQIESD', {}), ('XITQIESDD', {}), ('ITQIESDDK', {}), ('TQIESDDKR', {}), ('QIESDDKRO', {}), ('IESDDKROK', {}), ('ESDDKROKL', {}), ('SDDKROKLB', {}), ('DDKROKLBH', {}), ('DKROKLBHP', {}), ('KROKLBHPE', {}), ('ROKLBHPEA', {}), ('OKLBHPEAM', {}), ('KLBHPEAME', {}), ('LBHPEAMEE', {}), ('BHPEAMEEB', {}), ('HPEAMEEBT', {}), ('PEAMEEBTG', {}), ('EAMEEBTGR', {}), ('AMEEBTGRI', {}), ('MEEBTGRIG', {}), ('EEBTGRIGX', {}), ('EBTGRIGXO', {}), ('BTGRIGXOE', {}), ('TGRIGXOEQ', {}), ('GRIGXOEQG', {}), ('RIGXOEQGC', {}), ('IGXOEQGCE', {}), ('GXOEQGCES', {}), ('XOEQGCESR', {}), ('OEQGCESRW', {}), ('EQGCESRWD', {}), ('QGCESRWDU', {}), ('GCESRWDUK', {}), ('CESRWDUKX', {}), ('ESRWDUKXG', {}), ('SRWDUKXGE', {}), ('RWDUKXGEI', {}), ('WDUKXGEIT', {}), ('DUKXGEITI', {}), ('UKXGEITID', {}), ('KXGEITIDU', {}), ('XGEITIDUM', {}), ('GEITIDUMM', {}), ('EITIDUMMS', {}), ('ITIDUMMSW', {}), ('TIDUMMSWO', {}), ('IDUMMSWOB', {}), ('DUMMSWOBI', {}), ('UMMSWOBIA', {}), ('MMSWOBIAO', {}), ('MSWOBIAOZ', {}), ('SWOBIAOZX', {}), ('WOBIAOZXS', {}), ('OBIAOZXSC', {}), ('BIAOZXSCF', {}), ('IAOZXSCFK', {}), ('AOZXSCFKK', {}), ('OZXSCFKKU', {}), ('ZXSCFKKUQ', {}), ('XSCFKKUQZ', {}), ('SCFKKUQZW', {}), ('CFKKUQZWO', {}), ('FKKUQZWOB', {}), ('KKUQZWOBI', {}), ('KUQZWOBIK', {}), ('UQZWOBIKT', {}), ('QZWOBIKTA', {}), ('ZWOBIKTAO', {}), ('WOBIKTAOW', {}), ('OBIKTAOWG', {}), ('BIKTAOWGT', {}), ('IKTAOWGTT', {}), ('KTAOWGTTO', {}), ('TAOWGTTOT', {}), ('AOWGTTOTH', {}), ('OWGTTOTHA', {}), ('WGTTOTHAZ', {}), ('GTTOTHAZW', {}), ('TTOTHAZWX', {}), ('TOTHAZWXG', {}), ('OTHAZWXGX', {}), ('THAZWXGXO', {}), ('HAZWXGXOM', {}), ('AZWXGXOMQ', {}), ('ZWXGXOMQC', {}), ('WXGXOMQCM', {}), ('XGXOMQCMV', {}), ('GXOMQCMVH', {}), ('XOMQCMVHS', {}), ('OMQCMVHSD', {}), ('MQCMVHSDW', {}), ('QCMVHSDWT', {}), ('CMVHSDWTV', {}), ('MVHSDWTVA', {}), ('VHSDWTVAF', {}), ('HSDWTVAFI', {}), ('SDWTVAFIR', {}), ('DWTVAFIRB', {}), ('WTVAFIRBZ', {}), ('TVAFIRBZS', {}), ('VAFIRBZSY', {}), ('AFIRBZSYQ', {}), ('FIRBZSYQN', {}), ('IRBZSYQNM', {}), ('RBZSYQNMT', {}), ('BZSYQNMTV', {}), ('ZSYQNMTVO', {}), ('SYQNMTVOY', {}), ('YQNMTVOYN', {}), ('QNMTVOYNG', {}), ('NMTVOYNGJ', {}), ('MTVOYNGJL', {}), ('TVOYNGJLQ', {}), ('VOYNGJLQM', {}), ('OYNGJLQML', {}), ('YNGJLQMLI', {}), ('NGJLQMLIY', {}), ('GJLQMLIYO', {}), ('JLQMLIYON', {}), ('LQMLIYONI', {}), ('QMLIYONIB', {}), ('MLIYONIBU', {}), ('LIYONIBUT', {}), ('IYONIBUTB', {}), ('YONIBUTBR', {}), ('ONIBUTBRL', {}), ('NIBUTBRLR', {}), ('IBUTBRLRR', {}), ('BUTBRLRRW', {}), ('UTBRLRRWQ', {}), ('TBRLRRWQG', {}), ('BRLRRWQGM', {}), ('RLRRWQGML', {}), ('LRRWQGMLW', {}), ('RRWQGMLWR', {}), ('RWQGMLWRB', {}), ('WQGMLWRBO', {}), ('QGMLWRBON', {}), ('GMLWRBONI', {}), ('MLWRBONIO', {}), ('LWRBONIOI', {}), ('WRBONIOIJ', {}), ('RBONIOIJI', {}), ('BONIOIJIP', {}), ('ONIOIJIPG', {}), ('NIOIJIPGK', {}), ('IOIJIPGKX', {}), ('OIJIPGKXU', {}), ('IJIPGKXUQ', {}), ('JIPGKXUQL', {}), ('IPGKXUQLX', {}), ('PGKXUQLXO', {}), ('GKXUQLXOA', {}), ('KXUQLXOAF', {}), ('XUQLXOAFK', {}), ('UQLXOAFKV', {}), ('QLXOAFKVD', {}), ('LXOAFKVDQ', {}), ('XOAFKVDQZ', {}), ('OAFKVDQZL', {}), ('AFKVDQZLW', {}), ('FKVDQZLWY', {}), ('KVDQZLWYS', {}), ('VDQZLWYSS', {}), ('DQZLWYSSJ', {}), ('QZLWYSSJA', {}), ('ZLWYSSJAD', {}), ('LWYSSJADO', {}), ('WYSSJADOH', {}), ('YSSJADOHZ', {}), ('SSJADOHZL', {}), ('SJADOHZLQ', {}), ('JADOHZLQU', {}), ('ADOHZLQUV', {}), ('DOHZLQUVF', {}), ('OHZLQUVFU', {}), ('HZLQUVFUI', {}), ('ZLQUVFUIG', {}), ('LQUVFUIGN', {}), ('QUVFUIGNL', {}), ('UVFUIGNLS', {}), ('VFUIGNLSY', {}), ('FUIGNLSYC', {}), ('UIGNLSYCN', {}), ('IGNLSYCNM', {}), ('GNLSYCNMP', {}), ('NLSYCNMPT', {}), ('LSYCNMPTP', {}), ('SYCNMPTPT', {}), ('YCNMPTPTZ', {}), ('CNMPTPTZO', {}), ('NMPTPTZOL', {}), ('MPTPTZOLA', {}), ('PTPTZOLAP', {}), ('TPTZOLAPL', {}), ('PTZOLAPLX', {}), ('TZOLAPLXB', {}), ('ZOLAPLXBE', {}), ('OLAPLXBEF', {}), ('LAPLXBEFU', {}), ('APLXBEFUL', {}), ('PLXBEFULE', {}), ('LXBEFULEX', {}), ('XBEFULEXI', {}), ('BEFULEXIL', {}), ('EFULEXILV', {}), ('FULEXILVL', {}), ('ULEXILVLP', {}), ('LEXILVLPO', {}), ('EXILVLPOT', {}), ('XILVLPOTI', {}), ('ILVLPOTIP', {}), ('LVLPOTIPI', {}), ('VLPOTIPIW', {}), ('LPOTIPIWS', {}), ('POTIPIWSD', {}), ('OTIPIWSDD', {}), ('TIPIWSDDU', {}), ('IPIWSDDUZ', {}), ('PIWSDDUZL', {}), ('IWSDDUZLA', {}), ('WSDDUZLAY', {}), ('SDDUZLAYN', {}), ('DDUZLAYNS', {}), ('DUZLAYNSW', {}), ('UZLAYNSWO', {}), ('ZLAYNSWOI', {}), ('LAYNSWOIW', {}), ('AYNSWOIWN', {}), ('YNSWOIWNR', {}), ('NSWOIWNRQ', {}), ('SWOIWNRQT', {}), ('WOIWNRQTB', {}), ('OIWNRQTBK', {}), ('IWNRQTBKO', {}), ('WNRQTBKOB', {}), ('NRQTBKOBQ', {}), ('RQTBKOBQE', {}), ('QTBKOBQEZ', {}), ('TBKOBQEZM', {}), ('BKOBQEZMV', {}), ('KOBQEZMVI', {}), ('OBQEZMVIL', {}), ('BQEZMVILB', {}), ('QEZMVILBJ', {}), ('EZMVILBJW', {}), ('ZMVILBJWA', {}), ('BZXBOSYIC', {}), ('ZXBOSYICA', {}), ('XBOSYICAV', {}), ('BOSYICAVY', {}), ('OSYICAVYW', {}), ('SYICAVYWL', {}), ('YICAVYWLF', {}), ('ICAVYWLFK', {}), ('AVYWLFKVT', {}), ('VYWLFKVTU', {}), ('YWLFKVTUU', {}), ('WLFKVTUUB', {}), ('LFKVTUUBG', {}), ('FKVTUUBGX', {}), ('KVTUUBGXC', {}), ('VTUUBGXCI', {}), ('TUUBGXCIZ', {}), ('UUBGXCIZE', {}), ('UBGXCIZEO', {}), ('BGXCIZEOM', {}), ('GXCIZEOMV', {}), ('XCIZEOMVI', {}), ('CIZEOMVIL', {}), ('IZEOMVILB', {}), ('ZEOMVILBJ', {}), ('EOMVILBJW', {}), ('OMVILBJWA', {}), ('BZXBOSYIG', {}), ('ZXBOSYIGQ', {}), ('XBOSYIGQA', {}), ('BOSYIGQAM', {}), ('OSYIGQAMW', {}), ('SYIGQAMWZ', {}), ('YIGQAMWZB', {}), ('IGQAMWZBG', {}), ('GQAMWZBGZ', {}), ('QAMWZBGZT', {}), ('AMWZBGZTG', {}), ('MWZBGZTGA', {}), ('WZBGZTGAX', {}), ('ZBGZTGAXA', {}), ('BGZTGAXAZ', {}), ('GZTGAXAZQ', {}), ('ZTGAXAZQO', {}), ('TGAXAZQOW', {}), ('GAXAZQOWN', {}), ('AXAZQOWNQ', {}), ('XAZQOWNQA', {}), ('AZQOWNQAV', {}), ('ZQOWNQAVI', {}), ('QOWNQAVIL', {}), ('OWNQAVILB', {}), ('WNQAVILBJ', {}), ('NQAVILBJW', {}), ('QAVILBJWT', {}), ('AVILBJWTQ', {}), ('VILBJWTQK', {}), ('ILBJWTQKH', {}), ('LBJWTQKHB', {}), ('BJWTQKHBG', {}), ('JWTQKHBGW', {}), ('WTQKHBGWK', {}), ('TQKHBGWKZ', {}), ('QKHBGWKZT', {}), ('KHBGWKZTQ', {}), ('HBGWKZTQA', {}), ('BGWKZTQAX', {}), ('GWKZTQAXB', {}), ('WKZTQAXBF', {}), ('KZTQAXBFB', {}), ('ZTQAXBFBS', {}), ('TQAXBFBSM', {}), ('QAXBFBSMJ', {}), ('AXBFBSMJA', {}), ('XBFBSMJAZ', {}), ('BFBSMJAZV', {}), ('FBSMJAZVC', {}), ('BSMJAZVCX', {}), ('SMJAZVCXI', {}), ('MJAZVCXIT', {}), ('JAZVCXITQ', {}), ('AZVCXITQC', {}), ('ZVCXITQCM', {}), ('VCXITQCML', {}), ('CXITQCMLH', {}), ('XITQCMLHF', {}), ('ITQCMLHFN', {}), ('TQCMLHFNI', {}), ('QCMLHFNIG', {}), ('CMLHFNIGV', {}), ('MLHFNIGVD', {}), ('LHFNIGVDA', {}), ('HFNIGVDAL', {}), ('FNIGVDALX', {}), ('NIGVDALXG', {}), ('IGVDALXGL', {}), ('GVDALXGLF', {}), ('VDALXGLFX', {}), ('DALXGLFXW', {}), ('ALXGLFXWL', {}), ('LXGLFXWLX', {}), ('XGLFXWLXI', {}), ('GLFXWLXIL', {}), ('LFXWLXILI', {}), ('FXWLXILIY', {}), ('XWLXILIYO', {}), ('WLXILIYOS', {}), ('LXILIYOSM', {}), ('XILIYOSMN', {}), ('ILIYOSMNF', {}), ('LIYOSMNFI', {}), ('BTTQLPRMY', {}), ('TTQLPRMYB', {}), ('TQLPRMYBI', {}), ('QLPRMYBIK', {}), ('LPRMYBIKO', {}), ('PRMYBIKOP', {}), ('RMYBIKOPZ', {}), ('MYBIKOPZR', {}), ('YBIKOPZRW', {}), ('BIKOPZRWD', {}), ('IKOPZRWDQ', {}), ('KOPZRWDQJ', {}), ('OPZRWDQJX', {}), ('PZRWDQJXA', {}), ('ZRWDQJXAZ', {}), ('RWDQJXAZG', {}), ('WDQJXAZGG', {}), ('DQJXAZGGX', {}), ('QJXAZGGXR', {}), ('JXAZGGXRQ', {}), ('XAZGGXRQV', {}), ('AZGGXRQVW', {}), ('ZGGXRQVWS', {}), ('GGXRQVWSC', {}), ('GXRQVWSCO', {}), ('XRQVWSCOS', {}), ('RQVWSCOSI', {}), ('QVWSCOSIN', {}), ('VWSCOSINQ', {}), ('WSCOSINQR', {}), ('SCOSINQRT', {}), ('COSINQRTF', {}), ('OSINQRTFE', {}), ('SINQRTFEI', {}), ('INQRTFEIY', {}), ('NQRTFEIYM', {}), ('QRTFEIYMM', {}), ('RTFEIYMMA', {}), ('TFEIYMMAK', {}), ('FEIYMMAKB', {}), ('EIYMMAKBC', {}), ('IYMMAKBCY', {}), ('YMMAKBCYS', {}), ('MMAKBCYSY', {}), ('MAKBCYSYX', {}), ('AKBCYSYXO', {}), ('KBCYSYXOD', {}), ('BCYSYXODY', {}), ('CYSYXODYN', {}), ('YSYXODYNS', {}), ('SYXODYNSD', {}), ('YXODYNSDW', {}), ('XODYNSDWT', {}), ('ODYNSDWTW', {}), ('DYNSDWTWL', {}), ('YNSDWTWLA', {}), ('NSDWTWLAP', {}), ('SDWTWLAPT', {}), ('DWTWLAPTQ', {}), ('WTWLAPTQP', {}), ('TWLAPTQPG', {}), ('WLAPTQPGY', {}), ('LAPTQPGYQ', {}), ('APTQPGYQE', {}), ('PTQPGYQEY', {}), ('TQPGYQEYX', {}), ('QPGYQEYXK', {}), ('PGYQEYXKS', {}), ('GYQEYXKSD', {}), ('YQEYXKSDS', {}), ('QEYXKSDSX', {}), ('EYXKSDSXI', {}), ('YXKSDSXIS', {}), ('XKSDSXISH', {}), ('KSDSXISHQ', {}), ('SDSXISHQV', {}), ('DSXISHQVH', {}), ('SXISHQVHT', {}), ('XISHQVHTA', {}), ('ISHQVHTAG', {}), ('SHQVHTAGL', {}), ('HQVHTAGLE', {}), ('QVHTAGLEX', {}), ('VHTAGLEXI', {}), ('HTAGLEXIL', {}), ('TAGLEXILQ', {}), ('AGLEXILQT', {}), ('GLEXILQTF', {}), ('LEXILQTFI', {}), ('EXILQTFIC', {}), ('XILQTFICN', {}), ('ILQTFICNE', {}), ('LQTFICNEB', {}), ('QTFICNEBT', {}), ('TFICNEBTB', {}), ('FICNEBTBN', {}), ('ICNEBTBNW', {}), ('CNEBTBNWG', {}), ('NEBTBNWGA', {}), ('EBTBNWGAD', {}), ('BTBNWGADQ', {}), ('TBNWGADQT', {}), ('BNWGADQTT', {}), ('NWGADQTTJ', {}), ('WGADQTTJT', {}), ('GADQTTJTR', {}), ('ADQTTJTRG', {}), ('DQTTJTRGT', {}), ('QTTJTRGTA', {}), ('TTJTRGTAE', {}), ('TJTRGTAEJ', {}), ('JTRGTAEJH', {}), ('TRGTAEJHZ', {}), ('RGTAEJHZL', {}), ('GTAEJHZLG', {}), ('TAEJHZLGI', {}), ('AEJHZLGIC', {}), ('EJHZLGICR', {}), ('JHZLGICRH', {}), ('HZLGICRHI', {}), ('ZLGICRHIL', {}), ('LGICRHILR', {}), ('GICRHILRP', {}), ('ICRHILRPG', {}), ('CRHILRPGG', {}), ('RHILRPGGO', {}), ('HILRPGGOR', {}), ('ILRPGGORM', {}), ('LRPGGORML', {}), ('RPGGORMLT', {}), ('PGGORMLTP', {}), ('GGORMLTPW', {}), ('GORMLTPWS', {}), ('ORMLTPWSY', {}), ('RMLTPWSYY', {}), ('MLTPWSYYU', {}), ('LTPWSYYUQ', {}), ('TPWSYYUQB', {}), ('PWSYYUQBX', {}), ('WSYYUQBXS', {}), ('SYYUQBXSY', {}), ('YYUQBXSYJ', {}), ('YUQBXSYJO', {}), ('UQBXSYJOI', {}), ('QBXSYJOIN', {}), ('BXSYJOINM', {}), ('XSYJOINMB', {}), ('SYJOINMBB', {}), ('YJOINMBBM', {}), ('JOINMBBML', {}), ('OINMBBMLZ', {}), ('INMBBMLZG', {}), ('NMBBMLZGO', {}), ('MBBMLZGOE', {}), ('BBMLZGOEZ', {}), ('BMLZGOEZB', {}), ('MLZGOEZBX', {}), ('LZGOEZBXE', {}), ('ZGOEZBXEF', {}), ('GOEZBXEFS', {}), ('OEZBXEFSZ', {}), ('EZBXEFSZM', {}), ('ZBXEFSZMR', {}), ('BXEFSZMRA', {}), ('XEFSZMRAL', {}), ('EFSZMRALX', {}), ('FSZMRALXO', {}), ('SZMRALXOE', {}), ('ZMRALXOEO', {}), ('MRALXOEOS', {}), ('RALXOEOSJ', {}), ('ALXOEOSJI', {}), ('LXOEOSJIQ', {}), ('XOEOSJIQV', {}), ('OEOSJIQVT', {}), ('EOSJIQVTD', {}), ('OSJIQVTDC', {}), ('SJIQVTDCS', {}), ('JIQVTDCST', {}), ('IQVTDCSTL', {}), ('QVTDCSTLE', {}), ('VTDCSTLEM', {}), ('TDCSTLEMK', {}), ('DCSTLEMKH', {}), ('CSTLEMKHA', {}), ('STLEMKHAF', {}), ('TLEMKHAFB', {}), ('LEMKHAFBO', {}), ('EMKHAFBOK', {}), ('MKHAFBOKA', {}), ('KHAFBOKAD', {}), ('HAFBOKADB', {}), ('AFBOKADBX', {}), ('FBOKADBXO', {}), ('BOKADBXOD', {}), ('OKADBXODW', {}), ('KADBXODWK', {}), ('ADBXODWKA', {}), ('DBXODWKAC', {}), ('BXODWKACA', {}), ('XODWKACAU', {}), ('ODWKACAUH', {}), ('DWKACAUHQ', {}), ('WKACAUHQZ', {}), ('KACAUHQZB', {}), ('ACAUHQZBY', {}), ('CAUHQZBYQ', {}), ('AUHQZBYQG', {}), ('UHQZBYQGG', {}), ('HQZBYQGGM', {}), ('QZBYQGGML', {}), ('ZBYQGGMLE', {}), ('BYQGGMLEF', {}), ('YQGGMLEFS', {}), ('QGGMLEFSR', {}), ('GGMLEFSRI', {}), ('GMLEFSRIG', {}), ('MLEFSRIGQ', {}), ('LEFSRIGQV', {}), ('EFSRIGQVM', {}), ('FSRIGQVMS', {}), ('SRIGQVMSN', {}), ('RIGQVMSNC', {}), ('IGQVMSNCT', {}), ('GQVMSNCTN', {}), ('QVMSNCTNI', {}), ('VMSNCTNIQ', {}), ('MSNCTNIQM', {}), ('SNCTNIQMG', {}), ('NCTNIQMGH', {}), ('CTNIQMGHT', {}), ('TNIQMGHTM', {}), ('NIQMGHTMY', {}), ('IQMGHTMYM', {}), ('QMGHTMYMD', {}), ('MGHTMYMDQ', {}), ('GHTMYMDQR', {}), ('HTMYMDQRX', {}), ('TMYMDQRXW', {}), ('MYMDQRXWY', {}), ('YMDQRXWYT', {}), ('MDQRXWYTR', {}), ('DQRXWYTRC', {}), ('QRXWYTRCI', {}), ('RXWYTRCID', {}), ('XWYTRCIDX', {}), ('WYTRCIDXH', {}), ('YTRCIDXHF', {}), ('TRCIDXHFE', {}), ('RCIDXHFEW', {}), ('CIDXHFEWE', {}), ('IDXHFEWEJ', {}), ('DXHFEWEJU', {}), ('XHFEWEJUE', {}), ('HFEWEJUEK', {}), ('FEWEJUEKT', {}), ('EWEJUEKTI', {}), ('WEJUEKTIY', {}), ('EJUEKTIYO', {}), ('JUEKTIYOS', {}), ('UEKTIYOSM', {}), ('EKTIYOSMN', {}), ('KTIYOSMNF', {}), ('TIYOSMNFI', {}), ('BTTQLPRMS', {}), ('TTQLPRMSQ', {}), ('TQLPRMSQB', {}), ('QLPRMSQBK', {}), ('LPRMSQBKO', {}), ('PRMSQBKOE', {}), ('RMSQBKOEO', {}), ('MSQBKOEOJ', {}), ('SQBKOEOJM', {}), ('QBKOEOJMC', {}), ('BKOEOJMCA', {}), ('KOEOJMCAV', {}), ('OEOJMCAVY', {}), ('EOJMCAVYW', {}), ('OJMCAVYWL', {}), ('JMCAVYWLF', {}), ('MCAVYWLFK', {}), ('AVYWLFKVQ', {}), ('VYWLFKVQG', {}), ('YWLFKVQGM', {}), ('WLFKVQGMM', {}), ('LFKVQGMMW', {}), ('FKVQGMMWP', {}), ('KVQGMMWPB', {}), ('VQGMMWPBK', {}), ('QGMMWPBKA', {}), ('GMMWPBKAL', {}), ('MMWPBKALM', {}), ('MWPBKALMK', {}), ('WPBKALMKT', {}), ('PBKALMKTD', {}), ('BKALMKTDL', {}), ('KALMKTDLQ', {}), ('ALMKTDLQO', {}), ('LMKTDLQOL', {}), ('MKTDLQOLA', {}), ('KTDLQOLAP', {}), ('TDLQOLAPL', {}), ('DLQOLAPLX', {}), ('LQOLAPLXJ', {}), ('QOLAPLXJP', {}), ('OLAPLXJPF', {}), ('LAPLXJPFR', {}), ('APLXJPFRI', {}), ('PLXJPFRIS', {}), ('LXJPFRISO', {}), ('XJPFRISOW', {}), ('JPFRISOWL', {}), ('PFRISOWLO', {}), ('FRISOWLOD', {}), ('RISOWLODO', {}), ('ISOWLODOZ', {}), ('SOWLODOZZ', {}), ('OWLODOZZA', {}), ('WLODOZZAH', {}), ('LODOZZAHM', {}), ('ODOZZAHML', {}), ('DOZZAHMLR', {}), ('OZZAHMLRP', {}), ('ZZAHMLRPM', {}), ('ZAHMLRPMG', {}), ('AHMLRPMGY', {}), ('HMLRPMGYU', {}), ('MLRPMGYUQ', {}), ('LRPMGYUQV', {}), ('RPMGYUQVH', {}), ('PMGYUQVHG', {}), ('MGYUQVHGP', {}), ('GYUQVHGPH', {}), ('YUQVHGPHX', {}), ('UQVHGPHXI', {}), ('QVHGPHXIT', {}), ('VHGPHXITM', {}), ('HGPHXITML', {}), ('GPHXITMLX', {}), ('PHXITMLXB', {}), ('HXITMLXBP', {}), ('XITMLXBPU', {}), ('ITMLXBPUU', {}), ('TMLXBPUUK', {}), ('MLXBPUUKI', {}), ('LXBPUUKIM', {}), ('XBPUUKIMZ', {}), ('BPUUKIMZV', {}), ('PUUKIMZVC', {}), ('UUKIMZVCY', {}), ('UKIMZVCYH', {}), ('KIMZVCYHO', {}), ('IMZVCYHOO', {}), ('MZVCYHOOO', {}), ('ZVCYHOOOK', {}), ('VCYHOOOKR', {}), ('CYHOOOKRN', {}), ('YHOOOKRNG', {}), ('HOOOKRNGE', {}), ('OOOKRNGEW', {}), ('OOKRNGEWL', {}), ('OKRNGEWLQ', {}), ('KRNGEWLQC', {}), ('RNGEWLQCM', {}), ('NGEWLQCMZ', {}), ('GEWLQCMZM', {}), ('EWLQCMZMC', {}), ('WLQCMZMCO', {}), ('LQCMZMCOO', {}), ('QCMZMCOOY', {}), ('CMZMCOOYT', {}), ('MZMCOOYTA', {}), ('ZMCOOYTAE', {}), ('MCOOYTAEK', {}), ('COOYTAEKH', {}), ('OOYTAEKHG', {}), ('OYTAEKHGL', {}), ('YTAEKHGLG', {}), ('TAEKHGLGW', {}), ('AEKHGLGWC', {}), ('EKHGLGWCE', {}), ('KHGLGWCET', {}), ('HGLGWCETI', {}), ('GLGWCETIV', {}), ('LGWCETIVS', {}), ('GWCETIVSD', {}), ('WCETIVSDA', {}), ('CETIVSDAG', {}), ('ETIVSDAGT', {}), ('TIVSDAGTP', {}), ('IVSDAGTPA', {}), ('VSDAGTPAZ', {}), ('SDAGTPAZJ', {}), ('DAGTPAZJI', {}), ('AGTPAZJIP', {}), ('GTPAZJIPG', {}), ('TPAZJIPGU', {}), ('PAZJIPGUU', {}), ('AZJIPGUUO', {}), ('ZJIPGUUOE', {}), ('JIPGUUOEU', {}), ('IPGUUOEUT', {}), ('PGUUOEUTE', {}), ('GUUOEUTEF', {}), ('UUOEUTEFW', {}), ('UOEUTEFWT', {}), ('OEUTEFWTQ', {}), ('EUTEFWTQT', {}), ('UTEFWTQTM', {}), ('TEFWTQTMA', {}), ('EFWTQTMAW', {}), ('FWTQTMAWS', {}), ('WTQTMAWSY', {}), ('TQTMAWSYO', {}), ('QTMAWSYOX', {}), ('TMAWSYOXZ', {}), ('MAWSYOXZA', {}), ('AWSYOXZAF', {}), ('WSYOXZAFQ', {}), ('SYOXZAFQO', {}), ('YOXZAFQOO', {}), ('OXZAFQOOD', {}), ('XZAFQOODD', {}), ('ZAFQOODDG', {}), ('AFQOODDGZ', {}), ('FQOODDGZA', {}), ('QOODDGZAO', {}), ('OODDGZAOC', {}), ('ODDGZAOCT', {}), ('DDGZAOCTZ', {}), ('DGZAOCTZB', {}), ('GZAOCTZBI', {}), ('ZAOCTZBIO', {}), ('AOCTZBIOM', {}), ('OCTZBIOMR', {}), ('CTZBIOMRO', {}), ('TZBIOMROW', {}), ('ZBIOMROWL', {}), ('BIOMROWLO', {}), ('IOMROWLOY', {}), ('OMROWLOYC', {}), ('MROWLOYCY', {}), ('ROWLOYCYK', {}), ('OWLOYCYKR', {}), ('WLOYCYKRQ', {}), ('LOYCYKRQI', {}), ('OYCYKRQIF', {}), ('YCYKRQIFC', {}), ('CYKRQIFCD', {}), ('YKRQIFCDI', {}), ('KRQIFCDIT', {}), ('RQIFCDITI', {}), ('QIFCDITIH', {}), ('IFCDITIHU', {}), ('FCDITIHUA', {}), ('CDITIHUAM', {}), ('DITIHUAMC', {}), ('ITIHUAMCC', {}), ('TIHUAMCCW', {}), ('IHUAMCCWG', {}), ('HUAMCCWGY', {}), ('UAMCCWGYU', {}), ('AMCCWGYUQ', {}), ('MCCWGYUQR', {}), ('CCWGYUQRN', {}), ('CWGYUQRNG', {}), ('WGYUQRNGE', {}), ('GYUQRNGEW', {}), ('YUQRNGEWL', {}), ('UQRNGEWLQ', {}), ('QRNGEWLQQ', {}), ('RNGEWLQQG', {}), ('NGEWLQQGM', {}), ('GEWLQQGME', {}), ('EWLQQGMEC', {}), ('WLQQGMECB', {}), ('LQQGMECBI', {}), ('QQGMECBIK', {}), ('QGMECBIKP', {}), ('GMECBIKPA', {}), ('MECBIKPAO', {}), ('ECBIKPAOM', {}), ('CBIKPAOMF', {}), ('BIKPAOMFC', {}), ('IKPAOMFCD', {}), ('KPAOMFCDD', {}), ('PAOMFCDDK', {}), ('AOMFCDDKZ', {}), ('OMFCDDKZO', {}), ('MFCDDKZOD', {}), ('FCDDKZODM', {}), ('CDDKZODMT', {}), ('DDKZODMTZ', {}), ('DKZODMTZX', {}), ('KZODMTZXS', {}), ('ZODMTZXST', {}), ('ODMTZXSTB', {}), ('DMTZXSTBE', {}), ('MTZXSTBEZ', {}), ('TZXSTBEZW', {}), ('ZXSTBEZWA', {}), ('XSTBEZWAO', {}), ('STBEZWAON', {}), ('TBEZWAONS', {}), ('BEZWAONSS', {}), ('EZWAONSSW', {}), ('ZWAONSSWS', {}), ('WAONSSWSX', {}), ('AONSSWSXW', {}), ('ONSSWSXWJ', {}), ('NSSWSXWJI', {}), ('SSWSXWJIP', {}), ('SWSXWJIPE', {}), ('WSXWJIPEA', {}), ('SXWJIPEAM', {}), ('XWJIPEAMR', {}), ('WJIPEAMRQ', {}), ('JIPEAMRQU', {}), ('IPEAMRQUH', {}), ('PEAMRQUHG', {}), ('EAMRQUHGS', {}), ('AMRQUHGSO', {}), ('MRQUHGSOI', {}), ('RQUHGSOIM', {}), ('QUHGSOIMR', {}), ('UHGSOIMRK', {}), ('HGSOIMRKI', {}), ('GSOIMRKIJ', {}), ('SOIMRKIJI', {}), ('OIMRKIJIP', {}), ('IMRKIJIPG', {}), ('MRKIJIPGU', {}), ('RKIJIPGUU', {}), ('KIJIPGUUO', {}), ('IJIPGUUOE', {}), ('JIPGUUOEX', {}), ('IPGUUOEXK', {}), ('PGUUOEXKC', {}), ('GUUOEXKCO', {}), ('UUOEXKCOI', {}), ('UOEXKCOII', {}), ('OEXKCOIIB', {}), ('EXKCOIIBO', {}), ('XKCOIIBOE', {}), ('KCOIIBOEL', {}), ('COIIBOELX', {}), ('OIIBOELXZ', {}), ('IIBOELXZN', {}), ('IBOELXZNC', {}), ('BOELXZNCT', {}), ('OELXZNCTB', {}), ('ELXZNCTBE', {}), ('LXZNCTBEJ', {}), ('XZNCTBEJB', {}), ('ZNCTBEJBH', {}), ('NCTBEJBHM', {}), ('CTBEJBHMP', {}), ('TBEJBHMPG', {}), ('BEJBHMPGZ', {}), ('EJBHMPGZM', {}), ('JBHMPGZME', {}), ('BHMPGZMEE', {}), ('HMPGZMEEB', {}), ('MPGZMEEBX', {}), ('PGZMEEBXH', {}), ('GZMEEBXHC', {}), ('ZMEEBXHCW', {}), ('MEEBXHCWI', {}), ('EEBXHCWIW', {}), ('EBXHCWIWA', {}), ('BXHCWIWAE', {}), ('XHCWIWAEQ', {}), ('HCWIWAEQJ', {}), ('CWIWAEQJI', {}), ('WIWAEQJIP', {}), ('IWAEQJIPA', {}), ('WAEQJIPAK', {}), ('AEQJIPAKR', {}), ('EQJIPAKRO', {}), ('QJIPAKROD', {}), ('JIPAKRODM', {}), ('IPAKRODMG', {}), ('PAKRODMGS', {}), ('AKRODMGSD', {}), ('KRODMGSDH', {}), ('RODMGSDHG', {}), ('ODMGSDHGD', {}), ('DMGSDHGDI', {}), ('SDHGDIPIU', {}), ('DHGDIPIUI', {}), ('HGDIPIUID', {}), ('GDIPIUIDQ', {}), ('DIPIUIDQG', {}), ('IPIUIDQGB', {}), ('PIUIDQGBU', {}), ('IUIDQGBUB', {}), ('UIDQGBUBZ', {}), ('IDQGBUBZH', {}), ('DQGBUBZHD', {}), ('QGBUBZHDZ', {}), ('GBUBZHDZG', {}), ('BUBZHDZGO', {}), ('UBZHDZGOB', {}), ('BZHDZGOBO', {}), ('ZHDZGOBOK', {}), ('HDZGOBOKZ', {}), ('DZGOBOKZX', {}), ('ZGOBOKZXQ', {}), ('GOBOKZXQF', {}), ('OBOKZXQFS', {}), ('BOKZXQFSX', {}), ('OKZXQFSXL', {}), ('KZXQFSXLA', {}), ('ZXQFSXLAC', {}), ('XQFSXLACC', {}), ('QFSXLACCX', {}), ('FSXLACCXS', {}), ('SXLACCXSD', {}), ('XLACCXSDH', {}), ('LACCXSDHK', {}), ('ACCXSDHKV', {}), ('CCXSDHKVO', {}), ('CXSDHKVOQ', {}), ('XSDHKVOQA', {}), ('SDHKVOQAM', {}), ('DHKVOQAMO', {}), ('HKVOQAMOP', {}), ('KVOQAMOPB', {}), ('VOQAMOPBR', {}), ('OQAMOPBRI', {}), ('QAMOPBRIS', {}), ('AMOPBRISD', {}), ('MOPBRISDM', {}), ('OPBRISDMW', {}), ('PBRISDMWS', {}), ('BRISDMWSD', {}), ('RISDMWSDG', {}), ('ISDMWSDGU', {}), ('SDMWSDGUK', {}), ('DMWSDGUKI', {}), ('MWSDGUKIM', {}), ('WSDGUKIMT', {}), ('SDGUKIMTX', {}), ('DGUKIMTXG', {}), ('GUKIMTXGY', {}), ('UKIMTXGYW', {}), ('KIMTXGYWK', {}), ('IMTXGYWKV', {}), ('MTXGYWKVA', {}), ('TXGYWKVAX', {}), ('XGYWKVAXO', {}), ('GYWKVAXON', {}), ('YWKVAXONB', {}), ('WKVAXONBL', {}), ('KVAXONBLV', {}), ('VAXONBLVK', {}), ('AXONBLVKZ', {}), ('XONBLVKZR', {}), ('ONBLVKZRM', {}), ('NBLVKZRMU', {}), ('BLVKZRMUB', {}), ('LVKZRMUBS', {}), ('VKZRMUBSY', {}), ('KZRMUBSYH', {}), ('ZRMUBSYHG', {}), ('RMUBSYHGL', {}), ('MUBSYHGLE', {}), ('UBSYHGLEX', {}), ('BSYHGLEXA', {}), ('SYHGLEXAB', {}), ('YHGLEXABG', {}), ('HGLEXABGE', {}), ('GLEXABGES', {}), ('LEXABGESS', {}), ('EXABGESSI', {}), ('XABGESSIQ', {}), ('ABGESSIQG', {}), ('BGESSIQGM', {}), ('GESSIQGMM', {}), ('ESSIQGMMS', {}), ('SSIQGMMSM', {}), ('SIQGMMSMF', {}), ('IQGMMSMFO', {}), ('QGMMSMFOV', {}), ('GMMSMFOVD', {}), ('MMSMFOVDQ', {}), ('MSMFOVDQA', {}), ('SMFOVDQAT', {}), ('MFOVDQATH', {}), ('FOVDQATHT', {}), ('OVDQATHTG', {}), ('VDQATHTGL', {}), ('DQATHTGLI', {}), ('QATHTGLIC', {}), ('ATHTGLICO', {}), ('THTGLICOQ', {}), ('HTGLICOQH', {}), ('TGLICOQHB', {}), ('GLICOQHBT', {}), ('LICOQHBTB', {}), ('ICOQHBTBY', {}), ('COQHBTBYB', {}), ('OQHBTBYBA', {}), ('QHBTBYBAZ', {}), ('HBTBYBAZB', {}), ('BTBYBAZBT', {}), ('TBYBAZBTB', {}), ('BYBAZBTBE', {}), ('YBAZBTBEO', {}), ('BAZBTBEOT', {}), ('AZBTBEOTM', {}), ('ZBTBEOTMA', {}), ('BTBEOTMAO', {}), ('TBEOTMAOC', {}), ('BEOTMAOCB', {}), ('EOTMAOCBR', {}), ('OTMAOCBRL', {}), ('TMAOCBRLR', {}), ('MAOCBRLRK', {}), ('AOCBRLRKT', {}), ('OCBRLRKTO', {}), ('CBRLRKTOE', {}), ('BRLRKTOEB', {}), ('RLRKTOEBN', {}), ('LRKTOEBNM', {}), ('RKTOEBNMZ', {}), ('KTOEBNMZG', {}), ('TOEBNMZGE', {}), ('OEBNMZGEB', {}), ('EBNMZGEBO', {}), ('BNMZGEBOY', {}), ('NMZGEBOYI', {}), ('MZGEBOYIX', {}), ('ZGEBOYIXZ', {}), ('GEBOYIXZN', {}), ('EBOYIXZNC', {}), ('BOYIXZNCT', {}), ('OYIXZNCTB', {}), ('YIXZNCTBR', {}), ('IXZNCTBRA', {}), ('XZNCTBRAT', {}), ('ZNCTBRATW', {}), ('NCTBRATWS', {}), ('CTBRATWSE', {}), ('TBRATWSEI', {}), ('BRATWSEIB', {}), ('RATWSEIBQ', {}), ('ATWSEIBQD', {}), ('TWSEIBQDM', {}), ('WSEIBQDMP', {}), ('SEIBQDMPX', {}), ('EIBQDMPXF', {}), ('IBQDMPXFC', {}), ('BQDMPXFCO', {}), ('QDMPXFCOS', {}), ('DMPXFCOSQ', {}), ('MPXFCOSQE', {}), ('PXFCOSQEZ', {}), ('XFCOSQEZB', {}), ('FCOSQEZBT', {}), ('COSQEZBTG', {}), ('OSQEZBTGX', {}), ('SQEZBTGXI', {}), ('QEZBTGXIE', {}), ('EZBTGXIEJ', {}), ('ZBTGXIEJE', {}), ('BTGXIEJEZ', {}), ('TGXIEJEZM', {}), ('GXIEJEZMY', {}), ('XIEJEZMYW', {}), ('IEJEZMYWN', {}), ('EJEZMYWNW', {}), ('JEZMYWNWU', {}), ('EZMYWNWUA', {}), ('ZMYWNWUAA', {}), ('MYWNWUAAE', {}), ('YWNWUAAEM', {}), ('WNWUAAEMG', {}), ('NWUAAEMGS', {}), ('WUAAEMGSW', {}), ('UAAEMGSWO', {}), ('AAEMGSWON', {}), ('AEMGSWONW', {}), ('EMGSWONWR', {}), ('MGSWONWRM', {}), ('GSWONWRMM', {}), ('SWONWRMML', {}), ('WONWRMMLS', {}), ('ONWRMMLSD', {}), ('NWRMMLSDA', {}), ('WRMMLSDAK', {}), ('RMMLSDAKL', {}), ('MMLSDAKLI', {}), ('MLSDAKLIF', {}), ('LSDAKLIFI', {}), ('SDAKLIFIK', {}), ('DAKLIFIKM', {}), ('AKLIFIKMO', {}), ('KLIFIKMOC', {}), ('LIFIKMOCX', {}), ('IFIKMOCXU', {}), ('FIKMOCXUI', {}), ('IKMOCXUID', {}), ('KMOCXUIDJ', {}), ('MOCXUIDJB', {}), ('OCXUIDJBS', {}), ('CXUIDJBSY', {}), ('XUIDJBSYM', {}), ('UIDJBSYMG', {}), ('IDJBSYMGY', {}), ('DJBSYMGYU', {}), ('JBSYMGYUQ', {}), ('BSYMGYUQM', {}), ('SYMGYUQML', {}), ('YMGYUQMLZ', {}), ('MGYUQMLZZ', {}), ('GYUQMLZZE', {}), ('YUQMLZZEA', {}), ('UQMLZZEAM', {}), ('QMLZZEAMD', {}), ('MLZZEAMDQ', {}), ('LZZEAMDQJ', {}), ('ZZEAMDQJX', {}), ('ZEAMDQJXA', {}), ('EAMDQJXAZ', {}), ('AMDQJXAZG', {}), ('MDQJXAZGN', {}), ('DQJXAZGNI', {}), ('QJXAZGNIC', {}), ('JXAZGNICQ', {}), ('XAZGNICQZ', {}), ('AZGNICQZL', {}), ('ZGNICQZLS', {}), ('GNICQZLSR', {}), ('NICQZLSRI', {}), ('ICQZLSRIT', {}), ('CQZLSRITT', {}), ('QZLSRITTA', {}), ('ZLSRITTAZ', {}), ('LSRITTAZI', {}), ('SRITTAZIM', {}), ('RITTAZIMI', {}), ('ITTAZIMIC', {}), ('TTAZIMICO', {}), ('TAZIMICOR', {}), ('AZIMICORM', {}), ('ZIMICORMZ', {}), ('IMICORMZM', {}), ('MICORMZMM', {}), ('ICORMZMML', {}), ('CORMZMMLH', {}), ('ORMZMMLHL', {}), ('RMZMMLHLE', {}), ('MZMMLHLEA', {}), ('ZMMLHLEAQ', {}), ('MMLHLEAQE', {}), ('MLHLEAQED', {}), ('LHLEAQEDM', {}), ('HLEAQEDMJ', {}), ('LEAQEDMJI', {}), ('EAQEDMJIP', {}), ('AQEDMJIPR', {}), ('QEDMJIPRA', {}), ('EDMJIPRAZ', {}), ('DMJIPRAZM', {}), ('MJIPRAZMM', {}), ('JIPRAZMMU', {}), ('IPRAZMMUH', {}), ('PRAZMMUHG', {}), ('RAZMMUHGZ', {}), ('AZMMUHGZQ', {}), ('ZMMUHGZQN', {}), ('MMUHGZQNW', {}), ('MUHGZQNWH', {}), ('UHGZQNWHA', {}), ('HGZQNWHAZ', {}), ('GZQNWHAZT', {}), ('ZQNWHAZTG', {}), ('QNWHAZTGL', {}), ('NWHAZTGLI', {}), ('WHAZTGLIT', {}), ('HAZTGLITY', {}), ('AZTGLITYU', {}), ('ZTGLITYUQ', {}), ('TGLITYUQD', {}), ('GLITYUQDB', {}), ('LITYUQDBJ', {}), ('ITYUQDBJL', {}), ('TYUQDBJLA', {}), ('YUQDBJLAU', {}), ('UQDBJLAUA', {}), ('QDBJLAUAE', {}), ('DBJLAUAEZ', {}), ('BJLAUAEZC', {}), ('JLAUAEZCG', {}), ('LAUAEZCGA', {}), ('AUAEZCGAF', {}), ('UAEZCGAFB', {}), ('AEZCGAFBJ', {}), ('EZCGAFBJW', {}), ('ZCGAFBJWQ', {}), ('CGAFBJWQG', {}), ('GAFBJWQGM', {}), ('AFBJWQGMU', {}), ('FBJWQGMUI', {}), ('BJWQGMUID', {}), ('JWQGMUIDQ', {}), ('WQGMUIDQG', {}), ('QGMUIDQGT', {}), ('GMUIDQGTA', {}), ('MUIDQGTAB', {}), ('UIDQGTABZ', {}), ('IDQGTABZB', {}), ('DQGTABZBJ', {}), ('QGTABZBJL', {}), ('GTABZBJLQ', {}), ('TABZBJLQO', {}), ('ABZBJLQOW', {}), ('BZBJLQOWN', {}), ('ZBJLQOWNP', {}), ('BJLQOWNPM', {}), ('JLQOWNPME', {}), ('LQOWNPMEG', {}), ('QOWNPMEGF', {}), ('OWNPMEGFS', {}), ('WNPMEGFST', {}), ('NPMEGFSTW', {}), ('PMEGFSTWY', {}), ('MEGFSTWYD', {}), ('EGFSTWYDM', {}), ('GFSTWYDMV', {}), ('FSTWYDMVI', {}), ('STWYDMVIP', {}), ('TWYDMVIPF', {}), ('WYDMVIPFJ', {}), ('YDMVIPFJI', {}), ('DMVIPFJIQ', {}), ('MVIPFJIQG', {}), ('VIPFJIQGM', {}), ('IPFJIQGME', {}), ('PFJIQGMEC', {}), ('FJIQGMECX', {}), ('JIQGMECXO', {}), ('IQGMECXOY', {}), ('QGMECXOYQ', {}), ('GMECXOYQM', {}), ('MECXOYQMB', {}), ('ECXOYQMBW', {}), ('CXOYQMBWK', {}), ('XOYQMBWKH', {}), ('OYQMBWKHL', {}), ('YQMBWKHLB', {}), ('QMBWKHLBZ', {}), ('MBWKHLBZM', {}), ('BWKHLBZME', {}), ('WKHLBZMEE', {}), ('KHLBZMEEP', {}), ('HLBZMEEPT', {}), ('LBZMEEPTQ', {}), ('BZMEEPTQP', {}), ('ZMEEPTQPF', {}), ('MEEPTQPFE', {}), ('EEPTQPFEB', {}), ('EPTQPFEBR', {}), ('PTQPFEBRM', {}), ('TQPFEBRMJ', {}), ('QPFEBRMJT', {}), ('PFEBRMJTX', {}), ('FEBRMJTXL', {}), ('EBRMJTXLF', {}), ('BRMJTXLFI', {}), ('RMJTXLFIW', {}), ('MJTXLFIWN', {}), ('JTXLFIWNF', {}), ('TXLFIWNFW', {}), ('XLFIWNFWW', {}), ('LFIWNFWWO', {}), ('FIWNFWWOE', {}), ('IWNFWWOEI', {}), ('WNFWWOEIK', {}), ('NFWWOEIKV', {}), ('FWWOEIKVE', {}), ('WWOEIKVED', {}), ('WOEIKVEDO', {}), ('OEIKVEDOB', {}), ('EIKVEDOBO', {}), ('IKVEDOBOP', {}), ('KVEDOBOPB', {}), ('VEDOBOPBL', {}), ('EDOBOPBLW', {}), ('DOBOPBLWC', {}), ('OBOPBLWCM', {}), ('BOPBLWCML', {}), ('OPBLWCMLT', {}), ('PBLWCMLTM', {}), ('BLWCMLTMY', {}), ('LWCMLTMYC', {}), ('WCMLTMYCY', {}), ('CMLTMYCYW', {}), ('MLTMYCYWL', {}), ('LTMYCYWLA', {}), ('TMYCYWLAX', {}), ('MYCYWLAXX', {}), ('YCYWLAXXB', {}), ('CYWLAXXBD', {}), ('YWLAXXBDO', {}), ('WLAXXBDOX', {}), ('LAXXBDOXX', {}), ('AXXBDOXXO', {}), ('XXBDOXXOD', {}), ('XBDOXXODY', {}), ('BDOXXODYN', {}), ('DOXXODYNS', {}), ('OXXODYNSY', {}), ('XXODYNSYC', {}), ('XODYNSYCB', {}), ('ODYNSYCBQ', {}), ('DYNSYCBQV', {}), ('YNSYCBQVU', {}), ('NSYCBQVUU', {}), ('SYCBQVUUH', {}), ('YCBQVUUHG', {}), ('CBQVUUHGP', {}), ('BQVUUHGPB', {}), ('QVUUHGPBA', {}), ('VUUHGPBAV', {}), ('UUHGPBAVM', {}), ('UHGPBAVMG', {}), ('HGPBAVMGV', {}), ('GPBAVMGVW', {}), ('PBAVMGVWC', {}), ('BAVMGVWCT', {}), ('AVMGVWCTR', {}), ('VMGVWCTRK', {}), ('MGVWCTRKI', {}), ('GVWCTRKIL', {}), ('VWCTRKILU', {}), ('WCTRKILUA', {}), ('CTRKILUAM', {}), ('TRKILUAMO', {}), ('RKILUAMOY', {}), ('KILUAMOYC', {}), ('ILUAMOYCV', {}), ('LUAMOYCVM', {}), ('UAMOYCVMR', {}), ('AMOYCVMRY', {}), ('MOYCVMRYQ', {}), ('OYCVMRYQM', {}), ('YCVMRYQMO', {}), ('CVMRYQMOD', {}), ('VMRYQMODE', {}), ('MRYQMODEA', {}), ('RYQMODEAM', {}), ('YQMODEAME', {}), ('QMODEAMEX', {}), ('MODEAMEXN', {}), ('ODEAMEXNN', {}), ('DEAMEXNNS', {}), ('EAMEXNNSR', {}), ('AMEXNNSRC', {}), ('MEXNNSRCJ', {}), ('EXNNSRCJM', {}), ('XNNSRCJMT', {}), ('NNSRCJMTG', {}), ('NSRCJMTGI', {}), ('SRCJMTGIE', {}), ('RCJMTGIEA', {}), ('CJMTGIEAL', {}), ('JMTGIEALG', {}), ('MTGIEALGK', {}), ('TGIEALGKI', {}), ('GIEALGKIP', {}), ('IEALGKIPM', {}), ('EALGKIPMO', {}), ('ALGKIPMON', {}), ('LGKIPMONS', {}), ('GKIPMONSJ', {}), ('KIPMONSJQ', {}), ('IPMONSJQU', {}), ('PMONSJQUV', {}), ('MONSJQUVO', {}), ('ONSJQUVOO', {}), ('NSJQUVOOM', {}), ('SJQUVOOMX', {}), ('JQUVOOMXZ', {}), ('QUVOOMXZG', {}), ('UVOOMXZGO', {}), ('VOOMXZGOR', {}), ('OOMXZGORW', {}), ('OMXZGORWR', {}), ('MXZGORWRP', {}), ('XZGORWRPM', {}), ('ZGORWRPMM', {}), ('GORWRPMMI', {}), ('ORWRPMMID', {}), ('RWRPMMIDS', {}), ('WRPMMIDSX', {}), ('RPMMIDSXX', {}), ('PMMIDSXXA', {}), ('MMIDSXXAD', {}), ('MIDSXXADI', {}), ('IDSXXADIJ', {}), ('DSXXADIJI', {}), ('SXXADIJIP', {}), ('XXADIJIPH', {}), ('XADIJIPHK', {}), ('ADIJIPHKL', {}), ('DIJIPHKLE', {}), ('IJIPHKLEE', {}), ('JIPHKLEEM', {}), ('IPHKLEEME', {}), ('PHKLEEMEF', {}), ('HKLEEMEFP', {}), ('KLEEMEFPG', {}), ('LEEMEFPGV', {}), ('EEMEFPGVM', {}), ('EMEFPGVMT', {}), ('MEFPGVMTA', {}), ('EFPGVMTAY', {}), ('FPGVMTAYN', {}), ('PGVMTAYNS', {}), ('GVMTAYNSE', {}), ('VMTAYNSES', {}), ('MTAYNSESS', {}), ('TAYNSESSM', {}), ('AYNSESSMR', {}), ('YNSESSMRQ', {}), ('NSESSMRQK', {}), ('SESSMRQKX', {}), ('ESSMRQKXG', {}), ('SSMRQKXGJ', {}), ('SMRQKXGJB', {}), ('MRQKXGJBU', {}), ('RQKXGJBUX', {}), ('QKXGJBUXR', {}), ('KXGJBUXRQ', {}), ('XGJBUXRQB', {}), ('GJBUXRQBX', {}), ('JBUXRQBXB', {}), ('BUXRQBXBO', {}), ('UXRQBXBOO', {}), ('XRQBXBOOY', {}), ('RQBXBOOYY', {}), ('QBXBOOYYU', {}), ('BXBOOYYUQ', {}), ('XBOOYYUQT', {}), ('BOOYYUQTT', {}), ('OOYYUQTTG', {}), ('OYYUQTTGN', {}), ('YYUQTTGNC', {}), ('YUQTTGNCY', {}), ('UQTTGNCYI', {}), ('QTTGNCYIS', {}), ('TTGNCYISO', {}), ('TGNCYISOI', {}), ('GNCYISOIF', {}), ('NCYISOIFP', {}), ('CYISOIFPT', {}), ('YISOIFPTS', {}), ('ISOIFPTST', {}), ('SOIFPTSTI', {}), ('OIFPTSTIC', {}), ('IFPTSTICF', {}), ('FPTSTICFC', {}), ('PTSTICFCT', {}), ('TSTICFCTB', {}), ('STICFCTBO', {}), ('TICFCTBOC', {}), ('ICFCTBOCY', {}), ('CFCTBOCYQ', {}), ('FCTBOCYQE', {}), ('CTBOCYQEY', {}), ('TBOCYQEYX', {}), ('BOCYQEYXK', {}), ('OCYQEYXKS', {}), ('CYQEYXKST', {}), ('YQEYXKSTU', {}), ('QEYXKSTUA', {}), ('EYXKSTUAI', {}), ('YXKSTUAIL', {}), ('XKSTUAILK', {}), ('KSTUAILKI', {}), ('STUAILKIJ', {}), ('TUAILKIJI', {}), ('UAILKIJIP', {}), ('AILKIJIPH', {}), ('ILKIJIPHA', {}), ('LKIJIPHAL', {}), ('KIJIPHALE', {}), ('IJIPHALER', {}), ('JIPHALERQ', {}), ('IPHALERQG', {}), ('PHALERQGW', {}), ('HALERQGWN', {}), ('ALERQGWNW', {}), ('LERQGWNWU', {}), ('ERQGWNWUV', {}), ('RQGWNWUVD', {}), ('QGWNWUVDQ', {}), ('GWNWUVDQM', {}), ('WNWUVDQMQ', {}), ('NWUVDQMQW', {}), ('WUVDQMQWE', {}), ('UVDQMQWEC', {}), ('VDQMQWECY', {}), ('DQMQWECYW', {}), ('QMQWECYWL', {}), ('MQWECYWLA', {}), ('QWECYWLAA', {}), ('WECYWLAAX', {}), ('ECYWLAAXO', {}), ('CYWLAAXOW', {}), ('YWLAAXOWQ', {}), ('WLAAXOWQG', {}), ('LAAXOWQGV', {}), ('AAXOWQGVZ', {}), ('AXOWQGVZM', {}), ('XOWQGVZMB', {}), ('OWQGVZMBK', {}), ('WQGVZMBKO', {}), ('QGVZMBKOM', {}), ('GVZMBKOMO', {}), ('VZMBKOMOP', {}), ('ZMBKOMOPI', {}), ('MBKOMOPIN', {}), ('BKOMOPINP', {}), ('KOMOPINPW', {}), ('OMOPINPWX', {}), ('MOPINPWXB', {}), ('OPINPWXBE', {}), ('PINPWXBEW', {}), ('INPWXBEWR', {}), ('NPWXBEWRW', {}), ('PWXBEWRWD', {}), ('WXBEWRWDQ', {}), ('XBEWRWDQU', {}), ('BEWRWDQUT', {}), ('EWRWDQUTG', {}), ('WRWDQUTGG', {}), ('RWDQUTGGW', {}), ('WDQUTGGWK', {}), ('DQUTGGWKV', {}), ('QUTGGWKVE', {}), ('UTGGWKVEF', {}), ('TGGWKVEFC', {}), ('GGWKVEFCW', {}), ('GWKVEFCWS', {}), ('WKVEFCWSM', {}), ('KVEFCWSMS', {}), ('VEFCWSMSY', {}), ('EFCWSMSYM', {}), ('FCWSMSYMS', {}), ('CWSMSYMSF', {}), ('WSMSYMSFI', {}), ('SMSYMSFIK', {}), ('MSYMSFIKS', {}), ('SYMSFIKSY', {}), ('YMSFIKSYS', {}), ('MSFIKSYSR', {}), ('SFIKSYSRX', {}), ('FIKSYSRXE', {}), ('IKSYSRXEP', {}), ('KSYSRXEPM', {}), ('SYSRXEPML', {}), ('YSRXEPMLH', {}), ('SRXEPMLHL', {}), ('RXEPMLHLZ', {}), ('XEPMLHLZJ', {}), ('EPMLHLZJM', {}), ('PMLHLZJMT', {}), ('MLHLZJMTG', {}), ('LHLZJMTGD', {}), ('HLZJMTGDB', {}), ('LZJMTGDBR', {}), ('ZJMTGDBRL', {}), ('JMTGDBRLM', {}), ('MTGDBRLMI', {}), ('TGDBRLMIW', {}), ('GDBRLMIWM', {}), ('DBRLMIWMA', {}), ('BRLMIWMAV', {}), ('RLMIWMAVT', {}), ('LMIWMAVTR', {}), ('MIWMAVTRT', {}), ('IWMAVTRTS', {}), ('WMAVTRTSB', {}), ('MAVTRTSBI', {}), ('AVTRTSBIA', {}), ('VTRTSBIAH', {}), ('TRTSBIAHM', {}), ('RTSBIAHMG', {}), ('TSBIAHMGW', {}), ('SBIAHMGWC', {}), ('BIAHMGWCO', {}), ('IAHMGWCOX', {}), ('AHMGWCOXM', {}), ('HMGWCOXMG', {}), ('MGWCOXMGM', {}), ('GWCOXMGMT', {}), ('WCOXMGMTT', {}), ('COXMGMTTF', {}), ('OXMGMTTFY', {}), ('XMGMTTFYC', {}), ('MGMTTFYCY', {}), ('GMTTFYCYB', {}), ('MTTFYCYBO', {}), ('TTFYCYBOP', {}), ('TFYCYBOPW', {}), ('FYCYBOPWE', {}), ('YCYBOPWEC', {}), ('CYBOPWECB', {}), ('YBOPWECBI', {}), ('BOPWECBIK', {}), ('OPWECBIKY', {}), ('PWECBIKYU', {}), ('WECBIKYUQ', {}), ('ECBIKYUQZ', {}), ('CBIKYUQZX', {}), ('BIKYUQZXA', {}), ('IKYUQZXAZ', {}), ('KYUQZXAZG', {}), ('YUQZXAZGV', {}), ('UQZXAZGVW', {}), ('QZXAZGVWR', {}), ('ZXAZGVWRX', {}), ('XAZGVWRXW', {}), ('AZGVWRXWJ', {}), ('ZGVWRXWJI', {}), ('GVWRXWJIP', {}), ('VWRXWJIPR', {}), ('WRXWJIPRK', {}), ('RXWJIPRKJ', {}), ('XWJIPRKJE', {}), ('WJIPRKJEY', {}), ('JIPRKJEYW', {}), ('IPRKJEYWL', {}), ('PRKJEYWLR', {}), ('RKJEYWLRP', {}), ('KJEYWLRPG', {}), ('JEYWLRPGK', {}), ('EYWLRPGKZ', {}), ('YWLRPGKZC', {}), ('WLRPGKZCA', {}), ('LRPGKZCAV', {}), ('RPGKZCAVL', {}), ('PGKZCAVLQ', {}), ('GKZCAVLQT', {}), ('KZCAVLQTS', {}), ('ZCAVLQTST', {}), ('CAVLQTSTB', {}), ('AVLQTSTBE', {}), ('VLQTSTBEE', {}), ('LQTSTBEEL', {}), ('QTSTBEELX', {}), ('TSTBEELXZ', {}), ('STBEELXZA', {}), ('TBEELXZAS', {}), ('BEELXZASY', {}), ('EELXZASYW', {}), ('ELXZASYWD', {}), ('LXZASYWDQ', {}), ('XZASYWDQB', {}), ('ZASYWDQBH', {}), ('ASYWDQBHR', {}), ('SYWDQBHRL', {}), ('YWDQBHRLG', {}), ('WDQBHRLGT', {}), ('DQBHRLGTC', {}), ('QBHRLGTCE', {}), ('BHRLGTCEE', {}), ('HRLGTCEEB', {}), ('RLGTCEEBK', {}), ('LGTCEEBKO', {}), ('GTCEEBKOD', {}), ('TCEEBKODO', {}), ('CEEBKODOI', {}), ('EEBKODOIK', {}), ('EBKODOIKI', {}), ('BKODOIKIA', {}), ('KODOIKIAV', {}), ('ODOIKIAVX', {}), ('DOIKIAVXG', {}), ('OIKIAVXGJ', {}), ('IKIAVXGJO', {}), ('KIAVXGJOW', {}), ('IAVXGJOWC', {}), ('AVXGJOWCE', {}), ('VXGJOWCEQ', {}), ('XGJOWCEQV', {}), ('GJOWCEQVX', {}), ('JOWCEQVXG', {}), ('OWCEQVXGE', {}), ('WCEQVXGEO', {}), ('CEQVXGEOB', {}), ('EQVXGEOBQ', {}), ('QVXGEOBQD', {}), ('VXGEOBQDM', {}), ('XGEOBQDMB', {}), ('GEOBQDMBH', {}), ('EOBQDMBHR', {}), ('OBQDMBHRZ', {}), ('BQDMBHRZG', {}), ('QDMBHRZGA', {}), ('DMBHRZGAU', {}), ('MBHRZGAUA', {}), ('BHRZGAUAB', {}), ('HRZGAUABM', {}), ('RZGAUABMK', {}), ('ZGAUABMKC', {}), ('GAUABMKCE', {}), ('AUABMKCEO', {}), ('UABMKCEOS', {}), ('ABMKCEOSJ', {}), ('BMKCEOSJI', {}), ('MKCEOSJIQ', {}), ('KCEOSJIQV', {}), ('CEOSJIQVM', {}), ('EOSJIQVMC', {}), ('OSJIQVMCO', {}), ('SJIQVMCOC', {}), ('JIQVMCOCX', {}), ('IQVMCOCXM', {}), ('QVMCOCXMS', {}), ('VMCOCXMSF', {}), ('MCOCXMSFI', {}), ('COCXMSFIR', {}), ('OCXMSFIRR', {}), ('CXMSFIRRP', {}), ('XMSFIRRPZ', {}), ('MSFIRRPZI', {}), ('SFIRRPZII', {}), ('FIRRPZIIM', {}), ('IRRPZIIMU', {}), ('RRPZIIMUV', {}), ('RPZIIMUVH', {}), ('PZIIMUVHE', {}), ('ZIIMUVHEF', {}), ('IIMUVHEFS', {}), ('IMUVHEFSW', {}), ('MUVHEFSWC', {}), ('UVHEFSWCI', {}), ('VHEFSWCIQ', {}), ('HEFSWCIQZ', {}), ('EFSWCIQZX', {}), ('FSWCIQZXG', {}), ('SWCIQZXGD', {}), ('WCIQZXGDS', {}), ('CIQZXGDSM', {}), ('IQZXGDSMC', {}), ('QZXGDSMCI', {}), ('ZXGDSMCID', {}), ('XGDSMCIDX', {}), ('GDSMCIDXK', {}), ('DSMCIDXKW', {}), ('SMCIDXKWY', {}), ('MCIDXKWYQ', {}), ('CIDXKWYQO', {}), ('IDXKWYQOX', {}), ('DXKWYQOXA', {}), ('XKWYQOXAX', {}), ('KWYQOXAXU', {}), ('WYQOXAXUX', {}), ('YQOXAXUXB', {}), ('QOXAXUXBE', {}), ('OXAXUXBES', {}), ('XAXUXBESV', {}), ('AXUXBESVW', {}), ('XUXBESVWR', {}), ('UXBESVWRC', {}), ('XBESVWRCC', {}), ('BESVWRCCX', {}), ('ESVWRCCXG', {}), ('SVWRCCXGZ', {}), ('VWRCCXGZA', {}), ('WRCCXGZAU', {}), ('RCCXGZAUA', {}), ('CCXGZAUAL', {}), ('CXGZAUALA', {}), ('XGZAUALAY', {}), ('GZAUALAYN', {}), ('ZAUALAYNS', {}), ('AUALAYNSS', {}), ('UALAYNSSO', {}), ('ALAYNSSOI', {}), ('LAYNSSOIM', {}), ('AYNSSOIMM', {}), ('YNSSOIMMA', {}), ('NSSOIMMAA', {}), ('SSOIMMAAW', {}), ('SOIMMAAWW', {}), ('OIMMAAWWL', {}), ('IMMAAWWLO', {}), ('MMAAWWLOJ', {}), ('MAAWWLOJQ', {}), ('AAWWLOJQA', {}), ('AWWLOJQAK', {}), ('WWLOJQAKT', {}), ('WLOJQAKTT', {}), ('LOJQAKTTS', {}), ('OJQAKTTSI', {}), ('JQAKTTSIQ', {}), ('QAKTTSIQK', {}), ('AKTTSIQKT', {}), ('KTTSIQKTE', {}), ('TTSIQKTEZ', {}), ('TSIQKTEZK', {}), ('SIQKTEZKB', {}), ('IQKTEZKBO', {}), ('QKTEZKBOY', {}), ('KTEZKBOYC', {}), ('TEZKBOYCK', {}), ('EZKBOYCKA', {}), ('ZKBOYCKAF', {}), ('KBOYCKAFU', {}), ('BOYCKAFUV', {}), ('OYCKAFUVL', {}), ('YCKAFUVLW', {}), ('CKAFUVLWY', {}), ('KAFUVLWYC', {}), ('AFUVLWYCA', {}), ('FUVLWYCAV', {}), ('UVLWYCAVC', {}), ('VLWYCAVCM', {}), ('LWYCAVCMU', {}), ('WYCAVCMUB', {}), ('YCAVCMUBB', {}), ('CAVCMUBBZ', {}), ('AVCMUBBZM', {}), ('VCMUBBZMZ', {}), ('CMUBBZMZM', {}), ('MUBBZMZMN', {}), ('UBBZMZMNU', {}), ('BBZMZMNUM', {}), ('BZMZMNUMG', {}), ('ZMZMNUMGR', {}), ('MZMNUMGRZ', {}), ('ZMNUMGRZS', {}), ('MNUMGRZST', {}), ('NUMGRZSTK', {}), ('UMGRZSTKU', {}), ('MGRZSTKUQ', {}), ('GRZSTKUQV', {}), ('RZSTKUQVM', {}), ('ZSTKUQVMO', {}), ('STKUQVMOW', {}), ('TKUQVMOWO', {}), ('KUQVMOWOY', {}), ('UQVMOWOYZ', {}), ('QVMOWOYZE', {}), ('VMOWOYZES', {}), ('MOWOYZEST', {}), ('OWOYZESTT', {}), ('WOYZESTTG', {}), ('OYZESTTGO', {}), ('YZESTTGOS', {}), ('ZESTTGOSK', {}), ('ESTTGOSKA', {}), ('STTGOSKAT', {}), ('TTGOSKATQ', {}), ('TGOSKATQR', {}), ('GOSKATQRN', {}), ('OSKATQRNS', {}), ('SKATQRNSR', {}), ('KATQRNSRC', {}), ('ATQRNSRCV', {}), ('TQRNSRCVW', {}), ('QRNSRCVWR', {}), ('RNSRCVWRC', {}), ('NSRCVWRCC', {}), ('SRCVWRCCX', {}), ('RCVWRCCXS', {}), ('CVWRCCXSW', {}), ('VWRCCXSWQ', {}), ('WRCCXSWQN', {}), ('RCCXSWQNQ', {}), ('CCXSWQNQS', {}), ('CXSWQNQSF', {}), ('XSWQNQSFM', {}), ('SWQNQSFMX', {}), ('WQNQSFMXG', {}), ('QNQSFMXGU', {}), ('NQSFMXGUI', {}), ('QSFMXGUIM', {}), ('SFMXGUIMI', {}), ('FMXGUIMIR', {}), ('MXGUIMIRX', {}), ('XGUIMIRXW', {}), ('GUIMIRXWW', {}), ('UIMIRXWWS', {}), ('IMIRXWWSW', {}), ('MIRXWWSWO', {}), ('IRXWWSWOS', {}), ('RXWWSWOSM', {}), ('XWWSWOSMJ', {}), ('WWSWOSMJA', {}), ('WSWOSMJAZ', {}), ('SWOSMJAZF', {}), ('WOSMJAZFO', {}), ('OSMJAZFOY', {}), ('SMJAZFOYS', {}), ('MJAZFOYSX', {}), ('JAZFOYSXI', {}), ('AZFOYSXIQ', {}), ('ZFOYSXIQG', {}), ('FOYSXIQGM', {}), ('OYSXIQGMI', {}), ('YSXIQGMIC', {}), ('SXIQGMICO', {}), ('XIQGMICOO', {}), ('IQGMICOOS', {}), ('QGMICOOSW', {}), ('GMICOOSWS', {}), ('MICOOSWSN', {}), ('ICOOSWSNC', {}), ('COOSWSNCL', {}), ('OOSWSNCLQ', {}), ('OSWSNCLQL', {}), ('SWSNCLQLB', {}), ('WSNCLQLBJ', {}), ('SNCLQLBJW', {}), ('NCLQLBJWL', {}), ('CLQLBJWLX', {}), ('LQLBJWLXM', {}), ('QLBJWLXMZ', {}), ('LBJWLXMZO', {}), ('BJWLXMZOC', {}), ('JWLXMZOCG', {}), ('WLXMZOCGO', {}), ('LXMZOCGOV', {}), ('XMZOCGOVV', {}), ('MZOCGOVVQ', {}), ('ZOCGOVVQZ', {}), ('OCGOVVQZZ', {}), ('CGOVVQZZI', {}), ('GOVVQZZIP', {}), ('OVVQZZIPB', {}), ('VVQZZIPBF', {}), ('VQZZIPBFI', {}), ('QZZIPBFIA', {}), ('ZZIPBFIAX', {}), ('ZIPBFIAXN', {}), ('IPBFIAXNB', {}), ('PBFIAXNBB', {}), ('BFIAXNBBO', {}), ('FIAXNBBOS', {}), ('IAXNBBOSK', {}), ('AXNBBOSKA', {}), ('XNBBOSKAT', {}), ('NBBOSKATQ', {}), ('BBOSKATQO', {}), ('BOSKATQOK', {}), ('OSKATQOKO', {}), ('SKATQOKOY', {}), ('KATQOKOYJ', {}), ('ATQOKOYJO', {}), ('TQOKOYJOI', {}), ('QOKOYJOIJ', {}), ('OKOYJOIJQ', {}), ('KOYJOIJQY', {}), ('OYJOIJQYN', {}), ('YJOIJQYNS', {}), ('JOIJQYNSN', {}), ('OIJQYNSNC', {}), ('IJQYNSNCT', {}), ('JQYNSNCTW', {}), ('QYNSNCTWC', {}), ('YNSNCTWCQ', {}), ('NSNCTWCQU', {}), ('SNCTWCQUH', {}), ('NCTWCQUHG', {}), ('CTWCQUHGN', {}), ('TWCQUHGNC', {}), ('WCQUHGNCS', {}), ('CQUHGNCSW', {}), ('QUHGNCSWV', {}), ('UHGNCSWVU', {}), ('HGNCSWVUL', {}), ('GNCSWVULT', {}), ('NCSWVULTO', {}), ('CSWVULTOD', {}), ('SWVULTODW', {}), ('WVULTODWW', {}), ('VULTODWWC', {}), ('ULTODWWCE', {}), ('LTODWWCEO', {}), ('TODWWCEOW', {}), ('ODWWCEOWG', {}), ('DWWCEOWGQ', {}), ('WWCEOWGQP', {}), ('WCEOWGQPB', {}), ('CEOWGQPBZ', {}), ('EOWGQPBZZ', {}), ('OWGQPBZZA', {}), ('WGQPBZZAF', {}), ('GQPBZZAFM', {}), ('QPBZZAFMV', {}), ('PBZZAFMVO', {}), ('BZZAFMVOO', {}), ('ZZAFMVOOO', {}), ('ZAFMVOOOS', {}), ('AFMVOOOSQ', {}), ('FMVOOOSQN', {}), ('MVOOOSQNG', {}), ('VOOOSQNGB', {}), ('OOOSQNGBH', {}), ('OOSQNGBHQ', {}), ('OSQNGBHQZ', {}), ('SQNGBHQZA', {}), ('QNGBHQZAU', {}), ('NGBHQZAUC', {}), ('GBHQZAUCN', {}), ('BHQZAUCND', {}), ('HQZAUCNDW', {}), ('QZAUCNDWF', {}), ('ZAUCNDWFO', {}), ('AUCNDWFOY', {}), ('UCNDWFOYC', {}), ('CNDWFOYCI', {}), ('NDWFOYCIW', {}), ('DWFOYCIWM', {}), ('WFOYCIWMA', {}), ('FOYCIWMAC', {}), ('OYCIWMACG', {}), ('YCIWMACGV', {}), ('CIWMACGVZ', {}), ('IWMACGVZA', {}), ('WMACGVZAH', {}), ('MACGVZAHZ', {}), ('ACGVZAHZE', {}), ('CGVZAHZEQ', {}), ('GVZAHZEQV', {}), ('VZAHZEQVA', {}), ('ZAHZEQVAO', {}), ('AHZEQVAON', {}), ('HZEQVAONS', {}), ('ZEQVAONSX', {}), ('EQVAONSXT', {}), ('QVAONSXTO', {}), ('VAONSXTOC', {}), ('AONSXTOCC', {}), ('ONSXTOCCX', {}), ('NSXTOCCXS', {}), ('SXTOCCXSD', {}), ('XTOCCXSDH', {}), ('TOCCXSDHG', {}), ('OCCXSDHGN', {}), ('CCXSDHGNR', {}), ('CXSDHGNRQ', {}), ('XSDHGNRQV', {}), ('SDHGNRQVM', {}), ('DHGNRQVMS', {}), ('HGNRQVMSL', {}), ('GNRQVMSLH', {}), ('NRQVMSLHO', {}), ('RQVMSLHOK', {}), ('QVMSLHOKO', {}), ('VMSLHOKOZ', {}), ('MSLHOKOZA', {}), ('SLHOKOZAX', {}), ('LHOKOZAXF', {}), ('HOKOZAXFT', {}), ('OKOZAXFTS', {}), ('KOZAXFTSJ', {}), ('OZAXFTSJI', {}), ('ZAXFTSJID', {}), ('AXFTSJIDB', {}), ('XFTSJIDBZ', {}), ('FTSJIDBZX', {}), ('TSJIDBZXQ', {}), ('SJIDBZXQT', {}), ('JIDBZXQTG', {}), ('IDBZXQTGG', {}), ('DBZXQTGGG', {}), ('BZXQTGGGG', {}), ('ZXQTGGGGQ', {}), ('XQTGGGGQV', {}), ('QTGGGGQVN', {}), ('TGGGGQVNW', {}), ('GGGGQVNWY', {}), ('GGGQVNWYO', {}), ('GGQVNWYOI', {}), ('GQVNWYOIW', {}), ('QVNWYOIWN', {}), ('VNWYOIWNF', {}), ('NWYOIWNFM', {}), ('WYOIWNFMK', {}), ('YOIWNFMKB', {}), ('OIWNFMKBF', {}), ('IWNFMKBFF', {}), ('WNFMKBFFG', {}), ('NFMKBFFGK', {}), ('FMKBFFGKO', {}), ('MKBFFGKOZ', {}), ('KBFFGKOZD', {}), ('BFFGKOZDH', {}), ('FFGKOZDHZ', {}), ('FGKOZDHZF', {}), ('GKOZDHZFB', {}), ('KOZDHZFBZ', {}), ('OZDHZFBZI', {}), ('ZDHZFBZID', {}), ('DHZFBZIDO', {}), ('HZFBZIDOW', {}), ('ZFBZIDOWG', {}), ('FBZIDOWGX', {}), ('BZIDOWGXF', {}), ('ZIDOWGXFG', {}), ('IDOWGXFGZ', {}), ('DOWGXFGZQ', {}), ('OWGXFGZQC', {}), ('WGXFGZQCU', {}), ('GXFGZQCUI', {}), ('XFGZQCUIR', {}), ('FGZQCUIRS', {}), ('GZQCUIRSY', {}), ('ZQCUIRSYZ', {}), ('QCUIRSYZO', {}), ('CUIRSYZOJ', {}), ('UIRSYZOJE', {}), ('IRSYZOJED', {}), ('RSYZOJEDI', {}), ('SYZOJEDIK', {}), ('YZOJEDIKH', {}), ('ZOJEDIKHP', {}), ('OJEDIKHPR', {}), ('JEDIKHPRK', {}), ('EDIKHPRKB', {}), ('DIKHPRKBO', {}), ('IKHPRKBOP', {}), ('KHPRKBOPI', {}), ('HPRKBOPIL', {}), ('PRKBOPILZ', {}), ('RKBOPILZL', {}), ('KBOPILZLG', {}), ('BOPILZLGJ', {}), ('OPILZLGJM', {}), ('PILZLGJMM', {}), ('ILZLGJMMM', {}), ('LZLGJMMMA', {}), ('ZLGJMMMAW', {}), ('LGJMMMAWW', {}), ('GJMMMAWWD', {}), ('JMMMAWWDH', {}), ('MMMAWWDHX', {}), ('MMAWWDHXI', {}), ('MAWWDHXIC', {}), ('AWWDHXICO', {}), ('WWDHXICOQ', {}), ('WDHXICOQH', {}), ('DHXICOQHB', {}), ('HXICOQHBP', {}), ('XICOQHBPM', {}), ('ICOQHBPMY', {}), ('COQHBPMYQ', {}), ('OQHBPMYQH', {}), ('QHBPMYQHM', {}), ('HBPMYQHMK', {}), ('BPMYQHMKX', {}), ('PMYQHMKXG', {}), ('MYQHMKXGE', {}), ('YQHMKXGEC', {}), ('QHMKXGECJ', {}), ('HMKXGECJW', {}), ('MKXGECJWC', {}), ('KXGECJWCA', {}), ('XGECJWCAU', {}), ('GECJWCAUH', {}), ('ECJWCAUHG', {}), ('CJWCAUHGT', {}), ('JWCAUHGTT', {}), ('WCAUHGTTA', {}), ('CAUHGTTAM', {}), ('AUHGTTAMR', {}), ('UHGTTAMRM', {}), ('HGTTAMRMT', {}), ('GTTAMRMTH', {}), ('TTAMRMTHI', {}), ('TAMRMTHIW', {}), ('AMRMTHIWH', {}), ('MRMTHIWHO', {}), ('RMTHIWHOU', {}), ('MTHIWHOUO', {}), ('THIWHOUOC', {}), ('HIWHOUOCC', {}), ('IWHOUOCCX', {}), ('WHOUOCCXV', {}), ('HOUOCCXVL', {}), ('OUOCCXVLF', {}), ('UOCCXVLFO', {}), ('OCCXVLFOI', {}), ('CCXVLFOIS', {}), ('CXVLFOISQ', {}), ('XVLFOISQV', {}), ('VLFOISQVM', {}), ('LFOISQVMI', {}), ('FOISQVMIG', {}), ('OISQVMIGW', {}), ('ISQVMIGWJ', {}), ('SQVMIGWJI', {}), ('QVMIGWJIY', {}), ('VMIGWJIYP', {}), ('MIGWJIYPM', {}), ('IGWJIYPMC', {}), ('GWJIYPMCO', {}), ('WJIYPMCOD', {}), ('JIYPMCODR', {}), ('IYPMCODRK', {}), ('YPMCODRKK', {}), ('PMCODRKKA', {}), ('MCODRKKAY', {}), ('CODRKKAYQ', {}), ('ODRKKAYQG', {}), ('DRKKAYQGO', {}), ('RKKAYQGOC', {}), ('KKAYQGOCG', {}), ('KAYQGOCGO', {}), ('AYQGOCGOV', {}), ('YQGOCGOVR', {}), ('QGOCGOVRG', {}), ('GOCGOVRGU', {}), ('OCGOVRGUU', {}), ('CGOVRGUUC', {}), ('GOVRGUUCO', {}), ('OVRGUUCOS', {}), ('VRGUUCOSP', {}), ('RGUUCOSPI', {}), ('GUUCOSPIS', {}), ('UUCOSPISP', {}), ('UCOSPISPM', {}), ('COSPISPMW', {}), ('OSPISPMWS', {}), ('SPISPMWSU', {}), ('PISPMWSUO', {}), ('ISPMWSUOX', {}), ('SPMWSUOXY', {}), ('PMWSUOXYU', {}), ('MWSUOXYUQ', {}), ('WSUOXYUQB', {}), ('SUOXYUQBN', {}), ('UOXYUQBNG', {}), ('OXYUQBNGP', {}), ('XYUQBNGPA', {}), ('YUQBNGPAU', {}), ('UQBNGPAUK', {}), ('QBNGPAUKI', {}), ('BNGPAUKIA', {}), ('NGPAUKIAV', {}), ('GPAUKIAVX', {}), ('PAUKIAVXG', {}), ('AUKIAVXGL', {}), ('UKIAVXGLB', {}), ('KIAVXGLBA', {}), ('IAVXGLBAT', {}), ('AVXGLBATE', {}), ('VXGLBATEZ', {}), ('XGLBATEZT', {}), ('GLBATEZTH', {}), ('LBATEZTHE', {}), ('BATEZTHEF', {}), ('ATEZTHEFS', {}), ('TEZTHEFSZ', {}), ('EZTHEFSZM', {}), ('ZTHEFSZMD', {}), ('THEFSZMDU', {}), ('HEFSZMDUK', {}), ('EFSZMDUKX', {}), ('FSZMDUKXH', {}), ('SZMDUKXHF', {}), ('ZMDUKXHFA', {}), ('MDUKXHFAK', {}), ('DUKXHFAKV', {}), ('UKXHFAKVT', {}), ('KXHFAKVTQ', {}), ('XHFAKVTQL', {}), ('HFAKVTQLX', {}), ('FAKVTQLXX', {}), ('AKVTQLXXL', {}), ('KVTQLXXLG', {}), ('VTQLXXLGJ', {}), ('TQLXXLGJM', {}), ('QLXXLGJMS', {}), ('LXXLGJMSQ', {}), ('XXLGJMSQZ', {}), ('XLGJMSQZA', {}), ('LGJMSQZAW', {}), ('GJMSQZAWA', {}), ('JMSQZAWAC', {}), ('MSQZAWACI', {}), ('SQZAWACIZ', {}), ('QZAWACIZI', {}), ('ZAWACIZIF', {}), ('AWACIZIFI', {}), ('WACIZIFIX', {}), ('ACIZIFIXU', {}), ('CIZIFIXUZ', {}), ('IZIFIXUZQ', {}), ('ZIFIXUZQK', {}), ('IFIXUZQKV', {}), ('FIXUZQKVT', {}), ('IXUZQKVTD', {}), ('XUZQKVTDQ', {}), ('UZQKVTDQV', {}), ('ZQKVTDQVC', {}), ('QKVTDQVCP', {}), ('KVTDQVCPW', {}), ('VTDQVCPWX', {}), ('TDQVCPWXZ', {}), ('DQVCPWXZI', {}), ('QVCPWXZIF', {}), ('VCPWXZIFI', {}), ('CPWXZIFIU', {}), ('PWXZIFIUZ', {}), ('WXZIFIUZP', {}), ('XZIFIUZP', {}), ('ZIFIUZP', {}), ('IFIUZP', {}), ('FIUZP', {}), ('IUZP', {}), ('UZP', {})] \n",
            " <class 'list'>\n"
          ]
        }
      ]
    },
    {
      "cell_type": "code",
      "source": [
        "from collections import Counter\n",
        "\n",
        "def buscar_patrones(diccionario, porcentaje_minimo, num_factores):\n",
        "    factor_counter = Counter()\n",
        "    total_distancias = 0\n",
        "\n",
        "    for _, distancias in diccionario.items(): # distancias es un diccionario\n",
        "        total_distancias += len(distancias) # incrementa el contador de la cantidad total de distancias en el diccionario con la cantidad de distancias del diccionario actual.\n",
        "        for _, factores in distancias.items():\n",
        "            # Contar los factores en las factorizaciones de cada distancia\n",
        "            factor_counter.update(set(factores)) # set, nos aseguramos de que cada factor se cuente una sola vez,\n",
        "\n",
        "            # Contar los patrones en las factorizaciones de cada distancia\n",
        "            for i in range(len(factores)-num_factores+1): # recorre cada posición de la lista de factores hasta una cantidad num_factores de elementos antes del final\n",
        "                patron = tuple(factores[i:i+num_factores])\n",
        "                factor_counter[patron] += 1\n",
        "\n",
        "    # Calcular el porcentaje de veces que cada factor o patrón aparece\n",
        "    porcentajes = {k: v/total_distancias*100 for k, v in factor_counter.items()}\n",
        "\n",
        "    # Filtrar por porcentaje mínimo\n",
        "    patrones = {k: v for k, v in porcentajes.items() if v >= porcentaje_minimo}\n",
        "\n",
        "    return patrones\n",
        "\n",
        "buscar_patrones(ola,90,2)"
      ],
      "metadata": {
        "colab": {
          "base_uri": "https://localhost:8080/"
        },
        "id": "S6uhaNmAjrTG",
        "outputId": "ef72e531-48d9-431a-84c8-64b9ea1b01aa"
      },
      "execution_count": null,
      "outputs": [
        {
          "output_type": "execute_result",
          "data": {
            "text/plain": [
              "{3: 100.0, (3, 3): 107.6923076923077}"
            ]
          },
          "metadata": {},
          "execution_count": 7
        }
      ]
    },
    {
      "cell_type": "markdown",
      "source": [
        "Podemos observar que el patrón que más se repite es: 3,3 por lo tanto podemos sugerir que la clave tiene longitud 9!"
      ],
      "metadata": {
        "id": "Ul2XENYqse1j"
      }
    },
    {
      "cell_type": "code",
      "source": [],
      "metadata": {
        "id": "0eU8KlELoy1N"
      },
      "execution_count": null,
      "outputs": []
    },
    {
      "cell_type": "code",
      "source": [
        "def separar_texto_grupos(texto_cifrado, longitud_clave, grupos_por_linea=6):\n",
        "    grupos = [texto_cifrado[i:i+longitud_clave] for i in range(0, len(texto_cifrado), longitud_clave)]\n",
        "    grupos_con_nl = []\n",
        "    for i in range(0, len(grupos), grupos_por_linea):\n",
        "        grupos_con_nl.append(' '.join(grupos[i:i+grupos_por_linea]))\n",
        "    return '\\n'.join(grupos_con_nl)\n",
        "\n",
        "text_in_groups =  separar_texto_grupos(clean_input, 9,10)\n",
        "print(f\"Separadas en bloques de a cuerdo a la longitud de {key}={len(key)}\\n\")\n",
        "print(text_in_groups)"
      ],
      "metadata": {
        "colab": {
          "base_uri": "https://localhost:8080/"
        },
        "id": "KVlYmlEOfMSQ",
        "outputId": "2d745f56-a1c8-41fc-d4e7-1d52896b5f46"
      },
      "execution_count": null,
      "outputs": [
        {
          "output_type": "stream",
          "name": "stdout",
          "text": [
            "Separadas en bloques de a cuerdo a la longitud de mitologia=9\n",
            "\n",
            "ESIMPOSIB LETENERTO DOBAJOCON TROLTENEM OSQUEDARN OSCUENTAQ UEPENSARD EMASIADOE NELFUTURO PUEDELLEV\n",
            "ARAIMAGIN ARNOSSITU ACIONESYP ROBLEMASQ UEPUEDENN OEXISTIRT ODOESTOCO NDUCEALAA NSIEDADEL QUESUFREA\n",
            "NTESDEQUE SEANECESA RIOSUFREM ASDELONEC ESARIOPER OSIQUIERE SREALIZAR ALGONOHAY MASQUECON FIARENTUV\n",
            "ERSIONDET IQUEDALOM EJORDESIP ARAOBTENE RESOQUEQU IRESTUSME TASYTUSSU ENOSPEROT AMBIENESI MPORTARTE\n",
            "PERDONART EENESTAVI DAVIENESA CAGARLAEN ELENELMOM ENTOQUEVI ENESACAGA RLAYTEPER DONASTODO FLUYETANF\n",
            "ACILMIRAT EALESPEJO YDITEQUEE STASGUAPO SINOTELOD ICESTUNAD IETELAVAA CREERRECU ERDAQUELA CONFIANZA\n",
            "NOESMAGIC ANOESINNA TAYNOESIN ALCANZABL EESUNAHAB ILIDADLOQ UESIGNIFI CAQUESEPU EDEAPREND ERSINEMBA\n",
            "RGOLACONF IANZAESUN AHABILIDA DDENTRODE LASHABILI DADESPORL OQUELACON FIANZAVIE NECUANDOA PRENDESAC\n",
            "ONFIARENT IMISMOCRE CECUANDOA PRENDESAG ESTIONART USEMOCION ESCUANDOT ECONVIERT ESENUNMEJ ORCOMUNIC\n",
            "ADORCUAND ODESARROL LASUNAMEN TALIDADIM PLACABLEY PARAELLOD EBEMOSAPR ENDERAMAN EJARTUSEM OCIONESPO\n",
            "RQUESINOL OHACESSIE MPRESERAS VICTIMADE LASCIRCUN STANCIASD ELAVIDALA SBOLASCUR VASDESAGR ADABLESQU\n",
            "ETEENVIAN ATIYALAGE NTEQUETER ODEATAMBI ENAPRENDE ACOMUNICA RTEASIESC OMOCONSIG UESQUELAG ENTECONFI\n",
            "EENTIYSED EJEINFLUI RPORTIYBU SCAUNAMEN TALIDADIM PLACABLES ETRATADEC ONFIARENQ UETIENESL ACAPACIDA\n",
            "DDEVERLAS COSASATRA VESDEYAQU ENOSETRAT ADENEGOCI ARCONTIGO YJUSTIFIC ARTODASLA SCOSASQUE HACESMALP\n",
            "ORQUESOMO SMAQUINIT ASDENARRA TIVASPARA CUALQUIER COSANOSCR EAMOSUNAH ISTORIAQU EJUSTIFIQ UELOQUEHA\n",
            "CEMOSPERO REALMENTE NOHACEMOS LOQUEQUER EMOSHACER YAQUESOMO SPRODUCTO SDELCONTE XTOYESTEE STETRICOA\n",
            "SIQUEMEJO RENESTAVI DABUSCATU PROPOSITO YRECUERDA QUEESTENO ESTAENLAS REDESSOCI ALESNIENA LGUNAHERR\n",
            "AMIENTADE LSISTEMAQ UETEBRIND ESATISFAC CIONINSTA NTANTANEA CUIDADELO STUYOSYTO MAELCONTR OLDETUVID\n",
            "AHERRAMIE NTASMUYBE NEFICIOSA SENELAHOR AESESMEDI TARYDORMI RBIENYAQU EESLOQUED EBEMOSHAC ERSEGUNLA\n",
            "NATURALEZ AESTAQUIE REQUEDURM AMOSOCHOH ORASAUNQU EVIVAMOSE NUNMUNDOQ UEBUSCALA PRIVACION DELSUENOY\n",
            "RECUERDAQ UELOMASIM PORTANTEE SHACERYTR ABAJARCON TODATUENE RGIAENFOC ADAYNOSOL OPENSARPO RQUENOVIV\n",
            "IMOSENUNM UNDOIDEAL ISTANOPER MITASQUEE LFUEGODET UALMASEAP AGUEYCONO CEELVALOR DETUSERPA RAQUETEDE\n",
            "SELRESPET OQUETEMER ECESYNOPR ETENDASQU ELASCOSAS CAMBIENAC TUANDOSIE MPREIGUAL YAQUETUDE FINICIOND\n",
            "EEXITOSOL OSEALCANZ ATRABAJAN DOENTILOD EMASVIENE TUDEBESES TARENELPE DESTALDET UVIDAYCOM ONADIEVAA\n",
            "VENIRAREG ALARNOSTO DOLOQUEQU EREMOSPOR LOQUEDEBE MOSDESERC ONSCIENTE SDELPESOD ETODASNUE STRASACCI\n",
            "ONESYAQUE ENESTAVID ATODOSUMA PEROTAMBI ENTODORES TAYDELCAM INOQUEQUI ERESSEGUI RPRINCIPA LMENTEPOR\n",
            "QUESOMOSL OQUEHACEM OSDIAADIA YLAEXCELE NCIANOESF INSINOUNC AMINOYTEN IENDOENCU ENTALASRE GLASDEEST\n",
            "EJUEGOPOR QUEELCHIS TEESJUGAR LODELAMEJ ORMANERAQ UEPODAMOS BUSCANDOL LEGARSINV ERGUENZAA LFINDEEST\n",
            "EGRANVIAJ EQUECONOC EMOSCOMOV IDAASIQUE CONCENTRA TECADAMIN UTOCOMOUN ROMANOCOM OUNHOMBRE ENHACERLO\n",
            "QUEESTAFR ENTEATICO NSERIEDAD PRECISAYG ENUINACON TERNURACO NVOLUNTAD CONJUSTIC IAYENLIBE RARTEDETO\n",
            "DASLASDEM ASDISTRAC CIONEYSIH ACESTODOC OMOSIFUER ALOULTIMO QUEHARIAS ENTUVIDAY DEJASDECA MINARSINR\n",
            "UMBODEJAS DEDEJARQU ETUSEMOCI ONESANULE NLOQUETED ICETUMENT EDEJASDES ERHIPOCRI TAEGOCENT RICOEIRRI\n",
            "TABLE\n"
          ]
        }
      ]
    },
    {
      "cell_type": "code",
      "source": [
        "text_in_groups =  separar_texto_grupos(texto_cifrado_vigenere, len(key),10)\n",
        "print(f\"Separadas en bloques de a cuerdo a la longitud de {key}={len(key)}\\n\")\n",
        "print(text_in_groups)"
      ],
      "metadata": {
        "colab": {
          "base_uri": "https://localhost:8080/"
        },
        "id": "AjtFbZEgvZzO",
        "outputId": "fd467ac9-5bb0-4c14-8d07-038a48347c27"
      },
      "execution_count": null,
      "outputs": [
        {
          "output_type": "stream",
          "name": "stdout",
          "text": [
            "Separadas en bloques de a cuerdo a la longitud de mitologia=9\n",
            "\n",
            "QABAACYQB XMMSYSXBO PWUOUCIWN FZHZESTMM AAJIPRGZN AAVIPBZIQ GMISYGGZD QUTGTOJWE ZMETFHAZO BCXRPZRMV\n",
            "MZTWXOMQN MZGCDGOBU MKBCYSYGP DWUZPAGAQ GMIIPRKVN AMQWDHOZT ALHSDHUKO ZLNQPORIA ZABSOOJML CCXGFTXMA\n",
            "ZBXGOSWCE EMTBPQKAA DQHGFTXMM MAWSWCTMC QATFTCVMR AABEFWKZE EZXOWWFIR MTZCYCNIY YILEFSIWN RQTFPBZCV\n",
            "QZLWZBJMT UYNSOORWM QRHFOSYQP MZTCMHKVE DMLCBIKYU UZXGEIYUE FILMEIYAU QVHGASXWT MUUWPBKAI YXHFEOXBE\n",
            "BMKRZBGZT QMGSDHGDI PIOWPBKAA OIZOCZGMN QTXBPZSWM QVMCBIKDI QVXGLQGOA DTTMESVMR PWGODHULO RTNMPHGVF\n",
            "MKBZXWXIT QIESDDKRO KLBHPEAME EBTGRIGXO EQGCESRWD UKXGEITID UMMSWOBIA OZXSCFKKU QZWOBIKTA OWGTTOTHA\n",
            "ZWXGXOMQC MVHSDWTVA FIRBZSYQN MTVOYNGJL QMLIYONIB UTBRLRRWQ GMLWRBONI OIJIPGKXU QLXOAFKVD QZLWYSSJA\n",
            "DOHZLQUVF UIGNLSYCN MPTPTZOLA PLXBEFULE XILVLPOTI PIWSDDUZL AYNSWOIWN RQTBKOBQE ZMVILBJWA BZXBOSYIC\n",
            "AVYWLFKVT UUBGXCIZE OMVILBJWA BZXBOSYIG QAMWZBGZT GAXAZQOWN QAVILBJWT QKHBGWKZT QAXBFBSMJ AZVCXITQC\n",
            "MLHFNIGVD ALXGLFXWL XILIYOSMN FIEWOOJQM BTTQLPRMY BIKOPZRWD QJXAZGGXR QVWSCOSIN QRTFEIYMM AKBCYSYXO\n",
            "DYNSDWTWL APTQPGYQE YXKSDSXIS HQVHTAGLE XILQTFICN EBTBNWGAD QTTJTRGTA EJHZLGICR HILRPGGOR MLTPWSYYU\n",
            "QBXSYJOIN MBBMLZGOE ZBXEFSZMR ALXOEOSJI QVTDCSTLE MKHAFBOKA DBXODWKAC AUHQZBYQG GMLEFSRIG QVMSNCTNI\n",
            "QMGHTMYMD QRXWYTRCI DXHFEWEJU EKTIYOSMN FIEWOOJQM BTTQLPRMS QBKOEOJMC AVYWLFKVQ GMMWPBKAL MKTDLQOLA\n",
            "PLXJPFRIS OWLODOZZA HMLRPMGYU QVHGPHXIT MLXBPUUKI MZVCYHOOO KRNGEWLQC MZMCOOYTA EKHGLGWCE TIVSDAGTP\n",
            "AZJIPGUUO EUTEFWTQT MAWSYOXZA FQOODDGZA OCTZBIOMR OWLOYCYKR QIFCDITIH UAMCCWGYU QRNGEWLQQ GMECBIKPA\n",
            "OMFCDDKZO DMTZXSTBE ZWAONSSWS XWJIPEAMR QUHGSOIMR KIJIPGUUO EXKCOIIBO ELXZNCTBE JBHMPGZME EBXHCWIWA\n",
            "EQJIPAKRO DMGSDHGDI PIUIDQGBU BZHDZGOBO KZXQFSXLA CCXSDHKVO QAMOPBRIS DMWSDGUKI MTXGYWKVA XONBLVKZR\n",
            "MUBSYHGLE XABGESSIQ GMMSMFOVD QATHTGLIC OQHBTBYBA ZBTBEOTMA OCBRLRKTO EBNMZGEBO YIXZNCTBR ATWSEIBQD\n",
            "MPXFCOSQE ZBTGXIEJE ZMYWNWUAA EMGSWONWR MMLSDAKLI FIKMOCXUI DJBSYMGYU QMLZZEAMD QJXAZGNIC QZLSRITTA\n",
            "ZIMICORMZ MMLHLEAQE DMJIPRAZM MUHGZQNWH AZTGLITYU QDBJLAUAE ZCGAFBJWQ GMUIDQGTA BZBJLQOWN PMEGFSTWY\n",
            "DMVIPFJIQ GMECXOYQM BWKHLBZME EPTQPFEBR MJTXLFIWN FWWOEIKVE DOBOPBLWC MLTMYCYWL AXXBDOXXO DYNSYCBQV\n",
            "UUHGPBAVM GVWCTRKIL UAMOYCVMR YQMODEAME XNNSRCJMT GIEALGKIP MONSJQUVO OMXZGORWR PMMIDSXXA DIJIPHKLE\n",
            "EMEFPGVMT AYNSESSMR QKXGJBUXR QBXBOOYYU QTTGNCYIS OIFPTSTIC FCTBOCYQE YXKSTUAIL KIJIPHALE RQGWNWUVD\n",
            "QMQWECYWL AAXOWQGVZ MBKOMOPIN PWXBEWRWD QUTGGWKVE FCWSMSYMS FIKSYSRXE PMLHLZJMT GDBRLMIWM AVTRTSBIA\n",
            "HMGWCOXMG MTTFYCYBO PWECBIKYU QZXAZGVWR XWJIPRKJE YWLRPGKZC AVLQTSTBE ELXZASYWD QBHRLGTCE EBKODOIKI\n",
            "AVXGJOWCE QVXGEOBQD MBHRZGAUA BMKCEOSJI QVMCOCXMS FIRRPZIIM UVHEFSWCI QZXGDSMCI DXKWYQOXA XUXBESVWR\n",
            "CCXGZAUAL AYNSSOIMM AAWWLOJQA KTTSIQKTE ZKBOYCKAF UVLWYCAVC MUBBZMZMN UMGRZSTKU QVMOWOYZE STTGOSKAT\n",
            "QRNSRCVWR CCXSWQNQS FMXGUIMIR XWWSWOSMJ AZFOYSXIQ GMICOOSWS NCLQLBJWL XMZOCGOVV QZZIPBFIA XNBBOSKAT\n",
            "QOKOYJOIJ QYNSNCTWC QUHGNCSWV ULTODWWCE OWGQPBZZA FMVOOOSQN GBHQZAUCN DWFOYCIWM ACGVZAHZE QVAONSXTO\n",
            "CCXSDHGNR QVMSLHOKO ZAXFTSJID BZXQTGGGG QVNWYOIWN FMKBFFGKO ZDHZFBZID OWGXFGZQC UIRSYZOJE DIKHPRKBO\n",
            "PILZLGJMM MAWWDHXIC OQHBPMYQH MKXGECJWC AUHGTTAMR MTHIWHOUO CCXVLFOIS QVMIGWJIY PMCODRKKA YQGOCGOVR\n",
            "GUUCOSPIS PMWSUOXYU QBNGPAUKI AVXGLBATE ZTHEFSZMD UKXHFAKVT QLXXLGJMS QZAWACIZI FIXUZQKVT DQVCPWXZI\n",
            "FIUZP\n"
          ]
        }
      ]
    },
    {
      "cell_type": "markdown",
      "source": [
        "Nuestra hipótesis es que cada columna esta cifrada monoalfabéticamente."
      ],
      "metadata": {
        "id": "FQnmghM2wbnM"
      }
    },
    {
      "cell_type": "code",
      "source": [
        "texto = \"QABAACYQB XMMSYSXBO PWUOUCIWN FZHZESTMM AAJIPRGZN\"\n",
        "x = 9\n",
        "columnas = [[] for i in range(x)]\n",
        "\n",
        "for i, letra in enumerate(texto_cifrado_vigenere):\n",
        "    columna = i % x\n",
        "    columnas[columna].append(letra)\n",
        "\n",
        "for i, columna in enumerate(columnas):\n",
        "    print(f\"Columna {i+1}: {''.join(columna)}\")\n"
      ],
      "metadata": {
        "colab": {
          "base_uri": "https://localhost:8080/"
        },
        "id": "68pDOS7C16Z7",
        "outputId": "25aedfc7-874d-4c21-cf78-9d0e874beeee"
      },
      "execution_count": null,
      "outputs": [
        {
          "output_type": "stream",
          "name": "stdout",
          "text": [
            "Columna 1: QXPFAAGQZBMMMDGAAZZCZEDMQAEMYRQUQMDUFQMYBQPOQQQDPRMQKEEUUOQOZMFMQUGOQQDUMPXPARZBAUOBQGQQQAMAXFBBQQQADAYHXEQEHMQMZAQMDAGQQQDEFBQAGMPOHQMMKMETAEMFOOQUQGODZXQKEEJEEDPBKCQDMXMXGQOZOEYAMZZEMFDQQQZMDMAQZGBPDGBEMFDMADUGUYXGMOPDEAQQQOFYKRQAMPQFFPGAHMPQXYAEQEAQMBQFUQDXCAAKZUMUQSQCFXAGNXQXQQQUOFGDAQCQZBQFZOUDPMOMAMCQPYGPQAZUQQFDF\n",
            "Columna 2: AMWZAAMUMCZZKWMMLLACBMQAAAZTIQZYRZMZIVUXMMIITVVTWTKILBQKMZZWWVITMTMILZOIPLIIYQMZVUMZAAAKAZLLIITIJVRKYPXQIBTJILBBBLVKBUMVMRXKITBVMKLWMVLZRZKIZUAQCWIARMMMWWUIXLBBQMIZZCAMTOUAMAQBCBITPBMMMIJMJZIMMUZDCMZMMMWPJWOLXYUVAQNIOMMIMYKBTICXIQMABWUCIMDVMTWZWWVLBBVVBMVIVZXUCYATKVUMVTRCMWZMCMZNOYULWMBWCVCVAZVMDWIIIAQKUTCVMQUMBVTKLZIQI\n",
            "Columna 3: BMUHJVITEXTGBUIQHNBXXTHWTBXZLTLNHTLXLHUHKGOZXMXTGNBEBTGXMXWGXHRVLBLJXLHGTXLWNTVXYBVXMXVHXVHXLETKXWTBNTKVLTTHLTXBXXTHXHLMGXHTETKYMTXLLHXVNMHVJTWOTLFMNEFTAJHJKXHXJGUHXXMWXNBBMTHTBNXWXTYGLKBLXLMLJHTBGUBEVEKTTWBTXNHWMMNENXMJENXXTFTKJGQXKXTWKLBTGTEXJLLXHKXXHKMRHXKXXNWTBLBGMTNXXWFILZZBKNHTGVHFGAXMXXNKHGRKLWHXHHXMCGUWNXHXXAXVU\n",
            "Columna 4: ASOZIISGTRWCCZIWSQSGGBGSFEOCEFWSFCCGMGWFRSWOBCGMOMZSHGCGSSOTGSBOIRWIOWZNPBVSSBIBWGIBWAIBBCFGIWQOASFCSQSHQBJZRPSMEODAOQESHWFIWQOWWDJORGBCGCGSIESOZOCCGCCZOIGICZMHISIDQSOSGBSGSHBBRMZSFGWSSMSZASIHIGGJAIJGICHQXOOMBSGCOOSASZIIFSGBGPBSIWWOOBGSSHRRWFCAIRQZROGGRCCREGWBGSWSOWBROGSSGSOCQOIBOSGOQOQOVOSSFQWBZXSHZWBGGIVIOOCSGGEHXWUCZ\n",
            "Columna 5: AYUEPPYTFPXDYPPDDPOFOPFWTFWYFPZOOMBEEAPEZDPCPBLEDPXDPREEWCBTXDZYYLRPAYLLTELDWKLOLXLOZZLGFXNLYOLPZCEYDPDTTNTLPWYLFECFDZFNTYEYOLELPLPDPPPYEOLDPFYDBYDCEBDXNPSPONPCPDDZFDPDYLYEMTTELZNECXNWDOYZZRCLPZLLFDLFPXLPLEPYDYPTYDRLJGDPPEJONTOTPNEWMEGMYLLTCYBZPPTALDJEZEOPFDYEZSLIYYZZWORWUWYOLCPOYNNDPOZYZNDLTTYFFFYPLDPETWLGDCOUPLFFLAZPP\n",
            "Columna 6: CSCSRBGOHZOGSARHHOOTSQTCCWWCSBBOSHIIISBOBHBZZIQSHHWDEISIOFIOOWSNORBGFSQSZFPDOOBSFCBSBQBWBIIFOOPZGOISWGSAFWRGGSJZSOSBWBSCMTWOOPOFBQFOMHUHWOGAGWODICIWWIDSSEOGICGWAHQGSHBGWVHSFGBORGCIOIWOACMEGIOERQIABQQSFOBFFIBCOCBRCECGQOSHGSBOCSCUHWCQOWWSSZMSOCIGRGSSGOOOGOCZSSQSAOOQCCMSOSCQIOSOBGBSJCCWBOACASHHSGOFBGZRGHMCTHFWRGSOABSAGCQW\n",
            "Columna 7: YXITGZGJARMOYGKOURJXWKXTVKFNIZJRYKKYYXKXGGKGSKGVUGXKAGRTBKKTMTYGNROKKSUYOUOUIBJYKIJYGOJKSTGXSJRRGSYYTYXGIGGIGYOGZSTOKYRTYRESJRJKKORZGXUOLYWGUTXGOYTGLKKTSAIUITZIKGGOXKRUKKGSOLYTKETBSEUNKXGANTRAANTUJGOTJYZEIKLYXBAKVAJKURXKVSUYYTYAAUYGPRKYRJIBXYKVKKTYTIWBASXIWMOVUIJKKAZTYKVNMSXSJOFKOTSWZSUIHXGOJGIGZZOKJXYJAOOJKOPXUAZKJIKX\n",
            "Columna 8: QBWMZIZWZMQBGAVZKIMMCAMMMZIIWCMWQVYUAWABZDAMWDOMLVIRMXWIIKTHQVQJIWNXVJVCLLTZWQWIVZWIZWWZMQVWMQMWXIMXWQILCATCOYIOMJLKAQINMCJMQMMVALIZYIKOQTCTUQZZMKIYQPZBWMMUBBMWRDBBLVIKVZLIVIBMTBBQQJAWLUYMITMQZWYAWTWWIQMBWVWWXQVIMMMIVWXLMMXYIIQILVWVIWVMXMWIMBYWJZBWCKCQUJMICCXWAMQTAVMKZAWQIMIWWVIAIWWCZQCWZTNKIGWKIQJBMIQWMUIIKVIYKTMVMZVZ\n",
            "Columna 9: BONMNQDEOVNUPQNTOALAEAMCRERYNVTMPEUEUTIETIANMIAROFTOEODDAUAACANLBQIUDAFNAEILNEACTEAGTNTTJCDLNMYDRNMOLESENDARRUNERIEACGGIDIUNMSCQLASAUTIOCAEPOTAARRHUQAOESRROOEEAOIUOAOSIAREQDCAAOORDEEARIIUDCAZEMHUEQANYQMERNECLOVMLRETPORAETRRUSCELEDLZNDESETMAGOURECEDEIEDAISMIIARLMAEFCNUETRSRJQSLVATJCVEANNMEORODGNODCEOMCHCROSYARSUIEDTSITI\n"
          ]
        }
      ]
    },
    {
      "cell_type": "code",
      "source": [
        "type(columnas)"
      ],
      "metadata": {
        "colab": {
          "base_uri": "https://localhost:8080/"
        },
        "id": "DOUID3Zn2lpI",
        "outputId": "2aac63a5-3434-4206-8d43-7020c468e520"
      },
      "execution_count": null,
      "outputs": [
        {
          "output_type": "execute_result",
          "data": {
            "text/plain": [
              "list"
            ]
          },
          "metadata": {},
          "execution_count": 11
        }
      ]
    },
    {
      "cell_type": "code",
      "source": [
        "import string\n",
        "\n",
        "def freq_dist(lista):\n",
        "    freq = {}\n",
        "    length = len(lista)\n",
        "    for letter in string.ascii_uppercase:\n",
        "        if letter != 'Ñ':\n",
        "            freq[letter] = lista.count(letter)\n",
        "    freq_sorted = {k: v for k, v in sorted(freq.items(), key=lambda item: item[1], reverse=True)}\n",
        "    for key, value in freq_sorted.items():\n",
        "        freq_sorted[key] = [value, round(value/length*100, 2)]\n",
        "    return freq_sorted\n",
        "\n",
        "lista_de_listas = columnas\n",
        "\n",
        "for i, lista in enumerate(lista_de_listas):\n",
        "    freq = freq_dist(lista)\n",
        "    print(\"|      COLUMNA\",i+1,'      |\\n|----------------------|\\n| Letra | Frec |   %   |')\n",
        "    print(\"|----------------------|\")\n",
        "    for letter, info in freq.items():\n",
        "        #print(f\"Lista {i+1}, {letter}, {info[0]}, {info[1]}%\")\n",
        "        print(f\"|   {letter}   | {info[0]}   | {info[1]}%|\")\n",
        "    print(\"|----------------------|\")"
      ],
      "metadata": {
        "colab": {
          "base_uri": "https://localhost:8080/"
        },
        "id": "pQRmL9zEzsDB",
        "outputId": "d4a166c2-aa43-485c-d8a6-e1fc5fa211dd"
      },
      "execution_count": null,
      "outputs": [
        {
          "output_type": "stream",
          "name": "stdout",
          "text": [
            "|      COLUMNA 1       |\n",
            "|----------------------|\n",
            "| Letra | Frec |   %   |\n",
            "|----------------------|\n",
            "|   Q   | 62   | 19.31%|\n",
            "|   M   | 36   | 11.21%|\n",
            "|   A   | 29   | 9.03%|\n",
            "|   D   | 21   | 6.54%|\n",
            "|   E   | 19   | 5.92%|\n",
            "|   F   | 17   | 5.3%|\n",
            "|   Z   | 17   | 5.3%|\n",
            "|   G   | 16   | 4.98%|\n",
            "|   O   | 16   | 4.98%|\n",
            "|   U   | 16   | 4.98%|\n",
            "|   P   | 15   | 4.67%|\n",
            "|   X   | 13   | 4.05%|\n",
            "|   B   | 12   | 3.74%|\n",
            "|   Y   | 8   | 2.49%|\n",
            "|   C   | 6   | 1.87%|\n",
            "|   K   | 6   | 1.87%|\n",
            "|   H   | 4   | 1.25%|\n",
            "|   R   | 4   | 1.25%|\n",
            "|   J   | 1   | 0.31%|\n",
            "|   N   | 1   | 0.31%|\n",
            "|   S   | 1   | 0.31%|\n",
            "|   T   | 1   | 0.31%|\n",
            "|   I   | 0   | 0.0%|\n",
            "|   L   | 0   | 0.0%|\n",
            "|   V   | 0   | 0.0%|\n",
            "|   W   | 0   | 0.0%|\n",
            "|----------------------|\n",
            "|      COLUMNA 2       |\n",
            "|----------------------|\n",
            "| Letra | Frec |   %   |\n",
            "|----------------------|\n",
            "|   M   | 49   | 15.26%|\n",
            "|   I   | 34   | 10.59%|\n",
            "|   Z   | 27   | 8.41%|\n",
            "|   V   | 24   | 7.48%|\n",
            "|   A   | 21   | 6.54%|\n",
            "|   B   | 20   | 6.23%|\n",
            "|   W   | 19   | 5.92%|\n",
            "|   T   | 17   | 5.3%|\n",
            "|   L   | 16   | 4.98%|\n",
            "|   U   | 15   | 4.67%|\n",
            "|   C   | 14   | 4.36%|\n",
            "|   K   | 13   | 4.05%|\n",
            "|   Q   | 13   | 4.05%|\n",
            "|   X   | 7   | 2.18%|\n",
            "|   Y   | 7   | 2.18%|\n",
            "|   R   | 6   | 1.87%|\n",
            "|   J   | 5   | 1.56%|\n",
            "|   O   | 5   | 1.56%|\n",
            "|   P   | 4   | 1.25%|\n",
            "|   D   | 3   | 0.93%|\n",
            "|   N   | 2   | 0.62%|\n",
            "|   E   | 0   | 0.0%|\n",
            "|   F   | 0   | 0.0%|\n",
            "|   G   | 0   | 0.0%|\n",
            "|   H   | 0   | 0.0%|\n",
            "|   S   | 0   | 0.0%|\n",
            "|----------------------|\n",
            "|      COLUMNA 3       |\n",
            "|----------------------|\n",
            "| Letra | Frec |   %   |\n",
            "|----------------------|\n",
            "|   X   | 57   | 17.76%|\n",
            "|   T   | 38   | 11.84%|\n",
            "|   H   | 32   | 9.97%|\n",
            "|   L   | 25   | 7.79%|\n",
            "|   B   | 21   | 6.54%|\n",
            "|   M   | 18   | 5.61%|\n",
            "|   N   | 18   | 5.61%|\n",
            "|   G   | 17   | 5.3%|\n",
            "|   K   | 16   | 4.98%|\n",
            "|   W   | 14   | 4.36%|\n",
            "|   V   | 12   | 3.74%|\n",
            "|   E   | 10   | 3.12%|\n",
            "|   J   | 10   | 3.12%|\n",
            "|   U   | 7   | 2.18%|\n",
            "|   F   | 5   | 1.56%|\n",
            "|   Z   | 4   | 1.25%|\n",
            "|   A   | 3   | 0.93%|\n",
            "|   I   | 3   | 0.93%|\n",
            "|   R   | 3   | 0.93%|\n",
            "|   Y   | 3   | 0.93%|\n",
            "|   O   | 2   | 0.62%|\n",
            "|   Q   | 2   | 0.62%|\n",
            "|   C   | 1   | 0.31%|\n",
            "|   D   | 0   | 0.0%|\n",
            "|   P   | 0   | 0.0%|\n",
            "|   S   | 0   | 0.0%|\n",
            "|----------------------|\n",
            "|      COLUMNA 4       |\n",
            "|----------------------|\n",
            "| Letra | Frec |   %   |\n",
            "|----------------------|\n",
            "|   S   | 47   | 14.64%|\n",
            "|   G   | 38   | 11.84%|\n",
            "|   O   | 34   | 10.59%|\n",
            "|   I   | 26   | 8.1%|\n",
            "|   C   | 24   | 7.48%|\n",
            "|   W   | 24   | 7.48%|\n",
            "|   B   | 23   | 7.17%|\n",
            "|   Z   | 15   | 4.67%|\n",
            "|   Q   | 13   | 4.05%|\n",
            "|   R   | 13   | 4.05%|\n",
            "|   F   | 11   | 3.43%|\n",
            "|   H   | 10   | 3.12%|\n",
            "|   A   | 8   | 2.49%|\n",
            "|   M   | 8   | 2.49%|\n",
            "|   E   | 7   | 2.18%|\n",
            "|   J   | 4   | 1.25%|\n",
            "|   D   | 3   | 0.93%|\n",
            "|   P   | 3   | 0.93%|\n",
            "|   V   | 3   | 0.93%|\n",
            "|   X   | 3   | 0.93%|\n",
            "|   T   | 2   | 0.62%|\n",
            "|   N   | 1   | 0.31%|\n",
            "|   U   | 1   | 0.31%|\n",
            "|   K   | 0   | 0.0%|\n",
            "|   L   | 0   | 0.0%|\n",
            "|   Y   | 0   | 0.0%|\n",
            "|----------------------|\n",
            "|      COLUMNA 5       |\n",
            "|----------------------|\n",
            "| Letra | Frec |   %   |\n",
            "|----------------------|\n",
            "|   P   | 46   | 14.33%|\n",
            "|   L   | 36   | 11.21%|\n",
            "|   D   | 31   | 9.66%|\n",
            "|   Y   | 31   | 9.66%|\n",
            "|   E   | 25   | 7.79%|\n",
            "|   Z   | 20   | 6.23%|\n",
            "|   F   | 19   | 5.92%|\n",
            "|   O   | 19   | 5.92%|\n",
            "|   T   | 18   | 5.61%|\n",
            "|   N   | 12   | 3.74%|\n",
            "|   C   | 11   | 3.43%|\n",
            "|   W   | 11   | 3.43%|\n",
            "|   X   | 8   | 2.49%|\n",
            "|   B   | 6   | 1.87%|\n",
            "|   A   | 5   | 1.56%|\n",
            "|   R   | 5   | 1.56%|\n",
            "|   G   | 4   | 1.25%|\n",
            "|   M   | 4   | 1.25%|\n",
            "|   J   | 3   | 0.93%|\n",
            "|   U   | 3   | 0.93%|\n",
            "|   S   | 2   | 0.62%|\n",
            "|   I   | 1   | 0.31%|\n",
            "|   K   | 1   | 0.31%|\n",
            "|   H   | 0   | 0.0%|\n",
            "|   Q   | 0   | 0.0%|\n",
            "|   V   | 0   | 0.0%|\n",
            "|----------------------|\n",
            "|      COLUMNA 6       |\n",
            "|----------------------|\n",
            "| Letra | Frec |   %   |\n",
            "|----------------------|\n",
            "|   O   | 45   | 14.06%|\n",
            "|   S   | 44   | 13.75%|\n",
            "|   C   | 28   | 8.75%|\n",
            "|   G   | 28   | 8.75%|\n",
            "|   B   | 27   | 8.44%|\n",
            "|   W   | 22   | 6.88%|\n",
            "|   I   | 21   | 6.56%|\n",
            "|   H   | 18   | 5.62%|\n",
            "|   Q   | 15   | 4.69%|\n",
            "|   F   | 14   | 4.38%|\n",
            "|   A   | 11   | 3.44%|\n",
            "|   R   | 10   | 3.12%|\n",
            "|   Z   | 9   | 2.81%|\n",
            "|   M   | 6   | 1.88%|\n",
            "|   E   | 5   | 1.56%|\n",
            "|   D   | 4   | 1.25%|\n",
            "|   T   | 4   | 1.25%|\n",
            "|   P   | 3   | 0.94%|\n",
            "|   J   | 2   | 0.62%|\n",
            "|   U   | 2   | 0.62%|\n",
            "|   N   | 1   | 0.31%|\n",
            "|   V   | 1   | 0.31%|\n",
            "|   K   | 0   | 0.0%|\n",
            "|   L   | 0   | 0.0%|\n",
            "|   X   | 0   | 0.0%|\n",
            "|   Y   | 0   | 0.0%|\n",
            "|----------------------|\n",
            "|      COLUMNA 7       |\n",
            "|----------------------|\n",
            "| Letra | Frec |   %   |\n",
            "|----------------------|\n",
            "|   K   | 42   | 13.12%|\n",
            "|   G   | 31   | 9.69%|\n",
            "|   Y   | 29   | 9.06%|\n",
            "|   T   | 23   | 7.19%|\n",
            "|   O   | 22   | 6.88%|\n",
            "|   X   | 21   | 6.56%|\n",
            "|   J   | 20   | 6.25%|\n",
            "|   I   | 17   | 5.31%|\n",
            "|   U   | 17   | 5.31%|\n",
            "|   R   | 16   | 5.0%|\n",
            "|   S   | 16   | 5.0%|\n",
            "|   A   | 14   | 4.38%|\n",
            "|   Z   | 11   | 3.44%|\n",
            "|   V   | 7   | 2.19%|\n",
            "|   B   | 6   | 1.88%|\n",
            "|   N   | 6   | 1.88%|\n",
            "|   W   | 5   | 1.56%|\n",
            "|   E   | 4   | 1.25%|\n",
            "|   L   | 4   | 1.25%|\n",
            "|   M   | 4   | 1.25%|\n",
            "|   F   | 2   | 0.62%|\n",
            "|   P   | 2   | 0.62%|\n",
            "|   H   | 1   | 0.31%|\n",
            "|   C   | 0   | 0.0%|\n",
            "|   D   | 0   | 0.0%|\n",
            "|   Q   | 0   | 0.0%|\n",
            "|----------------------|\n",
            "|      COLUMNA 8       |\n",
            "|----------------------|\n",
            "| Letra | Frec |   %   |\n",
            "|----------------------|\n",
            "|   M   | 44   | 13.75%|\n",
            "|   W   | 41   | 12.81%|\n",
            "|   I   | 40   | 12.5%|\n",
            "|   Q   | 26   | 8.12%|\n",
            "|   V   | 23   | 7.19%|\n",
            "|   Z   | 22   | 6.88%|\n",
            "|   B   | 15   | 4.69%|\n",
            "|   A   | 14   | 4.38%|\n",
            "|   C   | 13   | 4.06%|\n",
            "|   K   | 12   | 3.75%|\n",
            "|   L   | 11   | 3.44%|\n",
            "|   T   | 11   | 3.44%|\n",
            "|   X   | 9   | 2.81%|\n",
            "|   Y   | 9   | 2.81%|\n",
            "|   J   | 8   | 2.5%|\n",
            "|   U   | 6   | 1.88%|\n",
            "|   O   | 4   | 1.25%|\n",
            "|   D   | 3   | 0.94%|\n",
            "|   N   | 3   | 0.94%|\n",
            "|   G   | 2   | 0.62%|\n",
            "|   R   | 2   | 0.62%|\n",
            "|   H   | 1   | 0.31%|\n",
            "|   P   | 1   | 0.31%|\n",
            "|   E   | 0   | 0.0%|\n",
            "|   F   | 0   | 0.0%|\n",
            "|   S   | 0   | 0.0%|\n",
            "|----------------------|\n",
            "|      COLUMNA 9       |\n",
            "|----------------------|\n",
            "| Letra | Frec |   %   |\n",
            "|----------------------|\n",
            "|   E   | 41   | 12.81%|\n",
            "|   A   | 37   | 11.56%|\n",
            "|   R   | 26   | 8.12%|\n",
            "|   O   | 25   | 7.81%|\n",
            "|   N   | 22   | 6.88%|\n",
            "|   I   | 20   | 6.25%|\n",
            "|   D   | 18   | 5.62%|\n",
            "|   T   | 18   | 5.62%|\n",
            "|   C   | 17   | 5.31%|\n",
            "|   U   | 16   | 5.0%|\n",
            "|   M   | 15   | 4.69%|\n",
            "|   S   | 13   | 4.06%|\n",
            "|   L   | 12   | 3.75%|\n",
            "|   Q   | 9   | 2.81%|\n",
            "|   G   | 5   | 1.56%|\n",
            "|   V   | 5   | 1.56%|\n",
            "|   P   | 4   | 1.25%|\n",
            "|   Y   | 4   | 1.25%|\n",
            "|   F   | 3   | 0.94%|\n",
            "|   H   | 3   | 0.94%|\n",
            "|   J   | 3   | 0.94%|\n",
            "|   B   | 2   | 0.62%|\n",
            "|   Z   | 2   | 0.62%|\n",
            "|   K   | 0   | 0.0%|\n",
            "|   W   | 0   | 0.0%|\n",
            "|   X   | 0   | 0.0%|\n",
            "|----------------------|\n"
          ]
        }
      ]
    },
    {
      "cell_type": "code",
      "source": [],
      "metadata": {
        "id": "yP488pfaq8Gf"
      },
      "execution_count": null,
      "outputs": []
    },
    {
      "cell_type": "markdown",
      "source": [
        "#PRUEBA DE FRIEDMAN"
      ],
      "metadata": {
        "id": "fBqXIg3Dt7tj"
      }
    },
    {
      "cell_type": "markdown",
      "source": [
        "* Sabemos que el índice de coincidencias de un texto $\\textbf{T}$ esta dado por: $I_C = \\sum_{i=1}^{a} \\frac{n_i(n_i-1)}{N(N-1)}=\\sum_{i=1}^{26} \\frac{n_i(n_i-1)}{N(N-1)}$ Donde:\n",
        "  - $I_C$: es el índice de coincidencia.\n",
        "  - $n_i$: Frecuencia absoluta del i-ésimo carácter del alfabeto.\n",
        "  - $n$: Número total de caracteres en el texto.\n",
        "  - $N$: Letras del texto\n",
        "  - $a$ Tamaño del alfabeto (en este caso, 26).\n",
        "\n",
        "**El índice de coincidencias del criptograma nos proporciona información acerca del número de alfabetos usados para cifrarlo**\n",
        "\n",
        "La prueba del índice de coincidencia consiste en extraer una letra de n en el mensaje y medir el índice de coincidencia. Cuanto mayor es, mayor es la probabilidad de que n sea la longitud de la clave.\n",
        "\n",
        "De hecho, tomar una letra en n cuando n es la longitud de la clave equivale a tomar una serie de letras cifradas siempre cifradas con el mismo desplazamiento, por lo tanto, el índice de coincidencia es igual al del texto sin formato.\n",
        "\n",
        "##### Pruebas de Friedman: Para obtener el número de alfabetos diferentes usados para cifrar el texto, debemos obtener alfabetos=7.\n",
        "\n",
        "Separando nuestro texto en bloques de 9 letras, nuestra hipótesis es que cada columna esta cifrada monoalfabéticamente. Y como es un cifrado de Vigenere, estamos suponiendo que cada columna es obtenida mediante un cifrado de César.\n"
      ],
      "metadata": {
        "id": "8q-oCR8fuwu_"
      }
    },
    {
      "cell_type": "code",
      "source": [
        "def frecuencia_letras(texto):\n",
        "    # texto no debe tener espacios y caracteres que no sean letras\n",
        "    frecuencias = {}\n",
        "    for letra in texto:\n",
        "        if letra.isalpha():\n",
        "          if letra in frecuencias:\n",
        "              frecuencias[letra] += 1\n",
        "          else:\n",
        "              frecuencias[letra] = 1\n",
        "    return frecuencias\n",
        "\n",
        "def indice_coincidencia(texto):\n",
        "    n = len(texto)\n",
        "    frecuencias = frecuencia_letras(texto)\n",
        "    suma = 0\n",
        "    for letra in frecuencias:\n",
        "        suma += frecuencias[letra] * (frecuencias[letra] - 1)\n",
        "    return suma / (n * (n - 1))\n",
        "\n",
        "indice = indice_coincidencia(clean_input)\n",
        "\n",
        "#indice = indice_coincidencia(clean_input)\n",
        "indice = indice_coincidencia(clean_input)\n",
        "print(\"El índice de coincidencia antes de cifrar es:\", indice,\"\\nY las frecuencias son:\")\n",
        "print(frecuencia_letras(clean_input))\n",
        "\n",
        "indice_cifrado = indice_coincidencia(texto_cifrado_vigenere)\n",
        "print(\"El índice de coincidencia despues de cifrar es:\", indice_cifrado,\"\\nY las frecuencias son:\")\n",
        "print(frecuencia_letras(texto_cifrado_vigenere))"
      ],
      "metadata": {
        "colab": {
          "base_uri": "https://localhost:8080/"
        },
        "id": "kfRtbUHRyd3Q",
        "outputId": "176538e5-17cb-4b93-fad3-69e5c1d50724"
      },
      "execution_count": null,
      "outputs": [
        {
          "output_type": "stream",
          "name": "stdout",
          "text": [
            "El índice de coincidencia antes de cifrar es: 0.07422965888413213 \n",
            "Y las frecuencias son:\n",
            "{'E': 432, 'S': 218, 'I': 182, 'M': 92, 'P': 54, 'O': 235, 'B': 34, 'L': 114, 'T': 152, 'N': 207, 'R': 169, 'D': 136, 'A': 331, 'J': 20, 'C': 127, 'Q': 64, 'U': 157, 'F': 25, 'V': 33, 'G': 31, 'Y': 36, 'X': 4, 'Z': 8, 'H': 24}\n",
            "El índice de coincidencia despues de cifrar es: 0.04176391830141557 \n",
            "Y las frecuencias son:\n",
            "{'Q': 140, 'A': 142, 'B': 132, 'C': 114, 'Y': 91, 'X': 118, 'M': 184, 'S': 123, 'O': 172, 'P': 78, 'W': 136, 'U': 83, 'I': 162, 'N': 66, 'F': 71, 'Z': 127, 'H': 69, 'E': 111, 'T': 132, 'J': 56, 'R': 85, 'G': 141, 'V': 75, 'D': 83, 'K': 90, 'L': 104}\n"
          ]
        }
      ]
    },
    {
      "cell_type": "markdown",
      "source": [
        "Tenemos que el indice de coincidencias es: $0.0417 \\cong  0.04176391830141557 \\cong 0.0418 \\cong 0.042 \\cong 0.0423$ y por las notas de Galaviz, Apendice A, page 315 sabemos que el IC para textos cifrados polialfabéticamente en español con x alfabetos:\n",
        "\n",
        "|Alfabetos| IC |\n",
        "|-|-|\n",
        "|6 | 0.0449 |\n",
        "|7 | 0.0423 |\n",
        "|8 | 0.0419 |\n",
        "|9 | 0.0415 |\n",
        "\n",
        "Sabiendo esto podemos suponer que para cifrar este texto se ocuparon 7 u 8 alfabetos"
      ],
      "metadata": {
        "id": "lIUH7QJswy_n"
      }
    },
    {
      "cell_type": "code",
      "source": [
        "def frecuencia_letras(texto):\n",
        "    # texto no debe tener espacios y caracteres que no sean letras\n",
        "    frecuencias = {}\n",
        "    for letra in texto:\n",
        "        if letra.isalpha():\n",
        "          if letra in frecuencias:\n",
        "              frecuencias[letra] += 1\n",
        "          else:\n",
        "              frecuencias[letra] = 1\n",
        "    return frecuencias\n",
        "\n",
        "def indice_coincidencia(texto):\n",
        "    n = len(texto)\n",
        "    frecuencias = frecuencia_letras(texto)\n",
        "    suma = 0\n",
        "    for letra in frecuencias:\n",
        "        suma += frecuencias[letra] * (frecuencias[letra] - 1)\n",
        "    return suma / (n * (n - 1))\n",
        "\n",
        "#indice_cifrado = indice_coincidencia(texto_cifrado_vigenere)\n",
        "\n",
        "def friedman_test(texto_cifrado_vigenere):\n",
        "  indice_cifrado = indice_coincidencia(texto_cifrado_vigenere)\n",
        "  N = len(texto_cifrado_vigenere)\n",
        "  return (0.036*N / ((indice_cifrado*(N-1)) - 0.038*N + 0.0744))\n",
        "\n",
        "friedman_test(texto_cifrado_vigenere)"
      ],
      "metadata": {
        "colab": {
          "base_uri": "https://localhost:8080/"
        },
        "id": "u0XuXI90zwLs",
        "outputId": "0634df4a-f402-4c0d-c8d2-0159861b1d62"
      },
      "execution_count": null,
      "outputs": [
        {
          "output_type": "execute_result",
          "data": {
            "text/plain": [
              "9.535841245971687"
            ]
          },
          "metadata": {},
          "execution_count": 34
        }
      ]
    },
    {
      "cell_type": "code",
      "source": [
        "from collections import Counter\n",
        "\n",
        "def friedman_test(ciphertext, key_length):\n",
        "    # Divide el texto cifrado en grupos de longitud key_length\n",
        "    groups = [ciphertext[i:i+key_length] for i in range(0, len(ciphertext), key_length)]\n",
        "\n",
        "    # Calcula el índice de coincidencia para cada grupo\n",
        "    IC_values = []\n",
        "    for group in groups:\n",
        "        freqs = Counter(group)\n",
        "        n = len(group)\n",
        "        IC = sum([f*(f-1) for f in freqs.values()]) / (n*(n-1))\n",
        "        IC_values.append(IC)\n",
        "\n",
        "    # Calcula el índice de coincidencia promedio\n",
        "    IC_avg = sum(IC_values) / len(IC_values)\n",
        "\n",
        "    # Calcula el número de alfabetos usando la fórmula de Friedman\n",
        "    num_alphabets = 0.036 * len(ciphertext) / (IC_avg * (len(ciphertext)-1) + 0.0744 - 0.038 * len(ciphertext))\n",
        "\n",
        "    return num_alphabets\n",
        "\n",
        "friedman_test(texto_cifrado_vigenere,9)"
      ],
      "metadata": {
        "colab": {
          "base_uri": "https://localhost:8080/"
        },
        "id": "w-5w9MrgzeOt",
        "outputId": "65bfe026-422b-4939-fc4b-8c22d8660a24"
      },
      "execution_count": null,
      "outputs": [
        {
          "output_type": "execute_result",
          "data": {
            "text/plain": [
              "25.98102657925422"
            ]
          },
          "metadata": {},
          "execution_count": 41
        }
      ]
    },
    {
      "cell_type": "code",
      "source": [],
      "metadata": {
        "id": "fRbbNmhWzlPk"
      },
      "execution_count": null,
      "outputs": []
    },
    {
      "cell_type": "code",
      "source": [
        "letras['B']"
      ],
      "metadata": {
        "colab": {
          "base_uri": "https://localhost:8080/"
        },
        "id": "ddjN-hy0LYPA",
        "outputId": "ad0100a7-1cb6-45a2-b06b-9ee8ed9a6da6"
      },
      "execution_count": null,
      "outputs": [
        {
          "output_type": "execute_result",
          "data": {
            "text/plain": [
              "2"
            ]
          },
          "metadata": {},
          "execution_count": 17
        }
      ]
    },
    {
      "cell_type": "code",
      "source": [
        "key2 = \"mmiittoolloggiiaa\"\n",
        "text = \"ES IMPOSIBLE TENER TODO BAJO CONTROL, TENEMOS QUE DARNOS CUENTA QUE PENSAR DEMASIADO EN EL FUTURO PUEDE LLEVAR A IMAGINARNOS SITUACIONES Y PROBLEMAS QUE PUEDEN NO EXISTIR, TODO ESTO CONDUCE A LA ANSIEDAD, EL QUE SUFRE ANTES DE QUE SEA NECESARIO, SUFRE MÁS DE LO NECESARIO. PERO SI QUIERES REALIZAR ALGO NO HAY MÁS QUE CONFÍAR EN TU VERSIÓN DE TI QUE DA LO MEJOR DE SÍ PARA OBTENER ESO QUE QUIRES, TUS METAS Y TUS SUEÑOS, PERO TAMBIEN ES IMPORTARTE PERDONARTE, EN ESTA VIDA VIENES A CAGARLA, en el en el momento que vienes a cagarla y te perdonas todo fluye tan facil, mirate al espejo y dite que estas guapo, si no te lo dices tu, nadie te la va a creer, recuerda que la confianza no es mágica, no es innata y no es inalcanzable, es una habilidad, lo que significa que se puede aprender sin embargo, la confianza es una habilidad dentro de las habilidades por lo que la confianza viene cuando aprendes a confiar en ti mismo, crece cuando aprendes a gestionar tus emociones, cuando te conviertes en un mejor comunicador, cuando desarrollas una mentalidad implacable y para ello debemos aprender a manejar tus emociones, porque si no lo haces siempre serás víctima de las circunstancias de la vida, las bolas curvas desagradables que te envían a ti y a la gente que te rodea. También aprende a comunicarte. Así es como consigues que la gente confíe en ti y se deje influir por ti. Y busca una mentalidad implacable, se trata de confiar en que tienes la capacidad de ver las cosas a través de, ya que no se trata de negociar contigo y justificar todas las cosas que haces mal, porque somos maquinitas de narrativas, para cualquier cosa, nos creamos una historia que justifique lo que hacemos, pero, realmente no hacemos lo que queremos hacer ya que somos productos del contexto y este es tetrico, así que mejor en esta vida busca tu proposito y recuerda que este no esta en las redes sociales, ni en alguna herramienta del sistema que te brinde satisfacción instantantanea, cuida de los tuyos y toma el control de tu vida, herramientas muy beneficiosas en el ahora es es meditar y dormir bien ya que es lo que debemos hacer segun la naturaleza, esta quiere que durmamos ocho horas aunque vivamos en un mundo que busca la privación del sueño y recuerda que lo mas importante es hacer y trabajar con toda tu energía enfocada y no solo pensar porque no vivimos en un mundo idealista, no permitas que el fuego de tu alma se apagué y conoce el valor de tu ser para que te des el respeto que te mereces y no pretendas que las cosas cambien actuando siempre igual ya que tu definición de éxito solo se alcanza trabajando en tí, lo demás viene, tu debes estar en el pedestal de tu vida y como nadie va a venir a regalarnos todo lo que queremos por lo que debemos de ser conscientes del peso de todas nuestras acciones ya que en esta vida todo suma pero también todo resta y del camino que quieres seguir principalmente porque somos lo que hacemos día a día y la excelencia no es fin, sino un camino y teniendo en cuenta las reglas de este juego porque el chiste es jugarlo de la mejor manera que podamos, buscando llegar sin verguenza al fin de este gran viaje que conocemos como vida. Así que concéntrate cada minuto como un romano, como un hombre, en hacer lo que está frente a ti con seriedad precisa y genuina, con ternura, con voluntad, con justicia y en liberarte de todas las demás distracciones, y si haces todo como si fuera lo último que harías en tu vida y dejas de caminar sin rumbo, dejas de dejar que tus emociones anulen lo que te dice tu mente, dejas de ser hipócrita, egocéntrico e irritable\"\n",
        "cipher_text2 = vigenere_encrypt(text, key2)\n",
        "print(cipher_text2)\n",
        "text_in_groups =  separar_texto_cifrado(cipher_text2, len(key2))\n",
        "print(text_in_groups)"
      ],
      "metadata": {
        "colab": {
          "base_uri": "https://localhost:8080/",
          "height": 258
        },
        "id": "vq9ZO_oYfNxj",
        "outputId": "02bc0301-4102-4e73-f83d-3473f37db16a"
      },
      "execution_count": null,
      "outputs": [
        {
          "output_type": "stream",
          "name": "stdout",
          "text": [
            "QEQUIHGWMWSZKVMRTAPWJTCCQZYHXUTBENQYWAJNSRLCBUYKCENFMYCXISBDLFJKUISIMPWMGXZTFEIXUXCEDQXTMOTFOTXOMOVIRNAEAQMNOQTZBKYGXRONXMUTLEIPAIKJMVNOQJQAMBFHZOCKYBWCOZPCKXTZOLYGOKLIDEXCCMLNTFPLBZKALEQGQAMTGSQPDOXOWAUFDQUILWSZZYSIKAIRIABMZHLWEFTSXKAZEAXUHIKTZUZYCNGGUASCGMKHGTWLCSTZCDEREUWVWXHWBFSJGTWMEVAZLXLWDLCOUHBMNEDQAWJNSEFTFKYBCSMQFIARMIGDFSTUAXERAFIUUBSBPDWSVWZTADFMXXKRCYLFZKMVESFMDQWTJWPYSYGKIGADXIMGXZSYPZSUUMNTACCMOBSBPDOIGOIRLMKBMIXFRZYOYZWLOFXGGMMTBTLNWRSQZATQMTMLISXZJROZMYUEQEBILZIOAZGOTWBELAPQKXLHIYLROKBMLAHMIKKXSFCPQAKZLAQGQTIVHBTTLBFGVWESYMOQVTBCPDWTTIBAYZAMABGOZNLBFGJTEEEGVIATPWWTRGJTWQUQEQOGBTWNLEAKAMPUQPMIIKSBOPFYOVMMBMDOWETQCYQWGTHIESGZIPTUWZTOOJJMVTRAPMTTLVOMTZOJILESBAZTHJISWLQUTNQANLMDQXGSQFLBJUIXREZPMATVCBQTOXKVBIMUEUWVKSQPNIGTLWAPDQVLXLOUPDHOUVIRTGEMUHVWCYPGIAIVDOFQKWGOWSCESYKVCNMQVWZVHAIYTQGJWZCUMZLWWXGOCCCRRIAUNMYMVMTZWOLROSXTACMNTMRIOFLPZRULMBEYAAIIKSBOPFGSIVEJMDBCLXACNTCTKAXORCGMABGCZZSOIKAAIEYBZMLXFODGWIZQUADQXIAVBFQFYGZGVKIAEPMTTOWRLWOYHWTASOGZDTLRSDLUXGLIBLQEYCXMSSYGWGTIBIYMXIOXGHSBFSZKZWDEMFIUUBSBLAFKTLMACAYCVBVOFEPOYOMACOYAKWGLWUFPGWAMTAGQZBMVHBTTPSTZQGSEPQRMBGTZFTFVUZBIYNGAKTNBOXPBZGTQDAPUUXETQOMWSYKBZATMPMKHGTWLCSTWCMTIQZMAETQOALQOJILDEHQZTTLQCDLGGZZIVEEPMGTJISYZGKZZITAPQVMZHQWLCQUTBQGOKVCAMBTWNLFZULISLMEKWLTGEFPVGIMAMAXBWZJNSGZXCYSIYUIZUBILWSBLCFGZQDASBMZIVNOZBFWKXKWSAZAAKKXOAZDITGPQSTADQIJNSXFDHOLQYUEXAYCXAOQPXCYVMZORQMTUXGHSYZVGIMUOSXAYCXJISCPAUYPICEDKIYNXGCXZGVXWLUCFAALXEQCYESDZWGESFQMAMXHFTNCGYQYUEYQRWKXBSDEOBOLIBUEOIBNIFCAZGOZWGREOGMZWTEIPPGZKVWESFMMVETGFPOSYYWKIAXQAVBXBOWRITGPMRRMYQMGMORPWGOYBMMACGMBXUFWYOSYGBQSFMOKQHGWBDEOTZIVTAZQIKNBROOPZUYBCYOEKBWFTSZNZBZXWTDEFGDQWTVSCCOSOMVTAEYCGUXBSQTQOUAISEZQTIAHFOPDSYSMLITMDGLHKAWCMWKTGIQUQQATHJISOPPKSWAHAOQZAXZIBWLBGZCZALQLIMLMOEFTSXKYCEDGDUIFHGCNSCNUZISAGZYCXOWJLXCYKVCNMGZLWJNSPFDQGRIXRIHMKQHGRSWDIKTWGREOGMZWTEIPWCSGAQMPADBIGMSSDSOIKZGTRMNIRTKQCYECJGBCENQDOQTXBTZNOJGGVOSAXWXXGGOCACXWCMNOHUDQFHGSYFBSAVLOIPQITBLHOYZDKXUQTAECCMXETIPRCJKBCALYMAMTIOUFPMIUVWCEQXDIEHFRPEIYKZXARMCCMMXRSDPZXKAXETACCMMXASCPQKYGVOPDQBMGWOGBFSRGAKOSMEKIFUWSYLQZAIVDOEUMUIKSWRFOREIYUEFGLMYBBWNTCTJMMXIFAAWEHGSLWQGTHITRMNIRTGRCPYHORWLEMMEDQXGSHFOSHKAMSTMDMVXEDSOPGZGTLETGHQLTRQCXZBGJQMVAMHMVBKOFPRORGZVOSFALWEHEIPBIKXMUOSBAZTHJISOPPKSWADEEQZKHGGQTPBZKALELBQAWWXHCOLGTAMATRMEIKVBCBPDMGWCMENQEBIOBROEZRUYCUAPQDWBTFPWPYHUJWZESFMGLXEQOXTBUWCMQUUQZMLLSUFTFVXQVCIBMTUXGHSAZFWAMAOMAETWJNSVLNSSUALIAMPQIREOSINSRKVKIAZAMAYBBGTYCATKIMIZAGBXGWSYOCKTKCENFMTILKSUWLGJKMATEVGMOHICFBFSKRKPISFQMACNUOCWCJKTIMEVAZUTGSFLBIKVWLAMAEJCLVOBOZZRKOIRSUZDMKZISYKOGRNQNDQQABXZFOYGWGPMYUEOAVWVXACDNCSUDQDAMEQYNXQCYNSTZZITEOMLIFBBIEZQUSWCNRAYIVHVCAZFBNUUJREQZPIVXFZZBIKKABAFDQVBXTHWNZBYKZQEDMPXZXVWGLJUKTCQNAOAVBXKBICLQUTDWLUZFILVHBXFDHOIQIYEZXQJXKOFEPRKZWLASXMALXFOGOTGZXIKCIAZMARLWVLNSYZWLOCAYWABYISCLZUATBIMACCMATFWLDSTZCDIDMKLMCTGRPNOSOVIRSUZZCFUCRPUOYJMLEJMDYCXMIGPXCIOWVESMZCTXGZCBFSZKLQCEFGUMGMSRPUOYJMAERTUXWVKWHLPUUIMVTRUOWMBKFWELPRK\n"
          ]
        },
        {
          "output_type": "error",
          "ename": "NameError",
          "evalue": "ignored",
          "traceback": [
            "\u001b[0;31m---------------------------------------------------------------------------\u001b[0m",
            "\u001b[0;31mNameError\u001b[0m                                 Traceback (most recent call last)",
            "\u001b[0;32m<ipython-input-18-310dc8a05989>\u001b[0m in \u001b[0;36m<cell line: 5>\u001b[0;34m()\u001b[0m\n\u001b[1;32m      3\u001b[0m \u001b[0mcipher_text2\u001b[0m \u001b[0;34m=\u001b[0m \u001b[0mvigenere_encrypt\u001b[0m\u001b[0;34m(\u001b[0m\u001b[0mtext\u001b[0m\u001b[0;34m,\u001b[0m \u001b[0mkey2\u001b[0m\u001b[0;34m)\u001b[0m\u001b[0;34m\u001b[0m\u001b[0;34m\u001b[0m\u001b[0m\n\u001b[1;32m      4\u001b[0m \u001b[0mprint\u001b[0m\u001b[0;34m(\u001b[0m\u001b[0mcipher_text2\u001b[0m\u001b[0;34m)\u001b[0m\u001b[0;34m\u001b[0m\u001b[0;34m\u001b[0m\u001b[0m\n\u001b[0;32m----> 5\u001b[0;31m \u001b[0mtext_in_groups\u001b[0m \u001b[0;34m=\u001b[0m  \u001b[0mseparar_texto_cifrado\u001b[0m\u001b[0;34m(\u001b[0m\u001b[0mcipher_text2\u001b[0m\u001b[0;34m,\u001b[0m \u001b[0mlen\u001b[0m\u001b[0;34m(\u001b[0m\u001b[0mkey2\u001b[0m\u001b[0;34m)\u001b[0m\u001b[0;34m)\u001b[0m\u001b[0;34m\u001b[0m\u001b[0;34m\u001b[0m\u001b[0m\n\u001b[0m\u001b[1;32m      6\u001b[0m \u001b[0mprint\u001b[0m\u001b[0;34m(\u001b[0m\u001b[0mtext_in_groups\u001b[0m\u001b[0;34m)\u001b[0m\u001b[0;34m\u001b[0m\u001b[0;34m\u001b[0m\u001b[0m\n",
            "\u001b[0;31mNameError\u001b[0m: name 'separar_texto_cifrado' is not defined"
          ]
        }
      ]
    },
    {
      "cell_type": "markdown",
      "source": [],
      "metadata": {
        "id": "ISegjw0v5tkz"
      }
    },
    {
      "cell_type": "markdown",
      "source": [
        "Favor de cargar el Criptograma2.txt"
      ],
      "metadata": {
        "id": "Oa5UhGGt5t94"
      }
    },
    {
      "cell_type": "code",
      "source": [
        "#!pip3 install unidecode # only use the first time\n",
        "from unidecode import unidecode\n",
        "import re\n",
        "\n",
        "def clean_text(input_text):\n",
        "    cleaned_text = unidecode(input_text).upper()\n",
        "    cleaned_text = re.sub(r'[^A-Z]', '', cleaned_text)  # elimina caracteres no alfabéticos\n",
        "    return cleaned_text\n",
        "\n",
        "# Cargar archivo\n",
        "with open('Criptograma2.txt', 'r') as file:\n",
        "    text = file.read()\n",
        "\n",
        "# Limpiar texto\n",
        "crip2 = clean_text(text)\n",
        "print(crip2)\n",
        "print(friedman_test(crip2))"
      ],
      "metadata": {
        "colab": {
          "base_uri": "https://localhost:8080/"
        },
        "id": "Xl_UzHOf5jg1",
        "outputId": "c3bfc3e3-527c-4756-dae4-86c54df8bf79"
      },
      "execution_count": null,
      "outputs": [
        {
          "output_type": "stream",
          "name": "stdout",
          "text": [
            "VHYBXFVNRBXFDEHUUBSQHXFAEJQJANCHZNARUHXFAEJXFUNIFABACFVNSQHXFAEJNQHRUBNBAOHAXBSQHAFZKUHZHAEFJANCHZKHCBCNDZJKHPJHEHPJHUUBNANCNVNZOHUEHKJHZNKUHACBHACFNSUBACNUKFUQNVJHUEHVHHAZHANUFANXHQHSUNUQNOBCNHAQNZFQHCNCCHEJZXBJCNCHZNXFRBZEHVBZFQHCNCAFZHXJNAENZOHXHZVHZNQONZEHZBADFPJHUHUVHZNQONUWJDHUFAQFZCBFZHZCHQXBHQFVNZSJQQHQNOBCNHAEJZXNQQHZDUHANXHQNMQFUHAEJXNVKFXFAFXHZQNKHANDHQCJHQFDHAEJXFUNIFAWNDJASNBQHCFACHCNAINACBNSQFZDZNAEFZDDFVHHANVFUHCHQNWJVBQCNCPJHNCFUANEJMUHAEHVHHARUNACHXBHAHQFURJQQFPJHEHVKQNEJXNAEFVHHVSFUUNXWHHAQNZHCCHEJZNARUHXNQBHAEHVHUHXFAFXBHAHQUHMQHGFCHQNMJHAEHCHEJQQNAEFVNZZBAVNZVHCHZKBCFVHYBXFPJHUBCFWHUBCFCHZNARUHDCHQJINCFACHOFDEHKHUZBRFDEHNAFUFXFVFNJANVBRFPJHHZXFACHJANXJANHAZJNENJCZWNUBMMHUANACHI\n",
            "0.9933424115945705\n"
          ]
        }
      ]
    },
    {
      "cell_type": "code",
      "source": [
        "subs =  subsecuencias(crip2,8) # En este caso buscamos subcadenas de 3 letras.\n",
        "ordenado = sorted(subs.items(), key=lambda x: len(x[1]), reverse=True) # Ordenamos de acuerdo al número de posiciones.\n",
        "print(\"\\n Subcadenas encontradas con su respectiva posición:\",subs, \"\\n Ordenadas:\", ordenado ,\"\\n\",type(subs))"
      ],
      "metadata": {
        "colab": {
          "base_uri": "https://localhost:8080/"
        },
        "id": "yNISnSL66ofX",
        "outputId": "c26438e4-7fef-46b9-a33b-01d5f9b5f6f4"
      },
      "execution_count": null,
      "outputs": [
        {
          "output_type": "stream",
          "name": "stdout",
          "text": [
            "\n",
            " Subcadenas encontradas con su respectiva posición: {'VHYBXF': [0, 594], 'HYBXFV': [1], 'YBXFVN': [2], 'BXFVNR': [3], 'XFVNRB': [4], 'FVNRBX': [5], 'VNRBXF': [6], 'NRBXFD': [7], 'RBXFDE': [8], 'BXFDEH': [9], 'XFDEHU': [10], 'FDEHUU': [11], 'DEHUUB': [12], 'EHUUBS': [13], 'HUUBSQ': [14], 'UUBSQH': [15], 'UBSQHX': [16], 'BSQHXF': [17], 'SQHXFA': [18, 56], 'QHXFAE': [19, 57], 'HXFAEJ': [20, 37, 58], 'XFAEJQ': [21], 'FAEJQJ': [22], 'AEJQJA': [23], 'EJQJAN': [24], 'JQJANC': [25], 'QJANCH': [26], 'JANCHZ': [27, 92], 'ANCHZN': [28], 'NCHZNA': [29], 'CHZNAR': [30, 613], 'HZNARU': [31, 614], 'ZNARUH': [32, 521, 615], 'NARUHX': [33, 522], 'ARUHXF': [34], 'RUHXFA': [35], 'UHXFAE': [36], 'XFAEJX': [38], 'FAEJXF': [39], 'AEJXFU': [40, 373], 'EJXFUN': [41, 374], 'JXFUNI': [42, 375], 'XFUNIF': [43, 376], 'FUNIFA': [44, 377], 'UNIFAB': [45], 'NIFABA': [46], 'IFABAC': [47], 'FABACF': [48], 'ABACFV': [49], 'BACFVN': [50], 'ACFVNS': [51], 'CFVNSQ': [52], 'FVNSQH': [53], 'VNSQHX': [54], 'NSQHXF': [55], 'XFAEJN': [59], 'FAEJNQ': [60], 'AEJNQH': [61], 'EJNQHR': [62], 'JNQHRU': [63], 'NQHRUB': [64], 'QHRUBN': [65], 'HRUBNB': [66], 'RUBNBA': [67], 'UBNBAO': [68], 'BNBAOH': [69], 'NBAOHA': [70], 'BAOHAX': [71], 'AOHAXB': [72], 'OHAXBS': [73], 'HAXBSQ': [74], 'AXBSQH': [75], 'XBSQHA': [76], 'BSQHAF': [77], 'SQHAFZ': [78], 'QHAFZK': [79], 'HAFZKU': [80], 'AFZKUH': [81], 'FZKUHZ': [82], 'ZKUHZH': [83], 'KUHZHA': [84], 'UHZHAE': [85], 'HZHAEF': [86], 'ZHAEFJ': [87], 'HAEFJA': [88], 'AEFJAN': [89], 'EFJANC': [90], 'FJANCH': [91], 'ANCHZK': [93], 'NCHZKH': [94], 'CHZKHC': [95], 'HZKHCB': [96], 'ZKHCBC': [97], 'KHCBCN': [98], 'HCBCND': [99], 'CBCNDZ': [100], 'BCNDZJ': [101], 'CNDZJK': [102], 'NDZJKH': [103], 'DZJKHP': [104], 'ZJKHPJ': [105], 'JKHPJH': [106], 'KHPJHE': [107], 'HPJHEH': [108], 'PJHEHP': [109], 'JHEHPJ': [110], 'HEHPJH': [111], 'EHPJHU': [112], 'HPJHUU': [113], 'PJHUUB': [114], 'JHUUBN': [115], 'HUUBNA': [116], 'UUBNAN': [117], 'UBNANC': [118], 'BNANCN': [119], 'NANCNV': [120], 'ANCNVN': [121], 'NCNVNZ': [122], 'CNVNZO': [123], 'NVNZOH': [124], 'VNZOHU': [125], 'NZOHUE': [126], 'ZOHUEH': [127], 'OHUEHK': [128], 'HUEHKJ': [129], 'UEHKJH': [130], 'EHKJHZ': [131], 'HKJHZN': [132], 'KJHZNK': [133], 'JHZNKU': [134], 'HZNKUH': [135], 'ZNKUHA': [136], 'NKUHAC': [137], 'KUHACB': [138], 'UHACBH': [139], 'HACBHA': [140], 'ACBHAC': [141], 'CBHACF': [142], 'BHACFN': [143], 'HACFNS': [144], 'ACFNSU': [145], 'CFNSUB': [146], 'FNSUBA': [147], 'NSUBAC': [148], 'SUBACN': [149], 'UBACNU': [150], 'BACNUK': [151], 'ACNUKF': [152], 'CNUKFU': [153], 'NUKFUQ': [154], 'UKFUQN': [155], 'KFUQNV': [156], 'FUQNVJ': [157], 'UQNVJH': [158], 'QNVJHU': [159], 'NVJHUE': [160], 'VJHUEH': [161], 'JHUEHV': [162], 'HUEHVH': [163], 'UEHVHH': [164], 'EHVHHA': [165, 457], 'HVHHAZ': [166], 'VHHAZH': [167], 'HHAZHA': [168], 'HAZHAN': [169], 'AZHANU': [170], 'ZHANUF': [171], 'HANUFA': [172], 'ANUFAN': [173], 'NUFANX': [174], 'UFANXH': [175], 'FANXHQ': [176], 'ANXHQH': [177], 'NXHQHS': [178], 'XHQHSU': [179], 'HQHSUN': [180], 'QHSUNU': [181], 'HSUNUQ': [182], 'SUNUQN': [183], 'UNUQNO': [184], 'NUQNOB': [185], 'UQNOBC': [186], 'QNOBCN': [187, 311], 'NOBCNH': [188, 312], 'OBCNHA': [189, 313], 'BCNHAQ': [190], 'CNHAQN': [191], 'NHAQNZ': [192], 'HAQNZF': [193], 'AQNZFQ': [194], 'QNZFQH': [195], 'NZFQHC': [196], 'ZFQHCN': [197, 227], 'FQHCNC': [198, 228], 'QHCNCC': [199], 'HCNCCH': [200], 'CNCCHE': [201], 'NCCHEJ': [202], 'CCHEJZ': [203, 516], 'CHEJZX': [204], 'HEJZXB': [205], 'EJZXBJ': [206], 'JZXBJC': [207], 'ZXBJCN': [208], 'XBJCNC': [209], 'BJCNCH': [210], 'JCNCHZ': [211], 'CNCHZN': [212], 'NCHZNX': [213], 'CHZNXF': [214], 'HZNXFR': [215], 'ZNXFRB': [216], 'NXFRBZ': [217], 'XFRBZE': [218], 'FRBZEH': [219], 'RBZEHV': [220], 'BZEHVB': [221], 'ZEHVBZ': [222], 'EHVBZF': [223], 'HVBZFQ': [224], 'VBZFQH': [225], 'BZFQHC': [226], 'QHCNCA': [229], 'HCNCAF': [230], 'CNCAFZ': [231], 'NCAFZH': [232], 'CAFZHX': [233], 'AFZHXJ': [234], 'FZHXJN': [235], 'ZHXJNA': [236], 'HXJNAE': [237], 'XJNAEN': [238], 'JNAENZ': [239], 'NAENZO': [240], 'AENZOH': [241], 'ENZOHX': [242], 'NZOHXH': [243], 'ZOHXHZ': [244], 'OHXHZV': [245], 'HXHZVH': [246], 'XHZVHZ': [247], 'HZVHZN': [248], 'ZVHZNQ': [249], 'VHZNQO': [250, 271], 'HZNQON': [251, 272], 'ZNQONZ': [252], 'NQONZE': [253], 'QONZEH': [254], 'ONZEHZ': [255], 'NZEHZB': [256], 'ZEHZBA': [257], 'EHZBAD': [258], 'HZBADF': [259], 'ZBADFP': [260], 'BADFPJ': [261], 'ADFPJH': [262], 'DFPJHU': [263], 'FPJHUH': [264], 'PJHUHU': [265], 'JHUHUV': [266], 'HUHUVH': [267], 'UHUVHZ': [268], 'HUVHZN': [269], 'UVHZNQ': [270], 'ZNQONU': [273], 'NQONUW': [274], 'QONUWJ': [275], 'ONUWJD': [276], 'NUWJDH': [277], 'UWJDHU': [278], 'WJDHUF': [279], 'JDHUFA': [280], 'DHUFAQ': [281], 'HUFAQF': [282], 'UFAQFZ': [283], 'FAQFZC': [284], 'AQFZCB': [285], 'QFZCBF': [286], 'FZCBFZ': [287], 'ZCBFZH': [288], 'CBFZHZ': [289], 'BFZHZC': [290], 'FZHZCH': [291], 'ZHZCHQ': [292], 'HZCHQX': [293], 'ZCHQXB': [294], 'CHQXBH': [295], 'HQXBHQ': [296], 'QXBHQF': [297], 'XBHQFV': [298], 'BHQFVN': [299], 'HQFVNZ': [300], 'QFVNZS': [301], 'FVNZSJ': [302], 'VNZSJQ': [303], 'NZSJQQ': [304], 'ZSJQQH': [305], 'SJQQHQ': [306], 'JQQHQN': [307], 'QQHQNO': [308], 'QHQNOB': [309], 'HQNOBC': [310], 'BCNHAE': [314], 'CNHAEJ': [315], 'NHAEJZ': [316], 'HAEJZX': [317], 'AEJZXN': [318], 'EJZXNQ': [319], 'JZXNQQ': [320], 'ZXNQQH': [321], 'XNQQHZ': [322], 'NQQHZD': [323], 'QQHZDU': [324], 'QHZDUH': [325], 'HZDUHA': [326], 'ZDUHAN': [327], 'DUHANX': [328], 'UHANXH': [329], 'HANXHQ': [330], 'ANXHQN': [331], 'NXHQNM': [332], 'XHQNMQ': [333], 'HQNMQF': [334], 'QNMQFU': [335], 'NMQFUH': [336], 'MQFUHA': [337], 'QFUHAE': [338], 'FUHAEJ': [339], 'UHAEJX': [340], 'HAEJXN': [341], 'AEJXNV': [342], 'EJXNVK': [343], 'JXNVKF': [344], 'XNVKFX': [345], 'NVKFXF': [346], 'VKFXFA': [347], 'KFXFAF': [348], 'FXFAFX': [349], 'XFAFXH': [350], 'FAFXHZ': [351], 'AFXHZQ': [352], 'FXHZQN': [353], 'XHZQNK': [354], 'HZQNKH': [355], 'ZQNKHA': [356], 'QNKHAN': [357], 'NKHAND': [358], 'KHANDH': [359], 'HANDHQ': [360], 'ANDHQC': [361], 'NDHQCJ': [362], 'DHQCJH': [363], 'HQCJHQ': [364], 'QCJHQF': [365], 'CJHQFD': [366], 'JHQFDH': [367], 'HQFDHA': [368], 'QFDHAE': [369], 'FDHAEJ': [370], 'DHAEJX': [371], 'HAEJXF': [372], 'UNIFAW': [378], 'NIFAWN': [379], 'IFAWND': [380], 'FAWNDJ': [381], 'AWNDJA': [382], 'WNDJAS': [383], 'NDJASN': [384], 'DJASNB': [385], 'JASNBQ': [386], 'ASNBQH': [387], 'SNBQHC': [388], 'NBQHCF': [389], 'BQHCFA': [390], 'QHCFAC': [391], 'HCFACH': [392], 'CFACHC': [393], 'FACHCN': [394], 'ACHCNA': [395], 'CHCNAI': [396], 'HCNAIN': [397], 'CNAINA': [398], 'NAINAC': [399], 'AINACB': [400], 'INACBN': [401], 'NACBNS': [402], 'ACBNSQ': [403], 'CBNSQF': [404], 'BNSQFZ': [405], 'NSQFZD': [406], 'SQFZDZ': [407], 'QFZDZN': [408], 'FZDZNA': [409], 'ZDZNAE': [410], 'DZNAEF': [411], 'ZNAEFZ': [412], 'NAEFZD': [413], 'AEFZDD': [414], 'EFZDDF': [415], 'FZDDFV': [416], 'ZDDFVH': [417], 'DDFVHH': [418], 'DFVHHA': [419], 'FVHHAN': [420], 'VHHANV': [421], 'HHANVF': [422], 'HANVFU': [423], 'ANVFUH': [424], 'NVFUHC': [425], 'VFUHCH': [426], 'FUHCHQ': [427], 'UHCHQN': [428], 'HCHQNW': [429], 'CHQNWJ': [430], 'HQNWJV': [431], 'QNWJVB': [432], 'NWJVBQ': [433], 'WJVBQC': [434], 'JVBQCN': [435], 'VBQCNC': [436], 'BQCNCP': [437], 'QCNCPJ': [438], 'CNCPJH': [439], 'NCPJHN': [440], 'CPJHNC': [441], 'PJHNCF': [442], 'JHNCFU': [443], 'HNCFUA': [444], 'NCFUAN': [445], 'CFUANE': [446], 'FUANEJ': [447], 'UANEJM': [448], 'ANEJMU': [449], 'NEJMUH': [450], 'EJMUHA': [451], 'JMUHAE': [452], 'MUHAEH': [453], 'UHAEHV': [454], 'HAEHVH': [455, 531], 'AEHVHH': [456], 'HVHHAR': [458], 'VHHARU': [459], 'HHARUN': [460], 'HARUNA': [461], 'ARUNAC': [462], 'RUNACH': [463], 'UNACHX': [464], 'NACHXB': [465], 'ACHXBH': [466], 'CHXBHA': [467], 'HXBHAH': [468], 'XBHAHQ': [469, 543], 'BHAHQF': [470], 'HAHQFU': [471], 'AHQFUR': [472], 'HQFURJ': [473], 'QFURJQ': [474], 'FURJQQ': [475], 'URJQQF': [476], 'RJQQFP': [477], 'JQQFPJ': [478], 'QQFPJH': [479], 'QFPJHE': [480], 'FPJHEH': [481], 'PJHEHV': [482], 'JHEHVK': [483], 'HEHVKQ': [484], 'EHVKQN': [485], 'HVKQNE': [486], 'VKQNEJ': [487], 'KQNEJX': [488], 'QNEJXN': [489], 'NEJXNA': [490], 'EJXNAE': [491], 'JXNAEF': [492], 'XNAEFV': [493], 'NAEFVH': [494], 'AEFVHH': [495], 'EFVHHV': [496], 'FVHHVS': [497], 'VHHVSF': [498], 'HHVSFU': [499], 'HVSFUU': [500], 'VSFUUN': [501], 'SFUUNX': [502], 'FUUNXW': [503], 'UUNXWH': [504], 'UNXWHH': [505], 'NXWHHA': [506], 'XWHHAQ': [507], 'WHHAQN': [508], 'HHAQNZ': [509], 'HAQNZH': [510], 'AQNZHC': [511], 'QNZHCC': [512], 'NZHCCH': [513], 'ZHCCHE': [514], 'HCCHEJ': [515], 'CHEJZN': [517], 'HEJZNA': [518], 'EJZNAR': [519], 'JZNARU': [520], 'ARUHXN': [523], 'RUHXNQ': [524], 'UHXNQB': [525], 'HXNQBH': [526], 'XNQBHA': [527], 'NQBHAE': [528], 'QBHAEH': [529], 'BHAEHV': [530], 'AEHVHU': [532], 'EHVHUH': [533], 'HVHUHX': [534], 'VHUHXF': [535], 'HUHXFA': [536], 'UHXFAF': [537], 'HXFAFX': [538], 'XFAFXB': [539], 'FAFXBH': [540], 'AFXBHA': [541], 'FXBHAH': [542], 'BHAHQU': [544], 'HAHQUH': [545], 'AHQUHM': [546], 'HQUHMQ': [547], 'QUHMQH': [548], 'UHMQHG': [549], 'HMQHGF': [550], 'MQHGFC': [551], 'QHGFCH': [552], 'HGFCHQ': [553], 'GFCHQN': [554], 'FCHQNM': [555], 'CHQNMJ': [556], 'HQNMJH': [557], 'QNMJHA': [558], 'NMJHAE': [559], 'MJHAEH': [560], 'JHAEHC': [561], 'HAEHCH': [562], 'AEHCHE': [563], 'EHCHEJ': [564], 'HCHEJQ': [565], 'CHEJQQ': [566], 'HEJQQN': [567], 'EJQQNA': [568], 'JQQNAE': [569], 'QQNAEF': [570], 'QNAEFV': [571], 'NAEFVN': [572], 'AEFVNZ': [573], 'EFVNZZ': [574], 'FVNZZB': [575], 'VNZZBA': [576], 'NZZBAV': [577], 'ZZBAVN': [578], 'ZBAVNZ': [579], 'BAVNZV': [580], 'AVNZVH': [581], 'VNZVHC': [582], 'NZVHCH': [583], 'ZVHCHZ': [584], 'VHCHZK': [585], 'HCHZKB': [586], 'CHZKBC': [587], 'HZKBCF': [588], 'ZKBCFV': [589], 'KBCFVH': [590], 'BCFVHY': [591], 'CFVHYB': [592], 'FVHYBX': [593], 'HYBXFP': [595], 'YBXFPJ': [596], 'BXFPJH': [597], 'XFPJHU': [598], 'FPJHUB': [599], 'PJHUBC': [600], 'JHUBCF': [601], 'HUBCFW': [602], 'UBCFWH': [603], 'BCFWHU': [604], 'CFWHUB': [605], 'FWHUBC': [606], 'WHUBCF': [607], 'HUBCFC': [608], 'UBCFCH': [609], 'BCFCHZ': [610], 'CFCHZN': [611], 'FCHZNA': [612], 'NARUHD': [616], 'ARUHDC': [617], 'RUHDCH': [618], 'UHDCHQ': [619], 'HDCHQJ': [620], 'DCHQJI': [621], 'CHQJIN': [622], 'HQJINC': [623], 'QJINCF': [624], 'JINCFA': [625], 'INCFAC': [626], 'NCFACH': [627], 'CFACHO': [628], 'FACHOF': [629], 'ACHOFD': [630], 'CHOFDE': [631], 'HOFDEH': [632], 'OFDEHK': [633], 'FDEHKH': [634], 'DEHKHU': [635], 'EHKHUZ': [636], 'HKHUZB': [637], 'KHUZBR': [638], 'HUZBRF': [639], 'UZBRFD': [640], 'ZBRFDE': [641], 'BRFDEH': [642], 'RFDEHN': [643], 'FDEHNA': [644], 'DEHNAF': [645], 'EHNAFU': [646], 'HNAFUF': [647], 'NAFUFX': [648], 'AFUFXF': [649], 'FUFXFV': [650], 'UFXFVF': [651], 'FXFVFN': [652], 'XFVFNJ': [653], 'FVFNJA': [654], 'VFNJAN': [655], 'FNJANV': [656], 'NJANVB': [657], 'JANVBR': [658], 'ANVBRF': [659], 'NVBRFP': [660], 'VBRFPJ': [661], 'BRFPJH': [662], 'RFPJHH': [663], 'FPJHHZ': [664], 'PJHHZX': [665], 'JHHZXF': [666], 'HHZXFA': [667], 'HZXFAC': [668], 'ZXFACH': [669], 'XFACHJ': [670], 'FACHJA': [671], 'ACHJAN': [672], 'CHJANX': [673], 'HJANXJ': [674], 'JANXJA': [675], 'ANXJAN': [676], 'NXJANH': [677], 'XJANHA': [678], 'JANHAZ': [679], 'ANHAZJ': [680], 'NHAZJN': [681], 'HAZJNE': [682], 'AZJNEN': [683], 'ZJNENJ': [684], 'JNENJC': [685], 'NENJCZ': [686], 'ENJCZW': [687], 'NJCZWN': [688], 'JCZWNU': [689], 'CZWNUB': [690], 'ZWNUBM': [691], 'WNUBMM': [692], 'NUBMMH': [693], 'UBMMHU': [694], 'BMMHUA': [695], 'MMHUAN': [696], 'MHUANA': [697], 'HUANAC': [698], 'UANACH': [699], 'ANACHI': [700], 'NACHI': [701], 'ACHI': [702], 'CHI': [703]} \n",
            " Ordenadas: [('HXFAEJ', [20, 37, 58]), ('ZNARUH', [32, 521, 615]), ('VHYBXF', [0, 594]), ('SQHXFA', [18, 56]), ('QHXFAE', [19, 57]), ('JANCHZ', [27, 92]), ('CHZNAR', [30, 613]), ('HZNARU', [31, 614]), ('NARUHX', [33, 522]), ('AEJXFU', [40, 373]), ('EJXFUN', [41, 374]), ('JXFUNI', [42, 375]), ('XFUNIF', [43, 376]), ('FUNIFA', [44, 377]), ('EHVHHA', [165, 457]), ('QNOBCN', [187, 311]), ('NOBCNH', [188, 312]), ('OBCNHA', [189, 313]), ('ZFQHCN', [197, 227]), ('FQHCNC', [198, 228]), ('CCHEJZ', [203, 516]), ('VHZNQO', [250, 271]), ('HZNQON', [251, 272]), ('HAEHVH', [455, 531]), ('XBHAHQ', [469, 543]), ('HYBXFV', [1]), ('YBXFVN', [2]), ('BXFVNR', [3]), ('XFVNRB', [4]), ('FVNRBX', [5]), ('VNRBXF', [6]), ('NRBXFD', [7]), ('RBXFDE', [8]), ('BXFDEH', [9]), ('XFDEHU', [10]), ('FDEHUU', [11]), ('DEHUUB', [12]), ('EHUUBS', [13]), ('HUUBSQ', [14]), ('UUBSQH', [15]), ('UBSQHX', [16]), ('BSQHXF', [17]), ('XFAEJQ', [21]), ('FAEJQJ', [22]), ('AEJQJA', [23]), ('EJQJAN', [24]), ('JQJANC', [25]), ('QJANCH', [26]), ('ANCHZN', [28]), ('NCHZNA', [29]), ('ARUHXF', [34]), ('RUHXFA', [35]), ('UHXFAE', [36]), ('XFAEJX', [38]), ('FAEJXF', [39]), ('UNIFAB', [45]), ('NIFABA', [46]), ('IFABAC', [47]), ('FABACF', [48]), ('ABACFV', [49]), ('BACFVN', [50]), ('ACFVNS', [51]), ('CFVNSQ', [52]), ('FVNSQH', [53]), ('VNSQHX', [54]), ('NSQHXF', [55]), ('XFAEJN', [59]), ('FAEJNQ', [60]), ('AEJNQH', [61]), ('EJNQHR', [62]), ('JNQHRU', [63]), ('NQHRUB', [64]), ('QHRUBN', [65]), ('HRUBNB', [66]), ('RUBNBA', [67]), ('UBNBAO', [68]), ('BNBAOH', [69]), ('NBAOHA', [70]), ('BAOHAX', [71]), ('AOHAXB', [72]), ('OHAXBS', [73]), ('HAXBSQ', [74]), ('AXBSQH', [75]), ('XBSQHA', [76]), ('BSQHAF', [77]), ('SQHAFZ', [78]), ('QHAFZK', [79]), ('HAFZKU', [80]), ('AFZKUH', [81]), ('FZKUHZ', [82]), ('ZKUHZH', [83]), ('KUHZHA', [84]), ('UHZHAE', [85]), ('HZHAEF', [86]), ('ZHAEFJ', [87]), ('HAEFJA', [88]), ('AEFJAN', [89]), ('EFJANC', [90]), ('FJANCH', [91]), ('ANCHZK', [93]), ('NCHZKH', [94]), ('CHZKHC', [95]), ('HZKHCB', [96]), ('ZKHCBC', [97]), ('KHCBCN', [98]), ('HCBCND', [99]), ('CBCNDZ', [100]), ('BCNDZJ', [101]), ('CNDZJK', [102]), ('NDZJKH', [103]), ('DZJKHP', [104]), ('ZJKHPJ', [105]), ('JKHPJH', [106]), ('KHPJHE', [107]), ('HPJHEH', [108]), ('PJHEHP', [109]), ('JHEHPJ', [110]), ('HEHPJH', [111]), ('EHPJHU', [112]), ('HPJHUU', [113]), ('PJHUUB', [114]), ('JHUUBN', [115]), ('HUUBNA', [116]), ('UUBNAN', [117]), ('UBNANC', [118]), ('BNANCN', [119]), ('NANCNV', [120]), ('ANCNVN', [121]), ('NCNVNZ', [122]), ('CNVNZO', [123]), ('NVNZOH', [124]), ('VNZOHU', [125]), ('NZOHUE', [126]), ('ZOHUEH', [127]), ('OHUEHK', [128]), ('HUEHKJ', [129]), ('UEHKJH', [130]), ('EHKJHZ', [131]), ('HKJHZN', [132]), ('KJHZNK', [133]), ('JHZNKU', [134]), ('HZNKUH', [135]), ('ZNKUHA', [136]), ('NKUHAC', [137]), ('KUHACB', [138]), ('UHACBH', [139]), ('HACBHA', [140]), ('ACBHAC', [141]), ('CBHACF', [142]), ('BHACFN', [143]), ('HACFNS', [144]), ('ACFNSU', [145]), ('CFNSUB', [146]), ('FNSUBA', [147]), ('NSUBAC', [148]), ('SUBACN', [149]), ('UBACNU', [150]), ('BACNUK', [151]), ('ACNUKF', [152]), ('CNUKFU', [153]), ('NUKFUQ', [154]), ('UKFUQN', [155]), ('KFUQNV', [156]), ('FUQNVJ', [157]), ('UQNVJH', [158]), ('QNVJHU', [159]), ('NVJHUE', [160]), ('VJHUEH', [161]), ('JHUEHV', [162]), ('HUEHVH', [163]), ('UEHVHH', [164]), ('HVHHAZ', [166]), ('VHHAZH', [167]), ('HHAZHA', [168]), ('HAZHAN', [169]), ('AZHANU', [170]), ('ZHANUF', [171]), ('HANUFA', [172]), ('ANUFAN', [173]), ('NUFANX', [174]), ('UFANXH', [175]), ('FANXHQ', [176]), ('ANXHQH', [177]), ('NXHQHS', [178]), ('XHQHSU', [179]), ('HQHSUN', [180]), ('QHSUNU', [181]), ('HSUNUQ', [182]), ('SUNUQN', [183]), ('UNUQNO', [184]), ('NUQNOB', [185]), ('UQNOBC', [186]), ('BCNHAQ', [190]), ('CNHAQN', [191]), ('NHAQNZ', [192]), ('HAQNZF', [193]), ('AQNZFQ', [194]), ('QNZFQH', [195]), ('NZFQHC', [196]), ('QHCNCC', [199]), ('HCNCCH', [200]), ('CNCCHE', [201]), ('NCCHEJ', [202]), ('CHEJZX', [204]), ('HEJZXB', [205]), ('EJZXBJ', [206]), ('JZXBJC', [207]), ('ZXBJCN', [208]), ('XBJCNC', [209]), ('BJCNCH', [210]), ('JCNCHZ', [211]), ('CNCHZN', [212]), ('NCHZNX', [213]), ('CHZNXF', [214]), ('HZNXFR', [215]), ('ZNXFRB', [216]), ('NXFRBZ', [217]), ('XFRBZE', [218]), ('FRBZEH', [219]), ('RBZEHV', [220]), ('BZEHVB', [221]), ('ZEHVBZ', [222]), ('EHVBZF', [223]), ('HVBZFQ', [224]), ('VBZFQH', [225]), ('BZFQHC', [226]), ('QHCNCA', [229]), ('HCNCAF', [230]), ('CNCAFZ', [231]), ('NCAFZH', [232]), ('CAFZHX', [233]), ('AFZHXJ', [234]), ('FZHXJN', [235]), ('ZHXJNA', [236]), ('HXJNAE', [237]), ('XJNAEN', [238]), ('JNAENZ', [239]), ('NAENZO', [240]), ('AENZOH', [241]), ('ENZOHX', [242]), ('NZOHXH', [243]), ('ZOHXHZ', [244]), ('OHXHZV', [245]), ('HXHZVH', [246]), ('XHZVHZ', [247]), ('HZVHZN', [248]), ('ZVHZNQ', [249]), ('ZNQONZ', [252]), ('NQONZE', [253]), ('QONZEH', [254]), ('ONZEHZ', [255]), ('NZEHZB', [256]), ('ZEHZBA', [257]), ('EHZBAD', [258]), ('HZBADF', [259]), ('ZBADFP', [260]), ('BADFPJ', [261]), ('ADFPJH', [262]), ('DFPJHU', [263]), ('FPJHUH', [264]), ('PJHUHU', [265]), ('JHUHUV', [266]), ('HUHUVH', [267]), ('UHUVHZ', [268]), ('HUVHZN', [269]), ('UVHZNQ', [270]), ('ZNQONU', [273]), ('NQONUW', [274]), ('QONUWJ', [275]), ('ONUWJD', [276]), ('NUWJDH', [277]), ('UWJDHU', [278]), ('WJDHUF', [279]), ('JDHUFA', [280]), ('DHUFAQ', [281]), ('HUFAQF', [282]), ('UFAQFZ', [283]), ('FAQFZC', [284]), ('AQFZCB', [285]), ('QFZCBF', [286]), ('FZCBFZ', [287]), ('ZCBFZH', [288]), ('CBFZHZ', [289]), ('BFZHZC', [290]), ('FZHZCH', [291]), ('ZHZCHQ', [292]), ('HZCHQX', [293]), ('ZCHQXB', [294]), ('CHQXBH', [295]), ('HQXBHQ', [296]), ('QXBHQF', [297]), ('XBHQFV', [298]), ('BHQFVN', [299]), ('HQFVNZ', [300]), ('QFVNZS', [301]), ('FVNZSJ', [302]), ('VNZSJQ', [303]), ('NZSJQQ', [304]), ('ZSJQQH', [305]), ('SJQQHQ', [306]), ('JQQHQN', [307]), ('QQHQNO', [308]), ('QHQNOB', [309]), ('HQNOBC', [310]), ('BCNHAE', [314]), ('CNHAEJ', [315]), ('NHAEJZ', [316]), ('HAEJZX', [317]), ('AEJZXN', [318]), ('EJZXNQ', [319]), ('JZXNQQ', [320]), ('ZXNQQH', [321]), ('XNQQHZ', [322]), ('NQQHZD', [323]), ('QQHZDU', [324]), ('QHZDUH', [325]), ('HZDUHA', [326]), ('ZDUHAN', [327]), ('DUHANX', [328]), ('UHANXH', [329]), ('HANXHQ', [330]), ('ANXHQN', [331]), ('NXHQNM', [332]), ('XHQNMQ', [333]), ('HQNMQF', [334]), ('QNMQFU', [335]), ('NMQFUH', [336]), ('MQFUHA', [337]), ('QFUHAE', [338]), ('FUHAEJ', [339]), ('UHAEJX', [340]), ('HAEJXN', [341]), ('AEJXNV', [342]), ('EJXNVK', [343]), ('JXNVKF', [344]), ('XNVKFX', [345]), ('NVKFXF', [346]), ('VKFXFA', [347]), ('KFXFAF', [348]), ('FXFAFX', [349]), ('XFAFXH', [350]), ('FAFXHZ', [351]), ('AFXHZQ', [352]), ('FXHZQN', [353]), ('XHZQNK', [354]), ('HZQNKH', [355]), ('ZQNKHA', [356]), ('QNKHAN', [357]), ('NKHAND', [358]), ('KHANDH', [359]), ('HANDHQ', [360]), ('ANDHQC', [361]), ('NDHQCJ', [362]), ('DHQCJH', [363]), ('HQCJHQ', [364]), ('QCJHQF', [365]), ('CJHQFD', [366]), ('JHQFDH', [367]), ('HQFDHA', [368]), ('QFDHAE', [369]), ('FDHAEJ', [370]), ('DHAEJX', [371]), ('HAEJXF', [372]), ('UNIFAW', [378]), ('NIFAWN', [379]), ('IFAWND', [380]), ('FAWNDJ', [381]), ('AWNDJA', [382]), ('WNDJAS', [383]), ('NDJASN', [384]), ('DJASNB', [385]), ('JASNBQ', [386]), ('ASNBQH', [387]), ('SNBQHC', [388]), ('NBQHCF', [389]), ('BQHCFA', [390]), ('QHCFAC', [391]), ('HCFACH', [392]), ('CFACHC', [393]), ('FACHCN', [394]), ('ACHCNA', [395]), ('CHCNAI', [396]), ('HCNAIN', [397]), ('CNAINA', [398]), ('NAINAC', [399]), ('AINACB', [400]), ('INACBN', [401]), ('NACBNS', [402]), ('ACBNSQ', [403]), ('CBNSQF', [404]), ('BNSQFZ', [405]), ('NSQFZD', [406]), ('SQFZDZ', [407]), ('QFZDZN', [408]), ('FZDZNA', [409]), ('ZDZNAE', [410]), ('DZNAEF', [411]), ('ZNAEFZ', [412]), ('NAEFZD', [413]), ('AEFZDD', [414]), ('EFZDDF', [415]), ('FZDDFV', [416]), ('ZDDFVH', [417]), ('DDFVHH', [418]), ('DFVHHA', [419]), ('FVHHAN', [420]), ('VHHANV', [421]), ('HHANVF', [422]), ('HANVFU', [423]), ('ANVFUH', [424]), ('NVFUHC', [425]), ('VFUHCH', [426]), ('FUHCHQ', [427]), ('UHCHQN', [428]), ('HCHQNW', [429]), ('CHQNWJ', [430]), ('HQNWJV', [431]), ('QNWJVB', [432]), ('NWJVBQ', [433]), ('WJVBQC', [434]), ('JVBQCN', [435]), ('VBQCNC', [436]), ('BQCNCP', [437]), ('QCNCPJ', [438]), ('CNCPJH', [439]), ('NCPJHN', [440]), ('CPJHNC', [441]), ('PJHNCF', [442]), ('JHNCFU', [443]), ('HNCFUA', [444]), ('NCFUAN', [445]), ('CFUANE', [446]), ('FUANEJ', [447]), ('UANEJM', [448]), ('ANEJMU', [449]), ('NEJMUH', [450]), ('EJMUHA', [451]), ('JMUHAE', [452]), ('MUHAEH', [453]), ('UHAEHV', [454]), ('AEHVHH', [456]), ('HVHHAR', [458]), ('VHHARU', [459]), ('HHARUN', [460]), ('HARUNA', [461]), ('ARUNAC', [462]), ('RUNACH', [463]), ('UNACHX', [464]), ('NACHXB', [465]), ('ACHXBH', [466]), ('CHXBHA', [467]), ('HXBHAH', [468]), ('BHAHQF', [470]), ('HAHQFU', [471]), ('AHQFUR', [472]), ('HQFURJ', [473]), ('QFURJQ', [474]), ('FURJQQ', [475]), ('URJQQF', [476]), ('RJQQFP', [477]), ('JQQFPJ', [478]), ('QQFPJH', [479]), ('QFPJHE', [480]), ('FPJHEH', [481]), ('PJHEHV', [482]), ('JHEHVK', [483]), ('HEHVKQ', [484]), ('EHVKQN', [485]), ('HVKQNE', [486]), ('VKQNEJ', [487]), ('KQNEJX', [488]), ('QNEJXN', [489]), ('NEJXNA', [490]), ('EJXNAE', [491]), ('JXNAEF', [492]), ('XNAEFV', [493]), ('NAEFVH', [494]), ('AEFVHH', [495]), ('EFVHHV', [496]), ('FVHHVS', [497]), ('VHHVSF', [498]), ('HHVSFU', [499]), ('HVSFUU', [500]), ('VSFUUN', [501]), ('SFUUNX', [502]), ('FUUNXW', [503]), ('UUNXWH', [504]), ('UNXWHH', [505]), ('NXWHHA', [506]), ('XWHHAQ', [507]), ('WHHAQN', [508]), ('HHAQNZ', [509]), ('HAQNZH', [510]), ('AQNZHC', [511]), ('QNZHCC', [512]), ('NZHCCH', [513]), ('ZHCCHE', [514]), ('HCCHEJ', [515]), ('CHEJZN', [517]), ('HEJZNA', [518]), ('EJZNAR', [519]), ('JZNARU', [520]), ('ARUHXN', [523]), ('RUHXNQ', [524]), ('UHXNQB', [525]), ('HXNQBH', [526]), ('XNQBHA', [527]), ('NQBHAE', [528]), ('QBHAEH', [529]), ('BHAEHV', [530]), ('AEHVHU', [532]), ('EHVHUH', [533]), ('HVHUHX', [534]), ('VHUHXF', [535]), ('HUHXFA', [536]), ('UHXFAF', [537]), ('HXFAFX', [538]), ('XFAFXB', [539]), ('FAFXBH', [540]), ('AFXBHA', [541]), ('FXBHAH', [542]), ('BHAHQU', [544]), ('HAHQUH', [545]), ('AHQUHM', [546]), ('HQUHMQ', [547]), ('QUHMQH', [548]), ('UHMQHG', [549]), ('HMQHGF', [550]), ('MQHGFC', [551]), ('QHGFCH', [552]), ('HGFCHQ', [553]), ('GFCHQN', [554]), ('FCHQNM', [555]), ('CHQNMJ', [556]), ('HQNMJH', [557]), ('QNMJHA', [558]), ('NMJHAE', [559]), ('MJHAEH', [560]), ('JHAEHC', [561]), ('HAEHCH', [562]), ('AEHCHE', [563]), ('EHCHEJ', [564]), ('HCHEJQ', [565]), ('CHEJQQ', [566]), ('HEJQQN', [567]), ('EJQQNA', [568]), ('JQQNAE', [569]), ('QQNAEF', [570]), ('QNAEFV', [571]), ('NAEFVN', [572]), ('AEFVNZ', [573]), ('EFVNZZ', [574]), ('FVNZZB', [575]), ('VNZZBA', [576]), ('NZZBAV', [577]), ('ZZBAVN', [578]), ('ZBAVNZ', [579]), ('BAVNZV', [580]), ('AVNZVH', [581]), ('VNZVHC', [582]), ('NZVHCH', [583]), ('ZVHCHZ', [584]), ('VHCHZK', [585]), ('HCHZKB', [586]), ('CHZKBC', [587]), ('HZKBCF', [588]), ('ZKBCFV', [589]), ('KBCFVH', [590]), ('BCFVHY', [591]), ('CFVHYB', [592]), ('FVHYBX', [593]), ('HYBXFP', [595]), ('YBXFPJ', [596]), ('BXFPJH', [597]), ('XFPJHU', [598]), ('FPJHUB', [599]), ('PJHUBC', [600]), ('JHUBCF', [601]), ('HUBCFW', [602]), ('UBCFWH', [603]), ('BCFWHU', [604]), ('CFWHUB', [605]), ('FWHUBC', [606]), ('WHUBCF', [607]), ('HUBCFC', [608]), ('UBCFCH', [609]), ('BCFCHZ', [610]), ('CFCHZN', [611]), ('FCHZNA', [612]), ('NARUHD', [616]), ('ARUHDC', [617]), ('RUHDCH', [618]), ('UHDCHQ', [619]), ('HDCHQJ', [620]), ('DCHQJI', [621]), ('CHQJIN', [622]), ('HQJINC', [623]), ('QJINCF', [624]), ('JINCFA', [625]), ('INCFAC', [626]), ('NCFACH', [627]), ('CFACHO', [628]), ('FACHOF', [629]), ('ACHOFD', [630]), ('CHOFDE', [631]), ('HOFDEH', [632]), ('OFDEHK', [633]), ('FDEHKH', [634]), ('DEHKHU', [635]), ('EHKHUZ', [636]), ('HKHUZB', [637]), ('KHUZBR', [638]), ('HUZBRF', [639]), ('UZBRFD', [640]), ('ZBRFDE', [641]), ('BRFDEH', [642]), ('RFDEHN', [643]), ('FDEHNA', [644]), ('DEHNAF', [645]), ('EHNAFU', [646]), ('HNAFUF', [647]), ('NAFUFX', [648]), ('AFUFXF', [649]), ('FUFXFV', [650]), ('UFXFVF', [651]), ('FXFVFN', [652]), ('XFVFNJ', [653]), ('FVFNJA', [654]), ('VFNJAN', [655]), ('FNJANV', [656]), ('NJANVB', [657]), ('JANVBR', [658]), ('ANVBRF', [659]), ('NVBRFP', [660]), ('VBRFPJ', [661]), ('BRFPJH', [662]), ('RFPJHH', [663]), ('FPJHHZ', [664]), ('PJHHZX', [665]), ('JHHZXF', [666]), ('HHZXFA', [667]), ('HZXFAC', [668]), ('ZXFACH', [669]), ('XFACHJ', [670]), ('FACHJA', [671]), ('ACHJAN', [672]), ('CHJANX', [673]), ('HJANXJ', [674]), ('JANXJA', [675]), ('ANXJAN', [676]), ('NXJANH', [677]), ('XJANHA', [678]), ('JANHAZ', [679]), ('ANHAZJ', [680]), ('NHAZJN', [681]), ('HAZJNE', [682]), ('AZJNEN', [683]), ('ZJNENJ', [684]), ('JNENJC', [685]), ('NENJCZ', [686]), ('ENJCZW', [687]), ('NJCZWN', [688]), ('JCZWNU', [689]), ('CZWNUB', [690]), ('ZWNUBM', [691]), ('WNUBMM', [692]), ('NUBMMH', [693]), ('UBMMHU', [694]), ('BMMHUA', [695]), ('MMHUAN', [696]), ('MHUANA', [697]), ('HUANAC', [698]), ('UANACH', [699]), ('ANACHI', [700]), ('NACHI', [701]), ('ACHI', [702]), ('CHI', [703])] \n",
            " <class 'dict'>\n"
          ]
        }
      ]
    },
    {
      "cell_type": "code",
      "source": [
        "dis=distancias(subs) # <class 'dict'>\n",
        "# Ordenamos las subcadenas de acuerdo al número de posiciones donde aparecen en el texto cifrado\n",
        "dis_ordenado = sorted(dis.items(), key=lambda x: len(x[1]), reverse=True) # <class 'list'>\n",
        "print(\"Subcadenas encontradas con su respectiva distancia entre sus subcandenas:\\n\"\n",
        ",dis, \"\\nOrdenadas por número de apariciones:\\n\", dis_ordenado,\"\\n\")"
      ],
      "metadata": {
        "colab": {
          "base_uri": "https://localhost:8080/"
        },
        "id": "4MLyqGBZ7oMN",
        "outputId": "64783b15-6888-4fd9-ea1e-16e977b0deaa"
      },
      "execution_count": null,
      "outputs": [
        {
          "output_type": "stream",
          "name": "stdout",
          "text": [
            "Subcadenas encontradas con su respectiva distancia entre sus subcandenas:\n",
            " {'VHYBXF': [594], 'HYBXFV': [], 'YBXFVN': [], 'BXFVNR': [], 'XFVNRB': [], 'FVNRBX': [], 'VNRBXF': [], 'NRBXFD': [], 'RBXFDE': [], 'BXFDEH': [], 'XFDEHU': [], 'FDEHUU': [], 'DEHUUB': [], 'EHUUBS': [], 'HUUBSQ': [], 'UUBSQH': [], 'UBSQHX': [], 'BSQHXF': [], 'SQHXFA': [38], 'QHXFAE': [38], 'HXFAEJ': [17, 21], 'XFAEJQ': [], 'FAEJQJ': [], 'AEJQJA': [], 'EJQJAN': [], 'JQJANC': [], 'QJANCH': [], 'JANCHZ': [65], 'ANCHZN': [], 'NCHZNA': [], 'CHZNAR': [583], 'HZNARU': [583], 'ZNARUH': [489, 94], 'NARUHX': [489], 'ARUHXF': [], 'RUHXFA': [], 'UHXFAE': [], 'XFAEJX': [], 'FAEJXF': [], 'AEJXFU': [333], 'EJXFUN': [333], 'JXFUNI': [333], 'XFUNIF': [333], 'FUNIFA': [333], 'UNIFAB': [], 'NIFABA': [], 'IFABAC': [], 'FABACF': [], 'ABACFV': [], 'BACFVN': [], 'ACFVNS': [], 'CFVNSQ': [], 'FVNSQH': [], 'VNSQHX': [], 'NSQHXF': [], 'XFAEJN': [], 'FAEJNQ': [], 'AEJNQH': [], 'EJNQHR': [], 'JNQHRU': [], 'NQHRUB': [], 'QHRUBN': [], 'HRUBNB': [], 'RUBNBA': [], 'UBNBAO': [], 'BNBAOH': [], 'NBAOHA': [], 'BAOHAX': [], 'AOHAXB': [], 'OHAXBS': [], 'HAXBSQ': [], 'AXBSQH': [], 'XBSQHA': [], 'BSQHAF': [], 'SQHAFZ': [], 'QHAFZK': [], 'HAFZKU': [], 'AFZKUH': [], 'FZKUHZ': [], 'ZKUHZH': [], 'KUHZHA': [], 'UHZHAE': [], 'HZHAEF': [], 'ZHAEFJ': [], 'HAEFJA': [], 'AEFJAN': [], 'EFJANC': [], 'FJANCH': [], 'ANCHZK': [], 'NCHZKH': [], 'CHZKHC': [], 'HZKHCB': [], 'ZKHCBC': [], 'KHCBCN': [], 'HCBCND': [], 'CBCNDZ': [], 'BCNDZJ': [], 'CNDZJK': [], 'NDZJKH': [], 'DZJKHP': [], 'ZJKHPJ': [], 'JKHPJH': [], 'KHPJHE': [], 'HPJHEH': [], 'PJHEHP': [], 'JHEHPJ': [], 'HEHPJH': [], 'EHPJHU': [], 'HPJHUU': [], 'PJHUUB': [], 'JHUUBN': [], 'HUUBNA': [], 'UUBNAN': [], 'UBNANC': [], 'BNANCN': [], 'NANCNV': [], 'ANCNVN': [], 'NCNVNZ': [], 'CNVNZO': [], 'NVNZOH': [], 'VNZOHU': [], 'NZOHUE': [], 'ZOHUEH': [], 'OHUEHK': [], 'HUEHKJ': [], 'UEHKJH': [], 'EHKJHZ': [], 'HKJHZN': [], 'KJHZNK': [], 'JHZNKU': [], 'HZNKUH': [], 'ZNKUHA': [], 'NKUHAC': [], 'KUHACB': [], 'UHACBH': [], 'HACBHA': [], 'ACBHAC': [], 'CBHACF': [], 'BHACFN': [], 'HACFNS': [], 'ACFNSU': [], 'CFNSUB': [], 'FNSUBA': [], 'NSUBAC': [], 'SUBACN': [], 'UBACNU': [], 'BACNUK': [], 'ACNUKF': [], 'CNUKFU': [], 'NUKFUQ': [], 'UKFUQN': [], 'KFUQNV': [], 'FUQNVJ': [], 'UQNVJH': [], 'QNVJHU': [], 'NVJHUE': [], 'VJHUEH': [], 'JHUEHV': [], 'HUEHVH': [], 'UEHVHH': [], 'EHVHHA': [292], 'HVHHAZ': [], 'VHHAZH': [], 'HHAZHA': [], 'HAZHAN': [], 'AZHANU': [], 'ZHANUF': [], 'HANUFA': [], 'ANUFAN': [], 'NUFANX': [], 'UFANXH': [], 'FANXHQ': [], 'ANXHQH': [], 'NXHQHS': [], 'XHQHSU': [], 'HQHSUN': [], 'QHSUNU': [], 'HSUNUQ': [], 'SUNUQN': [], 'UNUQNO': [], 'NUQNOB': [], 'UQNOBC': [], 'QNOBCN': [124], 'NOBCNH': [124], 'OBCNHA': [124], 'BCNHAQ': [], 'CNHAQN': [], 'NHAQNZ': [], 'HAQNZF': [], 'AQNZFQ': [], 'QNZFQH': [], 'NZFQHC': [], 'ZFQHCN': [30], 'FQHCNC': [30], 'QHCNCC': [], 'HCNCCH': [], 'CNCCHE': [], 'NCCHEJ': [], 'CCHEJZ': [313], 'CHEJZX': [], 'HEJZXB': [], 'EJZXBJ': [], 'JZXBJC': [], 'ZXBJCN': [], 'XBJCNC': [], 'BJCNCH': [], 'JCNCHZ': [], 'CNCHZN': [], 'NCHZNX': [], 'CHZNXF': [], 'HZNXFR': [], 'ZNXFRB': [], 'NXFRBZ': [], 'XFRBZE': [], 'FRBZEH': [], 'RBZEHV': [], 'BZEHVB': [], 'ZEHVBZ': [], 'EHVBZF': [], 'HVBZFQ': [], 'VBZFQH': [], 'BZFQHC': [], 'QHCNCA': [], 'HCNCAF': [], 'CNCAFZ': [], 'NCAFZH': [], 'CAFZHX': [], 'AFZHXJ': [], 'FZHXJN': [], 'ZHXJNA': [], 'HXJNAE': [], 'XJNAEN': [], 'JNAENZ': [], 'NAENZO': [], 'AENZOH': [], 'ENZOHX': [], 'NZOHXH': [], 'ZOHXHZ': [], 'OHXHZV': [], 'HXHZVH': [], 'XHZVHZ': [], 'HZVHZN': [], 'ZVHZNQ': [], 'VHZNQO': [21], 'HZNQON': [21], 'ZNQONZ': [], 'NQONZE': [], 'QONZEH': [], 'ONZEHZ': [], 'NZEHZB': [], 'ZEHZBA': [], 'EHZBAD': [], 'HZBADF': [], 'ZBADFP': [], 'BADFPJ': [], 'ADFPJH': [], 'DFPJHU': [], 'FPJHUH': [], 'PJHUHU': [], 'JHUHUV': [], 'HUHUVH': [], 'UHUVHZ': [], 'HUVHZN': [], 'UVHZNQ': [], 'ZNQONU': [], 'NQONUW': [], 'QONUWJ': [], 'ONUWJD': [], 'NUWJDH': [], 'UWJDHU': [], 'WJDHUF': [], 'JDHUFA': [], 'DHUFAQ': [], 'HUFAQF': [], 'UFAQFZ': [], 'FAQFZC': [], 'AQFZCB': [], 'QFZCBF': [], 'FZCBFZ': [], 'ZCBFZH': [], 'CBFZHZ': [], 'BFZHZC': [], 'FZHZCH': [], 'ZHZCHQ': [], 'HZCHQX': [], 'ZCHQXB': [], 'CHQXBH': [], 'HQXBHQ': [], 'QXBHQF': [], 'XBHQFV': [], 'BHQFVN': [], 'HQFVNZ': [], 'QFVNZS': [], 'FVNZSJ': [], 'VNZSJQ': [], 'NZSJQQ': [], 'ZSJQQH': [], 'SJQQHQ': [], 'JQQHQN': [], 'QQHQNO': [], 'QHQNOB': [], 'HQNOBC': [], 'BCNHAE': [], 'CNHAEJ': [], 'NHAEJZ': [], 'HAEJZX': [], 'AEJZXN': [], 'EJZXNQ': [], 'JZXNQQ': [], 'ZXNQQH': [], 'XNQQHZ': [], 'NQQHZD': [], 'QQHZDU': [], 'QHZDUH': [], 'HZDUHA': [], 'ZDUHAN': [], 'DUHANX': [], 'UHANXH': [], 'HANXHQ': [], 'ANXHQN': [], 'NXHQNM': [], 'XHQNMQ': [], 'HQNMQF': [], 'QNMQFU': [], 'NMQFUH': [], 'MQFUHA': [], 'QFUHAE': [], 'FUHAEJ': [], 'UHAEJX': [], 'HAEJXN': [], 'AEJXNV': [], 'EJXNVK': [], 'JXNVKF': [], 'XNVKFX': [], 'NVKFXF': [], 'VKFXFA': [], 'KFXFAF': [], 'FXFAFX': [], 'XFAFXH': [], 'FAFXHZ': [], 'AFXHZQ': [], 'FXHZQN': [], 'XHZQNK': [], 'HZQNKH': [], 'ZQNKHA': [], 'QNKHAN': [], 'NKHAND': [], 'KHANDH': [], 'HANDHQ': [], 'ANDHQC': [], 'NDHQCJ': [], 'DHQCJH': [], 'HQCJHQ': [], 'QCJHQF': [], 'CJHQFD': [], 'JHQFDH': [], 'HQFDHA': [], 'QFDHAE': [], 'FDHAEJ': [], 'DHAEJX': [], 'HAEJXF': [], 'UNIFAW': [], 'NIFAWN': [], 'IFAWND': [], 'FAWNDJ': [], 'AWNDJA': [], 'WNDJAS': [], 'NDJASN': [], 'DJASNB': [], 'JASNBQ': [], 'ASNBQH': [], 'SNBQHC': [], 'NBQHCF': [], 'BQHCFA': [], 'QHCFAC': [], 'HCFACH': [], 'CFACHC': [], 'FACHCN': [], 'ACHCNA': [], 'CHCNAI': [], 'HCNAIN': [], 'CNAINA': [], 'NAINAC': [], 'AINACB': [], 'INACBN': [], 'NACBNS': [], 'ACBNSQ': [], 'CBNSQF': [], 'BNSQFZ': [], 'NSQFZD': [], 'SQFZDZ': [], 'QFZDZN': [], 'FZDZNA': [], 'ZDZNAE': [], 'DZNAEF': [], 'ZNAEFZ': [], 'NAEFZD': [], 'AEFZDD': [], 'EFZDDF': [], 'FZDDFV': [], 'ZDDFVH': [], 'DDFVHH': [], 'DFVHHA': [], 'FVHHAN': [], 'VHHANV': [], 'HHANVF': [], 'HANVFU': [], 'ANVFUH': [], 'NVFUHC': [], 'VFUHCH': [], 'FUHCHQ': [], 'UHCHQN': [], 'HCHQNW': [], 'CHQNWJ': [], 'HQNWJV': [], 'QNWJVB': [], 'NWJVBQ': [], 'WJVBQC': [], 'JVBQCN': [], 'VBQCNC': [], 'BQCNCP': [], 'QCNCPJ': [], 'CNCPJH': [], 'NCPJHN': [], 'CPJHNC': [], 'PJHNCF': [], 'JHNCFU': [], 'HNCFUA': [], 'NCFUAN': [], 'CFUANE': [], 'FUANEJ': [], 'UANEJM': [], 'ANEJMU': [], 'NEJMUH': [], 'EJMUHA': [], 'JMUHAE': [], 'MUHAEH': [], 'UHAEHV': [], 'HAEHVH': [76], 'AEHVHH': [], 'HVHHAR': [], 'VHHARU': [], 'HHARUN': [], 'HARUNA': [], 'ARUNAC': [], 'RUNACH': [], 'UNACHX': [], 'NACHXB': [], 'ACHXBH': [], 'CHXBHA': [], 'HXBHAH': [], 'XBHAHQ': [74], 'BHAHQF': [], 'HAHQFU': [], 'AHQFUR': [], 'HQFURJ': [], 'QFURJQ': [], 'FURJQQ': [], 'URJQQF': [], 'RJQQFP': [], 'JQQFPJ': [], 'QQFPJH': [], 'QFPJHE': [], 'FPJHEH': [], 'PJHEHV': [], 'JHEHVK': [], 'HEHVKQ': [], 'EHVKQN': [], 'HVKQNE': [], 'VKQNEJ': [], 'KQNEJX': [], 'QNEJXN': [], 'NEJXNA': [], 'EJXNAE': [], 'JXNAEF': [], 'XNAEFV': [], 'NAEFVH': [], 'AEFVHH': [], 'EFVHHV': [], 'FVHHVS': [], 'VHHVSF': [], 'HHVSFU': [], 'HVSFUU': [], 'VSFUUN': [], 'SFUUNX': [], 'FUUNXW': [], 'UUNXWH': [], 'UNXWHH': [], 'NXWHHA': [], 'XWHHAQ': [], 'WHHAQN': [], 'HHAQNZ': [], 'HAQNZH': [], 'AQNZHC': [], 'QNZHCC': [], 'NZHCCH': [], 'ZHCCHE': [], 'HCCHEJ': [], 'CHEJZN': [], 'HEJZNA': [], 'EJZNAR': [], 'JZNARU': [], 'ARUHXN': [], 'RUHXNQ': [], 'UHXNQB': [], 'HXNQBH': [], 'XNQBHA': [], 'NQBHAE': [], 'QBHAEH': [], 'BHAEHV': [], 'AEHVHU': [], 'EHVHUH': [], 'HVHUHX': [], 'VHUHXF': [], 'HUHXFA': [], 'UHXFAF': [], 'HXFAFX': [], 'XFAFXB': [], 'FAFXBH': [], 'AFXBHA': [], 'FXBHAH': [], 'BHAHQU': [], 'HAHQUH': [], 'AHQUHM': [], 'HQUHMQ': [], 'QUHMQH': [], 'UHMQHG': [], 'HMQHGF': [], 'MQHGFC': [], 'QHGFCH': [], 'HGFCHQ': [], 'GFCHQN': [], 'FCHQNM': [], 'CHQNMJ': [], 'HQNMJH': [], 'QNMJHA': [], 'NMJHAE': [], 'MJHAEH': [], 'JHAEHC': [], 'HAEHCH': [], 'AEHCHE': [], 'EHCHEJ': [], 'HCHEJQ': [], 'CHEJQQ': [], 'HEJQQN': [], 'EJQQNA': [], 'JQQNAE': [], 'QQNAEF': [], 'QNAEFV': [], 'NAEFVN': [], 'AEFVNZ': [], 'EFVNZZ': [], 'FVNZZB': [], 'VNZZBA': [], 'NZZBAV': [], 'ZZBAVN': [], 'ZBAVNZ': [], 'BAVNZV': [], 'AVNZVH': [], 'VNZVHC': [], 'NZVHCH': [], 'ZVHCHZ': [], 'VHCHZK': [], 'HCHZKB': [], 'CHZKBC': [], 'HZKBCF': [], 'ZKBCFV': [], 'KBCFVH': [], 'BCFVHY': [], 'CFVHYB': [], 'FVHYBX': [], 'HYBXFP': [], 'YBXFPJ': [], 'BXFPJH': [], 'XFPJHU': [], 'FPJHUB': [], 'PJHUBC': [], 'JHUBCF': [], 'HUBCFW': [], 'UBCFWH': [], 'BCFWHU': [], 'CFWHUB': [], 'FWHUBC': [], 'WHUBCF': [], 'HUBCFC': [], 'UBCFCH': [], 'BCFCHZ': [], 'CFCHZN': [], 'FCHZNA': [], 'NARUHD': [], 'ARUHDC': [], 'RUHDCH': [], 'UHDCHQ': [], 'HDCHQJ': [], 'DCHQJI': [], 'CHQJIN': [], 'HQJINC': [], 'QJINCF': [], 'JINCFA': [], 'INCFAC': [], 'NCFACH': [], 'CFACHO': [], 'FACHOF': [], 'ACHOFD': [], 'CHOFDE': [], 'HOFDEH': [], 'OFDEHK': [], 'FDEHKH': [], 'DEHKHU': [], 'EHKHUZ': [], 'HKHUZB': [], 'KHUZBR': [], 'HUZBRF': [], 'UZBRFD': [], 'ZBRFDE': [], 'BRFDEH': [], 'RFDEHN': [], 'FDEHNA': [], 'DEHNAF': [], 'EHNAFU': [], 'HNAFUF': [], 'NAFUFX': [], 'AFUFXF': [], 'FUFXFV': [], 'UFXFVF': [], 'FXFVFN': [], 'XFVFNJ': [], 'FVFNJA': [], 'VFNJAN': [], 'FNJANV': [], 'NJANVB': [], 'JANVBR': [], 'ANVBRF': [], 'NVBRFP': [], 'VBRFPJ': [], 'BRFPJH': [], 'RFPJHH': [], 'FPJHHZ': [], 'PJHHZX': [], 'JHHZXF': [], 'HHZXFA': [], 'HZXFAC': [], 'ZXFACH': [], 'XFACHJ': [], 'FACHJA': [], 'ACHJAN': [], 'CHJANX': [], 'HJANXJ': [], 'JANXJA': [], 'ANXJAN': [], 'NXJANH': [], 'XJANHA': [], 'JANHAZ': [], 'ANHAZJ': [], 'NHAZJN': [], 'HAZJNE': [], 'AZJNEN': [], 'ZJNENJ': [], 'JNENJC': [], 'NENJCZ': [], 'ENJCZW': [], 'NJCZWN': [], 'JCZWNU': [], 'CZWNUB': [], 'ZWNUBM': [], 'WNUBMM': [], 'NUBMMH': [], 'UBMMHU': [], 'BMMHUA': [], 'MMHUAN': [], 'MHUANA': [], 'HUANAC': [], 'UANACH': [], 'ANACHI': [], 'NACHI': [], 'ACHI': [], 'CHI': []} \n",
            "Ordenadas por número de apariciones:\n",
            " [('HXFAEJ', [17, 21]), ('ZNARUH', [489, 94]), ('VHYBXF', [594]), ('SQHXFA', [38]), ('QHXFAE', [38]), ('JANCHZ', [65]), ('CHZNAR', [583]), ('HZNARU', [583]), ('NARUHX', [489]), ('AEJXFU', [333]), ('EJXFUN', [333]), ('JXFUNI', [333]), ('XFUNIF', [333]), ('FUNIFA', [333]), ('EHVHHA', [292]), ('QNOBCN', [124]), ('NOBCNH', [124]), ('OBCNHA', [124]), ('ZFQHCN', [30]), ('FQHCNC', [30]), ('CCHEJZ', [313]), ('VHZNQO', [21]), ('HZNQON', [21]), ('HAEHVH', [76]), ('XBHAHQ', [74]), ('HYBXFV', []), ('YBXFVN', []), ('BXFVNR', []), ('XFVNRB', []), ('FVNRBX', []), ('VNRBXF', []), ('NRBXFD', []), ('RBXFDE', []), ('BXFDEH', []), ('XFDEHU', []), ('FDEHUU', []), ('DEHUUB', []), ('EHUUBS', []), ('HUUBSQ', []), ('UUBSQH', []), ('UBSQHX', []), ('BSQHXF', []), ('XFAEJQ', []), ('FAEJQJ', []), ('AEJQJA', []), ('EJQJAN', []), ('JQJANC', []), ('QJANCH', []), ('ANCHZN', []), ('NCHZNA', []), ('ARUHXF', []), ('RUHXFA', []), ('UHXFAE', []), ('XFAEJX', []), ('FAEJXF', []), ('UNIFAB', []), ('NIFABA', []), ('IFABAC', []), ('FABACF', []), ('ABACFV', []), ('BACFVN', []), ('ACFVNS', []), ('CFVNSQ', []), ('FVNSQH', []), ('VNSQHX', []), ('NSQHXF', []), ('XFAEJN', []), ('FAEJNQ', []), ('AEJNQH', []), ('EJNQHR', []), ('JNQHRU', []), ('NQHRUB', []), ('QHRUBN', []), ('HRUBNB', []), ('RUBNBA', []), ('UBNBAO', []), ('BNBAOH', []), ('NBAOHA', []), ('BAOHAX', []), ('AOHAXB', []), ('OHAXBS', []), ('HAXBSQ', []), ('AXBSQH', []), ('XBSQHA', []), ('BSQHAF', []), ('SQHAFZ', []), ('QHAFZK', []), ('HAFZKU', []), ('AFZKUH', []), ('FZKUHZ', []), ('ZKUHZH', []), ('KUHZHA', []), ('UHZHAE', []), ('HZHAEF', []), ('ZHAEFJ', []), ('HAEFJA', []), ('AEFJAN', []), ('EFJANC', []), ('FJANCH', []), ('ANCHZK', []), ('NCHZKH', []), ('CHZKHC', []), ('HZKHCB', []), ('ZKHCBC', []), ('KHCBCN', []), ('HCBCND', []), ('CBCNDZ', []), ('BCNDZJ', []), ('CNDZJK', []), ('NDZJKH', []), ('DZJKHP', []), ('ZJKHPJ', []), ('JKHPJH', []), ('KHPJHE', []), ('HPJHEH', []), ('PJHEHP', []), ('JHEHPJ', []), ('HEHPJH', []), ('EHPJHU', []), ('HPJHUU', []), ('PJHUUB', []), ('JHUUBN', []), ('HUUBNA', []), ('UUBNAN', []), ('UBNANC', []), ('BNANCN', []), ('NANCNV', []), ('ANCNVN', []), ('NCNVNZ', []), ('CNVNZO', []), ('NVNZOH', []), ('VNZOHU', []), ('NZOHUE', []), ('ZOHUEH', []), ('OHUEHK', []), ('HUEHKJ', []), ('UEHKJH', []), ('EHKJHZ', []), ('HKJHZN', []), ('KJHZNK', []), ('JHZNKU', []), ('HZNKUH', []), ('ZNKUHA', []), ('NKUHAC', []), ('KUHACB', []), ('UHACBH', []), ('HACBHA', []), ('ACBHAC', []), ('CBHACF', []), ('BHACFN', []), ('HACFNS', []), ('ACFNSU', []), ('CFNSUB', []), ('FNSUBA', []), ('NSUBAC', []), ('SUBACN', []), ('UBACNU', []), ('BACNUK', []), ('ACNUKF', []), ('CNUKFU', []), ('NUKFUQ', []), ('UKFUQN', []), ('KFUQNV', []), ('FUQNVJ', []), ('UQNVJH', []), ('QNVJHU', []), ('NVJHUE', []), ('VJHUEH', []), ('JHUEHV', []), ('HUEHVH', []), ('UEHVHH', []), ('HVHHAZ', []), ('VHHAZH', []), ('HHAZHA', []), ('HAZHAN', []), ('AZHANU', []), ('ZHANUF', []), ('HANUFA', []), ('ANUFAN', []), ('NUFANX', []), ('UFANXH', []), ('FANXHQ', []), ('ANXHQH', []), ('NXHQHS', []), ('XHQHSU', []), ('HQHSUN', []), ('QHSUNU', []), ('HSUNUQ', []), ('SUNUQN', []), ('UNUQNO', []), ('NUQNOB', []), ('UQNOBC', []), ('BCNHAQ', []), ('CNHAQN', []), ('NHAQNZ', []), ('HAQNZF', []), ('AQNZFQ', []), ('QNZFQH', []), ('NZFQHC', []), ('QHCNCC', []), ('HCNCCH', []), ('CNCCHE', []), ('NCCHEJ', []), ('CHEJZX', []), ('HEJZXB', []), ('EJZXBJ', []), ('JZXBJC', []), ('ZXBJCN', []), ('XBJCNC', []), ('BJCNCH', []), ('JCNCHZ', []), ('CNCHZN', []), ('NCHZNX', []), ('CHZNXF', []), ('HZNXFR', []), ('ZNXFRB', []), ('NXFRBZ', []), ('XFRBZE', []), ('FRBZEH', []), ('RBZEHV', []), ('BZEHVB', []), ('ZEHVBZ', []), ('EHVBZF', []), ('HVBZFQ', []), ('VBZFQH', []), ('BZFQHC', []), ('QHCNCA', []), ('HCNCAF', []), ('CNCAFZ', []), ('NCAFZH', []), ('CAFZHX', []), ('AFZHXJ', []), ('FZHXJN', []), ('ZHXJNA', []), ('HXJNAE', []), ('XJNAEN', []), ('JNAENZ', []), ('NAENZO', []), ('AENZOH', []), ('ENZOHX', []), ('NZOHXH', []), ('ZOHXHZ', []), ('OHXHZV', []), ('HXHZVH', []), ('XHZVHZ', []), ('HZVHZN', []), ('ZVHZNQ', []), ('ZNQONZ', []), ('NQONZE', []), ('QONZEH', []), ('ONZEHZ', []), ('NZEHZB', []), ('ZEHZBA', []), ('EHZBAD', []), ('HZBADF', []), ('ZBADFP', []), ('BADFPJ', []), ('ADFPJH', []), ('DFPJHU', []), ('FPJHUH', []), ('PJHUHU', []), ('JHUHUV', []), ('HUHUVH', []), ('UHUVHZ', []), ('HUVHZN', []), ('UVHZNQ', []), ('ZNQONU', []), ('NQONUW', []), ('QONUWJ', []), ('ONUWJD', []), ('NUWJDH', []), ('UWJDHU', []), ('WJDHUF', []), ('JDHUFA', []), ('DHUFAQ', []), ('HUFAQF', []), ('UFAQFZ', []), ('FAQFZC', []), ('AQFZCB', []), ('QFZCBF', []), ('FZCBFZ', []), ('ZCBFZH', []), ('CBFZHZ', []), ('BFZHZC', []), ('FZHZCH', []), ('ZHZCHQ', []), ('HZCHQX', []), ('ZCHQXB', []), ('CHQXBH', []), ('HQXBHQ', []), ('QXBHQF', []), ('XBHQFV', []), ('BHQFVN', []), ('HQFVNZ', []), ('QFVNZS', []), ('FVNZSJ', []), ('VNZSJQ', []), ('NZSJQQ', []), ('ZSJQQH', []), ('SJQQHQ', []), ('JQQHQN', []), ('QQHQNO', []), ('QHQNOB', []), ('HQNOBC', []), ('BCNHAE', []), ('CNHAEJ', []), ('NHAEJZ', []), ('HAEJZX', []), ('AEJZXN', []), ('EJZXNQ', []), ('JZXNQQ', []), ('ZXNQQH', []), ('XNQQHZ', []), ('NQQHZD', []), ('QQHZDU', []), ('QHZDUH', []), ('HZDUHA', []), ('ZDUHAN', []), ('DUHANX', []), ('UHANXH', []), ('HANXHQ', []), ('ANXHQN', []), ('NXHQNM', []), ('XHQNMQ', []), ('HQNMQF', []), ('QNMQFU', []), ('NMQFUH', []), ('MQFUHA', []), ('QFUHAE', []), ('FUHAEJ', []), ('UHAEJX', []), ('HAEJXN', []), ('AEJXNV', []), ('EJXNVK', []), ('JXNVKF', []), ('XNVKFX', []), ('NVKFXF', []), ('VKFXFA', []), ('KFXFAF', []), ('FXFAFX', []), ('XFAFXH', []), ('FAFXHZ', []), ('AFXHZQ', []), ('FXHZQN', []), ('XHZQNK', []), ('HZQNKH', []), ('ZQNKHA', []), ('QNKHAN', []), ('NKHAND', []), ('KHANDH', []), ('HANDHQ', []), ('ANDHQC', []), ('NDHQCJ', []), ('DHQCJH', []), ('HQCJHQ', []), ('QCJHQF', []), ('CJHQFD', []), ('JHQFDH', []), ('HQFDHA', []), ('QFDHAE', []), ('FDHAEJ', []), ('DHAEJX', []), ('HAEJXF', []), ('UNIFAW', []), ('NIFAWN', []), ('IFAWND', []), ('FAWNDJ', []), ('AWNDJA', []), ('WNDJAS', []), ('NDJASN', []), ('DJASNB', []), ('JASNBQ', []), ('ASNBQH', []), ('SNBQHC', []), ('NBQHCF', []), ('BQHCFA', []), ('QHCFAC', []), ('HCFACH', []), ('CFACHC', []), ('FACHCN', []), ('ACHCNA', []), ('CHCNAI', []), ('HCNAIN', []), ('CNAINA', []), ('NAINAC', []), ('AINACB', []), ('INACBN', []), ('NACBNS', []), ('ACBNSQ', []), ('CBNSQF', []), ('BNSQFZ', []), ('NSQFZD', []), ('SQFZDZ', []), ('QFZDZN', []), ('FZDZNA', []), ('ZDZNAE', []), ('DZNAEF', []), ('ZNAEFZ', []), ('NAEFZD', []), ('AEFZDD', []), ('EFZDDF', []), ('FZDDFV', []), ('ZDDFVH', []), ('DDFVHH', []), ('DFVHHA', []), ('FVHHAN', []), ('VHHANV', []), ('HHANVF', []), ('HANVFU', []), ('ANVFUH', []), ('NVFUHC', []), ('VFUHCH', []), ('FUHCHQ', []), ('UHCHQN', []), ('HCHQNW', []), ('CHQNWJ', []), ('HQNWJV', []), ('QNWJVB', []), ('NWJVBQ', []), ('WJVBQC', []), ('JVBQCN', []), ('VBQCNC', []), ('BQCNCP', []), ('QCNCPJ', []), ('CNCPJH', []), ('NCPJHN', []), ('CPJHNC', []), ('PJHNCF', []), ('JHNCFU', []), ('HNCFUA', []), ('NCFUAN', []), ('CFUANE', []), ('FUANEJ', []), ('UANEJM', []), ('ANEJMU', []), ('NEJMUH', []), ('EJMUHA', []), ('JMUHAE', []), ('MUHAEH', []), ('UHAEHV', []), ('AEHVHH', []), ('HVHHAR', []), ('VHHARU', []), ('HHARUN', []), ('HARUNA', []), ('ARUNAC', []), ('RUNACH', []), ('UNACHX', []), ('NACHXB', []), ('ACHXBH', []), ('CHXBHA', []), ('HXBHAH', []), ('BHAHQF', []), ('HAHQFU', []), ('AHQFUR', []), ('HQFURJ', []), ('QFURJQ', []), ('FURJQQ', []), ('URJQQF', []), ('RJQQFP', []), ('JQQFPJ', []), ('QQFPJH', []), ('QFPJHE', []), ('FPJHEH', []), ('PJHEHV', []), ('JHEHVK', []), ('HEHVKQ', []), ('EHVKQN', []), ('HVKQNE', []), ('VKQNEJ', []), ('KQNEJX', []), ('QNEJXN', []), ('NEJXNA', []), ('EJXNAE', []), ('JXNAEF', []), ('XNAEFV', []), ('NAEFVH', []), ('AEFVHH', []), ('EFVHHV', []), ('FVHHVS', []), ('VHHVSF', []), ('HHVSFU', []), ('HVSFUU', []), ('VSFUUN', []), ('SFUUNX', []), ('FUUNXW', []), ('UUNXWH', []), ('UNXWHH', []), ('NXWHHA', []), ('XWHHAQ', []), ('WHHAQN', []), ('HHAQNZ', []), ('HAQNZH', []), ('AQNZHC', []), ('QNZHCC', []), ('NZHCCH', []), ('ZHCCHE', []), ('HCCHEJ', []), ('CHEJZN', []), ('HEJZNA', []), ('EJZNAR', []), ('JZNARU', []), ('ARUHXN', []), ('RUHXNQ', []), ('UHXNQB', []), ('HXNQBH', []), ('XNQBHA', []), ('NQBHAE', []), ('QBHAEH', []), ('BHAEHV', []), ('AEHVHU', []), ('EHVHUH', []), ('HVHUHX', []), ('VHUHXF', []), ('HUHXFA', []), ('UHXFAF', []), ('HXFAFX', []), ('XFAFXB', []), ('FAFXBH', []), ('AFXBHA', []), ('FXBHAH', []), ('BHAHQU', []), ('HAHQUH', []), ('AHQUHM', []), ('HQUHMQ', []), ('QUHMQH', []), ('UHMQHG', []), ('HMQHGF', []), ('MQHGFC', []), ('QHGFCH', []), ('HGFCHQ', []), ('GFCHQN', []), ('FCHQNM', []), ('CHQNMJ', []), ('HQNMJH', []), ('QNMJHA', []), ('NMJHAE', []), ('MJHAEH', []), ('JHAEHC', []), ('HAEHCH', []), ('AEHCHE', []), ('EHCHEJ', []), ('HCHEJQ', []), ('CHEJQQ', []), ('HEJQQN', []), ('EJQQNA', []), ('JQQNAE', []), ('QQNAEF', []), ('QNAEFV', []), ('NAEFVN', []), ('AEFVNZ', []), ('EFVNZZ', []), ('FVNZZB', []), ('VNZZBA', []), ('NZZBAV', []), ('ZZBAVN', []), ('ZBAVNZ', []), ('BAVNZV', []), ('AVNZVH', []), ('VNZVHC', []), ('NZVHCH', []), ('ZVHCHZ', []), ('VHCHZK', []), ('HCHZKB', []), ('CHZKBC', []), ('HZKBCF', []), ('ZKBCFV', []), ('KBCFVH', []), ('BCFVHY', []), ('CFVHYB', []), ('FVHYBX', []), ('HYBXFP', []), ('YBXFPJ', []), ('BXFPJH', []), ('XFPJHU', []), ('FPJHUB', []), ('PJHUBC', []), ('JHUBCF', []), ('HUBCFW', []), ('UBCFWH', []), ('BCFWHU', []), ('CFWHUB', []), ('FWHUBC', []), ('WHUBCF', []), ('HUBCFC', []), ('UBCFCH', []), ('BCFCHZ', []), ('CFCHZN', []), ('FCHZNA', []), ('NARUHD', []), ('ARUHDC', []), ('RUHDCH', []), ('UHDCHQ', []), ('HDCHQJ', []), ('DCHQJI', []), ('CHQJIN', []), ('HQJINC', []), ('QJINCF', []), ('JINCFA', []), ('INCFAC', []), ('NCFACH', []), ('CFACHO', []), ('FACHOF', []), ('ACHOFD', []), ('CHOFDE', []), ('HOFDEH', []), ('OFDEHK', []), ('FDEHKH', []), ('DEHKHU', []), ('EHKHUZ', []), ('HKHUZB', []), ('KHUZBR', []), ('HUZBRF', []), ('UZBRFD', []), ('ZBRFDE', []), ('BRFDEH', []), ('RFDEHN', []), ('FDEHNA', []), ('DEHNAF', []), ('EHNAFU', []), ('HNAFUF', []), ('NAFUFX', []), ('AFUFXF', []), ('FUFXFV', []), ('UFXFVF', []), ('FXFVFN', []), ('XFVFNJ', []), ('FVFNJA', []), ('VFNJAN', []), ('FNJANV', []), ('NJANVB', []), ('JANVBR', []), ('ANVBRF', []), ('NVBRFP', []), ('VBRFPJ', []), ('BRFPJH', []), ('RFPJHH', []), ('FPJHHZ', []), ('PJHHZX', []), ('JHHZXF', []), ('HHZXFA', []), ('HZXFAC', []), ('ZXFACH', []), ('XFACHJ', []), ('FACHJA', []), ('ACHJAN', []), ('CHJANX', []), ('HJANXJ', []), ('JANXJA', []), ('ANXJAN', []), ('NXJANH', []), ('XJANHA', []), ('JANHAZ', []), ('ANHAZJ', []), ('NHAZJN', []), ('HAZJNE', []), ('AZJNEN', []), ('ZJNENJ', []), ('JNENJC', []), ('NENJCZ', []), ('ENJCZW', []), ('NJCZWN', []), ('JCZWNU', []), ('CZWNUB', []), ('ZWNUBM', []), ('WNUBMM', []), ('NUBMMH', []), ('UBMMHU', []), ('BMMHUA', []), ('MMHUAN', []), ('MHUANA', []), ('HUANAC', []), ('UANACH', []), ('ANACHI', []), ('NACHI', []), ('ACHI', []), ('CHI', [])] \n",
            "\n"
          ]
        }
      ]
    },
    {
      "cell_type": "code",
      "source": [
        "fact = factorizar_distancias(dis_ordenado)\n",
        "print(\"Subcadenas encontradas con su respectiva factorización de cada distancia de cada subcandena:\")\n",
        "print(fact, \"\\n\", type(fact))\n",
        "#fact_ord = sorted(fact.items(), key=lambda x: len(x[1]), reverse=True)\n",
        "#print(fact_ord, \"\\n\", type(fact_ord))"
      ],
      "metadata": {
        "colab": {
          "base_uri": "https://localhost:8080/"
        },
        "id": "SHZRE1pM7v3C",
        "outputId": "20104139-2883-4bbc-adfc-f9bce3b81358"
      },
      "execution_count": null,
      "outputs": [
        {
          "output_type": "stream",
          "name": "stdout",
          "text": [
            "Subcadenas encontradas con su respectiva factorización de cada distancia de cada subcandena:\n",
            "{'HXFAEJ': {17: [17], 21: [3, 7]}, 'ZNARUH': {489: [3, 163], 94: [2, 47]}, 'VHYBXF': {594: [2, 3, 3, 3, 11]}, 'SQHXFA': {38: [2, 19]}, 'QHXFAE': {38: [2, 19]}, 'JANCHZ': {65: [5, 13]}, 'CHZNAR': {583: [11, 53]}, 'HZNARU': {583: [11, 53]}, 'NARUHX': {489: [3, 163]}, 'AEJXFU': {333: [3, 3, 37]}, 'EJXFUN': {333: [3, 3, 37]}, 'JXFUNI': {333: [3, 3, 37]}, 'XFUNIF': {333: [3, 3, 37]}, 'FUNIFA': {333: [3, 3, 37]}, 'EHVHHA': {292: [2, 2, 73]}, 'QNOBCN': {124: [2, 2, 31]}, 'NOBCNH': {124: [2, 2, 31]}, 'OBCNHA': {124: [2, 2, 31]}, 'ZFQHCN': {30: [2, 3, 5]}, 'FQHCNC': {30: [2, 3, 5]}, 'CCHEJZ': {313: [313]}, 'VHZNQO': {21: [3, 7]}, 'HZNQON': {21: [3, 7]}, 'HAEHVH': {76: [2, 2, 19]}, 'XBHAHQ': {74: [2, 37]}, 'HYBXFV': {}, 'YBXFVN': {}, 'BXFVNR': {}, 'XFVNRB': {}, 'FVNRBX': {}, 'VNRBXF': {}, 'NRBXFD': {}, 'RBXFDE': {}, 'BXFDEH': {}, 'XFDEHU': {}, 'FDEHUU': {}, 'DEHUUB': {}, 'EHUUBS': {}, 'HUUBSQ': {}, 'UUBSQH': {}, 'UBSQHX': {}, 'BSQHXF': {}, 'XFAEJQ': {}, 'FAEJQJ': {}, 'AEJQJA': {}, 'EJQJAN': {}, 'JQJANC': {}, 'QJANCH': {}, 'ANCHZN': {}, 'NCHZNA': {}, 'ARUHXF': {}, 'RUHXFA': {}, 'UHXFAE': {}, 'XFAEJX': {}, 'FAEJXF': {}, 'UNIFAB': {}, 'NIFABA': {}, 'IFABAC': {}, 'FABACF': {}, 'ABACFV': {}, 'BACFVN': {}, 'ACFVNS': {}, 'CFVNSQ': {}, 'FVNSQH': {}, 'VNSQHX': {}, 'NSQHXF': {}, 'XFAEJN': {}, 'FAEJNQ': {}, 'AEJNQH': {}, 'EJNQHR': {}, 'JNQHRU': {}, 'NQHRUB': {}, 'QHRUBN': {}, 'HRUBNB': {}, 'RUBNBA': {}, 'UBNBAO': {}, 'BNBAOH': {}, 'NBAOHA': {}, 'BAOHAX': {}, 'AOHAXB': {}, 'OHAXBS': {}, 'HAXBSQ': {}, 'AXBSQH': {}, 'XBSQHA': {}, 'BSQHAF': {}, 'SQHAFZ': {}, 'QHAFZK': {}, 'HAFZKU': {}, 'AFZKUH': {}, 'FZKUHZ': {}, 'ZKUHZH': {}, 'KUHZHA': {}, 'UHZHAE': {}, 'HZHAEF': {}, 'ZHAEFJ': {}, 'HAEFJA': {}, 'AEFJAN': {}, 'EFJANC': {}, 'FJANCH': {}, 'ANCHZK': {}, 'NCHZKH': {}, 'CHZKHC': {}, 'HZKHCB': {}, 'ZKHCBC': {}, 'KHCBCN': {}, 'HCBCND': {}, 'CBCNDZ': {}, 'BCNDZJ': {}, 'CNDZJK': {}, 'NDZJKH': {}, 'DZJKHP': {}, 'ZJKHPJ': {}, 'JKHPJH': {}, 'KHPJHE': {}, 'HPJHEH': {}, 'PJHEHP': {}, 'JHEHPJ': {}, 'HEHPJH': {}, 'EHPJHU': {}, 'HPJHUU': {}, 'PJHUUB': {}, 'JHUUBN': {}, 'HUUBNA': {}, 'UUBNAN': {}, 'UBNANC': {}, 'BNANCN': {}, 'NANCNV': {}, 'ANCNVN': {}, 'NCNVNZ': {}, 'CNVNZO': {}, 'NVNZOH': {}, 'VNZOHU': {}, 'NZOHUE': {}, 'ZOHUEH': {}, 'OHUEHK': {}, 'HUEHKJ': {}, 'UEHKJH': {}, 'EHKJHZ': {}, 'HKJHZN': {}, 'KJHZNK': {}, 'JHZNKU': {}, 'HZNKUH': {}, 'ZNKUHA': {}, 'NKUHAC': {}, 'KUHACB': {}, 'UHACBH': {}, 'HACBHA': {}, 'ACBHAC': {}, 'CBHACF': {}, 'BHACFN': {}, 'HACFNS': {}, 'ACFNSU': {}, 'CFNSUB': {}, 'FNSUBA': {}, 'NSUBAC': {}, 'SUBACN': {}, 'UBACNU': {}, 'BACNUK': {}, 'ACNUKF': {}, 'CNUKFU': {}, 'NUKFUQ': {}, 'UKFUQN': {}, 'KFUQNV': {}, 'FUQNVJ': {}, 'UQNVJH': {}, 'QNVJHU': {}, 'NVJHUE': {}, 'VJHUEH': {}, 'JHUEHV': {}, 'HUEHVH': {}, 'UEHVHH': {}, 'HVHHAZ': {}, 'VHHAZH': {}, 'HHAZHA': {}, 'HAZHAN': {}, 'AZHANU': {}, 'ZHANUF': {}, 'HANUFA': {}, 'ANUFAN': {}, 'NUFANX': {}, 'UFANXH': {}, 'FANXHQ': {}, 'ANXHQH': {}, 'NXHQHS': {}, 'XHQHSU': {}, 'HQHSUN': {}, 'QHSUNU': {}, 'HSUNUQ': {}, 'SUNUQN': {}, 'UNUQNO': {}, 'NUQNOB': {}, 'UQNOBC': {}, 'BCNHAQ': {}, 'CNHAQN': {}, 'NHAQNZ': {}, 'HAQNZF': {}, 'AQNZFQ': {}, 'QNZFQH': {}, 'NZFQHC': {}, 'QHCNCC': {}, 'HCNCCH': {}, 'CNCCHE': {}, 'NCCHEJ': {}, 'CHEJZX': {}, 'HEJZXB': {}, 'EJZXBJ': {}, 'JZXBJC': {}, 'ZXBJCN': {}, 'XBJCNC': {}, 'BJCNCH': {}, 'JCNCHZ': {}, 'CNCHZN': {}, 'NCHZNX': {}, 'CHZNXF': {}, 'HZNXFR': {}, 'ZNXFRB': {}, 'NXFRBZ': {}, 'XFRBZE': {}, 'FRBZEH': {}, 'RBZEHV': {}, 'BZEHVB': {}, 'ZEHVBZ': {}, 'EHVBZF': {}, 'HVBZFQ': {}, 'VBZFQH': {}, 'BZFQHC': {}, 'QHCNCA': {}, 'HCNCAF': {}, 'CNCAFZ': {}, 'NCAFZH': {}, 'CAFZHX': {}, 'AFZHXJ': {}, 'FZHXJN': {}, 'ZHXJNA': {}, 'HXJNAE': {}, 'XJNAEN': {}, 'JNAENZ': {}, 'NAENZO': {}, 'AENZOH': {}, 'ENZOHX': {}, 'NZOHXH': {}, 'ZOHXHZ': {}, 'OHXHZV': {}, 'HXHZVH': {}, 'XHZVHZ': {}, 'HZVHZN': {}, 'ZVHZNQ': {}, 'ZNQONZ': {}, 'NQONZE': {}, 'QONZEH': {}, 'ONZEHZ': {}, 'NZEHZB': {}, 'ZEHZBA': {}, 'EHZBAD': {}, 'HZBADF': {}, 'ZBADFP': {}, 'BADFPJ': {}, 'ADFPJH': {}, 'DFPJHU': {}, 'FPJHUH': {}, 'PJHUHU': {}, 'JHUHUV': {}, 'HUHUVH': {}, 'UHUVHZ': {}, 'HUVHZN': {}, 'UVHZNQ': {}, 'ZNQONU': {}, 'NQONUW': {}, 'QONUWJ': {}, 'ONUWJD': {}, 'NUWJDH': {}, 'UWJDHU': {}, 'WJDHUF': {}, 'JDHUFA': {}, 'DHUFAQ': {}, 'HUFAQF': {}, 'UFAQFZ': {}, 'FAQFZC': {}, 'AQFZCB': {}, 'QFZCBF': {}, 'FZCBFZ': {}, 'ZCBFZH': {}, 'CBFZHZ': {}, 'BFZHZC': {}, 'FZHZCH': {}, 'ZHZCHQ': {}, 'HZCHQX': {}, 'ZCHQXB': {}, 'CHQXBH': {}, 'HQXBHQ': {}, 'QXBHQF': {}, 'XBHQFV': {}, 'BHQFVN': {}, 'HQFVNZ': {}, 'QFVNZS': {}, 'FVNZSJ': {}, 'VNZSJQ': {}, 'NZSJQQ': {}, 'ZSJQQH': {}, 'SJQQHQ': {}, 'JQQHQN': {}, 'QQHQNO': {}, 'QHQNOB': {}, 'HQNOBC': {}, 'BCNHAE': {}, 'CNHAEJ': {}, 'NHAEJZ': {}, 'HAEJZX': {}, 'AEJZXN': {}, 'EJZXNQ': {}, 'JZXNQQ': {}, 'ZXNQQH': {}, 'XNQQHZ': {}, 'NQQHZD': {}, 'QQHZDU': {}, 'QHZDUH': {}, 'HZDUHA': {}, 'ZDUHAN': {}, 'DUHANX': {}, 'UHANXH': {}, 'HANXHQ': {}, 'ANXHQN': {}, 'NXHQNM': {}, 'XHQNMQ': {}, 'HQNMQF': {}, 'QNMQFU': {}, 'NMQFUH': {}, 'MQFUHA': {}, 'QFUHAE': {}, 'FUHAEJ': {}, 'UHAEJX': {}, 'HAEJXN': {}, 'AEJXNV': {}, 'EJXNVK': {}, 'JXNVKF': {}, 'XNVKFX': {}, 'NVKFXF': {}, 'VKFXFA': {}, 'KFXFAF': {}, 'FXFAFX': {}, 'XFAFXH': {}, 'FAFXHZ': {}, 'AFXHZQ': {}, 'FXHZQN': {}, 'XHZQNK': {}, 'HZQNKH': {}, 'ZQNKHA': {}, 'QNKHAN': {}, 'NKHAND': {}, 'KHANDH': {}, 'HANDHQ': {}, 'ANDHQC': {}, 'NDHQCJ': {}, 'DHQCJH': {}, 'HQCJHQ': {}, 'QCJHQF': {}, 'CJHQFD': {}, 'JHQFDH': {}, 'HQFDHA': {}, 'QFDHAE': {}, 'FDHAEJ': {}, 'DHAEJX': {}, 'HAEJXF': {}, 'UNIFAW': {}, 'NIFAWN': {}, 'IFAWND': {}, 'FAWNDJ': {}, 'AWNDJA': {}, 'WNDJAS': {}, 'NDJASN': {}, 'DJASNB': {}, 'JASNBQ': {}, 'ASNBQH': {}, 'SNBQHC': {}, 'NBQHCF': {}, 'BQHCFA': {}, 'QHCFAC': {}, 'HCFACH': {}, 'CFACHC': {}, 'FACHCN': {}, 'ACHCNA': {}, 'CHCNAI': {}, 'HCNAIN': {}, 'CNAINA': {}, 'NAINAC': {}, 'AINACB': {}, 'INACBN': {}, 'NACBNS': {}, 'ACBNSQ': {}, 'CBNSQF': {}, 'BNSQFZ': {}, 'NSQFZD': {}, 'SQFZDZ': {}, 'QFZDZN': {}, 'FZDZNA': {}, 'ZDZNAE': {}, 'DZNAEF': {}, 'ZNAEFZ': {}, 'NAEFZD': {}, 'AEFZDD': {}, 'EFZDDF': {}, 'FZDDFV': {}, 'ZDDFVH': {}, 'DDFVHH': {}, 'DFVHHA': {}, 'FVHHAN': {}, 'VHHANV': {}, 'HHANVF': {}, 'HANVFU': {}, 'ANVFUH': {}, 'NVFUHC': {}, 'VFUHCH': {}, 'FUHCHQ': {}, 'UHCHQN': {}, 'HCHQNW': {}, 'CHQNWJ': {}, 'HQNWJV': {}, 'QNWJVB': {}, 'NWJVBQ': {}, 'WJVBQC': {}, 'JVBQCN': {}, 'VBQCNC': {}, 'BQCNCP': {}, 'QCNCPJ': {}, 'CNCPJH': {}, 'NCPJHN': {}, 'CPJHNC': {}, 'PJHNCF': {}, 'JHNCFU': {}, 'HNCFUA': {}, 'NCFUAN': {}, 'CFUANE': {}, 'FUANEJ': {}, 'UANEJM': {}, 'ANEJMU': {}, 'NEJMUH': {}, 'EJMUHA': {}, 'JMUHAE': {}, 'MUHAEH': {}, 'UHAEHV': {}, 'AEHVHH': {}, 'HVHHAR': {}, 'VHHARU': {}, 'HHARUN': {}, 'HARUNA': {}, 'ARUNAC': {}, 'RUNACH': {}, 'UNACHX': {}, 'NACHXB': {}, 'ACHXBH': {}, 'CHXBHA': {}, 'HXBHAH': {}, 'BHAHQF': {}, 'HAHQFU': {}, 'AHQFUR': {}, 'HQFURJ': {}, 'QFURJQ': {}, 'FURJQQ': {}, 'URJQQF': {}, 'RJQQFP': {}, 'JQQFPJ': {}, 'QQFPJH': {}, 'QFPJHE': {}, 'FPJHEH': {}, 'PJHEHV': {}, 'JHEHVK': {}, 'HEHVKQ': {}, 'EHVKQN': {}, 'HVKQNE': {}, 'VKQNEJ': {}, 'KQNEJX': {}, 'QNEJXN': {}, 'NEJXNA': {}, 'EJXNAE': {}, 'JXNAEF': {}, 'XNAEFV': {}, 'NAEFVH': {}, 'AEFVHH': {}, 'EFVHHV': {}, 'FVHHVS': {}, 'VHHVSF': {}, 'HHVSFU': {}, 'HVSFUU': {}, 'VSFUUN': {}, 'SFUUNX': {}, 'FUUNXW': {}, 'UUNXWH': {}, 'UNXWHH': {}, 'NXWHHA': {}, 'XWHHAQ': {}, 'WHHAQN': {}, 'HHAQNZ': {}, 'HAQNZH': {}, 'AQNZHC': {}, 'QNZHCC': {}, 'NZHCCH': {}, 'ZHCCHE': {}, 'HCCHEJ': {}, 'CHEJZN': {}, 'HEJZNA': {}, 'EJZNAR': {}, 'JZNARU': {}, 'ARUHXN': {}, 'RUHXNQ': {}, 'UHXNQB': {}, 'HXNQBH': {}, 'XNQBHA': {}, 'NQBHAE': {}, 'QBHAEH': {}, 'BHAEHV': {}, 'AEHVHU': {}, 'EHVHUH': {}, 'HVHUHX': {}, 'VHUHXF': {}, 'HUHXFA': {}, 'UHXFAF': {}, 'HXFAFX': {}, 'XFAFXB': {}, 'FAFXBH': {}, 'AFXBHA': {}, 'FXBHAH': {}, 'BHAHQU': {}, 'HAHQUH': {}, 'AHQUHM': {}, 'HQUHMQ': {}, 'QUHMQH': {}, 'UHMQHG': {}, 'HMQHGF': {}, 'MQHGFC': {}, 'QHGFCH': {}, 'HGFCHQ': {}, 'GFCHQN': {}, 'FCHQNM': {}, 'CHQNMJ': {}, 'HQNMJH': {}, 'QNMJHA': {}, 'NMJHAE': {}, 'MJHAEH': {}, 'JHAEHC': {}, 'HAEHCH': {}, 'AEHCHE': {}, 'EHCHEJ': {}, 'HCHEJQ': {}, 'CHEJQQ': {}, 'HEJQQN': {}, 'EJQQNA': {}, 'JQQNAE': {}, 'QQNAEF': {}, 'QNAEFV': {}, 'NAEFVN': {}, 'AEFVNZ': {}, 'EFVNZZ': {}, 'FVNZZB': {}, 'VNZZBA': {}, 'NZZBAV': {}, 'ZZBAVN': {}, 'ZBAVNZ': {}, 'BAVNZV': {}, 'AVNZVH': {}, 'VNZVHC': {}, 'NZVHCH': {}, 'ZVHCHZ': {}, 'VHCHZK': {}, 'HCHZKB': {}, 'CHZKBC': {}, 'HZKBCF': {}, 'ZKBCFV': {}, 'KBCFVH': {}, 'BCFVHY': {}, 'CFVHYB': {}, 'FVHYBX': {}, 'HYBXFP': {}, 'YBXFPJ': {}, 'BXFPJH': {}, 'XFPJHU': {}, 'FPJHUB': {}, 'PJHUBC': {}, 'JHUBCF': {}, 'HUBCFW': {}, 'UBCFWH': {}, 'BCFWHU': {}, 'CFWHUB': {}, 'FWHUBC': {}, 'WHUBCF': {}, 'HUBCFC': {}, 'UBCFCH': {}, 'BCFCHZ': {}, 'CFCHZN': {}, 'FCHZNA': {}, 'NARUHD': {}, 'ARUHDC': {}, 'RUHDCH': {}, 'UHDCHQ': {}, 'HDCHQJ': {}, 'DCHQJI': {}, 'CHQJIN': {}, 'HQJINC': {}, 'QJINCF': {}, 'JINCFA': {}, 'INCFAC': {}, 'NCFACH': {}, 'CFACHO': {}, 'FACHOF': {}, 'ACHOFD': {}, 'CHOFDE': {}, 'HOFDEH': {}, 'OFDEHK': {}, 'FDEHKH': {}, 'DEHKHU': {}, 'EHKHUZ': {}, 'HKHUZB': {}, 'KHUZBR': {}, 'HUZBRF': {}, 'UZBRFD': {}, 'ZBRFDE': {}, 'BRFDEH': {}, 'RFDEHN': {}, 'FDEHNA': {}, 'DEHNAF': {}, 'EHNAFU': {}, 'HNAFUF': {}, 'NAFUFX': {}, 'AFUFXF': {}, 'FUFXFV': {}, 'UFXFVF': {}, 'FXFVFN': {}, 'XFVFNJ': {}, 'FVFNJA': {}, 'VFNJAN': {}, 'FNJANV': {}, 'NJANVB': {}, 'JANVBR': {}, 'ANVBRF': {}, 'NVBRFP': {}, 'VBRFPJ': {}, 'BRFPJH': {}, 'RFPJHH': {}, 'FPJHHZ': {}, 'PJHHZX': {}, 'JHHZXF': {}, 'HHZXFA': {}, 'HZXFAC': {}, 'ZXFACH': {}, 'XFACHJ': {}, 'FACHJA': {}, 'ACHJAN': {}, 'CHJANX': {}, 'HJANXJ': {}, 'JANXJA': {}, 'ANXJAN': {}, 'NXJANH': {}, 'XJANHA': {}, 'JANHAZ': {}, 'ANHAZJ': {}, 'NHAZJN': {}, 'HAZJNE': {}, 'AZJNEN': {}, 'ZJNENJ': {}, 'JNENJC': {}, 'NENJCZ': {}, 'ENJCZW': {}, 'NJCZWN': {}, 'JCZWNU': {}, 'CZWNUB': {}, 'ZWNUBM': {}, 'WNUBMM': {}, 'NUBMMH': {}, 'UBMMHU': {}, 'BMMHUA': {}, 'MMHUAN': {}, 'MHUANA': {}, 'HUANAC': {}, 'UANACH': {}, 'ANACHI': {}, 'NACHI': {}, 'ACHI': {}, 'CHI': {}} \n",
            " <class 'dict'>\n"
          ]
        }
      ]
    },
    {
      "cell_type": "code",
      "source": [
        "\n",
        "porcentaje_min = 15\n",
        "num_factores = 2\n",
        "print(f\"Patron con {num_factores} factores que aparece en la factorización con el {porcentaje_min}%:\")\n",
        "buscar_patrones(fact,porcentaje_min,num_factores)"
      ],
      "metadata": {
        "colab": {
          "base_uri": "https://localhost:8080/"
        },
        "id": "mMfiRbOK8CSa",
        "outputId": "d8ad39cc-26c4-4f4d-fa60-fa3ed730a8a9"
      },
      "execution_count": null,
      "outputs": [
        {
          "output_type": "stream",
          "name": "stdout",
          "text": [
            "Patron con 2 factores que aparece en la factorización con el 15%:\n"
          ]
        },
        {
          "output_type": "execute_result",
          "data": {
            "text/plain": [
              "{2: 49.361702127659576,\n",
              " 3: 38.72340425531915,\n",
              " (2, 2): 34.8936170212766,\n",
              " (2, 3): 19.148936170212767,\n",
              " 5: 17.4468085106383,\n",
              " 7: 19.148936170212767,\n",
              " (3, 3): 22.127659574468083}"
            ]
          },
          "metadata": {},
          "execution_count": 61
        }
      ]
    },
    {
      "cell_type": "markdown",
      "source": [
        "Patron con 2 factores que aparece en la factorización con el 15% EN SUBCADENAS DE 4:\n",
        "\n",
        "{3: 42.15686274509804,\n",
        "\n",
        " 7: 19.607843137254903,\n",
        "\n",
        " 2: 47.05882352941176,\n",
        "\n",
        " (2, 2): 21.568627450980394,\n",
        "\n",
        " (2, 3): 18.627450980392158,\n",
        "\n",
        " (3, 3): 20.588235294117645}"
      ],
      "metadata": {
        "id": "O_levAJw9sKb"
      }
    },
    {
      "cell_type": "markdown",
      "source": [
        "https://www.dcode.fr/cifrado-vigenere\n",
        "315 page"
      ],
      "metadata": {
        "id": "kDS6WhhHPCGh"
      }
    },
    {
      "cell_type": "code",
      "source": [
        "import string\n",
        "\n",
        "def freq_dist(string_input):\n",
        "    freq = dict.fromkeys(string.ascii_uppercase, 0)  # diccionario con todas las letras del alfabeto con un valor inicial de cero\n",
        "    length = len(string_input)\n",
        "    for letter in string_input.upper():\n",
        "        if letter in freq:  # solo actualizar si la letra está en el diccionario de frecuencias\n",
        "            freq[letter] += 1\n",
        "    freq_sorted = {k: v for k, v in sorted(freq.items(), key=lambda item: item[1], reverse=True)}\n",
        "    for key, value in freq_sorted.items():\n",
        "        freq_sorted[key] = [value, round(value/length*100, 2)]\n",
        "    return freq_sorted\n",
        "\n",
        "freq2 = freq_dist(t)\n",
        "\n",
        "print(\"|       COLUMNA        |\\n|----------------------|\\n| Letra | Frec |   %   |\")\n",
        "print(\"|----------------------|\")\n",
        "for letter, info in freq2.items():\n",
        "    print(f\"|   {letter}   | {info[0]}   | {info[1]}%|\")\n",
        "print(\"|----------------------|\")"
      ],
      "metadata": {
        "colab": {
          "base_uri": "https://localhost:8080/"
        },
        "id": "0dBMjE4V1Wiz",
        "outputId": "b21e5681-a6f7-41ed-bd8e-33988afee281"
      },
      "execution_count": null,
      "outputs": [
        {
          "output_type": "stream",
          "name": "stdout",
          "text": [
            "|       COLUMNA        |\n",
            "|----------------------|\n",
            "| Letra | Frec |   %   |\n",
            "|----------------------|\n",
            "|   H   | 111   | 13.11%|\n",
            "|   N   | 76   | 8.97%|\n",
            "|   A   | 61   | 7.2%|\n",
            "|   F   | 56   | 6.61%|\n",
            "|   C   | 45   | 5.31%|\n",
            "|   Q   | 42   | 4.96%|\n",
            "|   U   | 41   | 4.84%|\n",
            "|   Z   | 41   | 4.84%|\n",
            "|   J   | 38   | 4.49%|\n",
            "|   B   | 33   | 3.9%|\n",
            "|   E   | 29   | 3.42%|\n",
            "|   X   | 29   | 3.42%|\n",
            "|   V   | 25   | 2.95%|\n",
            "|   D   | 14   | 1.65%|\n",
            "|   K   | 11   | 1.3%|\n",
            "|   R   | 10   | 1.18%|\n",
            "|   S   | 9   | 1.06%|\n",
            "|   O   | 8   | 0.94%|\n",
            "|   P   | 7   | 0.83%|\n",
            "|   M   | 6   | 0.71%|\n",
            "|   W   | 6   | 0.71%|\n",
            "|   I   | 5   | 0.59%|\n",
            "|   Y   | 2   | 0.24%|\n",
            "|   G   | 1   | 0.12%|\n",
            "|   L   | 0   | 0.0%|\n",
            "|   T   | 0   | 0.0%|\n",
            "|----------------------|\n"
          ]
        }
      ]
    },
    {
      "cell_type": "code",
      "source": [
        "crip2_respaldo = \"VHYBXFVNRBXFDEHUUBSQHXFAEJQJANCHZNARUHXFAEJXFUNIFABACFVNSQHXFAEJNQHRUBNBAOHAXBSQHAFZKUHZHAEFJANCHZKHCBCNDZJKHPJHEHPJHUUBNANCNVNZOHUEHKJHZNKUHACBHACFNSUBACNUKFUQNVJHUEHVHHAZHANUFANXHQHSUNUQNOBCNHAQNZFQHCNCCHEJZXBJCNCHZNXFRBZEHVBZFQHCNCAFZHXJNAENZOHXHZVHZNQONZEHZBADFPJHUHUVHZNQONUWJDHUFAQFZCBFZHZCHQXBHQFVNZSJQQHQNOBCNHAEJZXNQQHZDUHANXHQNMQFUHAEJXNVKFXFAFXHZQNKHANDHQCJHQFDHAEJXFUNIFAWNDJASNBQHCFACHCNAINACBNSQFZDZNAEFZDDFVHHANVFUHCHQNWJVBQCNCPJHNCFUANEJMUHAEHVHHARUNACHXBHAHQFURJQQFPJHEHVKQNEJXNAEFVHHVSFUUNXWHHAQNZHCCHEJZNARUHXNQBHAEHVHUHXFAFXBHAHQUHMQHGFCHQNMJHAEHCHEJQQNAEFVNZZBAVNZVHCHZKBCFVHYBXFPJHUBCFWHUBCFCHZNARUHDCHQJINCFACHOFDEHKHUZBRFDEHNAFUFXFVFNJANVBRFPJHHZXFACHJANXJANHAZJNENJCZWNUBMMHUANACHI\"\n",
        "freq2 = freq_dist(t)\n",
        "\n",
        "print(\"|       COLUMNA        |\\n|----------------------|\\n| Letra | Frec |   %   |\")\n",
        "print(\"|----------------------|\")\n",
        "for letter, info in freq2.items():\n",
        "    print(f\"|   {letter}   | {info[0]}   | {info[1]}%|\")\n",
        "print(\"|----------------------|\")"
      ],
      "metadata": {
        "colab": {
          "base_uri": "https://localhost:8080/"
        },
        "id": "qE1mp32a1wK7",
        "outputId": "d0e3814d-7698-4fd3-d8a9-6bd6cbfc4deb"
      },
      "execution_count": null,
      "outputs": [
        {
          "output_type": "stream",
          "name": "stdout",
          "text": [
            "|       COLUMNA        |\n",
            "|----------------------|\n",
            "| Letra | Frec |   %   |\n",
            "|----------------------|\n",
            "|   H   | 111   | 13.11%|\n",
            "|   N   | 76   | 8.97%|\n",
            "|   A   | 61   | 7.2%|\n",
            "|   F   | 56   | 6.61%|\n",
            "|   C   | 45   | 5.31%|\n",
            "|   Q   | 42   | 4.96%|\n",
            "|   U   | 41   | 4.84%|\n",
            "|   Z   | 41   | 4.84%|\n",
            "|   J   | 38   | 4.49%|\n",
            "|   B   | 33   | 3.9%|\n",
            "|   E   | 29   | 3.42%|\n",
            "|   X   | 29   | 3.42%|\n",
            "|   V   | 25   | 2.95%|\n",
            "|   D   | 14   | 1.65%|\n",
            "|   K   | 11   | 1.3%|\n",
            "|   R   | 10   | 1.18%|\n",
            "|   S   | 9   | 1.06%|\n",
            "|   O   | 8   | 0.94%|\n",
            "|   P   | 7   | 0.83%|\n",
            "|   M   | 6   | 0.71%|\n",
            "|   W   | 6   | 0.71%|\n",
            "|   I   | 5   | 0.59%|\n",
            "|   Y   | 2   | 0.24%|\n",
            "|   G   | 1   | 0.12%|\n",
            "|   L   | 0   | 0.0%|\n",
            "|   T   | 0   | 0.0%|\n",
            "|----------------------|\n"
          ]
        }
      ]
    },
    {
      "cell_type": "code",
      "source": [
        "Nuestro objetivo principal es ent primero identificar a las vocales, la q es un obj secundario\n",
        "\n",
        "necesitamos conocer los contactos de cada letra y luego la frecuencia con la que cada letra hace contacto con otra."
      ],
      "metadata": {
        "id": "S12GFlY_139u"
      },
      "execution_count": null,
      "outputs": []
    },
    {
      "cell_type": "code",
      "source": [
        "t = \"VHYBX FVNRB XFDEH UUBSQ HXFAE JQJAN CHZNA RUHXF AEJXF UNIFA BACFV NSQHX FAEJN QHRUB NBAOH AXBSQ HAFZK UHZHA EFJAN CHZKH CBCND ZJKHP JHEHP JHUUB NANCN VNZOH UEHKJ HZNKU HACBH ACFNS UBACN UKFUQ NVJHU EHVHH AZHAN UFANX HQHSU NUQNO BCNHA QNZFQ HCNCC HEJZX BJCNC HZNXF RBZEH VBZFQ HCNCA FZHXJ NAENZ OHXHZ VHZNQ ONZEH ZBADF PJHUH UVHZN QONUW JDHUF AQFZC BFZHZ CHQXB HQFVN ZSJQQ HQNOB CNHAE JZXNQ QHZDU HANXH QNMQF UHAEJ XNVKF XFAFX HZQNK HANDH QCJHQ FDHAE JXFUN IFAWN DJASN BQHCF ACHCN AINAC BNSQF ZDZNA EFZDD FVHHA NVFUH CHQNW JVBQC NCPJH NCFUA NEJMU HAEHV HHARU NACHX BHAHQ FURJQ QFPJH EHVKQ NEJXN AEFVH HVSFU UNXWH HAQNZ HCCHE JZNAR UHXNQ BHAEH VHUHX FAFXB HAHQU HMQHG FCHQN MJHAE HCHEJ QQNAE FVNZZ BAVNZ VHCHZ KBCFV HYBXF PJHUB CFWHU BCFCH ZNARU HDCHQ JINCF ACHOF DEHKH UZBRF DEHNA FUFXF VFNJA NVBRF PJHHZ XFACH JANXJ ANHAZ JNENJ CZWNU BMMHU ANACH I\"\n",
        "#crip2_respaldo = crip2_respaldo.replace('A', 'c')\n",
        "#t = t.replace('H', 'e')\n",
        "print(t)"
      ],
      "metadata": {
        "colab": {
          "base_uri": "https://localhost:8080/"
        },
        "id": "VTmguAm00sMB",
        "outputId": "30b522b6-1763-498f-a5de-c4daf67f8312"
      },
      "execution_count": null,
      "outputs": [
        {
          "output_type": "stream",
          "name": "stdout",
          "text": [
            "VHYBX FVNRB XFDEH UUBSQ HXFAE JQJAN CHZNA RUHXF AEJXF UNIFA BACFV NSQHX FAEJN QHRUB NBAOH AXBSQ HAFZK UHZHA EFJAN CHZKH CBCND ZJKHP JHEHP JHUUB NANCN VNZOH UEHKJ HZNKU HACBH ACFNS UBACN UKFUQ NVJHU EHVHH AZHAN UFANX HQHSU NUQNO BCNHA QNZFQ HCNCC HEJZX BJCNC HZNXF RBZEH VBZFQ HCNCA FZHXJ NAENZ OHXHZ VHZNQ ONZEH ZBADF PJHUH UVHZN QONUW JDHUF AQFZC BFZHZ CHQXB HQFVN ZSJQQ HQNOB CNHAE JZXNQ QHZDU HANXH QNMQF UHAEJ XNVKF XFAFX HZQNK HANDH QCJHQ FDHAE JXFUN IFAWN DJASN BQHCF ACHCN AINAC BNSQF ZDZNA EFZDD FVHHA NVFUH CHQNW JVBQC NCPJH NCFUA NEJMU HAEHV HHARU NACHX BHAHQ FURJQ QFPJH EHVKQ NEJXN AEFVH HVSFU UNXWH HAQNZ HCCHE JZNAR UHXNQ BHAEH VHUHX FAFXB HAHQU HMQHG FCHQN MJHAE HCHEJ QQNAE FVNZZ BAVNZ VHCHZ KBCFV HYBXF PJHUB CFWHU BCFCH ZNARU HDCHQ JINCF ACHOF DEHKH UZBRF DEHNA FUFXF VFNJA NVBRF PJHHZ XFACH JANXJ ANHAZ JNENJ CZWNU BMMHU ANACH I\n"
          ]
        }
      ]
    },
    {
      "cell_type": "code",
      "source": [
        "texto = t\n",
        "alfabeto = \"abcdefghijklmnopqrstuvwxyz\".upper()\n",
        "\n",
        "# Crear diccionario para almacenar los contactos antecesores y sucesores\n",
        "contactos = {letra: [set(), set()] for letra in alfabeto}\n",
        "\n",
        "# Iterar sobre el texto y agregar contactos antecesores y sucesores\n",
        "for i in range(len(texto)):\n",
        "    if texto[i] in alfabeto:\n",
        "        if i > 0 and texto[i-1] in alfabeto:\n",
        "            contactos[texto[i]][0].add(texto[i-1])\n",
        "        if i < len(texto) - 1 and texto[i+1] in alfabeto:\n",
        "            contactos[texto[i]][1].add(texto[i+1])\n",
        "\n",
        "# Crear diccionario para contar la frecuencia de contactos\n",
        "frecuencias = {}\n",
        "for i in range(len(texto)-1):\n",
        "    if texto[i] in alfabeto and texto[i+1] in alfabeto:\n",
        "        par = texto[i:i+2]\n",
        "        frecuencias[par] = frecuencias.get(par, 0) + 1\n",
        "\n",
        "# Mostrar resultados\n",
        "for letra in alfabeto:\n",
        "    print(f\"Letra {letra}:\")\n",
        "    print(f\"Contactos antecesores: {list(contactos[letra][0])}\")\n",
        "    print(f\"Contactos sucesores: {list(contactos[letra][1])}\")\n",
        "    print(\"Frecuencia de contactos:\")\n",
        "    for letra2 in alfabeto:\n",
        "        par = letra + letra2\n",
        "        if par in frecuencias:\n",
        "            print(f\"{letra2}: {frecuencias[par]}\")\n",
        "    print(\"---------------------\")\n"
      ],
      "metadata": {
        "colab": {
          "base_uri": "https://localhost:8080/"
        },
        "id": "zmGERQCUDWEW",
        "outputId": "87ae316e-0178-4127-b49f-9ffa37d04da6"
      },
      "execution_count": null,
      "outputs": [
        {
          "output_type": "stream",
          "name": "stdout",
          "text": [
            "Letra A:\n",
            "Contactos antecesores: ['J', 'N', 'B', 'F', 'H', 'U', 'C']\n",
            "Contactos sucesores: ['Q', 'D', 'N', 'S', 'R', 'W', 'Z', 'V', 'I', 'F', 'H', 'X', 'O', 'C', 'E']\n",
            "Frecuencia de contactos:\n",
            "C: 10\n",
            "D: 1\n",
            "E: 12\n",
            "F: 3\n",
            "H: 2\n",
            "I: 1\n",
            "N: 10\n",
            "O: 1\n",
            "Q: 2\n",
            "R: 3\n",
            "S: 1\n",
            "V: 1\n",
            "W: 1\n",
            "X: 1\n",
            "Z: 2\n",
            "---------------------\n",
            "Letra B:\n",
            "Contactos antecesores: ['K', 'N', 'R', 'Z', 'V', 'Y', 'U', 'X', 'O', 'C']\n",
            "Contactos sucesores: ['J', 'Q', 'S', 'N', 'R', 'Z', 'A', 'F', 'M', 'H', 'X', 'C']\n",
            "Frecuencia de contactos:\n",
            "A: 5\n",
            "C: 4\n",
            "F: 1\n",
            "H: 3\n",
            "J: 1\n",
            "M: 1\n",
            "N: 1\n",
            "Q: 2\n",
            "R: 2\n",
            "S: 2\n",
            "X: 2\n",
            "Z: 2\n",
            "---------------------\n",
            "Letra C:\n",
            "Contactos antecesores: ['J', 'Q', 'D', 'N', 'Z', 'A', 'B', 'F', 'H', 'C']\n",
            "Contactos sucesores: ['J', 'N', 'Z', 'P', 'B', 'F', 'A', 'H', 'C']\n",
            "Frecuencia de contactos:\n",
            "A: 1\n",
            "B: 2\n",
            "C: 2\n",
            "F: 8\n",
            "H: 15\n",
            "J: 1\n",
            "N: 9\n",
            "P: 1\n",
            "Z: 1\n",
            "---------------------\n",
            "Letra D:\n",
            "Contactos antecesores: ['J', 'D', 'N', 'Z', 'A', 'F', 'H']\n",
            "Contactos sucesores: ['J', 'D', 'Z', 'F', 'H', 'U', 'C', 'E']\n",
            "Frecuencia de contactos:\n",
            "C: 1\n",
            "D: 1\n",
            "E: 3\n",
            "F: 1\n",
            "H: 3\n",
            "J: 1\n",
            "U: 1\n",
            "Z: 1\n",
            "---------------------\n",
            "Letra E:\n",
            "Contactos antecesores: ['D', 'N', 'Z', 'A', 'H', 'U']\n",
            "Contactos sucesores: ['H', 'J', 'F', 'N']\n",
            "Frecuencia de contactos:\n",
            "F: 3\n",
            "H: 11\n",
            "J: 7\n",
            "N: 2\n",
            "---------------------\n",
            "Letra F:\n",
            "Contactos antecesores: ['K', 'Q', 'D', 'S', 'R', 'Z', 'V', 'I', 'A', 'B', 'U', 'X', 'O', 'C', 'E']\n",
            "Contactos sucesores: ['J', 'Q', 'D', 'N', 'W', 'Z', 'V', 'P', 'A', 'U', 'X', 'C']\n",
            "Frecuencia de contactos:\n",
            "A: 8\n",
            "C: 2\n",
            "D: 2\n",
            "J: 1\n",
            "N: 2\n",
            "P: 1\n",
            "Q: 2\n",
            "U: 7\n",
            "V: 7\n",
            "W: 1\n",
            "X: 3\n",
            "Z: 5\n",
            "---------------------\n",
            "Letra G:\n",
            "Contactos antecesores: ['H']\n",
            "Contactos sucesores: []\n",
            "Frecuencia de contactos:\n",
            "---------------------\n",
            "Letra H:\n",
            "Contactos antecesores: ['K', 'Q', 'J', 'D', 'N', 'W', 'Z', 'V', 'B', 'A', 'M', 'H', 'U', 'X', 'O', 'C', 'E']\n",
            "Contactos sucesores: ['Q', 'S', 'Z', 'U', 'C', 'P', 'H', 'X', 'E', 'D', 'R', 'V', 'A', 'Y', 'M', 'K', 'N', 'G', 'O']\n",
            "Frecuencia de contactos:\n",
            "A: 19\n",
            "C: 7\n",
            "D: 1\n",
            "E: 4\n",
            "G: 1\n",
            "H: 4\n",
            "K: 2\n",
            "M: 1\n",
            "N: 1\n",
            "O: 1\n",
            "P: 2\n",
            "Q: 10\n",
            "R: 1\n",
            "S: 1\n",
            "U: 8\n",
            "V: 4\n",
            "X: 8\n",
            "Y: 2\n",
            "Z: 13\n",
            "---------------------\n",
            "Letra I:\n",
            "Contactos antecesores: ['J', 'A', 'N']\n",
            "Contactos sucesores: ['F', 'N']\n",
            "Frecuencia de contactos:\n",
            "F: 2\n",
            "N: 2\n",
            "---------------------\n",
            "Letra J:\n",
            "Contactos antecesores: ['K', 'Q', 'S', 'D', 'R', 'N', 'Z', 'V', 'P', 'B', 'F', 'M', 'X', 'C', 'E']\n",
            "Contactos sucesores: ['K', 'Q', 'D', 'N', 'Z', 'V', 'I', 'A', 'M', 'H', 'X', 'C']\n",
            "Frecuencia de contactos:\n",
            "A: 5\n",
            "C: 1\n",
            "D: 1\n",
            "H: 10\n",
            "I: 1\n",
            "K: 1\n",
            "M: 1\n",
            "N: 2\n",
            "Q: 3\n",
            "V: 1\n",
            "X: 3\n",
            "Z: 3\n",
            "---------------------\n",
            "Letra K:\n",
            "Contactos antecesores: ['J', 'N', 'Z', 'V', 'H', 'U']\n",
            "Contactos sucesores: ['J', 'Q', 'B', 'F', 'H', 'U']\n",
            "Frecuencia de contactos:\n",
            "B: 1\n",
            "F: 2\n",
            "H: 3\n",
            "J: 1\n",
            "Q: 1\n",
            "U: 1\n",
            "---------------------\n",
            "Letra L:\n",
            "Contactos antecesores: []\n",
            "Contactos sucesores: []\n",
            "Frecuencia de contactos:\n",
            "---------------------\n",
            "Letra M:\n",
            "Contactos antecesores: ['J', 'N', 'B', 'M', 'H']\n",
            "Contactos sucesores: ['J', 'Q', 'M', 'H', 'U']\n",
            "Frecuencia de contactos:\n",
            "H: 1\n",
            "J: 1\n",
            "M: 1\n",
            "Q: 2\n",
            "U: 1\n",
            "---------------------\n",
            "Letra N:\n",
            "Contactos antecesores: ['J', 'Q', 'S', 'W', 'Z', 'V', 'I', 'A', 'F', 'B', 'H', 'U', 'X', 'O', 'C', 'E']\n",
            "Contactos sucesores: ['Q', 'S', 'Z', 'U', 'C', 'J', 'H', 'X', 'E', 'D', 'R', 'V', 'I', 'A', 'M', 'K', 'W', 'B', 'O']\n",
            "Frecuencia de contactos:\n",
            "A: 11\n",
            "B: 1\n",
            "C: 7\n",
            "D: 2\n",
            "E: 3\n",
            "H: 3\n",
            "I: 1\n",
            "J: 2\n",
            "K: 2\n",
            "M: 1\n",
            "O: 2\n",
            "Q: 3\n",
            "R: 1\n",
            "S: 3\n",
            "U: 3\n",
            "V: 4\n",
            "W: 1\n",
            "X: 5\n",
            "Z: 7\n",
            "---------------------\n",
            "Letra O:\n",
            "Contactos antecesores: ['Q', 'N', 'Z', 'A', 'H']\n",
            "Contactos sucesores: ['H', 'B', 'F', 'N']\n",
            "Frecuencia de contactos:\n",
            "B: 1\n",
            "F: 1\n",
            "H: 3\n",
            "N: 2\n",
            "---------------------\n",
            "Letra P:\n",
            "Contactos antecesores: ['H', 'F', 'C']\n",
            "Contactos sucesores: ['J']\n",
            "Frecuencia de contactos:\n",
            "J: 5\n",
            "---------------------\n",
            "Letra Q:\n",
            "Contactos antecesores: ['J', 'Q', 'K', 'S', 'N', 'Z', 'A', 'F', 'B', 'M', 'H', 'U']\n",
            "Contactos sucesores: ['J', 'Q', 'N', 'F', 'H', 'U', 'X', 'O', 'C']\n",
            "Frecuencia de contactos:\n",
            "C: 2\n",
            "F: 5\n",
            "H: 6\n",
            "J: 1\n",
            "N: 9\n",
            "O: 1\n",
            "Q: 2\n",
            "U: 1\n",
            "X: 1\n",
            "---------------------\n",
            "Letra R:\n",
            "Contactos antecesores: ['N', 'A', 'B', 'H', 'U']\n",
            "Contactos sucesores: ['U', 'B', 'F', 'J']\n",
            "Frecuencia de contactos:\n",
            "B: 2\n",
            "F: 2\n",
            "J: 1\n",
            "U: 4\n",
            "---------------------\n",
            "Letra S:\n",
            "Contactos antecesores: ['N', 'Z', 'V', 'A', 'B', 'H']\n",
            "Contactos sucesores: ['J', 'Q', 'N', 'F', 'U']\n",
            "Frecuencia de contactos:\n",
            "F: 1\n",
            "J: 1\n",
            "N: 1\n",
            "Q: 4\n",
            "U: 1\n",
            "---------------------\n",
            "Letra T:\n",
            "Contactos antecesores: []\n",
            "Contactos sucesores: []\n",
            "Frecuencia de contactos:\n",
            "---------------------\n",
            "Letra U:\n",
            "Contactos antecesores: ['K', 'Q', 'S', 'R', 'N', 'D', 'F', 'M', 'H', 'U']\n",
            "Contactos sucesores: ['K', 'Q', 'N', 'R', 'W', 'Z', 'V', 'B', 'F', 'A', 'H', 'U', 'E']\n",
            "Frecuencia de contactos:\n",
            "A: 1\n",
            "B: 5\n",
            "E: 1\n",
            "F: 3\n",
            "H: 7\n",
            "K: 1\n",
            "N: 3\n",
            "Q: 2\n",
            "R: 1\n",
            "U: 2\n",
            "V: 1\n",
            "W: 1\n",
            "Z: 1\n",
            "---------------------\n",
            "Letra V:\n",
            "Contactos antecesores: ['J', 'N', 'A', 'F', 'H', 'U']\n",
            "Contactos sucesores: ['J', 'K', 'S', 'N', 'B', 'F', 'H']\n",
            "Frecuencia de contactos:\n",
            "B: 3\n",
            "F: 2\n",
            "H: 8\n",
            "J: 1\n",
            "K: 2\n",
            "N: 5\n",
            "S: 1\n",
            "---------------------\n",
            "Letra W:\n",
            "Contactos antecesores: ['N', 'Z', 'A', 'F', 'U', 'X']\n",
            "Contactos sucesores: ['H', 'N']\n",
            "Frecuencia de contactos:\n",
            "H: 2\n",
            "N: 2\n",
            "---------------------\n",
            "Letra X:\n",
            "Contactos antecesores: ['J', 'Q', 'N', 'Z', 'A', 'B', 'F', 'H']\n",
            "Contactos sucesores: ['J', 'N', 'W', 'B', 'F', 'H']\n",
            "Frecuencia de contactos:\n",
            "B: 3\n",
            "F: 10\n",
            "H: 2\n",
            "J: 2\n",
            "N: 4\n",
            "W: 1\n",
            "---------------------\n",
            "Letra Y:\n",
            "Contactos antecesores: ['H']\n",
            "Contactos sucesores: ['B']\n",
            "Frecuencia de contactos:\n",
            "B: 2\n",
            "---------------------\n",
            "Letra Z:\n",
            "Contactos antecesores: ['J', 'D', 'N', 'Z', 'A', 'F', 'B', 'H', 'U', 'C']\n",
            "Contactos sucesores: ['K', 'J', 'Q', 'S', 'N', 'D', 'W', 'Z', 'B', 'F', 'H', 'X', 'O', 'C', 'E']\n",
            "Frecuencia de contactos:\n",
            "B: 2\n",
            "C: 1\n",
            "D: 3\n",
            "E: 2\n",
            "F: 2\n",
            "H: 4\n",
            "J: 1\n",
            "K: 2\n",
            "N: 8\n",
            "O: 1\n",
            "Q: 1\n",
            "S: 1\n",
            "W: 1\n",
            "X: 2\n",
            "Z: 1\n",
            "---------------------\n"
          ]
        }
      ]
    },
    {
      "cell_type": "code",
      "source": [
        "texto = t\n",
        "alfabeto = \"abcdefghijklmnopqrstuvwxyz\"\n",
        "\n",
        "\n",
        "# Inicializar el diccionario de contactos\n",
        "contactos = {}\n",
        "\n",
        "for letra in alfabeto:\n",
        "    contactos[letra] = {}\n",
        "\n",
        "# Contar contactos\n",
        "letra_anterior = None\n",
        "for letra_actual in texto:\n",
        "    letra_actual = letra_actual.lower()\n",
        "    if letra_actual in alfabeto:\n",
        "        if letra_anterior is not None:\n",
        "            if letra_anterior in alfabeto:\n",
        "                if letra_actual in contactos[letra_anterior]:\n",
        "                    contactos[letra_anterior][letra_actual] += 1\n",
        "                else:\n",
        "                    contactos[letra_anterior][letra_actual] = 1\n",
        "        letra_anterior = letra_actual\n",
        "\n",
        "# Transponer la matriz de contactos\n",
        "contactos_t = {}\n",
        "for letra in alfabeto:\n",
        "    contactos_t[letra] = {}\n",
        "    for letra2 in alfabeto:\n",
        "        if letra2 in contactos[letra]:\n",
        "            contactos_t[letra][letra2] = contactos[letra][letra2]\n",
        "        else:\n",
        "            contactos_t[letra][letra2] = 0\n",
        "\n",
        "# Imprimir la tabla de contactos verticalmente\n",
        "print(\"|    |\", end=\"\")\n",
        "for letra in alfabeto:\n",
        "    print(f\" {letra.upper()} |\", end=\"\")\n",
        "print()\n",
        "print(\"|----\" + \"---|\"*26)\n",
        "for letra in alfabeto:\n",
        "    print(f\"| {letra.upper()} |\", end=\"\")\n",
        "    for letra2 in alfabeto:\n",
        "        print(f\" {contactos_t[letra][letra2]:2d} |\", end=\"\")\n",
        "    print()\n"
      ],
      "metadata": {
        "colab": {
          "base_uri": "https://localhost:8080/"
        },
        "id": "r0RiDSKSFIiQ",
        "outputId": "dc6a08f0-ffde-4073-df00-a6df3f92d525"
      },
      "execution_count": null,
      "outputs": [
        {
          "output_type": "stream",
          "name": "stdout",
          "text": [
            "|    | A | B | C | D | E | F | G | H | I | J | K | L | M | N | O | P | Q | R | S | T | U | V | W | X | Y | Z |\n",
            "|-------|---|---|---|---|---|---|---|---|---|---|---|---|---|---|---|---|---|---|---|---|---|---|---|---|---|\n",
            "| A |  0 |  1 | 10 |  1 | 14 |  5 |  0 |  2 |  1 |  0 |  0 |  0 |  0 | 13 |  1 |  0 |  3 |  4 |  1 |  0 |  0 |  1 |  1 |  1 |  0 |  2 |\n",
            "| B |  5 |  0 |  6 |  0 |  0 |  1 |  0 |  5 |  0 |  1 |  0 |  0 |  1 |  3 |  0 |  0 |  2 |  2 |  2 |  0 |  0 |  0 |  0 |  3 |  0 |  2 |\n",
            "| C |  1 |  4 |  2 |  0 |  0 |  8 |  0 | 17 |  0 |  1 |  0 |  0 |  0 | 10 |  0 |  1 |  0 |  0 |  0 |  0 |  0 |  0 |  0 |  0 |  0 |  1 |\n",
            "| D |  0 |  0 |  1 |  1 |  3 |  2 |  0 |  3 |  0 |  1 |  0 |  0 |  0 |  0 |  0 |  0 |  0 |  0 |  0 |  0 |  1 |  0 |  0 |  0 |  0 |  2 |\n",
            "| E |  0 |  0 |  0 |  0 |  0 |  4 |  0 | 12 |  0 | 11 |  0 |  0 |  0 |  2 |  0 |  0 |  0 |  0 |  0 |  0 |  0 |  0 |  0 |  0 |  0 |  0 |\n",
            "| F | 12 |  0 |  2 |  4 |  0 |  0 |  0 |  0 |  0 |  1 |  0 |  0 |  0 |  2 |  0 |  4 |  2 |  1 |  0 |  0 |  9 |  8 |  1 |  4 |  0 |  6 |\n",
            "| G |  0 |  0 |  0 |  0 |  0 |  1 |  0 |  0 |  0 |  0 |  0 |  0 |  0 |  0 |  0 |  0 |  0 |  0 |  0 |  0 |  0 |  0 |  0 |  0 |  0 |  0 |\n",
            "| H | 22 |  0 |  9 |  1 |  5 |  0 |  1 |  6 |  1 |  1 |  2 |  0 |  1 |  2 |  1 |  2 | 12 |  1 |  1 |  0 | 12 |  6 |  0 |  8 |  2 | 15 |\n",
            "| I |  0 |  0 |  0 |  0 |  0 |  2 |  0 |  0 |  0 |  0 |  0 |  0 |  0 |  2 |  0 |  0 |  0 |  0 |  0 |  0 |  0 |  0 |  0 |  0 |  0 |  0 |\n",
            "| J |  6 |  0 |  2 |  1 |  0 |  0 |  0 | 11 |  1 |  0 |  1 |  0 |  1 |  3 |  0 |  0 |  4 |  0 |  0 |  0 |  0 |  1 |  0 |  4 |  0 |  3 |\n",
            "| K |  0 |  1 |  0 |  0 |  0 |  2 |  0 |  4 |  0 |  1 |  0 |  0 |  0 |  0 |  0 |  0 |  1 |  0 |  0 |  0 |  2 |  0 |  0 |  0 |  0 |  0 |\n",
            "| L |  0 |  0 |  0 |  0 |  0 |  0 |  0 |  0 |  0 |  0 |  0 |  0 |  0 |  0 |  0 |  0 |  0 |  0 |  0 |  0 |  0 |  0 |  0 |  0 |  0 |  0 |\n",
            "| M |  0 |  0 |  0 |  0 |  0 |  0 |  0 |  1 |  0 |  1 |  0 |  0 |  1 |  0 |  0 |  0 |  2 |  0 |  0 |  0 |  1 |  0 |  0 |  0 |  0 |  0 |\n",
            "| N | 13 |  2 |  9 |  3 |  3 |  0 |  0 |  3 |  2 |  2 |  2 |  0 |  2 |  0 |  2 |  0 |  5 |  1 |  3 |  0 |  5 |  5 |  1 |  5 |  0 |  8 |\n",
            "| O |  0 |  2 |  0 |  0 |  0 |  1 |  0 |  3 |  0 |  0 |  0 |  0 |  0 |  2 |  0 |  0 |  0 |  0 |  0 |  0 |  0 |  0 |  0 |  0 |  0 |  0 |\n",
            "| P |  0 |  0 |  0 |  0 |  0 |  0 |  0 |  0 |  0 |  7 |  0 |  0 |  0 |  0 |  0 |  0 |  0 |  0 |  0 |  0 |  0 |  0 |  0 |  0 |  0 |  0 |\n",
            "| Q |  0 |  1 |  2 |  0 |  0 |  7 |  0 | 11 |  0 |  2 |  0 |  0 |  0 | 11 |  2 |  0 |  4 |  0 |  0 |  0 |  1 |  0 |  0 |  1 |  0 |  0 |\n",
            "| R |  0 |  2 |  0 |  0 |  0 |  2 |  0 |  0 |  0 |  1 |  0 |  0 |  0 |  0 |  0 |  0 |  0 |  0 |  0 |  0 |  5 |  0 |  0 |  0 |  0 |  0 |\n",
            "| S |  0 |  0 |  0 |  0 |  0 |  1 |  0 |  0 |  0 |  1 |  0 |  0 |  0 |  1 |  0 |  0 |  4 |  0 |  0 |  0 |  2 |  0 |  0 |  0 |  0 |  0 |\n",
            "| T |  0 |  0 |  0 |  0 |  0 |  0 |  0 |  0 |  0 |  0 |  0 |  0 |  0 |  0 |  0 |  0 |  0 |  0 |  0 |  0 |  0 |  0 |  0 |  0 |  0 |  0 |\n",
            "| U |  2 |  7 |  0 |  0 |  2 |  3 |  0 | 12 |  0 |  0 |  1 |  0 |  0 |  5 |  0 |  0 |  2 |  1 |  0 |  0 |  3 |  1 |  1 |  0 |  0 |  1 |\n",
            "| V |  0 |  3 |  0 |  0 |  0 |  2 |  0 | 10 |  0 |  1 |  2 |  0 |  0 |  6 |  0 |  0 |  0 |  0 |  1 |  0 |  0 |  0 |  0 |  0 |  0 |  0 |\n",
            "| W |  0 |  0 |  0 |  0 |  0 |  0 |  0 |  2 |  0 |  2 |  0 |  0 |  0 |  2 |  0 |  0 |  0 |  0 |  0 |  0 |  0 |  0 |  0 |  0 |  0 |  0 |\n",
            "| X |  0 |  5 |  0 |  0 |  0 | 13 |  0 |  4 |  0 |  2 |  0 |  0 |  0 |  4 |  0 |  0 |  0 |  0 |  0 |  0 |  0 |  0 |  1 |  0 |  0 |  0 |\n",
            "| Y |  0 |  2 |  0 |  0 |  0 |  0 |  0 |  0 |  0 |  0 |  0 |  0 |  0 |  0 |  0 |  0 |  0 |  0 |  0 |  0 |  0 |  0 |  0 |  0 |  0 |  0 |\n",
            "| Z |  0 |  3 |  2 |  3 |  2 |  2 |  0 |  5 |  0 |  2 |  3 |  0 |  0 |  8 |  2 |  0 |  1 |  0 |  1 |  0 |  0 |  2 |  1 |  3 |  0 |  1 |\n"
          ]
        }
      ]
    },
    {
      "cell_type": "code",
      "source": [
        "def mcd(numA, numB: int):\n",
        "    \"\"\"\n",
        "    Calcula el Maximo Comun Divisor de un numero A y B\n",
        "    \"\"\"\n",
        "    if numB == 0:\n",
        "        return numA\n",
        "    return mcd(numB, numA % numB)\n",
        "\n",
        "def son_coprimos(numA, numB: int):\n",
        "    \"\"\"\n",
        "    Determina si los numeros A y B son coprimos entre si\n",
        "    \"\"\"\n",
        "    return (mcd(numA, numB) == 1)\n",
        "\n",
        "def inv_mul_modulo(numA, mod: int):\n",
        "    \"\"\"\n",
        "    Calcula el inverso multiplicativo de A modulo mod\n",
        "    \"\"\"\n",
        "    if (son_coprimos(numA, mod) == False):\n",
        "        return -1\n",
        "    else:\n",
        "        g, x, y = egcd(numA, mod)\n",
        "        return x % mod\n",
        "\n",
        "def egcd(numA, mod: int):\n",
        "    \"\"\"\n",
        "    Auxiliar para calcular el inverso multiplicativo de A modulo mod\n",
        "    \"\"\"\n",
        "    if numA == 0:\n",
        "        return (mod, 0, 1)\n",
        "    else:\n",
        "        g, y, x = egcd(mod % numA, numA)\n",
        "        return (g, x - (mod // numA) * y, y)\n",
        "\n",
        "print(inv_mul_modulo(82, 2779))"
      ],
      "metadata": {
        "colab": {
          "base_uri": "https://localhost:8080/"
        },
        "id": "xwlprajjJx2P",
        "outputId": "b8b3fbdf-26c8-465d-e10a-ebb2981f79af"
      },
      "execution_count": null,
      "outputs": [
        {
          "output_type": "stream",
          "name": "stdout",
          "text": [
            "2474\n"
          ]
        }
      ]
    },
    {
      "cell_type": "markdown",
      "source": [
        "En la tarea resolvimos:\n",
        "\n",
        "### 6. ¿Cuántos cifrados afines diferentes se pueden hacer con un alfabeto de 29 letras? La respuesta fue 812. Ahora la pregunta es:\n",
        "\n",
        "# ¿Cuántos cifrados afines diferentes se pueden hacer con un alfabeto de 64 letras?\n",
        "Se pueden hacer un total de x cifrados afines diferentes con un alfabeto de 64 letras.\n",
        "\n",
        "Para calcular el número de cifrados afines diferentes es usamos la siguiente fórmula $mcd(a, n) * n$, donde $a$ es el tamaño del alfabeto y $n$ es el número de letras que se pueden desplazar. En este caso, $a = 64$ y $n = 63$, ya que el número máximo de letras que se pueden desplazar es $a - 1$. Entonces, necesitamos calcular el máximo común divisor entre $a$ y $n$:"
      ],
      "metadata": {
        "id": "WAHJJsu7RFVv"
      }
    },
    {
      "cell_type": "code",
      "source": [
        "a = 64\n",
        "n = 63\n",
        "mcd(a, n) == mcd(n, 1)"
      ],
      "metadata": {
        "colab": {
          "base_uri": "https://localhost:8080/"
        },
        "id": "rDISLmaFRG1F",
        "outputId": "ed5f3480-a3d8-44ab-986e-5f8db179a6bc"
      },
      "execution_count": null,
      "outputs": [
        {
          "output_type": "execute_result",
          "data": {
            "text/plain": [
              "True"
            ]
          },
          "metadata": {},
          "execution_count": 9
        }
      ]
    },
    {
      "cell_type": "markdown",
      "source": [
        "Por lo tanto, el número de cifrados afines diferentes que se pueden hacer es:"
      ],
      "metadata": {
        "id": "-HRL68xkRZrd"
      }
    },
    {
      "cell_type": "code",
      "source": [
        "mcd(a, n) * n"
      ],
      "metadata": {
        "colab": {
          "base_uri": "https://localhost:8080/"
        },
        "id": "ZPNfhY_6Rcha",
        "outputId": "1a70eca5-9d3c-4074-f866-e362bdcf0ce0"
      },
      "execution_count": null,
      "outputs": [
        {
          "output_type": "execute_result",
          "data": {
            "text/plain": [
              "63"
            ]
          },
          "metadata": {},
          "execution_count": 10
        }
      ]
    },
    {
      "cell_type": "markdown",
      "source": [
        "De lo anterior hay 63 posibles valores para b (la letra que se puede desplazar), y para cada valor de b, hay 64 posibles valores para a (la constante de multiplicación). Por lo tanto, el número total de cifrados afines diferentes es: 4032\n"
      ],
      "metadata": {
        "id": "G3Uc0dl2Rp-h"
      }
    },
    {
      "cell_type": "code",
      "source": [
        " a*n"
      ],
      "metadata": {
        "colab": {
          "base_uri": "https://localhost:8080/"
        },
        "id": "8Zn_ynysS_oD",
        "outputId": "c7859776-b10d-4bc7-98df-ae2ad7babb9a"
      },
      "execution_count": null,
      "outputs": [
        {
          "output_type": "execute_result",
          "data": {
            "text/plain": [
              "4032"
            ]
          },
          "metadata": {},
          "execution_count": 11
        }
      ]
    },
    {
      "cell_type": "code",
      "source": [
        "33*82+13"
      ],
      "metadata": {
        "colab": {
          "base_uri": "https://localhost:8080/"
        },
        "id": "S2hE1vnnaymy",
        "outputId": "6a028f35-16b3-4f84-a7f1-0856c1769fc1"
      },
      "execution_count": null,
      "outputs": [
        {
          "output_type": "execute_result",
          "data": {
            "text/plain": [
              "2719"
            ]
          },
          "metadata": {},
          "execution_count": 26
        }
      ]
    },
    {
      "cell_type": "code",
      "source": [
        "#!pip3 install unidecode # only execute the first time, after commenting\n",
        "from unidecode import unidecode\n",
        "import re\n",
        "\n",
        "def clean_text(input_text):\n",
        "    cleaned_text = unidecode(input_text).upper()\n",
        "    cleaned_text = re.sub(r'[^A-Z]', '', cleaned_text)  # elimina caracteres no alfabéticos\n",
        "    return cleaned_text"
      ],
      "metadata": {
        "id": "X3ay6pfnUvUZ"
      },
      "execution_count": null,
      "outputs": []
    },
    {
      "cell_type": "code",
      "source": [
        "import string\n",
        "\n",
        "def vigenere_encrypt(plain_text:string, key:string):\n",
        "    \"\"\"\n",
        "    Aplica el cifrado de vigenere a un texto dado:plain_text\n",
        "    con la clave:key dada y retorna el texto cifrado.\n",
        "    \"\"\"\n",
        "    alphabet = string.ascii_lowercase # almacena todas las letras del alfabeto en minúscula\n",
        "    table = [alphabet[(i + j) % 26] for i in range(26) for j in range(26)] # Tabla de Vigenere\n",
        "    plain_text = clean_text(plain_text).lower() # limpiamos el texto y lo pasamos a letras minusculas\n",
        "    key = key.lower()\n",
        "    key = key * (len(plain_text) // len(key) + 1) # Igualamos nuestra clave al tamaño de nuestro texto\n",
        "    cipher_text = \"\"\n",
        "    for i, c in enumerate(plain_text): # i: indice de la letra actual en el texto plano, c: letra actual en el texto plano.\n",
        "        index = alphabet.index(c) # Índice de la letra en\n",
        "        desplazamiento = alphabet.index(key[i]) # Determinar el desplazamiento necesario en la tabla de Vigenere.\n",
        "        cipher_text += table[index * 26 + desplazamiento] # Concatenamos la letra cifrada\n",
        "    return cipher_text.upper()\n",
        "\n",
        "key = \"noviembre\"\n",
        "texto2 = \"José Manuel Pedro Méndez\"\n",
        "texto2_clean = clean_text(texto2)\n",
        "print(\"Texto Base:\\n\", texto2)\n",
        "print(\"Texto limpio:\\n\", texto2_clean)\n",
        "texto_cifrado_vigenere = vigenere_encrypt(texto2_clean, key)\n",
        "print(f\"Tras cifrar con Vigenere con la palabra clave: {key}.\\n\",texto_cifrado_vigenere)\n",
        "print(\"NOS RIFAMOS :D\")"
      ],
      "metadata": {
        "colab": {
          "base_uri": "https://localhost:8080/"
        },
        "id": "2Co5rEXvUbaO",
        "outputId": "dbd3ad41-0460-4771-ac8a-9548efbf945b"
      },
      "execution_count": null,
      "outputs": [
        {
          "output_type": "stream",
          "name": "stdout",
          "text": [
            "Texto Base:\n",
            " José Manuel Pedro Méndez\n",
            "Texto limpio:\n",
            " JOSEMANUELPEDROMENDEZ\n",
            "Tras cifrar con Vigenere con la palabra clave: noviembre.\n",
            " WCNMQMOLIYDZLVANVRQSU\n",
            "NOS RIFAMOS :D\n"
          ]
        }
      ]
    }
  ]
}